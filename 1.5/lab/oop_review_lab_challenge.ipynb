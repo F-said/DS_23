{
 "cells": [
  {
   "cell_type": "markdown",
   "metadata": {},
   "source": [
    "## Loading in a CSV \n",
    "\n",
    "Attached to this lab, we have a csv file called `class_list.csv`. This file describes a cohort of fellows. Each row contains a name, a track, and who each fellow knows. (This is a randomly generated csv, no basis in reality).\n",
    "\n",
    "Using the csv module, its' documentation below, and any online resource that you can locate, load this file into memory using Python. Some starter code has been provided below.\n",
    "\n",
    "https://docs.python.org/3/library/csv.html"
   ]
  },
  {
   "cell_type": "code",
   "execution_count": null,
   "metadata": {},
   "outputs": [],
   "source": [
    "import csv\n",
    "\n",
    "with open('class_list.csv', 'r') as csvfile:\n",
    "    pass"
   ]
  },
  {
   "cell_type": "markdown",
   "metadata": {},
   "source": [
    "## Getting a List of Objects\n",
    "\n",
    "Now that you've loaded this file into memory, utilize your control flow structure to save each row as a \"Fellow\" object. Keep in mind, you must bring in your completed \"Fellow\" class from the regular challenge in order to accomplish this.\n",
    "\n",
    "Once again, utilize the internet, documentation, and your peers."
   ]
  },
  {
   "cell_type": "code",
   "execution_count": null,
   "metadata": {},
   "outputs": [],
   "source": [
    "import csv\n",
    "\n",
    "fellows = []\n",
    "with open('class_list.csv', 'r') as csvfile:\n",
    "    pass"
   ]
  }
 ],
 "metadata": {
  "kernelspec": {
   "display_name": "Python 3.10.7 64-bit",
   "language": "python",
   "name": "python3"
  },
  "language_info": {
   "name": "python",
   "version": "3.10.7"
  },
  "orig_nbformat": 4,
  "vscode": {
   "interpreter": {
    "hash": "369f2c481f4da34e4445cda3fffd2e751bd1c4d706f27375911949ba6bb62e1c"
   }
  }
 },
 "nbformat": 4,
 "nbformat_minor": 2
}
