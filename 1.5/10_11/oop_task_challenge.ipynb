{
 "cells": [
  {
   "cell_type": "markdown",
   "metadata": {},
   "source": [
    "## Creating your own set class\n",
    "\n",
    "Create a class called `intSet` that will take in a list of numbers and treat it like a set but without explicitly using the `set()` method.\n",
    "\n",
    "Ensure that the following behavior stays the same:\n",
    " * Once the list of nums is passed in, all duplicates are removed\n",
    " * We can get the intersection\n",
    " * We can get the union"
   ]
  },
  {
   "cell_type": "code",
   "execution_count": null,
   "metadata": {},
   "outputs": [],
   "source": [
    "class intSet():\n",
    "    \"\"\"Class to transform a list into a set without using set.\n",
    "\n",
    "    Instance Variables\n",
    "    ------------------\n",
    "    nums : list\n",
    "        a list of integers\n",
    "\n",
    "    Public Methods\n",
    "    ----------\n",
    "    intersection(self, other):\n",
    "        Function to get intersection with other intSet\n",
    "    union(self, others):\n",
    "        Function to get intersection with other intSet\n",
    "    \"\"\"\n",
    "    pass"
   ]
  }
 ],
 "metadata": {
  "kernelspec": {
   "display_name": "Python 3.10.7 64-bit",
   "language": "python",
   "name": "python3"
  },
  "language_info": {
   "name": "python",
   "version": "3.10.7 (tags/v3.10.7:6cc6b13, Sep  5 2022, 14:08:36) [MSC v.1933 64 bit (AMD64)]"
  },
  "orig_nbformat": 4,
  "vscode": {
   "interpreter": {
    "hash": "369f2c481f4da34e4445cda3fffd2e751bd1c4d706f27375911949ba6bb62e1c"
   }
  }
 },
 "nbformat": 4,
 "nbformat_minor": 2
}
