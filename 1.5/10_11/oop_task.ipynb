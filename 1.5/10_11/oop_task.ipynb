{
 "cells": [
  {
   "cell_type": "markdown",
   "metadata": {},
   "source": [
    "## Q1\n",
    "\n",
    "What method is the name of the called when an object is created?\n",
    "\n",
    "Uncomment the correct method. We are looking for the correct answer inside of the print function & quotes."
   ]
  },
  {
   "cell_type": "code",
   "execution_count": null,
   "metadata": {},
   "outputs": [],
   "source": [
    "# print(\"self\")\n",
    "# print(\"init\")\n",
    "# print(\"__init__\")\n",
    "# print(\"class\")"
   ]
  },
  {
   "cell_type": "markdown",
   "metadata": {},
   "source": [
    "## Q2\n",
    "\n",
    "Which would be the proper line of code to assign an instance variable called \"num\"?\n",
    "\n",
    "Uncomment the correct line of code. We are looking for the correct answer inside of the print function & quotes."
   ]
  },
  {
   "cell_type": "code",
   "execution_count": null,
   "metadata": {},
   "outputs": [],
   "source": [
    "# print(\"num = num\")\n",
    "# print(\"self.num = num\")\n",
    "# print(\"self = self\")\n",
    "# print(\"num.self = self\")"
   ]
  },
  {
   "cell_type": "markdown",
   "metadata": {},
   "source": [
    "## Completing a Class\n",
    "\n",
    "Below you have an incomplete class. Each question will have you writing either correcting or implementing an intended line of code.\n",
    "\n",
    "Look through questions Q3 - Q5 to find out what you need to implement. \n",
    "\n",
    "The code below this class is a test that you can use to verify that your code is correct."
   ]
  },
  {
   "cell_type": "code",
   "execution_count": 3,
   "metadata": {},
   "outputs": [],
   "source": [
    "class TextAnalyzer:\n",
    "    \"\"\"Class to figure out a piece of text is positive or negative.\n",
    "\n",
    "    Instance Variables\n",
    "    ------------------\n",
    "    parag : str\n",
    "        a string representing a paragraph from a review\n",
    "\n",
    "    Public Methods\n",
    "    ----------\n",
    "    get_sentiment(self):\n",
    "        Function to get positive and negative score of paragraph.\n",
    "    \"\"\"\n",
    "    ## Q3 Modify the __init__ method to take in the \"parag\" param\n",
    "    def __init__(self, parag):\n",
    "        ## Q4 Write the correct line of code to save \"parag\" as an instance variable (remove pass)\n",
    "        self.parag = parag\n",
    "    \n",
    "    def get_sentiment(self):\n",
    "        positives = {\"great\", \"good\", \"wonderful\", \"excellent\", \"happy\"}\n",
    "        negatives = {\"bad\", \"terrible\", \"abysmal\", \"complex\", \"lack\"}\n",
    "        pos_score = 0\n",
    "        neg_score = 0\n",
    "\n",
    "        ## Q5 Modify this function so that we are using the instance variable `self.parag` instead of `parag`\n",
    "        for word in self.parag.split():\n",
    "            if word in positives:\n",
    "                pos_score += 1\n",
    "            elif word in negatives:\n",
    "                neg_score += 1\n",
    "\n",
    "        return pos_score, neg_score\n",
    "\n"
   ]
  },
  {
   "cell_type": "code",
   "execution_count": 4,
   "metadata": {},
   "outputs": [
    {
     "name": "stdout",
     "output_type": "stream",
     "text": [
      "This was a negative review.\n"
     ]
    }
   ],
   "source": [
    "## Do not modify code below!!!\n",
    "\n",
    "test = TextAnalyzer(\"This was a terrible experience. I ordered this two months ago and it came in abysmal condition. lack of support.\")\n",
    "\n",
    "pos, neg = test.get_sentiment()\n",
    "\n",
    "if pos > neg:\n",
    "    print(\"This was a positive review\")\n",
    "elif pos < neg:\n",
    "    print(\"This was a negative review.\")\n",
    "else:\n",
    "    print(\"This was a neutral review\")"
   ]
  },
  {
   "cell_type": "markdown",
   "metadata": {},
   "source": [
    "## Q3\n",
    "\n",
    "Modify the `__init__` method to take in the \"parag\" param."
   ]
  },
  {
   "cell_type": "markdown",
   "metadata": {},
   "source": [
    "## Q4\n",
    "\n",
    "Write the correct line of code to save \"parag\" as an instance variable (remove pass)."
   ]
  },
  {
   "cell_type": "markdown",
   "metadata": {},
   "source": [
    "## Q5\n",
    "\n",
    "Modify this function so that we are using the instance variable `self.parag` instead of `parag`. This will only involve changing **one** line of code."
   ]
  },
  {
   "cell_type": "markdown",
   "metadata": {},
   "source": [
    "## Class Creation\n",
    "\n",
    "Create a class called  `Statistics` that will take in a list of numbers and will contain functions that compute the mean, the max, and the min of these list of numbers."
   ]
  },
  {
   "cell_type": "code",
   "execution_count": 5,
   "metadata": {},
   "outputs": [],
   "source": [
    "class Statistics:\n",
    "    \"\"\"Class to compute statistics on list of nums\n",
    "\n",
    "    Instance Variables\n",
    "    ------------------\n",
    "    nums : list\n",
    "        a list of integers\n",
    "\n",
    "    Public Methods\n",
    "    ----------\n",
    "    get_mean(self):\n",
    "        Get mean or average of this list of numbers\n",
    "    get_max(self):\n",
    "        Get max of this list of numbers\n",
    "    get_min(self):\n",
    "        Get min of this list of numbers\n",
    "    \"\"\"\n",
    "    def __init__(self, nums):\n",
    "        self.nums = nums\n",
    "    \n",
    "    def get_mean(self):\n",
    "        result = sum(self.nums) / len(self.nums)\n",
    "        return result\n",
    "    \n",
    "    def get_max(self):\n",
    "        return max(self.nums)\n",
    "\n",
    "    def get_min(self):\n",
    "        return min(self.nums)\n"
   ]
  },
  {
   "cell_type": "code",
   "execution_count": 7,
   "metadata": {},
   "outputs": [
    {
     "name": "stdout",
     "output_type": "stream",
     "text": [
      "5.5\n"
     ]
    },
    {
     "ename": "AttributeError",
     "evalue": "'Statistics' object has no attribute 'get_max'",
     "output_type": "error",
     "traceback": [
      "\u001b[1;31m---------------------------------------------------------------------------\u001b[0m",
      "\u001b[1;31mAttributeError\u001b[0m                            Traceback (most recent call last)",
      "\u001b[1;32mc:\\Users\\saidmf\\Desktop\\TKH\\DS_22\\phase_1\\week_5\\oop\\oop_task.ipynb Cell 13\u001b[0m in \u001b[0;36m<cell line: 5>\u001b[1;34m()\u001b[0m\n\u001b[0;32m      <a href='vscode-notebook-cell:/c%3A/Users/saidmf/Desktop/TKH/DS_22/phase_1/week_5/oop/oop_task.ipynb#X23sZmlsZQ%3D%3D?line=2'>3</a>\u001b[0m test \u001b[39m=\u001b[39m Statistics([\u001b[39m1\u001b[39m,\u001b[39m2\u001b[39m,\u001b[39m3\u001b[39m,\u001b[39m4\u001b[39m,\u001b[39m5\u001b[39m,\u001b[39m6\u001b[39m,\u001b[39m7\u001b[39m,\u001b[39m8\u001b[39m,\u001b[39m9\u001b[39m,\u001b[39m10\u001b[39m])\n\u001b[0;32m      <a href='vscode-notebook-cell:/c%3A/Users/saidmf/Desktop/TKH/DS_22/phase_1/week_5/oop/oop_task.ipynb#X23sZmlsZQ%3D%3D?line=3'>4</a>\u001b[0m \u001b[39mprint\u001b[39m(test\u001b[39m.\u001b[39mget_mean())\n\u001b[1;32m----> <a href='vscode-notebook-cell:/c%3A/Users/saidmf/Desktop/TKH/DS_22/phase_1/week_5/oop/oop_task.ipynb#X23sZmlsZQ%3D%3D?line=4'>5</a>\u001b[0m \u001b[39mprint\u001b[39m(test\u001b[39m.\u001b[39;49mget_max())\n",
      "\u001b[1;31mAttributeError\u001b[0m: 'Statistics' object has no attribute 'get_max'"
     ]
    }
   ],
   "source": [
    "## This code is purely for testing. Do not modify\n",
    "\n",
    "test = Statistics([1,2,3,4,5,6,7,8,9,10])\n",
    "print(test.get_mean())\n",
    "print(test.get_max())\n",
    "#print(test.get_min())"
   ]
  }
 ],
 "metadata": {
  "kernelspec": {
   "display_name": "Python 3.10.7 64-bit",
   "language": "python",
   "name": "python3"
  },
  "language_info": {
   "codemirror_mode": {
    "name": "ipython",
    "version": 3
   },
   "file_extension": ".py",
   "mimetype": "text/x-python",
   "name": "python",
   "nbconvert_exporter": "python",
   "pygments_lexer": "ipython3",
   "version": "3.10.7 (tags/v3.10.7:6cc6b13, Sep  5 2022, 14:08:36) [MSC v.1933 64 bit (AMD64)]"
  },
  "orig_nbformat": 4,
  "vscode": {
   "interpreter": {
    "hash": "369f2c481f4da34e4445cda3fffd2e751bd1c4d706f27375911949ba6bb62e1c"
   }
  }
 },
 "nbformat": 4,
 "nbformat_minor": 2
}
