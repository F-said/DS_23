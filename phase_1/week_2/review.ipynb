{
 "cells": [
  {
   "cell_type": "code",
   "execution_count": 54,
   "metadata": {},
   "outputs": [
    {
     "name": "stdout",
     "output_type": "stream",
     "text": [
      "<class 'str'>\n",
      "<class 'int'>\n"
     ]
    }
   ],
   "source": [
    "# integer type-cast\n",
    "test = '5'\n",
    "\n",
    "print(type(test))\n",
    "\n",
    "x = int(test)\n",
    "\n",
    "x += 5\n",
    "\n",
    "print(type(x))\n",
    "#print(int('5'))\n",
    "\n",
    "# bool type-cast\n",
    "#print(bool('5'))\n",
    "\n",
    "# str type-cast\n",
    "#print(str(5))\n",
    "\n",
    "# lists to sets\n",
    "# guarantee: the elements are ordered\n",
    "lst = [1, 2, 3, 3]\n",
    "\n",
    "lst.append(4)\n",
    "lst.remove(3)\n",
    "#print(lst)\n",
    "\n",
    "#print(lst[0])\n",
    "#print(lst[1])\n",
    "#print(lst[1:3])\n",
    "#print(set(lst))\n",
    "\n",
    "# sets to lists\n",
    "# mixed bag of elements\n",
    "# guarantee: the elements unique\n",
    "st = {1, \"a\", \"b\"}\n",
    "\n",
    "#print(list(st))\n",
    "\n",
    "\n"
   ]
  },
  {
   "cell_type": "code",
   "execution_count": 17,
   "metadata": {},
   "outputs": [
    {
     "name": "stdout",
     "output_type": "stream",
     "text": [
      "3\n",
      "2\n",
      "False\n"
     ]
    }
   ],
   "source": [
    "# dictionary\n",
    "\n",
    "grocery_list = { \n",
    "    \"pepper\":3, \n",
    "    \"chicken\":2, \n",
    "    \"broccoli\":5, \n",
    "    5: \"hello\",\n",
    "    True: False  \n",
    "}\n",
    "\n",
    "print(grocery_list[\"pepper\"])\n",
    "print(grocery_list[\"chicken\"])\n",
    "print(grocery_list[True])\n",
    "\n",
    "# dictionName[keyName]"
   ]
  },
  {
   "cell_type": "code",
   "execution_count": 2,
   "metadata": {},
   "outputs": [],
   "source": [
    "class Account:\n",
    "    def __init__(self, name, balance):\n",
    "        self.name = name\n",
    "        self.balance = float(balance)\n",
    "\n",
    "person = Account(\"Farukh\", 500)"
   ]
  },
  {
   "cell_type": "code",
   "execution_count": 6,
   "metadata": {},
   "outputs": [
    {
     "name": "stdout",
     "output_type": "stream",
     "text": [
      "Hello, Farukh. You have $700.0.\n",
      "Hello, Farukh. You have $500.0.\n"
     ]
    }
   ],
   "source": [
    "\n",
    "print(\"Hello, \" + person.name + \". You have $\" + str(person.balance + 200) + \".\")\n",
    "\n",
    "test = f\"Hello, {person.name}. You have ${person.balance}.\"\n",
    "print(test)"
   ]
  },
  {
   "cell_type": "code",
   "execution_count": 19,
   "metadata": {},
   "outputs": [
    {
     "name": "stdout",
     "output_type": "stream",
     "text": [
      "5\n",
      "6\n",
      "7\n",
      "8\n",
      "9\n"
     ]
    }
   ],
   "source": [
    "for elem in range(5, 10):\n",
    "    print(elem)\n"
   ]
  },
  {
   "cell_type": "code",
   "execution_count": null,
   "metadata": {},
   "outputs": [],
   "source": [
    "\n",
    "\n",
    "for x in range(5, 10):\n",
    "    print(x)\n",
    "\n",
    "for y in range(5, 10, 2):\n",
    "    print(y)\n",
    "\n",
    "for i in range(10, 0, -1):\n",
    "    print(i)\n",
    "\n",
    "alphabet = ['a', 'b', 'c', 'd']\n",
    "for i in range(len(alphabet)):\n",
    "    print(alphabet[i])"
   ]
  },
  {
   "cell_type": "code",
   "execution_count": 22,
   "metadata": {},
   "outputs": [
    {
     "name": "stdout",
     "output_type": "stream",
     "text": [
      "a\n",
      "b\n",
      "c\n",
      "d\n"
     ]
    },
    {
     "ename": "TypeError",
     "evalue": "unsupported operand type(s) for +: 'int' and 'str'",
     "output_type": "error",
     "traceback": [
      "\u001b[1;31m---------------------------------------------------------------------------\u001b[0m",
      "\u001b[1;31mTypeError\u001b[0m                                 Traceback (most recent call last)",
      "\u001b[1;32mc:\\Users\\saidmf\\Desktop\\TKH\\DS_22\\phase_1\\week_2\\review.ipynb Cell 7\u001b[0m in \u001b[0;36m<cell line: 8>\u001b[1;34m()\u001b[0m\n\u001b[0;32m      <a href='vscode-notebook-cell:/c%3A/Users/saidmf/Desktop/TKH/DS_22/phase_1/week_2/review.ipynb#X10sZmlsZQ%3D%3D?line=4'>5</a>\u001b[0m \u001b[39m# for variable in datastruct\u001b[39;00m\n\u001b[0;32m      <a href='vscode-notebook-cell:/c%3A/Users/saidmf/Desktop/TKH/DS_22/phase_1/week_2/review.ipynb#X10sZmlsZQ%3D%3D?line=6'>7</a>\u001b[0m GOOG \u001b[39m=\u001b[39m [\u001b[39m\"\u001b[39m\u001b[39m99.57\u001b[39m\u001b[39m\"\u001b[39m, \u001b[39m98.71\u001b[39m, \u001b[39m98.05\u001b[39m, \u001b[39m98.30\u001b[39m, \u001b[39m\"\u001b[39m\u001b[39m99.71\u001b[39m\u001b[39m\"\u001b[39m]\n\u001b[1;32m----> <a href='vscode-notebook-cell:/c%3A/Users/saidmf/Desktop/TKH/DS_22/phase_1/week_2/review.ipynb#X10sZmlsZQ%3D%3D?line=7'>8</a>\u001b[0m \u001b[39msum\u001b[39;49m(GOOG)\n",
      "\u001b[1;31mTypeError\u001b[0m: unsupported operand type(s) for +: 'int' and 'str'"
     ]
    }
   ],
   "source": [
    "alphabet = ['a', 'b', 'c', 'd']\n",
    "for letter in alphabet:\n",
    "    print(letter)\n",
    "\n",
    "# for variable in datastruct\n"
   ]
  },
  {
   "cell_type": "code",
   "execution_count": 31,
   "metadata": {},
   "outputs": [
    {
     "data": {
      "text/plain": [
       "98.05"
      ]
     },
     "execution_count": 31,
     "metadata": {},
     "output_type": "execute_result"
    }
   ],
   "source": [
    "GOOG = [\"99.57\", 98.71, 98.05, 98.30, \"99.71\"]\n",
    "GOOG_new = []\n",
    "\n",
    "for price in GOOG:\n",
    "    float_price = float(price)\n",
    "    GOOG_new.append(float_price)\n",
    "\n",
    "print(max(GOOG_new))\n",
    "print(min(GOOG_new))"
   ]
  },
  {
   "cell_type": "code",
   "execution_count": 56,
   "metadata": {},
   "outputs": [
    {
     "name": "stdout",
     "output_type": "stream",
     "text": [
      "[11.33, '11.36', 11.51, 11.73]\n"
     ]
    }
   ],
   "source": [
    "COUR = [11.33, \"11.36\", 11.51, 11.73, None, None, None, None]\n",
    "\n",
    "# this list has 5 elements\n",
    "# this list has floats, strings, and None's\n",
    "\n",
    "# 1) Solve it like you would yourself without Python\n",
    "# 2) Translate it into Python\n",
    "# 3) Anythin you don't know:\n",
    "# * study\n",
    "# * google\n",
    "# * work together\n",
    "\n",
    "# how do I remove all \"none\"s from this list\n",
    "#COUR.remove(None)\n",
    "new_data = filter(lambda a: a is not None, COUR)\n",
    "\n",
    "type(new_data)\n",
    "\n",
    "new_data = list(new_data)\n",
    "\n",
    "type(new_data)\n",
    "print(new_data)\n",
    "# how do I make sure all my data is floats\n",
    "\n",
    "\n",
    "# how do I get the range of this data (max - min)\n",
    "\n"
   ]
  },
  {
   "cell_type": "code",
   "execution_count": 10,
   "metadata": {},
   "outputs": [
    {
     "ename": "TypeError",
     "evalue": "int() argument must be a string, a bytes-like object or a real number, not 'range'",
     "output_type": "error",
     "traceback": [
      "\u001b[1;31m---------------------------------------------------------------------------\u001b[0m",
      "\u001b[1;31mTypeError\u001b[0m                                 Traceback (most recent call last)",
      "\u001b[1;32mc:\\Users\\saidmf\\Desktop\\TKH\\DS_22\\phase_1\\week_2\\review.ipynb Cell 5\u001b[0m in \u001b[0;36m<cell line: 1>\u001b[1;34m()\u001b[0m\n\u001b[1;32m----> <a href='vscode-notebook-cell:/c%3A/Users/saidmf/Desktop/TKH/DS_22/phase_1/week_2/review.ipynb#W4sZmlsZQ%3D%3D?line=0'>1</a>\u001b[0m \u001b[39mint\u001b[39;49m(\u001b[39mrange\u001b[39;49m(\u001b[39m0\u001b[39;49m, \u001b[39m10\u001b[39;49m))\n",
      "\u001b[1;31mTypeError\u001b[0m: int() argument must be a string, a bytes-like object or a real number, not 'range'"
     ]
    }
   ],
   "source": [
    "print(list(range(0, 10)))"
   ]
  }
 ],
 "metadata": {
  "kernelspec": {
   "display_name": "Python 3.10.7 64-bit",
   "language": "python",
   "name": "python3"
  },
  "language_info": {
   "codemirror_mode": {
    "name": "ipython",
    "version": 3
   },
   "file_extension": ".py",
   "mimetype": "text/x-python",
   "name": "python",
   "nbconvert_exporter": "python",
   "pygments_lexer": "ipython3",
   "version": "3.10.7"
  },
  "orig_nbformat": 4,
  "vscode": {
   "interpreter": {
    "hash": "369f2c481f4da34e4445cda3fffd2e751bd1c4d706f27375911949ba6bb62e1c"
   }
  }
 },
 "nbformat": 4,
 "nbformat_minor": 2
}
