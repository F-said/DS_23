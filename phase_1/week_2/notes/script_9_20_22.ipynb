{
 "cells": [
  {
   "cell_type": "markdown",
   "metadata": {},
   "source": [
    "# Variables"
   ]
  },
  {
   "cell_type": "markdown",
   "metadata": {},
   "source": [
    "    Now that we have a base level familiarity of what we can expect in Python, let's put things into practice. We're going to need to add certain tools to our toolkit to start to develop programs. The first of which is going to be the variable. Variables allow us to have persistent storage across our application. Instead of values disappearing into nothingness, we have them saved in memory (RAM)"
   ]
  },
  {
   "cell_type": "code",
   "execution_count": null,
   "metadata": {},
   "outputs": [],
   "source": [
    "# To declare a variable, we use the assignment operator. The assignment operator is the equal sign =\n",
    "\n",
    "x = 5\n",
    "# Let's take a very in depth look at what we're doing here. We are initializing a variable name. In this case the name of the variable is x.\n",
    "# We are then assigning it a value. That value is the integer 5. Now, where ever we need to use 5, we can instead use x.\n",
    "# Python knows what x is now. It sees it as 5.\n",
    "\n",
    "print(x + x)\n"
   ]
  },
  {
   "cell_type": "code",
   "execution_count": null,
   "metadata": {},
   "outputs": [],
   "source": [
    "# We have to declare a variable AND assignment it before we can use it. \n",
    "\n",
    "print(y)"
   ]
  },
  {
   "cell_type": "code",
   "execution_count": null,
   "metadata": {},
   "outputs": [],
   "source": [
    "# What are legal variable names?\n",
    "\n",
    "\n",
    "x = 100\n",
    "Y = 200\n",
    "thisisacoolvariablename = 300\n",
    "ThisIsACoolVariableName = 400\n",
    "\n",
    "#Illegal \n",
    "#'x' = 100\n",
    "#1x = 12\n"
   ]
  },
  {
   "cell_type": "code",
   "execution_count": null,
   "metadata": {},
   "outputs": [],
   "source": [
    "ThisIsBad = True\n",
    "HORRIBLENAME = True\n",
    "thisisavriablethatisgoingtoholdthevalue12 = 12\n",
    "w0wth1sSucks = None\n",
    "name_var = True"
   ]
  },
  {
   "cell_type": "markdown",
   "metadata": {},
   "source": [
    "### Common Practices. \n",
    "   1. Do not use reserved keywords.\n",
    "   2. Do not use capital letters.\n",
    "   3. Keep variable names short and descriptive.\n",
    "   4. Try not to include numbers if possible.\n",
    "   5. Substitute spaces with underscores.\n"
   ]
  },
  {
   "cell_type": "markdown",
   "metadata": {},
   "source": [
    "# What can a variable hold? Anything!"
   ]
  },
  {
   "cell_type": "code",
   "execution_count": null,
   "metadata": {},
   "outputs": [],
   "source": [
    "x = 100\n",
    "y = True\n",
    "z = 'SomeString'\n",
    "\n",
    "oreos = None\n"
   ]
  },
  {
   "cell_type": "code",
   "execution_count": null,
   "metadata": {},
   "outputs": [],
   "source": [
    "# What happens when we use the same variable twice?\n",
    "x = 100\n",
    "x = 200\n",
    "\n",
    "print(x)\n",
    "\n",
    "# It overwrites the previous value of x, and references the most recent value you gave it."
   ]
  },
  {
   "cell_type": "code",
   "execution_count": null,
   "metadata": {},
   "outputs": [],
   "source": [
    "# What happens if you chain assignment?\n",
    "\n",
    "x = 100\n",
    "y = x\n",
    "\n",
    "print(y)\n",
    "\n",
    "# We can see that this is valid, and that it will make the new variable reference the same data."
   ]
  },
  {
   "cell_type": "code",
   "execution_count": null,
   "metadata": {},
   "outputs": [],
   "source": [
    "#We can even be fancy, and assign multiple values at once.\n",
    "\n",
    "x,y = 100,200\n",
    "\n",
    "print(x)\n",
    "print(y)"
   ]
  },
  {
   "cell_type": "code",
   "execution_count": null,
   "metadata": {},
   "outputs": [],
   "source": [
    "# One of the most common use cases is to set a variable equal to the RETURNED VALUE of something (a function or method).\n",
    "\n",
    "x = 'HELLO WORLD'\n",
    "x.lower()\n",
    "print(x)\n",
    "\n",
    "# As we can see, even though we called the lower on the variable, we didn't store that change. The program simply returned\n",
    "# the value of the lowered string and then once it didn't need it anymore, discarded it. \n"
   ]
  },
  {
   "cell_type": "code",
   "execution_count": null,
   "metadata": {},
   "outputs": [],
   "source": [
    "x = 'HELLO WORLD'\n",
    "x = x.lower()\n",
    "print(x)\n",
    "\n",
    "# You can see that now, we can store the change that we wanted to make."
   ]
  },
  {
   "cell_type": "code",
   "execution_count": null,
   "metadata": {},
   "outputs": [],
   "source": [
    "# Let's get another real world example going. Let's say that we want to get some user input.\n",
    "\n",
    "first_name = input('Please Enter Your First Name ')\n",
    "last_name = input('Please Enter Your Last Name ')\n",
    "\n",
    "print('Hello' + \" \" + first_name + \" \" +last_name)"
   ]
  },
  {
   "cell_type": "markdown",
   "metadata": {},
   "source": [
    "This works fine, but what if our user doesn't put their name in with the correct capitalization?"
   ]
  },
  {
   "cell_type": "code",
   "execution_count": null,
   "metadata": {},
   "outputs": [],
   "source": [
    "first_name = input('Please Enter Your First Name')\n",
    "last_name = input('Please Enter Your Last Name ')\n",
    "\n",
    "first_name = first_name.capitalize()\n",
    "last_name = last_name.capitalize()\n",
    "\n",
    "print('Hello' + \" \" + first_name + \" \" +last_name)"
   ]
  },
  {
   "cell_type": "markdown",
   "metadata": {},
   "source": [
    "# Typecasting"
   ]
  },
  {
   "cell_type": "markdown",
   "metadata": {},
   "source": [
    "    Typecasting is an important tool in our tool kit. It allows us to change the type of an object into an other. It's going to allow us to make sure that data is coming in/out in a certain way. Typecasting does have its limits however. Whenever a typecast would be ambigoous, we get errors. "
   ]
  },
  {
   "cell_type": "code",
   "execution_count": null,
   "metadata": {},
   "outputs": [],
   "source": [
    "#Here we can see that we are typecasting x into an integer. Where is used to be a string, it now exists as an integer. \n",
    "#This is an example of an explicit typecast.\n",
    "x = '100'\n",
    "print(type(x))\n",
    "x = int(x)\n",
    "print(type(x))"
   ]
  },
  {
   "cell_type": "code",
   "execution_count": null,
   "metadata": {},
   "outputs": [],
   "source": [
    "#Here we're going to try an ambiguous typecast\n",
    "\n",
    "x = 'hello'\n",
    "x = int(x)\n",
    "print(x)\n",
    "\n",
    "#Here we can see that we get an error. We're not allowed to turn normal strings to an int"
   ]
  },
  {
   "cell_type": "code",
   "execution_count": null,
   "metadata": {},
   "outputs": [],
   "source": [
    "# Bool typecasts are strange remember their cases.\n",
    "\n",
    "x = 100\n",
    "x = bool(x)\n",
    "print(x)\n",
    "# If a numeric is being typecast into a boolean, as long as it is not zero, it will become True\n",
    "\n",
    "x = 'cupcakes'\n",
    "x = bool(x)\n",
    "print(x)\n",
    "# If a string is being typecast into a boolean, as long as it is not zero, it will become True\n",
    "\n"
   ]
  },
  {
   "cell_type": "code",
   "execution_count": null,
   "metadata": {},
   "outputs": [],
   "source": [
    "x = 'a1'\n",
    "x = int(x)\n",
    "print(x)"
   ]
  },
  {
   "cell_type": "markdown",
   "metadata": {},
   "source": [
    "    In general, most things can be type cast into a Boolean(Which is generally a bad idea) or a String. However, to turn things into a numerics, things are much more strict."
   ]
  },
  {
   "cell_type": "markdown",
   "metadata": {},
   "source": [
    "# Conditionals"
   ]
  },
  {
   "cell_type": "markdown",
   "metadata": {},
   "source": [
    "    Let's take it a step further. Let's assume that we really need this information to be totally accruate. What happens if someone puts a number? That shouldn't be a valid name, but currently, we have no way to stop that."
   ]
  },
  {
   "cell_type": "code",
   "execution_count": null,
   "metadata": {},
   "outputs": [],
   "source": [
    "first_name = input('Please Enter Your First Name')\n",
    "last_name = input('Please Enter Your Last Name ')\n",
    "\n",
    "first_name = first_name.capitalize()\n",
    "last_name = last_name.capitalize()\n",
    "\n",
    "print('Hello' + \" \" + first_name + \" \" +last_name)"
   ]
  },
  {
   "cell_type": "markdown",
   "metadata": {},
   "source": [
    "    We can use conditionals to introduce logic to our program. Our program is only going to execute things if certain conditions are met. Python has a few default conditional statements. The main one we are going to use for now is the if statement. It is structured as follows."
   ]
  },
  {
   "cell_type": "markdown",
   "metadata": {},
   "source": [
    "    if (condition): \n",
    "        do this\n",
    "    elif (condition):\n",
    "        do this\n",
    "    else:\n",
    "        do this:"
   ]
  },
  {
   "cell_type": "code",
   "execution_count": null,
   "metadata": {},
   "outputs": [],
   "source": [
    "# The condition is a boolean. It will only execute the code if the condition is true. Let's look at an example.\n",
    "\n",
    "\n",
    "x = 5\n",
    "\n",
    "if x > 5:\n",
    "    print('The Knicks are Awesome')\n",
    "elif x < 5:\n",
    "    print('Lets go Nets')\n",
    "else:\n",
    "    print('New York basketball is a joke')\n",
    "\n",
    "# First, it checked the first condition. What did it evaluate to?\n",
    "# Then, it checked the second condition. What did it evaluate to?\n",
    "# Then, because we had an else statement, it DEFAULTED. Let's see it without an else."
   ]
  },
  {
   "cell_type": "code",
   "execution_count": null,
   "metadata": {},
   "outputs": [],
   "source": [
    "x = 5\n",
    "\n",
    "if x > 5:\n",
    "    print('The Knicks are Awesome')\n",
    "elif x < 5:\n",
    "    print('Lets go Nets')\n",
    "\n",
    "# It did nothing, because a condition was never met. The else serves as a catchall statement. If none of the other conditions have been met, then \n",
    "# Do this instead."
   ]
  },
  {
   "cell_type": "code",
   "execution_count": null,
   "metadata": {},
   "outputs": [],
   "source": [
    "# Any boolean, or any statement that evaluates into a boolean can be used as a condition.\n",
    "\n",
    "\n",
    "if True:\n",
    "    print(\"what's up everyone!\")\n",
    "# The condition evaluated to true, so this ended up being executed. \n",
    "\n",
    "if False:\n",
    "    print(\"Let's go Giants\")\n",
    "# This did not, so it was never executed."
   ]
  },
  {
   "cell_type": "code",
   "execution_count": null,
   "metadata": {},
   "outputs": [],
   "source": [
    "#What if two condition are met? Which one does the code execute?\n",
    "\n",
    "x = 5 \n",
    "\n",
    "if x < 10:\n",
    "    print(\"Nom Nom I love Oreoes\")\n",
    "elif x < 6:\n",
    "    print('Woohoo!')\n",
    "\n",
    "#Which one is going to print?\n",
    "#Correct, it is the first TRUE condition it meets. It will EXIT THE CONDITIONAL, once a True statement has been reached. It Exits the if statement."
   ]
  },
  {
   "cell_type": "code",
   "execution_count": null,
   "metadata": {},
   "outputs": [],
   "source": [
    "x = 5 \n",
    "\n",
    "if x < 10:\n",
    "    print(\"I'm on top, I'm king!\")\n",
    "elif x < 6:\n",
    "    print('Im sad knowing ill never be reached.')\n",
    "else:\n",
    "    print('Its so lonely down here')"
   ]
  },
  {
   "cell_type": "markdown",
   "metadata": {},
   "source": [
    "# Let's now use our new knowledge to make sure that the person inputs correct text."
   ]
  },
  {
   "cell_type": "code",
   "execution_count": null,
   "metadata": {},
   "outputs": [],
   "source": [
    "\n",
    "first_name = input('Please Enter Your First Name')\n",
    "last_name = input('Please Enter Your Last Name ')\n",
    "\n",
    "first_name = first_name.capitalize()\n",
    "last_name = last_name.capitalize()\n",
    "\n",
    "if first_name.isalpha() and last_name.isalpha():\n",
    "    print('Hello' + \" \" + first_name + \" \" +last_name)\n",
    "else:\n",
    "    print('You did not enter a valid name')"
   ]
  },
  {
   "cell_type": "markdown",
   "metadata": {},
   "source": [
    "# Control Flow"
   ]
  },
  {
   "cell_type": "code",
   "execution_count": null,
   "metadata": {},
   "outputs": [],
   "source": [
    "https://en.wikipedia.org/wiki/Control_flow"
   ]
  },
  {
   "cell_type": "markdown",
   "metadata": {},
   "source": [
    "    Conditionals allow us to have greater control on our programs. This is a good time to introduce the control flow diagram. A control flow Diagram allows us to get a visual representation of how our code is gaoing to work. For now, following along is more important than being a master at this."
   ]
  },
  {
   "cell_type": "code",
   "execution_count": null,
   "metadata": {},
   "outputs": [],
   "source": [
    "# Make a Basic Control Flow Diagram. \n",
    "# Sequential, Conditional, Looping is to come."
   ]
  },
  {
   "cell_type": "code",
   "execution_count": null,
   "metadata": {},
   "outputs": [],
   "source": [
    "x = 100\n",
    "\n",
    "print(x)\n",
    "print(\"Whoopie I'm done\")"
   ]
  },
  {
   "cell_type": "code",
   "execution_count": null,
   "metadata": {},
   "outputs": [],
   "source": [
    "first_name = input('Please Enter Your First Name')\n",
    "last_name = input('Please Enter Your Last Name ')\n",
    "\n",
    "first_name = first_name.capitalize()\n",
    "last_name = last_name.capitalize()\n",
    "\n",
    "if first_name.isalpha() and last_name.isalpha():\n",
    "    print('Hello' + \" \" + first_name + \" \" +last_name)\n",
    "else:\n",
    "    print('You did not enter a valid name')"
   ]
  },
  {
   "cell_type": "markdown",
   "metadata": {},
   "source": [
    "# Loops"
   ]
  },
  {
   "cell_type": "markdown",
   "metadata": {},
   "source": [
    "    Now we have conditional programs, but these programs still terminate at suboptimal times. For example, in our name checking program, once it runs once, it terminates. It doesn't continue to ask the user to enter a valid name. What if we want to continue to prompt the user to enter a valid name?\n",
    "\n",
    "    Yes! We can use the power of loops. Loops allow us to repeat code, generally until a condition is met. Let's start with basic loops, before we tackle the previous problem."
   ]
  },
  {
   "cell_type": "code",
   "execution_count": null,
   "metadata": {},
   "outputs": [],
   "source": [
    "#Python has two ways to loop. Python has the for loop (which requires a _sequence_ we will get into that later), and the while loop.\n",
    "#Let's see the while loop in action\n",
    "\n",
    "\n",
    "x = 1\n",
    "while x < 5 :\n",
    "    print(\"Hello\")\n",
    "print(\"I am done!\")\n",
    "\n",
    "#What is happening here?\n",
    "#Let's draw the Control flow diagram.\n",
    "# Now that we understand that the program is never terminating (because it is never reaching 5), what can we add to our program to ensure that it hits the second line of code."
   ]
  },
  {
   "cell_type": "code",
   "execution_count": null,
   "metadata": {},
   "outputs": [],
   "source": [
    "x = 1\n",
    "while x < 5 :\n",
    "    print(\"Hello\")\n",
    "    x = x + 1 # Great! This is called an Increment. It's going to increase the value of x each time it goes through the loop (an iteration)\n",
    "print(\"I am done!\")\n",
    "\n",
    "#Draw Control Flow Diagram"
   ]
  },
  {
   "cell_type": "code",
   "execution_count": null,
   "metadata": {},
   "outputs": [],
   "source": [
    "#Let's try building a program. I want it to go through the numbers 1-10, and I want it to only print the even ones.\n",
    "\n",
    "x = 1\n",
    "while x<=10:\n",
    "    if x%2==0:\n",
    "        print(x)\n",
    "    x= x + 1\n",
    "print(\"I am done!\")\n",
    "\n",
    "#Draw Control Flow Diagram"
   ]
  },
  {
   "cell_type": "code",
   "execution_count": null,
   "metadata": {},
   "outputs": [],
   "source": [
    "# Now let's try building a program that will print Fizz, if the number is divisble by 3, Buzz, if the number is divisible by 5, and FizzBuzz, if its divisible by both 5 & 3, for numbers between 1 and 100.\n",
    "\n",
    "x = 1\n",
    "\n",
    "while x <= 100:\n",
    "    if x%5==100:\n",
    "        print(x)\n",
    "    x += 1\n",
    "print(\"I am Done\")"
   ]
  },
  {
   "cell_type": "code",
   "execution_count": 29,
   "metadata": {},
   "outputs": [
    {
     "name": "stdout",
     "output_type": "stream",
     "text": [
      "You did not enter a valid name\n",
      "You did not enter a valid name\n",
      "You did not enter a valid name\n",
      "You did not enter a valid name\n",
      "Hello Axl Cruz\n"
     ]
    }
   ],
   "source": [
    "\n",
    "\n",
    "valid_name = False\n",
    "while not valid_name:\n",
    "    first_name = input('Please Enter Your First Name')\n",
    "    last_name = input('Please Enter Your Last Name ')\n",
    "\n",
    "    first_name = first_name.capitalize()\n",
    "    last_name = last_name.capitalize()\n",
    "\n",
    "    if first_name.isalpha() and last_name.isalpha():\n",
    "        valid_name=True\n",
    "        print('Hello' + \" \" + first_name + \" \" +last_name)\n",
    "    else:\n",
    "        print('You did not enter a valid name')\n",
    "\n",
    "\n",
    "#Let's make a control flow diagram. \n"
   ]
  }
 ],
 "metadata": {
  "kernelspec": {
   "display_name": "Python 3.10.7 64-bit",
   "language": "python",
   "name": "python3"
  },
  "language_info": {
   "codemirror_mode": {
    "name": "ipython",
    "version": 3
   },
   "file_extension": ".py",
   "mimetype": "text/x-python",
   "name": "python",
   "nbconvert_exporter": "python",
   "pygments_lexer": "ipython3",
   "version": "3.10.7"
  },
  "orig_nbformat": 4,
  "vscode": {
   "interpreter": {
    "hash": "369f2c481f4da34e4445cda3fffd2e751bd1c4d706f27375911949ba6bb62e1c"
   }
  }
 },
 "nbformat": 4,
 "nbformat_minor": 2
}
