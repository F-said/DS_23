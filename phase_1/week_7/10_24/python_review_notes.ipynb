{
 "cells": [
  {
   "cell_type": "markdown",
   "metadata": {},
   "source": [
    "## Solving a Coding Problem\n",
    "\n",
    "1. Solve the problem in your head before you solve the problem in your program. \n",
    "    * What will my input look like? What will my output look like?\n",
    "    * If you are uncertain about a detail, move forward regardless. You are not expected to have a perfect solution at first glance!\n",
    "\n",
    "2. Write down this solution using comments.\n",
    "\n",
    "3. Notice which structures you need for particular comments (ex: I go through a list -> for loop)\n",
    "\n",
    "4. Implement code while ensuring that structures flow.\n",
    "\n",
    "5. For any uncertainty -> Google! Documentation! Co-coding! Talk to yourself! Repeat this process as needed. \n"
   ]
  },
  {
   "cell_type": "markdown",
   "metadata": {},
   "source": [
    "## Example\n",
    "\n",
    "I want to get the first letter of every string in a list, and save these letters into a new list."
   ]
  },
  {
   "cell_type": "code",
   "execution_count": 1,
   "metadata": {},
   "outputs": [],
   "source": [
    "words = [\"apprehensive\", \"apple\", \"burrow\", \"befuddle\", \"cantaloupe\"]\n",
    "\n",
    "# write solution here\n"
   ]
  },
  {
   "cell_type": "markdown",
   "metadata": {},
   "source": [
    "## 1. Solve Solution Abstractly\n",
    "\n",
    "I want to loop through this list and get the first letter from each word. \n",
    "\n",
    "My input will look like: `[\"apprehensive\", \"apple\", \"burrow\", \"befuddle\", \"cantaloupe\"]`, whereas my output will be: `[\"a\", \"a\", \"b\", \"b\", \"c\"]`.\n",
    "\n",
    "Since I should not modify a list as I loop through, I should create a new list."
   ]
  },
  {
   "cell_type": "markdown",
   "metadata": {},
   "source": [
    "## 2. Write Down Solution\n",
    "\n",
    "Implement \"fake\"-code or \"pseudo-code\" using comments."
   ]
  },
  {
   "cell_type": "code",
   "execution_count": null,
   "metadata": {},
   "outputs": [],
   "source": [
    "words = [\"apprehensive\", \"apple\", \"burrow\", \"befuddle\", \"cantaloupe\"]\n",
    "\n",
    "# create a new empty list\n",
    "\n",
    "# get each element of the list\n",
    "\n",
    "# get first letter of word and append to new list\n",
    "\n",
    "# print out new list"
   ]
  },
  {
   "cell_type": "markdown",
   "metadata": {},
   "source": [
    "## 3. Structures\n",
    "\n",
    "I need a list data-structure for the first step. I need a for-loop for the `get each element of the list` step, and I will need to use the `append()` functon to append elements to the new list.\n",
    "\n",
    "In addition, I will need to index each word. Since I need the first letter only, I need to index via `0`. \n",
    "\n",
    "Lastly, I will need the `print()` function."
   ]
  },
  {
   "cell_type": "markdown",
   "metadata": {},
   "source": [
    "## 4. Implement Code\n",
    "\n",
    "It's a good idea to leave comments as you implement code! This will serve as your documentation."
   ]
  },
  {
   "cell_type": "code",
   "execution_count": null,
   "metadata": {},
   "outputs": [],
   "source": [
    "words = [\"apprehensive\", \"apple\", \"burrow\", \"befuddle\", \"cantaloupe\"]\n",
    "\n",
    "# create a new empty list\n",
    "newList = []\n",
    "\n",
    "# get each element of the list\n",
    "for w in words:\n",
    "    # get first letter of word and append to new list\n",
    "    letter = w[0]\n",
    "    newList.add(letter)\n",
    "\n",
    "# print out new list\n",
    "print(newList)"
   ]
  },
  {
   "cell_type": "markdown",
   "metadata": {},
   "source": [
    "## 4. Uncertainty \n",
    "\n",
    "At my code's current iteration I have a bug! I will loop up the list documentation to see what should be different (https://docs.python.org/3/tutorial/datastructures.html#more-on-lists)"
   ]
  },
  {
   "cell_type": "code",
   "execution_count": null,
   "metadata": {},
   "outputs": [],
   "source": [
    "words = [\"apprehensive\", \"apple\", \"burrow\", \"befuddle\", \"cantaloupe\"]\n",
    "\n",
    "# create a new empty list\n",
    "newList = []\n",
    "\n",
    "# get each element of the list\n",
    "for w in words:\n",
    "    # get first letter of word and append to new list\n",
    "    letter = w[0]\n",
    "    # append instead of add\n",
    "    newList.append(letter)\n",
    "\n",
    "# print out new list\n",
    "print(newList)"
   ]
  },
  {
   "cell_type": "markdown",
   "metadata": {},
   "source": [
    "## Lab Review\n",
    "\n",
    "In the lab last week, we were tasked with creating a data processor using the `csv` module & inheritance. Today we will be going over how to implement this.\n",
    "\n",
    "Right off the bat, we do not want to touch any code in `StockClean` (unless specified by me). `StockClean` will stay the same.\n",
    "\n",
    "The only thing we are modifying, is the `__init__` method of `StockProcessor` and its 3 methods.\n",
    "\n",
    "We will apply our workflow as discussed in the beginning of class."
   ]
  },
  {
   "cell_type": "code",
   "execution_count": null,
   "metadata": {},
   "outputs": [],
   "source": [
    "import csv\n",
    "\n",
    "class StockClean:\n",
    "    \"\"\"A class to clean stock data\n",
    "\n",
    "    Attributes\n",
    "    ----------\n",
    "    file : str\n",
    "        A string representing our filepath to stock data\n",
    "\n",
    "    Methods\n",
    "    -------\n",
    "    clean(outpath):\n",
    "        A method to create clean data. Saves in private attribute \"__clean_data.\"\n",
    "    \"\"\"\n",
    "    def __init__(self, file):\n",
    "        # don't load data just yet!\n",
    "        self.file = file\n",
    "        # prepare a private empty tuple to contain clean data\n",
    "        self._clean_data = []\n",
    "\n",
    "    def clean(self, outpath):\n",
    "        # read in data and record only clean data\n",
    "        new_data = []\n",
    "        col_names = []\n",
    "        with open(self.file, 'r') as infile:\n",
    "            # read into DictReader\n",
    "            reader = csv.DictReader(infile)\n",
    "            for row in reader:\n",
    "                # skip row if missing, otherwise append\n",
    "                if \"\" in row.values():\n",
    "                    continue\n",
    "                new_data.append(row)\n",
    "            # get column names at the end. Convoluted\n",
    "            col_names =  list(row.keys())\n",
    "\n",
    "        # write out data\n",
    "        with open(outpath, 'w', newline='') as outfile:\n",
    "            writer = csv.DictWriter(outfile, fieldnames=col_names)\n",
    "            writer.writeheader()\n",
    "            writer.writerows(new_data)\n",
    "        \n",
    "        # record in attribute\n",
    "        self._clean_data = new_data\n",
    "\n"
   ]
  },
  {
   "cell_type": "code",
   "execution_count": null,
   "metadata": {},
   "outputs": [],
   "source": [
    "class StockProcessor(StockClean):\n",
    "    \"\"\"[description goes here]\n",
    "\n",
    "    Methods\n",
    "    -------\n",
    "    get_total_volume():\n",
    "        [method description]\n",
    "    get_max(column):\n",
    "        [method description]\n",
    "    get_min(column):\n",
    "        [method description]\n",
    "    \"\"\"\n",
    "    # write code here, delete \"pass\"\n",
    "    def __init__(self, file, outpath):\n",
    "        # initialize attributes using the super class\n",
    "        super().__init__(file)\n",
    "        # clean this data by default\n",
    "        self.clean(outpath)\n",
    "    \n",
    "    def get_total_volume(self):\n",
    "        pass\n",
    "\n",
    "    def get_max(self, column):\n",
    "        pass\n",
    "\n",
    "    def get_min(self, column):\n",
    "        pass"
   ]
  },
  {
   "cell_type": "markdown",
   "metadata": {},
   "source": [
    "## Get Total\n",
    "\n",
    "1. Solve the problem in your head before you solve the problem in your program. \n",
    "\n",
    "    I have a csv file that I am loading into a DictionaryReader object. This is my `self._clean_data` attribute that I inherited. This turns each of my rows into a dictionary. I can use this to get individual volume by accessing each row and getting the value of volume using `Volume` as a key. \n",
    "\n",
    "    I also need to add on each value to a running total.\n"
   ]
  },
  {
   "cell_type": "code",
   "execution_count": null,
   "metadata": {},
   "outputs": [],
   "source": [
    "def get_total_volume(self):\n",
    "    # get each row\n",
    "    # get the Volume of each row\n",
    "    # add this to a running total\n",
    "    # return this total\n",
    "    pass\n"
   ]
  },
  {
   "cell_type": "code",
   "execution_count": null,
   "metadata": {},
   "outputs": [],
   "source": [
    "def get_total_volume(self):\n",
    "    # get each row\n",
    "    for row in self._clean_data:\n",
    "        # get the Volume of each row\n",
    "        val = row[\"Volume\"]\n",
    "\n",
    "        # add this to a running total\n",
    "        # looks like I have nothing to add this to. I should create a variable\n",
    "    # return this total\n"
   ]
  },
  {
   "cell_type": "code",
   "execution_count": null,
   "metadata": {},
   "outputs": [],
   "source": [
    "def get_total_volume(self):\n",
    "    # get total\n",
    "    total = 0\n",
    "\n",
    "    # get each row\n",
    "    for row in self._clean_data:\n",
    "        # get the Volume of each row\n",
    "        val = row[\"Volume\"]\n",
    "        # add this to a running total\n",
    "        total += val\n",
    "\n",
    "    # return this total\n",
    "    return total\n"
   ]
  },
  {
   "cell_type": "markdown",
   "metadata": {},
   "source": [
    "This, however, is still not perfect! Running this will result in a TypeError.\n",
    "\n",
    "We need to resolve this type error by looking at the information Python is giving us, and implementing a hypothesis fix."
   ]
  },
  {
   "cell_type": "markdown",
   "metadata": {},
   "source": [
    "## Get Max\n",
    "\n",
    "1. Solve the problem in your head before you solve the problem in your program. \n",
    "\n",
    "    This is a classic problem in coding.\n",
    "\n",
    "    Let's think about how we can find the maximum of a csv file BY HAND! \n",
    "\n",
    "    I'm going to go through each row, and exhaustively look for a maximum. If I find something that exceeds my previous max, I will assign that to be my new max. \n",
    "\n",
    "    I will keep doing this until I get to the last line of code, as I could possibly have the largest value in my code.\n",
    "\n",
    "    One question we might have is, what should be our initial max? Well it needs to be the smallest value possible, so we don't risk getting this default value. \n",
    "\n"
   ]
  },
  {
   "cell_type": "code",
   "execution_count": null,
   "metadata": {},
   "outputs": [],
   "source": [
    "def get_max(self, column):\n",
    "    # get each row\n",
    "    # get the value of that column\n",
    "    # compare it to max, if its larger than our max. Assign it to be the max\n",
    "    # otherwise continue searching\n",
    "    # return this maximum\n",
    "    pass\n"
   ]
  },
  {
   "cell_type": "code",
   "execution_count": null,
   "metadata": {},
   "outputs": [],
   "source": [
    "def get_max(self, column):\n",
    "    maximum = 0\n",
    "    # get each row\n",
    "    for row in self._clean_data:\n",
    "        # get the value of that column\n",
    "        val = row[column]\n",
    "        if val > maximum:\n",
    "            maximum = val\n",
    "        # otherwise continue searching\n",
    "    # return this maximum\n",
    "    return maximum\n"
   ]
  },
  {
   "cell_type": "markdown",
   "metadata": {},
   "source": [
    "## Get Min\n",
    "\n",
    "1. Solve the problem in your head before you solve the problem in your program. \n",
    "\n",
    "    This is just the previous problem but with a few things changed! \n",
    "\n",
    "    Consider: we are still searching a column, but this time we are looking for the smallest values possible.\n",
    "\n",
    "    We should simply switch the name of our `maximum` variable to be `minimum`, switch the `>` operator to be `<`, and finally, we need to change our initial value!\n",
    "\n",
    "    If we are checking for smallest numbers, we *must* set our initial value to be the largest possible value.\n",
    "\n",
    "    We can either set it to a super large number, or simply set it equal to `float('inf')`, which is how we represent infinity in Python.\n",
    "\n"
   ]
  },
  {
   "cell_type": "code",
   "execution_count": null,
   "metadata": {},
   "outputs": [],
   "source": [
    "def get_min(self, column):\n",
    "    minimum = 1000\n",
    "    # get each row\n",
    "    for row in self._clean_data:\n",
    "        # get the value of that column\n",
    "        val = row[column]\n",
    "        if val < minimum:\n",
    "            maximum = val\n",
    "        # otherwise continue searching\n",
    "    # return this maximum\n",
    "    return maximum\n"
   ]
  },
  {
   "cell_type": "markdown",
   "metadata": {},
   "source": [
    "## Variables Review\n",
    "\n",
    "Variables are named data.\n",
    "\n",
    "They could point to \n",
    "* primitives (ints, bools, floats), \n",
    "* data-structures (lists, sets, dictionaries) \n",
    "* and objects (csv.DictReader, Fellow)\n",
    "\n",
    "I could subsequently manipulate this data USING the variable name! I can even set my variable equal to functions that *return* some values."
   ]
  },
  {
   "cell_type": "code",
   "execution_count": null,
   "metadata": {},
   "outputs": [],
   "source": [
    "# Ignore this code\n",
    "class Fellow:\n",
    "    \"\"\"Class to describe a fellow\n",
    "\n",
    "\tAttributes\n",
    "\t—---------\n",
    "    name : str\n",
    "        Name to represent fellow\n",
    "    track : str\n",
    "        Track that fellow is on\n",
    "    familiars : list\n",
    "        List of people this fellow is familair with\n",
    "    \"\"\"\n",
    "    def __init__(self,name, track, familiars=[]):\n",
    "        self.name = name\n",
    "        self.track = track\n",
    "        self.familiars = familiars"
   ]
  },
  {
   "cell_type": "code",
   "execution_count": null,
   "metadata": {},
   "outputs": [],
   "source": [
    "# variable named \"x\" pointing to 10\n",
    "x = 10\n",
    "\n",
    "# variable named \"alphabet\" pointing to list\n",
    "alphabet = [\"a\", \"b\", \"c\", \"d\"]\n",
    "\n",
    "# variable pointing to \"Fellow\" object\n",
    "person = Fellow(\"Bob\", \"DS\")\n"
   ]
  },
  {
   "cell_type": "code",
   "execution_count": null,
   "metadata": {},
   "outputs": [],
   "source": [
    "# I can add 5 to 10 by using \"x\"\n",
    "print(x + 5)\n",
    "\n",
    "# I can get the first value by indexing this variable\n",
    "print(alphabet[0])\n",
    "\n",
    "# I can access this Fellow's attributes through dot notaton\n",
    "print(person.name)"
   ]
  },
  {
   "cell_type": "markdown",
   "metadata": {},
   "source": [
    "We can manipulate these different types of data using specific commands. \n",
    "\n",
    "We figure out what we want to do first before we worry about implementation! \n",
    "\n",
    "We get used interacting with these data-types through practice. "
   ]
  },
  {
   "cell_type": "markdown",
   "metadata": {},
   "source": [
    "## Conditionals Review\n",
    "\n",
    "\n",
    "Conditionals are “control-flow” structures that allow us to check if something is true or false, and then perform some sort of action based on that information. They are composed of:\n",
    "\n",
    "* “if condition:” to start\n",
    "\n",
    "* “elif condition:” to check another condition if above was false\n",
    "\n",
    "* “else:” do by default if all else was false\n",
    "\n",
    "Let's say I want to check if an integer I get from the console is positive or negative or zero.\n"
   ]
  },
  {
   "cell_type": "code",
   "execution_count": null,
   "metadata": {},
   "outputs": [],
   "source": [
    "x = int(input(\"Input a number\"))\n",
    "\n",
    "if x > 0:\n",
    "    print(\"your number is positive\")\n",
    "elif x < 0:\n",
    "    print(\"your number is negative\")\n",
    "else:\n",
    "    print(\"your number is 0\")"
   ]
  },
  {
   "cell_type": "markdown",
   "metadata": {},
   "source": [
    "## Loops Review\n",
    "\n",
    "Lastly, we want to be able to repeat something until it is False\n",
    "\n",
    "We accomplish this using while-loops.\n",
    "\n",
    "Let's say I want to keep asking for a number until I get a positive number from the console."
   ]
  },
  {
   "cell_type": "code",
   "execution_count": null,
   "metadata": {},
   "outputs": [],
   "source": [
    "x = int(input(\"Input a number\"))\n",
    "\n",
    "while [what condition goes here???]:\n",
    "    x = int(input(\"Number must be positive, try again\"))"
   ]
  },
  {
   "cell_type": "markdown",
   "metadata": {},
   "source": [
    "## Folder Structure\n",
    "\n",
    "What we interact with on a daily basis on our computer is the Graphical-User-Interface (GUI) (Gooey).\n",
    "\n",
    "This is a “user-friendly” space where mistakes are easy to fix and things are (usually) easy to find.\n",
    "\n",
    "We, however, are going to be using our terminal instead.\n",
    "\n",
    "Specifically, we will be utilizing the Bash shell script.\n",
    "\n",
    "https://opensource.com/resources/what-bash\n",
    "\n",
    "If you are on a Windows, you must download git bash\n",
    "https://gitforwindows.org/ \n",
    "\n"
   ]
  },
  {
   "cell_type": "markdown",
   "metadata": {},
   "source": [
    "## Bash\n",
    "\n",
    "First we will explore your Desktop via Bash\n",
    "\n",
    "cd : change directory\n",
    "\n",
    "ls : list \n",
    "\n",
    "https://www.educative.io/blog/bash-shell-command-cheat-sheet"
   ]
  },
  {
   "cell_type": "markdown",
   "metadata": {},
   "source": [
    "## Python Files\n",
    "\n",
    "We do not create software using Jupyter notebooks (as far as we're concerned).\n",
    "\n",
    "Instead we utilize discrete Python files and place intentional code that does something specific inside of this file.\n",
    "\n",
    "https://code.visualstudio.com/docs/python/python-tutorial"
   ]
  }
 ],
 "metadata": {
  "kernelspec": {
   "display_name": "Python 3.10.7 64-bit",
   "language": "python",
   "name": "python3"
  },
  "language_info": {
   "codemirror_mode": {
    "name": "ipython",
    "version": 3
   },
   "file_extension": ".py",
   "mimetype": "text/x-python",
   "name": "python",
   "nbconvert_exporter": "python",
   "pygments_lexer": "ipython3",
   "version": "3.10.7"
  },
  "orig_nbformat": 4,
  "vscode": {
   "interpreter": {
    "hash": "369f2c481f4da34e4445cda3fffd2e751bd1c4d706f27375911949ba6bb62e1c"
   }
  }
 },
 "nbformat": 4,
 "nbformat_minor": 2
}
