{
 "cells": [
  {
   "cell_type": "markdown",
   "metadata": {},
   "source": [
    "## Review\n",
    "\n",
    "Given an array nums. We define a running sum of an array as `runningSum[i] = sum(nums[0]…nums[i])`.\n",
    "\n",
    "Return the running sum of nums.\n",
    "\n",
    "Example 1:\n",
    "```\n",
    "Input: nums = [1,2,3,4]\n",
    "Output: [1,3,6,10]\n",
    "Explanation: Running sum is obtained as follows: [1, 1+2, 1+2+3, 1+2+3+4].\n",
    "```\n",
    "\n",
    "Example 2:\n",
    "```\n",
    "Input: nums = [1,1,1,1,1]\n",
    "Output: [1,2,3,4,5]\n",
    "Explanation: Running sum is obtained as follows: [1, 1+1, 1+1+1, 1+1+1+1, 1+1+1+1+1].\n",
    "```\n",
    "\n",
    "Example 3:\n",
    "```\n",
    "Input: nums = [3,1,2,10,1]\n",
    "Output: [3,4,6,16,17]\n",
    "```\n",
    "\n",
    "Consider the time and space complexity of your solution. Once you have a working solution, consider how you can make this solution more efficient.\n",
    "\n",
    "Implement a solution in the file labeled `coding_problem.ipynb`."
   ]
  },
  {
   "cell_type": "markdown",
   "metadata": {},
   "source": [
    "## Hints\n",
    "\n",
    "1. Solve the problem on paper before you solve attempt to write code. However, if you are stuck, just write the basic control-flow structures that you know you need. For example, which control flow structure gets us every single element from this list?\n",
    "\n",
    "2. Think about which data-structure we need to keep track of the running sum of this entire list.  \n",
    "\n",
    "3. If you almost have your solution, but one bug is holding you back from completing all test cases, look carefully at the specific type of error Python is throwing. If it's a `TypeError`, perhaps we need a type-cast. If we have an `IndexError`, then perhaps we are accessing an index that does not exist.\n",
    "\n",
    "4. Focus on getting a working solution before attempting to improve time or space complexity."
   ]
  },
  {
   "cell_type": "code",
   "execution_count": null,
   "metadata": {},
   "outputs": [],
   "source": [
    "# write solution here\n"
   ]
  },
  {
   "cell_type": "code",
   "execution_count": null,
   "metadata": {},
   "outputs": [],
   "source": [
    "# test cases\n",
    "\n",
    "print(\"Check results below to see if you have a valid solution.\")\n",
    "\n",
    "print(\"Test 1:\", runningSum([1, 2, 3, 4]) == [1, 3, 6, 10])\n",
    "print(\"Check ordering here:\", runningSum([1, 2, 3, 4]))\n",
    "\n",
    "print(\"Test 2:\", runningSum([1, 1, 1, 1, 1]) == [1, 2, 3, 4, 5])\n",
    "print(\"Check ordering here:\", runningSum([1, 1, 1, 1, 1]))\n",
    "\n",
    "print(\"Test 3:\", runningSum([3, 1, 2, 10, 1]) == [3, 4, 6, 16, 17])\n",
    "print(\"Check ordering here:\", runningSum([3, 1, 2, 10, 1]))"
   ]
  }
 ],
 "metadata": {
  "kernelspec": {
   "display_name": "Python 3.10.7 64-bit",
   "language": "python",
   "name": "python3"
  },
  "language_info": {
   "name": "python",
   "version": "3.10.7"
  },
  "orig_nbformat": 4,
  "vscode": {
   "interpreter": {
    "hash": "369f2c481f4da34e4445cda3fffd2e751bd1c4d706f27375911949ba6bb62e1c"
   }
  }
 },
 "nbformat": 4,
 "nbformat_minor": 2
}
