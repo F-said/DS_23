{
 "cells": [
  {
   "cell_type": "markdown",
   "metadata": {},
   "source": [
    "## Review\n",
    "\n",
    "Given an array nums. We define a running sum of an array as `runningSum[i] = sum(nums[0]…nums[i])`.\n",
    "\n",
    "Return the running sum of nums.\n",
    "\n",
    "Example 1:\n",
    "```\n",
    "Input: nums = [1,2,3,4]\n",
    "Output: [1,3,6,10]\n",
    "Explanation: Running sum is obtained as follows: [1, 1+2, 1+2+3, 1+2+3+4].\n",
    "```\n",
    "\n",
    "Example 2:\n",
    "```\n",
    "Input: nums = [1,1,1,1,1]\n",
    "Output: [1,2,3,4,5]\n",
    "Explanation: Running sum is obtained as follows: [1, 1+1, 1+1+1, 1+1+1+1, 1+1+1+1+1].\n",
    "```\n",
    "\n",
    "Example 3:\n",
    "```\n",
    "Input: nums = [3,1,2,10,1]\n",
    "Output: [3,4,6,16,17]\n",
    "```\n",
    "\n",
    "Consider the time and space complexity of your solution. Once you have a working solution, consider how you can make this solution more efficient.\n",
    "\n",
    "Implement a solution in the file labeled `coding_problem.ipynb`."
   ]
  },
  {
   "cell_type": "markdown",
   "metadata": {},
   "source": [
    "## Hints\n",
    "\n",
    "1. Solve the problem on paper before you solve attempt to write code. However, if you are stuck, just write the basic control-flow structures that you know you need. For example, which control flow structure gets us every single element from this list?\n",
    "\n",
    "2. Think about which data-structure we need to keep track of the running sum of this entire list.  \n",
    "\n",
    "3. If you almost have your solution, but one bug is holding you back from completing all test cases, look carefully at the specific type of error Python is throwing. If it's a `TypeError`, perhaps we need a type-cast. If we have an `IndexError`, then perhaps we are accessing an index that does not exist.\n",
    "\n",
    "4. Focus on getting a working solution before attempting to improve time or space complexity."
   ]
  },
  {
   "cell_type": "markdown",
   "metadata": {},
   "source": [
    "## Stats Review\n",
    "\n"
   ]
  },
  {
   "cell_type": "markdown",
   "metadata": {},
   "source": [
    "## Detecting Skew\n",
    "\n",
    "Calculate the mean, median, and mode of the following dataset. What is the "
   ]
  },
  {
   "cell_type": "code",
   "execution_count": 11,
   "metadata": {},
   "outputs": [
    {
     "data": {
      "text/plain": [
       "55"
      ]
     },
     "execution_count": 11,
     "metadata": {},
     "output_type": "execute_result"
    }
   ],
   "source": [
    "import statistics\n",
    "\n",
    "# below we have a sample dataset that describes the age of mortality for 132 individuals\n",
    "ages_mort2002 = [\n",
    "    0, 0, 0, 0, 0, 0, 0, 0, 0, 0, 1, 2, 5, 11, 16, 17, 22, 26, 30, 30, 30, 31, \n",
    "    32, 32, 33, 33, 33, 33, 35, 35, 36, 36, 36, 36, 37, 37, 37, 38, 40, 40, 40,\n",
    "    41, 41, 42, 43, 44, 45, 46, 47, 49, 51, 52, 53, 54, 54, 54, 54, 54, 55, 56, \n",
    "    57, 57, 57, 58, 58, 58, 58, 59, 60, 60, 61, 61, 62, 62, 62, 63, 63, 63, 63,\n",
    "    64, 64, 64, 64, 64, 64, 64, 64, 64, 65, 65, 65, 65, 65, 65, 65, 66, 67, 68,\n",
    "    69, 69, 70, 71, 71, 71, 71, 71, 71, 71, 71, 71, 71, 71, 71, 71, 71, 72, 72]\n",
    "\n",
    "# what skew do we see? calc mean, median, and mode\n"
   ]
  },
  {
   "cell_type": "markdown",
   "metadata": {},
   "source": []
  },
  {
   "cell_type": "code",
   "execution_count": 12,
   "metadata": {},
   "outputs": [
    {
     "data": {
      "image/png": "[encoded data removed]",
      "text/plain": [
       "<Figure size 432x288 with 1 Axes>"
      ]
     },
     "metadata": {
      "needs_background": "light"
     },
     "output_type": "display_data"
    }
   ],
   "source": [
    "from matplotlib import pyplot as plt\n",
    "\n",
    "plt.hist(ages_mort2002)\n",
    " \n",
    "# Show plot\n",
    "plt.show()"
   ]
  },
  {
   "cell_type": "markdown",
   "metadata": {},
   "source": [
    "## Calculating Variance\n",
    "\n"
   ]
  },
  {
   "cell_type": "code",
   "execution_count": 15,
   "metadata": {},
   "outputs": [
    {
     "data": {
      "text/plain": [
       "1105555555.5555556"
      ]
     },
     "execution_count": 15,
     "metadata": {},
     "output_type": "execute_result"
    }
   ],
   "source": [
    "import math\n",
    "salaries = [24_000, 32_000, 32_000, 63_000, 63_000, 63_000, 63_000, 70_000, 120_000, 120_000]\n",
    "\n",
    "mean = sum(salaries)/len(salaries)\n",
    "\n",
    "differences = [(salary - mean)**2 for salary in salaries]\n",
    "\n",
    "variance = sum(differences)/(len(salaries) - 1)\n",
    "variance"
   ]
  },
  {
   "cell_type": "markdown",
   "metadata": {},
   "source": [
    "## Calculating Standard Deviation\n",
    "\n"
   ]
  },
  {
   "cell_type": "code",
   "execution_count": null,
   "metadata": {},
   "outputs": [],
   "source": []
  },
  {
   "cell_type": "markdown",
   "metadata": {},
   "source": [
    "## Finding Outliers\n",
    "\n"
   ]
  },
  {
   "cell_type": "code",
   "execution_count": 44,
   "metadata": {},
   "outputs": [
    {
     "data": {
      "image/png": "[encoded data removed]",
      "text/plain": [
       "<Figure size 432x288 with 1 Axes>"
      ]
     },
     "metadata": {
      "needs_background": "light"
     },
     "output_type": "display_data"
    },
    {
     "name": "stdout",
     "output_type": "stream",
     "text": [
      "mean 163819.16444444444\n",
      "stdev 1663383.5504036255\n",
      "mean 52943.357142857145\n",
      "stdev 28696.112446462823\n"
     ]
    }
   ],
   "source": [
    "salaries = [24_000, 24_000, 24_000, 24_000, 24_000, 24_000, 24_000, 24_000, 24_000, 24_000, 24_000, 24_000, \n",
    "            24_000, 24_000, 24_000, 24_000, 24_000, 24_000, 24_000, 24_000, 24_000, 24_000, 24_000, 24_000, \n",
    "            32_000, 32_000, 32_000, 32_000, 32_000, 32_000, 32_000, 32_000, 32_000, 32_000, 32_000, \n",
    "            32_000, 32_000, 32_000, 32_000, 32_000, 32_000, 32_000, 32_000, 32_000, 32_000, 32_000, 32_000, \n",
    "            32_000, 32_000, 32_000, 32_000, 32_000, 32_000, 48_882, 48_882, 48_882, 48_882, 48_882, 48_882, \n",
    "            48_882, 48_882, 48_882, 48_882, 48_882, 48_882, 48_882, 48_882, 48_882, 48_882, 48_882, 48_882,\n",
    "            48_882, 48_882, 48_882, 48_882, 48_882, 48_882, 48_882, 48_882, 48_882, 48_882, 48_882, 48_882,\n",
    "            48_882, 48_882, 48_882, 48_882, 48_882, 48_882,48_882,48_882, 48_882, 48_882, 48_882, 48_882,\n",
    "            52_138, 52_138, 52_138, 52_138, 52_138, 52_138, 52_138, 52_138, 52_138, 52_138, 52_138, 52_138, \n",
    "            52_138, 52_138, 52_138, 52_138, 52_138, 52_138, 52_138, 52_138, 52_138, 52_138, 52_138, 52_138,\n",
    "            52_138, 52_138, 52_138, 52_138, 52_138, 52_138, 52_138, 52_138, 52_138, 52_138, 52_138, 52_138,\n",
    "            52_138, 52_138, 52_138, 52_138, 52_138, 52_138, 52_138, 52_138, 52_138, 52_138, 52_138, 52_138,\n",
    "            52_138, 52_138, 52_138, 52_138, 52_138, 52_138, 52_138, 52_138, 52_138, 52_138, 52_138, 52_138,\n",
    "            52_138, 52_138, 52_138, 52_138, 52_138, 52_138, 52_138, 52_138, 52_138, 52_138, 52_138, 52_138,\n",
    "            52_138, 52_138, 52_138, 52_138, 52_138, 52_138, 52_138, 52_138, 52_138, 52_138, 52_138, 52_138,\n",
    "            52_138, 52_138, 60_640, 60_640, 60_640, 60_640, 60_640, 60_640, 60_640, 60_640, 60_640, 60_640, \n",
    "            63_000, 63_000, 63_000, 63_000, 70_000, 70_000, 70_000, 70_000, 70_000, 70_000, 70_000, 70_000,\n",
    "            70_000, 70_000, 70_000, 70_000, 70_000, 70_000, 70_000, 70_000, 70_000, 70_000, 70_000, 70_000,\n",
    "            120_000, 120_000, 120_000, 200_000, 200_000, 200_000, 200_000, 200_000, 200_000, 25_000_000]\n",
    "\n",
    "plt.hist(salaries, bins=4)\n",
    " \n",
    "# Show plot\n",
    "plt.show()\n",
    "\n",
    "mean = sum(salaries)/len(salaries)\n",
    "\n",
    "differences = [(salary - mean)**2 for salary in salaries]\n",
    "\n",
    "variance = sum(differences)/(len(salaries) - 1)\n",
    "stdev = variance ** (1/2)\n",
    "\n",
    "print(\"mean\", mean)\n",
    "print(\"stdev\", stdev)\n",
    "\n",
    "# removing\n",
    "salaries.remove(25_000_000)\n",
    "\n",
    "mean = sum(salaries)/len(salaries)\n",
    "\n",
    "differences = [(salary - mean)**2 for salary in salaries]\n",
    "\n",
    "variance = sum(differences)/(len(salaries) - 1)\n",
    "stdev = variance ** (1/2)\n",
    "\n",
    "print(\"mean\", mean)\n",
    "print(\"stdev\", stdev)\n"
   ]
  },
  {
   "cell_type": "markdown",
   "metadata": {},
   "source": [
    "## Central Limit Theorem\n",
    "\n"
   ]
  },
  {
   "cell_type": "code",
   "execution_count": 46,
   "metadata": {},
   "outputs": [
    {
     "data": {
      "image/png": "[encoded data removed]",
      "text/plain": [
       "<Figure size 432x288 with 1 Axes>"
      ]
     },
     "metadata": {
      "needs_background": "light"
     },
     "output_type": "display_data"
    },
    {
     "name": "stdout",
     "output_type": "stream",
     "text": [
      "Mean of means is 53294.8808\n",
      "True population mean is 52943.357142857145\n"
     ]
    }
   ],
   "source": [
    "import random\n",
    "from statistics import mean, median, mode\n",
    "\n",
    "salaries = [24_000, 24_000, 24_000, 24_000, 24_000, 24_000, 24_000, 24_000, 24_000, 24_000, 24_000, 24_000, \n",
    "            24_000, 24_000, 24_000, 24_000, 24_000, 24_000, 24_000, 24_000, 24_000, 24_000, 24_000, 24_000, \n",
    "            32_000, 32_000, 32_000, 32_000, 32_000, 32_000, 32_000, 32_000, 32_000, 32_000, 32_000, \n",
    "            32_000, 32_000, 32_000, 32_000, 32_000, 32_000, 32_000, 32_000, 32_000, 32_000, 32_000, 32_000, \n",
    "            32_000, 32_000, 32_000, 32_000, 32_000, 32_000, 48_882, 48_882, 48_882, 48_882, 48_882, 48_882, \n",
    "            48_882, 48_882, 48_882, 48_882, 48_882, 48_882, 48_882, 48_882, 48_882, 48_882, 48_882, 48_882,\n",
    "            48_882, 48_882, 48_882, 48_882, 48_882, 48_882, 48_882, 48_882, 48_882, 48_882, 48_882, 48_882,\n",
    "            48_882, 48_882, 48_882, 48_882, 48_882, 48_882,48_882,48_882, 48_882, 48_882, 48_882, 48_882,\n",
    "            52_138, 52_138, 52_138, 52_138, 52_138, 52_138, 52_138, 52_138, 52_138, 52_138, 52_138, 52_138, \n",
    "            52_138, 52_138, 52_138, 52_138, 52_138, 52_138, 52_138, 52_138, 52_138, 52_138, 52_138, 52_138,\n",
    "            52_138, 52_138, 52_138, 52_138, 52_138, 52_138, 52_138, 52_138, 52_138, 52_138, 52_138, 52_138,\n",
    "            52_138, 52_138, 52_138, 52_138, 52_138, 52_138, 52_138, 52_138, 52_138, 52_138, 52_138, 52_138,\n",
    "            52_138, 52_138, 52_138, 52_138, 52_138, 52_138, 52_138, 52_138, 52_138, 52_138, 52_138, 52_138,\n",
    "            52_138, 52_138, 52_138, 52_138, 52_138, 52_138, 52_138, 52_138, 52_138, 52_138, 52_138, 52_138,\n",
    "            52_138, 52_138, 52_138, 52_138, 52_138, 52_138, 52_138, 52_138, 52_138, 52_138, 52_138, 52_138,\n",
    "            52_138, 52_138, 60_640, 60_640, 60_640, 60_640, 60_640, 60_640, 60_640, 60_640, 60_640, 60_640, \n",
    "            63_000, 63_000, 63_000, 63_000, 70_000, 70_000, 70_000, 70_000, 70_000, 70_000, 70_000, 70_000,\n",
    "            70_000, 70_000, 70_000, 70_000, 70_000, 70_000, 70_000, 70_000, 70_000, 70_000, 70_000, 70_000,\n",
    "            120_000, 120_000, 120_000, 200_000, 200_000, 200_000, 200_000, 200_000, 200_000]\n",
    "\n",
    "# calculate sample mean for 20 random values 100 times on this list of salaries\n",
    "# append this sample mean to list\n",
    "samp_means = []\n",
    "for i in range(100):\n",
    "    sample = [random.choice(salaries) for j in range(20)]\n",
    "    samp_means.append(mean(sample))\n",
    "\n",
    "# let's see what distribution this follows\n",
    "plt.hist(samp_means, bins=8)\n",
    " \n",
    "# Show plot\n",
    "plt.show()\n",
    "\n",
    "# let's calculate the mean of this mean\n",
    "print(\"Mean of means is\", mean(samp_means))\n",
    "\n",
    "# and let's compare it to our population mean\n",
    "print(\"True population mean is\", mean(salaries))"
   ]
  },
  {
   "cell_type": "markdown",
   "metadata": {},
   "source": [
    "## Law of large numbers\n",
    "\n"
   ]
  },
  {
   "cell_type": "code",
   "execution_count": 51,
   "metadata": {},
   "outputs": [
    {
     "data": {
      "image/png": "[encoded data removed]",
      "text/plain": [
       "<Figure size 432x288 with 1 Axes>"
      ]
     },
     "metadata": {
      "needs_background": "light"
     },
     "output_type": "display_data"
    },
    {
     "name": "stdout",
     "output_type": "stream",
     "text": [
      "Mean of means is 52942.406166\n",
      "True population mean is 52943.357142857145\n"
     ]
    }
   ],
   "source": [
    "# law of large numbers, notice how the larger we make this experiment, the closer we get to the \n",
    "# mean of the true population!\n",
    "samp_means = []\n",
    "for i in range(100000):\n",
    "    sample = [random.choice(salaries) for j in range(20)]\n",
    "    samp_means.append(mean(sample))\n",
    "\n",
    "# let's see what distribution this follows\n",
    "plt.hist(samp_means, bins=10)\n",
    " \n",
    "# Show plot\n",
    "plt.show()\n",
    "\n",
    "# let's calculate the mean of this mean\n",
    "print(\"Mean of means is\", mean(samp_means))\n",
    "\n",
    "# and let's compare it to our population mean\n",
    "print(\"True population mean is\", mean(salaries))"
   ]
  }
 ],
 "metadata": {
  "kernelspec": {
   "display_name": "Python 3.10.7 64-bit",
   "language": "python",
   "name": "python3"
  },
  "language_info": {
   "codemirror_mode": {
    "name": "ipython",
    "version": 3
   },
   "file_extension": ".py",
   "mimetype": "text/x-python",
   "name": "python",
   "nbconvert_exporter": "python",
   "pygments_lexer": "ipython3",
   "version": "3.10.7"
  },
  "orig_nbformat": 4,
  "vscode": {
   "interpreter": {
    "hash": "369f2c481f4da34e4445cda3fffd2e751bd1c4d706f27375911949ba6bb62e1c"
   }
  }
 },
 "nbformat": 4,
 "nbformat_minor": 2
}
