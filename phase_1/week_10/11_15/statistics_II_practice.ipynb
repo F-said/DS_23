{
 "cells": [
  {
   "cell_type": "markdown",
   "metadata": {},
   "source": [
    "The following questions involve the following sample of data:\n",
    "\n",
    "```\n",
    "gas_2020 = [2.636, 2.533, 2.329, 1.938, 1.961, 2.170, 2.272, 2.272, 2.274, 2.248, 2.200, 2.284]\n",
    "```"
   ]
  },
  {
   "cell_type": "markdown",
   "metadata": {},
   "source": [
    "## Q0\n",
    "\n",
    "What is the variance of this dataset?\n",
    "\n"
   ]
  },
  {
   "cell_type": "markdown",
   "metadata": {},
   "source": [
    "## Q1\n",
    "\n",
    "What is the estimated standard deviation of this dataset?\n",
    "\n"
   ]
  },
  {
   "cell_type": "markdown",
   "metadata": {},
   "source": [
    "## Q2\n",
    "\n",
    "Are there any outliers?\n",
    "\n"
   ]
  },
  {
   "cell_type": "markdown",
   "metadata": {},
   "source": [
    "The following questions involve the following sample of data:\n",
    "\n",
    "```\n",
    "messages = [3060, 4030, 4030, 4060, 10_001, 3899, 2300, 10]\n",
    "```"
   ]
  },
  {
   "cell_type": "markdown",
   "metadata": {},
   "source": [
    "## Q3\n",
    "\n",
    "What is the variance of this dataset?\n",
    "\n"
   ]
  },
  {
   "cell_type": "markdown",
   "metadata": {},
   "source": [
    "## Q4\n",
    "\n",
    "What is estimated standard deviation of this dataset?\n",
    "\n"
   ]
  },
  {
   "cell_type": "markdown",
   "metadata": {},
   "source": [
    "## Q5\n",
    "\n",
    "Are there any outliers?\n",
    "\n"
   ]
  },
  {
   "cell_type": "markdown",
   "metadata": {},
   "source": [
    "## Q6\n",
    "\n",
    "When observing the central limit theorem, what do we calculate?\n",
    "\n",
    "1) Mean of sample means.  \n",
    "2) Mean of estimated deviations.  \n",
    "3) Estimated deviations of means.  \n",
    "4) Estimated deviations of estimated deviations.  "
   ]
  },
  {
   "cell_type": "markdown",
   "metadata": {},
   "source": [
    "## Q7\n",
    "\n",
    "What percent of data falls within 2 standard deviations of the mean?\n",
    "\n",
    "1) 68%  \n",
    "2) 95%  \n",
    "3) 99%  \n",
    "4) 50%  "
   ]
  },
  {
   "cell_type": "markdown",
   "metadata": {},
   "source": [
    "## Q8 \n",
    "\n",
    "You are running data analysis for the Bio-Engineering company `Neuromancer`. We are studying for negative effects a specific biotechnology has on a sample of 100 randomized individuals from the US. We notice 5 individuals report more than 10 negative side-effects.   \n",
    "\n",
    "What do we do with these 5 outliers?    \n",
    "\n",
    "1)  Discard & report these 5 outliers. They are skewing our data.\n",
    "2)  Keep these 5 outliers. They could potentially reveal insight."
   ]
  },
  {
   "cell_type": "markdown",
   "metadata": {},
   "source": [
    "## Q9\n",
    "\n",
    "You are running data analysis on the fuel efficiency of a sample of 100 newly produced cars for `Hyundai`. We notice that 28 newly produced cars from a specific factory skew our data negatively. That is, our mean mpg is greatly reduced by these outliers.\n",
    "\n",
    "What do we do with these 28 outliers?  \n",
    "\n",
    "1)  Discard & report these 28 outliers. They are skewing our data.\n",
    "2)  Keep these 28 outliers. They could potentially reveal insight."
   ]
  },
  {
   "cell_type": "markdown",
   "metadata": {},
   "source": [
    "## Challenge 1\n",
    "\n",
    "In your own words, describe the central limit theorem.\n",
    "\n"
   ]
  },
  {
   "cell_type": "markdown",
   "metadata": {},
   "source": [
    "## Challenge 2\n",
    "\n",
    "In your own words, describe the law of large numbers.\n",
    "\n"
   ]
  },
  {
   "cell_type": "markdown",
   "metadata": {},
   "source": [
    "## Challenge 3\n",
    "\n",
    "Why do we square our differences when calculating variance?\n",
    "\n"
   ]
  },
  {
   "cell_type": "markdown",
   "metadata": {},
   "source": [
    "## Challenge 4\n",
    "\n",
    "3 ants are at the vertices of a triangle. When a whistle blows, each ant randomly chooses a direction (left or right) and goes into that direction.\n",
    "\n",
    "What is the probability of a collission?\n",
    "\n",
    "\n",
    "![q6](https://user-images.githubusercontent.com/26397102/202033023-4ae7a9a2-dafe-4b6a-83d8-48db90211a9a.jpg)\n"
   ]
  }
 ],
 "metadata": {
  "kernelspec": {
   "display_name": "Python 3.10.7 64-bit",
   "language": "python",
   "name": "python3"
  },
  "language_info": {
   "name": "python",
   "version": "3.10.7"
  },
  "orig_nbformat": 4,
  "vscode": {
   "interpreter": {
    "hash": "369f2c481f4da34e4445cda3fffd2e751bd1c4d706f27375911949ba6bb62e1c"
   }
  }
 },
 "nbformat": 4,
 "nbformat_minor": 2
}
