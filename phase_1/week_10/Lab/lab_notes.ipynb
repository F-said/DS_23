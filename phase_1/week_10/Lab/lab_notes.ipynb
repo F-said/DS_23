{
 "cells": [
  {
   "cell_type": "markdown",
   "metadata": {},
   "source": [
    "## Turkey Statistics\n",
    "\n",
    "A group of turkeys are living in a gated, open field where all their needs are met.\n",
    "\n",
    "Everyday, a human comes by and drops off corn, seeds, and fruits. They even keep the wolves away.\n",
    "\n",
    "Life is good.\n",
    "\n",
    "A group of turkey statisticians make an analysis of their living conditions. They get the following graphs.\n"
   ]
  },
  {
   "cell_type": "code",
   "execution_count": 14,
   "metadata": {},
   "outputs": [
    {
     "data": {
      "image/png": "[encoded data removed]",
      "text/plain": [
       "<Figure size 432x288 with 1 Axes>"
      ]
     },
     "metadata": {
      "needs_background": "light"
     },
     "output_type": "display_data"
    }
   ],
   "source": [
    "from matplotlib import pyplot as plt\n",
    "import random\n",
    "\n",
    "# feed in cups per day\n",
    "feed_per_day = [random.randint(4, 6) for i in range(40)] + [random.randint(8, 12) for i in range(80)] + [random.randint(16, 18) for i in range(120)]\n",
    "# days past\n",
    "days = [i for i in range(1, 241)]\n",
    "\n",
    "plt.hist(feed_per_day)\n",
    " \n",
    "# Show plot\n",
    "plt.show()"
   ]
  },
  {
   "cell_type": "code",
   "execution_count": 11,
   "metadata": {},
   "outputs": [
    {
     "data": {
      "image/png": "[encoded data removed]",
      "text/plain": [
       "<Figure size 432x288 with 1 Axes>"
      ]
     },
     "metadata": {
      "needs_background": "light"
     },
     "output_type": "display_data"
    }
   ],
   "source": [
    "plt.scatter(days, feed_per_day)\n",
    " \n",
    "# Show plot\n",
    "plt.show()"
   ]
  },
  {
   "cell_type": "code",
   "execution_count": 15,
   "metadata": {},
   "outputs": [
    {
     "data": {
      "image/png": "[encoded data removed]",
      "text/plain": [
       "<Figure size 432x288 with 1 Axes>"
      ]
     },
     "metadata": {
      "needs_background": "light"
     },
     "output_type": "display_data"
    }
   ],
   "source": [
    "feed_per_day += [0]\n",
    "days += [240]\n",
    "\n",
    "plt.scatter(days , feed_per_day)\n",
    " \n",
    "# Show plot\n",
    "plt.show()"
   ]
  },
  {
   "cell_type": "markdown",
   "metadata": {},
   "source": [
    "## Coding Problem\n",
    "\n",
    "Given an integer array nums, create a function called `containsDuplicate(nums)` return true if any value appears at least twice in the array, and return false if every element is distinct.\n",
    "\n",
    "Example 1:\n",
    "```\n",
    "Input: nums = [1,2,3,1]\n",
    "Output: true\n",
    "```\n",
    "\n",
    "Example 2:\n",
    "```\n",
    "Input: nums = [1,2,3,4]\n",
    "Output: false\n",
    "```\n",
    "\n",
    "Example 3:\n",
    "```\n",
    "Input: nums = [1,1,1,3,3,4,3,2,4,2]\n",
    "Output: true\n",
    "```\n",
    "\n",
    "Write solution in provided file `coding_problem.ipynb`\n",
    "\n",
    "What is the big-O in time complexity of your solution? Is there any way we could introduce a data-structure to speed our time in sacrifice of our space complexity?"
   ]
  },
  {
   "cell_type": "markdown",
   "metadata": {},
   "source": [
    "## Outliers Review"
   ]
  },
  {
   "cell_type": "code",
   "execution_count": 18,
   "metadata": {},
   "outputs": [
    {
     "name": "stdout",
     "output_type": "stream",
     "text": [
      "52943.357142857145\n",
      "28696.112446462823\n"
     ]
    }
   ],
   "source": [
    "import statistics\n",
    "salaries = [24_000, 24_000, 24_000, 24_000, 24_000, 24_000, 24_000, 24_000, 24_000, 24_000, 24_000, 24_000, \n",
    "            24_000, 24_000, 24_000, 24_000, 24_000, 24_000, 24_000, 24_000, 24_000, 24_000, 24_000, 24_000, \n",
    "            32_000, 32_000, 32_000, 32_000, 32_000, 32_000, 32_000, 32_000, 32_000, 32_000, 32_000, \n",
    "            32_000, 32_000, 32_000, 32_000, 32_000, 32_000, 32_000, 32_000, 32_000, 32_000, 32_000, 32_000, \n",
    "            32_000, 32_000, 32_000, 32_000, 32_000, 32_000, 48_882, 48_882, 48_882, 48_882, 48_882, 48_882, \n",
    "            48_882, 48_882, 48_882, 48_882, 48_882, 48_882, 48_882, 48_882, 48_882, 48_882, 48_882, 48_882,\n",
    "            48_882, 48_882, 48_882, 48_882, 48_882, 48_882, 48_882, 48_882, 48_882, 48_882, 48_882, 48_882,\n",
    "            48_882, 48_882, 48_882, 48_882, 48_882, 48_882,48_882,48_882, 48_882, 48_882, 48_882, 48_882,\n",
    "            52_138, 52_138, 52_138, 52_138, 52_138, 52_138, 52_138, 52_138, 52_138, 52_138, 52_138, 52_138, \n",
    "            52_138, 52_138, 52_138, 52_138, 52_138, 52_138, 52_138, 52_138, 52_138, 52_138, 52_138, 52_138,\n",
    "            52_138, 52_138, 52_138, 52_138, 52_138, 52_138, 52_138, 52_138, 52_138, 52_138, 52_138, 52_138,\n",
    "            52_138, 52_138, 52_138, 52_138, 52_138, 52_138, 52_138, 52_138, 52_138, 52_138, 52_138, 52_138,\n",
    "            52_138, 52_138, 52_138, 52_138, 52_138, 52_138, 52_138, 52_138, 52_138, 52_138, 52_138, 52_138,\n",
    "            52_138, 52_138, 52_138, 52_138, 52_138, 52_138, 52_138, 52_138, 52_138, 52_138, 52_138, 52_138,\n",
    "            52_138, 52_138, 52_138, 52_138, 52_138, 52_138, 52_138, 52_138, 52_138, 52_138, 52_138, 52_138,\n",
    "            52_138, 52_138, 60_640, 60_640, 60_640, 60_640, 60_640, 60_640, 60_640, 60_640, 60_640, 60_640, \n",
    "            63_000, 63_000, 63_000, 63_000, 70_000, 70_000, 70_000, 70_000, 70_000, 70_000, 70_000, 70_000,\n",
    "            70_000, 70_000, 70_000, 70_000, 70_000, 70_000, 70_000, 70_000, 70_000, 70_000, 70_000, 70_000,\n",
    "            120_000, 120_000, 120_000, 200_000, 200_000, 200_000, 200_000, 200_000, 200_000]\n",
    "\n",
    "print(statistics.mean(salaries))\n",
    "print(statistics.stdev(salaries))"
   ]
  },
  {
   "cell_type": "code",
   "execution_count": null,
   "metadata": {},
   "outputs": [],
   "source": [
    "responses = [1, 2, 3, 3, 4, 4, 4, 4, 5, 6, 20]\n",
    "\n",
    "plt.hist(responses)\n",
    " \n",
    "# Show plot\n",
    "plt.show()"
   ]
  },
  {
   "cell_type": "markdown",
   "metadata": {},
   "source": [
    "## Central Limit Theorem Review\n",
    "\n"
   ]
  },
  {
   "cell_type": "code",
   "execution_count": 27,
   "metadata": {},
   "outputs": [
    {
     "name": "stdout",
     "output_type": "stream",
     "text": [
      "POPULATION MEAN: 52943.357142857145\n",
      "45819.5\n",
      "48474.7\n",
      "67312.8\n"
     ]
    }
   ],
   "source": [
    "salaries = [24_000, 24_000, 24_000, 24_000, 24_000, 24_000, 24_000, 24_000, 24_000, 24_000, 24_000, 24_000, \n",
    "            24_000, 24_000, 24_000, 24_000, 24_000, 24_000, 24_000, 24_000, 24_000, 24_000, 24_000, 24_000, \n",
    "            32_000, 32_000, 32_000, 32_000, 32_000, 32_000, 32_000, 32_000, 32_000, 32_000, 32_000, \n",
    "            32_000, 32_000, 32_000, 32_000, 32_000, 32_000, 32_000, 32_000, 32_000, 32_000, 32_000, 32_000, \n",
    "            32_000, 32_000, 32_000, 32_000, 32_000, 32_000, 48_882, 48_882, 48_882, 48_882, 48_882, 48_882, \n",
    "            48_882, 48_882, 48_882, 48_882, 48_882, 48_882, 48_882, 48_882, 48_882, 48_882, 48_882, 48_882,\n",
    "            48_882, 48_882, 48_882, 48_882, 48_882, 48_882, 48_882, 48_882, 48_882, 48_882, 48_882, 48_882,\n",
    "            48_882, 48_882, 48_882, 48_882, 48_882, 48_882,48_882,48_882, 48_882, 48_882, 48_882, 48_882,\n",
    "            52_138, 52_138, 52_138, 52_138, 52_138, 52_138, 52_138, 52_138, 52_138, 52_138, 52_138, 52_138, \n",
    "            52_138, 52_138, 52_138, 52_138, 52_138, 52_138, 52_138, 52_138, 52_138, 52_138, 52_138, 52_138,\n",
    "            52_138, 52_138, 52_138, 52_138, 52_138, 52_138, 52_138, 52_138, 52_138, 52_138, 52_138, 52_138,\n",
    "            52_138, 52_138, 52_138, 52_138, 52_138, 52_138, 52_138, 52_138, 52_138, 52_138, 52_138, 52_138,\n",
    "            52_138, 52_138, 52_138, 52_138, 52_138, 52_138, 52_138, 52_138, 52_138, 52_138, 52_138, 52_138,\n",
    "            52_138, 52_138, 52_138, 52_138, 52_138, 52_138, 52_138, 52_138, 52_138, 52_138, 52_138, 52_138,\n",
    "            52_138, 52_138, 52_138, 52_138, 52_138, 52_138, 52_138, 52_138, 52_138, 52_138, 52_138, 52_138,\n",
    "            52_138, 52_138, 60_640, 60_640, 60_640, 60_640, 60_640, 60_640, 60_640, 60_640, 60_640, 60_640, \n",
    "            63_000, 63_000, 63_000, 63_000, 70_000, 70_000, 70_000, 70_000, 70_000, 70_000, 70_000, 70_000,\n",
    "            70_000, 70_000, 70_000, 70_000, 70_000, 70_000, 70_000, 70_000, 70_000, 70_000, 70_000, 70_000,\n",
    "            120_000, 120_000, 120_000, 200_000, 200_000, 200_000, 200_000, 200_000, 200_000]\n",
    "\n",
    "samp_means = []\n",
    "\n",
    "print(\"POPULATION MEAN:\", statistics.mean(salaries))\n",
    "\n",
    "sample_1 = [random.choice(salaries) for j in range(20)]\n",
    "mean_1 = statistics.mean(sample_1)\n",
    "print(mean_1)\n",
    "samp_means.append(mean_1)\n",
    "\n",
    "sample_2 = [random.choice(salaries) for j in range(20)]\n",
    "mean_2 = statistics.mean(sample_2)\n",
    "print(mean_2)\n",
    "samp_means.append(mean_2)\n",
    "\n",
    "sample_3 = [random.choice(salaries) for j in range(20)]\n",
    "mean_3 = statistics.mean(sample_3)\n",
    "print(mean_3)\n",
    "samp_means.append(mean_3)\n",
    "\n",
    "# looks like our sample mean is floating around some central point. \n",
    "\n",
    "# what happens if we make our sample larger?\n"
   ]
  },
  {
   "cell_type": "code",
   "execution_count": 30,
   "metadata": {},
   "outputs": [
    {
     "data": {
      "image/png": "[encoded data removed]",
      "text/plain": [
       "<Figure size 432x288 with 1 Axes>"
      ]
     },
     "metadata": {
      "needs_background": "light"
     },
     "output_type": "display_data"
    }
   ],
   "source": [
    "# let's conduct this experiment 100 times\n",
    "samp_means = []\n",
    "for i in range(100):\n",
    "    sample = [random.choice(salaries) for j in range(20)]\n",
    "    mean = statistics.mean(sample)\n",
    "    samp_means.append(mean)\n",
    "\n",
    "# let's view the distribution\n",
    "plt.hist(samp_means, bins=8)\n",
    "\n",
    "# and relate it to pop mean\n",
    "plt.axvline(statistics.mean(salaries), color='k', linestyle='dashed', linewidth=1)\n",
    " \n",
    "# Show plot\n",
    "plt.show()"
   ]
  },
  {
   "cell_type": "markdown",
   "metadata": {},
   "source": [
    "## Law of Large Numbers\n",
    "\n"
   ]
  },
  {
   "cell_type": "code",
   "execution_count": 39,
   "metadata": {},
   "outputs": [
    {
     "data": {
      "image/png": "[encoded data removed]",
      "text/plain": [
       "<Figure size 432x288 with 1 Axes>"
      ]
     },
     "metadata": {
      "needs_background": "light"
     },
     "output_type": "display_data"
    }
   ],
   "source": [
    "# let's conduct this experiment 5000 times and see how our mean of means tuned out (with a smaller sample)\n",
    "samp_means = []\n",
    "mean_of_means = []\n",
    "for i in range(5000):\n",
    "    sample = [random.choice(salaries) for j in range(10)]\n",
    "    mean = statistics.mean(sample)\n",
    "    samp_means.append(mean)\n",
    "    mean_of_means.append(statistics.mean(samp_means))\n",
    "\n",
    "plt.scatter([i for i in range(len(mean_of_means))], mean_of_means)\n",
    "plt.axhline(statistics.mean(salaries), color='k', linestyle='dashed', linewidth=1)\n",
    "plt.show()"
   ]
  }
 ],
 "metadata": {
  "kernelspec": {
   "display_name": "Python 3.10.7 64-bit",
   "language": "python",
   "name": "python3"
  },
  "language_info": {
   "codemirror_mode": {
    "name": "ipython",
    "version": 3
   },
   "file_extension": ".py",
   "mimetype": "text/x-python",
   "name": "python",
   "nbconvert_exporter": "python",
   "pygments_lexer": "ipython3",
   "version": "3.10.7"
  },
  "orig_nbformat": 4,
  "vscode": {
   "interpreter": {
    "hash": "369f2c481f4da34e4445cda3fffd2e751bd1c4d706f27375911949ba6bb62e1c"
   }
  }
 },
 "nbformat": 4,
 "nbformat_minor": 2
}
