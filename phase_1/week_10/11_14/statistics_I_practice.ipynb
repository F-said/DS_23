{
 "cells": [
  {
   "cell_type": "markdown",
   "metadata": {},
   "source": [
    "The following questions involve the following dataset:\n",
    "\n",
    "```\n",
    "gas_2020 = [2.636, 2.533, 2.329, 1.938, 1.961, 2.170, 2.272, 2.272, 2.274, 2.248, 2.200, 2.284]\n",
    "```"
   ]
  },
  {
   "cell_type": "markdown",
   "metadata": {},
   "source": [
    "## Q0\n",
    "\n",
    "What is the range of this dataset?\n",
    "\n"
   ]
  },
  {
   "cell_type": "markdown",
   "metadata": {},
   "source": [
    "## Q1\n",
    "\n",
    "What is the mean of this dataset?\n",
    "\n"
   ]
  },
  {
   "cell_type": "markdown",
   "metadata": {},
   "source": [
    "## Q2\n",
    "\n",
    "What is the mode of this dataset?\n",
    "\n"
   ]
  },
  {
   "cell_type": "markdown",
   "metadata": {},
   "source": [
    "## Q3\n",
    "\n",
    "What is the median of this dataset?\n",
    "\n"
   ]
  },
  {
   "cell_type": "markdown",
   "metadata": {},
   "source": [
    "The following questions involve the following dataset:\n",
    "\n",
    "```\n",
    "messages = [3060, 4030, 4030, 4060, 10_001, 3899, 2300, 10]\n",
    "```"
   ]
  },
  {
   "cell_type": "markdown",
   "metadata": {},
   "source": [
    "## Q4\n",
    "\n",
    "What is the range of this dataset?\n",
    "\n"
   ]
  },
  {
   "cell_type": "markdown",
   "metadata": {},
   "source": [
    "## Q5\n",
    "\n",
    "What is the mean of this dataset?\n",
    "\n"
   ]
  },
  {
   "cell_type": "markdown",
   "metadata": {},
   "source": [
    "## Q6\n",
    "\n",
    "What is the mode of this dataset?\n",
    "\n"
   ]
  },
  {
   "cell_type": "markdown",
   "metadata": {},
   "source": [
    "## Q3\n",
    "\n",
    "What is the median of this dataset?\n",
    "\n"
   ]
  },
  {
   "cell_type": "markdown",
   "metadata": {},
   "source": [
    "## Q7\n",
    "\n",
    "What is the median of this dataset?\n",
    "\n"
   ]
  },
  {
   "cell_type": "markdown",
   "metadata": {},
   "source": [
    "## Q8\n",
    "\n",
    "![scores](https://user-images.githubusercontent.com/26397102/201770491-9da1d8bb-b8d9-4c34-acbe-27bf97ee0063.svg)  \n",
    "\n",
    "\n",
    "What kind of distribution does this graph describe?\n",
    "\n"
   ]
  },
  {
   "cell_type": "markdown",
   "metadata": {},
   "source": [
    "## Q9\n",
    "\n",
    "![images (1)](https://user-images.githubusercontent.com/26397102/201770382-8b45c082-5522-4c75-9fa6-0e442c4face1.png)    \n",
    "\n",
    "What kind of distribution does this graph describe?\n",
    "\n"
   ]
  },
  {
   "cell_type": "markdown",
   "metadata": {},
   "source": [
    "## Q10\n",
    "\n",
    "What describes a normally distributed dataset?\n",
    "\n",
    "1) Mean, median, and mode are all different.\n",
    "2) Median is less than mean.\n",
    "3) Mode is less than mean.\n",
    "4) Mean, median, and mode are all the same."
   ]
  },
  {
   "cell_type": "markdown",
   "metadata": {},
   "source": [
    "## Q11\n",
    "\n",
    "What is the Big O of computing the mean of a list `n` elements long?\n",
    "\n",
    "1) O(n)\n",
    "2) O(n^2)\n",
    "3) O(log(n))\n",
    "4) O(1)"
   ]
  }
 ],
 "metadata": {
  "language_info": {
   "name": "python"
  },
  "orig_nbformat": 4
 },
 "nbformat": 4,
 "nbformat_minor": 2
}
