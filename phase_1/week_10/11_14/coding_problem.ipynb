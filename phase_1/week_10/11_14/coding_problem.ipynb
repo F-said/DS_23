{
 "cells": [
  {
   "cell_type": "markdown",
   "metadata": {},
   "source": [
    "## Correct Ordering\n",
    "\n",
    "As data analysts, we must become pros at iterating & manupulating data. Especially in conjunction with computing calculations. Our ability and experience in this sort of computational thinking is our strength. Let's practice this skill below.\n",
    "\n",
    "I have a list of sorted numbers in ascending order. I want to insert a number into this list, but ensure that order is kept. Write a function called `insert_order(lst, num)` that takes in a list called `lst` and the number `num` you want to insert, and inserts our `num` in the correct position. For example:\n",
    "\n",
    "My list is `[4, 10, 12, 24, 64]` and my number is `13`. Calling `insert_order([4, 10, 12, 24, 64], 13)` will modify the list to be: `[4, 10, 12, 13, 24, 64]`.\n",
    "\n",
    "Once you have your solution, consider what is the time complexity & space complexity of your algorithm! \n",
    "\n",
    "Run the cell below your solution to check if your solution is correct."
   ]
  },
  {
   "cell_type": "code",
   "execution_count": null,
   "metadata": {},
   "outputs": [],
   "source": [
    "# write solution here"
   ]
  },
  {
   "cell_type": "code",
   "execution_count": null,
   "metadata": {},
   "outputs": [],
   "source": [
    "# Test code, do not modify!\n",
    "\n",
    "print(\"Check results below to see if you have a valid solution.\")\n",
    "\n",
    "print(\"Test 1:\", insert_order([4, 10, 12, 24, 64], 13) == [4, 10, 12, 13, 24, 64])\n",
    "print(\"Check ordering here:\", insert_order([4, 10, 12, 24, 64], 13))\n",
    "\n",
    "print(\"Test 2:\", insert_order([4, 10, 12, 24, 64], 65) == [4, 10, 12, 24, 65])\n",
    "print(\"Check ordering here:\", insert_order([4, 10, 12, 24, 64], 65))\n",
    "\n",
    "print(\"Test 3:\", insert_order([4, 10, 12, 24, 64], 1) == [1, 4, 10, 12, 24])\n",
    "print(\"Check ordering here:\", insert_order([4, 10, 12, 24, 64], 1))"
   ]
  }
 ],
 "metadata": {
  "kernelspec": {
   "display_name": "Python 3.10.7 64-bit",
   "language": "python",
   "name": "python3"
  },
  "language_info": {
   "name": "python",
   "version": "3.10.7"
  },
  "orig_nbformat": 4,
  "vscode": {
   "interpreter": {
    "hash": "369f2c481f4da34e4445cda3fffd2e751bd1c4d706f27375911949ba6bb62e1c"
   }
  }
 },
 "nbformat": 4,
 "nbformat_minor": 2
}
