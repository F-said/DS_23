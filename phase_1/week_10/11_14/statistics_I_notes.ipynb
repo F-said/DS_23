{
 "cells": [
  {
   "cell_type": "markdown",
   "metadata": {},
   "source": [
    "## Review\n",
    "\n",
    "As data analysts, we must become pros at iterating & manupulating data. Especially in conjunction with computing calculations. Our ability and experience in this sort of computational thinking is our strength. Let's practice this skill below.\n",
    "\n",
    "I have a list of sorted numbers in ascending order. I want to insert a number into this list, but ensure that order is kept. Write a function called `insert_order(lst, num)` that takes in a list called `lst` and the number `num` you want to insert, and inserts our `num` in the correct position. For example:\n",
    "\n",
    "My list is `[4, 10, 12, 24, 64]` and my number is `13`. Calling `insert_order([4, 10, 12, 24, 64], 13)` will modify the list to be: `[4, 10, 12, 13, 24, 64]`.\n",
    "\n",
    "Write code in provided ipynb file for submission. This is ungraded, so even if your solution does not work, please submit your code. "
   ]
  },
  {
   "cell_type": "markdown",
   "metadata": {},
   "source": [
    "## Hints\n",
    "\n",
    "1. Solve the problem on paper before you solve attempt to write code. However, if you are stuck, just write the basic control-flow structures that you know you need. For example, which control flow structure gets us every single element from this list?\n",
    "\n",
    "2. The basic `for val in lst` loop could potentially work in this solution. However, it will be easier to visualize our solution by utilizing a `for i in range(len(lst))` loop. This will give us every *index* of our list, which we can then use to access every value of our list by doing `lst[i]`. \n",
    "\n",
    "3. Once we have `lst[i]`, think about what simple arithmetic we can use to get the value immediately to the right of the value at this index. \n",
    "\n",
    "4. If you almost have your solution, but one bug is holding you back from completing all test cases, look carefully at what Python is complaining about. It will hint to you what it is upset about, which will lead us to a solution."
   ]
  },
  {
   "cell_type": "markdown",
   "metadata": {},
   "source": [
    "## Statistics Intro\n",
    "\n"
   ]
  },
  {
   "cell_type": "code",
   "execution_count": 20,
   "metadata": {},
   "outputs": [],
   "source": [
    "salaries = [24_000, 32_000, 32_000, 63_000, 63_000, 63_000, 63_000, 70_000, 120_000, 120_000]"
   ]
  },
  {
   "cell_type": "code",
   "execution_count": 21,
   "metadata": {},
   "outputs": [
    {
     "data": {
      "image/png": "[encoded data removed]",
      "text/plain": [
       "<Figure size 432x288 with 1 Axes>"
      ]
     },
     "metadata": {
      "needs_background": "light"
     },
     "output_type": "display_data"
    }
   ],
   "source": [
    "# do not worry about the syntax of this code, this is only for visualization purposes\n",
    "# although there is nothing wrong in exploring\n",
    "\n",
    "from matplotlib import pyplot as plt\n",
    "\n",
    "plt.bar(list(range(len(salaries))), salaries)\n",
    "plt.show()"
   ]
  },
  {
   "cell_type": "code",
   "execution_count": 22,
   "metadata": {},
   "outputs": [
    {
     "data": {
      "image/png": "[encoded data removed]",
      "text/plain": [
       "<Figure size 432x288 with 1 Axes>"
      ]
     },
     "metadata": {
      "needs_background": "light"
     },
     "output_type": "display_data"
    }
   ],
   "source": [
    "# do not worry about the syntax of this code, this is only for visualization purposes\n",
    "# although there is nothing wrong in exploring\n",
    "\n",
    "import numpy as np\n",
    "\n",
    "n, bins = np.histogram(salaries, bins=10)\n",
    "\n",
    "plt.hist(salaries,  bins=bins)\n",
    " \n",
    "# Show plot\n",
    "plt.show()"
   ]
  },
  {
   "cell_type": "markdown",
   "metadata": {},
   "source": [
    "## Computing Range\n",
    "\n"
   ]
  },
  {
   "cell_type": "code",
   "execution_count": null,
   "metadata": {},
   "outputs": [],
   "source": [
    "# practice\n",
    "gas_prices = [3.413, 3.611, 4.322, 4.213, 4.545, 5.032, 4.668, 4.087, 3.817, 3.935]\n",
    "\n",
    "# what is the range of these gas prices"
   ]
  },
  {
   "cell_type": "markdown",
   "metadata": {},
   "source": [
    "## Computing Mean\n",
    "\n"
   ]
  },
  {
   "cell_type": "code",
   "execution_count": 23,
   "metadata": {},
   "outputs": [
    {
     "data": {
      "text/plain": [
       "65000.0"
      ]
     },
     "execution_count": 23,
     "metadata": {},
     "output_type": "execute_result"
    }
   ],
   "source": [
    "sum(salaries)/len(salaries)"
   ]
  },
  {
   "cell_type": "code",
   "execution_count": null,
   "metadata": {},
   "outputs": [],
   "source": [
    "# practice\n",
    "\n",
    "gas_prices = [3.413, 3.611, 4.322, 4.213, 4.545, 5.032, 4.668, 4.087, 3.817, 3.935]\n",
    "\n",
    "# what is the mean of these gas prices\n",
    "\n",
    "# this number is an estimate (maybe) of our November prices."
   ]
  },
  {
   "cell_type": "markdown",
   "metadata": {},
   "source": [
    "## Computing Median\n",
    "\n"
   ]
  },
  {
   "cell_type": "code",
   "execution_count": 24,
   "metadata": {},
   "outputs": [
    {
     "name": "stdout",
     "output_type": "stream",
     "text": [
      "12400053000.0\n"
     ]
    }
   ],
   "source": [
    "salaries = [24_000, 32_000, 32_000, 63_000, 63_000, 63_000, 63_000, 70_000, 120_000, 124_000_000_000]\n",
    "print(sum(salaries)/len(salaries))"
   ]
  },
  {
   "cell_type": "code",
   "execution_count": 27,
   "metadata": {},
   "outputs": [
    {
     "data": {
      "image/png": "[encoded data removed]",
      "text/plain": [
       "<Figure size 432x288 with 1 Axes>"
      ]
     },
     "metadata": {
      "needs_background": "light"
     },
     "output_type": "display_data"
    }
   ],
   "source": [
    "# do not worry about the syntax of this code, this is only for visualization purposes\n",
    "# although there is nothing wrong in exploring\n",
    "\n",
    "from matplotlib import pyplot as plt\n",
    "\n",
    "plt.bar(list(range(len(salaries))), salaries)\n",
    "plt.show()"
   ]
  },
  {
   "cell_type": "code",
   "execution_count": null,
   "metadata": {},
   "outputs": [],
   "source": [
    "# practice \n",
    "stock = [4.99, 5.11, 9.52, 9.62, 10.39, 9.34, 9.81, 10.65, 24.18, 22.14, 88.71]\n",
    "\n",
    "# calculate the median of this stock\n"
   ]
  },
  {
   "cell_type": "markdown",
   "metadata": {},
   "source": [
    "## Computing Mode\n",
    "\n"
   ]
  },
  {
   "cell_type": "code",
   "execution_count": null,
   "metadata": {},
   "outputs": [],
   "source": [
    "# practice\n",
    "heights = [1.59, 1.62, 1.63, 1.64, 1.64, 1.65, 1.65, 1.65, 1.65]\n"
   ]
  },
  {
   "cell_type": "markdown",
   "metadata": {},
   "source": [
    "## Computing Probability\n",
    "\n"
   ]
  },
  {
   "cell_type": "code",
   "execution_count": null,
   "metadata": {},
   "outputs": [],
   "source": [
    "outcomes = [1,2,3,4,5,6]\n",
    "\n",
    "# the list above describes the possible roles of a 6-sided dice\n",
    "\n",
    "# what is the probability of rolling a \"6\"?\n",
    "\n",
    "# what is the probability of rolling a \"6\" or a \"2\""
   ]
  },
  {
   "cell_type": "markdown",
   "metadata": {},
   "source": [
    "## Testing this Out\n",
    "\n"
   ]
  },
  {
   "cell_type": "code",
   "execution_count": 33,
   "metadata": {},
   "outputs": [
    {
     "data": {
      "image/png": "[encoded data removed]",
      "text/plain": [
       "<Figure size 432x288 with 1 Axes>"
      ]
     },
     "metadata": {
      "needs_background": "light"
     },
     "output_type": "display_data"
    }
   ],
   "source": [
    "# graph the distribution of summing up two random dice throws\n",
    "import random\n",
    "import numpy as np\n",
    "\n",
    "results = []\n",
    "for i in range(1000):\n",
    "    roll1 = random.randint(1, 6)\n",
    "    roll2 = random.randint(1, 6)\n",
    "    results.append(roll1 + roll2)\n",
    "\n",
    "n, bins = np.histogram(results, bins=11)\n",
    "\n",
    "plt.hist(results,  bins=bins)\n",
    " \n",
    "# Show plot\n",
    "plt.show()"
   ]
  }
 ],
 "metadata": {
  "kernelspec": {
   "display_name": "Python 3.10.7 64-bit",
   "language": "python",
   "name": "python3"
  },
  "language_info": {
   "codemirror_mode": {
    "name": "ipython",
    "version": 3
   },
   "file_extension": ".py",
   "mimetype": "text/x-python",
   "name": "python",
   "nbconvert_exporter": "python",
   "pygments_lexer": "ipython3",
   "version": "3.10.7"
  },
  "orig_nbformat": 4,
  "vscode": {
   "interpreter": {
    "hash": "369f2c481f4da34e4445cda3fffd2e751bd1c4d706f27375911949ba6bb62e1c"
   }
  }
 },
 "nbformat": 4,
 "nbformat_minor": 2
}
