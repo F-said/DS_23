{
 "cells": [
  {
   "cell_type": "markdown",
   "metadata": {},
   "source": [
    "## Review\n",
    "\n",
    "As data analysts, we must become pros at iterating & manupulating data. Especially in conjunction with computing calculations. Our ability and experience in this sort of computational thinking is our strength. Let's practice this skill below.\n",
    "\n",
    "I have a list of sorted numbers in ascending order. I want to insert a number into this list, but ensure that order is kept. Write a function called `insert_order(lst, num)` that takes in a list called `lst` and the number `num` you want to insert, and inserts our `num` in the correct position. For example:\n",
    "\n",
    "My list is `[4, 10, 12, 24, 64]` and my number is `13`. Calling `insert_order([4, 10, 12, 24, 64], 13)` will modify the list to be: `[4, 10, 12, 13, 24, 64]`.\n",
    "\n",
    "Write code in provided ipynb file for submission. This is ungraded, so even if your solution does not work, please submit your code. "
   ]
  },
  {
   "cell_type": "markdown",
   "metadata": {},
   "source": [
    "## Hints\n",
    "\n",
    "1. Solve the problem on paper before you solve attempt to write code. However, if you are stuck, just write the basic control-flow structures that you know you need. For example, which control flow structure gets us every single element from this list?\n",
    "\n",
    "2. The basic `for val in lst` loop could potentially work in this solution. However, it will be easier to visualize our solution by utilizing a `for i in range(len(lst))` loop. This will give us every *index* of our list, which we can then use to access every value of our list by doing `lst[i]`. \n",
    "\n",
    "3. Once we have `lst[i]`, think about what simple arithmetic we can use to get the value immediately to the right of the value at this index. \n",
    "\n",
    "4. If you almost have your solution, but one bug is holding you back from completing all test cases, look carefully at what Python is complaining about. It will hint to you what it is upset about, which will lead us to a solution."
   ]
  },
  {
   "cell_type": "markdown",
   "metadata": {},
   "source": [
    "## Statistics Intro\n",
    "\n",
    "Statistics is what we use when we want to gain insight on a dataset.\n",
    "\n",
    "The basics are enough for powerful insight on our dataset.\n",
    "\n",
    "As data analysts, we want to objectively talk about datasets, just like we want to be able to objectively talk about “good” programs. We will separate terminology after definition.\n",
    "\n",
    "Our essentials for today will be\n",
    "\n",
    "Range\n",
    "Mean\n",
    "Median\n",
    "Mode\n",
    "\n",
    "What is a dataset?\n",
    "\n",
    "Mathematically: a series of numbers\n",
    "\n",
    "Pythonically: a list, a set, a dataframe, a list of dictionaries\n",
    "\n",
    "We will only focus on a series of numbers as our dataset for now. Specifically, salaries. Let’s say we conducted a random survey of 10 Americans and how much they earn before taxes per-year. We have a “sample” of data. \n",
    "\n",
    "\n",
    "Let’s see how this sample could describe the population."
   ]
  },
  {
   "cell_type": "code",
   "execution_count": 3,
   "metadata": {},
   "outputs": [],
   "source": [
    "salaries = [24_000, 32_000, 32_000, 63_000, 63_000, 63_000, 63_000, 70_000, 120_000, 120_000]"
   ]
  },
  {
   "cell_type": "code",
   "execution_count": 4,
   "metadata": {},
   "outputs": [
    {
     "data": {
      "image/png": "[encoded data removed]",
      "text/plain": [
       "<Figure size 432x288 with 1 Axes>"
      ]
     },
     "metadata": {
      "needs_background": "light"
     },
     "output_type": "display_data"
    }
   ],
   "source": [
    "# do not worry about the syntax of this code, this is only for visualization purposes\n",
    "# although there is nothing wrong in exploring\n",
    "\n",
    "from matplotlib import pyplot as plt\n",
    "\n",
    "plt.bar(list(range(len(salaries))), salaries)\n",
    "plt.show()"
   ]
  },
  {
   "cell_type": "code",
   "execution_count": 7,
   "metadata": {},
   "outputs": [
    {
     "data": {
      "image/png": "[encoded data removed]",
      "text/plain": [
       "<Figure size 432x288 with 1 Axes>"
      ]
     },
     "metadata": {
      "needs_background": "light"
     },
     "output_type": "display_data"
    }
   ],
   "source": [
    "# do not worry about the syntax of this code, this is only for visualization purposes\n",
    "# although there is nothing wrong in exploring\n",
    "\n",
    "import numpy as np\n",
    "\n",
    "plt.hist(salaries,  bins=4)\n",
    " \n",
    "# Show plot\n",
    "plt.show()"
   ]
  },
  {
   "cell_type": "markdown",
   "metadata": {},
   "source": [
    "## Computing Range\n",
    "\n",
    "Let’s first describe the “span” or “range” of our dataset. “How spread out is it.” \n",
    "\n",
    "max(data) - min(data) = range \n",
    "\n",
    "\n",
    "What is the range of this dataset?\n",
    "96_000\n",
    "\n",
    "With a large enough sample size, we could state with some certainty what values we can expect from this  dataset"
   ]
  },
  {
   "cell_type": "code",
   "execution_count": null,
   "metadata": {},
   "outputs": [],
   "source": [
    "# practice\n",
    "gas_prices = [3.413, 3.611, 4.322, 4.213, 4.545, 5.032, 4.668, 4.087, 3.817, 3.935]\n",
    "\n",
    "# what is the range of these gas prices"
   ]
  },
  {
   "cell_type": "markdown",
   "metadata": {},
   "source": [
    "## Computing Mean\n",
    "\n",
    "Visualizing our dataset, we see a central value where our salaries are converging on.\n",
    "\n",
    "This shows that, most-likely, someone’s salary in this sample will most likely be this central  value\n",
    "\n",
    "That is, with a large enough  sample, we can more confidently predict that an unsurveyed person’s salary is around this value\n",
    "\n",
    "We call this “x-bar” x̄, sample average, because it is only an estimate of our population mean"
   ]
  },
  {
   "cell_type": "code",
   "execution_count": 23,
   "metadata": {},
   "outputs": [
    {
     "data": {
      "text/plain": [
       "65000.0"
      ]
     },
     "execution_count": 23,
     "metadata": {},
     "output_type": "execute_result"
    }
   ],
   "source": [
    "sum(salaries)/len(salaries)"
   ]
  },
  {
   "cell_type": "code",
   "execution_count": null,
   "metadata": {},
   "outputs": [],
   "source": [
    "# practice\n",
    "\n",
    "gas_prices = [3.413, 3.611, 4.322, 4.213, 4.545, 5.032, 4.668, 4.087, 3.817, 3.935]\n",
    "\n",
    "# what is the mean of these gas prices\n",
    "\n",
    "# this number is an estimate (maybe) of our November prices."
   ]
  },
  {
   "cell_type": "markdown",
   "metadata": {},
   "source": [
    "## Population Mean\n",
    "\n",
    "There are 127,000,000 working americans. We often do not have the ability to survey every single data-point.\n",
    "\n",
    "This could potentially lead to  biased results, so we aim to have as much randomized data as  possible\n",
    "\n",
    "Our population mean formula is  the same as sample mean, but on every piece of data\n",
    "\n",
    "If we could get everyone’s salary we would have our population mean “μ” (mew) (mu)"
   ]
  },
  {
   "cell_type": "markdown",
   "metadata": {},
   "source": [
    "## Computing Median\n",
    "\n",
    "Is “average” the end-all and be-all of describing a dataset? It is, after all, a pretty good predictor.\n",
    "\n",
    "Let’s consider the following, you, 8 other Americans, and Jeff Bezos were surveyed for “net worth.”\n",
    "\n",
    "Let’s compute the mean of our data\n"
   ]
  },
  {
   "cell_type": "code",
   "execution_count": 24,
   "metadata": {},
   "outputs": [
    {
     "name": "stdout",
     "output_type": "stream",
     "text": [
      "12400053000.0\n"
     ]
    }
   ],
   "source": [
    "salaries = [24_000, 32_000, 32_000, 63_000, 63_000, 63_000, 63_000, 70_000, 120_000, 124_000_000_000]\n",
    "print(sum(salaries)/len(salaries))"
   ]
  },
  {
   "cell_type": "code",
   "execution_count": 27,
   "metadata": {},
   "outputs": [
    {
     "data": {
      "image/png": "[encoded data removed]",
      "text/plain": [
       "<Figure size 432x288 with 1 Axes>"
      ]
     },
     "metadata": {
      "needs_background": "light"
     },
     "output_type": "display_data"
    }
   ],
   "source": [
    "# do not worry about the syntax of this code, this is only for visualization purposes\n",
    "# although there is nothing wrong in exploring\n",
    "\n",
    "from matplotlib import pyplot as plt\n",
    "\n",
    "plt.bar(list(range(len(salaries))), salaries)\n",
    "plt.show()"
   ]
  },
  {
   "cell_type": "markdown",
   "metadata": {},
   "source": [
    "Wow! 12,000,000,000 average net worth of US.\n",
    "\n",
    "We need more metrics to assess our dataset in the case of this “outlier”\n",
    "\n",
    "Outlier: an observation that lies \n",
    "an abnormal distance from other \n",
    "values in a random sample from a \n",
    "population\n",
    "\n",
    "Median will give us a clearer picture.\n"
   ]
  },
  {
   "cell_type": "code",
   "execution_count": null,
   "metadata": {},
   "outputs": [],
   "source": [
    "# practice \n",
    "stock = [4.99, 5.11, 9.52, 9.62, 10.39, 9.34, 9.81, 10.65, 24.18, 22.14, 88.71]\n",
    "\n",
    "# calculate the median of this stock\n"
   ]
  },
  {
   "cell_type": "markdown",
   "metadata": {},
   "source": [
    "## Computing Mode\n",
    "\n",
    "Another “outlier”-resistant metric is mode, which is simply which number has the highest frequency. (What numbers shows up the most?)\n",
    "\n",
    "max_freq(salaries) = mode\n",
    "\n",
    "On paper, we calculate this by simply extracting the number which occurs the most.\n",
    "\n",
    "What is the mode in our salaries list?"
   ]
  },
  {
   "cell_type": "code",
   "execution_count": null,
   "metadata": {},
   "outputs": [],
   "source": [
    "# practice\n",
    "heights = [1.59, 1.62, 1.63, 1.64, 1.64, 1.65, 1.65, 1.65, 1.65]\n"
   ]
  },
  {
   "cell_type": "markdown",
   "metadata": {},
   "source": [
    "## Normal Distribution\n",
    "\n",
    "These measures describe and measure “central tendency.”\n",
    "\n",
    "As we can observe, we can’t use one singular measure to describe our dataset, and utilize all 3 to describe our sample dataset.\n",
    "\n",
    "If all 3 measures are the same, we have “normal distribution” (Gaussian distribution) which essentially indicates that data occurs most often in middle, rather than in ends.\n",
    "\n",
    "Almost all phenomena that we want to measure will follow normal distribution (extremes are rare, middle-points are common)\n",
    "\n",
    "If see that our dataset does not have normal distribution (Bezos + 9 Americans), this most likely hints that our sample of data is biased. (collect more data!)"
   ]
  },
  {
   "cell_type": "markdown",
   "metadata": {},
   "source": [
    "## Computing Probability\n",
    "\n",
    "Probability is a measure of frequency observed in historical data, which informs us on how likely or unlikely an event is.\n",
    "\n",
    "Ex: What is the probability of flipping “heads” for a coin?\n",
    "\n",
    "We know this is 50%, since out of 2 possible outcomes, 1 of them is “heads.” ½ therefore 50%\n",
    "\n",
    "A couple of useful probability equations are the following:\n",
    "\n",
    "\n",
    "\t\tP(A and B) = P(A) * P(B)\n",
    "\n",
    "\t\tP(A or B) = P(A) + P(B)\n",
    "\n",
    "Often when we calculate a probability, we convert this into a percentage.\n",
    "\n",
    "Ex: P(Heads or Tails) = ½ + ½ = 1 = 100%\n",
    "\n"
   ]
  },
  {
   "cell_type": "code",
   "execution_count": null,
   "metadata": {},
   "outputs": [],
   "source": [
    "outcomes = [1,2,3,4,5,6]\n",
    "\n",
    "# the list above describes the possible roles of a 6-sided dice\n",
    "\n",
    "# what is the probability of rolling a \"6\"?\n",
    "\n",
    "# what is the probability of rolling a \"6\" or a \"2\""
   ]
  },
  {
   "cell_type": "markdown",
   "metadata": {},
   "source": [
    "When viewing our normal distribution, we are also calculating the probability that some new value will fall under a specific “bin” or range of values.\n",
    "\n",
    "We utilize “standard deviation” to view which values have the highest percent of occurring. \n"
   ]
  },
  {
   "cell_type": "markdown",
   "metadata": {},
   "source": [
    "## Testing this Out\n",
    "\n",
    "Let’s run an experiment. We are going to roll 2 dice 1000 times. Each time we roll the dice, we calculate the sum of the two upward facing numbers.\n",
    "\n",
    "What will our distribution look like?\n",
    "\n",
    "What will be the mean?\n"
   ]
  },
  {
   "cell_type": "code",
   "execution_count": 34,
   "metadata": {},
   "outputs": [
    {
     "data": {
      "image/png": "[encoded data removed]",
      "text/plain": [
       "<Figure size 432x288 with 1 Axes>"
      ]
     },
     "metadata": {
      "needs_background": "light"
     },
     "output_type": "display_data"
    },
    {
     "name": "stdout",
     "output_type": "stream",
     "text": [
      "6.859\n"
     ]
    }
   ],
   "source": [
    "# graph the distribution of summing up two random dice throws\n",
    "import random\n",
    "import numpy as np\n",
    "\n",
    "results = []\n",
    "for i in range(1000):\n",
    "    roll1 = random.randint(1, 6)\n",
    "    roll2 = random.randint(1, 6)\n",
    "    results.append(roll1 + roll2)\n",
    "\n",
    "n, bins = np.histogram(results, bins=11)\n",
    "\n",
    "plt.hist(results,  bins=bins)\n",
    " \n",
    "# Show plot\n",
    "plt.show()\n",
    "\n",
    "# show mean\n",
    "print(sum(results)/len(results))"
   ]
  }
 ],
 "metadata": {
  "kernelspec": {
   "display_name": "Python 3.10.7 64-bit",
   "language": "python",
   "name": "python3"
  },
  "language_info": {
   "codemirror_mode": {
    "name": "ipython",
    "version": 3
   },
   "file_extension": ".py",
   "mimetype": "text/x-python",
   "name": "python",
   "nbconvert_exporter": "python",
   "pygments_lexer": "ipython3",
   "version": "3.10.7"
  },
  "orig_nbformat": 4,
  "vscode": {
   "interpreter": {
    "hash": "369f2c481f4da34e4445cda3fffd2e751bd1c4d706f27375911949ba6bb62e1c"
   }
  }
 },
 "nbformat": 4,
 "nbformat_minor": 2
}
