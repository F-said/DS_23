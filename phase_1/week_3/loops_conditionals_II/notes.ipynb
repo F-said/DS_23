{
 "cells": [
  {
   "cell_type": "markdown",
   "metadata": {},
   "source": [
    "## Prompt\n",
    "\n",
    "Is there a better way to do the following?"
   ]
  },
  {
   "cell_type": "code",
   "execution_count": 6,
   "metadata": {},
   "outputs": [
    {
     "name": "stdout",
     "output_type": "stream",
     "text": [
      "0\n",
      "1\n",
      "2\n",
      "3\n",
      "4\n"
     ]
    }
   ],
   "source": [
    "x = 0\n",
    "\n",
    "print(x)\n",
    "x = x + 1\n",
    "print(x)\n",
    "x = x + 1\n",
    "print(x)\n",
    "x = x + 1\n",
    "print(x)\n",
    "x = x + 1\n",
    "print(x)\n",
    "x = x + 1\n"
   ]
  },
  {
   "cell_type": "markdown",
   "metadata": {},
   "source": [
    "## Looping\n",
    "\n",
    "Recall last week's subject-matter, we can employ while-loops to accomplish exactly this. "
   ]
  },
  {
   "cell_type": "code",
   "execution_count": 7,
   "metadata": {},
   "outputs": [
    {
     "name": "stdout",
     "output_type": "stream",
     "text": [
      "0\n",
      "1\n",
      "2\n",
      "3\n",
      "4\n"
     ]
    }
   ],
   "source": [
    "x = 0\n",
    "while x < 5:\n",
    "  print(x)\n",
    "  x += 1\n"
   ]
  },
  {
   "cell_type": "markdown",
   "metadata": {},
   "source": [
    "## For-loops\n",
    "\n",
    "But there's always an alternative in programming. In this case our alternative are for-loops. While these accomplish the exact same goal in roughly the same process, notice how the for-loop doesn't necessitate the creation of \"x\", and we do not need to explictly tell the for-loop to increment by 1. \n",
    "\n",
    "In terms of \"cognitive complexity\" & reading code, this is a much better alternative."
   ]
  },
  {
   "cell_type": "code",
   "execution_count": 8,
   "metadata": {},
   "outputs": [
    {
     "name": "stdout",
     "output_type": "stream",
     "text": [
      "0\n",
      "1\n",
      "2\n",
      "3\n",
      "4\n"
     ]
    }
   ],
   "source": [
    "for x in range(5):\n",
    "  print(x)\n"
   ]
  },
  {
   "cell_type": "markdown",
   "metadata": {},
   "source": [
    "## Syntax\n",
    "\n",
    "As long as the structure of your for-loop remains as `for var in iterable:`, your for-loop will function.\n",
    "\n",
    "This reveals an important point! You are creating a variable when you write out a for-loop! A variable that still exists after your code is done running.\n",
    "\n",
    "While the variable name is completely up to you, we should still follow best-practices and have clear variable names."
   ]
  },
  {
   "cell_type": "code",
   "execution_count": 9,
   "metadata": {},
   "outputs": [
    {
     "name": "stdout",
     "output_type": "stream",
     "text": [
      "4\n"
     ]
    }
   ],
   "source": [
    "# your variable is still here!\n",
    "print(x)"
   ]
  },
  {
   "cell_type": "markdown",
   "metadata": {},
   "source": [
    "## Iterable\n",
    "\n",
    "Most importantly however, let's discuss the \"iterable\" part of our loop. Let's try printing out the \"range\" part of the function by itself."
   ]
  },
  {
   "cell_type": "code",
   "execution_count": 10,
   "metadata": {},
   "outputs": [
    {
     "data": {
      "text/plain": [
       "range(0, 5)"
      ]
     },
     "execution_count": 10,
     "metadata": {},
     "output_type": "execute_result"
    }
   ],
   "source": [
    "# Not too helpful, let's expand this\n",
    "range(5)"
   ]
  },
  {
   "cell_type": "code",
   "execution_count": 11,
   "metadata": {},
   "outputs": [
    {
     "data": {
      "text/plain": [
       "[0, 1, 2, 3, 4]"
      ]
     },
     "execution_count": 11,
     "metadata": {},
     "output_type": "execute_result"
    }
   ],
   "source": [
    "# Using this \"list\" function reveals that this is a list of numbers \n",
    "list(range(5))"
   ]
  },
  {
   "cell_type": "code",
   "execution_count": 12,
   "metadata": {},
   "outputs": [
    {
     "data": {
      "text/plain": [
       "[0, 1, 2, 3, 4, 5, 6, 7, 8, 9]"
      ]
     },
     "execution_count": 12,
     "metadata": {},
     "output_type": "execute_result"
    }
   ],
   "source": [
    "# Always starts at 0, and ends at n-1 from the input \"n\"\n",
    "list(range(10))"
   ]
  },
  {
   "cell_type": "markdown",
   "metadata": {},
   "source": [
    "## Iterable continued.\n",
    "\n",
    "So that's how the variable in our loop gets each number from 0 to the last number - 1. It simply walks through this sequence and executes the body of this for each number listed.\n",
    "\n",
    "However, there is more than one way to use this range function..."
   ]
  },
  {
   "cell_type": "code",
   "execution_count": 13,
   "metadata": {},
   "outputs": [
    {
     "data": {
      "text/plain": [
       "[4, 5, 6, 7, 8, 9]"
      ]
     },
     "execution_count": 13,
     "metadata": {},
     "output_type": "execute_result"
    }
   ],
   "source": [
    "# Control where you start from\n",
    "list(range(4, 10))"
   ]
  },
  {
   "cell_type": "code",
   "execution_count": 14,
   "metadata": {},
   "outputs": [
    {
     "data": {
      "text/plain": [
       "[4, 6, 8]"
      ]
     },
     "execution_count": 14,
     "metadata": {},
     "output_type": "execute_result"
    }
   ],
   "source": [
    "# Control how much you iterate by\n",
    "list(range(4, 10, 2))"
   ]
  },
  {
   "cell_type": "code",
   "execution_count": 15,
   "metadata": {},
   "outputs": [
    {
     "data": {
      "text/plain": [
       "[10, 9, 8, 7, 6, 5, 4, 3, 2, 1]"
      ]
     },
     "execution_count": 15,
     "metadata": {},
     "output_type": "execute_result"
    }
   ],
   "source": [
    "# With a little imagination, you can also go backwards\n",
    "list(range(10, 0, -1))"
   ]
  },
  {
   "cell_type": "markdown",
   "metadata": {},
   "source": [
    "## Translating code\n",
    "\n",
    "This exploration of for-loops reveals that there are a lot of things in programming that accomplish the same thing. In fact there is a lot of overlap between programming languages as well! We will later on figure out why we choose certain concepts over others when it comes to solving problems."
   ]
  },
  {
   "cell_type": "code",
   "execution_count": 16,
   "metadata": {},
   "outputs": [
    {
     "name": "stdout",
     "output_type": "stream",
     "text": [
      "2\n",
      "4\n",
      "6\n",
      "8\n"
     ]
    }
   ],
   "source": [
    "# Notice how this while-loop\n",
    "x = 2\n",
    "while x < 10:\n",
    "    print(x)\n",
    "    x += 2"
   ]
  },
  {
   "cell_type": "code",
   "execution_count": 17,
   "metadata": {},
   "outputs": [
    {
     "name": "stdout",
     "output_type": "stream",
     "text": [
      "2\n",
      "4\n",
      "6\n",
      "8\n"
     ]
    }
   ],
   "source": [
    "# does the same exact thing as this for-loop\n",
    "for x in range(2, 10, 2):\n",
    "  print(x)\n"
   ]
  },
  {
   "cell_type": "markdown",
   "metadata": {},
   "source": [
    "## Prompt\n",
    "\n",
    "What will result from the following block of code?"
   ]
  },
  {
   "cell_type": "code",
   "execution_count": 18,
   "metadata": {},
   "outputs": [
    {
     "name": "stdout",
     "output_type": "stream",
     "text": [
      "it's a cat\n"
     ]
    }
   ],
   "source": [
    "four_legs = True\n",
    "furry = True\n",
    "barks = False\n",
    "\n",
    "if four_legs and furry and barks:\n",
    "    print(\"it's a dog\")\n",
    "elif four_legs and furry and not barks:\n",
    "    print(\"it's a cat\")\n",
    "else:\n",
    "    print(\"it's neither a dog nor a cat\")\n"
   ]
  },
  {
   "cell_type": "markdown",
   "metadata": {},
   "source": [
    "## Boolean statements review\n",
    "\n",
    "Logic is inseperable from coding, and therefore you will be dealing with it constantly. Let's go over a couple of commonly seen logical statements."
   ]
  },
  {
   "cell_type": "markdown",
   "metadata": {},
   "source": [
    "## And Statements\n",
    "\n",
    "\"And\" statements, aka conjunctions, are multiple true or false statements joined together by the \"and\" logical operator. We decompose these strings of or true or false statements into one true or false definition. Let's consider the following\n",
    "\n",
    "```\n",
    "(The Earth is a planet) and (the moon is made out of cheese).\n",
    "```\n",
    "\n",
    "What is the overall \"truth-value\" of this statement? Is it overall true or overall false?\n",
    "\n",
    "Without a doubt false. Even though the first statement is true, I am implying that both statements are true by using that \"and.\" Everything must be true for this entire statement to be true as well! \n",
    "\n",
    "In this case our false-statements are \"sticky.\" It does not matter how many true statements you have joined together by \"ands\", if you include one false statement, it becomes false.\n",
    "\n",
    "```\n",
    "True and True and True and True and ... and False == False\n",
    "```"
   ]
  },
  {
   "cell_type": "markdown",
   "metadata": {},
   "source": [
    "## Or Statements\n",
    "\n",
    "\"Or\" statements, aka disjunctions, are multiple true or false statements joined together by the \"or\" logical operator. We decompose these strings of or true or false statements into one true or false definition. Let's consider the following\n",
    "\n",
    "```\n",
    "(The Earth is a planet) or (the moon is made out of cheese).\n",
    "```\n",
    "\n",
    "What is the overall \"truth-value\" of this statement? Is it overall true or overall false?\n",
    "\n",
    "In this case it is true! Even though the second statement is false, I am implying that only one statement is true by using that \"or.\" \n",
    "\n",
    "In this case our true-statements are \"sticky.\" It does not matter how many false statements you have joined together by \"ors\", if you include one true statement, it becomes true.\n",
    "\n",
    "```\n",
    "False or False or False or False or ... or True == True\n",
    "```"
   ]
  },
  {
   "cell_type": "markdown",
   "metadata": {},
   "source": [
    "## (Optional) What does \"boolean\" even mean?\n",
    "\n",
    "George Boole was an English, largelely self-taught mathematician from the 1800s. He formalized the field of [algebraic logic](https://en.wikipedia.org/wiki/Algebraic_logic), which is what we use when writing our conditional statements. \n"
   ]
  },
  {
   "cell_type": "markdown",
   "metadata": {},
   "source": [
    "## An alternative: nested conditionals\n",
    "\n",
    "Here we can decompose our code into a nested conditional. A nested conditional is simply a conditional within another conditional, and accomplishes the same thing as the logical \"and.\" This is sometimes easier to read than stringing together logical statements.\n",
    "\n",
    "Take note of the indentation!"
   ]
  },
  {
   "cell_type": "code",
   "execution_count": 3,
   "metadata": {},
   "outputs": [
    {
     "name": "stdout",
     "output_type": "stream",
     "text": [
      "Its a cat\n"
     ]
    }
   ],
   "source": [
    "four_legs = True\n",
    "furry = True\n",
    "barks = False\n",
    "\n",
    "if four_legs and furry:\n",
    "    if barks:\n",
    "        print(\"Its a dog\")\n",
    "    else:\n",
    "        print(\"Its a cat\")\n",
    "else:\n",
    "    print(\"it's neither a dog nor a cat\")\n"
   ]
  }
 ],
 "metadata": {
  "kernelspec": {
   "display_name": "Python 3.10.7 64-bit",
   "language": "python",
   "name": "python3"
  },
  "language_info": {
   "codemirror_mode": {
    "name": "ipython",
    "version": 3
   },
   "file_extension": ".py",
   "mimetype": "text/x-python",
   "name": "python",
   "nbconvert_exporter": "python",
   "pygments_lexer": "ipython3",
   "version": "3.10.7"
  },
  "orig_nbformat": 4,
  "vscode": {
   "interpreter": {
    "hash": "369f2c481f4da34e4445cda3fffd2e751bd1c4d706f27375911949ba6bb62e1c"
   }
  }
 },
 "nbformat": 4,
 "nbformat_minor": 2
}
