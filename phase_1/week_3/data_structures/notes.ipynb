{
 "cells": [
  {
   "cell_type": "markdown",
   "metadata": {},
   "source": [
    "## Prompt\n",
    "\n",
    "What is this programmer attempting to do?"
   ]
  },
  {
   "cell_type": "code",
   "execution_count": null,
   "metadata": {},
   "outputs": [],
   "source": [
    "x = \"apple\"\n",
    "y = \"banana\"\n",
    "z = \"mango\"\n",
    "a = \"tea\"\n",
    "\n",
    "print(\"The grocery store carries\", x)\n",
    "print(\"The grocery store carries\", y)\n",
    "print(\"The grocery store carries\", z)"
   ]
  },
  {
   "cell_type": "markdown",
   "metadata": {},
   "source": [
    "## Lists\n",
    "\n",
    "This is where data-structures shine! If you need to keep track of multiple points of data, you could potentially create multiple variables, but why bother? Use a data-structure instead. \n",
    "\n",
    "Specifically use a list! A list is an ordered sequence of data where any data can be stored in. Let’s go into this further.\n"
   ]
  },
  {
   "cell_type": "code",
   "execution_count": 2,
   "metadata": {},
   "outputs": [],
   "source": [
    "items = [\"apple\", \"banana\", \"mango\"]"
   ]
  },
  {
   "cell_type": "markdown",
   "metadata": {},
   "source": [
    "## Lists Syntax\n",
    "\n",
    "I think everyone here as realized already that coding is very lean. There is no room for ambiguity, which really attracts a certain kind of person I think right? Everything in programming has its point and if its point is unclear than it should be replaced by a clearer point!\n",
    "\n",
    "Onto the syntax of lists…\n",
    "\n",
    "Most importantly I want you to notice the index of the list. Everything you see on the right-hand side, you can do with just the knowledge of the index-system. We’ll explore that a little bit later on today.\n",
    "\n",
    "https://docs.python.org/3/tutorial/datastructures.html"
   ]
  },
  {
   "cell_type": "code",
   "execution_count": 3,
   "metadata": {},
   "outputs": [
    {
     "data": {
      "text/plain": [
       "['banana', 'peach', 'mango', 'peach']"
      ]
     },
     "execution_count": 3,
     "metadata": {},
     "output_type": "execute_result"
    }
   ],
   "source": [
    "# get first element\n",
    "items[0]\n",
    "\n",
    "# get second element\n",
    "items[1]\n",
    "\n",
    "# get third element?\n",
    "# items[]\n",
    "\n",
    "\n",
    "# append element\n",
    "items.append(\"peach\")\n",
    "\n",
    "# remove element\n",
    "items.remove(\"apple\")\n",
    "\n",
    "# insert element\n",
    "items.insert(1, \"peach\")\n",
    "items"
   ]
  },
  {
   "cell_type": "markdown",
   "metadata": {},
   "source": [
    "## Lists & Loops\n",
    "\n",
    "Yesterday we learned about something called “iterables”, what do you all think, is a list an iterable? Without a doubt.\n",
    "\n",
    "So we can take the previous structure of our for-loop & apply it to a list! What should we put in place of this “iterable” if we want to loop through this list?"
   ]
  },
  {
   "cell_type": "code",
   "execution_count": 4,
   "metadata": {},
   "outputs": [
    {
     "name": "stdout",
     "output_type": "stream",
     "text": [
      "banana\n",
      "peach\n",
      "mango\n",
      "peach\n"
     ]
    }
   ],
   "source": [
    "for i in items:\n",
    "   print(i)"
   ]
  },
  {
   "cell_type": "code",
   "execution_count": null,
   "metadata": {},
   "outputs": [],
   "source": [
    "# alternatively we could also do\n",
    "for i in range(len(items)):\n",
    "   print(i)\n",
    "   print(items[i])"
   ]
  },
  {
   "cell_type": "markdown",
   "metadata": {},
   "source": [
    "## Sets\n",
    "\n",
    "Let’s imagine we have a list of items but we only care about unique items in the supermarket. What is a solution? So we have all this extra information. What could we do to make sure we only have unique elements in this list?\n",
    "\n",
    "Well in this case we can actually use something called a “set”, which is an unorganized data structure that only keeps track of unique values. Notice that we do not have indices anymore!\n",
    "\n",
    "And this is actually a very mathematical concept. Think about sets of counting numbers everyone. When you count, you never include a number more than once. IT goes 1,2,3,4,... so on."
   ]
  },
  {
   "cell_type": "code",
   "execution_count": null,
   "metadata": {},
   "outputs": [],
   "source": [
    "items = {\"apple\", \"banana\", \"mango\", \"apple\", \"banana\"}\n",
    "items"
   ]
  },
  {
   "cell_type": "markdown",
   "metadata": {},
   "source": [
    "## Sets Syntax\n",
    "\n",
    "Just like with lists we can add, remove, and a lot of other similar methods. But we cannot subscript! However, we can still loop through it because it is an iterable! \n",
    "\n",
    "https://docs.python.org/3/library/stdtypes.html#set"
   ]
  },
  {
   "cell_type": "code",
   "execution_count": null,
   "metadata": {},
   "outputs": [],
   "source": [
    "# append element\n",
    "items.add(\"peach\")\n",
    "\n",
    "# remove element\n",
    "items.remove(\"apple\")\n",
    "\n",
    "# “pop” element\n",
    "items.pop()\n",
    "\n",
    "for i in items:\n",
    "   print(i)"
   ]
  },
  {
   "cell_type": "markdown",
   "metadata": {},
   "source": [
    "## Prompt\n",
    "\n",
    "Once again we're back to our programmer. What are they trying to do now?"
   ]
  },
  {
   "cell_type": "code",
   "execution_count": null,
   "metadata": {},
   "outputs": [],
   "source": [
    "items = [\"apple\", \"banana\", \"mango\"]\n",
    "princes = [0.89, 1.33, 1.55]"
   ]
  },
  {
   "cell_type": "markdown",
   "metadata": {},
   "source": [
    "## Dictionaries\n",
    "\n",
    "If you need to keep track of multiple points of data that are associated with other points of data, you could potentially create multiple data-structures, but why bother? Use a dictionary instead. \n",
    "\n",
    "This allows you to tie values directly with other data points, we call “keys.”\n",
    "\n",
    "This is a great idea and makes our live so much easier."
   ]
  },
  {
   "cell_type": "code",
   "execution_count": 5,
   "metadata": {},
   "outputs": [],
   "source": [
    "items = {\n",
    "  \"apple\": 0.89, \n",
    "  \"banana\": 1.33, \n",
    "  \"mango\":1.55\n",
    "}"
   ]
  },
  {
   "cell_type": "markdown",
   "metadata": {},
   "source": [
    "## Dictionaries Syntax\n",
    "\n",
    "Notice how accessing the value of a dictionary is super similar to accessing an index of a list! We use the same exact structure, this time we place the key in the brackets, instead of a number value. \n",
    "\n",
    "Adding new values is as simple as placing a new value in the brackets and setting it equal to some value! Keep in mind that dictionaries do not like duplicates, so it will overwrite your previous value if you specify a key that already exists.\n",
    "\n",
    "https://docs.python.org/3/tutorial/datastructures.html\n"
   ]
  },
  {
   "cell_type": "code",
   "execution_count": null,
   "metadata": {},
   "outputs": [],
   "source": [
    "# get apple value\n",
    "items[\"apple”\"]\n",
    "\n",
    "# get banana value\n",
    "items[\"banana\"]\n",
    "\n",
    "# get mango value?\n",
    "items[\"mango\"]\n",
    "\n",
    "\n",
    "# append key-value pair\n",
    "items[\"peach\"] = 1.77\n",
    "\n",
    "# remove key-pair\n",
    "items.pop(\"peach\")\n",
    "\n",
    "# get keys\n",
    "items.keys()\n",
    "# get values\n",
    "items.values()\n"
   ]
  },
  {
   "cell_type": "code",
   "execution_count": 6,
   "metadata": {},
   "outputs": [
    {
     "name": "stdout",
     "output_type": "stream",
     "text": [
      "apple\n",
      "0.89\n",
      "banana\n",
      "1.33\n",
      "mango\n",
      "1.55\n"
     ]
    }
   ],
   "source": [
    "for key in items:\n",
    "   print(key)\n",
    "   print(items[key])\n"
   ]
  }
 ],
 "metadata": {
  "kernelspec": {
   "display_name": "Python 3.10.7 64-bit",
   "language": "python",
   "name": "python3"
  },
  "language_info": {
   "codemirror_mode": {
    "name": "ipython",
    "version": 3
   },
   "file_extension": ".py",
   "mimetype": "text/x-python",
   "name": "python",
   "nbconvert_exporter": "python",
   "pygments_lexer": "ipython3",
   "version": "3.10.7"
  },
  "orig_nbformat": 4,
  "vscode": {
   "interpreter": {
    "hash": "369f2c481f4da34e4445cda3fffd2e751bd1c4d706f27375911949ba6bb62e1c"
   }
  }
 },
 "nbformat": 4,
 "nbformat_minor": 2
}
