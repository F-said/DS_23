{
 "cells": [
  {
   "cell_type": "markdown",
   "metadata": {},
   "source": [
    "## Prompt \n",
    "\n",
    "What is wrong with this code?"
   ]
  },
  {
   "cell_type": "code",
   "execution_count": null,
   "metadata": {},
   "outputs": [],
   "source": [
    "alphabet = [\"a\", \"b\", \"c\", \"d\"]\n",
    "\n",
    "for letter in alphabet\n",
    "  print(letter)\n",
    "\n",
    "print(letter[1], \"is the first letter\")"
   ]
  },
  {
   "cell_type": "markdown",
   "metadata": {},
   "source": [
    "## Debugging\n",
    "\n",
    "* Syntax Errors: Errors in the way our code is written. Usually easy to catch & fix.\n",
    "* Logic Errors: Errors in the behavior of our code. Usually harder to catch & fix! "
   ]
  },
  {
   "cell_type": "code",
   "execution_count": null,
   "metadata": {},
   "outputs": [],
   "source": [
    "# Fix syntax and then\n",
    "alphabet = [\"a\", \"b\", \"c\", \"d\"]\n",
    "\n",
    "for letter in alphabet:\n",
    "  print(letter)"
   ]
  },
  {
   "cell_type": "code",
   "execution_count": null,
   "metadata": {},
   "outputs": [],
   "source": [
    "# focus on fixing logic\n",
    "print(letter[0], \"is the first letter\")"
   ]
  },
  {
   "cell_type": "markdown",
   "metadata": {},
   "source": [
    "## Debugging Techniques\n",
    "\n",
    "The process of debugging is an iterative process. You can view it as the following process:\n",
    "\n",
    "1. View and understand error.\n",
    "2. Attempt appropriate fix.\n",
    "3. Check existence for error again.\n",
    "4. Repeat as needed."
   ]
  }
 ],
 "metadata": {
  "kernelspec": {
   "display_name": "Python 3.10.7 64-bit",
   "language": "python",
   "name": "python3"
  },
  "language_info": {
   "name": "python",
   "version": "3.10.7"
  },
  "orig_nbformat": 4,
  "vscode": {
   "interpreter": {
    "hash": "369f2c481f4da34e4445cda3fffd2e751bd1c4d706f27375911949ba6bb62e1c"
   }
  }
 },
 "nbformat": 4,
 "nbformat_minor": 2
}
