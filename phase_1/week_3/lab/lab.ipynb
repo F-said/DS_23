{
 "cells": [
  {
   "cell_type": "markdown",
   "metadata": {},
   "source": [
    "## Rock, paper, scissors\n",
    "\n",
    "Create a program that simulates the game \"rock, paper, scissors.\" You will take in two inputs, one from player 1, and one from player 2, and then compare them to each other. You will code in the rules of the game using conditionals and print out who the subsequent user is.\n",
    "\n",
    "Expected Output\n",
    "```\n",
    "player 1: rock\n",
    "player 2: scissors\n",
    "\n",
    "player 1 wins\n",
    "```"
   ]
  },
  {
   "cell_type": "code",
   "execution_count": null,
   "metadata": {},
   "outputs": [],
   "source": [
    "# write solution here"
   ]
  },
  {
   "cell_type": "markdown",
   "metadata": {},
   "source": [
    "## Searching Linearly\n",
    "\n",
    "Create a for-loop that will search for an inputted integer in a list of numbers and print out \"True\" or False.\" This list of numbers is set up for us already below.\n",
    "\n",
    "Example Output\n",
    "```\n",
    "Input the number to search for: 5\n",
    "\n",
    "True \n",
    "```\n",
    "\n",
    "Example Output\n",
    "```\n",
    "Input the number to search for: 8\n",
    "\n",
    "False \n",
    "```"
   ]
  },
  {
   "cell_type": "code",
   "execution_count": null,
   "metadata": {},
   "outputs": [],
   "source": [
    "# list to search through\n",
    "numbers = [5, 104, 401, 28, 60, 48, 4, 681, 3, 6, 9, 10, 46, 20]\n",
    "\n",
    "# write solution here"
   ]
  }
 ],
 "metadata": {
  "kernelspec": {
   "display_name": "Python 3.10.7 64-bit",
   "language": "python",
   "name": "python3"
  },
  "language_info": {
   "name": "python",
   "version": "3.10.7"
  },
  "orig_nbformat": 4,
  "vscode": {
   "interpreter": {
    "hash": "369f2c481f4da34e4445cda3fffd2e751bd1c4d706f27375911949ba6bb62e1c"
   }
  }
 },
 "nbformat": 4,
 "nbformat_minor": 2
}
