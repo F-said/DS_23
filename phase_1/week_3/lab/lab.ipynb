{
 "cells": [
  {
   "cell_type": "markdown",
   "metadata": {},
   "source": [
    "## Unique Elements\n",
    "\n",
    "Get the unique values of the following data-structs & objects created below.\n",
    "\n",
    "Expected Output\n",
    "```\n",
    "{'0', '1', '2'}\n",
    "{'a', 'b', 'd', 'n', 's'}\n",
    "```"
   ]
  },
  {
   "cell_type": "code",
   "execution_count": 12,
   "metadata": {},
   "outputs": [
    {
     "data": {
      "text/plain": [
       "{'0', '1', '2'}"
      ]
     },
     "execution_count": 12,
     "metadata": {},
     "output_type": "execute_result"
    }
   ],
   "source": [
    "lst = [\"0\", \"1\", \"1\", \"1\", \"1\", \"1\", \"1\", \"0\", \"2\", \"1\", \"1\", \"1\", \"0\", \"0\", \"0\", \"0\"]\n",
    "strng = \"abbnabsnasbansdbasbasbasbsbasbasbasnasbna\"\n",
    "\n",
    "# write solution here"
   ]
  },
  {
   "cell_type": "markdown",
   "metadata": {},
   "source": [
    "## Price Check\n",
    "\n",
    "Create conditionals that will check the price of a grocery item using the user's input.\n",
    "\n",
    "Example Output\n",
    "```\n",
    "item: \"chicken liver\"\n",
    "\n",
    "price is 1.99\n",
    "```"
   ]
  },
  {
   "cell_type": "code",
   "execution_count": null,
   "metadata": {},
   "outputs": [],
   "source": [
    "food_item = {\n",
    "    \"broccoli\": 2.86,\n",
    "    \"chicken liver\": 1.99,\n",
    "    \"apple\": 0.33,\n",
    "    \"orange\": 0.86,\n",
    "    \"avocado\": 0.68,\n",
    "    \"chips\": 4.99,\n",
    "    \"zucchini\": 0.55,\n",
    "    \"sushi\": 12.99,\n",
    "    \"hummus\": 4.99\n",
    "}\n",
    "\n",
    "# write solution here"
   ]
  },
  {
   "cell_type": "markdown",
   "metadata": {},
   "source": [
    "## Price Check pt. 2\n",
    "\n",
    "Expand your code from above to take in 3 items from the user.\n",
    "\n",
    "Calculate the total cost of all 3 of these items using the dictionary named `food_item`.\n",
    "\n",
    "Example Output\n",
    "```\n",
    "item 1: chicken liver\n",
    "item 2: apple\n",
    "item 3: chips\n",
    "\n",
    "checkout price is 7.31\n",
    "```"
   ]
  },
  {
   "cell_type": "code",
   "execution_count": null,
   "metadata": {},
   "outputs": [],
   "source": [
    "food_item = {\n",
    "    \"broccoli\": 2.86,\n",
    "    \"chicken liver\": 1.99,\n",
    "    \"apple\": 0.33,\n",
    "    \"orange\": 0.86,\n",
    "    \"avocado\": 0.68,\n",
    "    \"chips\": 4.99,\n",
    "    \"zucchini\": 0.55,\n",
    "    \"sushi\": 12.99,\n",
    "    \"hummus\": 4.99\n",
    "}\n",
    "\n",
    "# write solution here"
   ]
  },
  {
   "cell_type": "markdown",
   "metadata": {},
   "source": [
    "## Price Check pt. 3\n",
    "Expand your code from above to take in 3 items from the user of various quantity.\n",
    "\n",
    "Calculate the total cost of all of these items using the dictionary named `food_item`.\n",
    "\n",
    "Example Output\n",
    "```\n",
    "item 1: chicken liver\n",
    "quantity: 2\n",
    "item 2: apple\n",
    "quantity: 5\n",
    "item 3: chips\n",
    "quantity: 1\n",
    "\n",
    "checkout price is 10.62\n",
    "```\n",
    "\n",
    "\n",
    "### CHALLENGE\n",
    "Modify your code so that if the user inputs a key that doesn't exist, the program does not fail."
   ]
  },
  {
   "cell_type": "code",
   "execution_count": null,
   "metadata": {},
   "outputs": [],
   "source": [
    "food_item = {\n",
    "    \"broccoli\": 2.86,\n",
    "    \"chicken liver\": 1.99,\n",
    "    \"apple\": 0.33,\n",
    "    \"orange\": 0.86,\n",
    "    \"avocado\": 0.68,\n",
    "    \"chips\": 4.99,\n",
    "    \"zucchini\": 0.55,\n",
    "    \"sushi\": 12.99,\n",
    "    \"hummus\": 4.99\n",
    "}\n",
    "\n",
    "# write solution here"
   ]
  },
  {
   "cell_type": "markdown",
   "metadata": {},
   "source": [
    "## Searching Linearly\n",
    "\n",
    "Create a for-loop that will search for an inputted integer in a list of numbers and print out \"True\" if the number exists in the list, or \"False\" if it does not. This list of numbers is set up for us already below.\n",
    "\n",
    "Example Output\n",
    "```\n",
    "Input the number to search for: 5\n",
    "\n",
    "True \n",
    "```\n",
    "\n",
    "Example Output\n",
    "```\n",
    "Input the number to search for: 8\n",
    "\n",
    "False \n",
    "```"
   ]
  },
  {
   "cell_type": "code",
   "execution_count": 3,
   "metadata": {},
   "outputs": [],
   "source": [
    "# list to search through\n",
    "numbers = [5, 104, 401, 28, 60, 48, 4, 681, 3, 6, 9, 10, 46, 20]\n",
    "\n",
    "# write solution here"
   ]
  },
  {
   "cell_type": "markdown",
   "metadata": {},
   "source": [
    "## Searching a Dictionary\n",
    "\n",
    "Create a for-loop that will search for an inputted color in a dictionary of fruit-color pairs, and print out \"True\" if the color exists in the dictionary or \"False\" if it does not. This dictionary of fruits-to-color is set up for us already below.\n",
    "\n",
    "Example Output\n",
    "```\n",
    "Input the color to search for: red\n",
    "\n",
    "True \n",
    "```\n",
    "\n",
    "Example Output\n",
    "```\n",
    "Input the color to search for: purple\n",
    "\n",
    "True\n",
    "```\n",
    "\n",
    "Example Output\n",
    "```\n",
    "Input the color to search for: violet\n",
    "\n",
    "False\n",
    "```"
   ]
  },
  {
   "cell_type": "code",
   "execution_count": null,
   "metadata": {},
   "outputs": [],
   "source": [
    "color_fruits = {\"apple\": \"red\", \"banana\": \"yellow\", \"orange\": \"orange\", \"lime\": \"green\", \"eggplant\": \"purple\"}\n",
    "\n",
    "# write solution here"
   ]
  },
  {
   "cell_type": "markdown",
   "metadata": {},
   "source": [
    "## List Creation\n",
    "\n",
    "Create a list of numbers from 1 to 20. Be sure to use a for-loop to do this automatically, as opposed to writing this list from scratch. \n",
    "\n",
    "Expected Output\n",
    "```\n",
    "[1,2,3,4,5,6,7,...]\n",
    "```"
   ]
  },
  {
   "cell_type": "code",
   "execution_count": null,
   "metadata": {},
   "outputs": [],
   "source": [
    "# write solution here"
   ]
  },
  {
   "cell_type": "markdown",
   "metadata": {},
   "source": [
    "## List Creation pt. 2\n",
    "\n",
    "Create a list of squared numbers (n^2), where n goes from 1 to 20. Be sure to use a for-loop to do this automatically, as opposed to writing this list from scratch. \n",
    "\n",
    "Expected Output\n",
    "```\n",
    "[1,4,9,16,25,36,49,...]\n",
    "\n",
    "```"
   ]
  },
  {
   "cell_type": "code",
   "execution_count": null,
   "metadata": {},
   "outputs": [],
   "source": [
    "## write solution here "
   ]
  }
 ],
 "metadata": {
  "kernelspec": {
   "display_name": "Python 3.10.7 64-bit",
   "language": "python",
   "name": "python3"
  },
  "language_info": {
   "codemirror_mode": {
    "name": "ipython",
    "version": 3
   },
   "file_extension": ".py",
   "mimetype": "text/x-python",
   "name": "python",
   "nbconvert_exporter": "python",
   "pygments_lexer": "ipython3",
   "version": "3.10.7"
  },
  "orig_nbformat": 4,
  "vscode": {
   "interpreter": {
    "hash": "369f2c481f4da34e4445cda3fffd2e751bd1c4d706f27375911949ba6bb62e1c"
   }
  }
 },
 "nbformat": 4,
 "nbformat_minor": 2
}
