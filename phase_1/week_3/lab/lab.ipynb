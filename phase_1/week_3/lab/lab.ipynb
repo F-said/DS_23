{
 "cells": [
  {
   "cell_type": "markdown",
   "metadata": {},
   "source": [
    "## Rock, paper, scissors\n",
    "\n",
    "Create a program that simulates the game \"rock, paper, scissors.\" You will take in two inputs, one from player 1, and one from player 2, and then compare them to each other. You will code in the rules of the game using conditionals and print out who the subsequent user is.\n",
    "\n",
    "Expected Output\n",
    "```\n",
    "player 1: rock\n",
    "player 2: scissors\n",
    "\n",
    "player 1 wins\n",
    "```"
   ]
  },
  {
   "cell_type": "code",
   "execution_count": 1,
   "metadata": {},
   "outputs": [],
   "source": [
    "# write solution here"
   ]
  },
  {
   "cell_type": "markdown",
   "metadata": {},
   "source": [
    "## Searching Linearly\n",
    "\n",
    "Create a for-loop that will search for an inputted integer in a list of numbers and print out \"True\" if the number exists in the list, or \"False\" if it does not. This list of numbers is set up for us already below.\n",
    "\n",
    "Example Output\n",
    "```\n",
    "Input the number to search for: 5\n",
    "\n",
    "True \n",
    "```\n",
    "\n",
    "Example Output\n",
    "```\n",
    "Input the number to search for: 8\n",
    "\n",
    "False \n",
    "```"
   ]
  },
  {
   "cell_type": "code",
   "execution_count": 3,
   "metadata": {},
   "outputs": [],
   "source": [
    "# list to search through\n",
    "numbers = [5, 104, 401, 28, 60, 48, 4, 681, 3, 6, 9, 10, 46, 20]\n",
    "\n",
    "# write solution here"
   ]
  },
  {
   "cell_type": "markdown",
   "metadata": {},
   "source": [
    "## Searching a Dictionary\n",
    "\n",
    "Create a for-loop that will search for an inputted color in a dictionary of fruit-color pairs, and print out \"True\" if the color exists in the dictionary or \"False\" if it does not. This dictionary of fruits-to-color is set up for us already below.\n",
    "\n",
    "Example Output\n",
    "```\n",
    "Input the color to search for: red\n",
    "\n",
    "True \n",
    "```\n",
    "\n",
    "Example Output\n",
    "```\n",
    "Input the color to search for: purple\n",
    "\n",
    "True\n",
    "```\n",
    "\n",
    "Example Output\n",
    "```\n",
    "Input the color to search for: violet\n",
    "\n",
    "False\n",
    "```"
   ]
  },
  {
   "cell_type": "code",
   "execution_count": null,
   "metadata": {},
   "outputs": [],
   "source": [
    "color_fruits = {\"apple\": \"red\", \"banana\": \"yellow\", \"orange\": \"orange\", \"lime\": \"green\", \"eggplant\": \"purple\"}\n",
    "\n",
    "# write solution here"
   ]
  },
  {
   "cell_type": "markdown",
   "metadata": {},
   "source": [
    "## List Modification\n",
    "\n",
    "Create a list of numbers from 1 to 20. Be sure to use a for-loop to do this automatically, as opposed to writing this list from scratch. After you've created this list, create another loop through each number again, but this time square the number. That is, 1 becomes 1, 2 becomes 4, 3 becomes 9, 4 becomes 16, and so on.\n",
    "\n",
    "Expected Output\n",
    "```\n",
    "[1,2,3,4,5,6,7,...]\n",
    "[1,4,9,16,25,36,49,...]\n",
    "```"
   ]
  },
  {
   "cell_type": "code",
   "execution_count": null,
   "metadata": {},
   "outputs": [],
   "source": [
    "# write solution here"
   ]
  },
  {
   "cell_type": "markdown",
   "metadata": {},
   "source": [
    "## Debugging\n",
    "\n",
    "Take a look at the \"buggy\" code located below. \"Debug\" this code by looking at the subsequent error messages, implmenting a fix, and then testing if the error still persists. Continue this process until you get no errors, and your output matches that of the expected output.\n",
    "\n",
    "Keep in mind that the structure of the original code should stay the same. Be sure to use this programmer's code to figure out intent.\n",
    "\n",
    "Expected Output\n",
    "```\n",
    "\n",
    "```"
   ]
  },
  {
   "cell_type": "code",
   "execution_count": null,
   "metadata": {},
   "outputs": [],
   "source": [
    "# implement fixes below\n",
    "\n",
    "# create sets of discounted and full-price books\n",
    "discount = {\"Hunger Games\", \"The 3 Agreements\", \"Naming Infinity\", \"Neuromancer\"}\n",
    "full_price = {\"Eternal Golden Braid\", \"Algorithms\", \"Design patterns\"}\n",
    "\n",
    "# Place all full-price books in discount set\n",
    "for i in range(len(full_price)):\n",
    "    book = full_price[i]\n",
    "    full_price.remove(book)\n",
    "    discount.append(book)\n",
    "\n",
    "# print out size of discounted books set\n",
    "print(\"There are now\", length(discount), \" discounted books\")\n",
    "# print each book located in the discount set\n",
    "for book in discount:\n",
    "    print(book)\n",
    "\n",
    "# Add new books to full_price\n",
    "full_price.add(\"Superintelligence\")\n",
    "full_price.add(\"How to Win Friends & Influence People\")\n",
    "\n",
    "# print out size of full-price books set\n",
    "print(\"There are now\", len(discount), \" discounted books\")\n",
    "# print each book located in full-price set\n",
    "for i in range(len(full_price))\n",
    "    print(full_price[i])\n",
    "\n",
    "# Ask the user which book they want to get.\n",
    "book = input(Which book would you like?)\n",
    "if book inside discount:\n",
    "    print(\"Price is 5.99\")\n",
    "elif book in full_price:\n",
    "    print(\"Price is 10.99\")\n",
    "else book:\n",
    "    print(\"We do not carry that book.\")"
   ]
  }
 ],
 "metadata": {
  "kernelspec": {
   "display_name": "Python 3.10.7 64-bit",
   "language": "python",
   "name": "python3"
  },
  "language_info": {
   "codemirror_mode": {
    "name": "ipython",
    "version": 3
   },
   "file_extension": ".py",
   "mimetype": "text/x-python",
   "name": "python",
   "nbconvert_exporter": "python",
   "pygments_lexer": "ipython3",
   "version": "3.10.7"
  },
  "orig_nbformat": 4,
  "vscode": {
   "interpreter": {
    "hash": "369f2c481f4da34e4445cda3fffd2e751bd1c4d706f27375911949ba6bb62e1c"
   }
  }
 },
 "nbformat": 4,
 "nbformat_minor": 2
}
