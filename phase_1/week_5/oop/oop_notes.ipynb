{
 "cells": [
  {
   "cell_type": "markdown",
   "metadata": {},
   "source": [
    "## Data Structures Review\n",
    "\n",
    "I have a list of filenames. The filename needs to be uppercased, while the extension must remain the same. How do I accomplish this? I don't want to change my previous piece of data, so I must create a new data-structure to store my new files.\n",
    "\n",
    "Instead of just viewing the solution, let's try to build up to this.\n",
    "\n",
    "First, let's view our data."
   ]
  },
  {
   "cell_type": "code",
   "execution_count": 4,
   "metadata": {},
   "outputs": [],
   "source": [
    "files = [\"upper_case_me.txt\", \"data.csv\", \"datafile.csv\", \"importantdata.tsv\"]"
   ]
  },
  {
   "cell_type": "markdown",
   "metadata": {},
   "source": [
    "So we have a list of strings, and we're trying to construct a new list of upper-cased strings. So, right off the bat, we know that we need to create an empty list to prepare a space for our new data.\n",
    "\n",
    "We can also go ahead and write a Python control-flow structure that will *loop* through each string of our `files` list.\n",
    "\n",
    "This will come in the form a for-loop, since this is the standard of getting values one-by-one from a list.\n",
    "\n",
    "For more info on loops, check out [this link](https://www.dataquest.io/blog/python-for-loop-tutorial/)."
   ]
  },
  {
   "cell_type": "code",
   "execution_count": null,
   "metadata": {},
   "outputs": [],
   "source": [
    "# prepare a new list\n",
    "upper_list = []\n",
    "\n",
    "for file in files:\n",
    "    # putting \"pass\" here temporarily\n",
    "    pass"
   ]
  },
  {
   "cell_type": "markdown",
   "metadata": {},
   "source": [
    "OK. I have my for-loop, which gets each string of the list, but how do I now uppercase only the name of the file?\n",
    "\n",
    "Well, let's think back to what methods we've used on a string previously to seperate out a filename.\n",
    "\n",
    "* There was the [split function](https://docs.python.org/3/library/stdtypes.html#str.split).\n",
    "* There was also the option to use [find](https://docs.python.org/3/library/stdtypes.html#str.find).\n",
    "* And lastly, we know we could also use the [pathlib module](https://docs.python.org/3/library/pathlib.html#pathlib.PurePath.suffix).\n",
    "\n",
    "Since someone has already wrote out a module for us that will properly interact with a filename, I will choose to utilize `pathlib`.\n",
    "\n",
    "If you use the alternative solutions, or find another alternative not yet listed, that will work just as well for today."
   ]
  },
  {
   "cell_type": "markdown",
   "metadata": {},
   "source": [
    "## Pathlib\n",
    "\n",
    "Let's take a look at the pathlib [documentation](https://docs.python.org/3/library/pathlib.html#methods-and-properties). \n",
    "\n",
    "It looks like we actually have a pathlib property called [stem](https://docs.python.org/3/library/pathlib.html#pathlib.PurePath.stem) which will extract the name of the file for us!\n",
    "\n",
    "And, as we know already, we can get the suffix of the file by using `Path.suffix`"
   ]
  },
  {
   "cell_type": "code",
   "execution_count": 2,
   "metadata": {},
   "outputs": [
    {
     "name": "stdout",
     "output_type": "stream",
     "text": [
      "filename\n",
      ".txt\n"
     ]
    }
   ],
   "source": [
    "from pathlib import Path\n",
    "\n",
    "# let's test this out\n",
    "test = Path(\"filename.txt\")\n",
    "print(test.stem)\n",
    "print(test.suffix)"
   ]
  },
  {
   "cell_type": "markdown",
   "metadata": {},
   "source": [
    "Now that we verified that we know what to use, let's tie it into our loop.\n",
    "\n",
    "We will be taking the `file` variable and we will split it up into two values. The filename and the extension. \n",
    "\n",
    "Since our goal is to create a new UPPERCASED filename, let's use the [upper()](https://docs.python.org/3/library/stdtypes.html#str.upper) method we learned about previously. Keep in mind that `upper()` returns a new string, and does not modify the previous string. Therefore, we must save it into a new variable."
   ]
  },
  {
   "cell_type": "code",
   "execution_count": null,
   "metadata": {},
   "outputs": [],
   "source": [
    "# prepare a new list\n",
    "upper_list = []\n",
    "\n",
    "for file in files:\n",
    "    # seperate out name and suffix\n",
    "    temp = Path(file)\n",
    "    name = temp.stem\n",
    "    ext = temp.suffix\n",
    "\n",
    "    # captialize name\n",
    "    new_name = name.upper()"
   ]
  },
  {
   "cell_type": "markdown",
   "metadata": {},
   "source": [
    "OK. We have our upper-cased string name, we have our suffix. How can we recombine them into one string again?\n",
    "\n",
    "This points us to concatenation. \n",
    "\n",
    "ex:\n",
    "```\n",
    "x = \"hello\"\n",
    "y = \"world\"\n",
    "print(x + y)\n",
    "```\n",
    "\n",
    "Notice that we are not interacting with any new concepts! Just knowing about reading docs and some base string operations is enough to competently create a solution.\n",
    "\n",
    "Let us concatenate our new_name and the extension into a new variable as well.\n",
    "\n",
    "Lastly, we will append this new value back into `upper_list`."
   ]
  },
  {
   "cell_type": "code",
   "execution_count": 6,
   "metadata": {},
   "outputs": [
    {
     "data": {
      "text/plain": [
       "['UPPER_CASE_ME.txt', 'DATA.csv', 'DATAFILE.csv', 'IMPORTANTDATA.tsv']"
      ]
     },
     "execution_count": 6,
     "metadata": {},
     "output_type": "execute_result"
    }
   ],
   "source": [
    "# prepare a new list\n",
    "upper_list = []\n",
    "\n",
    "for file in files:\n",
    "    # seperate out name and suffix\n",
    "    temp = Path(file)\n",
    "    name = temp.stem\n",
    "    ext = temp.suffix\n",
    "\n",
    "    # captialize name\n",
    "    new_name = name.upper()\n",
    "    \n",
    "    # concatenate new name and extension\n",
    "    newf = new_name + ext\n",
    "    upper_list.append(newf)\n",
    "\n",
    "upper_list"
   ]
  },
  {
   "cell_type": "markdown",
   "metadata": {},
   "source": [
    "## Summarize\n",
    "\n",
    "Let's break down the steps we took:\n",
    "\n",
    "1. Observe data, consider how we can access data.\n",
    "3. Plan how we can use functions to get to our goal.\n",
    "3. Choose one path based on ease and reliability.\n",
    "4. Implement planned methods.\n",
    "\n",
    "These are general steps that we can decompose into further steps. \n",
    "\n",
    "Now that we've created our solution, let's ask ourselves, should this be a function?\n",
    "\n",
    "Well we have to ask ourselves the following questions:\n",
    "\n",
    "* will I use this chunk of code again?\n",
    "* does this function do *one* thing\n",
    "* is this code seperable from the rest of my code? (are variables independent?)\n",
    "* will taking the code out of this function complicate my code?\n",
    "\n",
    "Answering \"yes\" to any of these questions is generally a good-enough reason to make this block of code into a function."
   ]
  },
  {
   "cell_type": "markdown",
   "metadata": {},
   "source": [
    "Since this is a review, we will be creating a function for this script that we've written. Or rather, we've been given another batch of data to change. How should we encapsulate this into a function?"
   ]
  },
  {
   "cell_type": "code",
   "execution_count": null,
   "metadata": {},
   "outputs": [],
   "source": [
    "def upper_files(lst):\n",
    "    \"\"\"Uppercase all file names in `lst` param\n",
    "\n",
    "    Parameters\n",
    "    ----------\n",
    "    lst:    list()\n",
    "        A list of filenames. Must contain extensions.\n",
    "\n",
    "    Returns\n",
    "    -------\n",
    "    list()\n",
    "        A list of uppercased filenames.\n",
    "    \"\"\"\n",
    "    upper_list = []\n",
    "\n",
    "    for file in files:\n",
    "        # seperate out name and suffix\n",
    "        temp = Path(file)\n",
    "        name = temp.stem\n",
    "        ext = temp.suffix\n",
    "\n",
    "        # captialize name\n",
    "        new_name = name.upper()\n",
    "        \n",
    "        # concatenate new name and extension\n",
    "        newf = new_name + ext\n",
    "        upper_list.append(newf)\n",
    "\n",
    "    return upper_list"
   ]
  },
  {
   "cell_type": "markdown",
   "metadata": {},
   "source": [
    "## Scripting vs. OOP\n",
    "\n",
    "So far, we've been using Python as a scripting language. Writing step-by-step directions to get to some final state. This is good for linear and non-reusable applications of programming.\n",
    "\n",
    "Ex: \"Can you combine all these csv files into one based on columns?\" \"Can you quickly analyze this data?\""
   ]
  },
  {
   "cell_type": "code",
   "execution_count": null,
   "metadata": {},
   "outputs": [],
   "source": [
    "# Script approach\n",
    "\n",
    "transactions = [500, 200, -300, 300, 100, 500, 600, 100, -1000]\n",
    "\n",
    "tot = sum(transactions)\n",
    "largest = max(transactions)\n",
    "smallest = min(transactions)\n",
    "\n",
    "print(\"sum of transactions\", tot)\n",
    "print(\"highest\", largest)\n",
    "print(\"smallest\", smallest)"
   ]
  },
  {
   "cell_type": "markdown",
   "metadata": {},
   "source": [
    "Python really shines when used as an object-oriented language. That is, a language that groups together operations and variables into discrete groups we call \"objects.\"\n",
    "\n",
    "Read more here: https://en.wikipedia.org/wiki/Object-oriented_programming"
   ]
  },
  {
   "cell_type": "markdown",
   "metadata": {},
   "source": [
    "## The Philosophy of OOP\n",
    "\n",
    "Think of how we were raised to view the world.\n",
    "\n",
    "The world is a large system of objects that interact with one another. These objects have characteristics & these objects can do actions.\n",
    "\n",
    "I have a pen. This pen is an object that has the following characteristics:\n",
    "\n",
    "* it's blue (color)\n",
    "* it has a 7mm ballpoint (size)\n",
    "\n",
    "This pen can do the following actions:\n",
    "\n",
    "* it can draw on a variety of surfaces\n",
    "* I can take the pen cap off\n",
    "* I can put the pen cap on (if I don't lose it)\n",
    "\n",
    "We interact with objects on a daily basis without even thinking about them. Now we are creating our own objects in the metaphysical universe of our program. \n",
    "\n",
    "Our language even shapes this perspective. But I do not want to get lost in the ether of discussion, let's get to programming."
   ]
  },
  {
   "cell_type": "markdown",
   "metadata": {},
   "source": [
    "## Builtin Objects\n",
    "\n",
    "We've actually already have been interacting with objects all this time. Remember our strings? These are objects that have methods and variables attached to them. \n",
    "\n",
    "Each of these objects have:\n",
    "* a type\n",
    "* internal data representation (called instance variables)\n",
    "* set of procedures (called instance method)\n",
    "\n",
    "The documentation of strings will reveal the same. Here we see our list of methods that come attached with every single string object: https://docs.python.org/3/library/stdtypes.html#string-methods.\n",
    "\n",
    "Since we don't really need any variables that we need to access from our string, we do not have instance varaibles in this case."
   ]
  },
  {
   "cell_type": "code",
   "execution_count": 12,
   "metadata": {},
   "outputs": [
    {
     "name": "stdout",
     "output_type": "stream",
     "text": [
      "str(object='') -> str\n",
      "str(bytes_or_buffer[, encoding[, errors]]) -> str\n",
      "\n",
      "Create a new string object from the given object. If encoding or\n",
      "errors is specified, then the object must expose a data buffer\n",
      "that will be decoded using the given encoding and error handler.\n",
      "Otherwise, returns the result of object.__str__() (if defined)\n",
      "or repr(object).\n",
      "encoding defaults to sys.getdefaultencoding().\n",
      "errors defaults to 'strict'.\n"
     ]
    }
   ],
   "source": [
    "test = \"hello\"\n",
    "\n",
    "# while we know a string is of type \"string\", we can also figure out that it is an object by looking at its doc\n",
    "print(test.__doc__)"
   ]
  },
  {
   "cell_type": "markdown",
   "metadata": {},
   "source": [
    "in fact, everything in Python is an object. Every data type that we use in Python has some builtin methods that give it some additional functionality.  \n",
    "\n",
    "Below is a demonstration of how we can use our builtin methods associated with these objects."
   ]
  },
  {
   "cell_type": "code",
   "execution_count": 17,
   "metadata": {},
   "outputs": [
    {
     "name": "stdout",
     "output_type": "stream",
     "text": [
      "3\n",
      "2.05\n",
      "(1, 1)\n"
     ]
    }
   ],
   "source": [
    "# int object \n",
    "x = 5\n",
    "print(x.bit_length())\n",
    "\n",
    "# float object\n",
    "y = 2.05\n",
    "print(y.conjugate())\n",
    "\n",
    "# Bool object\n",
    "z = True\n",
    "print(z.as_integer_ratio())"
   ]
  },
  {
   "cell_type": "markdown",
   "metadata": {},
   "source": [
    "## More Builtin Objects\n",
    "\n",
    "Keep in mind, objects are just clumps of data & variables joined together for our own utility. \n",
    "\n",
    "Since we are interested in data analysis, let's get to know a few core modules that will allow us to do the most basic of data-processing, reading & outputting.\n",
    "\n",
    "For this we must utilize the the objects that come with `csv` and `pathlib`.\n",
    "\n",
    "We will go over these useful objects tomorrow when it comes to reading & writing data, but for now feel free to explore this documentation:\n",
    "\n",
    "* https://docs.python.org/3/library/csv.html \n",
    "* https://docs.python.org/3/library/pathlib.html"
   ]
  },
  {
   "cell_type": "markdown",
   "metadata": {},
   "source": [
    "## Primitives\n",
    "\n",
    "In other programming lanugage, these \"simple\" data-types would be treated as something we call a primitive.\n",
    "\n",
    "Think of it as a single piece of data that has no methods or variables attached to it. It is a singular and lonely piece of data that exists by itself in a program. This is not relevant for our discussions so we will ignore it for now.\n",
    "\n",
    "We can see how primitives work here: https://www.geeksforgeeks.org/c-data-types/"
   ]
  },
  {
   "cell_type": "markdown",
   "metadata": {},
   "source": [
    "## The Structure of an Object\n",
    "\n",
    "Notice that there is a structure to calling a method from an object (a function that belongs to this object).\n",
    "\n",
    "We do:\n",
    "\n",
    "```\n",
    "object_name.method()\n",
    "```\n",
    "\n",
    "This is the same for integers\n",
    "\n",
    "```\n",
    "x.bit_length()\n",
    "```\n",
    "\n",
    "For strings\n",
    "```\n",
    "test.upper()\n",
    "```\n",
    "\n",
    "And, later on, for objects that we create ourselves."
   ]
  },
  {
   "cell_type": "markdown",
   "metadata": {},
   "source": [
    "## Creating an object\n",
    "\n",
    "To create an object that is not a builtin Python datatype, we almost always follow this format:\n",
    "\n",
    "```\n",
    "varName = class()\n",
    "```\n",
    "\n",
    "Specifically we do the following:\n",
    "\n",
    "1. we name the object (just like we do for variables)\n",
    "2. We set the object equal to the class name followed by paranthesis. Usually there will be some argument passed into the paranthesis as well, just like functions.\n",
    "\n",
    "We see this present in the following lines of code where we are creating builtin objects."
   ]
  },
  {
   "cell_type": "code",
   "execution_count": null,
   "metadata": {},
   "outputs": [],
   "source": [
    "from csv import reader\n",
    "import pathlib\n",
    "\n",
    "# name = class()\n",
    "spamreader = reader(\"testfile.csv\")\n",
    "# name = class()\n",
    "p = Path('.')"
   ]
  },
  {
   "cell_type": "markdown",
   "metadata": {},
   "source": [
    "## Creating your own Class\n",
    "\n",
    "Just like before, we won't always find ourselves using objects or functions that some other programmer wrote. Sometimes we will have to create our own objects for the sake of reusbility.\n",
    "\n",
    "Say you have just created a data pipeline that contains a whole bunch of methods used for processing your data.\n",
    "\n",
    "Say you realize that some of these functions are used for one portion of the pipeline, and the other portion is used for a completely different part of our processing. Maybe it would be a good idea to seperate these out into objects.\n",
    "\n",
    "https://docs.python.org/3/tutorial/classes.html"
   ]
  },
  {
   "cell_type": "markdown",
   "metadata": {},
   "source": [
    "## Create a Class\n",
    "\n",
    "We start off with the `class` keyword. By principle, we always capitalize our class name.\n",
    "\n",
    "```\n",
    "class Name:\n",
    "```\n",
    "\n",
    "Next, we create a docstring. This will describe different parameters than our regular functions. We will go over the detail of this docstring later, as we want to focus on the implementation.\n",
    "\n",
    "```\n",
    "class Name:\n",
    "    \"\"\"\n",
    "    \"\"\"\n",
    "```\n",
    "\n",
    "We then implement something called the `__init__` method. This is our object [constructor](https://www.geeksforgeeks.org/constructors-in-python/), and this is what creates the actual object from the class definition. \n",
    "\n",
    "We also use this `__init__` method to create parameters that will act as our `instance variables`.\n",
    "\n",
    "Inside of the parameter list we include the `self` keyword, which is necessary to tie functions to our classes. This parameter list of the `__init__` method is what we will use to assign arguments to our instance variables.\n",
    "\n",
    "```\n",
    "class Name:\n",
    "    \"\"\"\n",
    "    \"\"\"\n",
    "    def __init__(self):\n",
    "```"
   ]
  },
  {
   "cell_type": "markdown",
   "metadata": {},
   "source": [
    "## Real Example\n",
    "\n",
    "Since this is going to get very abstract, let's use a real example.\n",
    "\n",
    "We want to create an object that processes and transforms a list of filenames. We want to make this an object because we want to associate many methods to this operation, and we also want to save some easily accessible and named instance variables.\n",
    "\n",
    "Feel free to notice the structure of the docstring as well. We will go over how this differs from a function docstring."
   ]
  },
  {
   "cell_type": "code",
   "execution_count": 19,
   "metadata": {},
   "outputs": [],
   "source": [
    "class FileTransformer:\n",
    "    \"\"\"Class to transform files properly\n",
    "\n",
    "    Instance Variables\n",
    "    ------------------\n",
    "    files:  list()\n",
    "            List that contains filenames.\n",
    "\n",
    "    Public Methods\n",
    "    ----------\n",
    "    fix_names(self):\n",
    "        Function to remove all non-alphabet characters from this list. Returns a new list.\n",
    "    extension_count(self):\n",
    "        Function to count how many types of files we have. Returns a dictionary.\n",
    "    \"\"\"\n",
    "    def __init__(self, files):\n",
    "        self.files = files"
   ]
  },
  {
   "cell_type": "markdown",
   "metadata": {},
   "source": [
    "Here we are creating a class called `FileTransformer`. Here, we are preparing to pass in a list of files as documented in the docstring, and as specified in the `__init__` method. Notice how we place the parameter called `files` after self.\n",
    "\n",
    "Furthermore, we create an instance variable called `files` and assign it to the parameter that is passed in.\n",
    "\n",
    "How do we distinguish between the parameter `files` and the instance variable `files`? We actually bring back that `self` keyword which tells Python that we are assigning this argument to the instance variable that belongs to this class."
   ]
  },
  {
   "cell_type": "markdown",
   "metadata": {},
   "source": [
    "## Adding Functions\n",
    "\n",
    "Now that we have our class definition, and our constructor called `__init__`, we can also add in `instance methods` that will interact with our `instance variables`.\n",
    "\n",
    "Note that we do not need to give a full docstring for non-public methods. Also keep in mind that any variable or any method that we create inside this class will once again only work within this class.\n",
    "\n",
    "Think of this as an even more powerful function."
   ]
  },
  {
   "cell_type": "code",
   "execution_count": 2,
   "metadata": {},
   "outputs": [],
   "source": [
    "class FileTransformer:\n",
    "    \"\"\"Class to transform files properly\n",
    "\n",
    "    Instance Variables\n",
    "    ------------------\n",
    "    files:  list()\n",
    "            List that contains filenames.\n",
    "\n",
    "    Public Methods\n",
    "    ----------\n",
    "    fix_names(self):\n",
    "        Function to remove all non-alphabet characters from this list. Returns a new list.\n",
    "    extension_count(self):\n",
    "        Function to count how many types of files we have. Returns an int\n",
    "    \"\"\"\n",
    "    def __init__(self, files):\n",
    "        self.files = files\n",
    "    \n",
    "    def fix_names(self):\n",
    "        \"\"\"A function to remove all non-alpha chars from self.files\"\"\"\n",
    "        return\n",
    "    \n",
    "    def extension_count(self, extension):\n",
    "        \"\"\"A function to count files of a certain extension\"\"\"\n",
    "        # make a new list that only contains file extensions\n",
    "        extensions = []\n",
    "        for f in self.files:\n",
    "            dot_index = f.find(\".\")\n",
    "            result = f[dot_index + 1:]\n",
    "            extensions.append(result)\n",
    "        \n",
    "        # count how many times this extension appears\n",
    "        return extensions.count(extension)\n",
    "\n"
   ]
  },
  {
   "cell_type": "markdown",
   "metadata": {},
   "source": [
    "## Classes vs. Objects\n",
    "\n",
    "A Python class is our blueprint for our Python object. Once we've implemented this class, we can then create an object.\n",
    "\n",
    "We usually put classes in a seperate file and sometimes even group them together with similar classes. We then import these classes via the `import` statement.\n",
    "\n",
    "Keep in mind that the `object` is the actual bundle of data that you've created, while the `class` are all those variables and definitions that you've specified in a seperate file."
   ]
  },
  {
   "cell_type": "code",
   "execution_count": 4,
   "metadata": {},
   "outputs": [
    {
     "name": "stdout",
     "output_type": "stream",
     "text": [
      "[]\n",
      "0\n",
      "1\n"
     ]
    }
   ],
   "source": [
    "# here we are creating a FileTransformer object that we created above\n",
    "\n",
    "# empty object (no data)\n",
    "empty = FileTransformer([])\n",
    "\n",
    "# access object instance var (note we usually do not want to encourage this)\n",
    "print(empty.files)\n",
    "# run instance methods\n",
    "print(empty.extension_count(\"py\"))\n",
    "\n",
    "# test object (some data)\n",
    "test = FileTransformer([\"hello.py\", \"goodbye.txt\", \"data.csv\"])\n",
    "\n",
    "# run instance methods\n",
    "print(test.extension_count(\"py\"))\n"
   ]
  },
  {
   "cell_type": "markdown",
   "metadata": {},
   "source": [
    "## Class DocString\n",
    "\n",
    "Notice that we did not need to write up a docstring for our non-public methods. This is the norm, as the class docstring will take care of describing all instance variables and function purpose.\n",
    "\n",
    "The format for a class docstring is as follows:\n",
    "\n",
    "```\n",
    "    \"\"\"[class description]\n",
    "\n",
    "    Instance Variables\n",
    "    ------------------\n",
    "    [variable]:  [type]\n",
    "            [variable description]\n",
    "\n",
    "    Public Methods\n",
    "    ----------\n",
    "    [method name]\n",
    "        [method description]\n",
    "    \"\"\"\n",
    "```\n",
    "\n",
    "Just like with functions, this goes immediately underneath our definition.\n"
   ]
  },
  {
   "cell_type": "markdown",
   "metadata": {},
   "source": [
    "## Overriding Functions\n",
    "\n",
    "We want to be able to compare and check for equality in our objects, so we could also implement the following methods to \"override\""
   ]
  },
  {
   "cell_type": "code",
   "execution_count": null,
   "metadata": {},
   "outputs": [],
   "source": [
    "class FileTransformer:\n",
    "    \"\"\"Class to transform files properly\n",
    "\n",
    "    Instance Variables\n",
    "    ------------------\n",
    "    files:  list()\n",
    "            List that contains filenames.\n",
    "\n",
    "    Public Methods\n",
    "    ----------\n",
    "    fix_names(self):\n",
    "        Function to remove all non-alphabet characters from this list. Returns a new list.\n",
    "    extension_count(self):\n",
    "        Function to count how many types of files we have. Returns an int\n",
    "    \"\"\"\n",
    "    def __init__(self, files):\n",
    "        self.files = files\n",
    "    \n",
    "    def fix_names(self):\n",
    "        \"\"\"A function to remove all non-alpha chars from self.files\"\"\"\n",
    "        return\n",
    "    \n",
    "    def extension_count(self, extension):\n",
    "        \"\"\"A function to count files of a certain extension\"\"\"\n",
    "        # make a new list that only contains file extensions\n",
    "        extensions = []\n",
    "        for f in self.files:\n",
    "            dot_index = f.find(\".\")\n",
    "            result = f[dot_index + 1:]\n",
    "            extensions.append(result)\n",
    "        \n",
    "        # count how many times this extension appears\n",
    "        return extensions.count(extension)\n",
    "\n",
    "\n",
    "    def __str__(self):\n",
    "        return str(self.files)\n",
    "    \n",
    "    def __eq__(self, other):\n",
    "        return self.files == other\n"
   ]
  }
 ],
 "metadata": {
  "kernelspec": {
   "display_name": "Python 3.10.7 64-bit",
   "language": "python",
   "name": "python3"
  },
  "language_info": {
   "codemirror_mode": {
    "name": "ipython",
    "version": 3
   },
   "file_extension": ".py",
   "mimetype": "text/x-python",
   "name": "python",
   "nbconvert_exporter": "python",
   "pygments_lexer": "ipython3",
   "version": "3.10.7"
  },
  "orig_nbformat": 4,
  "vscode": {
   "interpreter": {
    "hash": "369f2c481f4da34e4445cda3fffd2e751bd1c4d706f27375911949ba6bb62e1c"
   }
  }
 },
 "nbformat": 4,
 "nbformat_minor": 2
}
