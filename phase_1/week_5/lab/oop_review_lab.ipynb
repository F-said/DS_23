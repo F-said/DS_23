{
 "cells": [
  {
   "cell_type": "markdown",
   "metadata": {},
   "source": [
    "## Fellow Class\n",
    "\n",
    "For questions 1 - 5, we will be using the already created `Fellow` class below. The following questions will require you to modify the class code in order to create a properly functioning class.\n",
    "\n",
    "For each prompt, write down what you need to change, and then implement it within the actual code block.\n",
    "\n",
    "The test code is located within this code block. Run it to validate that you have a properly working class."
   ]
  },
  {
   "cell_type": "code",
   "execution_count": null,
   "metadata": {},
   "outputs": [],
   "source": [
    "class Fellow:\n",
    "    \"\"\"Class to describe a fellow\n",
    "\n",
    "\tAttributes\n",
    "\t—---------\n",
    "    name : str\n",
    "        Name to represent fellow\n",
    "    track : str\n",
    "        Track that fellow is on\n",
    "    familiars : list\n",
    "        List of people this fellow is familair with\n",
    "\n",
    "\tMethods\n",
    "\t—------\n",
    "    in_common(other_fellow):\n",
    "        Returns a list of in_common familiars with the \"other_fellow\" object\n",
    "    \"\"\"\n",
    "    ## Q1 What am I missing from this parameter list?\n",
    "    def __init__(name, track, familiars=[]):\n",
    "        ## Q2 What am i missing from this __init__ code\n",
    "        name = name\n",
    "        track = track\n",
    "        familiars = familiars\n",
    "\n",
    "    ## Q3 What am I missing from this parameter list? \n",
    "    ## Note: We need this parameter to compare our familairs with the \"other_fellow\" familiars\n",
    "    def in_common(self):\n",
    "        common = []\n",
    "        ## Q4 What am I missing from this for-loop to ensure that we are working with the correct \"familairs\"?\n",
    "        for person in familiars:\n",
    "            if person in other_fellow.familiars:\n",
    "                common.append(person)\n",
    "        \n",
    "        return common\n",
    "\n",
    "alfo =  Fellow(\"Alfonso\", \"DS\", [\"Felipe\"])\n",
    "felip =  Fellow(\"Felipe\", \"DS\", [\"Alfonso\"])\n",
    "gustav =  Fellow(\"Gustavo\", \"DS\", [])\n",
    "\n",
    "## Q5 How can I fix this to see who Alfonso has in common with Gustavo?\n",
    "print(in_common(alfo, gustav))"
   ]
  },
  {
   "cell_type": "markdown",
   "metadata": {},
   "source": [
    "## Q1\n",
    "\n",
    "What am I missing from this parameter list?"
   ]
  },
  {
   "cell_type": "markdown",
   "metadata": {},
   "source": [
    "Write answer here"
   ]
  },
  {
   "cell_type": "markdown",
   "metadata": {},
   "source": [
    "## Q2\n",
    "\n",
    "What am i missing from this `__init__` code? Keep in mind that this is related to Q1. "
   ]
  },
  {
   "cell_type": "markdown",
   "metadata": {},
   "source": [
    "Write answer here"
   ]
  },
  {
   "cell_type": "markdown",
   "metadata": {},
   "source": [
    "## Q3\n",
    "\n",
    "What am I missing from this parameter list? \n",
    "\n",
    "Note: We need this parameter to compare our familairs with the \"other_fellow\" familiars"
   ]
  },
  {
   "cell_type": "markdown",
   "metadata": {},
   "source": [
    "Write answer here"
   ]
  },
  {
   "cell_type": "markdown",
   "metadata": {},
   "source": [
    "## Q4\n",
    "\n",
    "What am I missing from this for-loop to ensure that we are working with the correct \"familairs\"?"
   ]
  },
  {
   "cell_type": "markdown",
   "metadata": {},
   "source": [
    "Write answer here"
   ]
  },
  {
   "cell_type": "markdown",
   "metadata": {},
   "source": [
    "## Q5\n",
    "\n",
    "How can I fix this to see who Alfonso has in common with Gustavo"
   ]
  },
  {
   "cell_type": "markdown",
   "metadata": {},
   "source": [
    "Write answer here"
   ]
  },
  {
   "cell_type": "markdown",
   "metadata": {},
   "source": [
    "## Class Creation II\n",
    "\n",
    "After using a competitor's Python `Calculator` class for the past decade, your company has decided to allocate resources to create its own Python `Calculator` class. This class will take in two numbers (ints or floats), and will allow us to add, subtract, multiply, and divide. \n",
    "\n",
    "The docstring was handed down to you from another programmer, so all you need to implement is the:\n",
    "\n",
    "* `__init__` method, which will take in two numbers\n",
    "* `add()` method, which will calculate the sum\n",
    "* `subtract()` method, which will calculate the difference\n",
    "* `multiply()` method, which will calculate the product\n",
    "* `divide()` method which will calculate the quotient. \n",
    "* `pow()` method, which will exponentiate the first number by the second number. \n",
    "\n",
    "Modify the code-block below to complete this section of the lab.\n",
    "\n",
    "Use the code-block underneath this block to test your code.\n"
   ]
  },
  {
   "cell_type": "code",
   "execution_count": null,
   "metadata": {},
   "outputs": [],
   "source": [
    "class Calculator:\n",
    "    \"\"\"Class to compute statistics on list of nums\n",
    "\n",
    "    Attributes\n",
    "    ----------\n",
    "    num1 : int | float\n",
    "        first number\n",
    "    num2 : int | float\n",
    "        second number\n",
    "\n",
    "    Methods\n",
    "    -------\n",
    "    add():\n",
    "        Return sum of num1 and num2\n",
    "    subtract() :\n",
    "        Return difference of num1 and num2\n",
    "    multiply() :\n",
    "        Return product of num1 and num2\n",
    "    divide() :\n",
    "        Return quotient of num1 and num2\n",
    "    pow() :\n",
    "        Return num1 to the power of num2\n",
    "    \"\"\"\n",
    "    def __init__(self, nums):\n",
    "        self.nums = nums"
   ]
  },
  {
   "cell_type": "code",
   "execution_count": null,
   "metadata": {},
   "outputs": [],
   "source": [
    "## do not modify code below! \n",
    "\n",
    "test = Calculator(10, 20)\n",
    "print(test.add())\n",
    "print(test.subtract())\n",
    "print(test.multiply())\n",
    "print(test.divide())\n",
    "print(test.pow())"
   ]
  }
 ],
 "metadata": {
  "kernelspec": {
   "display_name": "Python 3.10.7 64-bit",
   "language": "python",
   "name": "python3"
  },
  "language_info": {
   "name": "python",
   "version": "3.10.7"
  },
  "orig_nbformat": 4,
  "vscode": {
   "interpreter": {
    "hash": "369f2c481f4da34e4445cda3fffd2e751bd1c4d706f27375911949ba6bb62e1c"
   }
  }
 },
 "nbformat": 4,
 "nbformat_minor": 2
}
