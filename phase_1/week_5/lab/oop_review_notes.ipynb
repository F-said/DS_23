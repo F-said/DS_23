{
 "cells": [
  {
   "cell_type": "markdown",
   "metadata": {},
   "source": [
    "## I/O Review\n",
    "\n",
    "I want to create an ATM command-line app. We will start off with a certain amount of money saved in the variable `amount`, and we will prompt the command-line to withdraw or deposit some amount. We will utilize the `input` function and `if` statements so that the program will know what action we want to take.\n",
    "\n",
    "This will not involve a PIN.\n",
    "\n",
    "Example output:\n",
    "```\n",
    "Account balance: 850.33\n",
    "\n",
    "What would you like to do? Type (W) for withdraw or (D) for deposit. D\n",
    "\n",
    "How much would you like to deposit? 200\n",
    "\n",
    "Account Balance: 1050.33\n",
    "```"
   ]
  },
  {
   "cell_type": "code",
   "execution_count": 1,
   "metadata": {},
   "outputs": [],
   "source": [
    "amount = 850.33\n",
    "\n",
    "# write solution here"
   ]
  },
  {
   "cell_type": "markdown",
   "metadata": {},
   "source": [
    "Firstly let's print how much we have as our balance.\n",
    "\n",
    "Next, let's consider how we can prompt the command line for input. Just like before, we need our `input()` function, and we need to save this input by assigning this function to a variable."
   ]
  },
  {
   "cell_type": "code",
   "execution_count": 2,
   "metadata": {},
   "outputs": [],
   "source": [
    "amount = 850.33\n",
    "\n",
    "print(\"Account balance:\", amount)\n",
    "decision = input(\"What would you like to do? Type (W) for withdraw or (D) for deposit.\")"
   ]
  },
  {
   "cell_type": "markdown",
   "metadata": {},
   "source": [
    "Next, we must check which input was given (W or D). Keep in mind, whenever we want to check for the value of something, we must use conditionals.\n",
    "\n",
    "Therefore we can accomplish this using our conditionals."
   ]
  },
  {
   "cell_type": "code",
   "execution_count": 3,
   "metadata": {},
   "outputs": [
    {
     "ename": "IndentationError",
     "evalue": "expected an indented block after 'if' statement on line 5 (3553944858.py, line 6)",
     "output_type": "error",
     "traceback": [
      "\u001b[1;36m  Input \u001b[1;32mIn [3]\u001b[1;36m\u001b[0m\n\u001b[1;33m    elif decision == \"D\":\u001b[0m\n\u001b[1;37m    ^\u001b[0m\n\u001b[1;31mIndentationError\u001b[0m\u001b[1;31m:\u001b[0m expected an indented block after 'if' statement on line 5\n"
     ]
    }
   ],
   "source": [
    "amount = 850.33\n",
    "\n",
    "print(\"Account balance:\", amount)\n",
    "decision = input(\"What would you like to do? Type (W) for withdraw or (D) for deposit.\")\n",
    "\n",
    "if decision == \"W\":\n",
    "elif decision == \"D\":"
   ]
  },
  {
   "cell_type": "markdown",
   "metadata": {},
   "source": [
    "This code is incomplete. Let's think about the various paths this program can go down. So if we input \"W\", we must give a number to withdraw. Similairly, if we input \"D\", we must give an input to deposit.\n",
    "\n",
    "Since both of these cases deal with inputs, let's create two input functions within our code branches.\n",
    "\n",
    "However keep in mind that we are working with numbers! Input takes in everything as a string. Therefore, we must type-cast our input to be a float."
   ]
  },
  {
   "cell_type": "code",
   "execution_count": null,
   "metadata": {},
   "outputs": [],
   "source": [
    "amount = 850.33\n",
    "\n",
    "print(\"Account balance:\", amount)\n",
    "decision = input(\"What would you like to do? Type (W) for withdraw or (D) for deposit.\")\n",
    "\n",
    "if decision == \"W\":\n",
    "    withdraw = float(input(\"How much would you like to withdraw?\"))\n",
    "elif decision == \"D\":\n",
    "    deposit = float(input(\"How much would you like to deposit?\"))\n",
    "    "
   ]
  },
  {
   "cell_type": "markdown",
   "metadata": {},
   "source": [
    "Finally, we can now apply the distinct operations to our bank account. If we are withdrawing, we are subtracting, but otherwise we are adding.\n",
    "\n",
    "Let's also be nice and display how much our account now has after our actions."
   ]
  },
  {
   "cell_type": "code",
   "execution_count": null,
   "metadata": {},
   "outputs": [],
   "source": [
    "amount = 850.33\n",
    "\n",
    "print(\"Account balance:\", amount)\n",
    "decision = input(\"What would you like to do? Type (W) for withdraw or (D) for deposit.\")\n",
    "\n",
    "if decision == \"W\":\n",
    "    withdraw = float(input(\"How much would you like to withdraw?\"))\n",
    "    amount = amount - withdraw\n",
    "elif decision == \"D\":\n",
    "    deposit = float(input(\"How much would you like to deposit?\"))\n",
    "    amount = amount + deposit\n",
    "\n",
    "\n",
    "print(\"Account balance:\", amount)"
   ]
  },
  {
   "cell_type": "markdown",
   "metadata": {},
   "source": [
    "# A Summary of Objects\n",
    "\n",
    "Everything in Python is an object. But for sanity, let us think about data-structures as data-structures, and single data-points as primitives. Functionally that is how they behave, so therefore we should treat them as such.\n",
    "\n",
    "For now, let us only consider objects to be specific bundles of data that contain:\n",
    "* Attributes\n",
    "* Methods"
   ]
  },
  {
   "cell_type": "markdown",
   "metadata": {},
   "source": [
    "## Classes Vs. Objects\n",
    "\n",
    "This is the most important distinction we can make. Classes are the definitions that we define ourselves by writing code. To summarize:\n",
    "\n",
    "* Classes are blueprint for objects that we **write**\n",
    "* Objects are a bundle of real data that we **create**\n",
    "\n",
    "We can refer to an endless supply of examples:\n",
    "* a recipe and the actual cake\n",
    "* a lego-manual and the actual lego structure\n",
    "* a car blueprint and the actual car\n"
   ]
  },
  {
   "cell_type": "markdown",
   "metadata": {},
   "source": [
    "## Class Composition\n",
    "\n",
    "What is a class composed of?\n",
    "\n",
    "* Class definition\n",
    "* Docstring\n",
    "* Constructor"
   ]
  },
  {
   "cell_type": "code",
   "execution_count": 5,
   "metadata": {},
   "outputs": [],
   "source": [
    "class Fellow:\n",
    "\t\"\"\"Class to describe a fellow\n",
    "\n",
    "\tAttributes\n",
    "\t—---------\n",
    "\n",
    "\tMethods\n",
    "\t—------\n",
    "\t\n",
    "\t\"\"\"\n",
    "\tdef __init__(self, name, track, familiars=[]):\n",
    "\t\tself.name = name\n",
    "\t\tself.track = track\n",
    "\t\tself.familiars = familiars"
   ]
  },
  {
   "cell_type": "markdown",
   "metadata": {},
   "source": [
    "![image](https://user-images.githubusercontent.com/26397102/195447645-25626704-caef-4a66-a49e-3ea34bc311ee.png)\n"
   ]
  },
  {
   "cell_type": "markdown",
   "metadata": {},
   "source": [
    "Now that we have a class, how can we create objects?"
   ]
  },
  {
   "cell_type": "code",
   "execution_count": null,
   "metadata": {},
   "outputs": [],
   "source": [
    "# here we create a fellow object \n",
    "farukh = Fellow(\"Farukh\", \"DS\", [\"Axl\", \"Mo\"])"
   ]
  },
  {
   "cell_type": "markdown",
   "metadata": {},
   "source": [
    "![image](https://user-images.githubusercontent.com/26397102/195447926-7b7bc749-ed7b-4f83-90f7-31106e68284c.png)\n"
   ]
  },
  {
   "cell_type": "markdown",
   "metadata": {},
   "source": [
    "Notice that this is the exact same format as creating an explicit object, such as a list."
   ]
  },
  {
   "cell_type": "code",
   "execution_count": null,
   "metadata": {},
   "outputs": [],
   "source": [
    "test = list(\"hello\")"
   ]
  },
  {
   "cell_type": "markdown",
   "metadata": {},
   "source": [
    "But for now, let's put the curtain back. You've seen beyond the veil of how Python works, but for our mental model, let us keep this as data-structure. \n",
    "\n",
    "Also keep, ints, bools, floats, and strings as just data-types."
   ]
  },
  {
   "cell_type": "code",
   "execution_count": null,
   "metadata": {},
   "outputs": [],
   "source": [
    "# this is a data-struct\n",
    "test = [\"h\", \"e\", \"l\", \"l\", \"o\"]\n",
    "\n",
    "# these are primitives\n",
    "a = 5\n",
    "b = True\n",
    "c = 't'"
   ]
  },
  {
   "cell_type": "markdown",
   "metadata": {},
   "source": [
    "## Creating class functions\n",
    "\n",
    "Let's say we want to compare one person's familairs with another. Let's create a method (a function that belongs to this class).\n",
    "\n",
    "It will come in this format:\n",
    "```python\n",
    "def in_common(self, other_fellow):\n",
    "\t# look through my familiars\n",
    "\n",
    "\t# if there is a person that exists in both our lists\n",
    "\n",
    "\t# record it\n",
    "```"
   ]
  },
  {
   "cell_type": "markdown",
   "metadata": {},
   "source": [
    "After going through some deliberation, we can create this function and insert it into our fellow class."
   ]
  },
  {
   "cell_type": "code",
   "execution_count": null,
   "metadata": {},
   "outputs": [],
   "source": [
    "class Fellow:\n",
    "\t\"\"\"Class to describe a fellow\n",
    "\n",
    "\tAttributes\n",
    "\t—---------\n",
    "\n",
    "\tMethods\n",
    "\t—------\n",
    "\t\n",
    "\t\"\"\"\n",
    "\tdef __init__(self, name, track, familiars=[]):\n",
    "\t\tself.name = name\n",
    "\t\tself.track = track\n",
    "\t\tself.familiars = familiars\n",
    "\n",
    "    \n",
    "\tdef in_common(self, other_fellow):\n",
    "\t\tfor person in self.familiars:\n",
    "\t\t\tif person in other_fellow.familiars:\n",
    "\t\t\t\tprint(person)"
   ]
  },
  {
   "cell_type": "markdown",
   "metadata": {},
   "source": [
    "Abstractly, we've created the following class:\n",
    "\n",
    "![image](https://user-images.githubusercontent.com/26397102/195448895-889082b8-aeee-4b3d-96f2-33313e05a012.png)\n"
   ]
  },
  {
   "cell_type": "markdown",
   "metadata": {},
   "source": [
    "# Creating Objects\n",
    "\n",
    "To reiterate, this is our abstract bundle of data that is now living inside of our computer after running the code below:"
   ]
  },
  {
   "cell_type": "code",
   "execution_count": null,
   "metadata": {},
   "outputs": [],
   "source": [
    "farukh = Fellow(\"Farukh\", \"DS\", [\"Axl\", \"Mo\"])\n",
    "mo = Fellow(\"Mo\", \"DS\", [\"Axl\", \"Farukh\"])"
   ]
  },
  {
   "cell_type": "markdown",
   "metadata": {},
   "source": [
    "![image](https://user-images.githubusercontent.com/26397102/195449157-4057b91e-fbf3-416b-9107-cbc625c8b7f8.png)"
   ]
  },
  {
   "cell_type": "markdown",
   "metadata": {},
   "source": [
    "# Using Methods\n",
    "\n",
    "Now that we've built this function, we can use it just like we've used our builtin methods from other former \"objects.\""
   ]
  },
  {
   "cell_type": "code",
   "execution_count": null,
   "metadata": {},
   "outputs": [],
   "source": [
    "farukh.in_common(mo)\n",
    "mo.in_common(farukh)"
   ]
  }
 ],
 "metadata": {
  "kernelspec": {
   "display_name": "Python 3.10.7 64-bit",
   "language": "python",
   "name": "python3"
  },
  "language_info": {
   "codemirror_mode": {
    "name": "ipython",
    "version": 3
   },
   "file_extension": ".py",
   "mimetype": "text/x-python",
   "name": "python",
   "nbconvert_exporter": "python",
   "pygments_lexer": "ipython3",
   "version": "3.10.7"
  },
  "orig_nbformat": 4,
  "vscode": {
   "interpreter": {
    "hash": "369f2c481f4da34e4445cda3fffd2e751bd1c4d706f27375911949ba6bb62e1c"
   }
  }
 },
 "nbformat": 4,
 "nbformat_minor": 2
}
