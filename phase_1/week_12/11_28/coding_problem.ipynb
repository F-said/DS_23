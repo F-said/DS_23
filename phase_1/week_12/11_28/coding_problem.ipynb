{
 "cells": [
  {
   "cell_type": "markdown",
   "metadata": {},
   "source": [
    "## 387. First Unique Character in a String\n",
    "\n",
    "Given a string s, create a function called `firstUniqChar(s)` to find the first non-repeating character in `s` and return its index. If it does not exist, return -1.\n",
    "\n",
    "Example 1\n",
    "```\n",
    "Input: s = \"leetcode\"\n",
    "Output: 0\n",
    "```\n",
    "\n",
    "Example 2\n",
    "```\n",
    "Input: s = \"loveleetcode\"\n",
    "Output: 2\n",
    "```\n",
    "\n",
    "Example 3\n",
    "```\n",
    "Input: s = \"aabb\"\n",
    "Output: -1\n",
    "```\n",
    "\n",
    "Upon completion, figure out if you can get a better runtime. Submit your answer here: https://leetcode.com/problems/first-unique-character-in-a-string/description/ \n",
    "\n",
    "Submit your code for feedback as well on Google classroom."
   ]
  },
  {
   "cell_type": "code",
   "execution_count": null,
   "metadata": {},
   "outputs": [],
   "source": [
    "# write code here\n",
    "def firstUniqChar(s):\n",
    "    pass"
   ]
  },
  {
   "cell_type": "code",
   "execution_count": null,
   "metadata": {},
   "outputs": [],
   "source": [
    "print(\"Test Case 1:\", firstUniqChar(\"leetcode\") == 0)\n",
    "print(\"Test Case 2:\", firstUniqChar(\"loveleetcode\") == 2)\n",
    "print(\"Test Case 3:\", firstUniqChar(\"aabb\") == -1)"
   ]
  }
 ],
 "metadata": {
  "language_info": {
   "name": "python"
  },
  "orig_nbformat": 4
 },
 "nbformat": 4,
 "nbformat_minor": 2
}
