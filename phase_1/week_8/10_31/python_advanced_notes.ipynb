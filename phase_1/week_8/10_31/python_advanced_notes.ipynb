{
 "cells": [
  {
   "cell_type": "markdown",
   "metadata": {},
   "source": [
    "## Finding Maximum\n",
    "\n",
    "You are currently at a job that pays you $40,000 yearly. You are in the midst of job-hunting, and your only metric for accepting a new job is salary. That is, if a job for $45,000 comes up, you will accept it while you are at your job of $40,000. \n",
    "\n",
    "How would you describe this algorithm in words?"
   ]
  },
  {
   "cell_type": "code",
   "execution_count": null,
   "metadata": {},
   "outputs": [],
   "source": [
    "# write pseudocode here"
   ]
  },
  {
   "cell_type": "markdown",
   "metadata": {},
   "source": [
    "Now let's imagine that there is a list that describes every single job offer that you will ever get. However, it is sequential, so therefore you must accept the highest offer while you do not find a new offer. \n",
    "\n",
    "How can you translate your pseudocode to work through this list?"
   ]
  },
  {
   "cell_type": "code",
   "execution_count": 33,
   "metadata": {},
   "outputs": [
    {
     "name": "stdout",
     "output_type": "stream",
     "text": [
      "150\n"
     ]
    }
   ],
   "source": [
    "# numbers are in thousands of dollars (ex: 40 -> 40*1000 = 40,000 USD)\n",
    "offers = [40, 38, 42, 55, 20, 80, 93, 120, 150, 90, 78]\n",
    "\n",
    "# write pseudocode in relation to this list\n",
    "\n",
    "# assign first job offer to my maximum (saving to a variable)\n",
    "current = offers[0]\n",
    "\n",
    "# get each job offer\n",
    "for new in offers:\n",
    "    # if my new offer is > my current job, take new job (reassign x to be my new offer)\n",
    "    if new > current:\n",
    "        current = new\n",
    "\n",
    "# print out highest job offer\n",
    "print(current)"
   ]
  },
  {
   "cell_type": "markdown",
   "metadata": {},
   "source": [
    "Finally, let us translate this into real Python code."
   ]
  },
  {
   "cell_type": "code",
   "execution_count": null,
   "metadata": {},
   "outputs": [],
   "source": [
    "# numbers are in thousands of dollars (ex: 40 -> 40*1000 = 40,000 USD)\n",
    "offers = [40, 38, 42, 55, 20, 80, 93, 120, 150, 90, 78]\n",
    "\n",
    "# write pseudocode in relation to this list"
   ]
  },
  {
   "cell_type": "markdown",
   "metadata": {},
   "source": [
    "## Solution \n",
    "\n",
    "Below is a sample Python solution."
   ]
  },
  {
   "cell_type": "code",
   "execution_count": null,
   "metadata": {},
   "outputs": [],
   "source": [
    "# numbers are in thousands of dollars (ex: 40 -> 40*1000 = 40,000 USD)\n",
    "offers = [40, 38, 42, 55, 20, 80, 93, 120, 150, 90, 78]\n",
    "\n",
    "# create an initial maximum\n",
    "maximum = offers[0]\n",
    "\n",
    "# for each offer\n",
    "for offer in offers:\n",
    "    # if offer is greater than maximum\n",
    "    if offer > maximum:\n",
    "        # assign this offer to be the maximum\n",
    "        maximum = offer\n",
    "\n",
    "print(maximum)"
   ]
  },
  {
   "cell_type": "markdown",
   "metadata": {},
   "source": [
    "## Validity to this Approach\n",
    "\n",
    "You will not always be programming in Python. Sometimes, a job or project has a different tech-stack than you are used to. Solving this computationally first will allow you to translate the solution into any other programming language, once you figure out the syntax."
   ]
  },
  {
   "cell_type": "code",
   "execution_count": 4,
   "metadata": {
    "vscode": {
     "languageId": "javascript"
    }
   },
   "outputs": [
    {
     "ename": "SyntaxError",
     "evalue": "invalid syntax (1135056807.py, line 1)",
     "output_type": "error",
     "traceback": [
      "\u001b[1;36m  Input \u001b[1;32mIn [4]\u001b[1;36m\u001b[0m\n\u001b[1;33m    // javascript\u001b[0m\n\u001b[1;37m    ^\u001b[0m\n\u001b[1;31mSyntaxError\u001b[0m\u001b[1;31m:\u001b[0m invalid syntax\n"
     ]
    }
   ],
   "source": [
    "// javascript\n",
    "\n",
    "var offers = [40, 38, 42, 55, 20, 80, 93, 120, 150, 90, 78];\n",
    "\n",
    "// create max\n",
    "var maximum = offers[0];\n",
    "\n",
    "// for each offer\n",
    "for (let i = 0; i < offers.length; i++) {\n",
    "    // get offer using indexing\n",
    "    let offer = offers[i];\n",
    "    // if this offer is greater than my max, assign to be my new max\n",
    "    if (offer > maximum) {\n",
    "        maximum = offer;\n",
    "    }\n",
    "}\n",
    "\n",
    "// print out\n",
    "console.log(maximum);"
   ]
  },
  {
   "cell_type": "code",
   "execution_count": 2,
   "metadata": {
    "vscode": {
     "languageId": "ruby"
    }
   },
   "outputs": [
    {
     "ename": "SyntaxError",
     "evalue": "invalid syntax (165124033.py, line 9)",
     "output_type": "error",
     "traceback": [
      "\u001b[1;36m  Input \u001b[1;32mIn [2]\u001b[1;36m\u001b[0m\n\u001b[1;33m    for offer in offers do\u001b[0m\n\u001b[1;37m                        ^\u001b[0m\n\u001b[1;31mSyntaxError\u001b[0m\u001b[1;31m:\u001b[0m invalid syntax\n"
     ]
    }
   ],
   "source": [
    "# ruby\n",
    "\n",
    "offers = [40, 38, 42, 55, 20, 80, 93, 120, 150, 90, 78]\n",
    "\n",
    "# create max\n",
    "maximum = offers[0]\n",
    "\n",
    "# for each offer\n",
    "for offer in offers do\n",
    "    maximum = offer if offer > maximum\n",
    "end\n",
    "\n",
    "# print out\n",
    "print maximum"
   ]
  },
  {
   "cell_type": "markdown",
   "metadata": {},
   "source": [
    "Of course, this is *not* how we make decisions as humans. Imagine we apply this algorithm to our real-life, we might accept an offer that pays very well, but stipulates that we move. Perhaps that is not possible, so we want to be conscientious programmers when it comes to solving human-centered problems. \n",
    "\n",
    "Imagine the following, instead of just having a list of numbers, I have a list of Job \"objects\" that have a variety of attributes such as salary, PTO, stock-option, and relocation."
   ]
  },
  {
   "cell_type": "code",
   "execution_count": 37,
   "metadata": {},
   "outputs": [],
   "source": [
    "class Job:\n",
    "    def __init__(self, title, company, salary, pto, stock, relocation):\n",
    "        self.title = title\n",
    "        self.company = company\n",
    "        self.salary = salary\n",
    "        self.pto = pto\n",
    "        self.stock = stock\n",
    "        self.relocation = relocation\n",
    "\n",
    "job1 = Job(\"Title 1\", \"Company A\", 40_000, 7, 0, False)\n",
    "job2 = Job(\"Title 2\", \"Company B\", 38_000, 31, 100, False)\n",
    "job3 = Job(\"Title 3\", \"Company C\", 55_000, 365, 0, True)\n",
    "\n",
    "jobs = [job1, job2, job3]\n",
    "\n",
    "# how can I figure out which job to select now?"
   ]
  },
  {
   "cell_type": "code",
   "execution_count": 41,
   "metadata": {},
   "outputs": [
    {
     "name": "stdout",
     "output_type": "stream",
     "text": [
      "7\n",
      "31\n",
      "365\n",
      "Company C\n"
     ]
    }
   ],
   "source": [
    "# assign first job offer to my maximum (saving to a variable)\n",
    "current = jobs[0]\n",
    "\n",
    "# get each job offer\n",
    "for new in jobs:\n",
    "    print(new.pto)\n",
    "    # if my new offer's pto is > my current job's pto, take new job (reassign current to be my new offer's pto)\n",
    "    if new.pto > current.pto:\n",
    "        current = new\n",
    "\n",
    "# print out highest job offer\n",
    "print(current.company)"
   ]
  },
  {
   "cell_type": "markdown",
   "metadata": {},
   "source": [
    "## Data Structures of Objects\n",
    "\n",
    "Within our lectures, we’ve only used data structures composed of individual data points (primitives).\n"
   ]
  },
  {
   "cell_type": "code",
   "execution_count": 42,
   "metadata": {},
   "outputs": [],
   "source": [
    "# List of ints\n",
    "x = [1,2,3,4]\n",
    "\n",
    "# set of strings\n",
    "y = {\"a\", \"b\", \"c\", \"C\"}\n",
    "\n",
    "# dictionary of strings to floats\n",
    "prices = { \"chips\": 5.99, \"pizza\": 4.00, \"liver\": 1.99 }\n"
   ]
  },
  {
   "cell_type": "markdown",
   "metadata": {},
   "source": [
    "# Linear Data\n",
    "\n",
    "This is useful in representing and working with linear data, but how do we represent 2-dimensional data?"
   ]
  },
  {
   "cell_type": "code",
   "execution_count": 43,
   "metadata": {},
   "outputs": [],
   "source": [
    "# feb 10th to april 1st 2020\n",
    "# SOURCE: https://covid.cdc.gov/covid-data-tracker/#trends_weeklycases_select_00\n",
    "covid_cases_US = [10, 16, 31, 120, 1234, 8481, 60684, 160_000]"
   ]
  },
  {
   "cell_type": "markdown",
   "metadata": {},
   "source": [
    "## 2D Data\n",
    "\n",
    "There is an “infinite” amount of ways we can organize objects within data-structures, and we will not go over all of them.\n",
    "\n",
    "Instead we will go through some examples and continue practicing the “language” of data analysis.\n",
    "\n",
    "As a child, when you learned how to speak, you didn’t learn about all possible sentence combinations. Instead your mind was “trained” to make its own sentences.\n",
    "\n",
    "Same here\n"
   ]
  },
  {
   "cell_type": "code",
   "execution_count": null,
   "metadata": {},
   "outputs": [],
   "source": [
    "# one way to write this\n",
    "list_list = [\n",
    "    [1, 0],\n",
    "    [0, 1]\n",
    "]\n",
    "\n",
    "# another way\n",
    "list_list = [ [1, 0], [0, 1] ]\n",
    "\n",
    "# one again, working with this as if its any list\n",
    "twodee_list = [ [\"a\", \"b\", 3.0], [\"c\", \"d\"], [6.5] ]"
   ]
  },
  {
   "cell_type": "markdown",
   "metadata": {},
   "source": [
    "How do I get the list “[\"a\", \"b\", 3.0]”\n",
    "\n",
    "```python\n",
    "twodee_list[0]\n",
    "```\n",
    "\n",
    "How do I get the string “a”\n",
    "\n",
    "```python\n",
    "twodee_list[0][0]\n",
    "```\n",
    "\n",
    "How do I get the float 6.5?\n",
    "```python\n",
    "twodee_list[2][0]\n",
    "```"
   ]
  },
  {
   "cell_type": "markdown",
   "metadata": {},
   "source": [
    "## List of Dictionaries\n",
    "\n",
    "We can put other objects inside of data structures\n",
    "\n",
    "We can put dictionaries inside of lists:"
   ]
  },
  {
   "cell_type": "code",
   "execution_count": null,
   "metadata": {},
   "outputs": [],
   "source": [
    "# data structures inside of data structures\n",
    "list_data = [\n",
    "    {\"GeoName\": \"Alabama\", \"1997\": 100, \"1998\": 102},\n",
    "    {\"GeoName\": \"Alaska\", \"1997\": 50, \"1998\": 40},\n",
    "    {\"GeoName\": \"Arizona\", \"1997\": 150, \"1998\": 160}\n",
    "]\n",
    "\n",
    "year = \"1997\"\n",
    "print(list_data[0][year])\n",
    "\n",
    "\n",
    "# how do I get every year of data?"
   ]
  },
  {
   "cell_type": "markdown",
   "metadata": {},
   "source": [
    "## File I/O Review\n",
    "\n",
    "This is where our file i/o and csv module comes into play. We want to transform this file that’s just sitting in our computer.\n",
    "\n",
    "Into our list of dictionaries.\n",
    "\n",
    "We could potentially write code that does this for us! But that is unnecessary. We have a csv module (code that someone else wrote) to do this for us."
   ]
  },
  {
   "cell_type": "code",
   "execution_count": 47,
   "metadata": {},
   "outputs": [
    {
     "ename": "FileNotFoundError",
     "evalue": "[Errno 2] No such file or directory: '../../week_7/data/state_gdp_analysis.csv'",
     "output_type": "error",
     "traceback": [
      "\u001b[1;31m---------------------------------------------------------------------------\u001b[0m",
      "\u001b[1;31mFileNotFoundError\u001b[0m                         Traceback (most recent call last)",
      "\u001b[1;32mc:\\Users\\saidmf\\Desktop\\TKH\\DS_22\\phase_1\\week_8\\10_31\\python_advanced_notes.ipynb Cell 25\u001b[0m in \u001b[0;36m<cell line: 4>\u001b[1;34m()\u001b[0m\n\u001b[0;32m      <a href='vscode-notebook-cell:/c%3A/Users/saidmf/Desktop/TKH/DS_22/phase_1/week_8/10_31/python_advanced_notes.ipynb#X55sZmlsZQ%3D%3D?line=0'>1</a>\u001b[0m \u001b[39mimport\u001b[39;00m \u001b[39mcsv\u001b[39;00m\n\u001b[0;32m      <a href='vscode-notebook-cell:/c%3A/Users/saidmf/Desktop/TKH/DS_22/phase_1/week_8/10_31/python_advanced_notes.ipynb#X55sZmlsZQ%3D%3D?line=2'>3</a>\u001b[0m list_data \u001b[39m=\u001b[39m []\n\u001b[1;32m----> <a href='vscode-notebook-cell:/c%3A/Users/saidmf/Desktop/TKH/DS_22/phase_1/week_8/10_31/python_advanced_notes.ipynb#X55sZmlsZQ%3D%3D?line=3'>4</a>\u001b[0m \u001b[39mwith\u001b[39;00m \u001b[39mopen\u001b[39;49m(\u001b[39m\"\u001b[39;49m\u001b[39m../../week_7/data/state_gdp_analysis.csv\u001b[39;49m\u001b[39m\"\u001b[39;49m, \u001b[39m\"\u001b[39;49m\u001b[39mr\u001b[39;49m\u001b[39m\"\u001b[39;49m) \u001b[39mas\u001b[39;00m infile:\n\u001b[0;32m      <a href='vscode-notebook-cell:/c%3A/Users/saidmf/Desktop/TKH/DS_22/phase_1/week_8/10_31/python_advanced_notes.ipynb#X55sZmlsZQ%3D%3D?line=4'>5</a>\u001b[0m     \u001b[39m# load in data as DictReader\u001b[39;00m\n\u001b[0;32m      <a href='vscode-notebook-cell:/c%3A/Users/saidmf/Desktop/TKH/DS_22/phase_1/week_8/10_31/python_advanced_notes.ipynb#X55sZmlsZQ%3D%3D?line=5'>6</a>\u001b[0m     reader \u001b[39m=\u001b[39m csv\u001b[39m.\u001b[39mDictReader(infile)\n\u001b[0;32m      <a href='vscode-notebook-cell:/c%3A/Users/saidmf/Desktop/TKH/DS_22/phase_1/week_8/10_31/python_advanced_notes.ipynb#X55sZmlsZQ%3D%3D?line=6'>7</a>\u001b[0m     \u001b[39mprint\u001b[39m(reader)\n",
      "\u001b[1;31mFileNotFoundError\u001b[0m: [Errno 2] No such file or directory: '../../week_7/data/state_gdp_analysis.csv'"
     ]
    }
   ],
   "source": [
    "import csv\n",
    "\n",
    "list_data = []\n",
    "with open(\"../../week_7/data/state_gdp_analysis.csv\", \"r\") as infile:\n",
    "    # load in data as DictReader\n",
    "    reader = csv.DictReader(infile)\n",
    "    print(reader)"
   ]
  },
  {
   "cell_type": "markdown",
   "metadata": {},
   "source": [
    "## List Comprehension\n",
    "\n",
    "We can implement lists and for-loops. These structures are often used in tandem with each other when creating new lists."
   ]
  },
  {
   "cell_type": "code",
   "execution_count": null,
   "metadata": {},
   "outputs": [],
   "source": [
    "letters = [\"a\", \"b\", \"c\"]\n",
    "\n",
    "for l in letters:\n",
    "    print(l)"
   ]
  },
  {
   "cell_type": "code",
   "execution_count": 44,
   "metadata": {},
   "outputs": [
    {
     "data": {
      "text/plain": [
       "['A', 'B', 'C']"
      ]
     },
     "execution_count": 44,
     "metadata": {},
     "output_type": "execute_result"
    }
   ],
   "source": [
    "letters = [\"a\", \"b\", \"c\"]\n",
    "\n",
    "capital_letters = []\n",
    "for l in letters:\n",
    "    capital_letters.append(l.upper())\n",
    "\n",
    "capital_letters"
   ]
  },
  {
   "cell_type": "markdown",
   "metadata": {},
   "source": [
    "This happens so often in Python, that we actually have a shorthand for this."
   ]
  },
  {
   "cell_type": "markdown",
   "metadata": {},
   "source": [
    "```python\n",
    "[var for var in data-struct]\n",
    "```\n",
    "\n",
    "```python\n",
    "[var.method() for var in data-struct]\n",
    "```\n",
    "\n"
   ]
  }
 ],
 "metadata": {
  "kernelspec": {
   "display_name": "Python 3.10.7 64-bit",
   "language": "python",
   "name": "python3"
  },
  "language_info": {
   "codemirror_mode": {
    "name": "ipython",
    "version": 3
   },
   "file_extension": ".py",
   "mimetype": "text/x-python",
   "name": "python",
   "nbconvert_exporter": "python",
   "pygments_lexer": "ipython3",
   "version": "3.10.7"
  },
  "orig_nbformat": 4,
  "vscode": {
   "interpreter": {
    "hash": "369f2c481f4da34e4445cda3fffd2e751bd1c4d706f27375911949ba6bb62e1c"
   }
  }
 },
 "nbformat": 4,
 "nbformat_minor": 2
}
