{
 "cells": [
  {
   "cell_type": "markdown",
   "metadata": {},
   "source": [
    "## Review\n",
    "\n",
    "Refer to recording. What workflow do I take when I want to commit changes to my project?"
   ]
  },
  {
   "cell_type": "markdown",
   "metadata": {},
   "source": [
    "## Conditionals Review\n",
    "\n"
   ]
  },
  {
   "cell_type": "code",
   "execution_count": null,
   "metadata": {},
   "outputs": [],
   "source": [
    "paid = False\n",
    "\n",
    "if paid == True:\n",
    "    print(\"I am beginning work. Check back in 3 weeks.\")\n",
    "else:\n",
    "    print(\"Awaiting payment.\")"
   ]
  },
  {
   "cell_type": "code",
   "execution_count": 11,
   "metadata": {},
   "outputs": [
    {
     "name": "stdout",
     "output_type": "stream",
     "text": [
      "x is a positive\n",
      "x is not even\n",
      "x is 5\n",
      "Hello to you too\n",
      "Email is most likely spam\n"
     ]
    }
   ],
   "source": [
    "# inequality\n",
    "x = 5\n",
    "if x > 0:\n",
    "    print(\"x is a positive\")\n",
    "if x % 2 != 0:\n",
    "    print(\"x is not even\")\n",
    "\n",
    "# equality\n",
    "if x == 5:\n",
    "    print(\"x is 5\")\n",
    "    \n",
    "word = \"Hello\"\n",
    "if word == \"Hello\":\n",
    "    print(\"Hello to you too\")\n",
    "\n",
    "# membership\n",
    "email = \"Hello, you have won a free iphone.\"\n",
    "if \"free\" in email:\n",
    "    print(\"Email is most likely spam\")"
   ]
  },
  {
   "cell_type": "code",
   "execution_count": 13,
   "metadata": {},
   "outputs": [
    {
     "name": "stdout",
     "output_type": "stream",
     "text": [
      "they are NOT the same!\n"
     ]
    }
   ],
   "source": [
    "# object equality\n",
    "\n",
    "class Job:\n",
    "    def __init__(self, title, company, salary, pto, stock, relocation):\n",
    "        self.title = title\n",
    "        self.company = company\n",
    "        self.salary = salary\n",
    "        self.pto = pto\n",
    "        self.stock = stock\n",
    "        self.relocation = relocation\n",
    "\n",
    "job1 = Job(\"Title 1\", \"Company A\", 40_000, 7, 0, False)\n",
    "job2 = Job(\"Title 1\", \"Company A\", 40_000, 7, 0, False)\n",
    "\n",
    "if job1 == job2:\n",
    "    print(\"job1 and job2 are the same\")\n",
    "else:\n",
    "    print(\"they are NOT the same!\")"
   ]
  },
  {
   "cell_type": "code",
   "execution_count": 17,
   "metadata": {},
   "outputs": [
    {
     "name": "stdout",
     "output_type": "stream",
     "text": [
      "E is missing!\n",
      "Subset!\n"
     ]
    }
   ],
   "source": [
    "## Membership\n",
    "\n",
    "letters = {\"a\", \"b\", \"c\", \"d\", \"f\"}\n",
    "\n",
    "if \"e\" in letters:\n",
    "    print(\"E is there\")\n",
    "else:\n",
    "    print(\"E is missing!\")\n",
    "\n",
    "matrix = [\n",
    "    [1, 0],\n",
    "    [0, 1]\n",
    "]\n",
    "\n",
    "row = [1, 0]\n",
    "\n",
    "if row in matrix:\n",
    "    print(\"Row is in matrix!\")"
   ]
  },
  {
   "cell_type": "markdown",
   "metadata": {},
   "source": [
    "## List Comprehension\n"
   ]
  },
  {
   "cell_type": "code",
   "execution_count": 18,
   "metadata": {},
   "outputs": [
    {
     "ename": "AttributeError",
     "evalue": "'float' object has no attribute 'upper'",
     "output_type": "error",
     "traceback": [
      "\u001b[1;31m---------------------------------------------------------------------------\u001b[0m",
      "\u001b[1;31mAttributeError\u001b[0m                            Traceback (most recent call last)",
      "\u001b[1;32mc:\\Users\\saidmf\\Desktop\\TKH\\DS_22\\phase_1\\week_8\\11_1\\python_advanced_II_notes.ipynb Cell 8\u001b[0m in \u001b[0;36m<cell line: 3>\u001b[1;34m()\u001b[0m\n\u001b[0;32m      <a href='vscode-notebook-cell:/c%3A/Users/saidmf/Desktop/TKH/DS_22/phase_1/week_8/11_1/python_advanced_II_notes.ipynb#W5sZmlsZQ%3D%3D?line=0'>1</a>\u001b[0m letters \u001b[39m=\u001b[39m [\u001b[39m\"\u001b[39m\u001b[39ma\u001b[39m\u001b[39m\"\u001b[39m, \u001b[39m5.3\u001b[39m, \u001b[39m295\u001b[39m, \u001b[39m193.5\u001b[39m, \u001b[39m\"\u001b[39m\u001b[39mb\u001b[39m\u001b[39m\"\u001b[39m, \u001b[39m1.9\u001b[39m, \u001b[39m\"\u001b[39m\u001b[39mc\u001b[39m\u001b[39m\"\u001b[39m]\n\u001b[1;32m----> <a href='vscode-notebook-cell:/c%3A/Users/saidmf/Desktop/TKH/DS_22/phase_1/week_8/11_1/python_advanced_II_notes.ipynb#W5sZmlsZQ%3D%3D?line=2'>3</a>\u001b[0m capital_letters \u001b[39m=\u001b[39m [l\u001b[39m.\u001b[39mupper() \u001b[39mfor\u001b[39;00m l \u001b[39min\u001b[39;00m letters]\n",
      "\u001b[1;32mc:\\Users\\saidmf\\Desktop\\TKH\\DS_22\\phase_1\\week_8\\11_1\\python_advanced_II_notes.ipynb Cell 8\u001b[0m in \u001b[0;36m<listcomp>\u001b[1;34m(.0)\u001b[0m\n\u001b[0;32m      <a href='vscode-notebook-cell:/c%3A/Users/saidmf/Desktop/TKH/DS_22/phase_1/week_8/11_1/python_advanced_II_notes.ipynb#W5sZmlsZQ%3D%3D?line=0'>1</a>\u001b[0m letters \u001b[39m=\u001b[39m [\u001b[39m\"\u001b[39m\u001b[39ma\u001b[39m\u001b[39m\"\u001b[39m, \u001b[39m5.3\u001b[39m, \u001b[39m295\u001b[39m, \u001b[39m193.5\u001b[39m, \u001b[39m\"\u001b[39m\u001b[39mb\u001b[39m\u001b[39m\"\u001b[39m, \u001b[39m1.9\u001b[39m, \u001b[39m\"\u001b[39m\u001b[39mc\u001b[39m\u001b[39m\"\u001b[39m]\n\u001b[1;32m----> <a href='vscode-notebook-cell:/c%3A/Users/saidmf/Desktop/TKH/DS_22/phase_1/week_8/11_1/python_advanced_II_notes.ipynb#W5sZmlsZQ%3D%3D?line=2'>3</a>\u001b[0m capital_letters \u001b[39m=\u001b[39m [l\u001b[39m.\u001b[39;49mupper() \u001b[39mfor\u001b[39;00m l \u001b[39min\u001b[39;00m letters]\n",
      "\u001b[1;31mAttributeError\u001b[0m: 'float' object has no attribute 'upper'"
     ]
    }
   ],
   "source": [
    "letters = [\"a\", 5.3, 295, 193.5, \"b\", 1.9, \"c\"]\n",
    "\n",
    "capital_letters = [l.upper() for l in letters]"
   ]
  },
  {
   "cell_type": "code",
   "execution_count": 19,
   "metadata": {},
   "outputs": [
    {
     "data": {
      "text/plain": [
       "['A', 'B', 'C']"
      ]
     },
     "execution_count": 19,
     "metadata": {},
     "output_type": "execute_result"
    }
   ],
   "source": [
    "letters = [\"a\", 5.3, 295, 193.5, \"b\", 1.9, \"c\"]\n",
    "\n",
    "capital_letters = []\n",
    "for l in letters:\n",
    "    if isinstance(l, str):\n",
    "        capital_letters.append(l.upper())\n",
    "\n",
    "capital_letters"
   ]
  },
  {
   "cell_type": "code",
   "execution_count": null,
   "metadata": {},
   "outputs": [],
   "source": [
    "capital_letters= [l.upper() for l in letters if isinstance(l, str)]"
   ]
  },
  {
   "cell_type": "markdown",
   "metadata": {},
   "source": [
    "## Filtering\n",
    "\n",
    "What if we want to simply filter? Let's say we have "
   ]
  },
  {
   "cell_type": "code",
   "execution_count": null,
   "metadata": {},
   "outputs": [],
   "source": [
    "numbers = [1,2,3,4,5,6,7,8,9,10]\n",
    "\n",
    "# I only want evens\n",
    "evens = [num for num in numbers if <conditional>]"
   ]
  },
  {
   "cell_type": "code",
   "execution_count": null,
   "metadata": {},
   "outputs": [],
   "source": [
    "list_data = [\n",
    "    {\"GeoName\": \"Alabama\", \"1997\": 100, \"1998\": 102},\n",
    "    {\"GeoName\": \"Alaska\", \"1997\": 50, \"1998\": 40},\n",
    "\t{\"GeoName\": \"New York\", \"1997\": 600, \"1998\": 650},\n",
    "    {\"GeoName\": \"Arizona\", \"1997\": 150, \"1998\": 160},\n",
    "    {\"GeoName\": \"California\", \"1997\": 1000, \"1998\": 1001},\n",
    "    {\"GeoName\": \"Texas\", \"1997\": 500, \"1998\": 540}\n",
    "]\n",
    "\n",
    "# I only want dictionaries containing “A” states\n",
    "a_data = [row for row in list_data if <conditional>]"
   ]
  },
  {
   "cell_type": "markdown",
   "metadata": {},
   "source": [
    "## Errors\n",
    "\n"
   ]
  },
  {
   "cell_type": "code",
   "execution_count": 21,
   "metadata": {},
   "outputs": [
    {
     "ename": "SyntaxError",
     "evalue": "invalid syntax (2196613864.py, line 1)",
     "output_type": "error",
     "traceback": [
      "\u001b[1;36m  Input \u001b[1;32mIn [21]\u001b[1;36m\u001b[0m\n\u001b[1;33m    while True print(Hello world)\u001b[0m\n\u001b[1;37m               ^\u001b[0m\n\u001b[1;31mSyntaxError\u001b[0m\u001b[1;31m:\u001b[0m invalid syntax\n"
     ]
    }
   ],
   "source": [
    "while True:\n",
    "    print(Hello world)"
   ]
  },
  {
   "cell_type": "markdown",
   "metadata": {},
   "source": [
    "## Exceptions"
   ]
  },
  {
   "cell_type": "code",
   "execution_count": 22,
   "metadata": {},
   "outputs": [
    {
     "ename": "ZeroDivisionError",
     "evalue": "division by zero",
     "output_type": "error",
     "traceback": [
      "\u001b[1;31m---------------------------------------------------------------------------\u001b[0m",
      "\u001b[1;31mZeroDivisionError\u001b[0m                         Traceback (most recent call last)",
      "\u001b[1;32mc:\\Users\\saidmf\\Desktop\\TKH\\DS_22\\phase_1\\week_8\\11_1\\python_advanced_II_notes.ipynb Cell 17\u001b[0m in \u001b[0;36m<cell line: 4>\u001b[1;34m()\u001b[0m\n\u001b[0;32m      <a href='vscode-notebook-cell:/c%3A/Users/saidmf/Desktop/TKH/DS_22/phase_1/week_8/11_1/python_advanced_II_notes.ipynb#X24sZmlsZQ%3D%3D?line=0'>1</a>\u001b[0m x \u001b[39m=\u001b[39m \u001b[39m10\u001b[39m\n\u001b[0;32m      <a href='vscode-notebook-cell:/c%3A/Users/saidmf/Desktop/TKH/DS_22/phase_1/week_8/11_1/python_advanced_II_notes.ipynb#X24sZmlsZQ%3D%3D?line=1'>2</a>\u001b[0m y \u001b[39m=\u001b[39m \u001b[39m0\u001b[39m\n\u001b[1;32m----> <a href='vscode-notebook-cell:/c%3A/Users/saidmf/Desktop/TKH/DS_22/phase_1/week_8/11_1/python_advanced_II_notes.ipynb#X24sZmlsZQ%3D%3D?line=3'>4</a>\u001b[0m \u001b[39mprint\u001b[39m(x\u001b[39m/\u001b[39;49my)\n",
      "\u001b[1;31mZeroDivisionError\u001b[0m: division by zero"
     ]
    }
   ],
   "source": [
    "x = 10\n",
    "y = 0\n",
    "\n",
    "print(x/y)"
   ]
  },
  {
   "cell_type": "code",
   "execution_count": 23,
   "metadata": {},
   "outputs": [
    {
     "ename": "FileNotFoundError",
     "evalue": "[Errno 2] No such file or directory: 'Thisdoesntexist.txt'",
     "output_type": "error",
     "traceback": [
      "\u001b[1;31m---------------------------------------------------------------------------\u001b[0m",
      "\u001b[1;31mFileNotFoundError\u001b[0m                         Traceback (most recent call last)",
      "\u001b[1;32mc:\\Users\\saidmf\\Desktop\\TKH\\DS_22\\phase_1\\week_8\\11_1\\python_advanced_II_notes.ipynb Cell 18\u001b[0m in \u001b[0;36m<cell line: 3>\u001b[1;34m()\u001b[0m\n\u001b[0;32m      <a href='vscode-notebook-cell:/c%3A/Users/saidmf/Desktop/TKH/DS_22/phase_1/week_8/11_1/python_advanced_II_notes.ipynb#X30sZmlsZQ%3D%3D?line=0'>1</a>\u001b[0m filename \u001b[39m=\u001b[39m \u001b[39m\"\u001b[39m\u001b[39mThisdoesntexist.txt\u001b[39m\u001b[39m\"\u001b[39m\n\u001b[1;32m----> <a href='vscode-notebook-cell:/c%3A/Users/saidmf/Desktop/TKH/DS_22/phase_1/week_8/11_1/python_advanced_II_notes.ipynb#X30sZmlsZQ%3D%3D?line=2'>3</a>\u001b[0m file \u001b[39m=\u001b[39m \u001b[39mopen\u001b[39;49m(filename, \u001b[39m\"\u001b[39;49m\u001b[39mr\u001b[39;49m\u001b[39m\"\u001b[39;49m)\n",
      "\u001b[1;31mFileNotFoundError\u001b[0m: [Errno 2] No such file or directory: 'Thisdoesntexist.txt'"
     ]
    }
   ],
   "source": [
    "filename = \"Thisdoesntexist.txt\"\n",
    "\n",
    "file = open(filename, \"r\")"
   ]
  },
  {
   "cell_type": "code",
   "execution_count": 24,
   "metadata": {},
   "outputs": [
    {
     "ename": "ZeroDivisionError",
     "evalue": "division by zero",
     "output_type": "error",
     "traceback": [
      "\u001b[1;31m---------------------------------------------------------------------------\u001b[0m",
      "\u001b[1;31mZeroDivisionError\u001b[0m                         Traceback (most recent call last)",
      "\u001b[1;32mc:\\Users\\saidmf\\Desktop\\TKH\\DS_22\\phase_1\\week_8\\11_1\\python_advanced_II_notes.ipynb Cell 19\u001b[0m in \u001b[0;36m<cell line: 7>\u001b[1;34m()\u001b[0m\n\u001b[0;32m      <a href='vscode-notebook-cell:/c%3A/Users/saidmf/Desktop/TKH/DS_22/phase_1/week_8/11_1/python_advanced_II_notes.ipynb#X31sZmlsZQ%3D%3D?line=0'>1</a>\u001b[0m list_data \u001b[39m=\u001b[39m [\n\u001b[0;32m      <a href='vscode-notebook-cell:/c%3A/Users/saidmf/Desktop/TKH/DS_22/phase_1/week_8/11_1/python_advanced_II_notes.ipynb#X31sZmlsZQ%3D%3D?line=1'>2</a>\u001b[0m     {\u001b[39m\"\u001b[39m\u001b[39msum\u001b[39m\u001b[39m\"\u001b[39m: \u001b[39m100\u001b[39m, \u001b[39m\"\u001b[39m\u001b[39mcount\u001b[39m\u001b[39m\"\u001b[39m: \u001b[39m10\u001b[39m},\n\u001b[0;32m      <a href='vscode-notebook-cell:/c%3A/Users/saidmf/Desktop/TKH/DS_22/phase_1/week_8/11_1/python_advanced_II_notes.ipynb#X31sZmlsZQ%3D%3D?line=2'>3</a>\u001b[0m     {\u001b[39m\"\u001b[39m\u001b[39msum\u001b[39m\u001b[39m\"\u001b[39m: \u001b[39m160\u001b[39m, \u001b[39m\"\u001b[39m\u001b[39mcount\u001b[39m\u001b[39m\"\u001b[39m: \u001b[39m5\u001b[39m},\n\u001b[0;32m      <a href='vscode-notebook-cell:/c%3A/Users/saidmf/Desktop/TKH/DS_22/phase_1/week_8/11_1/python_advanced_II_notes.ipynb#X31sZmlsZQ%3D%3D?line=3'>4</a>\u001b[0m     {\u001b[39m\"\u001b[39m\u001b[39msum\u001b[39m\u001b[39m\"\u001b[39m: \u001b[39m80\u001b[39m, \u001b[39m\"\u001b[39m\u001b[39mcount\u001b[39m\u001b[39m\"\u001b[39m: \u001b[39m0\u001b[39m},\n\u001b[0;32m      <a href='vscode-notebook-cell:/c%3A/Users/saidmf/Desktop/TKH/DS_22/phase_1/week_8/11_1/python_advanced_II_notes.ipynb#X31sZmlsZQ%3D%3D?line=4'>5</a>\u001b[0m ]\n\u001b[0;32m      <a href='vscode-notebook-cell:/c%3A/Users/saidmf/Desktop/TKH/DS_22/phase_1/week_8/11_1/python_advanced_II_notes.ipynb#X31sZmlsZQ%3D%3D?line=6'>7</a>\u001b[0m \u001b[39mfor\u001b[39;00m row \u001b[39min\u001b[39;00m list_data:\n\u001b[0;32m      <a href='vscode-notebook-cell:/c%3A/Users/saidmf/Desktop/TKH/DS_22/phase_1/week_8/11_1/python_advanced_II_notes.ipynb#X31sZmlsZQ%3D%3D?line=7'>8</a>\u001b[0m     \u001b[39m# compute mean\u001b[39;00m\n\u001b[1;32m----> <a href='vscode-notebook-cell:/c%3A/Users/saidmf/Desktop/TKH/DS_22/phase_1/week_8/11_1/python_advanced_II_notes.ipynb#X31sZmlsZQ%3D%3D?line=8'>9</a>\u001b[0m     mean \u001b[39m=\u001b[39m row[\u001b[39m\"\u001b[39;49m\u001b[39msum\u001b[39;49m\u001b[39m\"\u001b[39;49m] \u001b[39m/\u001b[39;49m row[\u001b[39m\"\u001b[39;49m\u001b[39mcount\u001b[39;49m\u001b[39m\"\u001b[39;49m]\n",
      "\u001b[1;31mZeroDivisionError\u001b[0m: division by zero"
     ]
    }
   ],
   "source": [
    "list_data = [\n",
    "    {\"sum\": 100, \"count\": 10},\n",
    "    {\"sum\": 160, \"count\": 5},\n",
    "    {\"sum\": 80, \"count\": 0},\n",
    "]\n",
    "\n",
    "for row in list_data:\n",
    "    # compute mean\n",
    "    mean = row[\"sum\"] / row[\"count\"]\n",
    "    print(mean)"
   ]
  },
  {
   "cell_type": "code",
   "execution_count": null,
   "metadata": {},
   "outputs": [],
   "source": [
    "try:\n",
    "    <make an attempt to execute code>\n",
    "except:\n",
    "    <handle somehow>"
   ]
  },
  {
   "cell_type": "code",
   "execution_count": 25,
   "metadata": {},
   "outputs": [
    {
     "data": {
      "text/plain": [
       "[10.0, 32.0, None]"
      ]
     },
     "execution_count": 25,
     "metadata": {},
     "output_type": "execute_result"
    }
   ],
   "source": [
    "list_data = [\n",
    "    {\"sum\": 100, \"count\": 10},\n",
    "    {\"sum\": 160, \"count\": 5},\n",
    "    {\"sum\": 80, \"count\": 0},\n",
    "]\n",
    "\n",
    "avgs = []\n",
    "\n",
    "for row in list_data:\n",
    "    # compute mean\n",
    "    try:\n",
    "        mean = row[\"sum\"] / row[\"count\"]\n",
    "    except:\n",
    "        # make nothing\n",
    "        mean = None\n",
    "    \n",
    "    avgs.append(mean)\n",
    "\n",
    "avgs"
   ]
  },
  {
   "cell_type": "code",
   "execution_count": null,
   "metadata": {},
   "outputs": [],
   "source": [
    "\n",
    "filename = \"Thisdoesntexist.txt\"\n",
    "\n",
    "try:\t\t\n",
    "    file = open(filename, \"r\")\n",
    "except:\n",
    "    print(\"Please ensure that this file exists in your file-system.\")"
   ]
  }
 ],
 "metadata": {
  "kernelspec": {
   "display_name": "Python 3.10.7 64-bit",
   "language": "python",
   "name": "python3"
  },
  "language_info": {
   "codemirror_mode": {
    "name": "ipython",
    "version": 3
   },
   "file_extension": ".py",
   "mimetype": "text/x-python",
   "name": "python",
   "nbconvert_exporter": "python",
   "pygments_lexer": "ipython3",
   "version": "3.10.7"
  },
  "orig_nbformat": 4,
  "vscode": {
   "interpreter": {
    "hash": "369f2c481f4da34e4445cda3fffd2e751bd1c4d706f27375911949ba6bb62e1c"
   }
  }
 },
 "nbformat": 4,
 "nbformat_minor": 2
}
