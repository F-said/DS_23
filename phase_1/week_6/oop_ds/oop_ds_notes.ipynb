{
 "cells": [
  {
   "cell_type": "markdown",
   "metadata": {},
   "source": [
    "## Review\n",
    "\n",
    "We want to encapsulate our bank account CLI from yesterday by creating an `Account` class. This class will describe a savings account that has an annual interest rate, age, and transaction history. \n",
    "\n",
    "### DocString\n",
    "\n",
    "You will create a NumPy docstring that explains what this new class does. Your attributes will include the following:\n",
    "\n",
    "* balance : float\n",
    "    A float amount representing available funds.\n",
    "* interest : float\n",
    "    A float amount representing percent interest\n",
    "* acc_age : int\n",
    "    An int counting account age in years\n",
    "* transactions : list\n",
    "    A list recording transaction history. Is created, not passed.\n",
    "\n",
    "For now, this class will not contain any methods. "
   ]
  },
  {
   "cell_type": "code",
   "execution_count": null,
   "metadata": {},
   "outputs": [],
   "source": [
    "class Account:\n",
    "    \"\"\"[class description]\n",
    "\n",
    "    Attributes\n",
    "    ----------\n",
    "    [param1] : [type]\n",
    "        [description]\n",
    "    [param2] : [type]\n",
    "        [description]\n",
    "    [param3] : [type]\n",
    "        [description]\n",
    "    [param4] : [type]\n",
    "        [description]    \n",
    "    \"\"\"\n",
    "# write solution here"
   ]
  },
  {
   "cell_type": "code",
   "execution_count": null,
   "metadata": {},
   "outputs": [],
   "source": [
    "## Test Code Do not Modify.\n",
    "\n",
    "test = Account(830.44, 0.025, 8)\n",
    "\n",
    "while True:\n",
    "    print(\"Account balance:\", test.balance)\n",
    "\n",
    "    decision = input(\"What would you like to do? Type (W) for withdraw or (D) for deposit.\")\n",
    "    decision = decision.upper()\n",
    "    if decision == \"W\":\n",
    "        withdraw = float(input(\"How much would you like to withdraw?\"))\n",
    "        if withdraw > test.balance:\n",
    "            continue\n",
    "        test.balance = test.balance - withdraw\n",
    "    elif decision == \"D\":\n",
    "        deposit = float(input(\"How much would you like to deposit?\"))\n",
    "        test.balance = test.balance + deposit\n",
    "    elif decision == \"E\":\n",
    "        break\n",
    "    else:\n",
    "        print(\"Not recognized. Try again.\")\n",
    "\n",
    "    print(\"Account balance:\", test.balance)"
   ]
  },
  {
   "cell_type": "markdown",
   "metadata": {},
   "source": [
    "## Definition & Docstring\n",
    "\n",
    "To start writing this class, we will firstly need to write out its class definition which will take the form of `class Name`. Since we're given the name of the class, we will simply write out `class Account`. \n",
    "\n",
    "We will also write out subsequent docstring. This docstring will only describe the attributes section which details the passed & created parameters. We will utilize the template given to us and simply replace the text with square-brackets with relevant information."
   ]
  },
  {
   "cell_type": "code",
   "execution_count": null,
   "metadata": {},
   "outputs": [],
   "source": [
    "class Account:\n",
    "    \"\"\"A class to describe a savings account with interest\n",
    "\n",
    "    Attributes\n",
    "    ----------\n",
    "    balance : float\n",
    "        A float amount representing available funds.\n",
    "    interest : float\n",
    "        A float amount representing percent interest\n",
    "    acc_age : int\n",
    "        An int counting account age in years\n",
    "    transactions : list\n",
    "        A list recording transaction history. Empty by default.\n",
    "    \"\"\""
   ]
  },
  {
   "cell_type": "markdown",
   "metadata": {},
   "source": [
    "## Constructor\n",
    "\n",
    "Next, we will implement our constructor, which we name `__init__` by default. Since this class takes in 4 parameters named `balance`, `interest`, `acc_age`, and `transactions`, we will include these variables in our parameter list.\n",
    "\n",
    "For the last parameter named `transactions`, we will set this to be an empty list by default. \n",
    "\n",
    "As before, we will always include the `self` keyword with every instance method and attribute. For our attributes, self goes behind the variable name, while each function will have `self` as the very first parameter.\n",
    "\n",
    "### Attributes\n",
    "\n",
    "`self.attr`\n",
    "\n",
    "### Methods\n",
    "\n",
    "`def method(self)`"
   ]
  },
  {
   "cell_type": "code",
   "execution_count": null,
   "metadata": {},
   "outputs": [],
   "source": [
    "class Account:\n",
    "    \"\"\"A class to describe a savings account with interest\n",
    "\n",
    "    Attributes\n",
    "    ----------\n",
    "    balance : float\n",
    "        A float amount representing available funds.\n",
    "    interest : float\n",
    "        A float amount representing percent interest\n",
    "    acc_age : int\n",
    "        An int counting account age in years\n",
    "    transactions : list\n",
    "        A list recording transaction history. Empty by default.\n",
    "    \"\"\"\n",
    "    def __init__(self, balance, interest, acc_age, transactions=[]):\n",
    "        self.balance = balance\n",
    "        self.interest = interest\n",
    "        self.acc_age = acc_age\n",
    "        self.transactions = transactions"
   ]
  },
  {
   "cell_type": "markdown",
   "metadata": {},
   "source": [
    "## Classes Review\n",
    "\n",
    "Classes : Blueprint for objects\n",
    "\n",
    "Objects : Data in the form of:\n",
    "* Attributes\n",
    "* Methods\n"
   ]
  },
  {
   "cell_type": "code",
   "execution_count": null,
   "metadata": {},
   "outputs": [],
   "source": [
    "# class\n",
    "class Fellow:\n",
    "\t\"\"\"Class to describe a fellow\n",
    "\n",
    "\tAttributes\n",
    "\t—---------\n",
    "\n",
    "\tMethods\n",
    "\t—------\n",
    "\t\n",
    "\t\"\"\"\n",
    "\tdef __init__(self, name, track, familiars=[]):\n",
    "\t\tself.name = name\n",
    "\t\tself.track = track\n",
    "\t\tself.familiars = familiars\n",
    "\n",
    "# objects\n",
    "personA =  Fellow(\"Alfonso\", \"DS\", [\"Felipe\"])\n",
    "personB =  Fellow(\"Felipe\", \"DS\", [\"Alfonso\"])\n",
    "personC =  Fellow(\"Gustavo\", \"DS\", [])"
   ]
  },
  {
   "cell_type": "markdown",
   "metadata": {},
   "source": [
    "## Python Review\n",
    "\n",
    "Primitives: Singular pieces of data\n",
    "* int `5`\n",
    "* bool `True`\n",
    "* float `5.3`\n",
    "* char `‘c’`\n",
    "\n",
    "Data Structures: Organized data\n",
    "* list `[]`\n",
    "* set `{}`\n",
    "* dictionary `{:}`\n",
    "* tuple `()`\n",
    "\n",
    "Objects: Attributes + Methods\n",
    "* `pathlib.Path()`\n",
    "* `csv.reader()`\n",
    "* `str()`"
   ]
  },
  {
   "cell_type": "markdown",
   "metadata": {},
   "source": [
    "## Type Hinting\n",
    "\n",
    "Additional part of documentation. Helps other programmers, adds loose typing.\n",
    "\n",
    "```python\n",
    "class Fellow:\n",
    "\t\"\"\"Class to describe a fellow\n",
    "\n",
    "\tAttributes\n",
    "\t—---------\n",
    "\n",
    "\tMethods\n",
    "\t—------\n",
    "\t\n",
    "\t\"\"\"\n",
    "\tdef __init__(self, name: str, track: str, familiars: list):\n",
    "\t\tself.name = name\n",
    "\t\tself.track = track\n",
    "\t\tSelf.familiars = familiars\n",
    "\n",
    "\tdef in_common(self, other_fellow: Fellow) -> list:\n",
    "\t\tnew_list = []\n",
    "\t\tfor person in self.familiars:\n",
    "\t\t\tif person in other_fellow.familiars:\n",
    "\t\t\t\tnew_list .append(person)\n",
    "\t\treturn new_list\n",
    "```"
   ]
  },
  {
   "cell_type": "markdown",
   "metadata": {},
   "source": [
    "## Docstring\n",
    "\n",
    "Class Docstring is composed of 3 distinct parts\n",
    "\n",
    "* Class Description: Quick description of class.\n",
    "* Class Attributes: List of attributes that the class creates\n",
    "* Class Methods: List of class methods and what they do\t\n",
    "\n",
    "```python\n",
    "class Fellow:\n",
    "\t\"\"\"Class to describe a fellow\n",
    "\n",
    "\tAttributes\n",
    "\t—---------\n",
    "\tname : str\n",
    "\t\tName of fellow\n",
    "\ttrack : str\n",
    "\t\tName of track\n",
    "\tfamiliars : list\n",
    "\t\tList of people fellow knows\n",
    "\n",
    "\tMethods\n",
    "\t—------\n",
    "\tin_common(other_fellow):\n",
    "\t\tFunction that returns list of people this fellow has in \n",
    "\t\tcommon with “other_fellow” Fellow object\n",
    "\t\"\"\"\n",
    "```\n"
   ]
  },
  {
   "cell_type": "markdown",
   "metadata": {},
   "source": [
    "## Inheritance\n",
    "\n",
    "We are always looking for opportunities to reuse code. This functionality comes built in with Python classes. We can pass down functionality from a parent class to a child class."
   ]
  },
  {
   "cell_type": "code",
   "execution_count": null,
   "metadata": {},
   "outputs": [],
   "source": [
    "class Staff(Fellow):\n",
    "\t\"\"\"Class to describe a staff-member. Inherits from Fellow.\n",
    "\n",
    "\tAttributes\n",
    "\t—---------\n",
    "\n",
    "\tMethods\n",
    "\t—------\n",
    "\t\n",
    "\t\"\"\"\n",
    "\tdef __init__(self, name, track, familiars, hours):\n",
    "\t\tsuper(Staff, self).__init__(name, track, familiars)\n",
    "\t\tself.hours = hours"
   ]
  },
  {
   "cell_type": "markdown",
   "metadata": {},
   "source": [
    "## Applying to Data Engineering\n",
    "\n",
    "We know how to create functionality\n",
    "* Iterate\n",
    "* Calculate\n",
    "* Associate\n",
    "\n",
    "We know how to encapsulate details\n",
    "* Functions\n",
    "* Classes\n",
    "\n",
    "Next, let’s practice “effective” code for data engineering.\n",
    "What is “effective?” Is it:\n",
    "* “It works”?\n",
    "* “It’s easy to understand”?\n",
    "* “It’s documented”?\n",
    "* “It’s open to expansion”?\n",
    "\n",
    "For us, it’s all of these."
   ]
  },
  {
   "cell_type": "markdown",
   "metadata": {},
   "source": [
    "## File I/O\n",
    "\n",
    "Before we get into integrating objects with data engineering, let's learn how to read data from files in Python.\n",
    "\n",
    "First, we must use the builtin `open` function to load in a file object.\n",
    "\n",
    "* https://docs.python.org/3/tutorial/inputoutput.html#reading-and-writing-files\n",
    "\n",
    "* https://docs.python.org/3/library/functions.html#open "
   ]
  },
  {
   "cell_type": "code",
   "execution_count": null,
   "metadata": {},
   "outputs": [],
   "source": [
    "# open to get file object\n",
    "file = open('data/testfile.txt', 'r')\n",
    "# read all lines from f\n",
    "for row in file:\n",
    "    print(row)\n",
    "# close\n",
    "file.close()\n"
   ]
  },
  {
   "cell_type": "markdown",
   "metadata": {},
   "source": [
    "## With Keyword\n",
    "\n",
    "Instead of remembering that we need to close our file object, it’s better to use the `with` keyword to automatically open and close our files for us.\n",
    "\n",
    "https://docs.python.org/3/reference/compound_stmts.html#with "
   ]
  },
  {
   "cell_type": "code",
   "execution_count": null,
   "metadata": {},
   "outputs": [],
   "source": [
    "# open to get file object\n",
    "with open('data/testfile.txt', 'r') as file:\n",
    "    # read all lines from f\n",
    "    for row in file:\n",
    "        print(row)\n"
   ]
  },
  {
   "cell_type": "markdown",
   "metadata": {},
   "source": [
    "## Getting Insight from Data\n",
    "\n",
    "Good enough to calculate insight using the `open` function."
   ]
  },
  {
   "cell_type": "code",
   "execution_count": null,
   "metadata": {},
   "outputs": [],
   "source": [
    "avg_open = 0\n",
    "rows = 0\n",
    "\n",
    "with open('data/AMZN.csv', 'r') as file:\n",
    "    # read all lines from f\n",
    "    for row in file:\n",
    "        # split data\n",
    "        row = row.split(\",\")\n",
    "        # skip header\n",
    "        if row[0] == \"Date\":\n",
    "            continue\n",
    "        # save and cast data\n",
    "        open_price = float(row[1])\n",
    "        avg_open += open_price\n",
    "        rows += 1\n",
    "\n",
    "print(\"AVERAGE OPENING PRICE\")\n",
    "print(avg_open/rows)\n"
   ]
  },
  {
   "cell_type": "markdown",
   "metadata": {},
   "source": [
    "## Reading in CSV Data\n",
    "\n",
    "We should instead use the `csv` module. No need to reinvent the wheel.\n",
    "\n",
    "https://docs.python.org/3/library/csv.html "
   ]
  },
  {
   "cell_type": "code",
   "execution_count": 1,
   "metadata": {},
   "outputs": [
    {
     "name": "stdout",
     "output_type": "stream",
     "text": [
      "AVERAGE OPENING PRICE\n",
      "97.61417350731429\n"
     ]
    }
   ],
   "source": [
    "import csv\n",
    "\n",
    "with open('data/AMZN.csv', 'r') as file:\n",
    "    # read into CSV\n",
    "    reader = csv.reader(file)\n",
    "    # skip header\n",
    "    next(reader, None)\n",
    "    for row in reader:\n",
    "        # save data\n",
    "        print(row)\n"
   ]
  },
  {
   "cell_type": "markdown",
   "metadata": {},
   "source": [
    "## DictReader\n",
    "\n",
    "The code above reads each row as a list. “[].\" We would need to know the index position of each column.\n",
    "\n",
    "It's better to access values by name via `DictReader`.\n",
    "\n",
    "https://docs.python.org/3/library/csv.html#csv.DictReader "
   ]
  },
  {
   "cell_type": "code",
   "execution_count": null,
   "metadata": {},
   "outputs": [],
   "source": [
    "import csv\n",
    "\n",
    "with open('data/AMZN.csv', 'r') as file:\n",
    "    # read into CSV\n",
    "    reader = csv.DictReader(file)\n",
    "    for row in reader:\n",
    "        # print data\n",
    "        print(row)"
   ]
  },
  {
   "cell_type": "markdown",
   "metadata": {},
   "source": [
    "## DictReader Opening Price\n",
    "\n",
    "We can utilize this syntax to calculate the average opening price."
   ]
  },
  {
   "cell_type": "code",
   "execution_count": 7,
   "metadata": {},
   "outputs": [
    {
     "name": "stdout",
     "output_type": "stream",
     "text": [
      "97.61417350731429\n"
     ]
    }
   ],
   "source": [
    "import csv\n",
    "\n",
    "open_total = 0\n",
    "\n",
    "with open('data/AMZN.csv', 'r') as file:\n",
    "    # read into CSV\n",
    "    reader = csv.DictReader(file)\n",
    "    for row in reader:\n",
    "        open_price = float(row[\"Open\"])\n",
    "        open_total += open_price\n",
    "    # get count of rows\n",
    "    rows = reader.line_num - 1\n",
    "    \n",
    "print(open_total/rows)\n",
    "\n",
    "\n"
   ]
  },
  {
   "cell_type": "markdown",
   "metadata": {},
   "source": [
    "## Difference between Average Open & Average Close\n",
    "\n",
    "Now that we know how to read through a csv file using `open` and `reader`, let’s try to get some interesting insight into Amazon’s performance.\n",
    "\n",
    "Let’s find the difference between average opening price and average closing price."
   ]
  },
  {
   "cell_type": "code",
   "execution_count": null,
   "metadata": {},
   "outputs": [],
   "source": [
    "import csv\n",
    "\n",
    "open_total = 0\n",
    "close_total = 0\n",
    "\n",
    "with open('data/AMZN.csv', 'r') as file:\n",
    "    # read into CSV\n",
    "    reader = csv.DictReader(file)\n",
    "    for row in reader:\n",
    "        open_total += float(row[\"Open\"])\n",
    "        close_total += float(row[\"Close\"])\n",
    "    # get count of rows\n",
    "    rows = reader.line_num - 1\n",
    "\n",
    "avg_open = open_total/rows\n",
    "avg_close = close_total/rows\n",
    "\n",
    "print(avg_close - avg_open)\n"
   ]
  }
 ],
 "metadata": {
  "kernelspec": {
   "display_name": "Python 3.10.7 64-bit",
   "language": "python",
   "name": "python3"
  },
  "language_info": {
   "codemirror_mode": {
    "name": "ipython",
    "version": 3
   },
   "file_extension": ".py",
   "mimetype": "text/x-python",
   "name": "python",
   "nbconvert_exporter": "python",
   "pygments_lexer": "ipython3",
   "version": "3.10.7"
  },
  "orig_nbformat": 4,
  "vscode": {
   "interpreter": {
    "hash": "369f2c481f4da34e4445cda3fffd2e751bd1c4d706f27375911949ba6bb62e1c"
   }
  }
 },
 "nbformat": 4,
 "nbformat_minor": 2
}
