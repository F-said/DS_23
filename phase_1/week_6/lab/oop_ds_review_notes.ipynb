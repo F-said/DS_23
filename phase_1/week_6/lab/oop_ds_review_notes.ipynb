{
 "cells": [
  {
   "cell_type": "markdown",
   "metadata": {},
   "source": [
    "## Review\n",
    "\n",
    "I have two dictionaries describing the annual cost for rent in NYC for the years 2005 and 2019. Each dictionary is a seperate year, and the keys of the dictionary are the following: `median`, `average`, and `us-average`.\n",
    "\n",
    "How can I calculate the rate of change in average cost from 2005 to 2019 for nyc rent? How can I calculate rate of change for us average?"
   ]
  },
  {
   "cell_type": "code",
   "execution_count": 3,
   "metadata": {},
   "outputs": [
    {
     "name": "stdout",
     "output_type": "stream",
     "text": [
      "18.642857142857142\n",
      "13.357142857142858\n"
     ]
    }
   ],
   "source": [
    "year_2005 = {\"median\": 1051, \"average\": 1129, \"us-average\": 910}\n",
    "year_2019 = {\"median\": 1309, \"average\": 1390, \"us-average\": 1097}\n"
   ]
  },
  {
   "cell_type": "markdown",
   "metadata": {},
   "source": [
    "## Solution\n",
    "\n",
    "Below is the solution to this prompt.\n",
    "\n",
    "We want to be able to apply the \"slope formula\" to the average cost of rent in 2019 and 2005. We accomplish this by accessing the average \"value\" of 2019 by writing out `year_2019[\"average\"]`. The same applies to the average value of the year 2005: `year_2005[\"average\"]`."
   ]
  },
  {
   "cell_type": "code",
   "execution_count": 3,
   "metadata": {},
   "outputs": [
    {
     "data": {
      "text/plain": [
       "18.642857142857142"
      ]
     },
     "execution_count": 3,
     "metadata": {},
     "output_type": "execute_result"
    }
   ],
   "source": [
    "rate = (year_2019[\"average\"] - year_2005[\"average\"])/(2019 - 2005)\n",
    "rate"
   ]
  },
  {
   "cell_type": "markdown",
   "metadata": {},
   "source": [
    "We do the same exact line of code, except with the `us-average` key to calculate the average rate of change for the US."
   ]
  },
  {
   "cell_type": "code",
   "execution_count": 4,
   "metadata": {},
   "outputs": [
    {
     "data": {
      "text/plain": [
       "13.357142857142858"
      ]
     },
     "execution_count": 4,
     "metadata": {},
     "output_type": "execute_result"
    }
   ],
   "source": [
    "rate = (year_2019[\"us-average\"] - year_2005[\"us-average\"])/(2019 - 2005)\n",
    "rate"
   ]
  },
  {
   "cell_type": "markdown",
   "metadata": {},
   "source": [
    "## Type-Hinting Classes\n",
    "\n",
    "If we want to type-hint a class that we created ourselves, we could either enclose the type in strings.\n",
    "\n",
    "Or import annotations from the “future”\n",
    "\n",
    "https://peps.python.org/pep-0563/ "
   ]
  },
  {
   "cell_type": "code",
   "execution_count": null,
   "metadata": {},
   "outputs": [],
   "source": [
    "# function attached to class “Fellow”\n",
    "def in_common(self, other_fellow: 'Fellow'):\n",
    "    new_list = []\n",
    "    for person in self.familiars:\n",
    "        if person in other_fellow.familiars:\n",
    "            new_list .append(person)\n",
    "    return new_list"
   ]
  },
  {
   "cell_type": "code",
   "execution_count": null,
   "metadata": {},
   "outputs": [],
   "source": [
    "from __future__ import annotations\n",
    "\n",
    "# function attached to class “Fellow”\n",
    "def in_common(self, other_fellow: Fellow):\n",
    "    new_list = []\n",
    "    for person in self.familiars:\n",
    "        if person in other_fellow.familiars:\n",
    "            new_list .append(person)\n",
    "    return new_list"
   ]
  },
  {
   "cell_type": "markdown",
   "metadata": {},
   "source": [
    "## OOP in Data Engineering\n",
    "\n",
    "We could potentially encapsulate data-engineering functionality  (loading, cleaning, processing) inside of a class.\n",
    "\n",
    "But make sure that this class is *effective* and *necessary*, which is where skills in complexity management comes in.\n",
    "\n",
    "It’s better to have a function that does ONE thing correctly, than a class that does a bunch of things half-...correctly.\n",
    "\n",
    "Questions to ask yourself before engineering a pipeline object:\n",
    "\n",
    "* Does this need to be a class?\n",
    "  * Does this pipeline need “state” and “behavior”? Do I need to reuse this pipeline? Does this pipeline already exist?\n",
    "\n",
    "* Does data need to be loaded constantly?\n",
    "  * “Opening” the data could be resource-intensive.\n",
    "\n",
    "* What input am I getting?\n",
    "  * Data-type, format.\n",
    "\n",
    "* What output am I generating?\n",
    "  * Data-type, format.\n",
    "\n",
    "* What guarantees am I given?\n",
    "  * Is data already clean?\n",
    "\n",
    "* What guarantees am I providing?\n",
    "  * What will my pipeline do if data is dirty?"
   ]
  },
  {
   "cell_type": "markdown",
   "metadata": {},
   "source": [
    "## Signature Practice\n",
    "\n",
    "Write Python code to take in a file name and generates a signature at the end of that file.\n",
    "\n",
    "Does this need to be a class?\n",
    "* No. There is no state of data that I am keeping track of.\n",
    "Does data need to be loaded constantly?\n",
    "* No. Loading once is good enough.\n",
    "What input am I getting?\n",
    "* A file name. Possibly a signature too.\n",
    "What output am I generating?\n",
    "* A newly created file with a signature.\n",
    "What guarantees am I given?\n",
    "* The file exists, possibly.\n",
    "What guarantees am I providing?\n",
    "* A signature will be attached to the file, if it exists.\n"
   ]
  },
  {
   "cell_type": "code",
   "execution_count": 9,
   "metadata": {},
   "outputs": [],
   "source": [
    "def add_sig(filepath, sig):\n",
    "    \"\"\"A function to add on a signature to some file\n",
    "\n",
    "    Parameters\n",
    "    ----------\n",
    "    filepath : str\n",
    "        a string to the file we are modifying\n",
    "    sig : str\n",
    "        a string signature\n",
    "    \"\"\"\n",
    "    with open(filepath, \"a\") as f:\n",
    "        f.write(sig)"
   ]
  },
  {
   "cell_type": "code",
   "execution_count": 10,
   "metadata": {},
   "outputs": [],
   "source": [
    "sig = \"\"\"\n",
    "PHONE: 555-555-5555\n",
    "EMAIL: BOB@bob.com\n",
    "\"The best time to plant a tree was \n",
    "20 years ago, the second best time\n",
    "is now.\" - Bob\"\"\"\n",
    "\n",
    "add_sig(\"data/email.txt\", sig)"
   ]
  },
  {
   "cell_type": "code",
   "execution_count": null,
   "metadata": {},
   "outputs": [],
   "source": [
    "class Signature:\n",
    "    \"\"\"\n",
    "    \"\"\"\n",
    "    def __init__(self, filepath, sig):\n",
    "        self.filepath = filepath\n",
    "        self.sig = sig\n",
    "    \n",
    "    def add_sig(self):\n",
    "        with open(self.filepath, \"a\") as f:\n",
    "            f.write(self.sig)\n",
    "        return self\n",
    "\n",
    "sig = \"\"\"\n",
    "PHONE: 555-555-5555\n",
    "EMAIL: BOB@bob.com\n",
    "\"The best time to plant a tree was \n",
    "20 years ago, the second best time\n",
    "is now.\" - Bob\"\"\"\n",
    "\n",
    "test = Signature(\"data/email.txt\", sig)\n",
    "test.add_sig()"
   ]
  },
  {
   "cell_type": "markdown",
   "metadata": {},
   "source": [
    "## Stock Cleaning Class\n",
    "\n",
    "Write Python code takes in a file containing stock data, cleans data, and calculates the average on columns.\n",
    "\n",
    "Does this need to be a class?\n",
    "* We will be changing the state of this data, so yes.\n",
    "Does data need to be loaded constantly?\n",
    "* Only when cleaning. Afterwards it can be stored.\n",
    "What input am I getting?\n",
    "* A CSV file of floats, potentially missing data.\n",
    "What output am I generating?\n",
    "* Clean data, statistics.\n",
    "What guarantees am I given?\n",
    "* File will exist.\n",
    "What guarantees am I providing?\n",
    "* Data will be clean, and averages will be computed on columns.\n"
   ]
  },
  {
   "cell_type": "code",
   "execution_count": 12,
   "metadata": {},
   "outputs": [
    {
     "name": "stdout",
     "output_type": "stream",
     "text": [
      "1\n",
      "True\n",
      "2\n",
      "True\n",
      "3\n",
      "True\n",
      "4\n",
      "True\n",
      "5\n",
      "False\n",
      "While loop is done\n"
     ]
    }
   ],
   "source": [
    "import csv\n",
    "\n",
    "class StockClean:\n",
    "    def __init__(self, filepath):\n",
    "        self.filepath = filepath\n",
    "        self.data = []\n",
    "    \n",
    "    def clean(self):\n",
    "        with open(self.filepath, \"r\") as infile:\n",
    "            reader = csv.DictReader(infile)\n",
    "            for r in reader:\n",
    "                #print(r)\n",
    "                continue\n",
    "\n",
    "\n",
    "sc = StockClean(\"data/AMZN_err.csv\")\n",
    "sc.clean()\n",
    "sc.data\n",
    "\n",
    "\n",
    "alpha = [\"a\", \"b\", \"c\", \"d\"]\n"
   ]
  },
  {
   "cell_type": "code",
   "execution_count": 11,
   "metadata": {},
   "outputs": [],
   "source": [
    "import csv\n",
    "\n",
    "class StockClean:\n",
    "    \"\"\"\n",
    "    \"\"\"\n",
    "    def __init__(self, file):\n",
    "        # don't load data just yet!\n",
    "        self.file = file\n",
    "        # prepare a protected empty list to contain clean data\n",
    "        self._clean_data = []\n",
    "\n",
    "    def clean(self, outpath):\n",
    "        # read in data and record only clean data\n",
    "        new_data = []\n",
    "        col_names = []\n",
    "        with open(self.file, 'r') as infile:\n",
    "            # read into DictReader\n",
    "            reader = csv.DictReader(infile)\n",
    "            for row in reader:\n",
    "                # skip row if missing, otherwise append\n",
    "                if \"\" in row.values():\n",
    "                    continue\n",
    "                new_data.append(row)\n",
    "            # get column names at the end. Convoluted\n",
    "            col_names =  list(row.keys())\n",
    "\n",
    "        # write out data\n",
    "        with open(outpath, 'w', newline='') as outfile:\n",
    "            writer = csv.DictWriter(outfile, fieldnames=col_names)\n",
    "            writer.writeheader()\n",
    "            writer.writerows(new_data)\n",
    "        \n",
    "        # record in attribute\n",
    "        self._clean_data = new_data\n",
    "\n"
   ]
  },
  {
   "cell_type": "code",
   "execution_count": 12,
   "metadata": {},
   "outputs": [],
   "source": [
    "cleaner = StockClean(\"data/AMZN_err.csv\")\n",
    "\n",
    "# notice new name\n",
    "cleaner.clean(\"data/AMZN_clean.csv\")"
   ]
  },
  {
   "cell_type": "markdown",
   "metadata": {},
   "source": [
    "## GitHub\n",
    "\n",
    "Code is complex.\n",
    "\n",
    "Untracked code is even more complex.\n",
    "\n",
    "Code should be tracked\n",
    "Why did this change happen?\n",
    "Who made this change?\n",
    "What did the code look like before?\n",
    "What are we trying to build?\n",
    "\n",
    "Unshared code is even more complex (sometimes).\n",
    "\n",
    "Development should not be a one-person task.\n",
    "We need fresh eyes.\n",
    "We need testers.\n",
    "We need domain experts. \n",
    "We need other developers.\n",
    "\n",
    "\n",
    "How do we share & track code?\n",
    "\n"
   ]
  }
 ],
 "metadata": {
  "kernelspec": {
   "display_name": "Python 3.10.7 64-bit",
   "language": "python",
   "name": "python3"
  },
  "language_info": {
   "codemirror_mode": {
    "name": "ipython",
    "version": 3
   },
   "file_extension": ".py",
   "mimetype": "text/x-python",
   "name": "python",
   "nbconvert_exporter": "python",
   "pygments_lexer": "ipython3",
   "version": "3.10.7"
  },
  "orig_nbformat": 4,
  "vscode": {
   "interpreter": {
    "hash": "369f2c481f4da34e4445cda3fffd2e751bd1c4d706f27375911949ba6bb62e1c"
   }
  }
 },
 "nbformat": 4,
 "nbformat_minor": 2
}
