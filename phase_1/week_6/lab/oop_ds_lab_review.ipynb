{
 "cells": [
  {
   "cell_type": "markdown",
   "metadata": {},
   "source": [
    "## Inheriting Stock Cleaner\n",
    "\n",
    "Using inheritance, create a Python subclass called `StockProcessor` that inherits from `StockClean`. \n",
    "\n",
    "Our `clean()` method will stay the same, i.e. will not be overrided. In addition, our constructor is created for us. However, we will be creating three new methods as described below:\n",
    "\n",
    "`def get_total_volume(self):`\n",
    "    This class will return the total volume of stock recorded in `self._clean_data`.\n",
    "`def get_max(self, column):`\n",
    "    This class will return the maximum value from a column inside of `self._clean_data`.\n",
    "    The name of this column is passed in using the `column` parameter.\n",
    "`def get_min(self, column):`\n",
    "    This class will return the minimum value from a column inside of `self._clean_data`.\n",
    "    The name of this column is passed in using the `column` parameter.\n",
    "\n",
    "## Helpful Hints\n",
    "* You will need to iterate over `self.__clean_data` to generate aggregate calculations.\n",
    "* Do not reload data! No File I/O is required for these methods.\n",
    "* Assume that the clean method has been called already, and that we have data inside of our list `self.__clean_data`.\n",
    "* We can iterate over `self.__clean_data` using the following for-loop:\n",
    "```python\n",
    "for row in self.__clean_data:\n",
    "```\n",
    "\n",
    "After implementing and documenting these new methods, answer the 3 conceptual questions below."
   ]
  },
  {
   "cell_type": "code",
   "execution_count": null,
   "metadata": {},
   "outputs": [],
   "source": [
    "import csv\n",
    "\n",
    "class StockClean:\n",
    "    \"\"\"A class to clean stock data\n",
    "\n",
    "    Attributes\n",
    "    ----------\n",
    "    file : str\n",
    "        A string representing our filepath to stock data\n",
    "\n",
    "    Methods\n",
    "    -------\n",
    "    clean(outpath):\n",
    "        A method to create clean data. Saves in private attribute \"__clean_data.\"\n",
    "    \"\"\"\n",
    "    def __init__(self, file):\n",
    "        # don't load data just yet!\n",
    "        self.file = file\n",
    "        # prepare a private empty tuple to contain clean data\n",
    "        self._clean_data = []\n",
    "\n",
    "    def clean(self, outpath):\n",
    "        # read in data and record only clean data\n",
    "        new_data = []\n",
    "        col_names = []\n",
    "        with open(self.file, 'r') as infile:\n",
    "            # read into DictReader\n",
    "            reader = csv.DictReader(infile)\n",
    "            for row in reader:\n",
    "                # skip row if missing, otherwise append\n",
    "                if \"\" in row.values():\n",
    "                    continue\n",
    "                new_data.append(row)\n",
    "            # get column names at the end. Convoluted\n",
    "            col_names =  list(row.keys())\n",
    "\n",
    "        # write out data\n",
    "        with open(outpath, 'w', newline='') as outfile:\n",
    "            writer = csv.DictWriter(outfile, fieldnames=col_names)\n",
    "            writer.writeheader()\n",
    "            writer.writerows(new_data)\n",
    "        \n",
    "        # record in attribute\n",
    "        self._clean_data = new_data\n",
    "\n"
   ]
  },
  {
   "cell_type": "code",
   "execution_count": null,
   "metadata": {},
   "outputs": [],
   "source": [
    "class StockProcessor(StockClean):\n",
    "    \"\"\"[description goes here]\n",
    "\n",
    "    Methods\n",
    "    -------\n",
    "    get_total_volume():\n",
    "        [method description]\n",
    "    get_max(column):\n",
    "        [method description]\n",
    "    get_min(column):\n",
    "        [method description]\n",
    "    \"\"\"\n",
    "    # write code here, delete \"pass\"\n",
    "    def __init__(self, file, outfile):\n",
    "        # initialize attributes using the super class\n",
    "        super().__init__(file)\n",
    "        # clean this data by default\n",
    "        self.clean(outfile)\n",
    "    \n",
    "    def get_total_volume(self):\n",
    "        pass\n",
    "\n",
    "    def get_max(self):\n",
    "        pass\n",
    "\n",
    "    def get_min(self):\n",
    "        pass"
   ]
  },
  {
   "cell_type": "code",
   "execution_count": null,
   "metadata": {},
   "outputs": [],
   "source": [
    "## test code, do not modify!\n",
    "\n",
    "processor = StockProcessor(\"data/AMZN_err.csv\")\n",
    "\n",
    "# print out total volume\n",
    "print(processor.get_total_volume())\n",
    "\n",
    "print(processor.get_max(\"Close\"))\n",
    "print(processor.get_min(\"Close\"))"
   ]
  },
  {
   "cell_type": "markdown",
   "metadata": {},
   "source": [
    "## Q1\n",
    "\n",
    "What is the total volume of shares traded for Amazon stock?"
   ]
  },
  {
   "cell_type": "markdown",
   "metadata": {},
   "source": [
    "(write answer here)"
   ]
  },
  {
   "cell_type": "markdown",
   "metadata": {},
   "source": [
    "## Q2\n",
    "\n",
    "What was the maximum opening price of Amazon's stock from 2016 - 2022? You will need to run `print(processor.get_max(\"Open\"))` to calculate this."
   ]
  },
  {
   "cell_type": "markdown",
   "metadata": {},
   "source": [
    "(write answer here)"
   ]
  },
  {
   "cell_type": "markdown",
   "metadata": {},
   "source": [
    "## Q3\n",
    "\n",
    "What was the minimum opening price of Amazon's stock from 2016 - 2022? You will need to run `print(processor.get_min(\"Open\"))` to calculate this."
   ]
  },
  {
   "cell_type": "markdown",
   "metadata": {},
   "source": [
    "(write answer here)"
   ]
  }
 ],
 "metadata": {
  "kernelspec": {
   "display_name": "Python 3.10.7 64-bit",
   "language": "python",
   "name": "python3"
  },
  "language_info": {
   "name": "python",
   "version": "3.10.7"
  },
  "orig_nbformat": 4,
  "vscode": {
   "interpreter": {
    "hash": "369f2c481f4da34e4445cda3fffd2e751bd1c4d706f27375911949ba6bb62e1c"
   }
  }
 },
 "nbformat": 4,
 "nbformat_minor": 2
}
