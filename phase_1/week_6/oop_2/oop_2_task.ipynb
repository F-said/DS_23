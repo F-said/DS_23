{
 "cells": [
  {
   "cell_type": "markdown",
   "metadata": {},
   "source": [
    "## Using DataCleaner\n",
    "\n",
    "During your first-day in a data-engineering job, you are tasked with processing several lists of financial data. These lists represent sequences of closing prices of a certain stock for the past 5 days. \n",
    "\n",
    "The problem with these lists however, is that they are \"dirty.\" They contain improper data-types & missing data.\n",
    "\n",
    "However, you've been given access to the proprietary and in-house `DataCleaner` class to assist you with this processing.\n",
    "\n",
    "For problems 1 - 5, utilize the methods and attributes of `DataCleaner` to successfully accomplish these tasks.\n",
    "\n",
    "Read the docstring, and utilize the test-coded provided to you to figure out how to use this class."
   ]
  },
  {
   "cell_type": "code",
   "execution_count": 3,
   "metadata": {},
   "outputs": [
    {
     "data": {
      "text/plain": [
       "[230.33, 240, 250, 250.45]"
      ]
     },
     "execution_count": 3,
     "metadata": {},
     "output_type": "execute_result"
    }
   ],
   "source": [
    "class DataCleaner:\n",
    "    \"\"\"Class that cleans data from list\n",
    "\n",
    "\tAttributes\n",
    "\t—---------\n",
    "\tdata : list\n",
    "        List of numbers. Could potentially contain missing or invalid data.\n",
    "\n",
    "\tMethods\n",
    "\t—------\n",
    "    is_clean():\n",
    "        Function that returns true if data only contains numerics. False otherwise.\n",
    "\tclean_data():\n",
    "\t\tFunction that creates clean list of data by omitting missing data, and \n",
    "        converting numeric strings to floats.\n",
    "\t\"\"\"\n",
    "    def __init__(self, data):\n",
    "        self.data = data\n",
    "    \n",
    "    def is_clean(self):\n",
    "        \"\"\"Check if each element of data is a float or int\"\"\"\n",
    "        for d in self.data:\n",
    "            if not isinstance(d, (int, float)):\n",
    "                return False\n",
    "        return True\n",
    "    \n",
    "    def clean_data(self):\n",
    "        \"\"\"Create a new list and append only ints & floats, & converted float strings\"\"\"\n",
    "        new_data = []\n",
    "        for d in self.data:\n",
    "            if isinstance(d, str) and d.replace(\".\", \"\", 1).isdigit():\n",
    "                new_data.append(float(d))\n",
    "            elif isinstance(d, (int, float)):\n",
    "                new_data.append(d)\n",
    "            else:\n",
    "                continue\n",
    "        return new_data\n",
    "\n",
    "# Check behavior here\n",
    "x = DataCleaner([230.33, 240, 250, \"250.45\", None, None, \"Inf\"])\n",
    "new_x = x.clean_data()\n",
    "# Notice: what did we omit? what did we keep?\n",
    "new_x"
   ]
  },
  {
   "cell_type": "markdown",
   "metadata": {},
   "source": [
    "## Q1 \n",
    "\n",
    "You've been given 5 lists of possibly erroneous financial data. For each list, utilize `is_clean` method to check if this data is \"dirty.\"\n",
    "\n",
    "Print out the status of each list to the console."
   ]
  },
  {
   "cell_type": "code",
   "execution_count": null,
   "metadata": {},
   "outputs": [],
   "source": [
    "GOOG = [\"99.57\", 98.71, 98.05, 98.30, \"99.71\"]\n",
    "AAPL = [140.09, 140.42, 138.98, 138.34, 142.99]\n",
    "COUR = [11.33, \"11.36\", 11.51, 11.73, None]\n",
    "GME = [\"None\", None, 25.27, 25.36, 25.56]\n",
    "AMC = [6.53, 6.35, 6.12, 5.85, 6.04]\n",
    "\n",
    "# write solution here"
   ]
  },
  {
   "cell_type": "markdown",
   "metadata": {},
   "source": [
    "## Q2\n",
    "\n",
    "For each \"dirty\" list, remove erroneous data using the `clean_data` function. Print out the clean version of this list to your console."
   ]
  },
  {
   "cell_type": "code",
   "execution_count": null,
   "metadata": {},
   "outputs": [],
   "source": [
    "GOOG = [\"99.57\", 98.71, 98.05, 98.30, \"99.71\"]\n",
    "AAPL = [140.09, 140.42, 138.98, 138.34, 142.99]\n",
    "COUR = [11.33, \"11.36\", 11.51, 11.73, None]\n",
    "GME = [\"None\", None, 25.27, 25.36, 25.56]\n",
    "AMC = [6.53, 6.35, 6.12, 5.85, 6.04]\n",
    "\n",
    "# write solution here"
   ]
  },
  {
   "cell_type": "markdown",
   "metadata": {},
   "source": [
    "## Q3 \n",
    "\n",
    "Next, save your clean data lists into new variables. Check to see that this new data is clean using the `is_clean` method. \n",
    "\n",
    "Be sure to print out the status of this data to your console."
   ]
  },
  {
   "cell_type": "code",
   "execution_count": null,
   "metadata": {},
   "outputs": [],
   "source": [
    "GOOG = [\"99.57\", 98.71, 98.05, 98.30, \"99.71\"]\n",
    "AAPL = [140.09, 140.42, 138.98, 138.34, 142.99]\n",
    "COUR = [11.33, \"11.36\", 11.51, 11.73, None]\n",
    "GME = [\"None\", None, 25.27, 25.36, 25.56]\n",
    "AMC = [6.53, 6.35, 6.12, 5.85, 6.04]\n",
    "\n",
    "# write solution here"
   ]
  },
  {
   "cell_type": "markdown",
   "metadata": {},
   "source": [
    "## Q4 \n",
    "\n",
    "Compare the lengths of your clean data to the lengths of your dirty data using the `len` function. Be sure to print these differences out to your console.s"
   ]
  },
  {
   "cell_type": "code",
   "execution_count": null,
   "metadata": {},
   "outputs": [],
   "source": [
    "GOOG = [\"99.57\", 98.71, 98.05, 98.30, \"99.71\"]\n",
    "AAPL = [140.09, 140.42, 138.98, 138.34, 142.99]\n",
    "COUR = [11.33, \"11.36\", 11.51, 11.73, None]\n",
    "GME = [\"None\", None, 25.27, 25.36, 25.56]\n",
    "AMC = [6.53, 6.35, 6.12, 5.85, 6.04]\n",
    "\n",
    "# write solution here"
   ]
  },
  {
   "cell_type": "markdown",
   "metadata": {},
   "source": [
    "## Q5\n",
    "\n",
    "What do you notice about the lengths of your new \"cleaned\" lists? In your own opinion, is this change useful or harmful?"
   ]
  },
  {
   "cell_type": "markdown",
   "metadata": {},
   "source": [
    "Describe answer here."
   ]
  },
  {
   "cell_type": "markdown",
   "metadata": {},
   "source": [
    "## Inheriting from a Class\n",
    "\n",
    "After working with this `DataCleaner` class, you come up with the idea to add on more functionality. The senior engineer in charge of the codebase however is hesitant to let you change the original class, just in case the simplicity of `DataCleaner` will be needed again, but nonetheless agrees to allow you to implement a subclass.\n",
    "\n",
    "Your task is to implement a subclass that inherits from `DataCleaner`, called `DataProcessor`. \n",
    "\n",
    "### DocString\n",
    "\n",
    "You will create a docstring that explains what this new class does. Since this class does not take in any new attributes, you will not include an Attributes section.\n",
    "\n",
    "However, you will include a `Methods` section to describe the following new classes:\n",
    "\n",
    "* get_mean\n",
    "* clean_data\n",
    "\n",
    "## Methods\n",
    "\n",
    "Your new methods will do the following:\n",
    "\n",
    "* get_mean()\n",
    "    * This new method will calculate the `average` of a list. Keep in mind, there is no guarantee that \n",
    "    the list should be clean when calculating this average. That is, you cannot just use the `sum()` function,\n",
    "    since our list might contain erronous datatypes.\n",
    "* clean_data()\n",
    "    * This overrided method will work just like the previous `clean_data()`. However, instead of skipping bad data-types, we will instead replace the bad-data with the average of the list.\n",
    "\n",
    "    Think about how you can incorperate `get_mean()` into this method."
   ]
  },
  {
   "cell_type": "code",
   "execution_count": null,
   "metadata": {},
   "outputs": [],
   "source": [
    "# write class here\n",
    "\n"
   ]
  },
  {
   "cell_type": "code",
   "execution_count": null,
   "metadata": {},
   "outputs": [],
   "source": [
    "# test code: do not modify!\n",
    "\n",
    "# Check behavior here\n",
    "x = DataProcessor([230.33, 240, 250, \"250.45\", None, None, \"Inf\"])\n",
    "new_x = x.clean_data()\n",
    "# Noticeh how this is different from our previous output.\n",
    "new_x"
   ]
  }
 ],
 "metadata": {
  "kernelspec": {
   "display_name": "Python 3.10.7 64-bit",
   "language": "python",
   "name": "python3"
  },
  "language_info": {
   "codemirror_mode": {
    "name": "ipython",
    "version": 3
   },
   "file_extension": ".py",
   "mimetype": "text/x-python",
   "name": "python",
   "nbconvert_exporter": "python",
   "pygments_lexer": "ipython3",
   "version": "3.10.7"
  },
  "orig_nbformat": 4,
  "vscode": {
   "interpreter": {
    "hash": "369f2c481f4da34e4445cda3fffd2e751bd1c4d706f27375911949ba6bb62e1c"
   }
  }
 },
 "nbformat": 4,
 "nbformat_minor": 2
}
