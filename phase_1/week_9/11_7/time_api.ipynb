{
 "cells": [
  {
   "cell_type": "markdown",
   "metadata": {},
   "source": [
    "## Review\n",
    "\n",
    "Translate the following for-loops and conditionals into list-comprehension & ternary operators. \n",
    "\n",
    "General list comprehension structure:\n",
    "```\n",
    "[var for var in datastruct if condition]\n",
    "```\n",
    "\n",
    "General ternary operator structure:\n",
    "```\n",
    "var = val1 if condition else val2 \n",
    "```"
   ]
  },
  {
   "cell_type": "code",
   "execution_count": 1,
   "metadata": {},
   "outputs": [
    {
     "name": "stdout",
     "output_type": "stream",
     "text": [
      "[-31000, -16000, -12000, -43000, 0]\n",
      "[6857796246377117304, 1920180055493143652, 6623044889915561163, -5127201043210634948]\n"
     ]
    }
   ],
   "source": [
    "## PT 1\n",
    "salaries = [24_000, 39_000, 43_000, 12_000, 55_000]\n",
    "\n",
    "avg = 55_000\n",
    "variations = []\n",
    "for salary in salaries:\n",
    "    variations.append(salary - avg)\n",
    "print(variations)\n",
    "\n",
    "# translate to list comprehension here\n",
    "variations = []\n",
    "\n",
    "## PT 2\n",
    "secrets = [\n",
    "    \"Python is written in C\", \n",
    "    \"Everything is an object in Python\", \n",
    "    \"Not everything can be predicted using a model\", \n",
    "    \"Work has diminishing returns to the individual\"\n",
    "]\n",
    "\n",
    "hiddens = []\n",
    "for message in secrets:\n",
    "    hiddens.append(hash(message))\n",
    "print(hiddens)\n",
    "\n",
    "# translate to list comprehension here\n",
    "hiddens = []\n",
    "\n",
    "## PT 3\n",
    "volts = 931\n",
    "react = 0\n",
    "if volts > 931:\n",
    "    react = 1500\n",
    "else:\n",
    "    react = 0\n",
    "\n",
    "# translate to ternary here\n",
    "react =\n",
    "\n",
    "## PT 4\n",
    "data = [i for i in range(0,5000)]\n",
    "data_label = \"\"\n",
    "if len(data) > 1_000_000:\n",
    "    data_label = \"big\"\n",
    "else:\n",
    "    data_label = \"small\"\n",
    "\n",
    "# translate to ternary here\n",
    "data_label =\n"
   ]
  },
  {
   "cell_type": "markdown",
   "metadata": {},
   "source": [
    "## Why do we care about \"efficient\" programs\n",
    "\n",
    "* Your code will scale better:\n",
    "1 GB of data -> Pipeline completes in 2 hours\n",
    "10 GB of data -> Pipeline completes in 3 weeks\n",
    "\n",
    "* We want this pipeline to scale appropriately. 1 GB of data processed in 2 Hours? Then 10 GB of data should take 20 hours, not 504 hours.\n",
    "\n",
    "* Your code will be readable. What is the computational motivation behind your code? Developers and yourself will thank you!\n",
    "\n",
    "* Interviewers will hire you"
   ]
  },
  {
   "cell_type": "markdown",
   "metadata": {},
   "source": [
    "## Metrics of a Good Program\n",
    "\n",
    "What makes one block of code better than the other?\n",
    "\n",
    "There are a variety of ways we can measure one piece of code vs. another. So far we’ve been talking about qualitative measures.\n",
    "\n",
    "For example, a “better” program has:\n",
    "\n",
    "* Good documentation\n",
    "\n",
    "* Good variable names\n",
    "\n",
    "* Good naming conventions (PEP8)\n",
    "\n",
    "I have a list describing candidates and the votes they’ve received. The value “A” represents a vote for candidate “A”, and “B” represents a vote for candidate “B.\" Which is the better program?"
   ]
  },
  {
   "cell_type": "code",
   "execution_count": 1,
   "metadata": {},
   "outputs": [],
   "source": [
    "votes = [\"A\", \"A\", \"B\", \"A\", \"B\"]\n",
    "\n",
    "# let's say I want to count up the votes\n",
    "\n",
    "## option 1 ##\n",
    "votesA = 0\n",
    "votesB = 0\n",
    "\n",
    "# tally each candidate by looping through list\n",
    "for candidate in votes:\n",
    "    if candidate == \"A\":\n",
    "        votesA += 1\n",
    "    elif candidate == \"B\":\n",
    "        votesB += 1\n",
    "\n",
    "## option 2 ##\n",
    "x = 0\n",
    "y = 0\n",
    "\n",
    "for z in votes:\n",
    "    if z == \"A\":\n",
    "        x += 1\n",
    "    else:\n",
    "        y += 1\n"
   ]
  },
  {
   "cell_type": "markdown",
   "metadata": {},
   "source": [
    "## Quantitative Measure of \"Better\"\n",
    "\n",
    "\n",
    "We can measure program efficiency using the “size” of our inputted data and the effects it has on:\n",
    "The time it takes to complete a program (steps of a program)\n",
    "The memory this program uses (new variables & data-structs)\n",
    "\n",
    "Examples of data size:\n",
    "Integer\n",
    "Length of string\n",
    "Length of list\n",
    "Length of file\n",
    "\n",
    "\n",
    "This allows us to use mathematical notation, which is a common language amongst different programming languages & implementations.\n"
   ]
  },
  {
   "cell_type": "code",
   "execution_count": null,
   "metadata": {},
   "outputs": [],
   "source": [
    "numbers = [64, 13, 43, 29, 28, 69, 10, 40]\n",
    "\n",
    "n = len(numbers)"
   ]
  },
  {
   "cell_type": "markdown",
   "metadata": {},
   "source": [
    "Let’s consider how “n” relates to a function that takes in this list.\n",
    "\n",
    "I have a function called find, which takes in a list, and a number that I am searching for. It returns “true” if it exists, false if it does not:"
   ]
  },
  {
   "cell_type": "code",
   "execution_count": null,
   "metadata": {},
   "outputs": [],
   "source": [
    "def find(nums, x):\n",
    "    for num in nums:\n",
    "        if x == num:\n",
    "            return True\n",
    "    return False\n",
    "\n",
    "find(numbers, 64)"
   ]
  },
  {
   "cell_type": "markdown",
   "metadata": {},
   "source": [
    "What is the “best” case of this program (completes in least amount of steps)? \n",
    "\n",
    "1\n",
    "\n",
    "What is the “worst” case of this program (completes in most amount of steps)?\n",
    "\n",
    "8\n",
    "\n",
    "We care only about the “worst” case, because this gives us an “upper” bound of how bad things could get. How does the worst case measure relate to the size of the list “n”?"
   ]
  },
  {
   "cell_type": "markdown",
   "metadata": {},
   "source": [
    "## O(n) Family\n",
    "\n",
    "O(n) is actually a family of functions. It includes all all functions that take “n” steps to complete in the worst case:"
   ]
  },
  {
   "cell_type": "code",
   "execution_count": null,
   "metadata": {},
   "outputs": [],
   "source": [
    "def looper(word):\n",
    "    for letter in word:\n",
    "        print(letter)\n",
    "\n",
    "looper(\"hello world\")\n",
    "\n",
    "def add_each(old_list):\n",
    "    new_list = []\n",
    "    for val in old_list:\n",
    "        new_val = val + 5\n",
    "        new_list.append(new_val)\n",
    "    return new_list\n",
    "\n",
    "add_each(numbers)"
   ]
  },
  {
   "cell_type": "markdown",
   "metadata": {},
   "source": [
    "We ignore anything that is not directly related to the size of the data-structure!\n",
    "\n",
    "What do we see here that is unrelated?"
   ]
  },
  {
   "cell_type": "markdown",
   "metadata": {},
   "source": [
    "## Calculating Big O\n",
    "\n",
    "![image](https://user-images.githubusercontent.com/26397102/200428880-2b0dfb7d-4a2c-4388-aabb-1c4984ba8125.png)"
   ]
  },
  {
   "cell_type": "code",
   "execution_count": null,
   "metadata": {},
   "outputs": [],
   "source": [
    "def looper2(word):\n",
    "    x = x + 5\n",
    "    print(word[0])\n",
    "    for letter in word:\n",
    "        print(letter)\n",
    "    print(\"done looping! \")\n",
    "\n",
    "looper(\"hello world\")\n",
    "\n",
    "def looper3(word):\n",
    "    for i in range(2):\n",
    "        for letter in word:\n",
    "            print(letter)\n",
    "    "
   ]
  },
  {
   "cell_type": "markdown",
   "metadata": {},
   "source": [
    "## N^2 Algorithm\n",
    "\n"
   ]
  },
  {
   "cell_type": "code",
   "execution_count": null,
   "metadata": {},
   "outputs": [],
   "source": [
    "numbers = [64, 13, 43, 29, 28, 69, 10, 40]\n",
    "\n",
    "def find_another(lst, num):\n",
    "    for elem in lst:\n",
    "        for other_elem in lst:\n",
    "            if other_elem == num + 1:\n",
    "                return True\n",
    "    return True\n",
    "\n",
    "def print_twice(lst):\n",
    "    for elem in lst:\n",
    "        print(elem)\n",
    "        for other_elem in lst:\n",
    "            print(other_elem)"
   ]
  },
  {
   "cell_type": "markdown",
   "metadata": {},
   "source": [
    "## N^3 Algorithm"
   ]
  },
  {
   "cell_type": "code",
   "execution_count": null,
   "metadata": {},
   "outputs": [],
   "source": [
    "def print_thrice(lst):\n",
    "    for elem in lst:\n",
    "        print(elem)\n",
    "        for other_elem in lst:\n",
    "            print(other_elem)\n",
    "            for other_other_elem in lst:\n",
    "                print(other_other_elem)"
   ]
  },
  {
   "cell_type": "markdown",
   "metadata": {},
   "source": [
    "## Constant Time Algorithms\n",
    "\n"
   ]
  },
  {
   "cell_type": "code",
   "execution_count": null,
   "metadata": {},
   "outputs": [],
   "source": [
    "def get_first(lst):\n",
    "    return lst[0]\n",
    "\n",
    "def sum_to_num(num):\n",
    "    return num*(num + 1)/2\n",
    "\n",
    "# is this constant time?\n",
    "def get_max(lst):\n",
    "    return max(lst)"
   ]
  },
  {
   "cell_type": "markdown",
   "metadata": {},
   "source": [
    "## Binary Search\n",
    "\n",
    "We established our previous searching algorithm as O(n), is there a way we can have a faster algorithm?\n",
    "\n",
    "There is actually no obvious way to decrease the worst number of steps it will take to run this algorithm.\n",
    "\n",
    "When we hit a wall in algorithmic efficiency, we look for opportunities in our data-structure."
   ]
  },
  {
   "cell_type": "code",
   "execution_count": null,
   "metadata": {},
   "outputs": [],
   "source": [
    "def binary_search(arr, x):\n",
    "    low = 0\n",
    "    high = len(arr) - 1\n",
    "    mid = 0\n",
    " \n",
    "    while low <= high:\n",
    "        mid = (high + low) // 2\n",
    "        # If x is greater, ignore left half\n",
    "        if arr[mid] < x:\n",
    "            low = mid + 1\n",
    "        # If x is smaller, ignore right half\n",
    "        elif arr[mid] > x:\n",
    "            high = mid - 1\n",
    "        # means x is present at mid\n",
    "        else:\n",
    "            return mid\n",
    " \n",
    "    # If we reach here, then the element was not present\n",
    "    return -1"
   ]
  },
  {
   "cell_type": "markdown",
   "metadata": {},
   "source": [
    "\n",
    "There are ways to measure the efficiency of an algorithm.\n",
    "\n",
    "Big-O notation is a classification of the algorithm that states how well data scales to the number of steps we need to take.\n",
    "\n",
    "When we want to make an algorithm more efficient, we need to take advantage of the structure of our data.\n",
    "\n",
    "This is the beginning of our exploration in efficiency, and we will discuss this for the rest of the program.\n",
    "\n",
    "Tomorrow will be a review of this concept + space efficiency.\n"
   ]
  },
  {
   "cell_type": "markdown",
   "metadata": {},
   "source": [
    "## Requests + JSON\n",
    "\n",
    "There is another type of data called “json” files.\n",
    "\n",
    "JavaScript Object Notation\n",
    "\n",
    "What kind of data-structure does this look like?\n",
    "\n",
    "```yml\n",
    "{\n",
    "\t\"name\": \"Luke Skywalker\",\n",
    "\t\"height\": \"172\",\n",
    "\t\"mass\": \"77\",\n",
    "\t\"hair_color\": \"blond\",\n",
    "\t\"eye_color\": \"blue\",\n",
    "\t\"birth_year\": \"19BBY\",\n",
    "\t\"gender\": \"male\"\n",
    "}\n",
    "```"
   ]
  },
  {
   "cell_type": "code",
   "execution_count": 1,
   "metadata": {},
   "outputs": [
    {
     "data": {
      "text/plain": [
       "{'name': 'Tatooine',\n",
       " 'rotation_period': '23',\n",
       " 'orbital_period': '304',\n",
       " 'diameter': '10465',\n",
       " 'climate': 'arid',\n",
       " 'gravity': '1 standard',\n",
       " 'terrain': 'desert',\n",
       " 'surface_water': '1',\n",
       " 'population': '200000',\n",
       " 'residents': ['https://swapi.dev/api/people/1/',\n",
       "  'https://swapi.dev/api/people/2/',\n",
       "  'https://swapi.dev/api/people/4/',\n",
       "  'https://swapi.dev/api/people/6/',\n",
       "  'https://swapi.dev/api/people/7/',\n",
       "  'https://swapi.dev/api/people/8/',\n",
       "  'https://swapi.dev/api/people/9/',\n",
       "  'https://swapi.dev/api/people/11/',\n",
       "  'https://swapi.dev/api/people/43/',\n",
       "  'https://swapi.dev/api/people/62/'],\n",
       " 'films': ['https://swapi.dev/api/films/1/',\n",
       "  'https://swapi.dev/api/films/3/',\n",
       "  'https://swapi.dev/api/films/4/',\n",
       "  'https://swapi.dev/api/films/5/',\n",
       "  'https://swapi.dev/api/films/6/'],\n",
       " 'created': '2014-12-09T13:50:49.641000Z',\n",
       " 'edited': '2014-12-20T20:58:18.411000Z',\n",
       " 'url': 'https://swapi.dev/api/planets/1/'}"
      ]
     },
     "execution_count": 1,
     "metadata": {},
     "output_type": "execute_result"
    }
   ],
   "source": [
    "import requests\n",
    "\n",
    "r = requests.get('https://swapi.dev/api/planets/1/')\n",
    "r.json()"
   ]
  }
 ],
 "metadata": {
  "kernelspec": {
   "display_name": "Python 3.10.7 64-bit",
   "language": "python",
   "name": "python3"
  },
  "language_info": {
   "codemirror_mode": {
    "name": "ipython",
    "version": 3
   },
   "file_extension": ".py",
   "mimetype": "text/x-python",
   "name": "python",
   "nbconvert_exporter": "python",
   "pygments_lexer": "ipython3",
   "version": "3.10.7"
  },
  "orig_nbformat": 4,
  "vscode": {
   "interpreter": {
    "hash": "369f2c481f4da34e4445cda3fffd2e751bd1c4d706f27375911949ba6bb62e1c"
   }
  }
 },
 "nbformat": 4,
 "nbformat_minor": 2
}
