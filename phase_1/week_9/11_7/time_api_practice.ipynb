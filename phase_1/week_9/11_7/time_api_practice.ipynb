{
 "cells": [
  {
   "cell_type": "markdown",
   "metadata": {},
   "source": [
    "# Best Case\n",
    "\n",
    "What will be the best case function call for the following function (completes in one step).\n",
    "\n",
    "```python\n",
    "def linearSearch(L, x):\n",
    "    for e in L:\n",
    "        if e == x:\n",
    "            return True\n",
    "    return False\n",
    "```\n",
    "\n",
    "A) linearSearch([14, 15, 6, 27, 13, 16, 25, 11, 7], 15)\n",
    "B) linearSearch([21, 1, 25, 22, 30, 13, 7, 24, 12], 24)\n",
    "C) linearSearch([20, 10, 1, 7, 4, 22, 25, 12, 31], 20)\n",
    "D) linearSearch([9, 3, 12, 24, 7, 8, 23, 11, 19], 8)\n",
    "E) linearSearch([13, 9, 22, 3, 10, 17, 11, 2, 12], 26)"
   ]
  },
  {
   "cell_type": "markdown",
   "metadata": {},
   "source": [
    "# Worst Case\n",
    "\n",
    "What will be the worst case function call for the following function (completes in one step).\n",
    "\n",
    "```python\n",
    "def linearSearch(L, x):\n",
    "    for e in L:\n",
    "        if e == x:\n",
    "            return True\n",
    "    return False\n",
    "```\n",
    "\n",
    "A) linearSearch([14, 15, 6, 27, 13, 16, 25, 11, 7], 15)\n",
    "B) linearSearch([21, 1, 25, 22, 30, 13, 7, 24, 12], 24)\n",
    "C) linearSearch([20, 10, 1, 7, 4, 22, 25, 12, 31], 20)\n",
    "D) linearSearch([9, 3, 12, 24, 7, 8, 23, 11, 19], 8)\n",
    "E) linearSearch([13, 9, 22, 3, 10, 17, 11, 2, 12], 26)\n"
   ]
  },
  {
   "cell_type": "markdown",
   "metadata": {},
   "source": [
    "# Program 1\n",
    "\n",
    "What is the time complexity for the following program?\n",
    "\n",
    "```python\n",
    "def program1(L):\n",
    "    multiples = []\n",
    "    for x in L:\n",
    "        for y in L:\n",
    "            multiples.append(x*y)\n",
    "    return multiples\n",
    "```"
   ]
  },
  {
   "cell_type": "markdown",
   "metadata": {},
   "source": [
    "# Program 2\n",
    "\n",
    "What is the time complexity for the following program?\n",
    "\n",
    "```python\n",
    "def program2(L):\n",
    "    squares = []\n",
    "    for x in L:\n",
    "        for y in L:\n",
    "            if x == y:\n",
    "                squares.append(x*y)\n",
    "    return squares\n",
    "```"
   ]
  },
  {
   "cell_type": "markdown",
   "metadata": {},
   "source": [
    "# Program 3\n",
    "\n",
    "What is the time complexity for the following program?\n",
    "\n",
    "```python\n",
    "def program3(L1, L2):\n",
    "    intersection = []\n",
    "    for elt in L1:\n",
    "        if elt in L2:\n",
    "            intersection.append(elt)\n",
    "    return intersection\n",
    "```"
   ]
  },
  {
   "cell_type": "markdown",
   "metadata": {},
   "source": [
    "# Time Complexity 1\n",
    "\n",
    "What is the time complexity of the following function?\n",
    "\n",
    "`5n`"
   ]
  },
  {
   "cell_type": "markdown",
   "metadata": {},
   "source": [
    "# Time Complexity 2\n",
    "\n",
    "What is the time complexity of the following function?\n",
    "\n",
    "`7n + 3`"
   ]
  },
  {
   "cell_type": "markdown",
   "metadata": {},
   "source": [
    "# Time Complexity 3\n",
    "\n",
    "What is the time complexity of the following function?\n",
    "\n",
    "`7n^2`"
   ]
  },
  {
   "cell_type": "markdown",
   "metadata": {},
   "source": [
    "# SWAPI Usage\n",
    "\n",
    "Using the `https://swapi.dev/` website and the `requests` module, get information on `Star Wars Episode 4` from the link: https://swapi.dev/api/films/1/. "
   ]
  },
  {
   "cell_type": "code",
   "execution_count": null,
   "metadata": {},
   "outputs": [],
   "source": [
    "import requests"
   ]
  }
 ],
 "metadata": {
  "kernelspec": {
   "display_name": "Python 3.10.7 64-bit",
   "language": "python",
   "name": "python3"
  },
  "language_info": {
   "name": "python",
   "version": "3.10.7"
  },
  "orig_nbformat": 4,
  "vscode": {
   "interpreter": {
    "hash": "369f2c481f4da34e4445cda3fffd2e751bd1c4d706f27375911949ba6bb62e1c"
   }
  }
 },
 "nbformat": 4,
 "nbformat_minor": 2
}
