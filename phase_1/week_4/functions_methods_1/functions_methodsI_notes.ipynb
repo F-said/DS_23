{
 "cells": [
  {
   "cell_type": "markdown",
   "metadata": {},
   "source": [
    "## The Story So Far\n",
    "\n",
    "We know how to write loops, conditionals, and a variety of data-structures.\n",
    "\n",
    "But does writing more code make us better programmers?\n",
    "\n",
    "It does not, in fact it might even be a tell-tale sign of code that needs editing.\n",
    "\n",
    "Less code, & more functionality! We need to \n",
    "* abstract & \n",
    "* decompose.\n",
    "\n",
    "Functions, classes & objects (next week) is how we achieve this."
   ]
  },
  {
   "cell_type": "markdown",
   "metadata": {},
   "source": [
    "## Abstraction\n",
    "\n",
    "Hide details of computation\n",
    "“hide background details or any unnecessary implementation about the data so that users only see the required information.”\n",
    "\n",
    "Hide unnecessary details, allow programmer to use function without worrying about what's \"under-the-hood.\"\n",
    "\n",
    "A simple example would be the following:"
   ]
  },
  {
   "cell_type": "code",
   "execution_count": null,
   "metadata": {},
   "outputs": [],
   "source": [
    "letters = {\"a\", \"b\", \"c\", \"d\"}\n",
    "for letter in letters:\n",
    "  if letter == \"a\":\n",
    "    print(\"I found a!\")"
   ]
  },
  {
   "cell_type": "markdown",
   "metadata": {},
   "source": [
    "Since we know we can use `in` for membership, we can simply get rid of the loop & check via `in`."
   ]
  },
  {
   "cell_type": "code",
   "execution_count": null,
   "metadata": {},
   "outputs": [],
   "source": [
    "if \"a\" in letters:\n",
    "    print(\"i found a!\")"
   ]
  },
  {
   "cell_type": "markdown",
   "metadata": {},
   "source": [
    "## Decomposition\n",
    "\n",
    "Break problem down into smaller, simpler problems\n",
    "“Divide each difficulty into as many parts as is feasible and necessary to resolve it.”\n",
    "\n",
    "A simple example would be the following:"
   ]
  },
  {
   "cell_type": "code",
   "execution_count": null,
   "metadata": {},
   "outputs": [],
   "source": [
    "x = 10\n",
    "y = 5\n",
    "if x > y:\n",
    "  print(\"largest number is\", x)\n",
    "else:\n",
    "  if x == y:\n",
    "    print(\"They are the same\")\n",
    "  else:\n",
    "    print(\"largest number is\", y)\n",
    "\n"
   ]
  },
  {
   "cell_type": "markdown",
   "metadata": {},
   "source": [
    "We can decompose the proble into smaller steps & rope in \"abstraction\" to have something easier to understand."
   ]
  },
  {
   "cell_type": "code",
   "execution_count": null,
   "metadata": {},
   "outputs": [],
   "source": [
    "x = 10\n",
    "y = 5\n",
    "\n",
    "# check if they are equal\n",
    "if x == y:\n",
    "  print(\"They are equal\")\n",
    "else:\n",
    "  # find largest\n",
    "  larger = max(x, y)\n",
    "  print(\"largest is\", larger)\n"
   ]
  },
  {
   "cell_type": "markdown",
   "metadata": {},
   "source": [
    "## Goals\n",
    "\n",
    "Our goals for our code are the following:\n",
    "\n",
    "* Reduce cognitive complexity\n",
    "\n",
    "* Make code easier to read\n",
    "\n",
    "* Make code easier to expand\n",
    "\n",
    "* Make code easier to debug"
   ]
  },
  {
   "cell_type": "markdown",
   "metadata": {},
   "source": [
    "## Builtin Functions\n",
    "\n",
    "These are simply the functions that we've been using all this time. They come with Python.\n",
    "\n",
    "print(), input(), max(), …\n",
    "\n",
    "https://docs.python.org/3/library/functions.html "
   ]
  },
  {
   "cell_type": "code",
   "execution_count": null,
   "metadata": {},
   "outputs": [],
   "source": [
    "# built in functions\n",
    "\n",
    "# print something\n",
    "print(\"Hello world\")\n",
    "# get input\n",
    "# x = input(\"food item\")\n",
    "# get larger number\n",
    "larger = max(100, 1)\n",
    "print(larger)\n",
    "# get smaller number\n",
    "smaller = min(100, 1)\n",
    "print(smaller)\n",
    "\n",
    "# get length of a list or other data-struct\n",
    "lst = [\"z\", \"a\", \"b\", \"c\", \"d\"]\n",
    "print(len(lst))\n",
    "print(max(lst))\n"
   ]
  },
  {
   "cell_type": "markdown",
   "metadata": {},
   "source": [
    "## Imported Functions\n",
    "\n",
    "What if we need a function that does not exist inside of base-python?\n",
    "\n",
    "`import <package-name>`\n",
    "\n",
    "https://docs.python.org/3/library/ \n",
    "https://pypi.org/ \n"
   ]
  },
  {
   "cell_type": "code",
   "execution_count": null,
   "metadata": {},
   "outputs": [],
   "source": [
    "import random\n",
    "import math\n",
    "\n",
    "# print(5!)\n",
    "\n",
    "print(math.factorial(5))\n",
    "\n",
    "print(random.randint(0, 100))"
   ]
  },
  {
   "cell_type": "markdown",
   "metadata": {},
   "source": [
    "## Creating our own functions\n",
    "\n",
    "What if we need a function that has not been created?\n",
    "\n",
    "https://docs.python.org/3/tutorial/controlflow.html#defining-functions \n",
    "\n",
    "https://www.w3schools.com/python/python_functions.asp \n",
    "\n",
    "\n",
    "We must create a function by defining the following:\n",
    "* a name\n",
    "* parameters (0 or more)\n",
    "* a “docstring” (optional)\n",
    "* a body"
   ]
  },
  {
   "cell_type": "code",
   "execution_count": null,
   "metadata": {},
   "outputs": [],
   "source": [
    "def sayHello():\n",
    "  \"\"\"a function that says hello.\n",
    "  \"\"\"\n",
    "  print(\"Hello world\")\n",
    "\n",
    "# then we must invoke the function by \"calling\" it\n",
    "sayHello()"
   ]
  },
  {
   "cell_type": "code",
   "execution_count": null,
   "metadata": {},
   "outputs": [],
   "source": [
    "# functions with a parameter\n",
    "def sayName(name):\n",
    "  print(\"Hello\", name)\n",
    "\n",
    "sayName(\"Farukh\")\n",
    "\n",
    "def howMany(num):\n",
    "  print(\"I printed\", num, \"times\")\n",
    "# can be used internally in any other structure\n",
    "for i in range(10):\n",
    "  howMany(i)\n"
   ]
  },
  {
   "cell_type": "code",
   "execution_count": null,
   "metadata": {},
   "outputs": [],
   "source": [
    "# functions with multiple parameters\n",
    "def add(x, y):\n",
    "  print(x + y)\n",
    "\n",
    "add(5, 10)\n"
   ]
  },
  {
   "cell_type": "markdown",
   "metadata": {},
   "source": [
    "## Print vs. return\n",
    "\n",
    "### Print\n",
    "Can be used inside or outside a function\n",
    "\n",
    "Outputs to the console\n",
    "\n",
    "Code can be executed after print\n",
    "\n",
    "### Return\n",
    "\n",
    "Can be used ONLY inside of a function\n",
    "\n",
    "Outputs to function caller\n",
    "\n",
    "Code cannot be executed after return\n"
   ]
  },
  {
   "cell_type": "code",
   "execution_count": null,
   "metadata": {},
   "outputs": [],
   "source": [
    "# functions that \"return\" values\n",
    "def addSave(x, y):\n",
    "  return x + y\n",
    "\n",
    "\n",
    "def functionName(param1, param2, param3):\n",
    "  return param1 + param2 + param3\n",
    "\n",
    "\n",
    "conc = functionName(\"a\", \"b\", \"c\")\n",
    "\n",
    "result = addSave(5, 10)\n",
    "\n",
    "\n",
    "def returnMultiple(x, y):\n",
    "  sum = x + y\n",
    "  diff = x - y\n",
    "  prod = x * y\n",
    "\n",
    "  return sum, diff, prod\n",
    "\n",
    "\n",
    "print(returnMultiple(5, 10))\n",
    "a, b, c = returnMultiple(5, 10)"
   ]
  },
  {
   "cell_type": "markdown",
   "metadata": {},
   "source": [
    "## Function return type\n",
    "\n",
    "In the absence of types, we must be vigilant in what data-types our functions will take, and what data-types they will return"
   ]
  },
  {
   "cell_type": "code",
   "execution_count": 2,
   "metadata": {},
   "outputs": [
    {
     "data": {
      "text/plain": [
       "float"
      ]
     },
     "execution_count": 2,
     "metadata": {},
     "output_type": "execute_result"
    }
   ],
   "source": [
    "def adder(x):\n",
    "    return x + 1.0\n",
    "\n",
    "type(adder(1))"
   ]
  },
  {
   "cell_type": "code",
   "execution_count": 5,
   "metadata": {},
   "outputs": [
    {
     "data": {
      "text/plain": [
       "bool"
      ]
     },
     "execution_count": 5,
     "metadata": {},
     "output_type": "execute_result"
    }
   ],
   "source": [
    "def checker(x):\n",
    "    return x > 0\n",
    "\n",
    "type(checker(1))"
   ]
  }
 ],
 "metadata": {
  "kernelspec": {
   "display_name": "Python 3.10.7 64-bit",
   "language": "python",
   "name": "python3"
  },
  "language_info": {
   "codemirror_mode": {
    "name": "ipython",
    "version": 3
   },
   "file_extension": ".py",
   "mimetype": "text/x-python",
   "name": "python",
   "nbconvert_exporter": "python",
   "pygments_lexer": "ipython3",
   "version": "3.10.7"
  },
  "orig_nbformat": 4,
  "vscode": {
   "interpreter": {
    "hash": "369f2c481f4da34e4445cda3fffd2e751bd1c4d706f27375911949ba6bb62e1c"
   }
  }
 },
 "nbformat": 4,
 "nbformat_minor": 2
}
