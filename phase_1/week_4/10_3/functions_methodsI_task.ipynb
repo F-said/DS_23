{
 "cells": [
  {
   "cell_type": "markdown",
   "metadata": {},
   "source": [
    "## Builtin Function Usage\n",
    "Within this code-block, we have two variables of random value (via the imported `randint` function).\n",
    "\n",
    "Using our builtin functions, print out the following information:\n",
    "\n",
    "* the largest of the two values\n",
    "* the smallest of the two values\n",
    "* the absolute value of both values\n",
    "\n",
    "Be sure to consult the following documentation:\n",
    "https://docs.python.org/3/library/functions.html"
   ]
  },
  {
   "cell_type": "code",
   "execution_count": null,
   "metadata": {},
   "outputs": [],
   "source": [
    "# Generate two random numbers\n",
    "import random\n",
    "x = random.randint(-50, 50)\n",
    "y = random.randint(-50, 50)\n",
    "\n",
    "# write solution here"
   ]
  },
  {
   "cell_type": "markdown",
   "metadata": {},
   "source": [
    "## Imported function usage\n",
    "\n",
    "Using the imported `math` function, calculate the following of pi\n",
    "\n",
    "* the \"floor\" of pi (rounding down to 3.00)\n",
    "* the \"ceiling\" of pi (rounding up to 4.00)\n",
    "* pi to the second power (3.14 ^ 2)\n",
    "\n",
    "Be sure to consult the following documentation:\n",
    "https://docs.python.org/3/library/math.html"
   ]
  },
  {
   "cell_type": "code",
   "execution_count": null,
   "metadata": {},
   "outputs": [],
   "source": [
    "import math\n",
    "\n",
    "pi = 3.14\n",
    "\n",
    "# write solution here"
   ]
  },
  {
   "cell_type": "markdown",
   "metadata": {},
   "source": [
    "## Adder\n",
    "\n",
    "Create a function called `add(a, b)` that takes two values and computes their sum. \n",
    "\n",
    "Call this function using the two variables `num1` and `num2`."
   ]
  },
  {
   "cell_type": "code",
   "execution_count": null,
   "metadata": {},
   "outputs": [],
   "source": [
    "num1 = 10\n",
    "num2 = 5\n",
    "\n",
    "# write solution here"
   ]
  },
  {
   "cell_type": "markdown",
   "metadata": {},
   "source": [
    "## Subtracter\n",
    "\n",
    "Create a function called `subtract(a, b)` that takes two values and computes the ir ifference. \n",
    "\n",
    "Call this function using the two variables `num1` and `num2`."
   ]
  },
  {
   "cell_type": "code",
   "execution_count": null,
   "metadata": {},
   "outputs": [],
   "source": [
    "num1 = 10\n",
    "num2 = 5\n",
    "\n",
    "# write solution here"
   ]
  },
  {
   "cell_type": "markdown",
   "metadata": {},
   "source": [
    "## Multiplier\n",
    "\n",
    "Create a function called `multiply(a, b)` that takes two values and computes their product. \n",
    "\n",
    "Call this function using the two variables `num1` and `num2`."
   ]
  },
  {
   "cell_type": "code",
   "execution_count": null,
   "metadata": {},
   "outputs": [],
   "source": [
    "num1 = 10\n",
    "num2 = 5\n",
    "\n",
    "# write solution here"
   ]
  },
  {
   "cell_type": "markdown",
   "metadata": {},
   "source": [
    "## Divider\n",
    "\n",
    "Create a function called `divide(a, b)` that takes two values and computes their quotient. \n",
    "\n",
    "Call this function using the two variables `num1` and `num2`."
   ]
  },
  {
   "cell_type": "code",
   "execution_count": null,
   "metadata": {},
   "outputs": [],
   "source": [
    "num1 = 10\n",
    "num2 = 5\n",
    "\n",
    "# write solution here"
   ]
  },
  {
   "cell_type": "markdown",
   "metadata": {},
   "source": [
    "## List elements\n",
    "\n",
    "Create a function called `first_last(lst)` that takes a list data-structure and returns the first and last element.\n",
    "\n",
    "Call this function using the list `numbers`"
   ]
  },
  {
   "cell_type": "code",
   "execution_count": null,
   "metadata": {},
   "outputs": [],
   "source": [
    "numbers = [68, 100, 204, 203, 1]\n",
    "\n",
    "# write solution here"
   ]
  }
 ],
 "metadata": {
  "kernelspec": {
   "display_name": "Python 3.10.7 64-bit",
   "language": "python",
   "name": "python3"
  },
  "language_info": {
   "name": "python",
   "version": "3.10.7"
  },
  "orig_nbformat": 4,
  "vscode": {
   "interpreter": {
    "hash": "369f2c481f4da34e4445cda3fffd2e751bd1c4d706f27375911949ba6bb62e1c"
   }
  }
 },
 "nbformat": 4,
 "nbformat_minor": 2
}
