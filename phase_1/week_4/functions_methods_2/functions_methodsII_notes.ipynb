{
 "cells": [
  {
   "cell_type": "markdown",
   "metadata": {},
   "source": [
    "## Debugging with and without functions\n",
    "\n",
    "Functions are not only reusable, but also easier to debug.\n",
    "\n",
    "Consider the following example, you are employed by the U.S. census to create a command-line-interface that takes in a persons name, and also their dependents name. You've completed the code but you notice that there is a bug. Compare how many fixes you need to implement:"
   ]
  },
  {
   "cell_type": "markdown",
   "metadata": {},
   "source": [
    "No functions present:"
   ]
  },
  {
   "cell_type": "code",
   "execution_count": null,
   "metadata": {},
   "outputs": [],
   "source": [
    "# Application:\n",
    "# A census CLI that takes in names\n",
    "for i in range(5):\n",
    "  print(\"Enter your name.\")\n",
    "  fname = input(\"Give me your first name \")\n",
    "  mname = input(\"Give me your middle name. Enter NA to skip.\")\n",
    "  lname = input(\"Give me your last name \")\n",
    "\n",
    "  if not fname.isalpha():\n",
    "    print(\"First name should only contain letters.\")\n",
    "    continue\n",
    "  elif not mname.isalpha():\n",
    "    print(\"Last name should only contain letters.\")\n",
    "    continue\n",
    "\n",
    "  # need to make a fix here\n",
    "  f_capital = fname.upper()\n",
    "  m_capital = \"\" if mname == \"NA\" else mname.capitalize()\n",
    "  l_capital = lname.capitalize()\n",
    "\n",
    "  result = \" \".join([f_capital, m_capital, l_capital])\n",
    "  print(result)\n",
    "\n",
    "  print(\"Enter your dependents name.\")\n",
    "  fname = input(\"Give me your first name \")\n",
    "  mname = input(\"Give me your middle name. Enter NA to skip.\")\n",
    "  lname = input(\"Give me your last name \")\n",
    "\n",
    "  if not fname.isalpha():\n",
    "    print(\"First name should only contain letters.\")\n",
    "    continue\n",
    "  elif not mname.isalpha():\n",
    "    print(\"Last name should only contain letters.\")\n",
    "    continue\n",
    "  \n",
    "  # need to make a fix here\n",
    "  f_capital = fname.capitalize()\n",
    "  m_capital = \"\" if mname == \"NA\" else mname.capitalize()\n",
    "  l_capital = lname.capitalize()\n",
    "\n",
    "  result = \" \".join([f_capital, m_capital, l_capital])\n",
    "  print(result)\n"
   ]
  },
  {
   "cell_type": "markdown",
   "metadata": {},
   "source": [
    "whereas if a function is present already, we only need *one* fix."
   ]
  },
  {
   "cell_type": "code",
   "execution_count": null,
   "metadata": {},
   "outputs": [],
   "source": [
    "def multiply(a, b):\n",
    "  \"\"\"A function that multiplies a & b\n",
    "\n",
    "  Parameters\n",
    "  ----------\n",
    "  a:  int\n",
    "    the first number to multiply\n",
    "  b:  int\n",
    "    the second number to multiply\n",
    "\n",
    "  Returns\n",
    "  -------\n",
    "  int\n",
    "    an integer that represents the product of a & b\n",
    "  \"\"\"\n",
    "  return a * b\n",
    "\n",
    "def get_names():\n",
    "  \"\"\"Take in 3 names from console\n",
    "  \n",
    "  Returns\n",
    "  -------\n",
    "  string, string, string\n",
    "    Returns 3 strings that represent a first name, middle name, and       last-name.\n",
    "  \"\"\"\n",
    "  fname = input(\"Give me your first name \")\n",
    "  mname = input(\"Give me your middle name. Enter NA to skip.\")\n",
    "  lname = input(\"Give me your last name \")\n",
    "  return fname, mname, lname\n",
    "\n",
    "\n",
    "def make_name(first, middle, last):\n",
    "  \"\"\"Takes in 3 strings that represent first, middle, and last-    name      and turns it into a fullname.\n",
    "\n",
    "  Parameters\n",
    "  ----------\n",
    "  first : str\n",
    "      The first name.\n",
    "  middle : str\n",
    "      The middle name.\n",
    "  last : str\n",
    "      The last name.\n",
    "\n",
    "  Returns\n",
    "  -------\n",
    "  string\n",
    "      A string of a properly formatted name (per-American standards)\n",
    "  \"\"\"\n",
    "  if not first.isalpha():\n",
    "    print(\"First name should only contain letters.\")\n",
    "    return False\n",
    "  elif not last.isalpha():\n",
    "    print(\"Last name should only contain letters.\")\n",
    "    return False\n",
    "\n",
    "  # the fix only happens here\n",
    "  f_capital = first.upper()\n",
    "  m_capital = \"\" if middle == \"NA\" else middle.capitalize()\n",
    "  l_capital = last.capitalize()\n",
    "\n",
    "  result = \" \".join([f_capital, m_capital, l_capital])\n",
    "\n",
    "  return result\n",
    "\n",
    "\n",
    "# Application:\n",
    "# A cli that collects census data\n",
    "while True:\n",
    "  print(\"Enter your name\")\n",
    "  first, middle, last = get_names()\n",
    "  name = make_name(first, middle, last)\n",
    "\n",
    "  print(\"Enter your dependents name.\")\n",
    "  first, middle, last = get_names()\n",
    "  name = make_name(first, middle, last)"
   ]
  },
  {
   "cell_type": "markdown",
   "metadata": {},
   "source": [
    "Basically what this shows is that it is easier to fix code when you have functions. Imagine you copy and pasted this erroneous code in 300 other locations in your code. Obviously this will result in you using more time to fix something that should just be a localized mistake."
   ]
  },
  {
   "cell_type": "markdown",
   "metadata": {},
   "source": [
    "## Documentation\n",
    "\n",
    "As we become better data engineers/analysts/scientists, we also need to become better documenters.\n",
    "\n",
    "If the purpose of a line of code is not immediately obvious, we need to document it via comments “#”.\n",
    "\n",
    "Below is an example of how we can express the intent or effects of a chunk of code in one comment."
   ]
  },
  {
   "cell_type": "code",
   "execution_count": null,
   "metadata": {},
   "outputs": [],
   "source": [
    "# capitalize each letter of alphabet list, and save it to \"capital\"\n",
    "capital = []\n",
    "for letter in alphabet:\n",
    "  capital.append(letter.upper())\n",
    "print(capital)\n"
   ]
  },
  {
   "cell_type": "markdown",
   "metadata": {},
   "source": [
    "## DocString\n",
    "\n",
    "We can further include even more documentation by creating something called a [docstring](https://peps.python.org/pep-0257/). For our purposes, we will use the numpy standard:\n",
    "\n",
    "https://sphinxcontrib-napoleon.readthedocs.io/en/latest/example_numpy.html "
   ]
  },
  {
   "cell_type": "markdown",
   "metadata": {},
   "source": [
    "## DocString Anatomy\n",
    "\n",
    "We start with 3 quotes, and end with 3 quotes “””\n",
    "\n",
    "We place this at the very top of the function, & below the function definition.\n",
    "\n",
    "For now, we will only document:\n",
    "* Quick function summary\n",
    "* Summary or notes on function\n",
    "* Parameters\n",
    "* Return values\n",
    "\n",
    "It will look something like this:\n"
   ]
  },
  {
   "cell_type": "code",
   "execution_count": null,
   "metadata": {},
   "outputs": [],
   "source": [
    "def is_even(n):\n",
    "    \"\"\"A function to check if a number is even.\n",
    "\n",
    "    [maybe some extra notes here]\n",
    "\n",
    "    Parameters\n",
    "\t-----------\n",
    "\tn: int\n",
    "\t\tThe integer we are checking\n",
    "\n",
    "\tReturns\n",
    "\t-------\n",
    "\tbool\n",
    "\t\tTrue if “n” is even, false if it is “false”\n",
    "\t\"\"\"\n",
    "    return n % 2"
   ]
  },
  {
   "cell_type": "markdown",
   "metadata": {},
   "source": [
    "If your function does not take in parameters, then do not include the parameter section. Same goes for returns. If your function does not return a value, omit writing the \"returns\" as well."
   ]
  },
  {
   "cell_type": "markdown",
   "metadata": {},
   "source": [
    "## Why do we need DocStrings?\n",
    "\n",
    "Siloed knowledge is risky! If only one person knows how something works, that puts the entire project at risk!"
   ]
  },
  {
   "cell_type": "markdown",
   "metadata": {},
   "source": [
    "## Function Scope\n",
    "\n",
    "Variables defined in the parameter list and inside the function exist *only* inside of that function!"
   ]
  },
  {
   "cell_type": "code",
   "execution_count": null,
   "metadata": {},
   "outputs": [],
   "source": [
    "x = 5\n",
    "y = 5\n",
    "z = 6\n",
    "\n",
    "def afunc(x, y, z):\n",
    "    x = x + 1\n",
    "    y = y + 1\n",
    "    z = z + 1\n",
    "    return x, y, z\n",
    "\n",
    "afunc(10, 10, 11)"
   ]
  },
  {
   "cell_type": "markdown",
   "metadata": {},
   "source": [
    "Notice how the fact that we created variables that share the name of our parameter list does not change how our function worked.\n",
    "\n",
    "It simply took in our arguments when we called `afunc(10, 10, 11)`."
   ]
  },
  {
   "cell_type": "markdown",
   "metadata": {},
   "source": [
    "## Data Structs & Functions\n",
    "\n",
    "Functions will change our data-structure if we pass it as an argument. We have to be mindful of these changes, and document this in our docstring if it *will* attempt to mutate our data structure."
   ]
  },
  {
   "cell_type": "code",
   "execution_count": null,
   "metadata": {},
   "outputs": [],
   "source": [
    "lst = [\"a\", \"b\", \"c\", \"d\"]\n",
    "\n",
    "def inplace(lst):\n",
    "  lst.remove(\"a\")\n",
    "\n",
    "inplace(lst)\n",
    "# when we print, we see that this actually removes \"a\" from our list, which might be a surprise\n",
    "print(lst)\n"
   ]
  }
 ],
 "metadata": {
  "kernelspec": {
   "display_name": "Python 3.10.7 64-bit",
   "language": "python",
   "name": "python3"
  },
  "language_info": {
   "name": "python",
   "version": "3.10.7"
  },
  "orig_nbformat": 4,
  "vscode": {
   "interpreter": {
    "hash": "369f2c481f4da34e4445cda3fffd2e751bd1c4d706f27375911949ba6bb62e1c"
   }
  }
 },
 "nbformat": 4,
 "nbformat_minor": 2
}
