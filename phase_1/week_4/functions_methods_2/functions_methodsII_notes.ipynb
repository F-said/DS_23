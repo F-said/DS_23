{
 "cells": [
  {
   "cell_type": "markdown",
   "metadata": {},
   "source": []
  },
  {
   "cell_type": "code",
   "execution_count": null,
   "metadata": {},
   "outputs": [],
   "source": [
    "def get_names():\n",
    "  fname = input(\"Give me your first name \")\n",
    "  mname = input(\"Give me your middle name. Enter NA to skip.\")\n",
    "  lname = input(\"Give me your last name \")\n",
    "  return fname, mname, lname\n",
    "\n",
    "\n",
    "def make_name(first, middle, last):\n",
    "  if not first.isalpha():\n",
    "    print(\"First name should only contain letters.\")\n",
    "    return False\n",
    "  elif last.isalpha():\n",
    "    print(\"Last name should only contain letters.\")\n",
    "    return False\n",
    "\n",
    "  f_capital = first.capitalize()\n",
    "  m_capital = \"\" if middle == \"NA\" else middle.capitalize()\n",
    "  l_capital = last.capitalize()\n",
    "\n",
    "  return f_capital + m_capital + l_capital\n",
    "\n",
    "\n",
    "# get input from the command\n",
    "first, middle, last = get_names()\n",
    "# properly format name\n",
    "result = make_name(first, middle, last)\n",
    "print(\"Welcome\", result)\n"
   ]
  }
 ],
 "metadata": {
  "kernelspec": {
   "display_name": "Python 3.10.7 64-bit",
   "language": "python",
   "name": "python3"
  },
  "language_info": {
   "name": "python",
   "version": "3.10.7"
  },
  "orig_nbformat": 4,
  "vscode": {
   "interpreter": {
    "hash": "369f2c481f4da34e4445cda3fffd2e751bd1c4d706f27375911949ba6bb62e1c"
   }
  }
 },
 "nbformat": 4,
 "nbformat_minor": 2
}
