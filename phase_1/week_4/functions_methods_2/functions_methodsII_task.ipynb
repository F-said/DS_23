{
 "cells": [
  {
   "cell_type": "markdown",
   "metadata": {},
   "source": [
    "## Adder DocStrings\n",
    "\n",
    "Using your `add(a, b)` function from yesterday, add docstrings to this function using the numpy convention."
   ]
  },
  {
   "cell_type": "code",
   "execution_count": null,
   "metadata": {},
   "outputs": [],
   "source": [
    "num1 = 10\n",
    "num2 = 5\n",
    "\n",
    "def add(a, b):\n",
    "    \"\"\"\n",
    "    \"\"\"\n",
    "    return a + b\n",
    "\n",
    "add(10, 5)"
   ]
  },
  {
   "cell_type": "markdown",
   "metadata": {},
   "source": [
    "## Multiplier DocStrings\n",
    "\n",
    "Using your `multiply(a, b)` function from yesterday, add docstrings to this function using the numpy convention."
   ]
  },
  {
   "cell_type": "code",
   "execution_count": null,
   "metadata": {},
   "outputs": [],
   "source": [
    "num1 = 10\n",
    "num2 = 5\n",
    "\n",
    "def multiply(a, b):\n",
    "    \"\"\"Multiply two values together\n",
    "\n",
    "    I take in two values\n",
    "\n",
    "    Parameter\n",
    "    ---------\n",
    "\n",
    "\n",
    "    Returns\n",
    "    -------\n",
    "    \"\"\"\n",
    "    return a * b\n",
    "\n",
    "multiply(num1, num2)"
   ]
  },
  {
   "cell_type": "markdown",
   "metadata": {},
   "source": [
    "## Average Function\n",
    "\n",
    "Create a function called `average(a, b, c)` that takes three values and computes their average. \n",
    "\n",
    "Take in 3 integers from the console, and compute the average of these 3 numbers using your `average(a, b, c)` function. Be sure to include a docstring!"
   ]
  },
  {
   "cell_type": "code",
   "execution_count": 1,
   "metadata": {},
   "outputs": [
    {
     "name": "stdout",
     "output_type": "stream",
     "text": [
      "95.33333333333333\n"
     ]
    }
   ],
   "source": [
    "x = 100\n",
    "y = 100\n",
    "z = 86\n",
    "\n",
    "# write solution here\n",
    "def average(a, b, c):\n",
    "    return (a + b + c)/3\n",
    "\n",
    "print(average(x, y, z))\n"
   ]
  },
  {
   "cell_type": "markdown",
   "metadata": {},
   "source": [
    "## Tracing Parameters\n",
    "\n",
    "Using the two functions created below, predict what the output of each function call will be without running your code.\n"
   ]
  },
  {
   "cell_type": "code",
   "execution_count": 2,
   "metadata": {},
   "outputs": [
    {
     "data": {
      "text/plain": [
       "3"
      ]
     },
     "execution_count": 2,
     "metadata": {},
     "output_type": "execute_result"
    }
   ],
   "source": [
    "def a(x, y, z):\n",
    "     if x:\n",
    "         return y\n",
    "     else:\n",
    "         return z\n",
    "\n",
    "def b(q, r):\n",
    "    return a(q>r, q, r)\n",
    "\n",
    "\n",
    "a(False, 2, 3)\n",
    "b(3, 2)"
   ]
  },
  {
   "cell_type": "markdown",
   "metadata": {},
   "source": [
    "a(False, 2, 3)\n",
    "\n",
    "write solution here"
   ]
  },
  {
   "cell_type": "markdown",
   "metadata": {},
   "source": [
    "b(3, 2)\n",
    "\n",
    "write solution here"
   ]
  },
  {
   "cell_type": "markdown",
   "metadata": {},
   "source": [
    "## List Mutator\n",
    "\n",
    "Create a function named `capitalize_all(lst)` that takes in the list created for us below, and returns a copy of this with all the letters capitalized.\n",
    "\n",
    "Be sure to include the docstring!"
   ]
  },
  {
   "cell_type": "code",
   "execution_count": null,
   "metadata": {},
   "outputs": [],
   "source": [
    "letters = [\"a\", \"b\", \"c\", \"d\", \"e\", \"f\", \"g\", \"h\"]\n",
    "\n",
    "# write function here"
   ]
  },
  {
   "cell_type": "markdown",
   "metadata": {},
   "source": [
    "## Search a list\n",
    "\n",
    "Create a function named `search(lst, n)` that takes in the list created for us below and a value called `n` to search for. Return true if `n` exists inside of the list, or return false if it does not.\n",
    "\n",
    "Implement this any way you choose.\n",
    "\n",
    "Be sure to include the docstring!"
   ]
  },
  {
   "cell_type": "code",
   "execution_count": null,
   "metadata": {},
   "outputs": [],
   "source": [
    "import random\n",
    "numbers = [random.randint(0,100) for x in range(1000)]\n",
    "\n",
    "# write function here"
   ]
  }
 ],
 "metadata": {
  "kernelspec": {
   "display_name": "Python 3.10.7 64-bit",
   "language": "python",
   "name": "python3"
  },
  "language_info": {
   "codemirror_mode": {
    "name": "ipython",
    "version": 3
   },
   "file_extension": ".py",
   "mimetype": "text/x-python",
   "name": "python",
   "nbconvert_exporter": "python",
   "pygments_lexer": "ipython3",
   "version": "3.10.7"
  },
  "orig_nbformat": 4,
  "vscode": {
   "interpreter": {
    "hash": "369f2c481f4da34e4445cda3fffd2e751bd1c4d706f27375911949ba6bb62e1c"
   }
  }
 },
 "nbformat": 4,
 "nbformat_minor": 2
}
