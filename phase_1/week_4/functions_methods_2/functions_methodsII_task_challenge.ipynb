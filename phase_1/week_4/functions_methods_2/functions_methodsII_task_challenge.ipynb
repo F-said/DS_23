{
 "cells": [
  {
   "cell_type": "markdown",
   "metadata": {},
   "source": [
    "## Exponentiation from Scratch\n",
    "\n",
    "Write a function called `iterPower(base, exp)` that calculates the exponential by  using successive multiplication. \n",
    "\n",
    "This function should take in two values - `base` can be a float or an integer; `exp` will be an integer. It should return one numerical value. \n",
    "\n",
    "Use of the ** operator or math.pow() is not allowed.\n",
    "\n",
    "Make sure to include a docstring as well!"
   ]
  },
  {
   "cell_type": "code",
   "execution_count": null,
   "metadata": {},
   "outputs": [],
   "source": [
    "# write code here"
   ]
  }
 ],
 "metadata": {
  "kernelspec": {
   "display_name": "Python 3.10.7 64-bit",
   "language": "python",
   "name": "python3"
  },
  "language_info": {
   "name": "python",
   "version": "3.10.7"
  },
  "orig_nbformat": 4,
  "vscode": {
   "interpreter": {
    "hash": "369f2c481f4da34e4445cda3fffd2e751bd1c4d706f27375911949ba6bb62e1c"
   }
  }
 },
 "nbformat": 4,
 "nbformat_minor": 2
}
