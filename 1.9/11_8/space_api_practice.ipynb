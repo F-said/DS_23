{
 "cells": [
  {
   "cell_type": "markdown",
   "metadata": {},
   "source": [
    "# Space Complexity 1\n",
    "\n",
    "What is the space complexity for the following program?\n",
    "\n",
    "```python\n",
    "def program1(L):\n",
    "    multiples = []\n",
    "    for x in L:\n",
    "        for y in L:\n",
    "            multiples.append(x*y)\n",
    "    return multiples\n",
    "```"
   ]
  },
  {
   "cell_type": "markdown",
   "metadata": {},
   "source": [
    "# Space Complexity 2\n",
    "\n",
    "What is the space complexity for the following program?\n",
    "\n",
    "```python\n",
    "def program2(L):\n",
    "    squares = []\n",
    "    for x in L:\n",
    "        for y in L:\n",
    "            if x == y:\n",
    "                squares.append(x*y)\n",
    "    return squares\n",
    "```"
   ]
  },
  {
   "cell_type": "markdown",
   "metadata": {},
   "source": [
    "# Space Complexity 3\n",
    "\n",
    "What is the space complexity for the following program?\n",
    "\n",
    "```python\n",
    "def program3(L1, L2):\n",
    "    for elt in L1:\n",
    "        if elt in L2:\n",
    "            print(elt)\n",
    "    return intersection\n",
    "```"
   ]
  },
  {
   "cell_type": "markdown",
   "metadata": {},
   "source": [
    "# Ranking \n",
    "\n",
    "Rank the following unordered Big-O classifications from most efficient to least efficient\n",
    "\n",
    "```\n",
    "O(n^3)\n",
    "O(n*log(n))\n",
    "O(log(n))\n",
    "O(n^4)\n",
    "O(n)\n",
    "O(n^2)\n",
    "O(2^n)\n",
    "O(n^n)\n",
    "```\n",
    "\n",
    "1)\n",
    "2)\n",
    "3)\n",
    "4)\n",
    "5)\n",
    "6)\n",
    "7)\n",
    "8)"
   ]
  },
  {
   "cell_type": "markdown",
   "metadata": {},
   "source": [
    "## Time & Space 1\n",
    "\n",
    "What is the time and space complexity of the following algorithm.\n",
    "\n",
    "```python\n",
    "def isPrime(n):\n",
    "    for i in range(2, n):\n",
    "        if n % i == 0:\n",
    "            return False\n",
    "    return True\n",
    "```"
   ]
  },
  {
   "cell_type": "markdown",
   "metadata": {},
   "source": [
    "## Time & Space 2\n",
    "\n",
    "What is the time and space complexity of the following algorithm.\n",
    "\n",
    "```python\n",
    "upper_case = [l.upper() for l in letters]    \n",
    "```"
   ]
  },
  {
   "cell_type": "markdown",
   "metadata": {},
   "source": [
    "## API Key Generation\n",
    "\n",
    "Generate an API key from the resource: https://polygon.io/. Generating the key is the question itself, no additional steps are needed."
   ]
  },
  {
   "cell_type": "markdown",
   "metadata": {},
   "source": [
    "## SWAPI \n",
    "\n",
    "Get and save the name of the first 10 planets in Star Wars from the SWAPI. If your `requests` module is not working, use https://colab.research.google.com/"
   ]
  },
  {
   "cell_type": "code",
   "execution_count": null,
   "metadata": {},
   "outputs": [],
   "source": [
    "import requests"
   ]
  }
 ],
 "metadata": {
  "kernelspec": {
   "display_name": "Python 3.10.7 64-bit",
   "language": "python",
   "name": "python3"
  },
  "language_info": {
   "name": "python",
   "version": "3.10.7"
  },
  "orig_nbformat": 4,
  "vscode": {
   "interpreter": {
    "hash": "369f2c481f4da34e4445cda3fffd2e751bd1c4d706f27375911949ba6bb62e1c"
   }
  }
 },
 "nbformat": 4,
 "nbformat_minor": 2
}
