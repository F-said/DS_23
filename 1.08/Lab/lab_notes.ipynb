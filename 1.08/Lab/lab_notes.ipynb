{
 "cells": [
  {
   "cell_type": "markdown",
   "metadata": {},
   "source": [
    "## List Comprehension Review\n",
    "\n",
    "I want to get the sum of each list from a 2-dimensional list, and save it into a \"flat\" list.\n",
    "\n",
    "That is, I want to transform this list:\n",
    "\n",
    "```python\n",
    "data = [\n",
    "    [1, 5, 10],\n",
    "    [2, 3, 6],\n",
    "    [7, 3, 1],\n",
    "    [1]\n",
    "]\n",
    "```\n",
    "\n",
    "into this\n",
    "\n",
    "```python\n",
    "new_data = [16, 11, 11, 1]\n",
    "```\n",
    "\n",
    "How can I write list-comprehension to quickly do this?\n",
    "\n",
    "Keep in mind, we must use the following structure to implement list comprehension, and we can use the `sum()` function to quickly calculate the sum of each list.\n",
    "\n",
    "\n",
    "```\n",
    "new_data = [var for var in datastruct]\n",
    "```"
   ]
  },
  {
   "cell_type": "code",
   "execution_count": null,
   "metadata": {},
   "outputs": [],
   "source": [
    "# write solution here\n"
   ]
  },
  {
   "cell_type": "markdown",
   "metadata": {},
   "source": [
    "## Exceptions\n",
    "\n",
    "An error occurs when we are misusing our syntax. Common mistake while learning & easy to fix.\n",
    "\n",
    "An exception is an error that is “syntactically” (grammatically) correct, but errors out due to the values we’ve provided. Not always easy to fix!\n",
    "\n",
    "The best path forward is to filter out data that is not proper."
   ]
  },
  {
   "cell_type": "code",
   "execution_count": null,
   "metadata": {},
   "outputs": [],
   "source": [
    "list_data = [\n",
    "    {\"sum\": 100, \"count\": 10},\n",
    "    {\"sum\": 160, \"count\": 5},\n",
    "    {\"sum\": 80, \"count\": 0},\n",
    "]\n",
    "\n",
    "for row in list_data:\n",
    "    if row[\"count\"] != 0:\n",
    "        mean = row[\"sum\"] / row[\"count\"]\n",
    "        print(mean)"
   ]
  },
  {
   "cell_type": "markdown",
   "metadata": {},
   "source": [
    "How can I create filter out the dictionary that contains “count” of 0 using list comprehension?"
   ]
  },
  {
   "cell_type": "code",
   "execution_count": null,
   "metadata": {},
   "outputs": [],
   "source": [
    "list_data = [\n",
    "    {\"sum\": 100, \"count\": 10},\n",
    "    {\"sum\": 160, \"count\": 5},\n",
    "    {\"sum\": 80, \"count\": 0},\n",
    "]\n",
    "\n",
    "new_data = [row for row in list_data if ...]"
   ]
  },
  {
   "cell_type": "markdown",
   "metadata": {},
   "source": [
    "## Ternary Operators\n",
    "\n",
    "Let’s say you want to create a new variable based on some condition.\n",
    "\n",
    "Ex: Get the value of California’s GDP if it exists from this new dictionary.\n",
    "\n",
    "We could potentially create a conditional that checks if California is inside of this dictionary"
   ]
  },
  {
   "cell_type": "code",
   "execution_count": 1,
   "metadata": {},
   "outputs": [],
   "source": [
    "gdp_data  = {\n",
    "    \"Alabama\": 100,\n",
    "    \"Arizona\": 150,\n",
    "    \"Alaska\": 50\n",
    "}"
   ]
  },
  {
   "cell_type": "code",
   "execution_count": 2,
   "metadata": {},
   "outputs": [
    {
     "name": "stdout",
     "output_type": "stream",
     "text": [
      "Not in dictionary\n"
     ]
    }
   ],
   "source": [
    "# check if california is in this dictionary\n",
    "if \"California\" in gdp_data:\n",
    "    gdp = gdp_data[\"California\"]\n",
    "else:\n",
    "    gdp = None"
   ]
  },
  {
   "cell_type": "markdown",
   "metadata": {},
   "source": [
    "Operates like list comprehension, variable and then control-flow\n",
    "\n",
    "Should be used to “flatten” conditionals.\n",
    "\n",
    "Cannot be used for “control-flow” or code-execution.\n",
    "\n",
    "\n",
    "```\n",
    "variable = val if condition else other_val\n",
    "```"
   ]
  },
  {
   "cell_type": "code",
   "execution_count": 5,
   "metadata": {},
   "outputs": [
    {
     "name": "stdout",
     "output_type": "stream",
     "text": [
      "None\n"
     ]
    }
   ],
   "source": [
    "# check if california is in this dictionary\n",
    "if \"California\" in gdp_data:\n",
    "    gdp = gdp_data[\"California\"]\n",
    "else:\n",
    "    gdp = None\n",
    "\n",
    "gdp = gdp_data[\"California\"] if \"California\" in gdp_data else None"
   ]
  },
  {
   "cell_type": "code",
   "execution_count": 10,
   "metadata": {},
   "outputs": [
    {
     "name": "stdout",
     "output_type": "stream",
     "text": [
      "5\n"
     ]
    }
   ],
   "source": [
    "# practice\n",
    "\n",
    "word = \"hello\"\n",
    "word = 5\n",
    "\n",
    "new_d = word.upper() if isinstance(word, str) else word\n",
    "print(new_d)"
   ]
  },
  {
   "cell_type": "code",
   "execution_count": null,
   "metadata": {},
   "outputs": [],
   "source": [
    "# practice\n",
    "\n",
    "# create a new_list that keeps track of data-type\n",
    "# output: new_data = [\"int\", \"int\",\"int\",\"str\",\"str\",\"int\",\"int\",\"int\"]\n",
    "data = [1,2,3, \"hello\", \"world\", 4, 5, 6]\n",
    "\n",
    "new_data = []\n",
    "for val in data:\n",
    "    # assign to \"int\" if of type int, otherwise assign to \"str\"\n",
    "    new_val = \n",
    "    new_data.append(new_val)"
   ]
  }
 ],
 "metadata": {
  "kernelspec": {
   "display_name": "Python 3.10.7 64-bit",
   "language": "python",
   "name": "python3"
  },
  "language_info": {
   "codemirror_mode": {
    "name": "ipython",
    "version": 3
   },
   "file_extension": ".py",
   "mimetype": "text/x-python",
   "name": "python",
   "nbconvert_exporter": "python",
   "pygments_lexer": "ipython3",
   "version": "3.10.7"
  },
  "orig_nbformat": 4,
  "vscode": {
   "interpreter": {
    "hash": "369f2c481f4da34e4445cda3fffd2e751bd1c4d706f27375911949ba6bb62e1c"
   }
  }
 },
 "nbformat": 4,
 "nbformat_minor": 2
}
