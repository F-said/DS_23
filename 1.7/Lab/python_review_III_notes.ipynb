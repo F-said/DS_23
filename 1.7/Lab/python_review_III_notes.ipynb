{
 "cells": [
  {
   "cell_type": "markdown",
   "metadata": {},
   "source": [
    "## Review\n",
    "\n",
    "I have a list of airline ticket prices. I want to find the lowest airline ticket price from this list.\n",
    "\n",
    "I am given a list called `tickets` that contain 8 values.\n",
    "\n",
    "Remember to follow the process!\n",
    "\n",
    "1. Solve the problem in your head before you solve the problem in your program. \n",
    "* What will my inputs and outputs look like?\n",
    "* If you are uncertain about a detail, move forward regardless.\n",
    "\n",
    "2. Write down this solution using comments.\n",
    "\n",
    "3. Notice which structures you need for particular comments (ex: Get each element in a list)\n",
    "\n",
    "4. Implement code while ensuring that structures flow.\n",
    "\n",
    "5. For any uncertainty -> Google! Documentation! Co-coding! Talk to yourself! "
   ]
  },
  {
   "cell_type": "code",
   "execution_count": null,
   "metadata": {},
   "outputs": [],
   "source": [
    "tickets = [439.24, 549.60, 602.39, 387.45, 298.65, 298.63, 3539.26, 347.94]\n",
    "\n",
    "# write solution here"
   ]
  },
  {
   "cell_type": "markdown",
   "metadata": {},
   "source": [
    "## 1. Solve on Paper\n",
    "\n",
    "I need to list out which steps I need to take in order to solve this problem. This solution needs to work for any size list, so we can't visually confirm this answer. Let's imagine we have 1000 values. How will I find the smallest value?\n",
    "\n",
    "I'm going to repeat the pattern that we discussed last week:\n",
    "\n",
    "1. Get first value (439.24), assign this to be my minimum value\n",
    "2. Look at next value, check if its smaller than the first value. If it is, reassign this to be my new minimum.\n",
    "3. Repeat this process until I go through all elements. Reassign my minimum if I find smaller values.\n",
    "4. Print out my answer."
   ]
  },
  {
   "cell_type": "markdown",
   "metadata": {},
   "source": [
    "## 2. Psuedocode\n",
    "\n",
    "Now I will write out this process as pseudocode (fake code) in my comments."
   ]
  },
  {
   "cell_type": "code",
   "execution_count": null,
   "metadata": {},
   "outputs": [],
   "source": [
    "tickets = [439.24, 549.60, 602.39, 387.45, 298.65, 298.63, 3539.26, 347.94]\n",
    "\n",
    "# get first value, assign this to be my minimum\n",
    "\n",
    "# get each value in the list\n",
    "\n",
    "# if this value is smaller than my minimum, reassign my min to be this value\n",
    "\n",
    "# print out my min"
   ]
  },
  {
   "cell_type": "markdown",
   "metadata": {},
   "source": [
    "## 3. Structures\n",
    "\n",
    "Since I am getting each value in a list, this indicates that I must use a *for-loop*. In addition, since I am checking if some certain value is less than or smaller than my original minimum, I will also need to utilize *conditionals*."
   ]
  },
  {
   "cell_type": "markdown",
   "metadata": {},
   "source": [
    "## 4. Implement"
   ]
  },
  {
   "cell_type": "code",
   "execution_count": 1,
   "metadata": {},
   "outputs": [
    {
     "name": "stdout",
     "output_type": "stream",
     "text": [
      "298.63\n"
     ]
    }
   ],
   "source": [
    "tickets = [439.24, 549.60, 602.39, 387.45, 298.65, 298.63, 3539.26, 347.94]\n",
    "\n",
    "# get first value, assign this to be my minimum\n",
    "minimum = tickets[0]\n",
    "\n",
    "# get each value in the list\n",
    "for ticket in tickets:\n",
    "    # if this value is smaller than my minimum, reassign my min to be this value\n",
    "    if ticket < minimum:\n",
    "        minimum = ticket\n",
    "\n",
    "# print out my min\n",
    "print(minimum)"
   ]
  }
 ],
 "metadata": {
  "kernelspec": {
   "display_name": "Python 3.10.7 64-bit",
   "language": "python",
   "name": "python3"
  },
  "language_info": {
   "codemirror_mode": {
    "name": "ipython",
    "version": 3
   },
   "file_extension": ".py",
   "mimetype": "text/x-python",
   "name": "python",
   "nbconvert_exporter": "python",
   "pygments_lexer": "ipython3",
   "version": "3.10.7"
  },
  "orig_nbformat": 4,
  "vscode": {
   "interpreter": {
    "hash": "369f2c481f4da34e4445cda3fffd2e751bd1c4d706f27375911949ba6bb62e1c"
   }
  }
 },
 "nbformat": 4,
 "nbformat_minor": 2
}
