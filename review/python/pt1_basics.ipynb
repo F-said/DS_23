{
 "cells": [
  {
   "attachments": {},
   "cell_type": "markdown",
   "metadata": {},
   "source": [
    "# Basics of Python\n",
    "\n",
    "The Python programming language is one of many programming languages that we use to build apps, websites, data-pipelines, and numerous other tech projects that serve as the foundation for businesses, organizations, and automated systems.\n",
    "\n",
    "A **programming language** is simply a collection of symbols and characters that we use to give instructions to a computer."
   ]
  },
  {
   "cell_type": "code",
   "execution_count": 1,
   "metadata": {},
   "outputs": [
    {
     "name": "stdout",
     "output_type": "stream",
     "text": [
      "6\n"
     ]
    }
   ],
   "source": [
    "# example: I run this code to figure out how many letters are in my name!\n",
    "\n",
    "# take in a name from the console\n",
    "name = input(\"What is your name?\")\n",
    "# get its size\n",
    "size = len(name)\n",
    "# display the size to the console\n",
    "print(size)"
   ]
  },
  {
   "attachments": {},
   "cell_type": "markdown",
   "metadata": {},
   "source": [
    "## Data-Types\n",
    "\n",
    "The basics of Python are simple, we assign data to things called \"variables.\"\n",
    "\n",
    "```python\n",
    "x = \"hello\"\n",
    "y = 10\n",
    "z = 3.14\n",
    "```\n",
    "\n",
    "These variables point to data that come in different types. Also know as \"data-types.\" Specific data-types can be manipulated in ways that other data-types cannot be.\n",
    "\n",
    "For example, when we have a variable that refers to an integer data-type, we can use this variable for arithmetic, but we cannot [concatenate](https://www.merriam-webster.com/dictionary/concatenate) this variable to a string.  "
   ]
  },
  {
   "cell_type": "code",
   "execution_count": null,
   "metadata": {},
   "outputs": [],
   "source": [
    "x = \"hello\"\n",
    "y = 10\n",
    "z = 3.14\n",
    "\n",
    "# this is fine!\n",
    "x + 10\n",
    "\n",
    "# this is not! By \"adding\" x to the string \"world\" I am attempting to concatenate these two data-types\n",
    "x + \"world\""
   ]
  },
  {
   "attachments": {},
   "cell_type": "markdown",
   "metadata": {},
   "source": [
    "## Builtin Functions\n",
    "\n",
    "While we will go over what exactly a 'function' is in pt 4, why don't we loosely define it for now."
   ]
  }
 ],
 "metadata": {
  "kernelspec": {
   "display_name": "Python 3",
   "language": "python",
   "name": "python3"
  },
  "language_info": {
   "codemirror_mode": {
    "name": "ipython",
    "version": 3
   },
   "file_extension": ".py",
   "mimetype": "text/x-python",
   "name": "python",
   "nbconvert_exporter": "python",
   "pygments_lexer": "ipython3",
   "version": "3.10.7 (tags/v3.10.7:6cc6b13, Sep  5 2022, 14:08:36) [MSC v.1933 64 bit (AMD64)]"
  },
  "orig_nbformat": 4,
  "vscode": {
   "interpreter": {
    "hash": "369f2c481f4da34e4445cda3fffd2e751bd1c4d706f27375911949ba6bb62e1c"
   }
  }
 },
 "nbformat": 4,
 "nbformat_minor": 2
}
