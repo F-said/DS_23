{
 "cells": [
  {
   "cell_type": "markdown",
   "metadata": {},
   "source": [
    "\n",
    "# Calculator\n",
    "\n",
    "Create a program that takes in two numbers and calculates their sum and difference.\n",
    "\n",
    "Example\n",
    "```\n",
    "Input first number: 10\n",
    "Input second number: 5\n",
    "\n",
    "sum: 15\n",
    "difference: 5\n",
    "```"
   ]
  },
  {
   "cell_type": "code",
   "execution_count": null,
   "metadata": {},
   "outputs": [],
   "source": [
    "# code here"
   ]
  },
  {
   "cell_type": "markdown",
   "metadata": {},
   "source": [
    "# Discount calculator\n",
    "\n",
    "Use conditionals, the input function, and numeric operations to calculate the price & discounts on inputs orders of various unit size. The \"rules\" or \"specs\" of this piece of code are listed below:\n",
    "\n",
    "* If the inputted units are greater than 1000, apply only a 10% discount\n",
    "* If the inputted units are greater than 500, apply only a 5% discount\n",
    "* If the inputted units are greater than 100, apply only a 1% discount\n",
    "* Otherwise, apply no discounts\n",
    "\n",
    "Example\n",
    "```\n",
    "Order size: 1001\n",
    "2927.925\n",
    "``\n",
    "\n",
    "Example\n",
    "```\n",
    "Order size: 10\n",
    "32.5\n",
    "```"
   ]
  },
  {
   "cell_type": "code",
   "execution_count": null,
   "metadata": {},
   "outputs": [],
   "source": [
    "price_per_unit = 3.25\n",
    "\n",
    "# code here"
   ]
  },
  {
   "cell_type": "markdown",
   "metadata": {},
   "source": [
    "# Fixing input\n",
    "\n",
    "Create a sequence of calls to built-in methods and conditionals to correctly format & print a user's full-name using their first name, middle name, and last name stored in variables\n",
    "\n",
    "Example: \n",
    "```\n",
    "fname = \"farukh\" \n",
    "mname = \"b\" \n",
    "lname = \"saIDMUratov\"\n",
    "```\n",
    "```\n",
    "Farukh B Saidmuratov\n",
    "```"
   ]
  },
  {
   "cell_type": "code",
   "execution_count": null,
   "metadata": {},
   "outputs": [],
   "source": [
    "fname = \"calvin\" \n",
    "mname = \"IVANOV\" \n",
    "lname = \"vEGa\"\n",
    "\n",
    "# code here"
   ]
  }
 ],
 "metadata": {
  "kernelspec": {
   "display_name": "Python 3.10.7 64-bit",
   "language": "python",
   "name": "python3"
  },
  "language_info": {
   "name": "python",
   "version": "3.10.7"
  },
  "orig_nbformat": 4,
  "vscode": {
   "interpreter": {
    "hash": "369f2c481f4da34e4445cda3fffd2e751bd1c4d706f27375911949ba6bb62e1c"
   }
  }
 },
 "nbformat": 4,
 "nbformat_minor": 2
}
