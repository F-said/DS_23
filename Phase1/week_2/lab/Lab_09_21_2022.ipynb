{
 "cells": [
  {
   "cell_type": "markdown",
   "metadata": {},
   "source": [
    "### Calculator\n",
    "Create a program that takes two numbers from a user (input) and calculates their sum and difference.\n",
    "\n",
    "Example\n",
    "\n",
    "    Input first number: 10\n",
    "    Input second number: 5\n",
    "\n",
    "    sum: 15\n",
    "    difference: 5"
   ]
  },
  {
   "cell_type": "code",
   "execution_count": null,
   "metadata": {},
   "outputs": [],
   "source": [
    "# Code here"
   ]
  },
  {
   "cell_type": "markdown",
   "metadata": {},
   "source": [
    "### Explain How Variable Assignment works, in your  own words."
   ]
  },
  {
   "cell_type": "code",
   "execution_count": null,
   "metadata": {},
   "outputs": [],
   "source": []
  },
  {
   "cell_type": "markdown",
   "metadata": {},
   "source": [
    "### List and define 5 in built methods/functions that are for the string data type\n",
    "\n",
    "    Example : \n",
    "\n",
    "        string.strip() => Removes any leading or trailing whitespace from a string.\n",
    "\n",
    "    \n"
   ]
  },
  {
   "cell_type": "code",
   "execution_count": null,
   "metadata": {},
   "outputs": [],
   "source": []
  },
  {
   "cell_type": "markdown",
   "metadata": {},
   "source": [
    "### Fixing input\n",
    "\n",
    "Create a program that will ask a user for their first name, middle name and last name. \n",
    "After receiving the input, it should correctly format their name.\n",
    "\n",
    "Example :\n",
    "\n",
    "    input1 = \"farukh\"\n",
    "    input2 = \"b\"\n",
    "    input3 = \"saIDMUratov\"\n",
    "\n",
    "    output -> \"Hello Farukh B Saidmuratov\"\n",
    "\n",
    "##### This does not need to loop."
   ]
  },
  {
   "cell_type": "code",
   "execution_count": null,
   "metadata": {},
   "outputs": [],
   "source": [
    "#Code Here"
   ]
  },
  {
   "cell_type": "markdown",
   "metadata": {},
   "source": [
    "### Input Checker\n",
    "\n",
    "    Create a program that is going to check and print different things based off of the input. If the input is all alphabetical characters, it should print \"I got a string!\", if it's all numeric characters it should print \"I got a number\", if it got True or False, it should print \"I got a boolean\", else it should print \"I'm not sure what I got\".\n",
    "\n",
    "\n",
    "Example : \n",
    "\n",
    "    input => \"Hello World\"\n",
    "    output => \" I got a string!\"\n",
    "\n",
    "    input => \"112\"\n",
    "    output => \"I got a number\"\n",
    "\n",
    "    input => \"True\"\n",
    "    output => \"I got a bool\"\n",
    "\n",
    "    input => \"a12\"\n",
    "    output => \"I'm not sure what I got\""
   ]
  },
  {
   "cell_type": "code",
   "execution_count": null,
   "metadata": {},
   "outputs": [],
   "source": []
  },
  {
   "cell_type": "markdown",
   "metadata": {},
   "source": [
    "### Loop 1\n",
    "\n",
    "    Create a Loop that prints \"I understand loops!\" 10 times."
   ]
  },
  {
   "cell_type": "code",
   "execution_count": null,
   "metadata": {},
   "outputs": [],
   "source": [
    "# Insert Code Here"
   ]
  },
  {
   "cell_type": "markdown",
   "metadata": {},
   "source": [
    "### Loop 2\n",
    "\n",
    "        Create a loop that prints all of the numbers between 1 and 100(inclusiuve) that are divisible by 5"
   ]
  },
  {
   "cell_type": "code",
   "execution_count": null,
   "metadata": {},
   "outputs": [],
   "source": []
  },
  {
   "cell_type": "markdown",
   "metadata": {},
   "source": [
    "### Recommendation system\n",
    "\n",
    "    Create a group of conditionals that will recommend if a user should wear a coat given some random temperature and precipitation.\n",
    "\n",
    "    If the temperature is below 50, the user should wear a coat regardless of precipitation.\n",
    "    If the precipitation is above 40 and the temperature is above 80, the user should wear a coat.\n",
    "    If the precipitation is above 60 and the temperature is above 50, the user should wear a coat.\n",
    "    Otherwise the user should not wear a coat\n",
    "    \n",
    "    Example\n",
    "\n",
    "    Temperature is 65\n",
    "    Precipitation is 70\n",
    "\n",
    "    Output => Wear a coat\n",
    "\n",
    "    Temperature is 20\n",
    "    Precipitation is 1\n",
    "\n",
    "    Output => Wear a coat"
   ]
  },
  {
   "cell_type": "code",
   "execution_count": 6,
   "metadata": {},
   "outputs": [
    {
     "name": "stdout",
     "output_type": "stream",
     "text": [
      "Temperature is 53\n",
      "Precipitation is 12\n"
     ]
    }
   ],
   "source": [
    "# these 3 lines of code will create random input. Do Not Touch!\n",
    "import random\n",
    "temp = random.randint(20, 100)\n",
    "precip = random.randint(0, 100)\n",
    "print(\"Temperature is\", temp)\n",
    "print(\"Precipitation is\", precip)\n",
    "# These lines of code are to help generate random temps and precips. Test out your code to ensure it works correctly.\n",
    "\n",
    "\n",
    "## Code Here\n",
    "\n",
    "\n"
   ]
  },
  {
   "cell_type": "markdown",
   "metadata": {},
   "source": []
  },
  {
   "cell_type": "markdown",
   "metadata": {},
   "source": [
    "### Quadratic stairs\n",
    "Create a loop that will take in an integer and use that integer to create \"stairs\" composed of hashtags using loops & variables. The first level should start at 1 hashtag, the next 2, and each subsequent level should multiply the previous level by 2.\n",
    "\n",
    "This is also the sequence of the powers of two, where the inputted integer is the exponent.\n",
    "\n",
    "Example:\n",
    "\n",
    "    Insert how many levels of steps: 3\n",
    "\n",
    "    #\n",
    "    ##\n",
    "    ####\n",
    "    \n",
    "Example:\n",
    "\n",
    "    Insert how many levels of steps: 5\n",
    "\n",
    "    #\n",
    "    ##\n",
    "    ####\n",
    "    ########\n",
    "    ################"
   ]
  },
  {
   "cell_type": "markdown",
   "metadata": {},
   "source": [
    "### Multiples of 3 or 5\n",
    "\n",
    "\n",
    "    If we list all the natural numbers below 10 that are multiples of 3 or 5, we get 3, 5, 6 and 9. The sum of these multiples is 23.\n",
    "\n",
    "    Find the sum of all the multiples of 3 or 5 below 1000."
   ]
  },
  {
   "cell_type": "code",
   "execution_count": null,
   "metadata": {},
   "outputs": [],
   "source": []
  },
  {
   "cell_type": "markdown",
   "metadata": {},
   "source": [
    "### Largest palindrome product\n",
    "A palindromic number reads the same both ways. The largest palindrome made from the product of two 2-digit numbers is 9009 = 91 × 99.\n",
    "\n",
    "Find the largest palindrome made from the product of two 3-digit numbers."
   ]
  },
  {
   "cell_type": "markdown",
   "metadata": {},
   "source": []
  }
 ],
 "metadata": {
  "kernelspec": {
   "display_name": "Python 3.10.7 64-bit",
   "language": "python",
   "name": "python3"
  },
  "language_info": {
   "codemirror_mode": {
    "name": "ipython",
    "version": 3
   },
   "file_extension": ".py",
   "mimetype": "text/x-python",
   "name": "python",
   "nbconvert_exporter": "python",
   "pygments_lexer": "ipython3",
   "version": "3.10.7"
  },
  "orig_nbformat": 4,
  "vscode": {
   "interpreter": {
    "hash": "369f2c481f4da34e4445cda3fffd2e751bd1c4d706f27375911949ba6bb62e1c"
   }
  }
 },
 "nbformat": 4,
 "nbformat_minor": 2
}
