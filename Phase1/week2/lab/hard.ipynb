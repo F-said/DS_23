{
 "cells": [
  {
   "cell_type": "markdown",
   "metadata": {},
   "source": [
    "# Quadratic stairs\n",
    "\n",
    "Create a loop that will take in an integer and use that integer to create \"stairs\" composed of hashtags using loops & variables. The first level should start at 1 hashtag, the next 2, and each subsequent level should multiply the previous level by 2. \n",
    "\n",
    "This is also the sequence of the powers of two, where the inputted integer is the exponent.\n",
    "\n",
    "Example: \n",
    "```\n",
    "Insert how many levels of steps: 3\n",
    "\n",
    "#\n",
    "##\n",
    "####\n",
    "```\n",
    "\n",
    "Example: \n",
    "```\n",
    "Insert how many levels of steps: 5\n",
    "\n",
    "#\n",
    "##\n",
    "####\n",
    "########\n",
    "################\n",
    "```"
   ]
  },
  {
   "cell_type": "code",
   "execution_count": null,
   "metadata": {},
   "outputs": [],
   "source": [
    "# code here"
   ]
  }
 ],
 "metadata": {
  "kernelspec": {
   "display_name": "Python 3.10.7 64-bit",
   "language": "python",
   "name": "python3"
  },
  "language_info": {
   "name": "python",
   "version": "3.10.7"
  },
  "orig_nbformat": 4,
  "vscode": {
   "interpreter": {
    "hash": "369f2c481f4da34e4445cda3fffd2e751bd1c4d706f27375911949ba6bb62e1c"
   }
  }
 },
 "nbformat": 4,
 "nbformat_minor": 2
}
