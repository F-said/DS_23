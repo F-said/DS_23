{
 "cells": [
  {
   "cell_type": "markdown",
   "metadata": {},
   "source": [
    "# Counting coins\n",
    "\n",
    "Create a while-loop that calculates & prints the max number of quarters, dimes, nickels, & pennies we have from some amount of cents. \n",
    "\n",
    "Example\n",
    "```\n",
    "Cent amount is 145\n",
    "\n",
    "quarters: 5\n",
    "dimes: 2\n",
    "nickels: 0\n",
    "pennies: 0\n",
    "```"
   ]
  },
  {
   "cell_type": "code",
   "execution_count": null,
   "metadata": {},
   "outputs": [],
   "source": [
    "cents = 520151\n",
    "print(\"Cent amount is\", cents)"
   ]
  },
  {
   "cell_type": "markdown",
   "metadata": {},
   "source": [
    "# Recommendation system\n",
    "\n",
    "Create a group of conditionals that will recommend if a user should wear a coat given some random temperature and precipitation.\n",
    "\n",
    "* If the temperature is below 50, the user should wear a coat regardless of precipitation.\n",
    "* If the precipitation is above 40 and the temperature is above 80, the user should wear a coat.\n",
    "* If the precipitation is above 60 and the temperature is above 50, the user should wear a coat.\n",
    "* Otherwise the user should not wear a coat\n",
    "\n",
    "\n",
    "Example\n",
    "```\n",
    "Temperature is 65\n",
    "Precipitation is 70\n",
    "\n",
    "Wear a coat\n",
    "```\n",
    "\n",
    "Example\n",
    "```\n",
    "Temperature is 20\n",
    "Precipitation is 1\n",
    "\n",
    "Wear a coat\n",
    "```"
   ]
  },
  {
   "cell_type": "code",
   "execution_count": null,
   "metadata": {},
   "outputs": [],
   "source": [
    "# these 3 lines of code will create random input\n",
    "import random\n",
    "temp = random.randint(20, 100)\n",
    "precip = random.randint(0, 100)\n",
    "\n",
    "print(\"Temperature is\", temp)\n",
    "print(\"Precipitation is\", precip)\n",
    "\n",
    "# code here"
   ]
  }
 ],
 "metadata": {
  "kernelspec": {
   "display_name": "Python 3.10.7 64-bit",
   "language": "python",
   "name": "python3"
  },
  "language_info": {
   "name": "python",
   "version": "3.10.7"
  },
  "orig_nbformat": 4,
  "vscode": {
   "interpreter": {
    "hash": "369f2c481f4da34e4445cda3fffd2e751bd1c4d706f27375911949ba6bb62e1c"
   }
  }
 },
 "nbformat": 4,
 "nbformat_minor": 2
}
