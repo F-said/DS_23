{
 "cells": [
  {
   "cell_type": "markdown",
   "metadata": {},
   "source": [
    "## For-Loop\n",
    "\n",
    "Create a for-loop that prints out all numbers from 5 to 15\n",
    "\n",
    "Expected Output\n",
    "```\n",
    "5\n",
    "6\n",
    "6\n",
    "7\n",
    "8\n",
    "9\n",
    "10\n",
    "11\n",
    "12\n",
    "13\n",
    "14\n",
    "15\n",
    "```"
   ]
  },
  {
   "cell_type": "code",
   "execution_count": null,
   "metadata": {},
   "outputs": [],
   "source": [
    "# write solution here"
   ]
  },
  {
   "cell_type": "markdown",
   "metadata": {},
   "source": [
    "## Even For-Loop\n",
    "\n",
    "Create a for-loop that prints out all even numbers from 1 to 10\n",
    "\n",
    "Expected Output\n",
    "```\n",
    "2\n",
    "4\n",
    "6\n",
    "8\n",
    "10\n",
    "```"
   ]
  },
  {
   "cell_type": "code",
   "execution_count": null,
   "metadata": {},
   "outputs": [],
   "source": [
    "# write solution here"
   ]
  },
  {
   "cell_type": "markdown",
   "metadata": {},
   "source": [
    "## Loop Translation\n",
    "\n",
    "Translate the following while-loop into a for-loop. Ensure that the for-loop does the same exact thing as the while-loop!"
   ]
  },
  {
   "cell_type": "code",
   "execution_count": 1,
   "metadata": {},
   "outputs": [
    {
     "name": "stdout",
     "output_type": "stream",
     "text": [
      "20\n",
      "19\n",
      "18\n",
      "17\n",
      "16\n",
      "15\n",
      "14\n",
      "13\n",
      "12\n",
      "11\n",
      "10\n",
      "9\n",
      "8\n",
      "7\n",
      "6\n",
      "5\n",
      "4\n",
      "3\n",
      "2\n",
      "1\n"
     ]
    }
   ],
   "source": [
    "# while-loop\n",
    "\n",
    "x = 20\n",
    "while x > 0:\n",
    "    print(x)\n",
    "    x = x - 1"
   ]
  },
  {
   "cell_type": "code",
   "execution_count": null,
   "metadata": {},
   "outputs": [],
   "source": [
    "# for-loop"
   ]
  },
  {
   "cell_type": "markdown",
   "metadata": {},
   "source": [
    "## Rock, paper, scissors\n",
    "\n",
    "Create a program that simulates the game \"rock, paper, scissors.\" You will take in two inputs, one from player 1, and one from player 2, and then compare them to each other. You will code in the rules of the game using conditionals and print out who the subsequent user is.\n",
    "\n",
    "Expected Output\n",
    "```\n",
    "player 1: rock\n",
    "player 2: scissors\n",
    "\n",
    "player 1 wins\n",
    "```"
   ]
  },
  {
   "cell_type": "code",
   "execution_count": null,
   "metadata": {},
   "outputs": [],
   "source": [
    "# insert solution here"
   ]
  },
  {
   "cell_type": "markdown",
   "metadata": {},
   "source": [
    "## Nested Conditionals Translation\n",
    "\n",
    "Translate the following conjunction into a nested conditional. Ensure that the conjunction does the same exact thing as the nested conditional!"
   ]
  },
  {
   "cell_type": "code",
   "execution_count": 1,
   "metadata": {},
   "outputs": [
    {
     "name": "stdout",
     "output_type": "stream",
     "text": [
      "Based on your preferences, you should watch Rubber\n"
     ]
    }
   ],
   "source": [
    "horror_pref = True\n",
    "funny_pref = True\n",
    "sad_pref = False\n",
    "\n",
    "if horror_pref and funny_pref and not sad_pref:\n",
    "    movie = \"Rubber\"\n",
    "elif horror_pref and not funny_pref and sad_pref:\n",
    "    movie = \"Hereditary\"\n",
    "elif not horror_pref and funny_pref and sad_pref:\n",
    "    movie = \"The Truman Show\"\n",
    "\n",
    "print(\"Based on your preferences, you should watch\", movie)"
   ]
  },
  {
   "cell_type": "markdown",
   "metadata": {},
   "source": [
    "## Bonus 1"
   ]
  },
  {
   "cell_type": "code",
   "execution_count": null,
   "metadata": {},
   "outputs": [],
   "source": []
  },
  {
   "cell_type": "markdown",
   "metadata": {},
   "source": [
    "## Bonus 2"
   ]
  },
  {
   "cell_type": "code",
   "execution_count": null,
   "metadata": {},
   "outputs": [],
   "source": []
  }
 ],
 "metadata": {
  "kernelspec": {
   "display_name": "Python 3.10.7 64-bit",
   "language": "python",
   "name": "python3"
  },
  "language_info": {
   "codemirror_mode": {
    "name": "ipython",
    "version": 3
   },
   "file_extension": ".py",
   "mimetype": "text/x-python",
   "name": "python",
   "nbconvert_exporter": "python",
   "pygments_lexer": "ipython3",
   "version": "3.10.7"
  },
  "orig_nbformat": 4,
  "vscode": {
   "interpreter": {
    "hash": "369f2c481f4da34e4445cda3fffd2e751bd1c4d706f27375911949ba6bb62e1c"
   }
  }
 },
 "nbformat": 4,
 "nbformat_minor": 2
}
