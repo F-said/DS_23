{
 "cells": [
  {
   "attachments": {},
   "cell_type": "markdown",
   "metadata": {},
   "source": [
    "## Sliding Window Pattern\n",
    "\n",
    "View notes in `review/sliding-window.ipynb` \n",
    "\n",
    "You are given an integer array nums consisting of n elements, and an integer k.\n",
    "\n",
    "Find a contiguous subarray whose length is equal to k that has the maximum average value and return this value. \n",
    "\n",
    "Any answer with a calculation error less than 10-5 will be accepted.\n",
    "\n",
    "Submit here: https://leetcode.com/problems/maximum-average-subarray-i/description/ "
   ]
  },
  {
   "attachments": {},
   "cell_type": "markdown",
   "metadata": {},
   "source": [
    "## Connecting Postgres to Tableau\n",
    "\n",
    "To connect postgres to our Tableau interface, we must download the full version of Tableau Desktop.\n",
    "\n",
    "This entails signing up for a 14-day-free-trial: https://www.tableau.com/products/desktop?build=20224.22.1117.1841&edition=public&lang=en-us&platform=windows&version=2022.4 \n",
    "\n",
    "After downloading the full-version of Tableau, we must then download a postgres driver for Tableau: https://www.tableau.com/support/drivers?_ga=2.56418539.1702372025.1676324272-1639065942.1673995356\n",
    "\n",
    "From there, we provide our authentication information for our database\"\n",
    "\n",
    "```\n",
    "```\n",
    "\n",
    "https://www.youtube.com/watch?v=y0gwUH-ltbE"
   ]
  },
  {
   "attachments": {},
   "cell_type": "markdown",
   "metadata": {},
   "source": [
    "## Creating a Parameterized Graph\n",
    "\n",
    "... link to be posted"
   ]
  },
  {
   "attachments": {},
   "cell_type": "markdown",
   "metadata": {},
   "source": [
    "## Tableau Query Language\n",
    "\n",
    "Queries to be posted ...\n",
    "\n",
    "https://help.tableau.com/current/pro/desktop/en-us/functions_functions_logical.htm"
   ]
  }
 ],
 "metadata": {
  "kernelspec": {
   "display_name": "Python 3",
   "language": "python",
   "name": "python3"
  },
  "language_info": {
   "name": "python",
   "version": "3.10.7"
  },
  "orig_nbformat": 4,
  "vscode": {
   "interpreter": {
    "hash": "369f2c481f4da34e4445cda3fffd2e751bd1c4d706f27375911949ba6bb62e1c"
   }
  }
 },
 "nbformat": 4,
 "nbformat_minor": 2
}
