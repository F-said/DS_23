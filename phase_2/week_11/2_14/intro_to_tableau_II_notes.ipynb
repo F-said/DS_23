{
 "cells": [
  {
   "attachments": {},
   "cell_type": "markdown",
   "metadata": {},
   "source": [
    "## Sliding Window Pattern\n",
    "\n",
    "View notes in `review/sliding-window.ipynb` \n",
    "\n",
    "You are given an integer array nums consisting of n elements, and an integer k.\n",
    "\n",
    "Find a contiguous subarray whose length is equal to k that has the maximum average value and return this value. \n",
    "\n",
    "Any answer with a calculation error less than 10-5 will be accepted.\n",
    "\n",
    "Submit here: https://leetcode.com/problems/maximum-average-subarray-i/description/ "
   ]
  },
  {
   "attachments": {},
   "cell_type": "markdown",
   "metadata": {},
   "source": [
    "## Connecting Postgres to Tableau\n",
    "\n",
    "To connect postgres to our Tableau interface, we must download the full version of Tableau Desktop.\n",
    "\n",
    "This entails signing up for a 14-day-free-trial: https://www.tableau.com/products/desktop?build=20224.22.1117.1841&edition=public&lang=en-us&platform=windows&version=2022.4 \n",
    "\n",
    "After downloading the full-version of Tableau, we must then download a postgres driver for Tableau: https://www.tableau.com/support/drivers?_ga=2.56418539.1702372025.1676324272-1639065942.1673995356\n",
    "\n",
    "From there, we provide our authentication information for our database, which will just be the same information we've been using with `psycopg2` and `sqlalchemy`.\n",
    "\n",
    "```\n",
    "host : localhost\n",
    "user : postgres\n",
    "port : 5432\n",
    "...\n",
    "```\n",
    "\n",
    "After providing this information we should be able to successfully connect!\n",
    "\n",
    "https://www.youtube.com/watch?v=y0gwUH-ltbE"
   ]
  },
  {
   "attachments": {},
   "cell_type": "markdown",
   "metadata": {},
   "source": [
    "## Creating a Parameterized Graph\n",
    "\n",
    "To create a parameterized scatter-plot, we begin by creating a regular scatter plot in our tableau worksheets.\n",
    "\n",
    "More info as to how we could accomplish this here: https://www.youtube.com/watch?v=4HNHMpf0Aio\n",
    "\n",
    "From there, we select the dropdown menu in the `data` tab and click on the menu option labeled `Create Parameter`.\n",
    "\n",
    "This will pull up a modal where we select parameter configurations. If we would like to have the ability to switch columns in a Tableau worksheet, we must name this parameter, set the data type to be `string` and specify a `list` of allowable values (unless we want the ability to switch between all available columns).\n",
    "\n",
    "After hitting `ok` we then successfully create a dropdown menu that controls parameters.\n",
    "\n",
    "However, we are still not done yet and must create a `Calculation` in order to hook this parameter to our graphs."
   ]
  },
  {
   "attachments": {},
   "cell_type": "markdown",
   "metadata": {},
   "source": [
    "## Calculated Field\n",
    "\n",
    "In the next steps, we will click on the menu item labeled `Analysis` located in the top-left corner of our Tableau window. From there, we will select the `Create Calculated Field...` menu option which will pull up some space to write code.\n",
    "\n",
    "We firstly name this calculated field, and then, ignoring syntax for the time being, we write-in the following:\n",
    "\n",
    "```sql\n",
    "CASE [Parameter Name]\n",
    "    WHEN \"Column1\" THEN [Column1]\n",
    "    WHEN \"Column2\" THEN [Column2]\n",
    "    WHEN \"Column3\" THEN [Column3]\n",
    "END\n",
    "```\n",
    "\n",
    "This will create the calculated field and set it as a measure within our tableau worksheet. We can drag and drop it into the necessary shelf to modify the metric being measured as the viewer of our dashboard switches between columns.\n",
    "\n",
    "Keep in mind, that we must display the `Parameter` on our worksheet for measures to be switched."
   ]
  },
  {
   "attachments": {},
   "cell_type": "markdown",
   "metadata": {},
   "source": [
    "## Tableau Query Language\n",
    "\n",
    "In the markdown box above, we mentioned writing out a `CASE` \"query\" to implement some functionality in our dashboard. To be clear, this isn't any type of language-specific query (such as SQL), but is instead a general language used by Tableau.\n",
    "\n",
    "When creating a new calculated field, this always gives us a new `pill` to interact with.\n",
    "\n",
    "Let's go over some use-cases and basics of this language, starting with the main types of calculations we will find.\n",
    "\n",
    "### Basic Calculations\n",
    "\n",
    "This is the simplest form of calculation, which entails calculating some metric or aggregate according to a row or column.\n",
    "\n",
    "### Level of Detail Expressions\n",
    "\n",
    "This is an advanced form of `Basic Calculations`, which entails modifying granularity of rows/columns selected.\n",
    "\n",
    "### Table Calculations\n",
    "\n",
    "Table calculations entail transforming values at the visual-level only.\n",
    "\n",
    "This, like always, is just the surface, so I recommend reading documentation to become an even more powerful Tableau developer:\n",
    "\n",
    "https://help.tableau.com/current/pro/desktop/en-us/functions_functions_logical.htm"
   ]
  },
  {
   "attachments": {},
   "cell_type": "markdown",
   "metadata": {},
   "source": [
    "## Basic Syntax\n",
    "\n",
    "Before moving with these types of calculations, let's review syntax.\n",
    "\n",
    "In our query language, we have access to:\n",
    "* Functions (`IF`, `THEN`, `ELSEIF`, `END`, `AVG`, `ABS`)\n",
    "* Fields (Measures, Dimensions in your worksheet)\n",
    "* Operators (`+, - , /, *, >, <, >=, <=`)\n",
    "* Literal Expressions (constants, strings `5`, `Hello world!`)\n",
    "\n",
    "### Field Names\n",
    "\n",
    "Fields, which are just your measures & dimensions, must always be surrounded by square-brackets `[]`.\n",
    "\n",
    "Ex: Say you have a `revenue` measure and you want to create a calculated field on this. You would include it in your calculation as `[revenue]`.\n",
    "\n",
    "### If-Statements\n",
    "\n",
    "Just like in all other programming languages, we have access to `if` statements.\n",
    "\n",
    "Note the structure of this if-statement: \n",
    "\n",
    "```sql\n",
    "IF [Profit per Day] > 000 THEN \"Highly Profitable\"\n",
    "ELSEIF [Profit per Day] <= 0 THEN \"Unprofitable\"\n",
    "ELSE\"Profitable\"\n",
    "END\n",
    "```\n",
    "\n",
    "In general, we create an if-statement control flow via:\n",
    "\n",
    "```sql\n",
    "IF <conditional> THEN <return_val>\n",
    "ELSEIF <conditional> THEN <return_val>\n",
    "ELSEIF <conditional> THEN <return_val>\n",
    "ELSEIF <conditional> THEN <return_val>\n",
    "ELSE <return_val>\n",
    "END \n",
    "```\n",
    "\n",
    "### Case\n",
    "\n",
    "In other programming languages, we call this a `switch` statement. This is designed to easily check for equality and behaves the exact same way as multiple `IF` and `ELSEIF` statements looking for equality.\n",
    "\n",
    "```sql\n",
    "CASE [field]\n",
    "WHEN <value> THEN <return_val>\n",
    "WHEN <value> THEN <return_val>\n",
    "WHEN <value> THEN <return_val>\n",
    "WHEN <value> THEN <return_val>\n",
    "END\n",
    "```\n",
    "\n",
    "The value that we point to at the end will be the value of the calculated field.\n",
    "\n",
    "For a comprehensive list of functions, check out: https://help.tableau.com/current/pro/desktop/en-us/functions_all_alphabetical.htm"
   ]
  },
  {
   "attachments": {},
   "cell_type": "markdown",
   "metadata": {},
   "source": [
    "## Basic Calculations\n",
    "\n",
    "Creating a basic calculation entails using a simple function or control-flow call.\n",
    "\n",
    "For example, say you want to create a calculated field that is simply the difference in cost and revenue (aka profit).\n",
    "\n",
    "We would use:\n",
    "```sql\n",
    "[revenue] - [cost]\n",
    "```"
   ]
  },
  {
   "attachments": {},
   "cell_type": "markdown",
   "metadata": {},
   "source": [
    "## Level of Detail Expressions\n",
    "\n",
    "https://help.tableau.com/current/pro/desktop/en-us/calculations_calculatedfields_lod.htm"
   ]
  },
  {
   "attachments": {},
   "cell_type": "markdown",
   "metadata": {},
   "source": [
    "## Table Calculations\n",
    "\n",
    "https://help.tableau.com/current/pro/desktop/en-us/calculations_tablecalculations.htm"
   ]
  }
 ],
 "metadata": {
  "kernelspec": {
   "display_name": "Python 3",
   "language": "python",
   "name": "python3"
  },
  "language_info": {
   "name": "python",
   "version": "3.10.7"
  },
  "orig_nbformat": 4,
  "vscode": {
   "interpreter": {
    "hash": "369f2c481f4da34e4445cda3fffd2e751bd1c4d706f27375911949ba6bb62e1c"
   }
  }
 },
 "nbformat": 4,
 "nbformat_minor": 2
}
