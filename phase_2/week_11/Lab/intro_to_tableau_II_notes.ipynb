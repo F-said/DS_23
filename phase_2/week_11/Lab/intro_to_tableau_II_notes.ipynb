{
 "cells": [
  {
   "attachments": {},
   "cell_type": "markdown",
   "metadata": {},
   "source": [
    "## Data Storytelling\n",
    "\n",
    "Sometimes we will present our findings using a combination of quantitative measures and qualitative descriptors to get our message across.\n",
    " * We use a combination of data visualizations & descriptive notes to communicate our findings.\n",
    "\n",
    "Informally, we follow the workflow when starting to create a data story:\n",
    "* Identify the story: what event or pattern are you interested in focusing on?\n",
    "* Consider your audience: technical or non-technical?\n",
    "* Focus on a subset of your data: Especially when communicating with a non-technical audience, we must limit our data.\n",
    "* Identify effective visualizations: Given your findings, what graph would work best?"
   ]
  },
  {
   "attachments": {},
   "cell_type": "markdown",
   "metadata": {},
   "source": [
    "## 2379. Minimum Recolors to Get K Consecutive Black Blocks\n",
    "\n",
    "You are given a 0-indexed string blocks of length n, where blocks[i] is either 'W' or 'B', representing the color of the ith block. The characters 'W' and 'B' denote the colors white and black, respectively.\n",
    "\n",
    "You are also given an integer k, which is the desired number of consecutive black blocks.\n",
    "\n",
    "In one operation, you can recolor a white block such that it becomes a black block.\n",
    "\n",
    "Return the minimum number of operations needed such that there is at least one occurrence of k consecutive black blocks.\n",
    "\n",
    "https://leetcode.com/problems/minimum-recolors-to-get-k-consecutive-black-blocks/ "
   ]
  },
  {
   "attachments": {},
   "cell_type": "markdown",
   "metadata": {},
   "source": [
    "## Tableau Language\n",
    "\n",
    "Check out `week_11/2_14/intro_to_tableau_II_notes.ipynb` within the `DS_22` folder."
   ]
  },
  {
   "attachments": {},
   "cell_type": "markdown",
   "metadata": {},
   "source": [
    "## Tableau Stories\n",
    "\n",
    "... video link to be posted"
   ]
  }
 ],
 "metadata": {
  "kernelspec": {
   "display_name": "Python 3",
   "language": "python",
   "name": "python3"
  },
  "language_info": {
   "name": "python",
   "version": "3.10.7"
  },
  "orig_nbformat": 4,
  "vscode": {
   "interpreter": {
    "hash": "369f2c481f4da34e4445cda3fffd2e751bd1c4d706f27375911949ba6bb62e1c"
   }
  }
 },
 "nbformat": 4,
 "nbformat_minor": 2
}
