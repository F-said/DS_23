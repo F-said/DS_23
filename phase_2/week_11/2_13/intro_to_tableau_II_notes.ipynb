{
 "cells": [
  {
   "attachments": {},
   "cell_type": "markdown",
   "metadata": {},
   "source": [
    "## Track Review\n",
    "\n",
    "* Traditionally in jobs, we have 2-weeks to a month for onboarding where we familiarize ourselves with the tech-stack of a company.\n",
    "* Think of this fellowship as one gigantic onboarding session, with room for concepts.\n",
    "* We have a few more tools left to review (tableau & sklearn)\n",
    "* We’ve blazed through the utility & syntax of these tools, in the upcoming weeks we will focus on implementing these tools in unique problems.\n",
    "\n",
    "* Making you an independent data engineer\n",
    "  * Practice with data patterns\n",
    "  * Practice with tools\n",
    "  * Knowledge of key-terms & statistics\n",
    "\n",
    "* Making you a competent interviewee\n",
    "  * Building a comprehensive portfolio  \n",
    "  * Knowledge of patterns"
   ]
  },
  {
   "attachments": {},
   "cell_type": "markdown",
   "metadata": {},
   "source": [
    "## Changes to Support these Goals\n",
    "\n",
    "* Shorter videos posted to Youtube.\n",
    "    https://www.youtube.com/@ds_2237 \n",
    "\n",
    "* References to notes posted retrospectively & for each remaining project.\n",
    "\n",
    "* Slides & exercises posted at least one week ahead of time\n",
    "    * Start this Thursday 2/16\n",
    "\n",
    "Today will mostly be a working session."
   ]
  },
  {
   "attachments": {},
   "cell_type": "markdown",
   "metadata": {},
   "source": [
    "## Sliding Window Pattern\n",
    "\n",
    "View notes in `review/sliding-window.ipynb` \n",
    "\n",
    "The k-beauty of an integer num is defined as the number of substrings of num when it is read as a string that meet the following conditions:\n",
    "\n",
    "It has a length of k\n",
    "It is a divisor of num.\n",
    "\n",
    "Given integers num and k, return the k-beauty of num.\n",
    "\n",
    "Note:\n",
    "Leading zeros are allowed.\n",
    "0 is not a divisor of any value.\n",
    "\n",
    "A substring is a contiguous sequence of characters in a string.\n",
    "\n",
    "Submit here: https://leetcode.com/problems/find-the-k-beauty-of-a-number/ "
   ]
  },
  {
   "attachments": {},
   "cell_type": "markdown",
   "metadata": {},
   "source": [
    "## Debugging Q\n",
    "\n",
    "What is wrong with the following syntax?"
   ]
  },
  {
   "cell_type": "code",
   "execution_count": 4,
   "metadata": {},
   "outputs": [],
   "source": [
    "import psycopg2\n",
    "\n",
    "params = {\n",
    "    \"host\"      : \"localhost\",\n",
    "    \"dbname\"    : \"flights\",\n",
    "    \"user\"      : \"postgres\",\n",
    "    \"password\"  : \"password\",\n",
    "    \"port\" : \"5434\"     \n",
    "}\n",
    "\n",
    "conn = psycopg2.connect(**params)\n",
    "\n",
    "cursor = conn.cursor()\n",
    "cursor.execute(\"\"\"\n",
    "DELETE FROM real_flight\n",
    "    WHERE diverted = '1'\n",
    "\n",
    "DELETE FROM real_flight\n",
    "    WHERE cancelled = '1'\n",
    "\"\"\")\n",
    "cursor.commit()\n",
    "cursor.close()\n"
   ]
  }
 ],
 "metadata": {
  "kernelspec": {
   "display_name": "Python 3",
   "language": "python",
   "name": "python3"
  },
  "language_info": {
   "codemirror_mode": {
    "name": "ipython",
    "version": 3
   },
   "file_extension": ".py",
   "mimetype": "text/x-python",
   "name": "python",
   "nbconvert_exporter": "python",
   "pygments_lexer": "ipython3",
   "version": "3.10.7"
  },
  "orig_nbformat": 4,
  "vscode": {
   "interpreter": {
    "hash": "369f2c481f4da34e4445cda3fffd2e751bd1c4d706f27375911949ba6bb62e1c"
   }
  }
 },
 "nbformat": 4,
 "nbformat_minor": 2
}
