{
 "cells": [
  {
   "attachments": {},
   "cell_type": "markdown",
   "metadata": {},
   "source": [
    "## Coding Exercise\n",
    "\n",
    "Create a function called `vowelCheck` that returns true if a string called `s` contains more than one vowel, and returns `false` if it is made solely of consonants. \n",
    "\n",
    "You will use a provided list called `vowels` which includes all vowels.\n",
    "\n",
    "Complete your work in the file labeled `lab_exercise.ipynb`.\n",
    "\n",
    "Example 1:\n",
    "```\n",
    "Input: s = \"hello\"\n",
    "Output: True\n",
    "Explanation: \"e\" and \"o\" are vowels.\n",
    "```\n",
    "\n",
    "Example 2:\n",
    "```\n",
    "Input: s = \"rhythms\"\n",
    "Output: False\n",
    "Explanation: Only consonants present.\n",
    "```"
   ]
  },
  {
   "attachments": {},
   "cell_type": "markdown",
   "metadata": {},
   "source": [
    "## 26. Remove Duplicates from Sorted Array\n",
    "\n",
    "Given an integer array nums sorted in non-decreasing order, remove the duplicates in-place such that each unique element appears only once. The relative order of the elements should be kept the same.\n",
    "\n",
    "Since it is impossible to change the length of the array in some languages, you must instead have the result be placed in the first part of the array nums. More formally, if there are k elements after removing the duplicates, then the first k elements of nums should hold the final result. It does not matter what you leave beyond the first k elements.\n",
    "\n",
    "Return k after placing the final result in the first k slots of nums.\n",
    "\n",
    "Do not allocate extra space for another array. You must do this by modifying the input array in-place with O(1) extra memory.\n",
    "\n",
    "Custom Judge:\n",
    "\n",
    "The judge will test your solution with the following code:\n",
    "```\n",
    "int[] nums = [...]; // Input array\n",
    "int[] expectedNums = [...]; // The expected answer with correct length\n",
    "\n",
    "int k = removeDuplicates(nums); // Calls your implementation\n",
    "\n",
    "assert k == expectedNums.length;\n",
    "for (int i = 0; i < k; i++) {\n",
    "    assert nums[i] == expectedNums[i];\n",
    "}\n",
    "```\n",
    "\n",
    "If all assertions pass, then your solution will be accepted.\n",
    "\n",
    "Example 1:\n",
    "```\n",
    "Input: nums = [1,1,2]\n",
    "Output: 2, nums = [1,2,_]\n",
    "Explanation: Your function should return k = 2, with the first two elements of nums being 1 and 2 respectively.\n",
    "It does not matter what you leave beyond the returned k (hence they are underscores).\n",
    "```\n",
    "\n",
    "Example 2:\n",
    "```\n",
    "Input: nums = [0,0,1,1,1,2,2,3,3,4]\n",
    "Output: 5, nums = [0,1,2,3,4,_,_,_,_,_]\n",
    "Explanation: Your function should return k = 5, with the first five elements of nums being 0, 1, 2, 3, and 4 respectively.\n",
    "It does not matter what you leave beyond the returned k (hence they are underscores).\n",
    "```\n",
    "\n",
    "https://leetcode.com/problems/remove-duplicates-from-sorted-array/"
   ]
  },
  {
   "attachments": {},
   "cell_type": "markdown",
   "metadata": {},
   "source": [
    "## Grouping\n",
    "\n",
    "Grouping allows us to establish different groups on data and then compute specific aggregates.\n",
    "\n",
    "Previously, we’ve created separate dataframes and filtered for each year, but in this case we can utilize a built-in function called “groupby”\n",
    "\n",
    "While printing this variable does not give us any descriptive information, we can figure out which groups were formed from this operation.\n"
   ]
  },
  {
   "cell_type": "code",
   "execution_count": null,
   "metadata": {},
   "outputs": [],
   "source": [
    "import pandas as pd\n",
    "\n",
    "df = pd.read_csv(\"../data/imdb_processed.csv\")\n",
    "groups = df.groupby(\"year\")\n",
    "\n",
    "groups.groups"
   ]
  },
  {
   "attachments": {},
   "cell_type": "markdown",
   "metadata": {},
   "source": [
    "\n",
    "We can hone into the specific group we need by accessing the value of a specific key."
   ]
  },
  {
   "cell_type": "code",
   "execution_count": 18,
   "metadata": {},
   "outputs": [
    {
     "data": {
      "text/html": [
       "<div>\n",
       "<style scoped>\n",
       "    .dataframe tbody tr th:only-of-type {\n",
       "        vertical-align: middle;\n",
       "    }\n",
       "\n",
       "    .dataframe tbody tr th {\n",
       "        vertical-align: top;\n",
       "    }\n",
       "\n",
       "    .dataframe thead th {\n",
       "        text-align: right;\n",
       "    }\n",
       "</style>\n",
       "<table border=\"1\" class=\"dataframe\">\n",
       "  <thead>\n",
       "    <tr style=\"text-align: right;\">\n",
       "      <th></th>\n",
       "      <th>index</th>\n",
       "      <th>title</th>\n",
       "      <th>year</th>\n",
       "      <th>kind</th>\n",
       "      <th>genre</th>\n",
       "      <th>rating</th>\n",
       "      <th>vote</th>\n",
       "      <th>country</th>\n",
       "      <th>language</th>\n",
       "      <th>cast</th>\n",
       "      <th>director</th>\n",
       "      <th>composer</th>\n",
       "      <th>writer</th>\n",
       "      <th>runtime</th>\n",
       "    </tr>\n",
       "  </thead>\n",
       "  <tbody>\n",
       "    <tr>\n",
       "      <th>232</th>\n",
       "      <td>232</td>\n",
       "      <td>Battalion of Seaforth Highlanders at the Dubli...</td>\n",
       "      <td>1905</td>\n",
       "      <td>movie</td>\n",
       "      <td>['Documentary', 'Short']</td>\n",
       "      <td>NaN</td>\n",
       "      <td>NaN</td>\n",
       "      <td>['United States']</td>\n",
       "      <td>['None', 'English']</td>\n",
       "      <td>NaN</td>\n",
       "      <td>NaN</td>\n",
       "      <td>NaN</td>\n",
       "      <td>NaN</td>\n",
       "      <td>72.0</td>\n",
       "    </tr>\n",
       "    <tr>\n",
       "      <th>270</th>\n",
       "      <td>270</td>\n",
       "      <td>Battalion of Seaforth Highlanders at the Dubli...</td>\n",
       "      <td>1905</td>\n",
       "      <td>movie</td>\n",
       "      <td>['Documentary', 'Short']</td>\n",
       "      <td>NaN</td>\n",
       "      <td>NaN</td>\n",
       "      <td>['United States']</td>\n",
       "      <td>['None', 'English']</td>\n",
       "      <td>NaN</td>\n",
       "      <td>NaN</td>\n",
       "      <td>NaN</td>\n",
       "      <td>NaN</td>\n",
       "      <td>120.0</td>\n",
       "    </tr>\n",
       "    <tr>\n",
       "      <th>3472</th>\n",
       "      <td>3472</td>\n",
       "      <td>Battalion of Seaforth Highlanders at the Dubli...</td>\n",
       "      <td>1905</td>\n",
       "      <td>movie</td>\n",
       "      <td>['Documentary', 'Short']</td>\n",
       "      <td>NaN</td>\n",
       "      <td>NaN</td>\n",
       "      <td>['United States']</td>\n",
       "      <td>['None', 'English']</td>\n",
       "      <td>NaN</td>\n",
       "      <td>NaN</td>\n",
       "      <td>NaN</td>\n",
       "      <td>NaN</td>\n",
       "      <td>87.0</td>\n",
       "    </tr>\n",
       "    <tr>\n",
       "      <th>8055</th>\n",
       "      <td>8055</td>\n",
       "      <td>Battalion of Seaforth Highlanders at the Dubli...</td>\n",
       "      <td>1905</td>\n",
       "      <td>movie</td>\n",
       "      <td>['Documentary', 'Short']</td>\n",
       "      <td>NaN</td>\n",
       "      <td>NaN</td>\n",
       "      <td>['United States']</td>\n",
       "      <td>['None', 'English']</td>\n",
       "      <td>NaN</td>\n",
       "      <td>NaN</td>\n",
       "      <td>NaN</td>\n",
       "      <td>NaN</td>\n",
       "      <td>NaN</td>\n",
       "    </tr>\n",
       "    <tr>\n",
       "      <th>8434</th>\n",
       "      <td>8434</td>\n",
       "      <td>Battalion of Seaforth Highlanders at the Dubli...</td>\n",
       "      <td>1905</td>\n",
       "      <td>movie</td>\n",
       "      <td>['Documentary', 'Short']</td>\n",
       "      <td>NaN</td>\n",
       "      <td>NaN</td>\n",
       "      <td>['United States']</td>\n",
       "      <td>['None', 'English']</td>\n",
       "      <td>NaN</td>\n",
       "      <td>NaN</td>\n",
       "      <td>NaN</td>\n",
       "      <td>NaN</td>\n",
       "      <td>NaN</td>\n",
       "    </tr>\n",
       "  </tbody>\n",
       "</table>\n",
       "</div>"
      ],
      "text/plain": [
       "      index                                              title  year   kind  \\\n",
       "232     232  Battalion of Seaforth Highlanders at the Dubli...  1905  movie   \n",
       "270     270  Battalion of Seaforth Highlanders at the Dubli...  1905  movie   \n",
       "3472   3472  Battalion of Seaforth Highlanders at the Dubli...  1905  movie   \n",
       "8055   8055  Battalion of Seaforth Highlanders at the Dubli...  1905  movie   \n",
       "8434   8434  Battalion of Seaforth Highlanders at the Dubli...  1905  movie   \n",
       "\n",
       "                         genre  rating  vote            country  \\\n",
       "232   ['Documentary', 'Short']     NaN   NaN  ['United States']   \n",
       "270   ['Documentary', 'Short']     NaN   NaN  ['United States']   \n",
       "3472  ['Documentary', 'Short']     NaN   NaN  ['United States']   \n",
       "8055  ['Documentary', 'Short']     NaN   NaN  ['United States']   \n",
       "8434  ['Documentary', 'Short']     NaN   NaN  ['United States']   \n",
       "\n",
       "                 language cast director composer writer  runtime  \n",
       "232   ['None', 'English']  NaN      NaN      NaN    NaN     72.0  \n",
       "270   ['None', 'English']  NaN      NaN      NaN    NaN    120.0  \n",
       "3472  ['None', 'English']  NaN      NaN      NaN    NaN     87.0  \n",
       "8055  ['None', 'English']  NaN      NaN      NaN    NaN      NaN  \n",
       "8434  ['None', 'English']  NaN      NaN      NaN    NaN      NaN  "
      ]
     },
     "execution_count": 18,
     "metadata": {},
     "output_type": "execute_result"
    }
   ],
   "source": [
    "groups.get_group(1905)"
   ]
  },
  {
   "attachments": {},
   "cell_type": "markdown",
   "metadata": {},
   "source": [
    "For our question:\n",
    "\n",
    "\n",
    "Did average ratings of movies increase or decrease for each year?\n",
    "We will utilize our builtin methods once again to calculate the means for each group.\n"
   ]
  },
  {
   "cell_type": "code",
   "execution_count": 27,
   "metadata": {},
   "outputs": [
    {
     "data": {
      "text/plain": [
       "<AxesSubplot:xlabel='year'>"
      ]
     },
     "execution_count": 27,
     "metadata": {},
     "output_type": "execute_result"
    },
    {
     "data": {
      "image/png": "[encoded data removed]",
      "text/plain": [
       "<Figure size 432x288 with 1 Axes>"
      ]
     },
     "metadata": {
      "needs_background": "light"
     },
     "output_type": "display_data"
    }
   ],
   "source": [
    "movies = df[df[\"kind\"] == \"movie\"]\n",
    "\n",
    "means = movies.groupby(\"year\")[\"rating\"].mean()\n",
    "means.plot()"
   ]
  }
 ],
 "metadata": {
  "kernelspec": {
   "display_name": "Python 3",
   "language": "python",
   "name": "python3"
  },
  "language_info": {
   "codemirror_mode": {
    "name": "ipython",
    "version": 3
   },
   "file_extension": ".py",
   "mimetype": "text/x-python",
   "name": "python",
   "nbconvert_exporter": "python",
   "pygments_lexer": "ipython3",
   "version": "3.10.7"
  },
  "orig_nbformat": 4,
  "vscode": {
   "interpreter": {
    "hash": "369f2c481f4da34e4445cda3fffd2e751bd1c4d706f27375911949ba6bb62e1c"
   }
  }
 },
 "nbformat": 4,
 "nbformat_minor": 2
}
