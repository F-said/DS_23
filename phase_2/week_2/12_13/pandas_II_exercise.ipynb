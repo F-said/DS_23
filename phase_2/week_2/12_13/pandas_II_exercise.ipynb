{
 "cells": [
  {
   "attachments": {},
   "cell_type": "markdown",
   "metadata": {},
   "source": [
    "## Individual Coding Exercise\n",
    "\n",
    "Create a Python function called `check` that will check if the number of \"X's\" in a string called `word` equals the number of \"O's\".\n",
    "\n",
    "Example 1:\n",
    "```\n",
    "Input -> \"XOOX\"\n",
    "Return -> True\n",
    "Reason -> There are 2 X's and 2 O's.\n",
    "```\n",
    "\n",
    "Example 2:\n",
    "```\n",
    "Input -> \"XXOOOX\"\n",
    "Return -> True\n",
    "Reason -> There are 3 X's and 3 O's.\n",
    "```\n",
    "\n",
    "Example 3:\n",
    "```\n",
    "Input -> \"XOX\"\n",
    "Return -> False\n",
    "Reason -> There are 2 X's and 1 O.\n",
    "```\n",
    "\n",
    "Example 4:\n",
    "```\n",
    "Input -> \"XXOOOOXX\"\n",
    "Return -> True\n",
    "Reason -> There are 4 X's and 4 O.\n",
    "```\n",
    "\n",
    "Keep time complexity in mind after creating an initial solution"
   ]
  },
  {
   "cell_type": "code",
   "execution_count": null,
   "metadata": {},
   "outputs": [],
   "source": [
    "word1 = \"XOOX\"\n",
    "word2 = \"XXOOOX\"\n",
    "word3 = \"XOX\"\n",
    "word4 = \"XXOOOOXX\"\n",
    "\n",
    "# write code here\n",
    "def check(word):\n",
    "    pass\n",
    "\n",
    "\n",
    "# this should print out true\n",
    "print(check(word1) == True)\n",
    "print(check(word2) == True)\n",
    "print(check(word3) == False)\n",
    "print(check(word4) == True)"
   ]
  },
  {
   "attachments": {},
   "cell_type": "markdown",
   "metadata": {},
   "source": [
    "## Additional Challenge\n",
    "\n",
    "Another requirement we can check is if a string has an equal amount of X's and O's and if its a palindrome. That is, reading it forwards results in the same string as reading it backwards.\n",
    "\n",
    "Create a Python function called `check2` that will check if the number of \"X's\" in a string called `word` equals the number of \"O's\" AND it is a palindrome.\n",
    "\n",
    "This changes a few test-cases. For example while `word2` does have an equal amount of X's and O's it is not a palindrome, so therefore we return false.\n",
    "\n",
    "Example 1:\n",
    "```\n",
    "Input -> \"XOOX\"\n",
    "Return -> True\n",
    "Reason -> There are 2 X's and 2 O's, and it is a palindrome.\n",
    "```\n",
    "\n",
    "Example 2:\n",
    "```\n",
    "Input -> \"XXOOOX\"\n",
    "Return -> False\n",
    "Reason -> There are 3 X's and 3 O's, but it is not a palindrome.\n",
    "```\n",
    "\n",
    "Example 3:\n",
    "```\n",
    "Input -> \"XOX\"\n",
    "Return -> False\n",
    "Reason -> There are 2 X's and 1 O.\n",
    "```\n",
    "\n",
    "Example 4:\n",
    "```\n",
    "Input -> \"XXOOOOXX\"\n",
    "Return -> True\n",
    "Reason -> There are 4 X's and 4 O, and it is a palindrome.\n",
    "```\n",
    "\n",
    "Keep time complexity in mind after creating an initial solution. "
   ]
  },
  {
   "cell_type": "code",
   "execution_count": 4,
   "metadata": {},
   "outputs": [
    {
     "name": "stdout",
     "output_type": "stream",
     "text": [
      "True\n",
      "True\n",
      "True\n",
      "True\n"
     ]
    }
   ],
   "source": [
    "word1 = \"XOOX\"\n",
    "word2 = \"XXOOOX\"\n",
    "word3 = \"XOX\"\n",
    "word4 = \"XXOOOOXX\"\n",
    "\n",
    "# write code here\n",
    "def check2(word):\n",
    "    pass\n",
    "\n",
    "# these all should print out true\n",
    "print(check2(word1) == True)\n",
    "print(check2(word2) == False)\n",
    "print(check2(word3) == False)\n",
    "print(check2(word4) == True)"
   ]
  }
 ],
 "metadata": {
  "kernelspec": {
   "display_name": "Python 3",
   "language": "python",
   "name": "python3"
  },
  "language_info": {
   "codemirror_mode": {
    "name": "ipython",
    "version": 3
   },
   "file_extension": ".py",
   "mimetype": "text/x-python",
   "name": "python",
   "nbconvert_exporter": "python",
   "pygments_lexer": "ipython3",
   "version": "3.10.7 (tags/v3.10.7:6cc6b13, Sep  5 2022, 14:08:36) [MSC v.1933 64 bit (AMD64)]"
  },
  "orig_nbformat": 4,
  "vscode": {
   "interpreter": {
    "hash": "369f2c481f4da34e4445cda3fffd2e751bd1c4d706f27375911949ba6bb62e1c"
   }
  }
 },
 "nbformat": 4,
 "nbformat_minor": 2
}
