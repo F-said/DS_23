{
 "cells": [
  {
   "attachments": {},
   "cell_type": "markdown",
   "metadata": {},
   "source": [
    "## Coding Exercise\n",
    "\n",
    "I have a list of tuples that contain two numbers each. How can I programmatically \"flatten\" this list. That is how can I turn the following two-dimensional list:\n",
    "\n",
    "```python\n",
    "[(1, 2), (3, 5), (4, 9), (8, 1), (3, 4)]\n",
    "```\n",
    "\n",
    "Into the following one-dimensional list:\n",
    "\n",
    "```python \n",
    "[1, 2, 3, 5, 4, 9, 8, 1, 3, 4]\n",
    "```\n",
    "\n",
    "Assume the following:\n",
    "* Our list of tuples is called `tups`.\n",
    "* There will always only be 2 elements in each tuple.\n",
    "* While we have example data, our list will not always have the same length (you cannot use `for i in range`)"
   ]
  },
  {
   "cell_type": "code",
   "execution_count": 7,
   "metadata": {},
   "outputs": [
    {
     "data": {
      "text/plain": [
       "[1, 2, 3, 5, 4, 9, 8, 1, 3, 4]"
      ]
     },
     "execution_count": 7,
     "metadata": {},
     "output_type": "execute_result"
    }
   ],
   "source": [
    "tups = [(1, 2), (3, 5), (4, 9), (8, 1), (3, 4)]\n",
    "\n",
    "# write code here\n"
   ]
  },
  {
   "attachments": {},
   "cell_type": "markdown",
   "metadata": {},
   "source": [
    "## Solution & Explanation\n",
    "\n",
    "To \"unfold\" this 2D data-structure, we must firstly loop through our list of tuples.\n",
    "\n",
    "```python\n",
    "for t in tups:\n",
    "    print(t)\n",
    "```\n",
    "\n",
    "At this iteration of our program, we will be able to get each tuple and assign it to the variable `t`. This association allows us to perform discrete methods on the tuple data-structure located inside of this list.\n",
    "\n",
    "From there we can simply append the first and last element of `t` to a new empty list.\n",
    "\n",
    "```python\n",
    "newlst = []\n",
    "for t in tups:\n",
    "    newlst.append(t[0])\n",
    "    newlst.append(t[1])\n",
    "```"
   ]
  },
  {
   "cell_type": "code",
   "execution_count": null,
   "metadata": {},
   "outputs": [],
   "source": [
    "newlst = []\n",
    "for t in tups:\n",
    "    newlst.append(t[0])\n",
    "    newlst.append(t[1])"
   ]
  },
  {
   "attachments": {},
   "cell_type": "markdown",
   "metadata": {},
   "source": [
    "## Pandas\n",
    "\n",
    "So far we’ve learned about various Python packages. These packages allow us to not “reinvent” the wheel and whip up functional code in the least amount of time & effort.\n",
    "\n",
    "One of those packages is Pandas (Panel Data). Developed by researcher while working at financial research firm.\n",
    "\n",
    "What does pandas allow us to do?\n",
    "* Data manipulation, visualization, analysis all in one package.\n",
    "* No more `csv` module!\n",
    "* Low barrier of entry for maximum functionality\n",
    "* Same data manipulation we do in Excel & SQL but in Python\n",
    "\n",
    "Install pandas in your terminal via\n",
    "* `pip3 install pandas` (MacOS)\n",
    "* `pip install pandas` (Windows)\n"
   ]
  },
  {
   "attachments": {},
   "cell_type": "markdown",
   "metadata": {},
   "source": [
    "## OOP Review\n",
    "\n",
    "In its simplest form, Python is just a sequence of methods being called on objects.\n",
    "This is the core of Object Oriented Programming.\n",
    "\n",
    "```python\n",
    "x = []\n",
    "x.append(3)\n",
    "x.remove(3)\n",
    "```\n",
    "\n",
    "If we understand this pattern, we can apply it to any other package and even other OOP programming languages. \n",
    "\n",
    "Namely, we can apply this pattern to pandas in order to do complex operations using just pre-built methods.\n",
    "\n",
    "In pandas our most commonly used object is a DataFrame"
   ]
  },
  {
   "attachments": {},
   "cell_type": "markdown",
   "metadata": {},
   "source": [
    "## DataFrames\n",
    "\n",
    "DataFrames are your source of data that you will transform, mutate, split, and feed into machine learning models.\n",
    "To create our DataFrame we have a number of options.\n",
    "* Load in from csv file\n",
    "* Create from dictionary\n",
    "* Create from list"
   ]
  },
  {
   "attachments": {},
   "cell_type": "markdown",
   "metadata": {},
   "source": [
    "## List of Lists\n",
    "\n",
    "This dataframe will describe orders from a website with columns `OrderID`, `Item`, `Quantity`."
   ]
  },
  {
   "cell_type": "code",
   "execution_count": null,
   "metadata": {},
   "outputs": [],
   "source": [
    "# Firstly, let’s create a list of 3 lists:\n",
    "\n",
    "\n",
    "# Next, let’s create a list of column names.\n",
    "\n",
    "\n",
    "# Let’s combine these two data structures into a DataFrame to get the following data-structure.\n",
    "\n",
    "\n",
    "# set its index.\n"
   ]
  },
  {
   "attachments": {},
   "cell_type": "markdown",
   "metadata": {},
   "source": [
    "## Mutating a DataFrame\n",
    "\n",
    "Notice how this did not actually change our dataframe. What must be going on? \n",
    "\n",
    "For some functions, we must specify `inplace = True` for our changes to stick to the original dataframe.\n",
    "\n",
    "This shows that when we are mutating our dataframes. We must do one of the two:\n",
    "* Save your mutated dataframe into a new variable (preferably of a different name). \n",
    "* Specify `inplace = True`. We only do this for small mutations that are related to our set-up.\n",
    "\n",
    "\n",
    "We’ll see this come up again.\n"
   ]
  },
  {
   "attachments": {},
   "cell_type": "markdown",
   "metadata": {},
   "source": [
    "## Dictionary \n",
    "\n",
    "This dataframe will be the same as before, orders from a website with columns `OrderID`, `Item`, `Quantity`."
   ]
  },
  {
   "cell_type": "code",
   "execution_count": null,
   "metadata": {},
   "outputs": [],
   "source": [
    "# Firstly, let’s create a dictionary where each column is a string key, and each value is a \n",
    "# list describing the data in our column.\n",
    "\n",
    "\n",
    "# We simply pass this dictionary into our DataFrame.\n",
    "\n",
    "\n",
    "# how do we set its index?\n",
    "\n"
   ]
  },
  {
   "attachments": {},
   "cell_type": "markdown",
   "metadata": {},
   "source": [
    "## CSV\n",
    "\n",
    "Most often, we find ourselves simply loading in data from an already present CSV file."
   ]
  },
  {
   "cell_type": "code",
   "execution_count": null,
   "metadata": {},
   "outputs": [],
   "source": [
    "# load in csv file\n",
    "\n"
   ]
  },
  {
   "attachments": {},
   "cell_type": "markdown",
   "metadata": {},
   "source": [
    "## Why bother with first two?\n",
    "\n",
    "If we are almost always loading in csv files, why do we even bother with the other approaches (create from list of lists, dictionary)?\n",
    "* Sometimes we create are creating a DataFrame from another non-csv data source (API, bs4)\n",
    "* Sometimes we are building a DataFrame from another DataFrame\n",
    "* Base Answer: Knowing a variety of data representations make us more powerful data engineers.\n",
    "* Shallow Answer: Employers expect us to."
   ]
  },
  {
   "attachments": {},
   "cell_type": "markdown",
   "metadata": {},
   "source": [
    "## MetaData\n",
    "\n",
    "What is metadata? Essentially, it is another word for the statistics of our dataset.\n",
    "Ex: How many rows do we have? How many columns? \n",
    "\n",
    "We have a plethora of functions based on our needs.\n",
    "* Get dimensions of dataframe.\n",
    "* Get column names of dataframe.\n",
    "* Get data types of dataframe.\n",
    "* Get summary statistics of dataframe"
   ]
  },
  {
   "cell_type": "code",
   "execution_count": null,
   "metadata": {},
   "outputs": [],
   "source": [
    "# print out dimensions of your data\n",
    "\n",
    "\n",
    "# print out columns of your data\n",
    "\n",
    "\n",
    "# get info on your data\n",
    "\n",
    "\n",
    "# get summary statistics on your data\n",
    "\n"
   ]
  },
  {
   "attachments": {},
   "cell_type": "markdown",
   "metadata": {},
   "source": [
    "## Features & Samples\n",
    "\n",
    "Features indicate the details of a sample. Details are encapsulated in columns.\n",
    "\n",
    "Samples indicate discrete and separate data points. Each row describes a sample."
   ]
  },
  {
   "attachments": {},
   "cell_type": "markdown",
   "metadata": {},
   "source": [
    "## Accessing Data\n",
    "\n",
    "One of the greatest utilities of pandas is that we can access data within a DataFrame using the same principles that have been guiding us so far.\n",
    "* Indexing\n",
    "* Key-Value Accessing\n",
    "* Looping\n"
   ]
  },
  {
   "attachments": {},
   "cell_type": "markdown",
   "metadata": {},
   "source": [
    "## Indexing\n",
    "\n",
    "Using index position to get the values of a dataframe.\n",
    "\n",
    "Using the same principle as `lists`, we can access rows using the `loc` function & square bracket notation!\n",
    "\n",
    "Keep in mind however that we are interacting with a 2D dataset, so it would be nice if we can use two dimensions to access data. (RC Cola)"
   ]
  },
  {
   "cell_type": "code",
   "execution_count": null,
   "metadata": {},
   "outputs": [],
   "source": [
    "x = [\"Hyundai\", \"Honda\", \"BMW\", \"Toyota\", \"Ford\", \"Chevrolet\"]\n",
    "\n",
    "# how do I get the 3rd element?"
   ]
  },
  {
   "cell_type": "code",
   "execution_count": null,
   "metadata": {},
   "outputs": [],
   "source": [
    "import pandas as pd\n",
    "df = pd.read_csv(\"../data/top_movies.csv\")\n",
    "\n",
    "# get the 3rd row of this df\n",
    "\n",
    "\n",
    "# get the 3rd row of the \"Movie_Name\" column\n"
   ]
  },
  {
   "attachments": {},
   "cell_type": "markdown",
   "metadata": {},
   "source": [
    "## Key-Values (Columns)\n",
    "\n",
    "Just as we access the values of keys in a dictionary, we can access the data in one column by using similar syntax."
   ]
  },
  {
   "cell_type": "code",
   "execution_count": 25,
   "metadata": {},
   "outputs": [
    {
     "data": {
      "text/plain": [
       "[24000, 11000, 27000]"
      ]
     },
     "execution_count": 25,
     "metadata": {},
     "output_type": "execute_result"
    }
   ],
   "source": [
    "import pandas as pd\n",
    "\n",
    "data = {\n",
    "    \"make\": [\"Toyota\", \"Honda\", \"Ford\"],\n",
    "    \"year\": [\"2021\", \"2011\", \"2020\"],\n",
    "    \"model\": [\"Camry XLE\", \"CR-V EX\", \"Explorer\"],\n",
    "    \"price\": [24_000, 11_000, 27_000],\n",
    "    \"status\": [\"used\", \"used\", \"used\"]\n",
    "}\n",
    "\n",
    "# how do I get the price list?"
   ]
  },
  {
   "cell_type": "code",
   "execution_count": null,
   "metadata": {},
   "outputs": [],
   "source": [
    "import pandas as pd\n",
    "df = pd.read_csv(\"../data/top_movies.csv\")\n",
    "\n",
    "# get the \"Movie_Name\" column\n",
    "\n"
   ]
  },
  {
   "attachments": {},
   "cell_type": "markdown",
   "metadata": {},
   "source": [
    "## Looping\n",
    "\n",
    "Doing these discrete actions and queries for data is great.\n",
    "\n",
    "However we can do even more operations if we know how to loop through a DataFrame. What does this result in?"
   ]
  },
  {
   "cell_type": "code",
   "execution_count": null,
   "metadata": {},
   "outputs": [],
   "source": [
    "for row in df:\n",
    "    print(row)"
   ]
  },
  {
   "attachments": {},
   "cell_type": "markdown",
   "metadata": {},
   "source": [
    "Just like a dictionary, this gives only column names.\n",
    "\n",
    "To get data we have a # of options. For now we will start using `iterrows()`"
   ]
  },
  {
   "cell_type": "code",
   "execution_count": 32,
   "metadata": {},
   "outputs": [
    {
     "name": "stdout",
     "output_type": "stream",
     "text": [
      "The Shawshank Redemption\n",
      "The Godfather\n",
      "The Dark Knight\n",
      "The Godfather Part II\n",
      "12 Angry Men\n",
      "Schindler's List\n",
      "The Lord of the Rings: The Return of the King\n",
      "Pulp Fiction\n",
      "The Lord of the Rings: The Fellowship of the Ring\n",
      "Il buono, il brutto, il cattivo\n",
      "Forrest Gump\n",
      "Fight Club\n",
      "The Lord of the Rings: The Two Towers\n",
      "Inception\n",
      "The Empire Strikes Back\n",
      "The Matrix\n",
      "Goodfellas\n",
      "One Flew Over the Cuckoo's Nest\n",
      "Se7en\n",
      "Shichinin no samurai\n",
      "It's a Wonderful Life\n",
      "The Silence of the Lambs\n",
      "Cidade de Deus\n",
      "Saving Private Ryan\n",
      "La vita è bella\n",
      "Interstellar\n",
      "The Green Mile\n",
      "Star Wars\n",
      "Terminator 2: Judgment Day\n",
      "Back to the Future\n",
      "Sen to Chihiro no kamikakushi\n",
      "Psycho\n",
      "The Pianist\n",
      "Gisaengchung\n",
      "Léon\n",
      "The Lion King\n",
      "Gladiator\n",
      "American History X\n",
      "The Departed\n",
      "The Usual Suspects\n",
      "The Prestige\n",
      "Whiplash\n",
      "Casablanca\n",
      "Seppuku\n",
      "The Intouchables\n",
      "Hotaru no haka\n",
      "Modern Times\n",
      "Once Upon a Time in the West\n",
      "Rear Window\n",
      "Nuovo Cinema Paradiso\n",
      "Alien\n",
      "City Lights\n",
      "Apocalypse Now\n",
      "Memento\n",
      "Raiders of the Lost Ark\n",
      "Django Unchained\n",
      "WALL·E\n",
      "The Lives of Others\n",
      "Sunset Blvd.\n",
      "Paths of Glory\n",
      "The Great Dictator\n",
      "The Shining\n",
      "Avengers: Infinity War\n",
      "Witness for the Prosecution\n",
      "Aliens\n",
      "Spider-Man: Into the Spider-Verse\n",
      "American Beauty\n",
      "Dr. Strangelove or: How I Learned to Stop Worrying and Love the Bomb\n",
      "The Dark Knight Rises\n",
      "Oldeuboi\n",
      "Amadeus\n",
      "Joker\n",
      "Inglourious Basterds\n",
      "Coco\n",
      "Toy Story\n",
      "Braveheart\n",
      "Das Boot\n",
      "Avengers: Endgame\n",
      "Mononoke-hime\n",
      "Once Upon a Time in America\n",
      "Good Will Hunting\n",
      "Top Gun: Maverick\n",
      "Kimi no Na wa.\n",
      "Requiem for a Dream\n",
      "Singin' in the Rain\n",
      "3 Idiots\n",
      "Toy Story 3\n",
      "Tengoku to jigoku\n",
      "Star Wars: Episode VI - Return of the Jedi\n",
      "Capharnaüm\n",
      "Eternal Sunshine of the Spotless Mind\n",
      "2001: A Space Odyssey\n",
      "Reservoir Dogs\n",
      "Jagten\n",
      "Idi i smotri\n",
      "Citizen Kane\n",
      "M - Eine Stadt sucht einen Mörder\n",
      "Lawrence of Arabia\n",
      "North by Northwest\n",
      "Vertigo\n",
      "Le fabuleux destin d'Amélie Poulain\n",
      "A Clockwork Orange\n",
      "The Apartment\n",
      "Ikiru\n",
      "Double Indemnity\n",
      "Full Metal Jacket\n",
      "Hamilton\n",
      "Scarface\n",
      "The Sting\n",
      "To Kill a Mockingbird\n",
      "Incendies\n",
      "Up\n",
      "Heat\n",
      "Taxi Driver\n",
      "Jodaeiye Nader az Simin\n",
      "Metropolis\n",
      "L.A. Confidential\n",
      "Snatch\n",
      "Die Hard\n",
      "Ladri di biciclette\n",
      "Indiana Jones and the Last Crusade\n",
      "Taare Zameen Par\n",
      "1917\n",
      "Der Untergang\n",
      "Per qualche dollaro in più\n",
      "Dangal\n",
      "Batman Begins\n",
      "The Kid\n",
      "Some Like It Hot\n",
      "The Father\n",
      "All About Eve\n",
      "Green Book\n",
      "The Wolf of Wall Street\n",
      "Judgment at Nuremberg\n",
      "Ran\n",
      "Casino\n",
      "Pan's Labyrinth\n",
      "Unforgiven\n",
      "There Will Be Blood\n",
      "The Truman Show\n",
      "The Sixth Sense\n",
      "A Beautiful Mind\n",
      "Spider-Man: No Way Home\n",
      "Yôjinbô\n",
      "Shutter Island\n",
      "Monty Python and the Holy Grail\n",
      "The Treasure of the Sierra Madre\n",
      "Jurassic Park\n",
      "The Great Escape\n",
      "Rashômon\n",
      "Kill Bill: Vol. 1\n",
      "No Country for Old Men\n",
      "Finding Nemo\n",
      "The Thing\n",
      "The Elephant Man\n",
      "Chinatown\n",
      "Raging Bull\n",
      "Gone with the Wind\n",
      "V for Vendetta\n",
      "Inside Out\n",
      "Lock, Stock and Two Smoking Barrels\n",
      "Dial M for Murder\n",
      "El secreto de sus ojos\n",
      "Hauru no ugoku shiro\n",
      "The Bridge on the River Kwai\n",
      "Three Billboards Outside Ebbing, Missouri\n",
      "Trainspotting\n",
      "Warrior\n",
      "Fargo\n",
      "Gran Torino\n",
      "Prisoners\n",
      "Tonari no Totoro\n",
      "Million Dollar Baby\n",
      "Catch Me If You Can\n",
      "Bacheha-Ye aseman\n",
      "The Gold Rush\n",
      "Blade Runner\n",
      "On the Waterfront\n",
      "Before Sunrise\n",
      "12 Years a Slave\n",
      "Harry Potter and the Deathly Hallows - Part 2\n",
      "Ben-Hur\n",
      "Smultronstället\n",
      "The Third Man\n",
      "Gone Girl\n",
      "The General\n",
      "The Grand Budapest Hotel\n",
      "The Deer Hunter\n",
      "In the Name of the Father\n",
      "Barry Lyndon\n",
      "Le salaire de la peur\n",
      "Klaus\n",
      "Hacksaw Ridge\n",
      "Mr. Smith Goes to Washington\n",
      "Sherlock Jr.\n",
      "Salinui chueok\n",
      "Relatos salvajes\n",
      "Det sjunde inseglet\n",
      "Room\n",
      "Mad Max: Fury Road\n",
      "Mary and Max.\n",
      "How to Train Your Dragon\n",
      "The Big Lebowski\n",
      "Monsters, Inc.\n",
      "Jaws\n",
      "Dead Poets Society\n",
      "La passion de Jeanne d'Arc\n",
      "Tôkyô monogatari\n",
      "Hotel Rwanda\n",
      "Ford v Ferrari\n",
      "Rocky\n",
      "Platoon\n",
      "Stand by Me\n",
      "Spotlight\n",
      "The Terminator\n",
      "Logan\n",
      "Ratatouille\n",
      "Pather Panchali\n",
      "Rush\n",
      "Network\n",
      "Into the Wild\n",
      "The Wizard of Oz\n",
      "Before Sunset\n",
      "Groundhog Day\n",
      "The Exorcist\n",
      "The Best Years of Our Lives\n",
      "The Incredibles\n",
      "La battaglia di Algeri\n",
      "To Be or Not to Be\n",
      "Jai Bhim\n",
      "Hachi: A Dog's Tale\n",
      "Babam ve Oglum\n",
      "The Grapes of Wrath\n",
      "Pirates of the Caribbean: The Curse of the Black Pearl\n",
      "La haine\n",
      "Amores perros\n",
      "Rebecca\n",
      "Cool Hand Luke\n",
      "Everything Everywhere All at Once\n",
      "Les quatre cents coups\n",
      "Ah-ga-ssi\n",
      "The Sound of Music\n",
      "It Happened One Night\n",
      "Persona\n",
      "Life of Brian\n",
      "Dersu Uzala\n",
      "Aladdin\n",
      "The Help\n",
      "The Iron Giant\n",
      "Gandhi\n"
     ]
    }
   ],
   "source": [
    "df = pd.read_csv(\"../data/top_movies.csv\")\n",
    "# loop using iterrows\n"
   ]
  }
 ],
 "metadata": {
  "kernelspec": {
   "display_name": "Python 3.10.7 64-bit",
   "language": "python",
   "name": "python3"
  },
  "language_info": {
   "codemirror_mode": {
    "name": "ipython",
    "version": 3
   },
   "file_extension": ".py",
   "mimetype": "text/x-python",
   "name": "python",
   "nbconvert_exporter": "python",
   "pygments_lexer": "ipython3",
   "version": "3.10.7"
  },
  "orig_nbformat": 4,
  "vscode": {
   "interpreter": {
    "hash": "369f2c481f4da34e4445cda3fffd2e751bd1c4d706f27375911949ba6bb62e1c"
   }
  }
 },
 "nbformat": 4,
 "nbformat_minor": 2
}
