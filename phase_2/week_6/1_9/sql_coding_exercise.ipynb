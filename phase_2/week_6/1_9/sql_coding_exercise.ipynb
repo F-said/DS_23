{
 "cells": [
  {
   "attachments": {},
   "cell_type": "markdown",
   "metadata": {},
   "source": [
    "## SQL Exercises\n",
    "\n",
    "Set up your database by placing the following queries in the following compiler: https://onecompiler.com/postgresql\n",
    "\n",
    "Create the queries listed in questions 1 through 5."
   ]
  },
  {
   "cell_type": "code",
   "execution_count": null,
   "metadata": {
    "vscode": {
     "languageId": "sql"
    }
   },
   "outputs": [],
   "source": [
    "create table bakers(\n",
    "      baker        varchar(10) primary key\n",
    "      , fullname   varchar(100)\n",
    "      , age        int\n",
    "      , occupation varchar(100)\n",
    "      , hometown   varchar(100)\n",
    ");\n",
    "\n",
    "\n",
    "insert into bakers values('Antony','Antony Amourdoux',30,'Banker','London');\n",
    "insert into bakers values('Briony','Briony Williams',33 ,'Full-time parent','Bristol');\n",
    "insert into bakers values('Dan','Dan Beasley-Harling',36 ,'Full-time parent','London');\n",
    "insert into bakers values('Imelda','Imelda McCarron',33 ,'Countryside recreation officer','County Tyrone');\n",
    "insert into bakers values('Jon','Jon Jenkins',47 ,'Blood courier','Newport');\n",
    "insert into bakers values('Karen','Karen Wright',60 ,'In-store sampling assistant','Wakefield');\n",
    "insert into bakers values('Kim-Joy','Kim-Joy Hewlett',27 ,'Mental health specialist','Leeds');\n",
    "insert into bakers values('Luke','Luke Thompson',30 ,'Civil servant/house and techno DJ','Sheffield');\n",
    "insert into bakers values('Manon','Manon Lagrève',26 ,'Software project manager','London');\n",
    "insert into bakers values('Rahul','Rahul Mandal',30 ,'Research scientist','Rotherham');\n",
    "insert into bakers values('Ruby','Ruby Bhogal',29 ,'Project manager','London');\n",
    "insert into bakers values('Terry','Terry Hartill',56 ,'Retired air steward','West Midlands');"
   ]
  },
  {
   "attachments": {},
   "cell_type": "markdown",
   "metadata": {},
   "source": [
    "## Q1\n",
    "\n",
    "Create a query that gets the name of bakers older than 25."
   ]
  },
  {
   "cell_type": "code",
   "execution_count": null,
   "metadata": {
    "vscode": {
     "languageId": "sql"
    }
   },
   "outputs": [],
   "source": []
  },
  {
   "attachments": {},
   "cell_type": "markdown",
   "metadata": {},
   "source": [
    "## Q2\n",
    "\n",
    "Create a query that gets the uppercased occupation of bakers older than 25."
   ]
  },
  {
   "cell_type": "code",
   "execution_count": null,
   "metadata": {
    "vscode": {
     "languageId": "sql"
    }
   },
   "outputs": [],
   "source": []
  },
  {
   "attachments": {},
   "cell_type": "markdown",
   "metadata": {},
   "source": [
    "## Q3\n",
    "\n",
    "Create a query that gets the name of all bakers from Bristol."
   ]
  },
  {
   "cell_type": "code",
   "execution_count": null,
   "metadata": {
    "vscode": {
     "languageId": "sql"
    }
   },
   "outputs": [],
   "source": []
  },
  {
   "attachments": {},
   "cell_type": "markdown",
   "metadata": {},
   "source": [
    "## Q4\n",
    "\n",
    "Create a query that gets the fullname and occupation of all bakers from London who are between the ages of 40 and 50."
   ]
  },
  {
   "cell_type": "code",
   "execution_count": null,
   "metadata": {
    "vscode": {
     "languageId": "sql"
    }
   },
   "outputs": [],
   "source": []
  },
  {
   "attachments": {},
   "cell_type": "markdown",
   "metadata": {},
   "source": [
    "## Q5\n",
    "\n",
    "Get all bakers whose name starts with the letter K.\n",
    "\n",
    "Consult the internet to create a solution. Alternatively, check out the following link: https://stackoverflow.com/questions/10156965/select-all-where-first-letter-starts-with-b"
   ]
  },
  {
   "cell_type": "code",
   "execution_count": null,
   "metadata": {
    "vscode": {
     "languageId": "sql"
    }
   },
   "outputs": [],
   "source": []
  }
 ],
 "metadata": {
  "kernelspec": {
   "display_name": "Python 3",
   "language": "python",
   "name": "python3"
  },
  "language_info": {
   "name": "python",
   "version": "3.10.7 (tags/v3.10.7:6cc6b13, Sep  5 2022, 14:08:36) [MSC v.1933 64 bit (AMD64)]"
  },
  "orig_nbformat": 4,
  "vscode": {
   "interpreter": {
    "hash": "369f2c481f4da34e4445cda3fffd2e751bd1c4d706f27375911949ba6bb62e1c"
   }
  }
 },
 "nbformat": 4,
 "nbformat_minor": 2
}
