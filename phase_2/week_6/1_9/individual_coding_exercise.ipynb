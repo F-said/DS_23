{
 "cells": [
  {
   "attachments": {},
   "cell_type": "markdown",
   "metadata": {},
   "source": [
    "## 136. Single Number\n",
    "\n",
    "Given a non-empty array of integers nums, every element appears twice except for one. Find that single one.\n",
    "\n",
    "You must implement a solution with a linear runtime complexity and use only constant extra space.\n",
    "\n",
    "Example 1:\n",
    "```\n",
    "Input: nums = [2,2,1]\n",
    "Output: 1\n",
    "```\n",
    "\n",
    "Example 2:\n",
    "```\n",
    "Input: nums = [4,1,2,1,2]\n",
    "Output: 4\n",
    "```\n",
    "\n",
    "Example 3:\n",
    "```\n",
    "Input: nums = [1]\n",
    "Output: 1\n",
    "```\n",
    "\n",
    "Submit solution here: https://leetcode.com/problems/single-number/description/"
   ]
  }
 ],
 "metadata": {
  "kernelspec": {
   "display_name": "Python 3",
   "language": "python",
   "name": "python3"
  },
  "language_info": {
   "name": "python",
   "version": "3.10.7 (tags/v3.10.7:6cc6b13, Sep  5 2022, 14:08:36) [MSC v.1933 64 bit (AMD64)]"
  },
  "orig_nbformat": 4,
  "vscode": {
   "interpreter": {
    "hash": "369f2c481f4da34e4445cda3fffd2e751bd1c4d706f27375911949ba6bb62e1c"
   }
  }
 },
 "nbformat": 4,
 "nbformat_minor": 2
}
