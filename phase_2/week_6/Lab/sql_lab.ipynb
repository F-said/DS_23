{
 "cells": [
  {
   "attachments": {},
   "cell_type": "markdown",
   "metadata": {},
   "source": [
    "## Flight Database\n",
    "\n",
    "We are data analyts at the FAA. After today's debacle with flight delays, we want to calculate how many flights were delayed during the brief 3 hour period for 10 airports across the US.\n",
    "\n",
    "Create & write out the described queries for questions 1-5. For some queries, answer the questions attached.\n",
    "\n",
    "Be sure to work in pgAdmin to save changes to your database. Test out your code using the pgAdmin query tool.\n",
    "\n",
    "Execute the following query in your pgAdmin before starting this lab:"
   ]
  },
  {
   "cell_type": "code",
   "execution_count": null,
   "metadata": {
    "vscode": {
     "languageId": "sql"
    }
   },
   "outputs": [],
   "source": [
    "DROP TABLE IF EXISTS city;\n",
    "DROP TABLE IF EXISTS airport;\n",
    "DROP TABLE IF EXISTS airline;\n",
    "DROP TABLE IF EXISTS airport_city;\n",
    "\n",
    "\n",
    "CREATE TABLE city(\n",
    "    cname VARCHAR(15) primary key,\n",
    "    state VARCHAR(15), \n",
    "    country VARCHAR(30),\n",
    "    population INT\n",
    ");\n",
    "\n",
    "\n",
    "INSERT INTO city (cname, state, country, population) VALUES('Louisville','Kentucky','United states', 628594);\n",
    "INSERT INTO city (cname, state, country, population) VALUES ('Fort Worth','Texas','United states', 935508);\n",
    "INSERT INTO city (cname, state, country, population) VALUES('San Francisco', 'California', 'United states', 815201);\n",
    "INSERT INTO city (cname, state, country, population) VALUES('Houston','Texas','United states', 2288000);\n",
    "INSERT INTO city (cname, state, country, population) VALUES('New York city','New York','United states', 8468000);\n",
    "INSERT INTO city (cname, state, country, population) VALUES('Tampa', 'Florida', 'United states', 387050);\n",
    "INSERT INTO city (cname, state, country, population) VALUES('Austin', 'Texas', 'United states', 964177);\n",
    "INSERT INTO city (cname, state, country, population) VALUES('Atlanta', 'Georgia', 'United states', 496461);\n",
    "INSERT INTO city (cname, state, country, population) VALUES('Honolulu', 'Hawaii', 'United states', 345510);\n",
    "\n",
    "CREATE TABLE airport(\n",
    "    ap_name VARCHAR(100) primary key,\n",
    "    state VARCHAR(15), \n",
    "    country VARCHAR(30),\n",
    "    cname VARCHAR(15),\n",
    "    code VARCHAR(10),\n",
    "    acres INT\n",
    ");\n",
    "\n",
    "INSERT INTO airport (ap_name, state, country, cname, code) VALUES('Louisville Muhammad Ali International Airport','Kentucky','United States','Louisville', 'SDF', 1500);\n",
    "INSERT INTO airport (ap_name, state, country, cname, code) VALUES('Dallas/Fort Worth International Airport','Texas','United States','Fort Worth', 'DFW', 17207 );\n",
    "INSERT INTO airport (ap_name, state, country, cname, code) VALUES('San Francisco International Airport','California', 'United States','San Francisco', 'SFO', 5207);\n",
    "INSERT INTO airport (ap_name, state, country, cname, code) VALUES('George Bush Intercontinental Airport','Texas','United States','Houston', 'IAH', 10000);\n",
    "INSERT INTO airport (ap_name, state, country, cname, code) VALUES('John F. Kennedy International Airport','New York','United States','New York city', 'JFK', 4930);\n",
    "INSERT INTO airport (ap_name, state, country, cname, code) VALUES('LaGuardia Airport','New York','United States','New York city', 'LGA', 680);\n",
    "INSERT INTO airport (ap_name, state, country, cname, code) VALUES('Tampa International Airport','Florida', 'United States','Tampa', 'TPA', 3300);\n",
    "INSERT INTO airport (ap_name, state, country, cname, code) VALUES('Austin-Bergstrom International Airport','Texas', 'United States','Austin', 'AUS', 4242);\n",
    "INSERT INTO airport (ap_name, state, country, cname, code) VALUES('Hartsfield-Jackson Atlanta International Airport','Georgia', 'United States','Atlanta', 'ATL', 4930);\n",
    "INSERT INTO airport (ap_name, state, country, cname, code) VALUES('Daniel K. Inouye International Airport','Hawaii', 'United States','Honolulu', 'HNL', 4220);\n",
    "\n",
    "CREATE TABLE airline(\n",
    "    airlineID VARCHAR(3) primary key,\n",
    "    al_name VARCHAR(50),\n",
    "    al_code VARCHAR(3)\n",
    ");\n",
    "\n",
    "INSERT INTO airline (airlineID, al_name, al_code) VALUES('AA','American airlines','001');\n",
    "INSERT INTO airline (airlineID, al_name, al_code) VALUES('UAL','United Airlines','016');\n",
    "INSERT INTO airline (airlineID, al_name, al_code) VALUES('DL','Delta Air Lines','006');\n",
    "INSERT INTO airline (airlineID, al_name, al_code) VALUES('WN','Southwest Airlines Co.','052');\n",
    "\n",
    "CREATE TABLE airport_city(\n",
    "    airlineID VARCHAR(3) NOT NULL,\n",
    "    ap_name VARCHAR(100) NOT NULL,\n",
    "    PRIMARY KEY(airlineID, ap_name),\n",
    ");\n",
    "\n",
    "INSERT INTO airport_city (airlineID, ap_name) VALUES('AA','Louisville International airport');\n",
    "INSERT INTO airport_city (airlineID, ap_name) VALUES('AA','John F. Kennedy International airport');\n",
    "INSERT INTO airport_city (airlineID, ap_name) VALUES('AA','LaGuardia Airport');\n",
    "INSERT INTO airport_city (airlineID, ap_name) VALUES('AA','George Bush Intercontinental airport');\n",
    "INSERT INTO airport_city (airlineID, ap_name) VALUES('AA','San Francisco International airport');\n",
    "INSERT INTO airport_city (airlineID, ap_name) VALUES('AA','Tampa International airport');\n",
    "INSERT INTO airport_city (airlineID, ap_name) VALUES('AA','Austin-Bergstrom International Airport');\n",
    "INSERT INTO airport_city (airlineID, ap_name) VALUES('AA','Hartsfield-Jackson Atlanta International Airport');\n",
    "INSERT INTO airport_city (airlineID, ap_name) VALUES('AA','Daniel K. Inouye International Airport');\n",
    "\n",
    "INSERT INTO airport_city (airlineID, ap_name) VALUES('UAL','Louisville International airport');\n",
    "INSERT INTO airport_city (airlineID, ap_name) VALUES('UAL','John F. Kennedy International airport');\n",
    "INSERT INTO airport_city (airlineID, ap_name) VALUES('UAL','LaGuardia Airport');\n",
    "INSERT INTO airport_city (airlineID, ap_name) VALUES('UAL','George Bush Intercontinental airport');\n",
    "INSERT INTO airport_city (airlineID, ap_name) VALUES('UAL','San Francisco International airport');\n",
    "INSERT INTO airport_city (airlineID, ap_name) VALUES('UAL','Tampa International airport');\n",
    "INSERT INTO airport_city (airlineID, ap_name) VALUES('UAL','Austin-Bergstrom International Airport');\n",
    "INSERT INTO airport_city (airlineID, ap_name) VALUES('UAL','Hartsfield-Jackson Atlanta International Airport');\n",
    "INSERT INTO airport_city (airlineID, ap_name) VALUES('UAL','Daniel K. Inouye International Airport');\n",
    "\n",
    "INSERT INTO airport_city (airlineID, ap_name) VALUES('DL','Louisville International airport');\n",
    "INSERT INTO airport_city (airlineID, ap_name) VALUES('DL','John F. Kennedy International airport');\n",
    "INSERT INTO airport_city (airlineID, ap_name) VALUES('DL','LaGuardia Airport');\n",
    "INSERT INTO airport_city (airlineID, ap_name) VALUES('DL','George Bush Intercontinental airport');\n",
    "INSERT INTO airport_city (airlineID, ap_name) VALUES('DL','San Francisco International airport');\n",
    "INSERT INTO airport_city (airlineID, ap_name) VALUES('DL','Tampa International airport');\n",
    "INSERT INTO airport_city (airlineID, ap_name) VALUES('DL','Austin-Bergstrom International Airport');\n",
    "INSERT INTO airport_city (airlineID, ap_name) VALUES('DL','Hartsfield-Jackson Atlanta International Airport');\n",
    "INSERT INTO airport_city (airlineID, ap_name) VALUES('DL','Daniel K. Inouye International Airport');\n",
    "\n",
    "INSERT INTO airport_city (airlineID, ap_name) VALUES('WN','Louisville International airport');\n",
    "INSERT INTO airport_city (airlineID, ap_name) VALUES('WN','LaGuardia Airport');\n",
    "INSERT INTO airport_city (airlineID, ap_name) VALUES('WN','George Bush Intercontinental airport');\n",
    "INSERT INTO airport_city (airlineID, ap_name) VALUES('WN','San Francisco International airport');\n",
    "INSERT INTO airport_city (airlineID, ap_name) VALUES('WN','Tampa International airport');\n",
    "INSERT INTO airport_city (airlineID, ap_name) VALUES('WN','Austin-Bergstrom International Airport');\n",
    "INSERT INTO airport_city (airlineID, ap_name) VALUES('WN','Hartsfield-Jackson Atlanta International Airport');\n",
    "\n"
   ]
  },
  {
   "attachments": {},
   "cell_type": "markdown",
   "metadata": {},
   "source": [
    "## Q1\n",
    "\n",
    "Create a table schema called `flights` with the following attributes\n",
    "* flight_code representing a flight code with maximum 10 characters\n",
    "* source as representing an aiport code with maximum 3 characters\n",
    "* destination as representing an aiport code with maximum 3 characters\n",
    "* status as a status with maximum 10 characters\n",
    "* airlineid as representing an airline id with maximum 3 characters,"
   ]
  },
  {
   "cell_type": "code",
   "execution_count": null,
   "metadata": {
    "vscode": {
     "languageId": "sql"
    }
   },
   "outputs": [],
   "source": []
  },
  {
   "attachments": {},
   "cell_type": "markdown",
   "metadata": {},
   "source": [
    "Insert the following data into your `flights` table"
   ]
  },
  {
   "cell_type": "code",
   "execution_count": null,
   "metadata": {
    "vscode": {
     "languageId": "sql"
    }
   },
   "outputs": [],
   "source": [
    "INSERT INTO FLIGHT(flight_code, source, destination, status, airlineid) VALUES('AA2014','SDF','DFW', 'On-Time', 'AA');\n",
    "\n",
    "INSERT INTO FLIGHT(flight_code, source, destination, status, airlineid) VALUES('AA2305','SDF','JFK', 'Delayed', 'AA');\n",
    "\n",
    "INSERT INTO FLIGHT(flight_code, source, destination, status, airlineid) VALUES('UAL2555','SDF','LGA', 'Delayed', 'UAL');\n",
    "\n",
    "INSERT INTO FLIGHT(flight_code, source, destination, status, airlineid) VALUES('DL2008','SDF','AUS', 'On-Time', 'DL');\n",
    "\n",
    "INSERT INTO FLIGHT(flight_code, source, destination, status, airlineid) VALUES('DL2034','JFK','AUS', 'Delayed', 'DL');\n",
    "\n",
    "INSERT INTO FLIGHT(flight_code, source, destination, status, airlineid) VALUES('DL2345','JFK','HNL', 'Delayed', 'DL');\n",
    "\n",
    "INSERT INTO FLIGHT(flight_code, source, destination, status, airlineid) VALUES('WN634','JFK','TPA', 'Delayed', 'WN');\n",
    "\n",
    "INSERT INTO FLIGHT(flight_code, source, destination, status, airlineid) VALUES('AA2874','LGA','ATL', 'Delayed', 'AA');\n",
    "\n",
    "INSERT INTO FLIGHT(flight_code, source, destination, status, airlineid) VALUES('WN888','SFO','HNL', 'On-Time', 'WN');\n",
    "\n",
    "INSERT INTO FLIGHT(flight_code, source, destination, status, airlineid) VALUES('DL7553','SFO','TPA', 'Delayed', 'DL');\n",
    "\n",
    "INSERT INTO FLIGHT(flight_code, source, destination, status, airlineid) VALUES('AA7008','SFO','JFK', 'Delayed', 'AA');\n",
    "\n",
    "INSERT INTO FLIGHT(flight_code, source, destination, status, airlineid) VALUES('AA7008','SFO','ATL', 'Delayed', 'AA');\n",
    "\n",
    "INSERT INTO FLIGHT(flight_code, source, destination, status, airlineid) VALUES('UAL1212','SFO','IAH', 'On-Time', 'UAL');"
   ]
  },
  {
   "attachments": {},
   "cell_type": "markdown",
   "metadata": {},
   "source": [
    "## Q2\n",
    "\n",
    "Create a query to count how many flights were delayed in total\n",
    "\n",
    "What was the exact number of delayed flights?"
   ]
  },
  {
   "cell_type": "code",
   "execution_count": null,
   "metadata": {
    "vscode": {
     "languageId": "sql"
    }
   },
   "outputs": [],
   "source": []
  },
  {
   "attachments": {},
   "cell_type": "markdown",
   "metadata": {},
   "source": [
    "Answer here"
   ]
  },
  {
   "attachments": {},
   "cell_type": "markdown",
   "metadata": {},
   "source": [
    "## Q3\n",
    "\n",
    "Create a query to count how many source airlines had delayed flights."
   ]
  },
  {
   "cell_type": "code",
   "execution_count": null,
   "metadata": {
    "vscode": {
     "languageId": "sql"
    }
   },
   "outputs": [],
   "source": []
  },
  {
   "attachments": {},
   "cell_type": "markdown",
   "metadata": {},
   "source": [
    "Answer here"
   ]
  },
  {
   "attachments": {},
   "cell_type": "markdown",
   "metadata": {},
   "source": [
    "## Q4\n",
    "\n",
    "Which source airline had the highest number of delayed flights? Which airline had the least? Modify your previous query to order your counts of delayed flights."
   ]
  },
  {
   "cell_type": "code",
   "execution_count": null,
   "metadata": {
    "vscode": {
     "languageId": "sql"
    }
   },
   "outputs": [],
   "source": []
  },
  {
   "attachments": {},
   "cell_type": "markdown",
   "metadata": {},
   "source": [
    "Answer here"
   ]
  },
  {
   "attachments": {},
   "cell_type": "markdown",
   "metadata": {},
   "source": [
    "## Q5\n",
    "\n",
    "Create a query to count how many destination airlines had delayed flights. Which source airline had the highest number of delayed flights? Which airline had the least?"
   ]
  },
  {
   "cell_type": "code",
   "execution_count": null,
   "metadata": {
    "vscode": {
     "languageId": "sql"
    }
   },
   "outputs": [],
   "source": []
  },
  {
   "attachments": {},
   "cell_type": "markdown",
   "metadata": {},
   "source": [
    "Answer here"
   ]
  }
 ],
 "metadata": {
  "kernelspec": {
   "display_name": "Python 3",
   "language": "python",
   "name": "python3"
  },
  "language_info": {
   "name": "python",
   "version": "3.10.7 (tags/v3.10.7:6cc6b13, Sep  5 2022, 14:08:36) [MSC v.1933 64 bit (AMD64)]"
  },
  "orig_nbformat": 4,
  "vscode": {
   "interpreter": {
    "hash": "369f2c481f4da34e4445cda3fffd2e751bd1c4d706f27375911949ba6bb62e1c"
   }
  }
 },
 "nbformat": 4,
 "nbformat_minor": 2
}
