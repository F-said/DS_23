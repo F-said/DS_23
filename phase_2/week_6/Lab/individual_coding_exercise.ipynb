{
 "cells": [
  {
   "attachments": {},
   "cell_type": "markdown",
   "metadata": {},
   "source": [
    "## 584. Find Customer Referee\n",
    "\n",
    "Write an SQL query to report the names of the customer that are not referred by the customer with id = 2.\n",
    "Return the result table in any order.\n",
    "Submit solution here: https://leetcode.com/problems/find-customer-referee/ \n",
    "\n",
    "We check for inequality using the “<>” operator.\n",
    "Recall how NULL is treated…\n",
    "Weird things happen when we try to compare NULL values to real values.\n",
    "* NULL = 5, evaluates to UNKNOWN\n",
    "* NULL > 5, evaluates to UNKNOWN\n",
    "* NULL LIKE ‘K%’ evaluates to UNKNOWN\n",
    "\n",
    "We cannot compare attributes to NULL using regular math. operators. What should we do instead?"
   ]
  }
 ],
 "metadata": {
  "kernelspec": {
   "display_name": "Python 3",
   "language": "python",
   "name": "python3"
  },
  "language_info": {
   "name": "python",
   "version": "3.10.7 (tags/v3.10.7:6cc6b13, Sep  5 2022, 14:08:36) [MSC v.1933 64 bit (AMD64)]"
  },
  "orig_nbformat": 4,
  "vscode": {
   "interpreter": {
    "hash": "369f2c481f4da34e4445cda3fffd2e751bd1c4d706f27375911949ba6bb62e1c"
   }
  }
 },
 "nbformat": 4,
 "nbformat_minor": 2
}
