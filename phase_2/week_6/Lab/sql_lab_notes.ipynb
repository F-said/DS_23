{
 "cells": [
  {
   "cell_type": "code",
   "execution_count": null,
   "metadata": {
    "vscode": {
     "languageId": "sql"
    }
   },
   "outputs": [],
   "source": [
    "CREATE TABLE city(\n",
    "    cname VARCHAR(15) primary key,\n",
    "    state VARCHAR(15), \n",
    "    country VARCHAR(30),\n",
    "    population INT\n",
    ");\n",
    "\n",
    "\n",
    "INSERT INTO city (cname, state, country, population) VALUES('Louisville','Kentucky','United states', 628594);\n",
    "INSERT INTO city (cname, state, country, population) VALUES ('Fort Worth','Texas','United states', 935508);\n",
    "INSERT INTO city (cname, state, country, population) VALUES('San Francisco', 'California', 'United states', 815201);\n",
    "INSERT INTO city (cname, state, country, population) VALUES('Houston','Texas','United states', 2288000);\n",
    "INSERT INTO city (cname, state, country, population) VALUES('New York city','New York','United states', 8468000);\n",
    "INSERT INTO city (cname, state, country, population) VALUES('Tampa', 'Florida', 'United states', 387050);\n",
    "INSERT INTO city (cname, state, country, population) VALUES('Austin', 'Texas', 'United states', 964177);\n",
    "INSERT INTO city (cname, state, country, population) VALUES('Atlanta', 'Georgia', 'United states', 496461);\n",
    "INSERT INTO city (cname, state, country, population) VALUES('Honolulu', 'Hawaii', 'United states', 345510);\n"
   ]
  },
  {
   "cell_type": "code",
   "execution_count": null,
   "metadata": {
    "vscode": {
     "languageId": "sql"
    }
   },
   "outputs": [],
   "source": [
    "\n",
    "INSERT INTO airport (ap_name, state, country, cname, code, acres) VALUES('Louisville Muhammad Ali International Airport','Kentucky','United States','Louisville', 'SDF', 1500);\n",
    "INSERT INTO airport (ap_name, state, country, cname, code, acres) VALUES('Dallas/Fort Worth International Airport','Texas','United States','Fort Worth', 'DFW', 17207 );\n",
    "INSERT INTO airport (ap_name, state, country, cname, code, acres) VALUES('San Francisco International Airport','California', 'United States','San Francisco', 'SFO', 5207);\n",
    "INSERT INTO airport (ap_name, state, country, cname, code, acres) VALUES('George Bush Intercontinental Airport','Texas','United States','Houston', 'IAH', 10000);\n",
    "INSERT INTO airport (ap_name, state, country, cname, code, acres) VALUES('John F. Kennedy International Airport','New York','United States','New York city', 'JFK', 4930);\n",
    "INSERT INTO airport (ap_name, state, country, cname, code, acres) VALUES('LaGuardia Airport','New York','United States','New York city', 'LGA', 680);\n",
    "INSERT INTO airport (ap_name, state, country, cname, code, acres) VALUES('Tampa International Airport','Florida', 'United States','Tampa', 'TPA', 3300);\n",
    "INSERT INTO airport (ap_name, state, country, cname, code, acres) VALUES('Austin-Bergstrom International Airport','Texas', 'United States','Austin', 'AUS', 4242);\n",
    "INSERT INTO airport (ap_name, state, country, cname, code, acres) VALUES('Hartsfield-Jackson Atlanta International Airport','Georgia', 'United States','Atlanta', 'ATL', 4930);\n",
    "INSERT INTO airport (ap_name, state, country, cname, code, acres) VALUES('Daniel K. Inouye International Airport','Hawaii', 'United States','Honolulu', 'HNL', 4220);"
   ]
  }
 ],
 "metadata": {
  "kernelspec": {
   "display_name": "Python 3",
   "language": "python",
   "name": "python3"
  },
  "language_info": {
   "name": "python",
   "version": "3.10.7"
  },
  "orig_nbformat": 4,
  "vscode": {
   "interpreter": {
    "hash": "369f2c481f4da34e4445cda3fffd2e751bd1c4d706f27375911949ba6bb62e1c"
   }
  }
 },
 "nbformat": 4,
 "nbformat_minor": 2
}
