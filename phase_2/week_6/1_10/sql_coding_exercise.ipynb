{
 "cells": [
  {
   "attachments": {},
   "cell_type": "markdown",
   "metadata": {},
   "source": [
    "## SQL II Exercises\n",
    "\n",
    "Set up your database by placing the following queries in the following compiler: https://onecompiler.com/postgresql\n",
    "\n",
    "Create the queries listed in questions 1 through 3.\n",
    "\n",
    "For additional challenge, try out questions 3 - 6."
   ]
  },
  {
   "cell_type": "code",
   "execution_count": null,
   "metadata": {
    "vscode": {
     "languageId": "sql"
    }
   },
   "outputs": [],
   "source": [
    "CREATE TABLE bakers(\n",
    "      baker        varchar(10) primary key\n",
    "      , fullname   varchar(100)\n",
    "      , age        int\n",
    "      , occupation varchar(100)\n",
    "      , hometown   varchar(100)\n",
    ");\n",
    "\n",
    "insert into bakers values('Antony','Antony Amourdoux',30,'Banker','London');\n",
    "insert into bakers values('Briony','Briony Williams',33 ,'Full-time parent','Bristol');\n",
    "insert into bakers values('Dan','Dan Beasley-Harling',36 ,'Full-time parent','London');\n",
    "insert into bakers values('Imelda','Imelda McCarron',33 ,'Countryside recreation officer','County Tyrone');\n",
    "insert into bakers values('Jon','Jon Jenkins',47 ,'Blood courier','Newport');\n",
    "insert into bakers values('Karen','Karen Wright',60 ,'In-store sampling assistant','Wakefield');\n",
    "insert into bakers values('Karin','Karin Right',60 ,'In-store sampling manager','Wakefield');\n",
    "insert into bakers values('Kim-Joy','Kim-Joy Hewlett',27 ,'Mental health specialist','Leeds');\n",
    "insert into bakers values('Luke','Luke Thompson',30 ,'Civil servant/house and techno DJ','Sheffield');\n",
    "insert into bakers values('Manon','Manon Lagrève',26 ,'Software project manager','London');\n",
    "insert into bakers values('Rahul','Rahul Mandal',30 ,'Research scientist','Rotherham');\n",
    "insert into bakers values('Ruby','Ruby Bhogal',29 ,'Project manager','London');\n",
    "insert into bakers values('Terry','Terry Hartill',56 ,'Retired air steward','West Midlands');\n",
    "\n",
    "create table signatures(\n",
    "     episodeid int\n",
    "     , baker   varchar(100)\n",
    "     , make    varchar(100)\n",
    "     , foreign key (baker) references bakers(baker)\n",
    ");\n",
    "\n",
    "insert into signatures values(1,'Antony','Turmeric and Caraway Goosnargh Cakes');\n",
    "insert into signatures values(1,'Briony','Apple Cider Empire Biscuits');\n",
    "insert into signatures values(1,'Dan','Lemon and Strawberry Shrewsburys');\n",
    "insert into signatures values(1,'Imelda','Cherry and White Chocolate Oatmeal Biscuits');\n",
    "insert into signatures values(1,'Jon','Aberffraw ''Creams''');\n",
    "insert into signatures values(1,'Karen','Yorkshire Perkins');\n",
    "insert into signatures values(1,'Kim-Joy','Orange Blossom York Biscuits');\n",
    "insert into signatures values(1,'Luke','Yorkshire Gingernuts');\n",
    "insert into signatures values(1,'Manon','Hazelnut Cornish Shortbread');\n",
    "insert into signatures values(1,'Rahul','Fennel and Coconut Pitcaithly Bannock');\n",
    "insert into signatures values(1,'Ruby','Masala Chai Devon Flats');\n",
    "insert into signatures values(1,'Terry','Lake District Ginger Shortbread');\n",
    "insert into signatures values(2,'Antony','Cardamom and Coconut Burfi Traybake');\n",
    "insert into signatures values(2,'Briony','Turron and Orange Traybake');\n",
    "insert into signatures values(2,'Dan','Black Forest Slice');\n",
    "insert into signatures values(2,'Jon','Lemon Meringue Traybake');\n",
    "insert into signatures values(2,'Karen','Almond and Marzipan Traybake with Rhubarb Jam');\n",
    "insert into signatures values(2,'Kim-Joy','Pandan Chiffon Cake with Palm Sugar Cream');\n",
    "insert into signatures values(2,'Luke','Lemon and Poppy Seed Traybake');\n",
    "insert into signatures values(2,'Manon','Rosemary and Honey Traybake');\n",
    "insert into signatures values(2,'Rahul','Lemon and Cardamom Traybake');\n",
    "insert into signatures values(2,'Ruby','Boozy Black Forest Traybake');\n",
    "insert into signatures values(2,'Terry','Rum and Raisin Traybake');\n",
    "insert into signatures values(3,'Antony','Decadent Breakfast Chelsea Buns');\n",
    "insert into signatures values(3,'Briony','Balsamic Strawberry Chelsea Buns');\n",
    "insert into signatures values(3,'Dan','Sticky Spiced Orange Chelsea Buns');\n",
    "insert into signatures values(3,'Jon','Cardiff City vs Chelsea Buns');\n",
    "insert into signatures values(3,'Karen','Peak District Christmas Chelsea Buns');\n",
    "insert into signatures values(3,'Kim-Joy','Pistachio and Cardamom Tangzhong Chelsea Buns');\n",
    "insert into signatures values(3,'Manon','Apricot, Cranberry and Marzipan Chai Chelsea Buns');\n",
    "insert into signatures values(3,'Rahul','Mango and Cranberry Chelsea Buns');\n",
    "insert into signatures values(3,'Ruby','Gujarela Chelsea Buns with Dates, Almonds and Raisins');\n",
    "insert into signatures values(3,'Terry','Tangy Citrus Sticky Chelsea Buns');\n",
    "insert into signatures values(4,'Briony','Treacle Tart Roulade');\n",
    "insert into signatures values(4,'Dan','Florida Roulade');\n",
    "insert into signatures values(4,'Jon','Mango and Passion Fruit Roulade');\n",
    "insert into signatures values(4,'Karen','Coffee Cream and Praline Roulade');\n",
    "insert into signatures values(4,'Kim-Joy','''Sweet Dreams'' Roulade');\n",
    "insert into signatures values(4,'Manon','Amarene and Kirsch Cherry Roulade');\n",
    "insert into signatures values(4,'Rahul','Rhubarb and Custard Roulade');\n",
    "insert into signatures values(4,'Ruby','Pina Colada Roulade');\n",
    "insert into signatures values(5,'Briony','Honey and Apricot Ginger Cake');\n",
    "insert into signatures values(5,'Dan','Ginger and Lemon Drip Cake');\n",
    "insert into signatures values(5,'Jon','Family Christmas Ginger Cake');\n",
    "insert into signatures values(5,'Karen','Bonfire Night Ginger Cake');\n",
    "insert into signatures values(5,'Kim-Joy','Stem Ginger Cake with Poached Pears');\n",
    "insert into signatures values(5,'Manon','Italian Meringue Ginger Cake');\n",
    "insert into signatures values(5,'Rahul','Bonfire Night Caramel Ginger Cake');\n",
    "insert into signatures values(5,'Ruby','Jamaican Me Crazy Ginger Cake');\n",
    "insert into signatures values(5,'Terry','Caramelised Pear and Stem Ginger Cake');\n",
    "insert into signatures values(6,'Briony','Home Comforts');\n",
    "insert into signatures values(6,'Dan','Festive Samosas');\n",
    "insert into signatures values(6,'Jon','A Romantic Dinner For Two, Samosa Style');\n",
    "insert into signatures values(6,'Kim-Joy','Flavours of India');\n",
    "insert into signatures values(6,'Manon','Samosas for Mum');\n",
    "insert into signatures values(6,'Rahul','Paneer Singara and Misti Singara');\n",
    "insert into signatures values(6,'Ruby','Traditional Samosas');\n",
    "insert into signatures values(7,'Briony','French Onion Tartlets and Celeriac & Apple Tartlets');\n",
    "insert into signatures values(7,'Jon','Garlic Mushroom Tartlets and Falafel & Hummus Tartlets');\n",
    "insert into signatures values(7,'Kim-Joy','Broccoli & Tomato Quiches and Mascarpone Squirrel Tartlets');\n",
    "insert into signatures values(7,'Manon','Summer & Winter Tartlets');\n",
    "insert into signatures values(7,'Rahul','Coriander Posto & Veg Tartlets and Ghugni Chaat Tartlets');\n",
    "insert into signatures values(7,'Ruby','Sage & Butternut Tartlets and ''Cheesy Greens'' Tartlets');\n",
    "insert into signatures values(8,'Briony','Spanish & West Country Smørrebrød');\n",
    "insert into signatures values(8,'Kim-Joy','Bumblebee Eggs & Fish Smørrebrød');\n",
    "insert into signatures values(8,'Manon','Cheese and Fruit Smørrebrød');\n",
    "insert into signatures values(8,'Rahul','Smoked Salmon & Roasted Vegetable Smørrebrød');\n",
    "insert into signatures values(8,'Ruby','Post-Gym Smørrebrød');\n",
    "insert into signatures values(9,'Briony','Mojito Madeleines & Espresso Martini Madeleines');\n",
    "insert into signatures values(9,'Kim-Joy','Ginger and Lemon Madeleines & Orange Bunny Madeleines');\n",
    "insert into signatures values(9,'Rahul','Lemon and Raspberry Madeleines & Orange Curd Madeleines');\n",
    "insert into signatures values(9,'Ruby','Pick Your Own Madeleines');\n",
    "insert into signatures values(10,'Kim-Joy','Amaretto Diplomat Filled Doughnuts & Lemon Ring Doughnuts');\n",
    "insert into signatures values(10,'Rahul','Mango Créme Pâtissière Filled Doughnuts & Spiced Orange Ring Doughnuts');\n",
    "insert into signatures values(10,'Ruby','Dulce De Leche Filled Doughnuts & Raspberry and Cardamom Ring Doughnuts');\n",
    "\n",
    "create table technicals(\n",
    "     episodeid int\n",
    "     , baker   varchar(100)\n",
    "     , rank    int\n",
    "     , foreign key (baker) references bakers(baker)\n",
    ");\n",
    "\n",
    "insert into technicals values(1,'Antony',12);\n",
    "insert into technicals values(1,'Briony',2);\n",
    "insert into technicals values(1,'Dan',4);\n",
    "insert into technicals values(1,'Imelda',11);\n",
    "insert into technicals values(1,'Jon',5);\n",
    "insert into technicals values(1,'Karen',6);\n",
    "insert into technicals values(1,'Kim-Joy',10);\n",
    "insert into technicals values(1,'Luke',8);\n",
    "insert into technicals values(1,'Manon',3);\n",
    "insert into technicals values(1,'Rahul',7);\n",
    "insert into technicals values(1,'Ruby',1);\n",
    "insert into technicals values(1,'Terry',9);\n",
    "insert into technicals values(2,'Antony',9);\n",
    "insert into technicals values(2,'Briony',5);\n",
    "insert into technicals values(2,'Dan',3);\n",
    "insert into technicals values(2,'Jon',1);\n",
    "insert into technicals values(2,'Karen',11);\n",
    "insert into technicals values(2,'Kim-Joy',4);\n",
    "insert into technicals values(2,'Luke',7);\n",
    "insert into technicals values(2,'Manon',6);\n",
    "insert into technicals values(2,'Rahul',2);\n",
    "insert into technicals values(2,'Ruby',10);\n",
    "insert into technicals values(2,'Terry',8);\n",
    "insert into technicals values(3,'Antony',8);\n",
    "insert into technicals values(3,'Briony',9);\n",
    "insert into technicals values(3,'Dan',6);\n",
    "insert into technicals values(3,'Jon',2);\n",
    "insert into technicals values(3,'Karen',5);\n",
    "insert into technicals values(3,'Kim-Joy',10);\n",
    "insert into technicals values(3,'Manon',3);\n",
    "insert into technicals values(3,'Rahul',4);\n",
    "insert into technicals values(3,'Ruby',7);\n",
    "insert into technicals values(3,'Terry',1);\n",
    "insert into technicals values(4,'Briony',5);\n",
    "insert into technicals values(4,'Dan',1);\n",
    "insert into technicals values(4,'Jon',3);\n",
    "insert into technicals values(4,'Karen',7);\n",
    "insert into technicals values(4,'Kim-Joy',6);\n",
    "insert into technicals values(4,'Manon',8);\n",
    "insert into technicals values(4,'Rahul',4);\n",
    "insert into technicals values(4,'Ruby',2);\n",
    "insert into technicals values(5,'Briony',6);\n",
    "insert into technicals values(5,'Dan',2);\n",
    "insert into technicals values(5,'Jon',7);\n",
    "insert into technicals values(5,'Karen',9);\n",
    "insert into technicals values(5,'Kim-Joy',4);\n",
    "insert into technicals values(5,'Manon',5);\n",
    "insert into technicals values(5,'Rahul',3);\n",
    "insert into technicals values(5,'Ruby',1);\n",
    "insert into technicals values(5,'Terry',8);\n",
    "insert into technicals values(6,'Briony',1);\n",
    "insert into technicals values(6,'Dan',6);\n",
    "insert into technicals values(6,'Jon',2);\n",
    "insert into technicals values(6,'Kim-Joy',5);\n",
    "insert into technicals values(6,'Manon',4);\n",
    "insert into technicals values(6,'Rahul',3);\n",
    "insert into technicals values(6,'Ruby',7);\n",
    "insert into technicals values(7,'Briony',5);\n",
    "insert into technicals values(7,'Jon',4);\n",
    "insert into technicals values(7,'Kim-Joy',6);\n",
    "insert into technicals values(7,'Manon',2);\n",
    "insert into technicals values(7,'Rahul',1);\n",
    "insert into technicals values(7,'Ruby',3);\n",
    "insert into technicals values(8,'Briony',1);\n",
    "insert into technicals values(8,'Kim-Joy',2);\n",
    "insert into technicals values(8,'Manon',4);\n",
    "insert into technicals values(8,'Rahul',5);\n",
    "insert into technicals values(8,'Ruby',3);\n",
    "insert into technicals values(9,'Briony',3);\n",
    "insert into technicals values(9,'Kim-Joy',2);\n",
    "insert into technicals values(9,'Rahul',4);\n",
    "insert into technicals values(9,'Ruby',1);\n",
    "insert into technicals values(10,'Kim-Joy',1);\n",
    "insert into technicals values(10,'Rahul',2);\n",
    "insert into technicals values(10,'Ruby',3);"
   ]
  },
  {
   "attachments": {},
   "cell_type": "markdown",
   "metadata": {},
   "source": [
    "## Q1\n",
    "\n",
    "Query all signature dishes made by baker 'Kim-Joy' from the signatures table."
   ]
  },
  {
   "cell_type": "code",
   "execution_count": null,
   "metadata": {
    "vscode": {
     "languageId": "sql"
    }
   },
   "outputs": [],
   "source": []
  },
  {
   "attachments": {},
   "cell_type": "markdown",
   "metadata": {},
   "source": [
    "## Q2\n",
    "\n",
    "Calculate the average technical rating of the baker 'Briony' from the table technicals."
   ]
  },
  {
   "cell_type": "code",
   "execution_count": null,
   "metadata": {
    "vscode": {
     "languageId": "sql"
    }
   },
   "outputs": [],
   "source": []
  },
  {
   "attachments": {},
   "cell_type": "markdown",
   "metadata": {},
   "source": [
    "## Q3\n",
    "\n",
    "Calculate the union set of the baker column from the bakers table and the signature table."
   ]
  },
  {
   "cell_type": "code",
   "execution_count": null,
   "metadata": {
    "vscode": {
     "languageId": "sql"
    }
   },
   "outputs": [],
   "source": []
  },
  {
   "attachments": {},
   "cell_type": "markdown",
   "metadata": {},
   "source": [
    "## Q4 (Optional Challenge)\n",
    "\n",
    "Calculate the except set of the baker column from the bakers table and the signature table."
   ]
  },
  {
   "cell_type": "code",
   "execution_count": null,
   "metadata": {
    "vscode": {
     "languageId": "sql"
    }
   },
   "outputs": [],
   "source": []
  },
  {
   "attachments": {},
   "cell_type": "markdown",
   "metadata": {},
   "source": [
    "## Q5 (Optional Challenge)\n",
    "\n",
    "Using your resources from the internet, calculate the average rank from technicals of someone from 'London'.\n",
    "\n",
    "Note that we have not exactly went over how to accomplish this."
   ]
  },
  {
   "cell_type": "code",
   "execution_count": null,
   "metadata": {
    "vscode": {
     "languageId": "sql"
    }
   },
   "outputs": [],
   "source": []
  },
  {
   "attachments": {},
   "cell_type": "markdown",
   "metadata": {},
   "source": [
    "## Q6 (Optional Challenge)\n",
    "\n",
    "Count how many signature dishes 'Briony' created from the signatures table."
   ]
  },
  {
   "cell_type": "code",
   "execution_count": null,
   "metadata": {
    "vscode": {
     "languageId": "sql"
    }
   },
   "outputs": [],
   "source": []
  }
 ],
 "metadata": {
  "kernelspec": {
   "display_name": "Python 3",
   "language": "python",
   "name": "python3"
  },
  "language_info": {
   "name": "python",
   "version": "3.10.7"
  },
  "orig_nbformat": 4,
  "vscode": {
   "interpreter": {
    "hash": "369f2c481f4da34e4445cda3fffd2e751bd1c4d706f27375911949ba6bb62e1c"
   }
  }
 },
 "nbformat": 4,
 "nbformat_minor": 2
}
