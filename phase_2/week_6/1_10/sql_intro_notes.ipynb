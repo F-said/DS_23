{
 "cells": [
  {
   "attachments": {},
   "cell_type": "markdown",
   "metadata": {},
   "source": [
    "## Tech in the Workplace\n",
    "\n",
    "We’ve learned about various packages & tools, but when do we know when to use them?\n",
    "\n",
    "Well, the easy answer is that we are sometimes told which tools to use, especially in entry-level positions, or in positions where we are given sufficient training and codebase explanation.\n",
    "\n",
    "* This is a Python 3 pipeline hosted on a Docker container…\n",
    "* This is a React web-app that uses TypeScript …\n",
    "* This is a R script that uses MPI to process data in parallel …\n",
    "\n",
    "However, sometimes we are placed in positions where we are allowed to make decisions of which tech-stack we will be using for ourselves or for our team.\n",
    "\n",
    "* Which programming language do I use to make a computational vision ML model?\n",
    "* I want this pipeline to be useable by non-programmers, which programming language should I write this in?\n",
    "\n",
    "And sometimes when we are allowed to make these decisions, we might lean towards, or be directed to use some new, unfamiliar, and hyped piece of software that claims to have novel features never-before seen.\n",
    "\n",
    "Ex: The software tool, DataAnalyzur, makes data-pipelines easy to program, and dedicates 3% of computational power to mine bitcoin on your machine.\n",
    "\n",
    "Technologists are the most optimisitic people, we need to reign in this optimisim\n",
    "\n",
    "Unless your team already uses a piece of technology that you must learn, do not dedicate time to learning extraneous software tools that look interesting. \n",
    "\n",
    "There are millions of software tools out there, our value lies in focusing on the right ones.\n",
    "\n",
    "Instead, focus on strengthening the essentials: \n",
    "* Python or R for programming pipelines\n",
    "* SQL for database management \n",
    "\n",
    "Think of this like learning a language. Learning German, Spanish, Japanese, and Turkish at the same time is almost impossible. "
   ]
  },
  {
   "attachments": {},
   "cell_type": "markdown",
   "metadata": {},
   "source": [
    "## 595. Big Countries\n",
    "\n",
    "Table: World\n",
    "```\n",
    "+-------------+---------+\n",
    "| Column Name | Type    |\n",
    "+-------------+---------+\n",
    "| name        | varchar |\n",
    "| continent   | varchar |\n",
    "| area        | int     |\n",
    "| population  | int     |\n",
    "| gdp         | int     |\n",
    "+-------------+---------+\n",
    "name is the primary key column for this table.\n",
    "Each row of this table gives information about the name of a country, the continent to which it belongs, its area, the population, and its GDP value.\n",
    "```\n",
    "\n",
    "A country is big if:\n",
    "\n",
    "* it has an area of at least three million (i.e., 3000000 km2), or\n",
    "* it has a population of at least twenty-five million (i.e., 25000000).\n",
    "\n",
    "Write an SQL query to report the name, population, and area of the big countries.\n",
    "\n",
    "Return the result table in any order.\n",
    "\n",
    "Submit solution here: https://leetcode.com/problems/big-countries/description/"
   ]
  },
  {
   "attachments": {},
   "cell_type": "markdown",
   "metadata": {},
   "source": [
    "## Basic SQL Queries\n",
    "\n",
    "To review, we create basic SQL queries using the following structure\n",
    "\t\n",
    "\t\t\tSELECT …\n",
    "\t\t\tFROM …\n",
    "\t\t\tWHERE … ;\n",
    "\n",
    "From this table, get the attributes of the rows where the following is true.\n",
    "\n",
    "To select specific rows that “contain” a pattern of characters in a row, we use patterns.\n",
    "We use these patterns to discover strings that contain specific assortment of characters. \n",
    "Specifically we utilize the LIKE keyword within the WHERE clause.\n"
   ]
  },
  {
   "cell_type": "code",
   "execution_count": null,
   "metadata": {
    "vscode": {
     "languageId": "sql"
    }
   },
   "outputs": [],
   "source": [
    "CREATE TABLE bakers(\n",
    "      baker        varchar(10) primary key\n",
    "      , fullname   varchar(100)\n",
    "      , age        int\n",
    "      , occupation varchar(100)\n",
    "      , hometown   varchar(100)\n",
    ");\n",
    "\n",
    "insert into bakers values('Antony','Antony Amourdoux',30,'Banker','London');\n",
    "insert into bakers values('Briony','Briony Williams',33 ,'Full-time parent','Bristol');\n",
    "insert into bakers values('Dan','Dan Beasley-Harling',36 ,'Full-time parent','London');\n",
    "insert into bakers values('Imelda','Imelda McCarron',33 ,'Countryside recreation officer','County Tyrone');\n",
    "insert into bakers values('Jon','Jon Jenkins',47 ,'Blood courier','Newport');\n",
    "insert into bakers values('Karen','Karen Wright',60 ,'In-store sampling assistant','Wakefield');\n",
    "insert into bakers values('Karin','Karin Right',60 ,'In-store sampling manager','Wakefield');\n",
    "insert into bakers values('Kim-Joy','Kim-Joy Hewlett',27 ,'Mental health specialist','Leeds');\n",
    "insert into bakers values('Luke','Luke Thompson',30 ,'Civil servant/house and techno DJ','Sheffield');\n",
    "insert into bakers values('Manon','Manon Lagrève',26 ,'Software project manager','London');\n",
    "insert into bakers values('Rahul','Rahul Mandal',30 ,'Research scientist','Rotherham');\n",
    "insert into bakers values('Ruby','Ruby Bhogal',29 ,'Project manager','London');\n",
    "insert into bakers values('Terry','Terry Hartill',56 ,'Retired air steward','West Midlands');\n"
   ]
  },
  {
   "attachments": {},
   "cell_type": "markdown",
   "metadata": {},
   "source": [
    "## LIKE\n",
    "\n",
    "Some quick patterns:\n",
    "* ‘K%’ : Match zero or more characters afterwards\n",
    "* ‘Karen’: Match only ‘Karen’\n",
    "* ‘Kar_n’: Match names that contain “K” “A” “R”, then any letter, and then “N”"
   ]
  },
  {
   "cell_type": "code",
   "execution_count": null,
   "metadata": {
    "vscode": {
     "languageId": "sql"
    }
   },
   "outputs": [],
   "source": [
    "SELECT *\n",
    "FROM bakers\n",
    "WHERE baker LIKE 'K%';"
   ]
  },
  {
   "attachments": {},
   "cell_type": "markdown",
   "metadata": {},
   "source": [
    "## Regex\n",
    "\n",
    "We gain even more power by using POSIX Regex.\n",
    "\n",
    "Regular Expressions (Regex) are like LIKE patterns, but are even more powerful.\n",
    "\n",
    "We get rid of the “LIKE” keyword to form:\n",
    "\tSELECT baker\n",
    "\tFROM bakers\n",
    "\tWHERE baker ~* ‘KAREN’;\n",
    "\n",
    "POSIX Regex matches patterns anywhere within the string, whereas LIKE patterns only matched exact patterns\n",
    "\n",
    "Ex: LIKE Pattern “ab” does NOT match “abc”\n",
    "Ex: Regex Pattern “ab” MATCHES “abc” because “ab” is a substring\n",
    "\n",
    "POSIX Regex rules:\n",
    "> . :  matches any character once \n",
    "> * :  matches any preceding character one or more times\n",
    "> ^ : string must start with following character"
   ]
  },
  {
   "cell_type": "code",
   "execution_count": null,
   "metadata": {
    "vscode": {
     "languageId": "sql"
    }
   },
   "outputs": [],
   "source": [
    "SELECT baker FROM bakers WHERE baker ~ '^k';"
   ]
  },
  {
   "attachments": {},
   "cell_type": "markdown",
   "metadata": {},
   "source": [
    "## Quotation Marks\n",
    "\n",
    "You’ll notice that within our data, we have additional quotation marks describing the name of a contestants signature dish\n",
    "\n",
    "‘Aberffraw ‘’Creams’’’"
   ]
  },
  {
   "cell_type": "code",
   "execution_count": null,
   "metadata": {
    "vscode": {
     "languageId": "sql"
    }
   },
   "outputs": [],
   "source": [
    "create table signatures(\n",
    "     episodeid int\n",
    "     , baker   varchar(100)\n",
    "     , make    varchar(100)\n",
    "     , foreign key (baker) references bakers(baker)\n",
    ");\n",
    "\n",
    "insert into signatures values(1,'Antony','Turmeric and Caraway Goosnargh Cakes');\n",
    "insert into signatures values(1,'Briony','Apple Cider Empire Biscuits');\n",
    "insert into signatures values(1,'Dan','Lemon and Strawberry Shrewsburys');\n",
    "insert into signatures values(1,'Imelda','Cherry and White Chocolate Oatmeal Biscuits');\n",
    "insert into signatures values(1,'Jon','Aberffraw ''Creams''');\n",
    "insert into signatures values(1,'Karen','Yorkshire Perkins');\n",
    "insert into signatures values(1,'Kim-Joy','Orange Blossom York Biscuits');\n",
    "insert into signatures values(1,'Luke','Yorkshire Gingernuts');\n",
    "insert into signatures values(1,'Manon','Hazelnut Cornish Shortbread');\n",
    "insert into signatures values(1,'Rahul','Fennel and Coconut Pitcaithly Bannock');\n",
    "insert into signatures values(1,'Ruby','Masala Chai Devon Flats');\n",
    "insert into signatures values(1,'Terry','Lake District Ginger Shortbread');\n",
    "insert into signatures values(2,'Antony','Cardamom and Coconut Burfi Traybake');\n",
    "insert into signatures values(2,'Briony','Turron and Orange Traybake');\n",
    "insert into signatures values(2,'Dan','Black Forest Slice');\n",
    "insert into signatures values(2,'Jon','Lemon Meringue Traybake');\n",
    "insert into signatures values(2,'Karen','Almond and Marzipan Traybake with Rhubarb Jam');\n",
    "insert into signatures values(2,'Kim-Joy','Pandan Chiffon Cake with Palm Sugar Cream');\n",
    "insert into signatures values(2,'Luke','Lemon and Poppy Seed Traybake');\n",
    "insert into signatures values(2,'Manon','Rosemary and Honey Traybake');\n",
    "insert into signatures values(2,'Rahul','Lemon and Cardamom Traybake');\n",
    "insert into signatures values(2,'Ruby','Boozy Black Forest Traybake');\n",
    "insert into signatures values(2,'Terry','Rum and Raisin Traybake');\n",
    "insert into signatures values(3,'Antony','Decadent Breakfast Chelsea Buns');\n",
    "insert into signatures values(3,'Briony','Balsamic Strawberry Chelsea Buns');\n",
    "insert into signatures values(3,'Dan','Sticky Spiced Orange Chelsea Buns');\n",
    "insert into signatures values(3,'Jon','Cardiff City vs Chelsea Buns');\n",
    "insert into signatures values(3,'Karen','Peak District Christmas Chelsea Buns');\n",
    "insert into signatures values(3,'Kim-Joy','Pistachio and Cardamom Tangzhong Chelsea Buns');\n",
    "insert into signatures values(3,'Manon','Apricot, Cranberry and Marzipan Chai Chelsea Buns');\n",
    "insert into signatures values(3,'Rahul','Mango and Cranberry Chelsea Buns');\n",
    "insert into signatures values(3,'Ruby','Gujarela Chelsea Buns with Dates, Almonds and Raisins');\n",
    "insert into signatures values(3,'Terry','Tangy Citrus Sticky Chelsea Buns');\n",
    "insert into signatures values(4,'Briony','Treacle Tart Roulade');\n",
    "insert into signatures values(4,'Dan','Florida Roulade');\n",
    "insert into signatures values(4,'Jon','Mango and Passion Fruit Roulade');\n",
    "insert into signatures values(4,'Karen','Coffee Cream and Praline Roulade');\n",
    "insert into signatures values(4,'Kim-Joy','''Sweet Dreams'' Roulade');\n",
    "insert into signatures values(4,'Manon','Amarene and Kirsch Cherry Roulade');\n",
    "insert into signatures values(4,'Rahul','Rhubarb and Custard Roulade');\n",
    "insert into signatures values(4,'Ruby','Pina Colada Roulade');\n",
    "insert into signatures values(5,'Briony','Honey and Apricot Ginger Cake');\n",
    "insert into signatures values(5,'Dan','Ginger and Lemon Drip Cake');\n",
    "insert into signatures values(5,'Jon','Family Christmas Ginger Cake');\n",
    "insert into signatures values(5,'Karen','Bonfire Night Ginger Cake');\n",
    "insert into signatures values(5,'Kim-Joy','Stem Ginger Cake with Poached Pears');\n",
    "insert into signatures values(5,'Manon','Italian Meringue Ginger Cake');\n",
    "insert into signatures values(5,'Rahul','Bonfire Night Caramel Ginger Cake');\n",
    "insert into signatures values(5,'Ruby','Jamaican Me Crazy Ginger Cake');\n",
    "insert into signatures values(5,'Terry','Caramelised Pear and Stem Ginger Cake');\n",
    "insert into signatures values(6,'Briony','Home Comforts');\n",
    "insert into signatures values(6,'Dan','Festive Samosas');\n",
    "insert into signatures values(6,'Jon','A Romantic Dinner For Two, Samosa Style');\n",
    "insert into signatures values(6,'Kim-Joy','Flavours of India');\n",
    "insert into signatures values(6,'Manon','Samosas for Mum');\n",
    "insert into signatures values(6,'Rahul','Paneer Singara and Misti Singara');\n",
    "insert into signatures values(6,'Ruby','Traditional Samosas');\n",
    "insert into signatures values(7,'Briony','French Onion Tartlets and Celeriac & Apple Tartlets');\n",
    "insert into signatures values(7,'Jon','Garlic Mushroom Tartlets and Falafel & Hummus Tartlets');\n",
    "insert into signatures values(7,'Kim-Joy','Broccoli & Tomato Quiches and Mascarpone Squirrel Tartlets');\n",
    "insert into signatures values(7,'Manon','Summer & Winter Tartlets');\n",
    "insert into signatures values(7,'Rahul','Coriander Posto & Veg Tartlets and Ghugni Chaat Tartlets');\n",
    "insert into signatures values(7,'Ruby','Sage & Butternut Tartlets and ''Cheesy Greens'' Tartlets');\n",
    "insert into signatures values(8,'Briony','Spanish & West Country Smørrebrød');\n",
    "insert into signatures values(8,'Kim-Joy','Bumblebee Eggs & Fish Smørrebrød');\n",
    "insert into signatures values(8,'Manon','Cheese and Fruit Smørrebrød');\n",
    "insert into signatures values(8,'Rahul','Smoked Salmon & Roasted Vegetable Smørrebrød');\n",
    "insert into signatures values(8,'Ruby','Post-Gym Smørrebrød');\n",
    "insert into signatures values(9,'Briony','Mojito Madeleines & Espresso Martini Madeleines');\n",
    "insert into signatures values(9,'Kim-Joy','Ginger and Lemon Madeleines & Orange Bunny Madeleines');\n",
    "insert into signatures values(9,'Rahul','Lemon and Raspberry Madeleines & Orange Curd Madeleines');\n",
    "insert into signatures values(9,'Ruby','Pick Your Own Madeleines');\n",
    "insert into signatures values(10,'Kim-Joy','Amaretto Diplomat Filled Doughnuts & Lemon Ring Doughnuts');\n",
    "insert into signatures values(10,'Rahul','Mango Créme Pâtissière Filled Doughnuts & Spiced Orange Ring Doughnuts');\n",
    "insert into signatures values(10,'Ruby','Dulce De Leche Filled Doughnuts & Raspberry and Cardamom Ring Doughnuts');"
   ]
  },
  {
   "attachments": {},
   "cell_type": "markdown",
   "metadata": {},
   "source": [
    "## NULL Values\n",
    "\n",
    "Just like in Python, we have None (NULL) values in SQL as well.\n",
    "\n",
    "We haven’t spoken too much about None or NULL values in the concept of Computer Science, so let’s address this concept.\n",
    "\n",
    "NULL is not 0 or an empty string \n",
    "\n",
    "Instead, it is a special value that indicates that something does yet not exist\n",
    "\n",
    "* It could exist, but we don’t know it (Mo’s Phone #)\n",
    "* It could exist, but it hasn’t been calculated yet (Final DS-Track grade)\n",
    "\n",
    "Weird things happen when we try to compare NULL values to real values.\n",
    "> NULL = 5, evaluates to UNKNOWN\n",
    "> NULL > 5, evaluates to UNKNOWN\n",
    "> NULL LIKE ‘K%’ evaluates to UNKNOWN\n",
    "\n",
    "We will explore how this impacts our queries if we potentially have NULL values in our rows\n",
    "Furthermore, this also results in new behavior when combined with TRUE or FALSE statements"
   ]
  },
  {
   "cell_type": "code",
   "execution_count": null,
   "metadata": {
    "vscode": {
     "languageId": "sql"
    }
   },
   "outputs": [],
   "source": [
    "SELECT *\n",
    "FROM bakers\n",
    "WHERE occupation IS NULL ;"
   ]
  },
  {
   "attachments": {},
   "cell_type": "markdown",
   "metadata": {},
   "source": [
    "## SQL Operations\n",
    "\n",
    "Just like in Python, we have operators in SQL that come prepackaged with the language.\n",
    "They are:\n",
    "* String operations: upper, lower, position, substring, trim\n",
    "* Numerical operations: +, -,  *, /, %, ^, !\n",
    "* Mathematical operations: abs, ceil, floor, log, mod, round, sqrt"
   ]
  },
  {
   "cell_type": "code",
   "execution_count": null,
   "metadata": {
    "vscode": {
     "languageId": "sql"
    }
   },
   "outputs": [],
   "source": [
    "SELECT age - 5 as age\n",
    "FROM bakers;"
   ]
  },
  {
   "attachments": {},
   "cell_type": "markdown",
   "metadata": {},
   "source": [
    "## Multiple Tables\n",
    "\n",
    "In DBMS’s, we very rarely have just one table.\n",
    "\n",
    "Instead we have a system of tables.\n",
    "\n",
    "We often map the relationships between these tables using Entity-Relationship-Diagrams (ERD’s)"
   ]
  },
  {
   "cell_type": "code",
   "execution_count": null,
   "metadata": {
    "vscode": {
     "languageId": "sql"
    }
   },
   "outputs": [],
   "source": [
    "SELECT *\n",
    "FROM bakers, signatures ;"
   ]
  },
  {
   "attachments": {},
   "cell_type": "markdown",
   "metadata": {},
   "source": [
    "This query results in something called the “Cartesian Product”. This is basically every single possible arrangement of rows.\n",
    "\n",
    "Cartesian Product: the set of all possible ordered pairs with first element from the first set and second element from the second .\n",
    "\n",
    "To prevent this explosion of information, let’s specify a WHERE clause that joins rows on the same baker."
   ]
  },
  {
   "cell_type": "code",
   "execution_count": null,
   "metadata": {
    "vscode": {
     "languageId": "sql"
    }
   },
   "outputs": [],
   "source": [
    "SELECT *\n",
    "FROM bakers b, signatures s \n",
    "WHERE b.baker = s.baker;"
   ]
  },
  {
   "attachments": {},
   "cell_type": "markdown",
   "metadata": {},
   "source": [
    "For each row in the cartesian product of b & s,\n",
    "\tDisplay the row only if the baker from the b dataset is the same as the baker from the s dataset\n",
    "\n",
    "We now know how to join two tables together via cartesian product\n",
    "However, it is pretty inefficient\n",
    "\n",
    "Consider, we must generate every possible arrangement of tables bakers & signatures (975 rows) in order to just get 3 rows when looking for Antony’s dishes.\n",
    "\n",
    "This is so abysmally inefficient, that we should find a much better approach (tomorrow)"
   ]
  },
  {
   "attachments": {},
   "cell_type": "markdown",
   "metadata": {},
   "source": [
    "## Set & Bag\n",
    "\n",
    "In addition to creating the cartesian product, we can also apply set operators on our dataset to find intersecting & all information.\n",
    "\n",
    "\n",
    "Let’s consider how we can use set theory in SQL\n",
    "* SET operations: Union, Intersect, Except\n",
    "* BAG operations: Union All, Intersect All, Except All\n"
   ]
  },
  {
   "attachments": {},
   "cell_type": "markdown",
   "metadata": {},
   "source": [
    "## Aggregate Operations\n",
    "\n",
    "Let’s consider how we can calculate metrics on tables using aggregates\n",
    "Aggregate: “a whole formed by combining several (typically disparate) elements.”\n",
    "\n",
    "We can utilize the following aggregate functions within our SELECT clause:\n",
    "* count,\n",
    "* min, \n",
    "* max, \n",
    "* avg, \n",
    "* sum, \n",
    "* stddev\n"
   ]
  }
 ],
 "metadata": {
  "kernelspec": {
   "display_name": "Python 3",
   "language": "python",
   "name": "python3"
  },
  "language_info": {
   "name": "python",
   "version": "3.10.7"
  },
  "orig_nbformat": 4,
  "vscode": {
   "interpreter": {
    "hash": "369f2c481f4da34e4445cda3fffd2e751bd1c4d706f27375911949ba6bb62e1c"
   }
  }
 },
 "nbformat": 4,
 "nbformat_minor": 2
}
