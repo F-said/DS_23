{
 "cells": [
  {
   "attachments": {},
   "cell_type": "markdown",
   "metadata": {},
   "source": [
    "# SQL Basics\n",
    "\n",
    "Questions 1 through 10 rely on the following pseudo-data tables. \n",
    "\n",
    "*warehouse*\n",
    "| prod_id | type      | price_kg | speciality | origin      |\n",
    "| ------- | --------- | -------- | ---------- | ----------- |\n",
    "| 0       | Robusta   | 2.586    | True       | Vietnam     |\n",
    "| 1       | Arabica   | 4.558    | False      | Brazil      |\n",
    "| 2       | Liberica  | 4.840    | False      | Phillipines |\n",
    "| 3       | Excelsa   | 4.840    | True       | India       |\n",
    "\n",
    "\n",
    "*orders*\n",
    "| ord_id | destination | kgs    | type     | prod_id |  comp_id |\n",
    "| ------ | ----------- | ------ | -------- | ------- | -------- |\n",
    "|  0     | USA         | 1000   | Robusta  | 0       | 0        |\n",
    "|  1     | USA         | 1000   | Arabica  | 1       | 0        |\n",
    "|  2     | USA         | 200    | Liberica | 2       | 1        |\n",
    "|  3     | Germany     | 1200   | Arabica  | 1       | 2        |\n",
    "|  4     | Germany     | 200    | Robusta  | 0       | 2        |\n",
    "|  5     | Japan       | 800    | Arabica  | 1       | 3        |\n",
    "|  6     | France      | 700    | Excelsa  | 3       | 4        |\n",
    "\n",
    "For each question, write out a SQL query that best accomplishes the listed requirements regarding these two tables.\n",
    "\n",
    "These tables do not exist anywhere in `PostgreSQL`. Instead, you will rely on writing SQL queries without the ability to run them in pgAdmin or a seperate compiler.\n",
    "\n",
    "Keep in mind, that competency is built through writing intentional and expected lines of code, as opposed to iteratively testing until you get something right. Look through provided notes, references, and utilize your co-workers to figure out the correct query."
   ]
  },
  {
   "attachments": {},
   "cell_type": "markdown",
   "metadata": {},
   "source": [
    "## Q1\n",
    "\n",
    "Write a query that returns all country names lowercased from the `orders` table.\n",
    "\n",
    "**Relevant Notes/Labs**\n",
    "* [1/10 Intro to SQL Notes](https://github.com/The-Knowledge-House/DS_22/blob/main/phase_2/week_6/1_10/sql_intro_notes.ipynb)\n",
    "* [1/9 Intro to SQL Lab](https://github.com/The-Knowledge-House/DS_22/blob/main/phase_2/week_6/1_9/sql_coding_exercise.ipynb)"
   ]
  },
  {
   "cell_type": "code",
   "execution_count": null,
   "metadata": {
    "vscode": {
     "languageId": "sql"
    }
   },
   "outputs": [],
   "source": []
  },
  {
   "attachments": {},
   "cell_type": "markdown",
   "metadata": {},
   "source": [
    "## Q2\n",
    "\n",
    "Write a query that gets the name and type of coffee of all countries who have an order above 500 kgs but below 1000 kgs from the `orders` table.\n",
    "\n",
    "**Relevant Notes/Labs**\n",
    "* [1/9 Intro to SQL Notes](https://github.com/The-Knowledge-House/DS_22/blob/main/phase_2/week_6/1_9/sql_intro_notes.ipynb)\n",
    "* [1/9 Intro to SQL Lab](https://github.com/The-Knowledge-House/DS_22/blob/main/phase_2/week_6/1_9/sql_coding_exercise.ipynb)"
   ]
  },
  {
   "cell_type": "code",
   "execution_count": null,
   "metadata": {
    "vscode": {
     "languageId": "sql"
    }
   },
   "outputs": [],
   "source": []
  },
  {
   "attachments": {},
   "cell_type": "markdown",
   "metadata": {},
   "source": [
    "## Q3\n",
    "\n",
    "Write a query that joins these two tables together on coffee-type, calculates the total price of an order according to price_kg, adds $1000 for air-freight, and then orders this table from most expensive order to least.\n",
    "\n",
    "**Relevant Notes/Labs**\n",
    "* [1/17 Intro to SQL Notes](https://github.com/The-Knowledge-House/DS_22/blob/main/phase_2/week_7/1_17/sql_II_notes.ipynb)\n",
    "* [1/17 Intro to SQL Lab](https://github.com/The-Knowledge-House/DS_22/blob/main/phase_2/week_7/1_17/sql_II_coding_exercise.ipynb)"
   ]
  },
  {
   "cell_type": "code",
   "execution_count": null,
   "metadata": {
    "vscode": {
     "languageId": "sql"
    }
   },
   "outputs": [],
   "source": []
  },
  {
   "attachments": {},
   "cell_type": "markdown",
   "metadata": {},
   "source": [
    "## Q4\n",
    "\n",
    "Write a query that groups the orders table by country, and calculates the total kgs a country has ordered.\n",
    "\n",
    "**Relevant Notes/Labs**\n",
    "* [1/17 Intro to SQL Lab](https://github.com/The-Knowledge-House/DS_22/blob/860bbefaf0a022b415857823a1e9e9cf034d01e5/phase_2/week_7/1_17/sql_II_coding_exercise.ipynb)"
   ]
  },
  {
   "cell_type": "code",
   "execution_count": null,
   "metadata": {
    "vscode": {
     "languageId": "sql"
    }
   },
   "outputs": [],
   "source": []
  },
  {
   "attachments": {},
   "cell_type": "markdown",
   "metadata": {},
   "source": [
    "## Q5\n",
    "\n",
    "Which data-type would work best for the `origin` column? Why?\n",
    "\n",
    "**Relevant Notes/Labs**\n",
    "* [Postgres Data-Types](https://www.postgresql.org/docs/current/datatype.html)"
   ]
  },
  {
   "cell_type": "markdown",
   "metadata": {},
   "source": []
  },
  {
   "attachments": {},
   "cell_type": "markdown",
   "metadata": {},
   "source": [
    "## Q6\n",
    "\n",
    "Write an `ALTER` clause that will modify the `origin` clause to your selected data-type.\n",
    "\n",
    "**Relevant Notes/Labs**\n",
    "* [1/17 Intro to SQL Notes](https://github.com/The-Knowledge-House/DS_22/blob/860bbefaf0a022b415857823a1e9e9cf034d01e5/phase_2/week_7/1_17/sql_II_notes.ipynb)"
   ]
  },
  {
   "cell_type": "code",
   "execution_count": null,
   "metadata": {},
   "outputs": [],
   "source": []
  },
  {
   "attachments": {},
   "cell_type": "markdown",
   "metadata": {},
   "source": [
    "## Q7\n",
    "\n",
    "Write a query that groups the orders table by coffee-type, and calculates the total kgs of coffee-type ordered.\n",
    "\n",
    "**Relevant Notes/Labs**\n",
    "* [1/17 Intro to SQL Lab](https://github.com/The-Knowledge-House/DS_22/blob/860bbefaf0a022b415857823a1e9e9cf034d01e5/phase_2/week_7/1_17/sql_II_coding_exercise.ipynb)"
   ]
  },
  {
   "cell_type": "code",
   "execution_count": null,
   "metadata": {
    "vscode": {
     "languageId": "sql"
    }
   },
   "outputs": [],
   "source": []
  },
  {
   "attachments": {},
   "cell_type": "markdown",
   "metadata": {},
   "source": [
    "## Q8\n",
    "\n",
    "Write a query that joins these two tables together by coffee-type, and reveal the origin & destination of this order.\n",
    "\n",
    "**Relevant Notes/Labs**\n",
    "* [1/17 Intro to SQL Notes](https://github.com/The-Knowledge-House/DS_22/blob/main/phase_2/week_7/1_17/sql_II_notes.ipynb)\n",
    "* [1/17 Intro to SQL Lab](https://github.com/The-Knowledge-House/DS_22/blob/main/phase_2/week_7/1_17/sql_II_coding_exercise.ipynb)"
   ]
  },
  {
   "cell_type": "code",
   "execution_count": null,
   "metadata": {
    "vscode": {
     "languageId": "sql"
    }
   },
   "outputs": [],
   "source": []
  },
  {
   "attachments": {},
   "cell_type": "markdown",
   "metadata": {},
   "source": [
    "## Q9\n",
    "\n",
    "Write a `CREATE TABLE` query to create a new table called `companies`, which describes the following table:\n",
    "\n",
    "*companies*\n",
    "| comp_id | country  | name          |\n",
    "| ------- | -------- | ------------- |\n",
    "|  0      | USA      | Barstucks     |\n",
    "|  1      | USA      | Golfers       |\n",
    "|  2      | Germany  | Krönung       |\n",
    "|  3      | Japan    | UCC           |\n",
    "|  4      | France   | Carte Noire   |\n",
    "\n",
    "Try to make the best possible decision for each data-type, and decide what would be an ideal [primary key](https://www.tutorialspoint.com/sql/sql-primary-key.htm).\n",
    "\n",
    "**Relevant Notes/Labs**\n",
    "* [1/9 Intro to SQL Notes](https://github.com/The-Knowledge-House/DS_22/blob/main/phase_2/week_6/1_9/sql_intro_notes.ipynb)"
   ]
  },
  {
   "cell_type": "code",
   "execution_count": null,
   "metadata": {
    "vscode": {
     "languageId": "sql"
    }
   },
   "outputs": [],
   "source": []
  },
  {
   "attachments": {},
   "cell_type": "markdown",
   "metadata": {},
   "source": [
    "## Q10\n",
    "\n",
    "Create a join query to join all 3 tables (`companies`, `warehouse`, `orders`) in order to create a table that describes all orders, along with warehouse & company information.'\n",
    "\n",
    "**Relevant Notes/Labs**\n",
    "* [1/17 Intro to SQL Notes](https://github.com/The-Knowledge-House/DS_22/blob/main/phase_2/week_7/1_17/sql_II_notes.ipynb)\n",
    "* [1/17 Intro to SQL Lab](https://github.com/The-Knowledge-House/DS_22/blob/main/phase_2/week_7/1_17/sql_II_coding_exercise.ipynb)"
   ]
  },
  {
   "cell_type": "code",
   "execution_count": null,
   "metadata": {
    "vscode": {
     "languageId": "sql"
    }
   },
   "outputs": [],
   "source": []
  },
  {
   "attachments": {},
   "cell_type": "markdown",
   "metadata": {},
   "source": [
    "# SQLAlchemy Basics\n",
    "\n",
    "Questions 11 - 15 will go over the basics of sql-alchemy. This will entail using the company data-tables saved in the `aws` postgres database, which include `jobs`, `salaries`, and `skills`. To get a better understanding of these tables, consult the company's [planning documents](https://drive.google.com/drive/folders/1z4EwdbyfUzf-FuRTJfVMaRSm5-R25viA).\n",
    "\n",
    "You will additionally use `pandas` to do some light exploration of these tables."
   ]
  },
  {
   "attachments": {},
   "cell_type": "markdown",
   "metadata": {},
   "source": [
    "## Q11\n",
    "\n",
    "Import all 3 of your tables using sqlalchemy, and convert them into Python objects using the `auto_mapper`. \n",
    "\n",
    "**Relevant Notes/Labs**\n",
    "* [2/1 Intro to SQL Notes](https://github.com/The-Knowledge-House/DS_22/blob/main/phase_2/week_9/Lab/intermediate_sql_lab_notes.ipynb)"
   ]
  },
  {
   "cell_type": "code",
   "execution_count": null,
   "metadata": {},
   "outputs": [],
   "source": []
  },
  {
   "attachments": {},
   "cell_type": "markdown",
   "metadata": {},
   "source": [
    "## Q12\n",
    "\n",
    "Create session and use these 3 python classes to save data into 3 seperate dataframes.\n",
    "\n",
    "**Relevant Notes/Labs**\n",
    "* [2/1 Intro to SQL Notes](https://github.com/The-Knowledge-House/DS_22/blob/main/phase_2/week_9/Lab/intermediate_sql_lab_notes.ipynb)"
   ]
  },
  {
   "cell_type": "code",
   "execution_count": null,
   "metadata": {},
   "outputs": [],
   "source": []
  },
  {
   "attachments": {},
   "cell_type": "markdown",
   "metadata": {},
   "source": [
    "## Q13\n",
    "\n",
    "Write pandas code to discover which company name appears the most often in your jobs dataframe.\n",
    "\n",
    "**Relevant Notes/Labs**\n",
    "* [2/1 Intro to SQL Notes](https://github.com/The-Knowledge-House/DS_22/blob/main/phase_2/week_9/Lab/intermediate_sql_lab_notes.ipynb)\n",
    "* [1/9 Intro to SQL Lab](https://github.com/The-Knowledge-House/DS_22/blob/main/phase_2/week_6/1_9/sql_intro_notes.ipynb)"
   ]
  },
  {
   "cell_type": "code",
   "execution_count": null,
   "metadata": {},
   "outputs": [],
   "source": []
  },
  {
   "attachments": {},
   "cell_type": "markdown",
   "metadata": {},
   "source": [
    "## Q14\n",
    "\n",
    "Write pandas code to discover the median salary of the `salary_standardized` column of your salary dataframe.\n",
    "\n",
    "**Relevant Notes/Labs**\n",
    "* [2/1 Intro to SQL Notes](https://github.com/The-Knowledge-House/DS_22/blob/main/phase_2/week_9/Lab/intermediate_sql_lab_notes.ipynb)\n",
    "* [1/9 Intro to SQL Lab](https://github.com/The-Knowledge-House/DS_22/blob/main/phase_2/week_6/1_9/sql_intro_notes.ipynb)"
   ]
  },
  {
   "cell_type": "code",
   "execution_count": null,
   "metadata": {},
   "outputs": [],
   "source": []
  },
  {
   "attachments": {},
   "cell_type": "markdown",
   "metadata": {},
   "source": [
    "## Q15\n",
    "\n",
    "A project-manager in `InRecruit` decided to try their hand in database programming just to brush off some cobwebs and relive the glory days of being a junior developer. \n",
    "\n",
    "However, it's been a while since they've manipulated a database and, of course, have managed to change one too many rows.\n",
    "\n",
    "And, as they say, \"problems originating from the top of an organizational hierarchy often become the responsibilities of those lower down\", i.e. it is now your responsibility to fix this mistake.\n",
    "\n",
    "They've accidentally replaced all `null` values in the `salaries` table with 0's. How can we use `sqlalchemy` to change all nulls back into 0's?\n",
    "\n",
    "Write out a piece of code that you believe will allow you to accomplish this.\n",
    "\n",
    "**Relevant Notes/Labs**\n",
    "* [2/1 Intro to SQL Notes](https://github.com/The-Knowledge-House/DS_22/blob/main/phase_2/week_9/Lab/intermediate_sql_lab_notes.ipynb)\n",
    "* [1/9 Intro to SQL Lab](https://github.com/The-Knowledge-House/DS_22/blob/main/phase_2/week_6/1_9/sql_intro_notes.ipynb)\n",
    "* [SqlAlchemy Docs](https://docs.sqlalchemy.org/en/20/)"
   ]
  },
  {
   "cell_type": "code",
   "execution_count": null,
   "metadata": {},
   "outputs": [],
   "source": []
  },
  {
   "attachments": {},
   "cell_type": "markdown",
   "metadata": {},
   "source": [
    "# PostgreSQL Nuances \n",
    "\n",
    "Questions 16 - 20 will go over nuanced postgres features. We create queries based on the following tables:\n",
    "\n",
    "*A*\n",
    "| id      | color     |\n",
    "| ------- | --------- |\n",
    "| 0       | red       |\n",
    "| 1       | red       |\n",
    "| 2       | green     |\n",
    "| 3       | blue      |\n",
    "\n",
    "primary key = id\n",
    "\n",
    "*B*\n",
    "| order | id     | quantity    |\n",
    "| ----- | ------ | ----------- |\n",
    "| 0     |  0     | 10          |\n",
    "| 1     |  1     | 20          |\n",
    "| 2     |  2     | 5           |\n",
    "| 3     |  2     | 1           |\n",
    "| 4     |  3     | 15          |\n",
    "| 5     |  4     | 8           |\n",
    "| 6     |  5     | 12          |\n",
    "\n",
    "primary key = order\n",
    "[foreign key](https://www.tutorialspoint.com/sql/sql-foreign-key.htm) = id"
   ]
  },
  {
   "attachments": {},
   "cell_type": "markdown",
   "metadata": {},
   "source": [
    "## Q16\n",
    "\n",
    "Write a query that utilizes a `set` operation to get all id's (`id`) that only appear in both tables.\n",
    "\n",
    "**Relevant Notes/Labs**s\n",
    "* [Intro to SQL II 1/10 Slides](https://docs.google.com/presentation/d/1HORkuuOqz2jpurRW5CVp2ASoXE_2YyUDHCo_bEknneU/edit?usp=sharing)"
   ]
  },
  {
   "cell_type": "code",
   "execution_count": null,
   "metadata": {
    "vscode": {
     "languageId": "sql"
    }
   },
   "outputs": [],
   "source": []
  },
  {
   "attachments": {},
   "cell_type": "markdown",
   "metadata": {},
   "source": [
    "## Q17\n",
    "\n",
    "Write a query that utilizes a `set` operation to get all id's (`id`) that only appear in the `B` table.\n",
    "\n",
    "**Relevant Notes/Labs**\n",
    "* [Intro to SQL Lab](https://docs.google.com/presentation/d/1HORkuuOqz2jpurRW5CVp2ASoXE_2YyUDHCo_bEknneU/edit?usp=sharing)"
   ]
  },
  {
   "cell_type": "code",
   "execution_count": null,
   "metadata": {
    "vscode": {
     "languageId": "sql"
    }
   },
   "outputs": [],
   "source": []
  },
  {
   "attachments": {},
   "cell_type": "markdown",
   "metadata": {},
   "source": [
    "## Q18\n",
    "\n",
    "We have a function called `new_prod()` which automatically creates a new row in the `B` table every time a new row is inserted into the `A` table. Namely, it takes the new `id` inserted into the `A` table, and automatically creates a row in `B` with `(new.id, 1)`. \n",
    "\n",
    "Write out a query which will hook up this function to a trigger for the `A` table.\n",
    "\n",
    "**Relevant Notes/Labs**\n",
    "* [Intermediate SQL I Slides](https://docs.google.com/presentation/d/1hBV5gxKHDoUDduRFgvSHRBpcrhMEDIN0Z178ZU6FtCw/edit?usp=sharing)"
   ]
  },
  {
   "cell_type": "code",
   "execution_count": null,
   "metadata": {
    "vscode": {
     "languageId": "sql"
    }
   },
   "outputs": [],
   "source": []
  },
  {
   "attachments": {},
   "cell_type": "markdown",
   "metadata": {},
   "source": [
    "## Q19\n",
    "\n",
    "What is the relationship between table `A` and table `B` regarding the primary-key `id` in `A` and the foreign key `id` in `B`.\n",
    "\n",
    "**Relevant Notes/Labs**\n",
    "* [1/24 Intermediate SQL Notes](https://docs.google.com/presentation/d/11rmg6RQ6R9veGuFUWvWZZ339bVTVi61A-3K44KGrV9A/edit?usp=sharing)"
   ]
  },
  {
   "cell_type": "code",
   "execution_count": 1,
   "metadata": {},
   "outputs": [
    {
     "name": "stdout",
     "output_type": "stream",
     "text": [
      "One to One\n",
      "One to Many\n",
      "Many to Many\n"
     ]
    }
   ],
   "source": [
    "#print(\"One to One\")\n",
    "#print(\"One to Many\")\n",
    "#print(\"Many to Many\")"
   ]
  },
  {
   "attachments": {},
   "cell_type": "markdown",
   "metadata": {},
   "source": [
    "## Q20\n",
    "\n",
    "What is the most in-demand skill for data analysts in 2023. \n",
    "\n",
    "**Relevant Notes/Labs**\n",
    "..."
   ]
  },
  {
   "cell_type": "code",
   "execution_count": 2,
   "metadata": {},
   "outputs": [
    {
     "name": "stdout",
     "output_type": "stream",
     "text": [
      "Python\n",
      "SQL\n",
      "Tableau\n",
      "The ability to interpet morse code from vibrations in the air\n"
     ]
    }
   ],
   "source": [
    "print(\"Python\")\n",
    "print(\"SQL\")\n",
    "print(\"Tableau\")\n",
    "print(\"The ability to interpet morse code from vibrations in the air\")"
   ]
  }
 ],
 "metadata": {
  "kernelspec": {
   "display_name": "Python 3",
   "language": "python",
   "name": "python3"
  },
  "language_info": {
   "codemirror_mode": {
    "name": "ipython",
    "version": 3
   },
   "file_extension": ".py",
   "mimetype": "text/x-python",
   "name": "python",
   "nbconvert_exporter": "python",
   "pygments_lexer": "ipython3",
   "version": "3.10.7"
  },
  "orig_nbformat": 4,
  "vscode": {
   "interpreter": {
    "hash": "369f2c481f4da34e4445cda3fffd2e751bd1c4d706f27375911949ba6bb62e1c"
   }
  }
 },
 "nbformat": 4,
 "nbformat_minor": 2
}
