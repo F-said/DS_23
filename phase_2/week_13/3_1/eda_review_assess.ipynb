{
 "cells": [
  {
   "attachments": {},
   "cell_type": "markdown",
   "metadata": {},
   "source": [
    "## EDA & Statistics Basics\n",
    "\n",
    "Questions 1 - 10 will go over the basics of exploratory data analysis. However, before we can start, we must load the companies data back into our jupyter notebook. This will again entail using the company data-tables saved in the `aws` postgres database, which include `jobs`, `salaries`, and `skills`. To get a better understanding of these tables, consult the company's [planning documents](https://drive.google.com/drive/folders/1z4EwdbyfUzf-FuRTJfVMaRSm5-R25viA).\n",
    "\n",
    "You will additionally use `pandas` to do some exploratory data analysis."
   ]
  },
  {
   "attachments": {},
   "cell_type": "markdown",
   "metadata": {},
   "source": [
    "## Q1\n",
    "\n",
    "Import all 3 of your tables using sqlalchemy, and convert them into Python objects using the `auto_mapper`. Then, create 3 dataframes from the data pulled a session object. Be sure to dispose your engine after creating these dataframes.\n",
    "\n",
    "**Relevant Notes/Labs**\n",
    "* [2/1 Intro to SQL Notes](https://github.com/The-Knowledge-House/DS_22/blob/main/phase_2/week_9/Lab/intermediate_sql_lab_notes.ipynb)"
   ]
  },
  {
   "cell_type": "code",
   "execution_count": null,
   "metadata": {},
   "outputs": [],
   "source": []
  },
  {
   "attachments": {},
   "cell_type": "markdown",
   "metadata": {},
   "source": [
    "## Q2\n",
    "\n",
    "Join all 3 pandas dataframes that you created above on the primary key columns. Consult the planning docs to figure out how these tables were planned. Save this dataframe into a new variable.\n",
    "\n",
    "**Relevant Notes/Labs**\n",
    "* [Pandas Docs](https://pandas.pydata.org/docs/reference/api/pandas.DataFrame.join.html)"
   ]
  },
  {
   "cell_type": "code",
   "execution_count": null,
   "metadata": {},
   "outputs": [],
   "source": []
  },
  {
   "attachments": {},
   "cell_type": "markdown",
   "metadata": {},
   "source": [
    "## Q3\n",
    "\n",
    "Create a new dataframe that drops all null values in `salary_standardized` from this newly joined dataframe. Use this new dataframe to calculate the minimum offered `salary_standardized`, the maximum, the mean, and the standard deviation.\n",
    "\n",
    "**Relevant Notes/Labs**\n",
    "* [1/3 Pandas Cleaning Notes](https://github.com/The-Knowledge-House/DS_22/blob/main/phase_2/week_5/1_3/pandas_cleaning_notes.ipynb)"
   ]
  },
  {
   "cell_type": "code",
   "execution_count": null,
   "metadata": {},
   "outputs": [],
   "source": []
  },
  {
   "attachments": {},
   "cell_type": "markdown",
   "metadata": {},
   "source": [
    "## Q4\n",
    "\n",
    "You'll notice that the `work_from_home` column in this cleaned dataframe has mostly `null` values. This indicates that the employer did not indicate if this job was remote friendly. We are going to assume that unless a job **explicitly** states that it allows remote work (`work_from_home == True`), it is not remote-friendly.\n",
    "\n",
    "Mark all these `null` values as False.\n",
    "\n",
    "**Relevant Notes/Labs**\n",
    "* [1/3 Pandas Cleaning Notes](https://github.com/The-Knowledge-House/DS_22/blob/main/phase_2/week_5/1_3/pandas_cleaning_notes.ipynb)"
   ]
  },
  {
   "cell_type": "code",
   "execution_count": null,
   "metadata": {},
   "outputs": [],
   "source": []
  },
  {
   "attachments": {},
   "cell_type": "markdown",
   "metadata": {},
   "source": [
    "## Q5\n",
    "\n",
    "Create 2 new dataframes that filter for `work_from_home == True` and `work_from_home == False`.\n",
    "\n",
    "**Relevant Notes/Labs**\n",
    "* [12/13 Intro to Pandas Lab](https://github.com/The-Knowledge-House/DS_22/blob/main/phase_2/week_2/12_13/pandas_II_notes.ipynb)"
   ]
  },
  {
   "cell_type": "code",
   "execution_count": null,
   "metadata": {},
   "outputs": [],
   "source": []
  },
  {
   "attachments": {},
   "cell_type": "markdown",
   "metadata": {},
   "source": [
    "## Q6\n",
    "\n",
    "For this assessment's EDA, we are interested in revealing the difference in salary between remote workers & non-remote workers. To better support this portion of the data science pipeline, let's create an initial write-up. \n",
    "\n",
    "Fill in each corresponding sections with 1-3 sentences to fulfill the respective prompt.\n",
    "\n",
    "**Relevant Notes/Labs**\n",
    "* [2/6 Intro to Tableau Notes](https://github.com/The-Knowledge-House/DS_22/blob/main/phase_2/week_10/2_6/intro_to_tableau_notes.ipynb)"
   ]
  },
  {
   "attachments": {},
   "cell_type": "markdown",
   "metadata": {},
   "source": [
    "**Background**\n",
    "Google salary outcomes for remote workers. What findings does the media and relevant literature state about salary outcomes for remote workers? Are they higher? lower? Include relevant links\n",
    "\n",
    "Answer here\n",
    "\n",
    "**Goal for Analysis**\n",
    "What is the goal for this EDA analysis? \n",
    "\n",
    "Answer here\n",
    "\n",
    "**Business Applications**\n",
    "What would be the potential business utility of insight from this dataset?\n",
    "\n",
    "Answer here"
   ]
  },
  {
   "attachments": {},
   "cell_type": "markdown",
   "metadata": {},
   "source": [
    "## Q7\n",
    "\n",
    "Create histograms using seaborn to plot the distribution of `salary_standardized` for both remote work and non-remote work. For each category, use the corresponding number of bins\n",
    "* 10 bins\n",
    "* 20 bins\n",
    "* 100 bins\n",
    "\n",
    "In total, you should have 6 histograms.\n",
    "\n",
    "**Relevant Notes/Labs**\n",
    "* [2/21 Data Analytics Notes](https://github.com/The-Knowledge-House/DS_22/blob/main/phase_2/week_12/2_21/data_analytics_notes.ipynb)"
   ]
  },
  {
   "cell_type": "code",
   "execution_count": null,
   "metadata": {},
   "outputs": [],
   "source": []
  },
  {
   "cell_type": "code",
   "execution_count": null,
   "metadata": {},
   "outputs": [],
   "source": []
  },
  {
   "cell_type": "code",
   "execution_count": null,
   "metadata": {},
   "outputs": [],
   "source": []
  },
  {
   "cell_type": "code",
   "execution_count": null,
   "metadata": {},
   "outputs": [],
   "source": []
  },
  {
   "cell_type": "code",
   "execution_count": null,
   "metadata": {},
   "outputs": [],
   "source": []
  },
  {
   "cell_type": "code",
   "execution_count": null,
   "metadata": {},
   "outputs": [],
   "source": []
  },
  {
   "attachments": {},
   "cell_type": "markdown",
   "metadata": {},
   "source": [
    "## Q8\n",
    "\n",
    "Run a kolmogorov-smirnov test for normality for both categories. Take note of the p-value for both.\n",
    "\n",
    "**Relevant Notes/Labs**\n",
    "* [2/21 Data Analytics Notes](https://github.com/The-Knowledge-House/DS_22/blob/main/phase_2/week_12/2_21/data_analytics_notes.ipynb)"
   ]
  },
  {
   "cell_type": "code",
   "execution_count": null,
   "metadata": {},
   "outputs": [],
   "source": []
  },
  {
   "attachments": {},
   "cell_type": "markdown",
   "metadata": {},
   "source": [
    "## Q9\n",
    "\n",
    "Create a seaborn boxplot on the `cleaned` dataframe (non-split dataframe) to view the distribution of remote jobs and non-remote jobs. Take note of the relative positions of the median. \n",
    "\n",
    "**Relevant Notes/Labs**\n",
    "* [12/13 Intro to Pandas Lab](https://github.com/The-Knowledge-House/DS_22/blob/main/phase_2/week_2/12_13/pandas_II_notes.ipynb)"
   ]
  },
  {
   "cell_type": "code",
   "execution_count": null,
   "metadata": {},
   "outputs": [],
   "source": []
  },
  {
   "attachments": {},
   "cell_type": "markdown",
   "metadata": {},
   "source": [
    "## Q10\n",
    "\n",
    "What did your analysis reveal?\n",
    "\n",
    "Fill in the corresponding sections with your observations.\n",
    "\n",
    "**Relevant Notes/Labs**\n",
    "* [2/6 Intro to Tableau Notes](https://github.com/The-Knowledge-House/DS_22/blob/main/phase_2/week_10/2_6/intro_to_tableau_notes.ipynb)"
   ]
  },
  {
   "attachments": {},
   "cell_type": "markdown",
   "metadata": {},
   "source": [
    "**Outcomes**\n",
    "What distributions did both your categories take? Did they share a similiar distribution?\n",
    "\n",
    "\n",
    "Which category had the most outliers (right or left)?\n",
    "\n",
    "\n",
    "Is there an obvious difference in medians across categories?\n",
    "\n",
    "\n",
    "\n",
    "**Next Steps**\n",
    "What potential next steps would you like to do to improve your analysis?"
   ]
  },
  {
   "attachments": {},
   "cell_type": "markdown",
   "metadata": {},
   "source": [
    "## Basics of Statistics\n",
    "\n",
    "Questions 11 - 15 will go through some essential knowledge of statistics that we need in order best apply analytical methods & competently answer interview questions.\n",
    "\n",
    "Either uncomment the multiple choice option that you believe best answers a respective question, or fill in the blank `print()` statement with your open-ended answer."
   ]
  },
  {
   "attachments": {},
   "cell_type": "markdown",
   "metadata": {},
   "source": [
    "## Q11\n",
    "\n",
    "Which statement best describes the central limit theorem? Comment out the print statement that contains the correct answer."
   ]
  },
  {
   "cell_type": "code",
   "execution_count": null,
   "metadata": {},
   "outputs": [],
   "source": [
    "# print(\"the sampling distribution of the sample mean is approximately normal under certain conditions.\")\n",
    "# print(\"as a sample size grows, its mean gets closer to the average of the whole population\")\n",
    "# print(\"the average of a data set\")\n",
    "# print(\"the most frequent number of a data set\")"
   ]
  },
  {
   "attachments": {},
   "cell_type": "markdown",
   "metadata": {},
   "source": [
    "## Q12\n",
    "\n",
    "Which statement best describes the law of large numbers? Comment out the print statement that contains the correct answer."
   ]
  },
  {
   "cell_type": "code",
   "execution_count": null,
   "metadata": {},
   "outputs": [],
   "source": [
    "# print(\"the sampling distribution of the sample mean is approximately normal under certain conditions.\")\n",
    "# print(\"as a sample size grows, its mean gets closer to the average of the whole population\")\n",
    "# print(\"the average of a data set\")\n",
    "# print(\"the most frequent number of a data set\")"
   ]
  },
  {
   "attachments": {},
   "cell_type": "markdown",
   "metadata": {},
   "source": [
    "## Q13\n",
    "\n",
    "What is the minimum number of samples for the central limit theorem to be true? Comment out the print statement that contains the correct answer."
   ]
  },
  {
   "cell_type": "code",
   "execution_count": null,
   "metadata": {},
   "outputs": [],
   "source": [
    "# print(\"100\")\n",
    "# print(\"20\")\n",
    "# print(\"30\")\n",
    "# print(\"5\")"
   ]
  },
  {
   "attachments": {},
   "cell_type": "markdown",
   "metadata": {},
   "source": [
    "## Q14\n",
    "\n",
    "If the p-value of a hypothesis test is less than 0.05, what do we state about the null hypothesis? Answer in your own words."
   ]
  },
  {
   "cell_type": "code",
   "execution_count": null,
   "metadata": {},
   "outputs": [],
   "source": [
    "print(\"\")"
   ]
  },
  {
   "attachments": {},
   "cell_type": "markdown",
   "metadata": {},
   "source": [
    "## Q15\n",
    "\n",
    "After viewing our distribution for standardized salary in the dataset, we notice a couple of salaries >$200k for CEO positions. This is forcing an otherwise normal distribution to be right-skewed. How would you handle these values? Answer in your own words."
   ]
  },
  {
   "cell_type": "code",
   "execution_count": null,
   "metadata": {},
   "outputs": [],
   "source": [
    "print(\"\")"
   ]
  }
 ],
 "metadata": {
  "kernelspec": {
   "display_name": "Python 3",
   "language": "python",
   "name": "python3"
  },
  "language_info": {
   "name": "python",
   "version": "3.10.7"
  },
  "orig_nbformat": 4,
  "vscode": {
   "interpreter": {
    "hash": "369f2c481f4da34e4445cda3fffd2e751bd1c4d706f27375911949ba6bb62e1c"
   }
  }
 },
 "nbformat": 4,
 "nbformat_minor": 2
}
