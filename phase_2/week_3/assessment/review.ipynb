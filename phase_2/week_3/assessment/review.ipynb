{
 "cells": [
  {
   "attachments": {},
   "cell_type": "markdown",
   "metadata": {},
   "source": [
    "## End of Phase 1 Review\n",
    "\n",
    "The following are question that are similair to the end of phase assessment, their solutions and respective explanations."
   ]
  },
  {
   "attachments": {},
   "cell_type": "markdown",
   "metadata": {},
   "source": [
    "## Q1 Basic Python\n",
    "\n",
    "Implement the following lines of pseudocode in Python using basic operators. \n",
    "\n",
    "This tests your understanding of:\n",
    "* Variable Assignment\n",
    "* Conditionals"
   ]
  },
  {
   "cell_type": "code",
   "execution_count": 11,
   "metadata": {},
   "outputs": [
    {
     "name": "stdout",
     "output_type": "stream",
     "text": [
      "708\n",
      "298\n",
      "f is greater than 100\n"
     ]
    },
    {
     "data": {
      "text/plain": [
       "12"
      ]
     },
     "execution_count": 11,
     "metadata": {},
     "output_type": "execute_result"
    }
   ],
   "source": [
    "d = 503\n",
    "e = 205\n",
    "\n",
    "# create a variable called \"f\" which contains the sum of d & e\n",
    "f = d + e \n",
    "print(f)\n",
    "\n",
    "# create a variable called \"g\" which contains the difference of d & e\n",
    "g = d - e\n",
    "print(g)\n",
    "\n",
    "# if \"f\" is less than 100, print out \"hello world\"\n",
    "# ==\n",
    "# >, <, >=, <=, !=\n",
    "if f < 100:\n",
    "    print(\"hello world\")\n",
    "else:\n",
    "    print(\"f is greater than 100\")\n",
    "\n",
    "# create a variable called \"phrase\" which contains the sentence \"hello world!\"\n",
    "phrase = \"hello world!\"\n",
    "\n",
    "# using the \"len()\" function, print out the length of the variable \"phrase\"\n",
    "len(phrase)"
   ]
  },
  {
   "attachments": {},
   "cell_type": "markdown",
   "metadata": {},
   "source": [
    "## Q2 Basic Data-Structures\n",
    "\n",
    "Implement the following lines of pseudocode in Python using basic data-structures syntax. \n",
    "\n",
    "This tests your understanding of:\n",
    "* Loops\n",
    "* Data-Structures"
   ]
  },
  {
   "cell_type": "code",
   "execution_count": 18,
   "metadata": {},
   "outputs": [
    {
     "name": "stdout",
     "output_type": "stream",
     "text": [
      "10\n",
      "21\n",
      "{15, 16, 17, 18, 19, 20, 21}\n",
      "32900\n",
      "{'2022 Hyundai Sonata': 24000, '2022 Toyota RAV4': 32900, '2022 Ford Explorer': 35000, '2022 Toyota Camry': 27000}\n"
     ]
    }
   ],
   "source": [
    "# create a list called \"nums1\" that contains the numbers 10 through 20\n",
    "nums1 = [10, 11, 12, 13, 14, 15, 16, 17, 18, 19, 20, 21]\n",
    "\n",
    "# print out the first number in this list\n",
    "print(nums1[0])\n",
    "\n",
    "# print out the last number in this list\n",
    "print(nums1[-1])\n",
    "\n",
    "# create a list called \"nums2\" that contains the numbers 15 through 25\n",
    "nums2 = [15, 16, 17, 18, 19, 20, 21, 22, 23, 24, 25]\n",
    "\n",
    "# convert \"nums1\" to a set and call it \"set1\"\n",
    "set1 = set(nums1)\n",
    "\n",
    "# convert \"nums2\" to a set and call it \"set2\"\n",
    "set2 = set(nums2)\n",
    "\n",
    "# get the union of set1 and set2 and assign it to a variable called \"uni\"\n",
    "uni = set1.intersection(set2)\n",
    "\n",
    "# print out \"uni\"\n",
    "print(uni)\n",
    "\n",
    "# notice the dictionary below\n",
    "prices = {\"2022 Hyundai Sonata\": 24_000, \"2022 Toyota RAV4\": 32_900 , \"2022 Ford Explorer\": 35_000}\n",
    "\n",
    "# print out the price of a \"2022 Toyota RAV4\" using the dictionary\n",
    "print(prices[\"2022 Toyota RAV4\"])\n",
    "\n",
    "# add the following key-value pair to the \"prices\" dictionary without recreating the dictionary\n",
    "#  \"2022 Toyota Camry\" : 27_000\n",
    "prices[\"2022 Toyota Camry\"] = 27_000\n",
    "print(prices)"
   ]
  },
  {
   "attachments": {},
   "cell_type": "markdown",
   "metadata": {},
   "source": [
    "## Q3 Basic Loops\n",
    "\n",
    "Implement the following lines of pseudocode in Python using basic loop syntax. \n",
    "\n",
    "This tests your understanding of:\n",
    "* Loops\n",
    "* Data-Structures"
   ]
  },
  {
   "cell_type": "code",
   "execution_count": 29,
   "metadata": {},
   "outputs": [
    {
     "name": "stdout",
     "output_type": "stream",
     "text": [
      "4\n",
      "5\n",
      "6\n",
      "7\n",
      "8\n",
      "9\n",
      "10\n"
     ]
    },
    {
     "data": {
      "text/plain": [
       "'HELLO WORLD!'"
      ]
     },
     "execution_count": 29,
     "metadata": {},
     "output_type": "execute_result"
    }
   ],
   "source": [
    "# create a for-loop that prints out all integers from 20 to 40 (20, 21, 22, ...)\n",
    "#for i in range(20, 41):\n",
    "    #print(i)\n",
    "#print()\n",
    "# create a while-loop that prints out all integers from 20 to 40 (20, 21, 22, ...)\n",
    "i = 20\n",
    "#while i < 41:\n",
    "    #print(i)\n",
    "    #i += 1\n",
    "#print()\n",
    "# create a for-loop that prints out all integers from 40 to 20 (40, 39, 38, ...)\n",
    "#for i in range(40, 19, -1):\n",
    "    #print(i)\n",
    "\n",
    "# create a for-loop that will print out all numbers from the \"integers\" list\n",
    "integers = [4, 5, 6, 7, 8, 9, 10]\n",
    "\n",
    "for num in integers:\n",
    "    print(num)\n",
    "\n",
    "# upper case the string \"phrase\"\n",
    "phrase.upper()"
   ]
  },
  {
   "attachments": {},
   "cell_type": "markdown",
   "metadata": {},
   "source": [
    "## Q4 Statistics\n",
    "\n",
    "What is a key detail regarding the mean, median, and mode of a dataset that presents negatively skewed distribution. Comment out the print statement that contains the correct answer.\n",
    "\n",
    "This tests your understanding of:\n",
    "* Basic Statistics"
   ]
  },
  {
   "cell_type": "code",
   "execution_count": null,
   "metadata": {},
   "outputs": [],
   "source": [
    "# print(\"mean < median < mode\")\n",
    "# print(mean > median > mode\")\n",
    "# print(\"mean == median == mode\")\n",
    "# print(\"mean > median < mode\")"
   ]
  },
  {
   "attachments": {},
   "cell_type": "markdown",
   "metadata": {},
   "source": [
    "## Q5 Central Limit Theorem\n",
    "\n",
    "Which statement best describes the central limit theorem? Comment out the print statement that contains the correct answer.\n",
    "\n",
    "This tests your understanding of:\n",
    "* Basic Statistics"
   ]
  },
  {
   "attachments": {},
   "cell_type": "markdown",
   "metadata": {},
   "source": [
    "## Q6 Linear Search\n",
    "\n",
    "Create a function called `searcher` that will return `True` if the string variable `s` exists inside of the string `word`, and `False` if it does not. For this problem you cannot use the membership operator `in` and must solve this using a for-loop.\n",
    "\n",
    "Example 1\n",
    "```\n",
    "Input: word = \"hello\", s = \"e\"\n",
    "Output: True\n",
    "Reasion: \"e\" exists inside of `hello`\n",
    "```\n",
    "\n",
    "Example 2\n",
    "```\n",
    "Input: word = \"hello\", s = \"z\"\n",
    "Output: False\n",
    "Reasion: \"z\" does not exist inside of `hello`\n",
    "```\n",
    "\n",
    "This tests your understanding of:\n",
    "* Variable Assignment\n",
    "* Loops\n",
    "* Conditionals\n",
    "* Functions"
   ]
  },
  {
   "cell_type": "code",
   "execution_count": 30,
   "metadata": {},
   "outputs": [],
   "source": [
    "def search(lst, x):\n",
    "    # look through each letter\n",
    "    for letter in lst:\n",
    "        # if its the letter return true\n",
    "        if letter == x:\n",
    "            return True\n",
    "    # return false\n",
    "    return False "
   ]
  },
  {
   "cell_type": "code",
   "execution_count": 33,
   "metadata": {},
   "outputs": [
    {
     "name": "stdout",
     "output_type": "stream",
     "text": [
      "True\n"
     ]
    }
   ],
   "source": [
    "# this should return \"True\"\n",
    "print(search(\"hello\", \"e\"))"
   ]
  },
  {
   "attachments": {},
   "cell_type": "markdown",
   "metadata": {},
   "source": [
    "## Q7 Linear Search Complexity\n",
    "\n",
    "What is the time-complexity of the function `search` that you've created above? Uncomment the line of code that describes the correct big-O for time complexity.\n",
    "\n",
    "This tests your understanding of:\n",
    "* Big-O Notation"
   ]
  },
  {
   "cell_type": "code",
   "execution_count": null,
   "metadata": {},
   "outputs": [],
   "source": [
    "# print(\"O(1)\")\n",
    "print(\"O(n)\")\n",
    "# print(\"O(n^2)\")\n",
    "# print(\"O(n^3)\")"
   ]
  },
  {
   "attachments": {},
   "cell_type": "markdown",
   "metadata": {},
   "source": [
    "## Q8 Evens Collector\n",
    "\n",
    "Create a function called `collector` that will extract all even numbers from an int variable called `n`, and return those even numbers as a new string in sequential order. If this string variable does not have any even numbers, then we will return an empty string \"\".\n",
    "\n",
    "Example 1\n",
    "```\n",
    "Input: 1234\n",
    "Output: \"24\"\n",
    "Reasion: \"2\" and \"4\" were the only even numbers in the input.\n",
    "```\n",
    "\n",
    "Example 2\n",
    "```\n",
    "Input: \"135\"\n",
    "Output: \"\"\n",
    "Reasion: No even numbers existed within this input.\n",
    "```\n",
    "\n",
    "This tests your understanding of:\n",
    "* Variable Assignment\n",
    "* Loops\n",
    "* Conditionals\n",
    "* Functions"
   ]
  },
  {
   "cell_type": "code",
   "execution_count": 35,
   "metadata": {},
   "outputs": [],
   "source": [
    "def collector(w):\n",
    "    # create an empty string variable\n",
    "    new_int = \"\"\n",
    "\n",
    "    # loop through my letters\n",
    "    for letter in str(w):\n",
    "        # if ive detected an even, concat to my newstring\n",
    "        if int(letter) % 2 == 0:\n",
    "            new_int += letter\n",
    "    # return my newstring\n",
    "    return new_int"
   ]
  },
  {
   "cell_type": "code",
   "execution_count": 38,
   "metadata": {},
   "outputs": [
    {
     "name": "stdout",
     "output_type": "stream",
     "text": [
      "24\n"
     ]
    }
   ],
   "source": [
    "# this should return \"24\"\n",
    "print(collector(\"1234\"))"
   ]
  },
  {
   "attachments": {},
   "cell_type": "markdown",
   "metadata": {},
   "source": [
    "## Q9 Evens Collector Complexity\n",
    "\n",
    "What is the time-complexity of the function `collector` that you've created above? Uncomment the line of code that describes the correct big-O for time complexity.\n",
    "\n",
    "This tests your understanding of:\n",
    "* Big-O Notation"
   ]
  },
  {
   "cell_type": "code",
   "execution_count": null,
   "metadata": {},
   "outputs": [],
   "source": [
    "# print(\"O(1)\")\n",
    "print(\"O(n)\")\n",
    "# print(\"O(n^2)\")\n",
    "# print(\"O(n^3)\")"
   ]
  },
  {
   "attachments": {},
   "cell_type": "markdown",
   "metadata": {},
   "source": [
    "## Q10 Class Creation\n",
    "\n",
    "Create a class called \"Coordinate\" that describes an `(x, y)` cooridinate. This class will contain the following attributes:\n",
    "\n",
    "* x : int\n",
    "* y : int\n",
    "\n",
    "along with the following methods:\n",
    "\n",
    "* get_distance(): calculates the distance from the origin using the formula sqrt(x^2 + y^2)\n",
    "\n",
    "This tests your understanding of:\n",
    "* Object-Oriented Programming"
   ]
  },
  {
   "cell_type": "code",
   "execution_count": 44,
   "metadata": {},
   "outputs": [],
   "source": [
    "# write code here\n",
    "class Cooridinate:\n",
    "    def __init__(self, x, y):\n",
    "        self.x = x\n",
    "        self.y = y\n",
    "    \n",
    "    def get_distance(self):\n",
    "        return ((self.x ** 2) + (self.y ** 2)) ** (1/2)"
   ]
  },
  {
   "cell_type": "code",
   "execution_count": 45,
   "metadata": {},
   "outputs": [
    {
     "data": {
      "text/plain": [
       "11.180339887498949"
      ]
     },
     "execution_count": 45,
     "metadata": {},
     "output_type": "execute_result"
    }
   ],
   "source": [
    "test = Cooridinate(5, 10)\n",
    "test.get_distance()"
   ]
  }
 ],
 "metadata": {
  "kernelspec": {
   "display_name": "Python 3",
   "language": "python",
   "name": "python3"
  },
  "language_info": {
   "codemirror_mode": {
    "name": "ipython",
    "version": 3
   },
   "file_extension": ".py",
   "mimetype": "text/x-python",
   "name": "python",
   "nbconvert_exporter": "python",
   "pygments_lexer": "ipython3",
   "version": "3.10.7"
  },
  "orig_nbformat": 4,
  "vscode": {
   "interpreter": {
    "hash": "369f2c481f4da34e4445cda3fffd2e751bd1c4d706f27375911949ba6bb62e1c"
   }
  }
 },
 "nbformat": 4,
 "nbformat_minor": 2
}
