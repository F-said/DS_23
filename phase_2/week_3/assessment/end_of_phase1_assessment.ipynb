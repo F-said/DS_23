{
 "cells": [
  {
   "attachments": {},
   "cell_type": "markdown",
   "metadata": {},
   "source": [
    "## End of Phase 1 Assessment\n",
    "\n",
    "The following assessment details 10 questions that will gauge your understanding of the following concepts:\n",
    "\n",
    "* Variable Assignment\n",
    "* Loops\n",
    "* Conditionals\n",
    "* Functions\n",
    "* Object-Oriented Programming\n",
    "* Data-Structures\n",
    "* Big-O Notation\n",
    "* Basic Statistics\n",
    "\n",
    "Utilize all available resources (internet, stack-overflow, documentation, previous notes, etc) excluding collaboration. All solutions should be your own in order to accurately gauge your foundations. \n",
    "\n",
    "If you are stuck on any material, please feel free to consult the following videos for review:\n",
    "\n",
    "* [Q1 Review](https://drive.google.com/file/d/16iM75class6raKIsslyqz4eoQlIfdXNI/view?usp=share_link)\n",
    "* [Q2 Review](https://drive.google.com/file/d/1WffqeutMM0U9wyjbzmmdO69F3BaMrrqK/view?usp=share_link)\n",
    "* [Q3 Review](https://drive.google.com/file/d/1RJhMBF-sMsMUU5eXMDtFxGV2L6XYKkWw/view?usp=share_link)\n",
    "* [Q4-Q5 Review](https://drive.google.com/file/d/1UAJYAiG2g4FRSb71xDVufd-Olc7y4DEo/view?usp=share_link)\n",
    "* [Q6-Q7 Review](https://drive.google.com/file/d/1Hs-jBhcyS6KEl6D83cJx7zAZb8__lUWz/view?usp=share_link)\n",
    "* [Q8-Q9 Review](https://drive.google.com/file/d/1HhfjFHDSCv0ge82Le7XO44tFfioA4iRU/view?usp=share_link)\n",
    "* [Q10 Review](https://drive.google.com/file/d/103UIBYUKJczN4AubJt7ZcktLOqMAp_Rn/view?usp=share_link)\n",
    "\n",
    "Once completed, submit to the following link by December 23, 2022: \n",
    "\n",
    "Happy holidays! "
   ]
  },
  {
   "attachments": {},
   "cell_type": "markdown",
   "metadata": {},
   "source": [
    "## Q1 Basic Python\n",
    "\n",
    "Implement the following lines of pseudocode in Python using basic operators. \n",
    "\n",
    "This tests your understanding of:\n",
    "* Variable Assignment\n",
    "* Conditionals"
   ]
  },
  {
   "cell_type": "code",
   "execution_count": 1,
   "metadata": {},
   "outputs": [],
   "source": [
    "x = 10\n",
    "y = 5\n",
    "\n",
    "# create a variable called \"z\" which contains the sum of x & y\n",
    "\n",
    "\n",
    "# create a variable called \"a\" which contains the difference of x & y\n",
    "\n",
    "\n",
    "# if \"z\" is greater than 10, print out \"hello world\"\n",
    "\n",
    "\n",
    "# create a variable called \"word\" which contains the word \"Python\"\n",
    "\n",
    "\n",
    "# using the \"len()\" function, print out the length of the variable \"word\"\n"
   ]
  },
  {
   "attachments": {},
   "cell_type": "markdown",
   "metadata": {},
   "source": [
    "## Q2 Basic Data-Structures\n",
    "\n",
    "Implement the following lines of pseudocode in Python using basic data-structures syntax. \n",
    "\n",
    "This tests your understanding of:\n",
    "* Loops\n",
    "* Data-Structures"
   ]
  },
  {
   "cell_type": "code",
   "execution_count": null,
   "metadata": {},
   "outputs": [],
   "source": [
    "# create a list called \"nums1\" that contains the numbers 1 through 10\n",
    "\n",
    "\n",
    "# print out the first number in this list\n",
    "\n",
    "\n",
    "# print out the last number in this list\n",
    "\n",
    "\n",
    "# create a list called \"nums2\" that contains the numbers 5 through 15\n",
    "\n",
    "\n",
    "# convert \"nums1\" to a set and call it \"set1\"\n",
    "\n",
    "\n",
    "# convert \"nums2\" to a set and call it \"set2\"\n",
    "\n",
    "\n",
    "# get the intersection of nums1 and nums2 and assign it to a variable called \"intersect\"\n",
    "\n",
    "\n",
    "# print out \"intersect\"\n",
    "\n",
    "\n",
    "# notice the dictionary below\n",
    "prices = {\"2022 Hyundai Sonata\": 24_000, \"2022 Toyota RAV4\": 32_900 , \"2022 Ford Explorer\": 35_000}\n",
    "\n",
    "# print out the price of a \"2022 Hyundai Sonata\" using the dictionary\n",
    "\n",
    "\n",
    "# add the following key-value pair to the \"prices\" dictionary without recreating the dictionary\n",
    "#  \"2022 Toyota Camry\" : 27_000\n"
   ]
  },
  {
   "attachments": {},
   "cell_type": "markdown",
   "metadata": {},
   "source": [
    "## Q3 Basic Loops\n",
    "\n",
    "Implement the following lines of pseudocode in Python using basic loop syntax. \n",
    "\n",
    "This tests your understanding of:\n",
    "* Loops\n",
    "* Data-Structures"
   ]
  },
  {
   "cell_type": "code",
   "execution_count": null,
   "metadata": {},
   "outputs": [],
   "source": [
    "# create a for-loop that prints out all integers from 1 to 20 (1, 2, 3, ...)\n",
    "\n",
    "\n",
    "# create a while-loop that prints out all integers from 1 to 20 (1, 2, 3, ...)\n",
    "\n",
    "\n",
    "# create a for-loop that prints out all integers from 20 to 1 (20, 19, 18, ...)\n",
    "\n",
    "\n",
    "# create a for-loop that will print out all letters from the \"alpha\" list\n",
    "alpha = [\"a\", \"b\", \"c\", \"d\", \"e\"]\n",
    "\n",
    "\n",
    "# create a for-loop that will print out all letters and upper-case each letter\n"
   ]
  },
  {
   "attachments": {},
   "cell_type": "markdown",
   "metadata": {},
   "source": [
    "## Q4 Statistics\n",
    "\n",
    "What is a key detail regarding the mean, median, and mode of a dataset that presents normal distribution. Comment out the print statement that contains the correct answer.\n",
    "\n",
    "This tests your understanding of:\n",
    "* Basic Statistics"
   ]
  },
  {
   "cell_type": "code",
   "execution_count": null,
   "metadata": {},
   "outputs": [],
   "source": [
    "# print(\"mean < median < mode\")\n",
    "# print(mean > median > mode\")\n",
    "# print(\"mean == median == mode\")\n",
    "# print(\"mean > median < mode\")"
   ]
  },
  {
   "attachments": {},
   "cell_type": "markdown",
   "metadata": {},
   "source": [
    "## Q5 Central Limit Theorem\n",
    "\n",
    "Which statement best describes the central limit theorem? Comment out the print statement that contains the correct answer.\n",
    "\n",
    "This tests your understanding of:\n",
    "* Basic Statistics"
   ]
  },
  {
   "cell_type": "code",
   "execution_count": null,
   "metadata": {},
   "outputs": [],
   "source": [
    "# print(\"the sampling distribution of the sample mean is approximately normal under certain conditions.\")\n",
    "# print(\"as a sample size grows, its mean gets closer to the average of the whole population\")\n",
    "# print(\"the average of a data set\")\n",
    "# print(\"the most frequent number of a data set\")"
   ]
  },
  {
   "attachments": {},
   "cell_type": "markdown",
   "metadata": {},
   "source": [
    "## Q6 Linear Search\n",
    "\n",
    "Create a function called `searcher` that will return `True` if the integer `x` exists inside of the list `lst`, and `False` if it does not. For this problem you cannot use the membership operator `in` and must solve this using a for-loop.\n",
    "\n",
    "Example 1\n",
    "```\n",
    "Input: lst = [5, 4, 2, 10], x = 10\n",
    "Output: True\n",
    "Reasion: 10 exists inside of `lst`\n",
    "```\n",
    "\n",
    "Example 2\n",
    "```\n",
    "Input: lst = [5, 4, 2, 10], x = 3\n",
    "Output: False\n",
    "Reasion: 3 does not exist inside of `lst`\n",
    "```\n",
    "\n",
    "This tests your understanding of:\n",
    "* Variable Assignment\n",
    "* Loops\n",
    "* Conditionals\n",
    "* Functions"
   ]
  },
  {
   "cell_type": "code",
   "execution_count": null,
   "metadata": {},
   "outputs": [],
   "source": [
    "def search(lst, x):\n",
    "    pass"
   ]
  },
  {
   "cell_type": "code",
   "execution_count": null,
   "metadata": {},
   "outputs": [],
   "source": [
    "# this should return \"True\"\n",
    "print(search([5, 4, 2, 10], 10))"
   ]
  },
  {
   "attachments": {},
   "cell_type": "markdown",
   "metadata": {},
   "source": [
    "## Q7 Linear Search Complexity\n",
    "\n",
    "What is the time-complexity of the function `search` that you've created above? Uncomment the line of code that describes the correct big-O for time complexity.\n",
    "\n",
    "This tests your understanding of:\n",
    "* Big-O Notation"
   ]
  },
  {
   "cell_type": "code",
   "execution_count": null,
   "metadata": {},
   "outputs": [],
   "source": [
    "# print(\"O(1)\")\n",
    "# print(\"O(n)\")\n",
    "# print(\"O(n^2)\")\n",
    "# print(\"O(n^3)\")"
   ]
  },
  {
   "attachments": {},
   "cell_type": "markdown",
   "metadata": {},
   "source": [
    "## Q8 Vowel Collector\n",
    "\n",
    "Create a function called `collector` that will extract all vowels from a string variable called `w`, and return those vowels as a new string in sequential order. If this string variable does not have vowels, then we will return an empty string \"\".\n",
    "\n",
    "Example 1\n",
    "```\n",
    "Input: \"hello\"\n",
    "Output: \"eo\"\n",
    "Reasion: \"e\" and \"o\" were the only vowels in the input.\n",
    "```\n",
    "\n",
    "Example 2\n",
    "```\n",
    "Input: \"rhythyms\"\n",
    "Output: \"\"\n",
    "Reasion: No vowels existed within this input.\n",
    "```\n",
    "\n",
    "This tests your understanding of:\n",
    "* Variable Assignment\n",
    "* Loops\n",
    "* Conditionals\n",
    "* Functions"
   ]
  },
  {
   "cell_type": "code",
   "execution_count": null,
   "metadata": {},
   "outputs": [],
   "source": [
    "def collector(w):\n",
    "    pass"
   ]
  },
  {
   "cell_type": "code",
   "execution_count": null,
   "metadata": {},
   "outputs": [],
   "source": [
    "# this should return \"eo\"\n",
    "print(collector(\"hello\"))"
   ]
  },
  {
   "attachments": {},
   "cell_type": "markdown",
   "metadata": {},
   "source": [
    "## Q9 Vowel Collector Complexity\n",
    "\n",
    "What is the time-complexity of the function `collector` that you've created above? Uncomment the line of code that describes the correct big-O for time complexity.\n",
    "\n",
    "This tests your understanding of:\n",
    "* Big-O Notation"
   ]
  },
  {
   "cell_type": "code",
   "execution_count": null,
   "metadata": {},
   "outputs": [],
   "source": [
    "# print(\"O(1)\")\n",
    "# print(\"O(n)\")\n",
    "# print(\"O(n^2)\")\n",
    "# print(\"O(n^3)\")"
   ]
  },
  {
   "attachments": {},
   "cell_type": "markdown",
   "metadata": {},
   "source": [
    "## Q10 Class Creation\n",
    "\n",
    "Create a class called \"Coordinate\" that describes an `(x, y)` cooridinate. This class will contain the following attributes:\n",
    "\n",
    "* x : int\n",
    "* y : int\n",
    "\n",
    "along with the following methods:\n",
    "\n",
    "* get_distance(): calculates the distance from the origin using the formula (x^2 + y^2)\n",
    "\n",
    "This tests your understanding of:\n",
    "* Object-Oriented Programming"
   ]
  },
  {
   "cell_type": "code",
   "execution_count": null,
   "metadata": {},
   "outputs": [],
   "source": [
    "# write code here"
   ]
  },
  {
   "cell_type": "code",
   "execution_count": null,
   "metadata": {},
   "outputs": [],
   "source": [
    "test = Cooridinate(5, 10)\n",
    "test.get_distance()"
   ]
  }
 ],
 "metadata": {
  "kernelspec": {
   "display_name": "Python 3",
   "language": "python",
   "name": "python3"
  },
  "language_info": {
   "codemirror_mode": {
    "name": "ipython",
    "version": 3
   },
   "file_extension": ".py",
   "mimetype": "text/x-python",
   "name": "python",
   "nbconvert_exporter": "python",
   "pygments_lexer": "ipython3",
   "version": "3.10.7 (tags/v3.10.7:6cc6b13, Sep  5 2022, 14:08:36) [MSC v.1933 64 bit (AMD64)]"
  },
  "orig_nbformat": 4,
  "vscode": {
   "interpreter": {
    "hash": "369f2c481f4da34e4445cda3fffd2e751bd1c4d706f27375911949ba6bb62e1c"
   }
  }
 },
 "nbformat": 4,
 "nbformat_minor": 2
}
