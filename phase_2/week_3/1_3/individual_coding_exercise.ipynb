{
 "cells": [
  {
   "attachments": {},
   "cell_type": "markdown",
   "metadata": {},
   "source": [
    "## Coding Exercise\n",
    "\n",
    "For the next upcoming weeks, our knowledge of pandas & basic Python syntax will be tested as we implement data-pipelines and various analyses.\n",
    "\n",
    "To refresh our pandas skills, let's implement the following non-trivial lines of pseudocode to reveal information regarding our dataset describing top-soccer/football scorers internationally.\n",
    "\n",
    "To find out more information regarding this dataset, check out: https://www.kaggle.com/datasets/mohamedhanyyy/top-football-leagues-scorers"
   ]
  },
  {
   "cell_type": "code",
   "execution_count": 1,
   "metadata": {},
   "outputs": [],
   "source": [
    "import pandas as pd\n",
    "# load in your dataset located in `data/scorers.csv`\n",
    "df = pd.read_csv(\"../data/scorers.csv\")\n",
    "\n",
    "# print out the first 5 rows of your dataframe\n"
   ]
  },
  {
   "cell_type": "code",
   "execution_count": null,
   "metadata": {},
   "outputs": [],
   "source": [
    "# print out the length of this dataframe\n"
   ]
  },
  {
   "cell_type": "code",
   "execution_count": null,
   "metadata": {},
   "outputs": [],
   "source": [
    "# print out summary statistics regarding this dataframe\n"
   ]
  },
  {
   "cell_type": "code",
   "execution_count": null,
   "metadata": {},
   "outputs": [],
   "source": [
    "# compute the avg Goals for all players and save to a variable called \"mean_goals\"\n"
   ]
  },
  {
   "cell_type": "code",
   "execution_count": null,
   "metadata": {},
   "outputs": [],
   "source": [
    "# print out general info on this dataframe\n",
    "# notice any missing values in the non-null count column?\n"
   ]
  },
  {
   "cell_type": "code",
   "execution_count": null,
   "metadata": {},
   "outputs": [],
   "source": [
    "# group players by country and compute the average goals for each country\n",
    "# what do you notice about the countries listed. Any errors?\n",
    "\n"
   ]
  },
  {
   "cell_type": "code",
   "execution_count": null,
   "metadata": {},
   "outputs": [],
   "source": [
    "# filter your data into a new dataframe called \"above_avg_goals\" that selects all players that achieved a higher than avg goal count\n"
   ]
  },
  {
   "cell_type": "code",
   "execution_count": null,
   "metadata": {},
   "outputs": [],
   "source": [
    "# group players by country & year from dataframe \"above_avg_goals\" and compute the total goals for each country\n",
    "\n",
    "\n",
    "# which country had the highest amount of above avg scorers?\n"
   ]
  }
 ],
 "metadata": {
  "kernelspec": {
   "display_name": "Python 3",
   "language": "python",
   "name": "python3"
  },
  "language_info": {
   "codemirror_mode": {
    "name": "ipython",
    "version": 3
   },
   "file_extension": ".py",
   "mimetype": "text/x-python",
   "name": "python",
   "nbconvert_exporter": "python",
   "pygments_lexer": "ipython3",
   "version": "3.10.7 (tags/v3.10.7:6cc6b13, Sep  5 2022, 14:08:36) [MSC v.1933 64 bit (AMD64)]"
  },
  "orig_nbformat": 4,
  "vscode": {
   "interpreter": {
    "hash": "369f2c481f4da34e4445cda3fffd2e751bd1c4d706f27375911949ba6bb62e1c"
   }
  }
 },
 "nbformat": 4,
 "nbformat_minor": 2
}
