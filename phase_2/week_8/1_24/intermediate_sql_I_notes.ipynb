{
 "cells": [
  {
   "attachments": {},
   "cell_type": "markdown",
   "metadata": {},
   "source": [
    "## Database Design\n",
    "\n",
    "Sometimes, a tech interviewer will ask you to design a database, especially if the job entails using Postgresql, MSSQL, MySQL, or Oracle.\n",
    "\n",
    "Especially in smaller teams, you are the database manager AND the analyst.\n",
    "\n",
    "How do we even approach this question?"
   ]
  },
  {
   "attachments": {},
   "cell_type": "markdown",
   "metadata": {},
   "source": [
    "## How to Interview\n",
    "\n",
    "While we will talk about some good database design principles & models today, the very first thing you should do during tech interviews is ask questions.\n",
    "\n",
    "Never go right into the problem (even if you know the answer).\n",
    "\n",
    "Walk the interviewer through your thought process by asking questions that reveal:\n",
    "  * You account for edge cases (nuance).\n",
    "  * You account for scale\n",
    "  * You can gather specifications\n",
    "\n",
    "### Edge Cases\n",
    "\n",
    "In relation to our parking lot example, account for edge cases by asking:\n",
    "\n",
    "* Will data ever be null or missing? (Missing license plates?)\n",
    "* Can someone reserve multiple parking spots? (trucks?)\n",
    "* What should happen if someone leaves their spot earlier than their allocated time? \n",
    "  * Ex: User reserved time-slot for 1:00 pm - 2:00 pm, left 1:30 pm.\n",
    "* What happens if they never show up for their allotted time?\n",
    "\n",
    "### Scale\n",
    "\n",
    "The concept of scale in technology is the software’s ability to grow. \n",
    "`Ex: A country has 50 million people and has a healthcare system that can support each individual. What happens if we leave it as is 20 years later when a country has 75 million people?`\n",
    "\n",
    "* Will this parking company acquire more lots in the future?\n",
    "* Will parking lots be expanded?\n",
    "* How will this lot operate at capacity?\n",
    "\n",
    "### Specifications\n",
    "\n",
    "The concept of specs in technology are the requirements of a software. \t\n",
    "`Ex: The Notes app on your IPhone allows you to write notes. Nothing more, nothing less.`\n",
    "\n",
    "* Will this parking lot generate any metrics, such as revenue?\n",
    "* Do ticket prices vary? \n",
    "  * Ex: longer hours, smaller price? Discounts?\n",
    "* Can users set custom times? Or are times preset?"
   ]
  },
  {
   "attachments": {},
   "cell_type": "markdown",
   "metadata": {},
   "source": [
    "## 1050. Actors and Directors Who Cooperated At Least Three Times\n",
    "\n",
    "Write a SQL query for a report that provides the pairs (actor_id, director_id) where the actor has cooperated with the director at least three times.\n",
    "\n",
    "Submit solution here: https://leetcode.com/problems/actors-and-directors-who-cooperated-at-least-three-times/description/ "
   ]
  },
  {
   "attachments": {},
   "cell_type": "markdown",
   "metadata": {},
   "source": [
    "## Database Design\n",
    "\n",
    "* We visualize the architecture of databases using Entity-Relationship-Diagrams.\n",
    "  * This is an object-oriented overview of tables.\n",
    "* There are no strict requirements for the diagrams, as long as intentionality is preserved.\n",
    "* We often design this before creating the actual table.\n",
    "* To talk about the design of a database, we must familiarize ourselves with a few symbols ( UML ) (Unified-Modeling-Language).\n",
    "\n",
    "![image](https://user-images.githubusercontent.com/26397102/219166337-c96710c7-41a3-47e6-9d69-9fda80c54309.png)"
   ]
  },
  {
   "attachments": {},
   "cell_type": "markdown",
   "metadata": {},
   "source": [
    "## Entity\n",
    "\n",
    "Think of entities as the “object's” that your tables are describing. \n",
    "\n",
    "For example, when we create a table called `real_flight`, each row describes a `flight` object. (A real flight that contains multiple points of data)\n",
    "Recall OOP! Real-life concepts are translated into computational objects."
   ]
  },
  {
   "attachments": {},
   "cell_type": "markdown",
   "metadata": {},
   "source": [
    "## Attributes\n",
    "\n",
    "Attributes must describe every single column of a table, and cannot be shared amongst entities.\n",
    "\n",
    "Even if they have columns with the same names!\n",
    " * Ex: airline_city has an airlineid column, and so does flight"
   ]
  },
  {
   "attachments": {},
   "cell_type": "markdown",
   "metadata": {},
   "source": [
    "## Relationships\n",
    "\n",
    "Entities are linked to one another through relationships.\n",
    "\n",
    "Relationships are often verbs that describe the relation from one entity to another:\n",
    "* Student takes Class\n",
    "* Employee works for Employer\n",
    "* Flight goes from City\n",
    "\n",
    "We further explain the relationship between two entities by stating how many entities correspond to the other entity.\n",
    "This includes:\n",
    "* One-to-one relationships\n",
    "* One-to-many relationships\n",
    "* Many-to-many relationships"
   ]
  },
  {
   "attachments": {},
   "cell_type": "markdown",
   "metadata": {},
   "source": [
    "## One-to-One Relationships\n",
    "\n",
    "One entity is associated with strictly one entity.\n",
    " * Person has one US passport\n",
    " * Person has one US social security number"
   ]
  },
  {
   "attachments": {},
   "cell_type": "markdown",
   "metadata": {},
   "source": [
    "## One-to_many Relationships\n",
    "\n",
    "One entity is associated with multiple entities.\n",
    " * One employee has multiple dependants\n",
    " * One book has multiple Pages"
   ]
  },
  {
   "attachments": {},
   "cell_type": "markdown",
   "metadata": {},
   "source": [
    "## Many-to-Many Relationships\n",
    "\n",
    "Multiple entities are associated with multiple entities.\n",
    " * Multiple customers have multiple orders"
   ]
  }
 ],
 "metadata": {
  "kernelspec": {
   "display_name": "Python 3",
   "language": "python",
   "name": "python3"
  },
  "language_info": {
   "name": "python",
   "version": "3.10.7"
  },
  "orig_nbformat": 4,
  "vscode": {
   "interpreter": {
    "hash": "369f2c481f4da34e4445cda3fffd2e751bd1c4d706f27375911949ba6bb62e1c"
   }
  }
 },
 "nbformat": 4,
 "nbformat_minor": 2
}
