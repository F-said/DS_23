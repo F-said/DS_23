{
 "cells": [
  {
   "attachments": {},
   "cell_type": "markdown",
   "metadata": {},
   "source": [
    "## Documentation & Planning\n",
    "\n",
    "Whenever you create a project that utilizes a new software tool, or relies on complex structure, we must document & plan\n",
    "\n",
    "* Never write more than 50 lines without planning\n",
    "* Planning entails\n",
    "  * Reading documentation \n",
    "  * Reviewing similar projects\n",
    "  * Writing pseudocode \n",
    "  * Sometimes generating documents\n",
    "\n",
    "Especially when you begin coding large projects, or projects with other team members, you must create the following:\n",
    "* A schedule (project shouldn’t run forever): https://www.scrum.org/resources/blog/forming-storming-norming-and-performing-agile-teams \n",
    "* Test-plans: https://www.guru99.com/what-everybody-ought-to-know-about-test-planing.html \n",
    "* UML diagrams\n",
    "* Roles (maybe)\n",
    "* Risks: https://www.scrum.org/resources/blog/managing-risk-scrum \n"
   ]
  },
  {
   "attachments": {},
   "cell_type": "markdown",
   "metadata": {},
   "source": [
    "## 607. Sales Person\n",
    "\n",
    "Write an SQL query to report the names of all the salespersons who did not have any orders related to the company with the name \"RED\".\n",
    "\n",
    "Submit solution here: https://leetcode.com/problems/sales-person/ \n"
   ]
  },
  {
   "attachments": {},
   "cell_type": "markdown",
   "metadata": {},
   "source": [
    "## Triggers\n",
    "\n",
    "During this week, we will lightly go over the relationships between multiple tables.\n",
    "\n",
    "Keep in mind that tables rarely exist as singular points, but rather they represent a singular component of an ecosystem of information.\n",
    "\n",
    "The format of a trigger is as follows:\n",
    "```sql\n",
    "CREATE TRIGGER trigger_name\n",
    "\t(BEFORE | AFTER) (INSERT | UPDATE | DELETE)\n",
    "\tON table\n",
    "\tFOR EACH ROW\n",
    "\tEXECUTE FUNCTION function()\n",
    "```\n",
    "\n",
    "You'll notice that we can actually write functions in SQL\n",
    "\n",
    "```sql\n",
    "CREATE FUNCTION name () RETURNS trigger AS $$\n",
    "BEGIN\n",
    "    query\n",
    "    RETURN NEW;\n",
    "END;\n",
    "$$ LANGUAGE plpgsql;\n",
    "```\n"
   ]
  },
  {
   "attachments": {},
   "cell_type": "markdown",
   "metadata": {},
   "source": [
    "\n",
    "For example, let's say we want to insert a complimentary order for every new user that signs up:\n",
    "```sql\n",
    "CREATE FUNCTION give_free() RETURNS trigger AS $$\n",
    "BEGIN\n",
    "    INSERT INTO orders VALUES(NEW.name, 1, “free order”)\n",
    "    RETURN NEW;\n",
    "END;\n",
    "$$ LANGUAGE plpgsql;\n",
    "```\n",
    "\n",
    "```\n",
    "CREATE TRIGGER free_order\n",
    "\tAFTER INSERT\n",
    "\tON customer\n",
    "\tFOR EACH ROW\n",
    "\tEXECUTE FUNCTION give_free()\n",
    "```"
   ]
  },
  {
   "attachments": {},
   "cell_type": "markdown",
   "metadata": {},
   "source": [
    "## Extra Learning Material\n",
    "\n",
    "Extra Learning Material\n",
    "* (Easy): https://leetcode.com/problems/fix-names-in-a-table/ \n",
    "* (Medium): https://leetcode.com/problems/capital-gainloss/ \n",
    "* (R Programming Language):  https://careerkarma.com/blog/who-uses-r/ \n",
    "  * https://www.guru99.com/r-programming-introduction-basics.html \n",
    "  * https://discdown.org/rprogramming/vectors.html \n",
    "  * https://posit.co/download/rstudio-desktop/ \n",
    "  * (R Programming Language + SQL): https://hevodata.com/learn/rpostgresql/ \n"
   ]
  }
 ],
 "metadata": {
  "kernelspec": {
   "display_name": "Python 3",
   "language": "python",
   "name": "python3"
  },
  "language_info": {
   "name": "python",
   "version": "3.10.7"
  },
  "orig_nbformat": 4,
  "vscode": {
   "interpreter": {
    "hash": "369f2c481f4da34e4445cda3fffd2e751bd1c4d706f27375911949ba6bb62e1c"
   }
  }
 },
 "nbformat": 4,
 "nbformat_minor": 2
}
