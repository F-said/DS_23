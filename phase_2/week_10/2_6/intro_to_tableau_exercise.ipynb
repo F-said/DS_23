{
 "cells": [
  {
   "attachments": {},
   "cell_type": "markdown",
   "metadata": {},
   "source": [
    "## EDA Exercise\n",
    "\n",
    "Choose from one of the datasets listed below:\n",
    "\n",
    "* [titanic dataset](https://www.kaggle.com/competitions/titanic/data?select=train.csv)\n",
    "* [us census & voting](https://www.kaggle.com/datasets/minhbtnguyen/us-census-for-election-predictions-20002020)\n",
    "* [us real-estate](https://www.kaggle.com/competitions/house-prices-advanced-regression-techniques/data?select=train.csv)\n",
    "\n",
    "(or any other dataset that you'd like to explore)\n",
    "\n",
    "Using this dataset, download it to your folder & read it into this jupyter notebook using pandas.\n",
    "\n",
    "Perform EDA on this dataset by:\n",
    "* Viewing your dataframe\n",
    "* Splitting dataframe into groups\n",
    "* Calculating statistics such as central-tendency\n",
    "* Performing t-tests such as kolmogorov-smirnov\n",
    "* And most importantly, visualizing your data\n",
    "\n",
    "While there are sections outlined for you, you do not have to perform your analysis in any discrete order.\n",
    "\n",
    "Generate at least 3 visualizations for your datasets including distribution via histograms, correlation via scatter-plots, and rank according to bar-charts. \n",
    "\n",
    "Lastly, generate a write-up of your observations as you go through the `EDA` process."
   ]
  },
  {
   "attachments": {},
   "cell_type": "markdown",
   "metadata": {},
   "source": [
    "## Goals Writeup\n",
    "\n",
    "What goals do you have for your `EDA`? What sorts of trends or patterns do you hope to find? \n",
    "\n",
    "\n",
    "Which column(s) do you plan to focus your analysis on?\n",
    "\n"
   ]
  },
  {
   "cell_type": "code",
   "execution_count": 1,
   "metadata": {},
   "outputs": [],
   "source": [
    "import pandas as pd\n",
    "import seaborn as sns\n",
    "import scipy\n",
    "\n",
    "# read in csv file\n"
   ]
  },
  {
   "cell_type": "code",
   "execution_count": null,
   "metadata": {},
   "outputs": [],
   "source": [
    "## EXPLORE METADATA\n",
    "# size of data? column names? first 5 rows? metadata of df? any null values? if so, drop\n"
   ]
  },
  {
   "cell_type": "code",
   "execution_count": null,
   "metadata": {},
   "outputs": [],
   "source": [
    "## GROUPS\n",
    "# what groups, if any, can you generate? This optional, as sometimes our entire dataframe is one large group\n"
   ]
  },
  {
   "cell_type": "code",
   "execution_count": null,
   "metadata": {},
   "outputs": [],
   "source": [
    "## VISUALS VIA SEABORN\n",
    "# create visuals using the `sns` package to display your trends amongst groups or over the entire dataframe. \n",
    "# This should include: histograms, scatter-plots, and bar-graphs.\n"
   ]
  },
  {
   "cell_type": "code",
   "execution_count": null,
   "metadata": {},
   "outputs": [],
   "source": [
    "## K-S TEST FOR NORMALITY\n",
    "# what does the kolmogorov-smirnov test tell us about its distribution?\n"
   ]
  },
  {
   "cell_type": "code",
   "execution_count": null,
   "metadata": {},
   "outputs": [],
   "source": [
    "## QQ-PLOT\n",
    "# view this visually\n"
   ]
  },
  {
   "attachments": {},
   "cell_type": "markdown",
   "metadata": {},
   "source": [
    "## Observations\n",
    "\n",
    "### Goal Post\n",
    "Which distributions did your graphs reveal?\n",
    "\n",
    "\n",
    "Did your scatter plots reveal any trends?\n",
    "\n",
    "\n",
    "Any other notes?\n",
    "\n"
   ]
  },
  {
   "attachments": {},
   "cell_type": "markdown",
   "metadata": {},
   "source": [
    "## Next Steps\n",
    "\n",
    "What next steps would you take to find out additional insights after this EDA?\n",
    "\n"
   ]
  },
  {
   "cell_type": "code",
   "execution_count": null,
   "metadata": {},
   "outputs": [],
   "source": [
    "## CHALLENGE\n",
    "# if your data entails `FIPS` or `lat` `long` data, create a chloropleth map using plotly\n",
    "\n",
    "import plotly.io as pio\n",
    "pio.renderers.default='notebook'\n",
    "\n",
    "import plotly.figure_factory as ff"
   ]
  }
 ],
 "metadata": {
  "kernelspec": {
   "display_name": "Python 3",
   "language": "python",
   "name": "python3"
  },
  "language_info": {
   "codemirror_mode": {
    "name": "ipython",
    "version": 3
   },
   "file_extension": ".py",
   "mimetype": "text/x-python",
   "name": "python",
   "nbconvert_exporter": "python",
   "pygments_lexer": "ipython3",
   "version": "3.10.7"
  },
  "orig_nbformat": 4,
  "vscode": {
   "interpreter": {
    "hash": "369f2c481f4da34e4445cda3fffd2e751bd1c4d706f27375911949ba6bb62e1c"
   }
  }
 },
 "nbformat": 4,
 "nbformat_minor": 2
}
