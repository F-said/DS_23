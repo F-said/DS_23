{
 "cells": [
  {
   "attachments": {},
   "cell_type": "markdown",
   "metadata": {},
   "source": [
    "## Connecting Flights\n",
    "\n",
    "Not only is the JOIN query useful for the information it reveals when joining two tables, but it is also useful to look for the *absence* of information (null values). The presence of null values when joining indicate that the absence of information from one table to another.\n",
    "\n",
    "Within this exercise, we will explore if direct flights are possible between two cities using the JOIN query.\n",
    "\n",
    "Create the necessary queries for questions 1 - 5 in order to answer all questions.\n",
    "\n",
    "Run the SQL query below within your `flights` database before starting this exercise. "
   ]
  },
  {
   "cell_type": "code",
   "execution_count": null,
   "metadata": {
    "vscode": {
     "languageId": "sql"
    }
   },
   "outputs": [],
   "source": [
    "DROP TABLE IF EXISTS airline;\n",
    "DROP TABLE IF EXISTS airline_city;\n",
    "DROP TABLE IF EXISTS flight;\n",
    "\n",
    "CREATE TABLE airline(\n",
    "    airlineID VARCHAR(3) primary key,\n",
    "    al_name VARCHAR(50),\n",
    "    al_code VARCHAR(3)\n",
    ");\n",
    "\n",
    "CREATE TABLE airline_city(\n",
    "    airlineID VARCHAR(3),\n",
    "    ap_name VARCHAR(100),\n",
    "    code CHAR(3),\n",
    "    PRIMARY KEY(airlineID, ap_name)\n",
    ");\n",
    "\n",
    "CREATE TABLE flight( \n",
    "    flight_code VARCHAR(10), \n",
    "    source VARCHAR(3), \n",
    "    destination VARCHAR(3), \n",
    "    status VARCHAR(10), \n",
    "    airlineid VARCHAR(3) \n",
    ");\n",
    "\n",
    "INSERT INTO airline (airlineID, al_name, al_code) VALUES('AA','American airlines','001');\n",
    "INSERT INTO airline (airlineID, al_name, al_code) VALUES('UAL','United Airlines','016');\n",
    "INSERT INTO airline (airlineID, al_name, al_code) VALUES('DL','Delta Air Lines','006');\n",
    "INSERT INTO airline (airlineID, al_name, al_code) VALUES('WN','Southwest Airlines Co.','052');\n",
    "\n",
    "INSERT INTO airline_city VALUES('AA','Louisville International airport', 'SDF');\n",
    "INSERT INTO airline_city VALUES('AA','John F. Kennedy International airport', 'JFK');\n",
    "INSERT INTO airline_city VALUES('AA','LaGuardia Airport', 'LGA');\n",
    "INSERT INTO airline_city VALUES('AA','George Bush Intercontinental airport', 'IAH');\n",
    "INSERT INTO airline_city VALUES('AA','Tampa International airport', 'TPA');\n",
    "INSERT INTO airline_city VALUES('AA','Austin-Bergstrom International Airport', 'AUS');\n",
    "INSERT INTO airline_city VALUES('AA','Hartsfield-Jackson Atlanta International Airport', 'ATL');\n",
    "\n",
    "INSERT INTO airline_city VALUES('UAL','Louisville International airport', 'SDF');\n",
    "INSERT INTO airline_city VALUES('UAL','John F. Kennedy International airport', 'JFK');\n",
    "INSERT INTO airline_city VALUES('UAL','LaGuardia Airport', 'LGA');\n",
    "INSERT INTO airline_city VALUES('UAL','George Bush Intercontinental airport', 'IAH');\n",
    "INSERT INTO airline_city VALUES('UAL','San Francisco International airport', 'SFO');\n",
    "INSERT INTO airline_city VALUES('UAL','Tampa International airport', 'TPA');\n",
    "INSERT INTO airline_city VALUES('UAL','Austin-Bergstrom International Airport', 'AUS');\n",
    "INSERT INTO airline_city VALUES('UAL','Hartsfield-Jackson Atlanta International Airport', 'ATL');\n",
    "INSERT INTO airline_city VALUES('UAL','Daniel K. Inouye International Airport', 'HNL');\n",
    "\n",
    "INSERT INTO airline_city VALUES('DL','Louisville International airport', 'SDF');\n",
    "INSERT INTO airline_city VALUES('DL','Dallas/Fort Worth International Airport', 'DFW');\n",
    "INSERT INTO airline_city VALUES('DL','John F. Kennedy International airport', 'JFK');\n",
    "INSERT INTO airline_city VALUES('DL','LaGuardia Airport', 'LGA');\n",
    "INSERT INTO airline_city VALUES('DL','San Francisco International airport', 'SFO');\n",
    "INSERT INTO airline_city VALUES('DL','Austin-Bergstrom International Airport', 'AUS');\n",
    "INSERT INTO airline_city VALUES('DL','Hartsfield-Jackson Atlanta International Airport', 'ATL');\n",
    "INSERT INTO airline_city VALUES('DL','Daniel K. Inouye International Airport', 'INH');\n",
    "\n",
    "INSERT INTO airline_city VALUES('WN','Louisville International airport', 'SDF');\n",
    "INSERT INTO airline_city VALUES('WN','LaGuardia Airport', 'LGA');\n",
    "INSERT INTO airline_city VALUES('WN','George Bush Intercontinental airport', 'IAH');\n",
    "INSERT INTO airline_city VALUES('WN','Dallas/Fort Worth International Airport', 'DFW');\n",
    "INSERT INTO airline_city VALUES('WN','San Francisco International airport', 'SFO');\n",
    "INSERT INTO airline_city VALUES('WN','Tampa International airport', 'TPA');\n",
    "INSERT INTO airline_city VALUES('WN','Austin-Bergstrom International Airport', 'AUS');\n",
    "INSERT INTO airline_city VALUES('WN','Hartsfield-Jackson Atlanta International Airport', 'ATL');"
   ]
  },
  {
   "attachments": {},
   "cell_type": "markdown",
   "metadata": {},
   "source": [
    "After running the above queries, run the below `INSERT` statements to populate your `flight` table.\n",
    "\n",
    "While the airline will always operate out of the **source** airport, we are not sure if they operate in the **destination** airport. Create & run the queries described in questions 1 through 5 to figure out which flights are impossible to fulfill."
   ]
  },
  {
   "cell_type": "code",
   "execution_count": null,
   "metadata": {
    "vscode": {
     "languageId": "sql"
    }
   },
   "outputs": [],
   "source": [
    "INSERT INTO flight VALUES('AA6342','SDF','DFW', 'On-Time', 'AA');\n",
    "INSERT INTO flight VALUES('AA2348','SDF','JFK', 'On-Time', 'AA');\n",
    "INSERT INTO flight VALUES('AA8411','AUS','SFO', 'On-Time', 'AA');\n",
    "INSERT INTO flight VALUES('AA1700','LGA','DFW', 'On-Time', 'AA');\n",
    "INSERT INTO flight VALUES('AA2446','IAH','AUS', 'On-Time', 'AA');\n",
    "INSERT INTO flight VALUES('AA0278','TPA','HNL', 'On-Time', 'AA');\n",
    "\n",
    "INSERT INTO flight VALUES('WN464','TPA','JFK', 'On-Time', 'WN');\n",
    "INSERT INTO flight VALUES('WN636','LGA','ATL', 'On-Time', 'WN');\n",
    "INSERT INTO flight VALUES('WN306','IAH','HNL', 'On-Time', 'WN');\n",
    "INSERT INTO flight VALUES('WN533','LGA','TPA', 'On-Time', 'WN');\n",
    "INSERT INTO flight VALUES('WN767','SFO','LGA', 'On-Time', 'WN');\n",
    "INSERT INTO flight VALUES('WN953','DFW','ATL', 'On-Time', 'WN');\n",
    "INSERT INTO flight VALUES('WN872','TPA','AUS', 'On-Time', 'WN');\n",
    "\n",
    "INSERT INTO flight VALUES('DL6100','SDF','DFW', 'On-Time', 'DL');\n",
    "INSERT INTO flight VALUES('DL0283','JFK','TPA', 'On-Time', 'DL');\n",
    "INSERT INTO flight VALUES('DL2700','ATL','INH', 'On-Time', 'DL');\n",
    "INSERT INTO flight VALUES('DL1429','SFO','AUS', 'On-Time', 'DL');\n",
    "INSERT INTO flight VALUES('DL248','JFK','AUS', 'On-Time', 'DL');\n",
    "INSERT INTO flight VALUES('DL3329','LGA','IAH', 'On-Time', 'DL');\n",
    "\n",
    "INSERT INTO flight VALUES('UAL398','HNL','JFK', 'On-Time', 'UAL');\n",
    "INSERT INTO flight VALUES('UAL265','ATL','AUS', 'On-Time', 'UAL');\n",
    "INSERT INTO flight VALUES('UAL248','SFO','LGA', 'On-Time', 'UAL');\n",
    "INSERT INTO flight VALUES('UAL768','SDF','DFW', 'On-Time', 'UAL');\n",
    "INSERT INTO flight VALUES('UAL109','HNL','TPA', 'On-Time', 'UAL');\n",
    "INSERT INTO flight VALUES('UAL710','JFK','ATL', 'On-Time', 'UAL');\n",
    "INSERT INTO flight VALUES('UAL512','HNL','IAH', 'On-Time', 'UAL');"
   ]
  },
  {
   "attachments": {},
   "cell_type": "markdown",
   "metadata": {},
   "source": [
    "## Q1\n",
    "\n",
    "Since all airports always have a 3-character code, let's change the VARCHAR(3) attribute type into CHAR(3)."
   ]
  },
  {
   "cell_type": "code",
   "execution_count": null,
   "metadata": {
    "vscode": {
     "languageId": "sql"
    }
   },
   "outputs": [],
   "source": []
  },
  {
   "attachments": {},
   "cell_type": "markdown",
   "metadata": {},
   "source": [
    "## Q2\n",
    "\n",
    "Add a column to the `flight` table called `possible` and set all the values to be `TRUE`."
   ]
  },
  {
   "cell_type": "code",
   "execution_count": null,
   "metadata": {
    "vscode": {
     "languageId": "sql"
    }
   },
   "outputs": [],
   "source": []
  },
  {
   "attachments": {},
   "cell_type": "markdown",
   "metadata": {},
   "source": [
    "## Q3\n",
    "\n",
    "Drop the column `status` from the `flight` table."
   ]
  },
  {
   "cell_type": "code",
   "execution_count": null,
   "metadata": {
    "vscode": {
     "languageId": "sql"
    }
   },
   "outputs": [],
   "source": []
  },
  {
   "attachments": {},
   "cell_type": "markdown",
   "metadata": {},
   "source": [
    "## Q4\n",
    "\n",
    "Using the `LEFT JOIN` clause, create a table that reveals which flights are possible by joining the `flight` and `airline_city` tables. Consider which attribute you should join on in order to reveal which flights are impossible."
   ]
  },
  {
   "cell_type": "code",
   "execution_count": null,
   "metadata": {
    "vscode": {
     "languageId": "sql"
    }
   },
   "outputs": [],
   "source": []
  },
  {
   "attachments": {},
   "cell_type": "markdown",
   "metadata": {},
   "source": [
    "## Q5\n",
    "\n",
    "Reveal the count of null flights from groups of airlines from the `flight` table by expanding the previous query to include the `count(*)` aggregate, a `WHERE` clause to look for NULL values, and the `GROUP BY` clause."
   ]
  },
  {
   "cell_type": "code",
   "execution_count": null,
   "metadata": {
    "vscode": {
     "languageId": "sql"
    }
   },
   "outputs": [],
   "source": []
  },
  {
   "attachments": {},
   "cell_type": "markdown",
   "metadata": {},
   "source": [
    "## Q6 (Challenge)\n",
    "\n",
    "Consider the following documentation describing how to choose a good primary key: https://www.itprotoday.com/sql-server/sql-design-choosing-primary-key\n",
    "\n",
    "Using this knowledge, what would be a good primary key(s) for the `flight` table?"
   ]
  },
  {
   "attachments": {},
   "cell_type": "markdown",
   "metadata": {},
   "source": [
    "Answer here"
   ]
  },
  {
   "attachments": {},
   "cell_type": "markdown",
   "metadata": {},
   "source": [
    "## Q7 (Challenge)\n",
    "\n",
    "Using postgres documentation on the `ALTER` clause & your ability to google, alter the `flight` table to indicate that your chosen attribute(s) should be the primary key\n",
    "\n",
    "https://www.postgresql.org/docs/current/sql-altertable.html "
   ]
  },
  {
   "cell_type": "code",
   "execution_count": null,
   "metadata": {
    "vscode": {
     "languageId": "sql"
    }
   },
   "outputs": [],
   "source": []
  },
  {
   "attachments": {},
   "cell_type": "markdown",
   "metadata": {},
   "source": [
    "## Q8 (Challenge)\n",
    "\n",
    "A unique postgresql feature is the ability to `UPDATE` rows using subqueries. \n",
    "\n",
    "Using your query that finds which flights are impossible (via the `LEFT JOIN`), conditionally set the `possible` attribute to be false where we find the `airlineid` to be `NULL`.\n",
    "\n",
    "https://stackoverflow.com/questions/6256610/updating-table-rows-in-postgres-using-subquery"
   ]
  },
  {
   "cell_type": "code",
   "execution_count": null,
   "metadata": {
    "vscode": {
     "languageId": "sql"
    }
   },
   "outputs": [],
   "source": []
  },
  {
   "attachments": {},
   "cell_type": "markdown",
   "metadata": {},
   "source": [
    "## Q9 (Challenge)\n",
    "\n",
    "Read up on this blog that describes what an ERD diagram is: https://www.smartdraw.com/entity-relationship-diagram/\n",
    "\n",
    "Using the section titled `Styles of Cardinality`, how would you explain the relationship between the `airline` table and the `flight` table."
   ]
  },
  {
   "cell_type": "markdown",
   "metadata": {},
   "source": []
  }
 ],
 "metadata": {
  "kernelspec": {
   "display_name": "Python 3",
   "language": "python",
   "name": "python3"
  },
  "language_info": {
   "name": "python",
   "version": "3.10.7"
  },
  "orig_nbformat": 4,
  "vscode": {
   "interpreter": {
    "hash": "369f2c481f4da34e4445cda3fffd2e751bd1c4d706f27375911949ba6bb62e1c"
   }
  }
 },
 "nbformat": 4,
 "nbformat_minor": 2
}
