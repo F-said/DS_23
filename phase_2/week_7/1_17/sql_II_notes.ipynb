{
 "cells": [
  {
   "attachments": {},
   "cell_type": "markdown",
   "metadata": {},
   "source": [
    "## 511. Game Play Analysis I\n",
    "\n",
    "Write an SQL query to report the first login date for each player.\n",
    "\n",
    "Return the result table in any order.\n",
    "\n",
    "Consider the following questions when making this query\n",
    "* How should I group this table to get all the logins of individual users?\n",
    "* Once I have these groups, which aggregate function can I apply to the event_data column to get the first date.\n",
    " * MAX()\n",
    " * MIN()\n",
    " * COUNT(*)\n",
    " * STTDEV()\n",
    "\n",
    "Submit solution here: https://leetcode.com/problems/game-play-analysis-i/description/ "
   ]
  },
  {
   "attachments": {},
   "cell_type": "markdown",
   "metadata": {},
   "source": [
    "## Components\n",
    "\n",
    "* We’ve been working with various queries such as \n",
    "\n",
    "```sql \n",
    "SELECT … FROM … WHERE … ;\n",
    "```\n",
    "\n",
    "```sql \n",
    "CREATE TABLE …;\n",
    "```\n",
    ", etc\n",
    "\n",
    "However we have yet to formally define these different types of syntax.\n",
    "\n",
    "If you think about it, we are doing fundamentally different things with these commands:\n",
    "* `SELECT … FROM … WHERE …` : Querying or requesting data\n",
    "* `INSERT INTO …` : Manipulating the data\n",
    "* `CREATE TABLE …` : Creating the datas"
   ]
  },
  {
   "attachments": {},
   "cell_type": "markdown",
   "metadata": {},
   "source": [
    "This reveals that there are 3 fundamental groups of commands within SQL! They are\n",
    "\n",
    "* Query Language : Your requests for data in a table.\n",
    "\t* ex: SELECT * FROM bakers WHERE hometown = ‘London’;\n",
    "* Data manipulation language (DML) : Modification of your existent tables \n",
    "\t* ex: INSERT INTO bakers VALUES(‘Bob’, 34, … )\n",
    "* Data definition language (DDL): Create new tables\n",
    "\t* ex: CREATE TABLE bakers ( … ) ;"
   ]
  },
  {
   "attachments": {},
   "cell_type": "markdown",
   "metadata": {},
   "source": [
    "Before we mvoe forward, let's populate our table with data:"
   ]
  },
  {
   "cell_type": "code",
   "execution_count": null,
   "metadata": {
    "vscode": {
     "languageId": "sql"
    }
   },
   "outputs": [],
   "source": [
    "INSERT INTO student VALUES('Bob', True, 2.89, 'C');\n",
    "INSERT INTO student VALUES('Frank', False, 2.89, 'Java');\n",
    "INSERT INTO student VALUES('Alma', True, 3.52, 'Python');\n",
    "INSERT INTO student VALUES('Charles', False, 3.02, 'Python');"
   ]
  },
  {
   "attachments": {},
   "cell_type": "markdown",
   "metadata": {},
   "source": [
    "## DDL\n",
    "\n",
    "We’ve learned one command of DDL which is create, let’s see what other queries are available.\n",
    "\n",
    "* CREATE TABLE … ;\n",
    "* ALTER TABLE … ;\n",
    "* DROP TABLE … ;"
   ]
  },
  {
   "attachments": {},
   "cell_type": "markdown",
   "metadata": {},
   "source": [
    "## DDL: ALTER\n",
    "\n",
    "The alter command is a highly versatile data-definition-language command used to change the definition of a table. This includes:\n",
    "\n",
    "* Changing column names\n",
    "* Changing column data-types\n",
    "* Changing table name\n",
    "* Adding columns\n",
    "* Removing columns\n",
    "\n",
    "The structure of ALTER mostly follows this structure:\n",
    "\n",
    "```sql\n",
    "ALTER TABLE … \n",
    "action ;\n",
    "```\n",
    "\n",
    "action describes any type of action we can take on our table:\n",
    "* ADD COLUMN …\n",
    "* DROP COLUMN …\n",
    "* ALTER COLUMN …\n"
   ]
  },
  {
   "attachments": {},
   "cell_type": "markdown",
   "metadata": {},
   "source": [
    "Changing column names:"
   ]
  },
  {
   "cell_type": "code",
   "execution_count": null,
   "metadata": {
    "vscode": {
     "languageId": "sql"
    }
   },
   "outputs": [],
   "source": [
    "ALTER TABLE student \n",
    "RENAME COLUMN course TO course_name;"
   ]
  },
  {
   "attachments": {},
   "cell_type": "markdown",
   "metadata": {},
   "source": [
    "Changing column data-types:"
   ]
  },
  {
   "cell_type": "code",
   "execution_count": null,
   "metadata": {
    "vscode": {
     "languageId": "sql"
    }
   },
   "outputs": [],
   "source": [
    "ALTER TABLE student \n",
    "ALTER COLUMN name TYPE VARCHAR(100);"
   ]
  },
  {
   "attachments": {},
   "cell_type": "markdown",
   "metadata": {},
   "source": [
    "However this does not always work ... "
   ]
  },
  {
   "cell_type": "code",
   "execution_count": null,
   "metadata": {
    "vscode": {
     "languageId": "sql"
    }
   },
   "outputs": [],
   "source": [
    "ALTER TABLE student \n",
    "ALTER COLUMN name TYPE INT;"
   ]
  },
  {
   "attachments": {},
   "cell_type": "markdown",
   "metadata": {},
   "source": [
    "Changing table name:"
   ]
  },
  {
   "cell_type": "code",
   "execution_count": null,
   "metadata": {
    "vscode": {
     "languageId": "sql"
    }
   },
   "outputs": [],
   "source": [
    "ALTER TABLE student \n",
    "RENAME to fellow;"
   ]
  },
  {
   "attachments": {},
   "cell_type": "markdown",
   "metadata": {},
   "source": [
    "Adding columns"
   ]
  },
  {
   "cell_type": "code",
   "execution_count": null,
   "metadata": {
    "vscode": {
     "languageId": "sql"
    }
   },
   "outputs": [],
   "source": [
    "ALTER TABLE fellow\n",
    "ADD COLUMN remote BOOLEAN DEFAULT TRUE;"
   ]
  },
  {
   "attachments": {},
   "cell_type": "markdown",
   "metadata": {},
   "source": [
    "Removing columns"
   ]
  },
  {
   "cell_type": "code",
   "execution_count": null,
   "metadata": {
    "vscode": {
     "languageId": "sql"
    }
   },
   "outputs": [],
   "source": [
    "ALTER TABLE fellow\n",
    "DROP COLUMN completed;"
   ]
  },
  {
   "attachments": {},
   "cell_type": "markdown",
   "metadata": {},
   "source": [
    "## DDL: DROP\n",
    "\n",
    "This query is used for simply dropping (deleting) tables.\n",
    "\n",
    "```sql\n",
    "DROP TABLE fellow;\n",
    "```\n",
    "\n",
    "Do not run this command just yet, as we need to continue to interact with our database."
   ]
  },
  {
   "attachments": {},
   "cell_type": "markdown",
   "metadata": {},
   "source": [
    "## DML\n",
    "\n",
    "We’ve learned one command of DML which is INSERT, let’s see what other queries are available.\n",
    "* INSERT … ;\n",
    "* UPDATE … ;\n",
    "* DELETE … ;"
   ]
  },
  {
   "attachments": {},
   "cell_type": "markdown",
   "metadata": {},
   "source": [
    "## DML: UPDATE\n",
    "\n",
    "The update command is a data-manipulation-language command used to change tuples or rows of the table.\n",
    "* Update all rows\n",
    "* Update rows where a condition is met\n",
    "\n",
    "Addl. functionality explained here: https://www.postgresql.org/docs/current/sql-update.html "
   ]
  },
  {
   "attachments": {},
   "cell_type": "markdown",
   "metadata": {},
   "source": [
    "Let’s say we want to change all the values of the `remote` column to FALSE"
   ]
  },
  {
   "cell_type": "code",
   "execution_count": null,
   "metadata": {
    "vscode": {
     "languageId": "sql"
    }
   },
   "outputs": [],
   "source": [
    "UPDATE fellow \n",
    "SET remote = FALSE;"
   ]
  },
  {
   "attachments": {},
   "cell_type": "markdown",
   "metadata": {},
   "source": [
    "Let’s say we want just want to set the remote column of all `Python` fellows to be TRUE"
   ]
  },
  {
   "cell_type": "code",
   "execution_count": null,
   "metadata": {
    "vscode": {
     "languageId": "sql"
    }
   },
   "outputs": [],
   "source": [
    "UPDATE fellow \n",
    "SET remote = TRUE\n",
    "... ;"
   ]
  },
  {
   "attachments": {},
   "cell_type": "markdown",
   "metadata": {},
   "source": [
    "## DML: DELETE\n",
    "\n",
    "The delete command is a data-manipulation-language command much like the `update` command.\n",
    "* Delete all rows\n",
    "* Delete rows where a condition is met\n",
    "\n",
    "Addl. functionality explained here: https://www.postgresql.org/docs/current/sql-delete.html  "
   ]
  },
  {
   "attachments": {},
   "cell_type": "markdown",
   "metadata": {},
   "source": [
    "Let’s say we want to simply delete all rows from our database"
   ]
  },
  {
   "cell_type": "code",
   "execution_count": null,
   "metadata": {
    "vscode": {
     "languageId": "sql"
    }
   },
   "outputs": [],
   "source": [
    "DELETE FROM fellow;"
   ]
  },
  {
   "attachments": {},
   "cell_type": "markdown",
   "metadata": {},
   "source": [
    "Let’s say we want to simply delete all rows from our database where fellows are enrolled in a Java course."
   ]
  },
  {
   "cell_type": "code",
   "execution_count": null,
   "metadata": {
    "vscode": {
     "languageId": "sql"
    }
   },
   "outputs": [],
   "source": [
    "DELETE FROM fellow\n",
    "... ;"
   ]
  },
  {
   "attachments": {},
   "cell_type": "markdown",
   "metadata": {},
   "source": [
    "## JOIN\n",
    "\n",
    "Let’s create a table describing each completed assignment from a fellow."
   ]
  },
  {
   "cell_type": "code",
   "execution_count": null,
   "metadata": {
    "vscode": {
     "languageId": "sql"
    }
   },
   "outputs": [],
   "source": [
    "CREATE TABLE lab(\n",
    "    name VARCHAR(100),\n",
    "    course VARCHAR(50),\n",
    "    lab_name VARCHAR(50),\n",
    "    grade FLOAT\n",
    ");"
   ]
  },
  {
   "cell_type": "code",
   "execution_count": null,
   "metadata": {
    "vscode": {
     "languageId": "sql"
    }
   },
   "outputs": [],
   "source": [
    "INSERT INTO lab VALUES('Bob', 'C', 'Pointers', 80.5);\n",
    "INSERT INTO lab VALUES('Bob', 'C', 'Structs', 100);\n",
    "\n",
    "INSERT INTO lab VALUES('Alma', 'Python', 'Functions', 100);\n",
    "INSERT INTO lab VALUES('Charles', 'Python', 'Functions', 85);\n",
    "INSERT INTO lab VALUES('Jazmin', 'Python', 'Functions', 100);\n",
    "\n",
    "INSERT INTO lab VALUES('Alma', 'Python', 'Objects', 95);\n",
    "INSERT INTO lab VALUES('Charles', 'Python', 'Objects', 80);\n",
    "INSERT INTO lab VALUES('Jazmin', 'Python', 'Objects', 80);"
   ]
  },
  {
   "attachments": {},
   "cell_type": "markdown",
   "metadata": {},
   "source": [
    "In set theory & SQL, we have a variety of JOINS that can help us further extrapolate information from our tables.\n",
    "\n",
    "* A INNER JOIN B\n",
    "* A LEFT OUTER JOIN B\n",
    "* A RIGHT OUTER JOIN B\n",
    "* A FULL OUTER JOIN B"
   ]
  },
  {
   "attachments": {},
   "cell_type": "markdown",
   "metadata": {},
   "source": [
    "## INNER JOIN\n",
    "\n",
    "Select rows that satisfy a join condition, eliminates all rows that do not satisfy the join condition. "
   ]
  },
  {
   "cell_type": "code",
   "execution_count": null,
   "metadata": {
    "vscode": {
     "languageId": "sql"
    }
   },
   "outputs": [],
   "source": [
    "SELECT * \n",
    "FROM fellow f JOIN lab l \n",
    "ON f.name = l.name ;"
   ]
  },
  {
   "attachments": {},
   "cell_type": "markdown",
   "metadata": {},
   "source": [
    "## LEFT OUTER JOIN\n",
    "\n",
    "Selects all rows in the inner join as well as the rows in A that do not join with any rows in in B."
   ]
  },
  {
   "cell_type": "code",
   "execution_count": null,
   "metadata": {
    "vscode": {
     "languageId": "sql"
    }
   },
   "outputs": [],
   "source": [
    "SELECT * \n",
    "FROM fellow f LEFT JOIN lab l \n",
    "ON f.name = l.name ;"
   ]
  },
  {
   "attachments": {},
   "cell_type": "markdown",
   "metadata": {},
   "source": [
    "## RIGHT OUTER JOIN\n",
    "\n",
    "Selects all rows in the inner join as well as the rows in B that do not join with any rows in in A."
   ]
  },
  {
   "cell_type": "code",
   "execution_count": null,
   "metadata": {
    "vscode": {
     "languageId": "sql"
    }
   },
   "outputs": [],
   "source": [
    "SELECT * \n",
    "FROM fellow f RIGHT JOIN lab l \n",
    "ON f.name = l.name ;"
   ]
  },
  {
   "attachments": {},
   "cell_type": "markdown",
   "metadata": {},
   "source": [
    "## FULL OUTER JOIN\n",
    "\n",
    "selects all rows in the inner join as well as the rows from A and B that do not participate in the inner join."
   ]
  },
  {
   "cell_type": "code",
   "execution_count": null,
   "metadata": {
    "vscode": {
     "languageId": "sql"
    }
   },
   "outputs": [],
   "source": [
    "SELECT * \n",
    "FROM fellow f FULL JOIN lab l \n",
    "ON f.name = l.name ;"
   ]
  },
  {
   "attachments": {},
   "cell_type": "markdown",
   "metadata": {},
   "source": [
    "## SQL Efficiency \n",
    "\n",
    "* While it is important to write “focused” SQL queries, we should not worry too much about algorithmic complexity.\n",
    "* SQL is a declarative programming language and has built-in query optimizers (QOPT) which choose the lowest cost algorithm for a query.\n",
    "* Therefore, we no longer consider questions such as time or space complexity when dealing with queries. \n",
    "* Instead we consider the following:\n",
    " * Is my query easy to understand (by a human)?\n",
    " * Can my query be more simple?\n",
    " * Avoid sorts (ORDER BY) unless necessary. We prefer to use indices.\n",
    "    * https://www.sqlshack.com/sql-index-overview-and-strategy \n",
    "    * https://aaronbos.dev/posts/sql-index-introduction \n",
    " * Consider if JOINS are truly necessary, or if there are alternatives to extracting information without an additional table.\n",
    "\n",
    "\n",
    "Prioritize simplicity "
   ]
  }
 ],
 "metadata": {
  "kernelspec": {
   "display_name": "Python 3",
   "language": "python",
   "name": "python3"
  },
  "language_info": {
   "name": "python",
   "version": "3.10.7"
  },
  "orig_nbformat": 4,
  "vscode": {
   "interpreter": {
    "hash": "369f2c481f4da34e4445cda3fffd2e751bd1c4d706f27375911949ba6bb62e1c"
   }
  }
 },
 "nbformat": 4,
 "nbformat_minor": 2
}
