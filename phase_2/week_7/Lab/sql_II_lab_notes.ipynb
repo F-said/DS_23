{
 "cells": [
  {
   "cell_type": "markdown",
   "metadata": {},
   "source": []
  },
  {
   "cell_type": "code",
   "execution_count": null,
   "metadata": {
    "vscode": {
     "languageId": "sql"
    }
   },
   "outputs": [],
   "source": [
    "SELECT *\n",
    "FROM flight f\n",
    "WHERE NOT EXISTS\n",
    "\t( \n",
    "\t\tSELECT * \n",
    "\t \tFROM airline_city ac \n",
    "\t\tWHERE f.destination = ac.code and f.airlineid = ac.airlineid\n",
    "\t)\n",
    ";"
   ]
  },
  {
   "cell_type": "code",
   "execution_count": null,
   "metadata": {},
   "outputs": [],
   "source": [
    "import psycopg2\n",
    "import pandas as pd\n",
    "\n",
    "params_dic = {\n",
    "    \"host\"      : \"localhost\",\n",
    "    \"dbname\"    : \"flights\",\n",
    "    \"user\"      : \"postgres\",\n",
    "    \"password\"  : \"password\",\n",
    "    \"port\" : \"...\"     \n",
    "}\n",
    "\n",
    "conn = psycopg2.connect(**params_dic)\n",
    "\n",
    "cursor = conn.cursor()\n",
    "cursor.execute(\"SELECT * FROM airline_city\")\n",
    "rows = cursor.fetchall()\n",
    "print(rows)\n",
    "\n",
    "cursor.close()\n",
    "\n",
    "df = pd.DataFrame(rows, columns=[\"airlineid\", \"ap_name\", \"code\"])\n",
    "df.head()"
   ]
  },
  {
   "attachments": {},
   "cell_type": "markdown",
   "metadata": {},
   "source": [
    "comprehensive explanation of code below:"
   ]
  },
  {
   "cell_type": "code",
   "execution_count": null,
   "metadata": {},
   "outputs": [],
   "source": [
    "import psycopg2\n",
    "import pandas as pd\n",
    "\n",
    "# set up log in information\n",
    "params_dic = {\n",
    "    \"host\"      : \"localhost\",\n",
    "    \"dbname\"    : \"flights\",\n",
    "    \"user\"      : \"postgres\",\n",
    "    \"password\"  : \"password\",\n",
    "    \"port\" : \"...\"      # this is the port set up by your default wizard\n",
    "}\n",
    "# we can use \"SELECT * FROM pg_settings WHERE name = 'port';\" in pgAdmin to discover our port number\n",
    "# learn more about ports here: https://www.cloudflare.com/learning/network-layer/what-is-a-computer-port/\n",
    "\n",
    "# connect to your database using the dictionary above\n",
    "# the ** operator unpacks all your settings into their appropriate params\n",
    "# without the ** operator, we would have to manually set these params via\n",
    "# psycopg2.connect(host=\"localhost\", dbname=\"flights\", user=\"postgres\", password=\"password\", port=\"...\")\n",
    "conn = psycopg2.connect(**params_dic)\n",
    "\n",
    "# create a cursor\n",
    "# think of a cursor like an object that stores and executes queries\n",
    "# we prepare it by calling conn.cursor() in Python\n",
    "# for our purpose, a cursor is an object that allows us to execute queries \n",
    "# learn more about cursors here: https://www.geeksforgeeks.org/what-is-cursor-in-sql/\n",
    "cursor = conn.cursor()\n",
    "\n",
    "# execute a query using the cursor\n",
    "# docs of cursor here: https://www.psycopg.org/docs/cursor.html\n",
    "cursor.execute(\"SELECT * FROM airline_city\")\n",
    "\n",
    "# pull all rows from the query you just executed\n",
    "rows = cursor.fetchall()\n",
    "print(rows)\n",
    "\n",
    "# close your cursor, must be done once you are done interacting w/your cursor\n",
    "cursor.close()\n",
    "\n",
    "# save your list of tuples (representing rows) into a dataframe!\n",
    "df = pd.DataFrame(rows, columns=[\"airlineid\", \"ap_name\", \"code\"])\n",
    "\n",
    "# print out the first 5 rows of your dataframe!\n",
    "df.head()"
   ]
  }
 ],
 "metadata": {
  "kernelspec": {
   "display_name": "Python 3",
   "language": "python",
   "name": "python3"
  },
  "language_info": {
   "codemirror_mode": {
    "name": "ipython",
    "version": 3
   },
   "file_extension": ".py",
   "mimetype": "text/x-python",
   "name": "python",
   "nbconvert_exporter": "python",
   "pygments_lexer": "ipython3",
   "version": "3.10.7 (tags/v3.10.7:6cc6b13, Sep  5 2022, 14:08:36) [MSC v.1933 64 bit (AMD64)]"
  },
  "orig_nbformat": 4,
  "vscode": {
   "interpreter": {
    "hash": "369f2c481f4da34e4445cda3fffd2e751bd1c4d706f27375911949ba6bb62e1c"
   }
  }
 },
 "nbformat": 4,
 "nbformat_minor": 2
}
