{
 "cells": [
  {
   "attachments": {},
   "cell_type": "markdown",
   "metadata": {},
   "source": [
    "## Data Journalism\n",
    "\n",
    "Data Engineering/Analytics is not just reserved for purely “business” applications\n",
    "\n",
    "Along with the proliferation of the internet & massive tech companies, journalism has now begun to benefit from “data-oriented” individuals.\n",
    "\n",
    "Namely data journalism is the practice of documenting & presenting real-world-events using data science & visualizations "
   ]
  },
  {
   "attachments": {},
   "cell_type": "markdown",
   "metadata": {},
   "source": [
    "## Subqueries\n",
    "\n",
    "A super useful feature of postgres, and at this point, most flavors of SQL are correlated subqueries aka subqueries\n",
    "\n",
    "Subqueries allow us to utilize information pulled from a subquery in a outer query\n",
    "\n",
    "```sql\n",
    "    SELECT … --This can be an UPDATE or DELETE clause, for now we will only use SELECT\n",
    "    FROM outer_table p  -- Loop through each row of outer_table “p”\n",
    "    WHERE EXPR (    -- This is a boolean operator\n",
    "        SELECT … FROM inner_table i WHERE  …    -- Only select the rows from the outer table that meet the criteria of the inner query\n",
    ") ;\n",
    "```\n",
    "\n",
    "The expressions we can use with our subqueries include:\n",
    "\n",
    "* EXISTS : Select row if the subquery produces a table with at least one row\n",
    "* IN  : Select row if attribute exists in subquery that returns column or static list \n",
    "* ANY or SOME : Select row if attribute equal, not equal, etc to any row from subquery\n",
    "* ALL : Select row if attribute equal, not equal, etc to all rows from subquery\n",
    "\n",
    "https://www.postgresql.org/docs/current/functions-subquery.html#FUNCTIONS-SUBQUERY-NOTIN "
   ]
  },
  {
   "attachments": {},
   "cell_type": "markdown",
   "metadata": {},
   "source": [
    "## EXISTS\n",
    "\n",
    "This EXISTS expression selects all rows from the subquery table if it produces at least one row."
   ]
  },
  {
   "cell_type": "code",
   "execution_count": null,
   "metadata": {
    "vscode": {
     "languageId": "sql"
    }
   },
   "outputs": [],
   "source": [
    "SELECT *\n",
    "FROM flight f\n",
    "WHERE EXISTS\n",
    "\t( \n",
    "\t\tSELECT * \n",
    "\t \tFROM airline_city ac \n",
    "\t\tWHERE f.destination = ac.code and f.airlineid = ac.airlineid\n",
    "\t)\n",
    ";"
   ]
  },
  {
   "attachments": {},
   "cell_type": "markdown",
   "metadata": {},
   "source": [
    "alternatively, we also have `NOT EXISTS`"
   ]
  },
  {
   "cell_type": "code",
   "execution_count": null,
   "metadata": {
    "vscode": {
     "languageId": "sql"
    }
   },
   "outputs": [],
   "source": [
    "SELECT *\n",
    "FROM flight f\n",
    "WHERE NOT EXISTS\n",
    "\t( \n",
    "\t\tSELECT * \n",
    "\t \tFROM airline_city ac \n",
    "\t\tWHERE f.destination = ac.code and f.airlineid = ac.airlineid\n",
    "\t)\n",
    ";"
   ]
  },
  {
   "attachments": {},
   "cell_type": "markdown",
   "metadata": {},
   "source": [
    "## IN \n",
    "\n",
    "This IN expression selects all rows from the table that exist within the subquery.\n",
    "\n",
    "The query below searches through the `airline_city` table, and only selects the rows where the airline is listed in the `flights` table"
   ]
  },
  {
   "cell_type": "code",
   "execution_count": null,
   "metadata": {
    "vscode": {
     "languageId": "sql"
    }
   },
   "outputs": [],
   "source": [
    "SELECT *\n",
    "FROM airline_city ac\n",
    "WHERE ac.airlineid IN ( \n",
    "    SELECT  f.airlineid FROM flight f\n",
    ") ;"
   ]
  },
  {
   "attachments": {},
   "cell_type": "markdown",
   "metadata": {},
   "source": [
    "This IN expression can also be used to select rows from a static list."
   ]
  },
  {
   "cell_type": "code",
   "execution_count": null,
   "metadata": {
    "vscode": {
     "languageId": "sql"
    }
   },
   "outputs": [],
   "source": [
    "SELECT *\n",
    "FROM airline_city ac\n",
    "WHERE ac.airlineid IN ( `AA`, `WN` ) ;"
   ]
  },
  {
   "attachments": {},
   "cell_type": "markdown",
   "metadata": {},
   "source": [
    "## ANY or SOME\n",
    "\n",
    "The ANY or SOME expressions are used in conjunction with a mathematical operator to check if an attribute from the outer-table is equal to, not equal to, greater than, less than , etc than at least one row in the inner-query.\n",
    "\n",
    "This query accomplishes the same exact thing as the IN expression from before:"
   ]
  },
  {
   "cell_type": "code",
   "execution_count": null,
   "metadata": {
    "vscode": {
     "languageId": "sql"
    }
   },
   "outputs": [],
   "source": [
    "SELECT *\n",
    "FROM airline_city ac\n",
    "WHERE ac.airlineid = ANY ( \n",
    "    SELECT airlineid in FROM flight f \n",
    ") ;"
   ]
  },
  {
   "attachments": {},
   "cell_type": "markdown",
   "metadata": {},
   "source": [
    "## ALL\n",
    "\n",
    "The ALL expressions are used in conjunction with a mathematical operator to check if an attribute from the outer-table is equal to, not equal to, greater than, less than , etc than at all rows in the inner-query"
   ]
  },
  {
   "cell_type": "code",
   "execution_count": null,
   "metadata": {
    "vscode": {
     "languageId": "sql"
    }
   },
   "outputs": [],
   "source": [
    "SELECT *\n",
    "FROM airline_city ac\n",
    "WHERE ac.airlineid = ALL ( \n",
    "    SELECT airlineid in  FROM flight f \n",
    ") ;\n"
   ]
  },
  {
   "attachments": {},
   "cell_type": "markdown",
   "metadata": {},
   "source": [
    "You can figure out your port number via:\n",
    "```sql\n",
    "SELECT *\n",
    "FROM pg_settings\n",
    "WHERE name = 'port';\n",
    "```"
   ]
  },
  {
   "cell_type": "code",
   "execution_count": 2,
   "metadata": {},
   "outputs": [
    {
     "name": "stdout",
     "output_type": "stream",
     "text": [
      "[('AA', 'Louisville International airport', 'SDF'), ('AA', 'John F. Kennedy International airport', 'JFK'), ('AA', 'LaGuardia Airport', 'LGA'), ('AA', 'George Bush Intercontinental airport', 'IAH'), ('AA', 'Tampa International airport', 'TPA'), ('AA', 'Austin-Bergstrom International Airport', 'AUS'), ('AA', 'Hartsfield-Jackson Atlanta International Airport', 'ATL'), ('UAL', 'Louisville International airport', 'SDF'), ('UAL', 'John F. Kennedy International airport', 'JFK'), ('UAL', 'LaGuardia Airport', 'LGA'), ('UAL', 'George Bush Intercontinental airport', 'IAH'), ('UAL', 'San Francisco International airport', 'SFO'), ('UAL', 'Tampa International airport', 'TPA'), ('UAL', 'Austin-Bergstrom International Airport', 'AUS'), ('UAL', 'Hartsfield-Jackson Atlanta International Airport', 'ATL'), ('UAL', 'Daniel K. Inouye International Airport', 'HNL'), ('DL', 'Louisville International airport', 'SDF'), ('DL', 'Dallas/Fort Worth International Airport', 'DFW'), ('DL', 'John F. Kennedy International airport', 'JFK'), ('DL', 'LaGuardia Airport', 'LGA'), ('DL', 'San Francisco International airport', 'SFO'), ('DL', 'Austin-Bergstrom International Airport', 'AUS'), ('DL', 'Hartsfield-Jackson Atlanta International Airport', 'ATL'), ('DL', 'Daniel K. Inouye International Airport', 'INH'), ('WN', 'Louisville International airport', 'SDF'), ('WN', 'LaGuardia Airport', 'LGA'), ('WN', 'George Bush Intercontinental airport', 'IAH'), ('WN', 'Dallas/Fort Worth International Airport', 'DFW'), ('WN', 'San Francisco International airport', 'SFO'), ('WN', 'Tampa International airport', 'TPA'), ('WN', 'Austin-Bergstrom International Airport', 'AUS'), ('WN', 'Hartsfield-Jackson Atlanta International Airport', 'ATL')]\n"
     ]
    },
    {
     "data": {
      "text/html": [
       "<div>\n",
       "<style scoped>\n",
       "    .dataframe tbody tr th:only-of-type {\n",
       "        vertical-align: middle;\n",
       "    }\n",
       "\n",
       "    .dataframe tbody tr th {\n",
       "        vertical-align: top;\n",
       "    }\n",
       "\n",
       "    .dataframe thead th {\n",
       "        text-align: right;\n",
       "    }\n",
       "</style>\n",
       "<table border=\"1\" class=\"dataframe\">\n",
       "  <thead>\n",
       "    <tr style=\"text-align: right;\">\n",
       "      <th></th>\n",
       "      <th>airlineid</th>\n",
       "      <th>ap_name</th>\n",
       "      <th>code</th>\n",
       "    </tr>\n",
       "  </thead>\n",
       "  <tbody>\n",
       "    <tr>\n",
       "      <th>0</th>\n",
       "      <td>AA</td>\n",
       "      <td>Louisville International airport</td>\n",
       "      <td>SDF</td>\n",
       "    </tr>\n",
       "    <tr>\n",
       "      <th>1</th>\n",
       "      <td>AA</td>\n",
       "      <td>John F. Kennedy International airport</td>\n",
       "      <td>JFK</td>\n",
       "    </tr>\n",
       "    <tr>\n",
       "      <th>2</th>\n",
       "      <td>AA</td>\n",
       "      <td>LaGuardia Airport</td>\n",
       "      <td>LGA</td>\n",
       "    </tr>\n",
       "    <tr>\n",
       "      <th>3</th>\n",
       "      <td>AA</td>\n",
       "      <td>George Bush Intercontinental airport</td>\n",
       "      <td>IAH</td>\n",
       "    </tr>\n",
       "    <tr>\n",
       "      <th>4</th>\n",
       "      <td>AA</td>\n",
       "      <td>Tampa International airport</td>\n",
       "      <td>TPA</td>\n",
       "    </tr>\n",
       "  </tbody>\n",
       "</table>\n",
       "</div>"
      ],
      "text/plain": [
       "  airlineid                                ap_name code\n",
       "0        AA       Louisville International airport  SDF\n",
       "1        AA  John F. Kennedy International airport  JFK\n",
       "2        AA                      LaGuardia Airport  LGA\n",
       "3        AA   George Bush Intercontinental airport  IAH\n",
       "4        AA            Tampa International airport  TPA"
      ]
     },
     "execution_count": 2,
     "metadata": {},
     "output_type": "execute_result"
    }
   ],
   "source": [
    "import psycopg2\n",
    "import pandas as pd\n",
    "\n",
    "params_dic = {\n",
    "    \"host\"      : \"localhost\",\n",
    "    \"dbname\"    : \"flights\",\n",
    "    \"user\"      : \"postgres\",\n",
    "    \"password\"  : \"password\",\n",
    "    \"port\" : \"5434\"     \n",
    "}\n",
    "\n",
    "conn = psycopg2.connect(**params_dic)\n",
    "\n",
    "cursor = conn.cursor()\n",
    "cursor.execute(\"SELECT * FROM real_flight \")\n",
    "rows = cursor.fetchall()\n",
    "print(rows)\n",
    "\n",
    "cursor.close()\n",
    "\n",
    "df = pd.DataFrame(rows, columns=[\"airlineid\", \"ap_name\", \"code\"])\n",
    "df.head()"
   ]
  },
  {
   "attachments": {},
   "cell_type": "markdown",
   "metadata": {},
   "source": [
    "comprehensive explanation of code below:"
   ]
  },
  {
   "cell_type": "code",
   "execution_count": null,
   "metadata": {},
   "outputs": [],
   "source": [
    "import psycopg2\n",
    "import pandas as pd\n",
    "\n",
    "# set up log in information\n",
    "params_dic = {\n",
    "    \"host\"      : \"localhost\",\n",
    "    \"dbname\"    : \"flights\",\n",
    "    \"user\"      : \"postgres\",\n",
    "    \"password\"  : \"password\",\n",
    "    \"port\" : \"...\"      # this is the port set up by your default wizard\n",
    "}\n",
    "# we can use \"SELECT * FROM pg_settings WHERE name = 'port';\" in pgAdmin to discover our port number\n",
    "# learn more about ports here: https://www.cloudflare.com/learning/network-layer/what-is-a-computer-port/\n",
    "\n",
    "# connect to your database using the dictionary above\n",
    "# the ** operator unpacks all your settings into their appropriate params\n",
    "# without the ** operator, we would have to manually set these params via\n",
    "# psycopg2.connect(host=\"localhost\", dbname=\"flights\", user=\"postgres\", password=\"password\", port=\"...\")\n",
    "conn = psycopg2.connect(**params_dic)\n",
    "\n",
    "# create a cursor\n",
    "# think of a cursor like an object that stores and executes queries\n",
    "# we prepare it by calling conn.cursor() in Python\n",
    "# for our purpose, a cursor is an object that allows us to execute queries \n",
    "# learn more about cursors here: https://www.geeksforgeeks.org/what-is-cursor-in-sql/\n",
    "cursor = conn.cursor()\n",
    "\n",
    "# execute a query using the cursor\n",
    "# docs of cursor here: https://www.psycopg.org/docs/cursor.html\n",
    "cursor.execute(\"SELECT * FROM airline_city\")\n",
    "\n",
    "# pull all rows from the query you just executed\n",
    "rows = cursor.fetchall()\n",
    "print(rows)\n",
    "\n",
    "# close your cursor, must be done once you are done interacting w/your cursor\n",
    "cursor.close()\n",
    "\n",
    "# save your list of tuples (representing rows) into a dataframe!\n",
    "df = pd.DataFrame(rows, columns=[\"airlineid\", \"ap_name\", \"code\"])\n",
    "\n",
    "# print out the first 5 rows of your dataframe!\n",
    "df.head()"
   ]
  },
  {
   "attachments": {},
   "cell_type": "markdown",
   "metadata": {},
   "source": [
    "## Extra Problems & Resources\n",
    "\n",
    "* (Easy) https://leetcode.com/problems/combine-two-tables/ \n",
    "* (Medium) https://leetcode.com/problems/rank-scores/ \n",
    "* (Medium) https://leetcode.com/problems/exchange-seats/ \n",
    "* SQL Lab Optional Challenge \n",
    "* SQL Optional Coding Challenge Q6 - Q9 \n",
    "* Kaggle SQL BigQuery : https://www.kaggle.com/learn/intro-to-sql (Google Standard SQL)\n",
    "    * Tutorials & Exercises 1, 3, 5, 6"
   ]
  }
 ],
 "metadata": {
  "kernelspec": {
   "display_name": "Python 3",
   "language": "python",
   "name": "python3"
  },
  "language_info": {
   "codemirror_mode": {
    "name": "ipython",
    "version": 3
   },
   "file_extension": ".py",
   "mimetype": "text/x-python",
   "name": "python",
   "nbconvert_exporter": "python",
   "pygments_lexer": "ipython3",
   "version": "3.10.7 (tags/v3.10.7:6cc6b13, Sep  5 2022, 14:08:36) [MSC v.1933 64 bit (AMD64)]"
  },
  "orig_nbformat": 4,
  "vscode": {
   "interpreter": {
    "hash": "369f2c481f4da34e4445cda3fffd2e751bd1c4d706f27375911949ba6bb62e1c"
   }
  }
 },
 "nbformat": 4,
 "nbformat_minor": 2
}
