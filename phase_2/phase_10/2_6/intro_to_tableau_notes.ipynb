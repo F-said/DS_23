{
 "cells": [
  {
   "attachments": {},
   "cell_type": "markdown",
   "metadata": {},
   "source": [
    "## Two-Pointer\n",
    "\n",
    "Check out `review/tech_interviews/two-pointer.ipynb` to learn about the two pointer pattern."
   ]
  },
  {
   "attachments": {},
   "cell_type": "markdown",
   "metadata": {},
   "source": [
    "## Setup\n",
    "\n",
    "Install the following packages via pip:\n",
    "\n",
    "```\n",
    "pip install geopandas\n",
    "pip install plotly\n",
    "pip install pyshp\n",
    "pip install shapely\n",
    "pip install plotly-geo\n",
    "pip install scipy\n",
    "pip install scikit-learn\n",
    "```"
   ]
  },
  {
   "attachments": {},
   "cell_type": "markdown",
   "metadata": {},
   "source": [
    "## EDA\n",
    "\n",
    "* What exactly is EDA?\n",
    "* As opposed to discrete steps, EDA is simply the process of poking & prodding your data to see what sorts of insights fall out of it\n",
    "* Before starting, we want to ensure that the data is properly cleaned & formatted.\n",
    "* EDA entails:\n",
    "* Viewing your data\n",
    "    * Splitting your data into groups\n",
    "    * Calculating statistics\n",
    "    * Performing t-tests\n",
    "    * And most importantly, visualizing your data\n",
    "In no specific order\n"
   ]
  },
  {
   "cell_type": "code",
   "execution_count": 22,
   "metadata": {},
   "outputs": [
    {
     "ename": "UnicodeDecodeError",
     "evalue": "'utf-8' codec can't decode byte 0xa4 in position 961: invalid start byte",
     "output_type": "error",
     "traceback": [
      "\u001b[1;31m---------------------------------------------------------------------------\u001b[0m",
      "\u001b[1;31mUnicodeDecodeError\u001b[0m                        Traceback (most recent call last)",
      "\u001b[1;32mc:\\Users\\saidmf\\Desktop\\TKH\\DS_22\\phase_2\\phase_10\\2_6\\intro_to_tableau_notes.ipynb Cell 4\u001b[0m in \u001b[0;36m<cell line: 5>\u001b[1;34m()\u001b[0m\n\u001b[0;32m      <a href='vscode-notebook-cell:/c%3A/Users/saidmf/Desktop/TKH/DS_22/phase_2/phase_10/2_6/intro_to_tableau_notes.ipynb#X14sZmlsZQ%3D%3D?line=0'>1</a>\u001b[0m \u001b[39mimport\u001b[39;00m \u001b[39mpandas\u001b[39;00m \u001b[39mas\u001b[39;00m \u001b[39mpd\u001b[39;00m\n\u001b[0;32m      <a href='vscode-notebook-cell:/c%3A/Users/saidmf/Desktop/TKH/DS_22/phase_2/phase_10/2_6/intro_to_tableau_notes.ipynb#X14sZmlsZQ%3D%3D?line=2'>3</a>\u001b[0m \u001b[39m# load in rental data\u001b[39;00m\n\u001b[0;32m      <a href='vscode-notebook-cell:/c%3A/Users/saidmf/Desktop/TKH/DS_22/phase_2/phase_10/2_6/intro_to_tableau_notes.ipynb#X14sZmlsZQ%3D%3D?line=3'>4</a>\u001b[0m \u001b[39m# this will not be the only dataframe we interact with! always split your dataframes into further groups\u001b[39;00m\n\u001b[1;32m----> <a href='vscode-notebook-cell:/c%3A/Users/saidmf/Desktop/TKH/DS_22/phase_2/phase_10/2_6/intro_to_tableau_notes.ipynb#X14sZmlsZQ%3D%3D?line=4'>5</a>\u001b[0m rent_df \u001b[39m=\u001b[39m pd\u001b[39m.\u001b[39;49mread_csv(\u001b[39m\"\u001b[39;49m\u001b[39m../data/2020_2021_rent.csv\u001b[39;49m\u001b[39m\"\u001b[39;49m)\n",
      "File \u001b[1;32mc:\\Python310\\lib\\site-packages\\pandas\\util\\_decorators.py:311\u001b[0m, in \u001b[0;36mdeprecate_nonkeyword_arguments.<locals>.decorate.<locals>.wrapper\u001b[1;34m(*args, **kwargs)\u001b[0m\n\u001b[0;32m    305\u001b[0m \u001b[39mif\u001b[39;00m \u001b[39mlen\u001b[39m(args) \u001b[39m>\u001b[39m num_allow_args:\n\u001b[0;32m    306\u001b[0m     warnings\u001b[39m.\u001b[39mwarn(\n\u001b[0;32m    307\u001b[0m         msg\u001b[39m.\u001b[39mformat(arguments\u001b[39m=\u001b[39marguments),\n\u001b[0;32m    308\u001b[0m         \u001b[39mFutureWarning\u001b[39;00m,\n\u001b[0;32m    309\u001b[0m         stacklevel\u001b[39m=\u001b[39mstacklevel,\n\u001b[0;32m    310\u001b[0m     )\n\u001b[1;32m--> 311\u001b[0m \u001b[39mreturn\u001b[39;00m func(\u001b[39m*\u001b[39margs, \u001b[39m*\u001b[39m\u001b[39m*\u001b[39mkwargs)\n",
      "File \u001b[1;32mc:\\Python310\\lib\\site-packages\\pandas\\io\\parsers\\readers.py:680\u001b[0m, in \u001b[0;36mread_csv\u001b[1;34m(filepath_or_buffer, sep, delimiter, header, names, index_col, usecols, squeeze, prefix, mangle_dupe_cols, dtype, engine, converters, true_values, false_values, skipinitialspace, skiprows, skipfooter, nrows, na_values, keep_default_na, na_filter, verbose, skip_blank_lines, parse_dates, infer_datetime_format, keep_date_col, date_parser, dayfirst, cache_dates, iterator, chunksize, compression, thousands, decimal, lineterminator, quotechar, quoting, doublequote, escapechar, comment, encoding, encoding_errors, dialect, error_bad_lines, warn_bad_lines, on_bad_lines, delim_whitespace, low_memory, memory_map, float_precision, storage_options)\u001b[0m\n\u001b[0;32m    665\u001b[0m kwds_defaults \u001b[39m=\u001b[39m _refine_defaults_read(\n\u001b[0;32m    666\u001b[0m     dialect,\n\u001b[0;32m    667\u001b[0m     delimiter,\n\u001b[1;32m   (...)\u001b[0m\n\u001b[0;32m    676\u001b[0m     defaults\u001b[39m=\u001b[39m{\u001b[39m\"\u001b[39m\u001b[39mdelimiter\u001b[39m\u001b[39m\"\u001b[39m: \u001b[39m\"\u001b[39m\u001b[39m,\u001b[39m\u001b[39m\"\u001b[39m},\n\u001b[0;32m    677\u001b[0m )\n\u001b[0;32m    678\u001b[0m kwds\u001b[39m.\u001b[39mupdate(kwds_defaults)\n\u001b[1;32m--> 680\u001b[0m \u001b[39mreturn\u001b[39;00m _read(filepath_or_buffer, kwds)\n",
      "File \u001b[1;32mc:\\Python310\\lib\\site-packages\\pandas\\io\\parsers\\readers.py:575\u001b[0m, in \u001b[0;36m_read\u001b[1;34m(filepath_or_buffer, kwds)\u001b[0m\n\u001b[0;32m    572\u001b[0m _validate_names(kwds\u001b[39m.\u001b[39mget(\u001b[39m\"\u001b[39m\u001b[39mnames\u001b[39m\u001b[39m\"\u001b[39m, \u001b[39mNone\u001b[39;00m))\n\u001b[0;32m    574\u001b[0m \u001b[39m# Create the parser.\u001b[39;00m\n\u001b[1;32m--> 575\u001b[0m parser \u001b[39m=\u001b[39m TextFileReader(filepath_or_buffer, \u001b[39m*\u001b[39m\u001b[39m*\u001b[39mkwds)\n\u001b[0;32m    577\u001b[0m \u001b[39mif\u001b[39;00m chunksize \u001b[39mor\u001b[39;00m iterator:\n\u001b[0;32m    578\u001b[0m     \u001b[39mreturn\u001b[39;00m parser\n",
      "File \u001b[1;32mc:\\Python310\\lib\\site-packages\\pandas\\io\\parsers\\readers.py:934\u001b[0m, in \u001b[0;36mTextFileReader.__init__\u001b[1;34m(self, f, engine, **kwds)\u001b[0m\n\u001b[0;32m    931\u001b[0m     \u001b[39mself\u001b[39m\u001b[39m.\u001b[39moptions[\u001b[39m\"\u001b[39m\u001b[39mhas_index_names\u001b[39m\u001b[39m\"\u001b[39m] \u001b[39m=\u001b[39m kwds[\u001b[39m\"\u001b[39m\u001b[39mhas_index_names\u001b[39m\u001b[39m\"\u001b[39m]\n\u001b[0;32m    933\u001b[0m \u001b[39mself\u001b[39m\u001b[39m.\u001b[39mhandles: IOHandles \u001b[39m|\u001b[39m \u001b[39mNone\u001b[39;00m \u001b[39m=\u001b[39m \u001b[39mNone\u001b[39;00m\n\u001b[1;32m--> 934\u001b[0m \u001b[39mself\u001b[39m\u001b[39m.\u001b[39m_engine \u001b[39m=\u001b[39m \u001b[39mself\u001b[39;49m\u001b[39m.\u001b[39;49m_make_engine(f, \u001b[39mself\u001b[39;49m\u001b[39m.\u001b[39;49mengine)\n",
      "File \u001b[1;32mc:\\Python310\\lib\\site-packages\\pandas\\io\\parsers\\readers.py:1236\u001b[0m, in \u001b[0;36mTextFileReader._make_engine\u001b[1;34m(self, f, engine)\u001b[0m\n\u001b[0;32m   1233\u001b[0m     \u001b[39mraise\u001b[39;00m \u001b[39mValueError\u001b[39;00m(msg)\n\u001b[0;32m   1235\u001b[0m \u001b[39mtry\u001b[39;00m:\n\u001b[1;32m-> 1236\u001b[0m     \u001b[39mreturn\u001b[39;00m mapping[engine](f, \u001b[39m*\u001b[39m\u001b[39m*\u001b[39m\u001b[39mself\u001b[39m\u001b[39m.\u001b[39moptions)\n\u001b[0;32m   1237\u001b[0m \u001b[39mexcept\u001b[39;00m \u001b[39mException\u001b[39;00m:\n\u001b[0;32m   1238\u001b[0m     \u001b[39mif\u001b[39;00m \u001b[39mself\u001b[39m\u001b[39m.\u001b[39mhandles \u001b[39mis\u001b[39;00m \u001b[39mnot\u001b[39;00m \u001b[39mNone\u001b[39;00m:\n",
      "File \u001b[1;32mc:\\Python310\\lib\\site-packages\\pandas\\io\\parsers\\c_parser_wrapper.py:75\u001b[0m, in \u001b[0;36mCParserWrapper.__init__\u001b[1;34m(self, src, **kwds)\u001b[0m\n\u001b[0;32m     72\u001b[0m     kwds\u001b[39m.\u001b[39mpop(key, \u001b[39mNone\u001b[39;00m)\n\u001b[0;32m     74\u001b[0m kwds[\u001b[39m\"\u001b[39m\u001b[39mdtype\u001b[39m\u001b[39m\"\u001b[39m] \u001b[39m=\u001b[39m ensure_dtype_objs(kwds\u001b[39m.\u001b[39mget(\u001b[39m\"\u001b[39m\u001b[39mdtype\u001b[39m\u001b[39m\"\u001b[39m, \u001b[39mNone\u001b[39;00m))\n\u001b[1;32m---> 75\u001b[0m \u001b[39mself\u001b[39m\u001b[39m.\u001b[39m_reader \u001b[39m=\u001b[39m parsers\u001b[39m.\u001b[39mTextReader(src, \u001b[39m*\u001b[39m\u001b[39m*\u001b[39mkwds)\n\u001b[0;32m     77\u001b[0m \u001b[39mself\u001b[39m\u001b[39m.\u001b[39munnamed_cols \u001b[39m=\u001b[39m \u001b[39mself\u001b[39m\u001b[39m.\u001b[39m_reader\u001b[39m.\u001b[39munnamed_cols\n\u001b[0;32m     79\u001b[0m \u001b[39m# error: Cannot determine type of 'names'\u001b[39;00m\n",
      "File \u001b[1;32mc:\\Python310\\lib\\site-packages\\pandas\\_libs\\parsers.pyx:544\u001b[0m, in \u001b[0;36mpandas._libs.parsers.TextReader.__cinit__\u001b[1;34m()\u001b[0m\n",
      "File \u001b[1;32mc:\\Python310\\lib\\site-packages\\pandas\\_libs\\parsers.pyx:633\u001b[0m, in \u001b[0;36mpandas._libs.parsers.TextReader._get_header\u001b[1;34m()\u001b[0m\n",
      "File \u001b[1;32mc:\\Python310\\lib\\site-packages\\pandas\\_libs\\parsers.pyx:847\u001b[0m, in \u001b[0;36mpandas._libs.parsers.TextReader._tokenize_rows\u001b[1;34m()\u001b[0m\n",
      "File \u001b[1;32mc:\\Python310\\lib\\site-packages\\pandas\\_libs\\parsers.pyx:1952\u001b[0m, in \u001b[0;36mpandas._libs.parsers.raise_parser_error\u001b[1;34m()\u001b[0m\n",
      "\u001b[1;31mUnicodeDecodeError\u001b[0m: 'utf-8' codec can't decode byte 0xa4 in position 961: invalid start byte"
     ]
    }
   ],
   "source": [
    "import pandas as pd\n",
    "\n",
    "# load in rental data\n",
    "# this will not be the only dataframe we interact with! always split your dataframes into further groups\n",
    "rent_df = pd.read_csv(\"../data/2020_2021_rent.csv\")"
   ]
  },
  {
   "attachments": {},
   "cell_type": "markdown",
   "metadata": {},
   "source": [
    "Let's propose a goal for analysis\n",
    "* view trends in rent\n",
    "* view trends in population\n",
    "* view how rent changed from state-to-state \n",
    "  * anymore granular?...\n",
    "* view how rent correlates with population\n",
    "\n",
    "* business applications? \n",
    "  * market-rate and what they can charge\n",
    "  * trends in population --> market opps\n",
    "\n",
    "* consumer applications?\n",
    "  * landlord falsification\n",
    "  * finding a new place to live. Alaska??? "
   ]
  },
  {
   "cell_type": "code",
   "execution_count": 23,
   "metadata": {},
   "outputs": [],
   "source": [
    "# we often run into the errors above. This indicates that there is some non-unicode character in our dataset.\n",
    "# could be cyrillic, could be expanded latin (accented chars), could be mandarin, etc.\n",
    "\n",
    "# regardless, we can fix it by switching the encoding.\n",
    "rent_df = pd.read_csv(\"../data/2020_2021_rent.csv\", encoding = 'unicode_escape')\n",
    "\n",
    "# any risks to this? ... "
   ]
  },
  {
   "cell_type": "code",
   "execution_count": 25,
   "metadata": {},
   "outputs": [
    {
     "data": {
      "text/html": [
       "<div>\n",
       "<style scoped>\n",
       "    .dataframe tbody tr th:only-of-type {\n",
       "        vertical-align: middle;\n",
       "    }\n",
       "\n",
       "    .dataframe tbody tr th {\n",
       "        vertical-align: top;\n",
       "    }\n",
       "\n",
       "    .dataframe thead th {\n",
       "        text-align: right;\n",
       "    }\n",
       "</style>\n",
       "<table border=\"1\" class=\"dataframe\">\n",
       "  <thead>\n",
       "    <tr style=\"text-align: right;\">\n",
       "      <th></th>\n",
       "      <th>year</th>\n",
       "      <th>fips2010</th>\n",
       "      <th>rent50_0</th>\n",
       "      <th>rent50_1</th>\n",
       "      <th>rent50_2</th>\n",
       "      <th>rent50_3</th>\n",
       "      <th>rent50_4</th>\n",
       "      <th>state</th>\n",
       "      <th>cbsasub20</th>\n",
       "      <th>areaname20</th>\n",
       "      <th>county</th>\n",
       "      <th>cousub</th>\n",
       "      <th>cntyname</th>\n",
       "      <th>name</th>\n",
       "      <th>pop2017</th>\n",
       "      <th>hu2017</th>\n",
       "      <th>state_alpha</th>\n",
       "    </tr>\n",
       "  </thead>\n",
       "  <tbody>\n",
       "    <tr>\n",
       "      <th>0</th>\n",
       "      <td>2020</td>\n",
       "      <td>4805999999</td>\n",
       "      <td>673</td>\n",
       "      <td>699</td>\n",
       "      <td>920</td>\n",
       "      <td>1209</td>\n",
       "      <td>1560</td>\n",
       "      <td>48</td>\n",
       "      <td>METRO10180M10180</td>\n",
       "      <td>Abilene, TX MSA</td>\n",
       "      <td>59</td>\n",
       "      <td>99999</td>\n",
       "      <td>Callahan County</td>\n",
       "      <td>Callahan County</td>\n",
       "      <td>13660</td>\n",
       "      <td>6637</td>\n",
       "      <td>TX</td>\n",
       "    </tr>\n",
       "    <tr>\n",
       "      <th>1</th>\n",
       "      <td>2020</td>\n",
       "      <td>4825399999</td>\n",
       "      <td>673</td>\n",
       "      <td>699</td>\n",
       "      <td>920</td>\n",
       "      <td>1209</td>\n",
       "      <td>1560</td>\n",
       "      <td>48</td>\n",
       "      <td>METRO10180M10180</td>\n",
       "      <td>Abilene, TX MSA</td>\n",
       "      <td>253</td>\n",
       "      <td>99999</td>\n",
       "      <td>Jones County</td>\n",
       "      <td>Jones County</td>\n",
       "      <td>19970</td>\n",
       "      <td>7292</td>\n",
       "      <td>TX</td>\n",
       "    </tr>\n",
       "    <tr>\n",
       "      <th>2</th>\n",
       "      <td>2020</td>\n",
       "      <td>4844199999</td>\n",
       "      <td>673</td>\n",
       "      <td>699</td>\n",
       "      <td>920</td>\n",
       "      <td>1209</td>\n",
       "      <td>1560</td>\n",
       "      <td>48</td>\n",
       "      <td>METRO10180M10180</td>\n",
       "      <td>Abilene, TX MSA</td>\n",
       "      <td>441</td>\n",
       "      <td>99999</td>\n",
       "      <td>Taylor County</td>\n",
       "      <td>Taylor County</td>\n",
       "      <td>135370</td>\n",
       "      <td>56978</td>\n",
       "      <td>TX</td>\n",
       "    </tr>\n",
       "    <tr>\n",
       "      <th>3</th>\n",
       "      <td>2020</td>\n",
       "      <td>7200399999</td>\n",
       "      <td>386</td>\n",
       "      <td>397</td>\n",
       "      <td>452</td>\n",
       "      <td>591</td>\n",
       "      <td>713</td>\n",
       "      <td>72</td>\n",
       "      <td>METRO10380M10380</td>\n",
       "      <td>Aguadilla-Isabela, PR HUD Metro FMR Area</td>\n",
       "      <td>3</td>\n",
       "      <td>99999</td>\n",
       "      <td>Aguada Municipio</td>\n",
       "      <td>Aguada Municipio</td>\n",
       "      <td>39470</td>\n",
       "      <td>17385</td>\n",
       "      <td>PR</td>\n",
       "    </tr>\n",
       "    <tr>\n",
       "      <th>4</th>\n",
       "      <td>2020</td>\n",
       "      <td>7200599999</td>\n",
       "      <td>386</td>\n",
       "      <td>397</td>\n",
       "      <td>452</td>\n",
       "      <td>591</td>\n",
       "      <td>713</td>\n",
       "      <td>72</td>\n",
       "      <td>METRO10380M10380</td>\n",
       "      <td>Aguadilla-Isabela, PR HUD Metro FMR Area</td>\n",
       "      <td>5</td>\n",
       "      <td>99999</td>\n",
       "      <td>Aguadilla Municipio</td>\n",
       "      <td>Aguadilla Municipio</td>\n",
       "      <td>55720</td>\n",
       "      <td>27301</td>\n",
       "      <td>PR</td>\n",
       "    </tr>\n",
       "    <tr>\n",
       "      <th>5</th>\n",
       "      <td>2020</td>\n",
       "      <td>7201199999</td>\n",
       "      <td>386</td>\n",
       "      <td>397</td>\n",
       "      <td>452</td>\n",
       "      <td>591</td>\n",
       "      <td>713</td>\n",
       "      <td>72</td>\n",
       "      <td>METRO10380M10380</td>\n",
       "      <td>Aguadilla-Isabela, PR HUD Metro FMR Area</td>\n",
       "      <td>11</td>\n",
       "      <td>99999</td>\n",
       "      <td>A¤asco Municipio</td>\n",
       "      <td>A¤asco Municipio</td>\n",
       "      <td>27890</td>\n",
       "      <td>12557</td>\n",
       "      <td>PR</td>\n",
       "    </tr>\n",
       "  </tbody>\n",
       "</table>\n",
       "</div>"
      ],
      "text/plain": [
       "   year    fips2010  rent50_0  rent50_1  rent50_2  rent50_3  rent50_4  state  \\\n",
       "0  2020  4805999999       673       699       920      1209      1560     48   \n",
       "1  2020  4825399999       673       699       920      1209      1560     48   \n",
       "2  2020  4844199999       673       699       920      1209      1560     48   \n",
       "3  2020  7200399999       386       397       452       591       713     72   \n",
       "4  2020  7200599999       386       397       452       591       713     72   \n",
       "5  2020  7201199999       386       397       452       591       713     72   \n",
       "\n",
       "          cbsasub20                                areaname20  county  cousub  \\\n",
       "0  METRO10180M10180                           Abilene, TX MSA      59   99999   \n",
       "1  METRO10180M10180                           Abilene, TX MSA     253   99999   \n",
       "2  METRO10180M10180                           Abilene, TX MSA     441   99999   \n",
       "3  METRO10380M10380  Aguadilla-Isabela, PR HUD Metro FMR Area       3   99999   \n",
       "4  METRO10380M10380  Aguadilla-Isabela, PR HUD Metro FMR Area       5   99999   \n",
       "5  METRO10380M10380  Aguadilla-Isabela, PR HUD Metro FMR Area      11   99999   \n",
       "\n",
       "              cntyname                 name  pop2017  hu2017 state_alpha  \n",
       "0      Callahan County      Callahan County    13660    6637          TX  \n",
       "1         Jones County         Jones County    19970    7292          TX  \n",
       "2        Taylor County        Taylor County   135370   56978          TX  \n",
       "3     Aguada Municipio     Aguada Municipio    39470   17385          PR  \n",
       "4  Aguadilla Municipio  Aguadilla Municipio    55720   27301          PR  \n",
       "5     A¤asco Municipio     A¤asco Municipio    27890   12557          PR  "
      ]
     },
     "execution_count": 25,
     "metadata": {},
     "output_type": "execute_result"
    }
   ],
   "source": [
    "# let's view the first 5 rows to get a sense of the type of data to expect\n",
    "rent_df.head(6)"
   ]
  },
  {
   "cell_type": "code",
   "execution_count": 26,
   "metadata": {},
   "outputs": [
    {
     "name": "stdout",
     "output_type": "stream",
     "text": [
      "<class 'pandas.core.frame.DataFrame'>\n",
      "RangeIndex: 9533 entries, 0 to 9532\n",
      "Data columns (total 17 columns):\n",
      " #   Column       Non-Null Count  Dtype \n",
      "---  ------       --------------  ----- \n",
      " 0   year         9533 non-null   int64 \n",
      " 1   fips2010     9533 non-null   int64 \n",
      " 2   rent50_0     9533 non-null   int64 \n",
      " 3   rent50_1     9533 non-null   int64 \n",
      " 4   rent50_2     9533 non-null   int64 \n",
      " 5   rent50_3     9533 non-null   int64 \n",
      " 6   rent50_4     9533 non-null   int64 \n",
      " 7   state        9533 non-null   int64 \n",
      " 8   cbsasub20    9533 non-null   object\n",
      " 9   areaname20   9533 non-null   object\n",
      " 10  county       9533 non-null   int64 \n",
      " 11  cousub       9533 non-null   int64 \n",
      " 12  cntyname     9533 non-null   object\n",
      " 13  name         9533 non-null   object\n",
      " 14  pop2017      9533 non-null   int64 \n",
      " 15  hu2017       9533 non-null   int64 \n",
      " 16  state_alpha  9533 non-null   object\n",
      "dtypes: int64(12), object(5)\n",
      "memory usage: 1.2+ MB\n"
     ]
    }
   ],
   "source": [
    "rent_df.info()"
   ]
  },
  {
   "cell_type": "code",
   "execution_count": 27,
   "metadata": {},
   "outputs": [
    {
     "data": {
      "text/html": [
       "<div>\n",
       "<style scoped>\n",
       "    .dataframe tbody tr th:only-of-type {\n",
       "        vertical-align: middle;\n",
       "    }\n",
       "\n",
       "    .dataframe tbody tr th {\n",
       "        vertical-align: top;\n",
       "    }\n",
       "\n",
       "    .dataframe thead th {\n",
       "        text-align: right;\n",
       "    }\n",
       "</style>\n",
       "<table border=\"1\" class=\"dataframe\">\n",
       "  <thead>\n",
       "    <tr style=\"text-align: right;\">\n",
       "      <th></th>\n",
       "      <th>year</th>\n",
       "      <th>fips2010</th>\n",
       "      <th>rent50_0</th>\n",
       "      <th>county</th>\n",
       "      <th>areaname20</th>\n",
       "      <th>name</th>\n",
       "      <th>pop2017</th>\n",
       "      <th>state_alpha</th>\n",
       "    </tr>\n",
       "  </thead>\n",
       "  <tbody>\n",
       "    <tr>\n",
       "      <th>0</th>\n",
       "      <td>2020</td>\n",
       "      <td>4805999999</td>\n",
       "      <td>673</td>\n",
       "      <td>59</td>\n",
       "      <td>Abilene, TX MSA</td>\n",
       "      <td>Callahan County</td>\n",
       "      <td>13660</td>\n",
       "      <td>TX</td>\n",
       "    </tr>\n",
       "    <tr>\n",
       "      <th>1</th>\n",
       "      <td>2020</td>\n",
       "      <td>4825399999</td>\n",
       "      <td>673</td>\n",
       "      <td>253</td>\n",
       "      <td>Abilene, TX MSA</td>\n",
       "      <td>Jones County</td>\n",
       "      <td>19970</td>\n",
       "      <td>TX</td>\n",
       "    </tr>\n",
       "    <tr>\n",
       "      <th>2</th>\n",
       "      <td>2020</td>\n",
       "      <td>4844199999</td>\n",
       "      <td>673</td>\n",
       "      <td>441</td>\n",
       "      <td>Abilene, TX MSA</td>\n",
       "      <td>Taylor County</td>\n",
       "      <td>135370</td>\n",
       "      <td>TX</td>\n",
       "    </tr>\n",
       "    <tr>\n",
       "      <th>3</th>\n",
       "      <td>2020</td>\n",
       "      <td>7200399999</td>\n",
       "      <td>386</td>\n",
       "      <td>3</td>\n",
       "      <td>Aguadilla-Isabela, PR HUD Metro FMR Area</td>\n",
       "      <td>Aguada Municipio</td>\n",
       "      <td>39470</td>\n",
       "      <td>PR</td>\n",
       "    </tr>\n",
       "    <tr>\n",
       "      <th>4</th>\n",
       "      <td>2020</td>\n",
       "      <td>7200599999</td>\n",
       "      <td>386</td>\n",
       "      <td>5</td>\n",
       "      <td>Aguadilla-Isabela, PR HUD Metro FMR Area</td>\n",
       "      <td>Aguadilla Municipio</td>\n",
       "      <td>55720</td>\n",
       "      <td>PR</td>\n",
       "    </tr>\n",
       "  </tbody>\n",
       "</table>\n",
       "</div>"
      ],
      "text/plain": [
       "   year    fips2010  rent50_0  county  \\\n",
       "0  2020  4805999999       673      59   \n",
       "1  2020  4825399999       673     253   \n",
       "2  2020  4844199999       673     441   \n",
       "3  2020  7200399999       386       3   \n",
       "4  2020  7200599999       386       5   \n",
       "\n",
       "                                 areaname20                 name  pop2017  \\\n",
       "0                           Abilene, TX MSA      Callahan County    13660   \n",
       "1                           Abilene, TX MSA         Jones County    19970   \n",
       "2                           Abilene, TX MSA        Taylor County   135370   \n",
       "3  Aguadilla-Isabela, PR HUD Metro FMR Area     Aguada Municipio    39470   \n",
       "4  Aguadilla-Isabela, PR HUD Metro FMR Area  Aguadilla Municipio    55720   \n",
       "\n",
       "  state_alpha  \n",
       "0          TX  \n",
       "1          TX  \n",
       "2          TX  \n",
       "3          PR  \n",
       "4          PR  "
      ]
     },
     "execution_count": 27,
     "metadata": {},
     "output_type": "execute_result"
    }
   ],
   "source": [
    "# we fix format if necessary, rename columns \n",
    "# data munging: prepare for analysis\n",
    "\n",
    "# consider your goals...\n",
    "\n",
    "# view trends in rent (which column do we need for this?)\n",
    "# view trends in population (which column do we need for this as well?)\n",
    "\n",
    "# view how rent changed from state-to-state (which column is relevant for this?)\n",
    "  # anymore granular?... (granular data)\n",
    "# view how rent correlates with population\n",
    "\n",
    "# looks like we only need to focus in on a few columns for our analysis\n",
    "rentpop_df = rent_df[[\"year\", \"fips2010\", \"rent50_0\", \"county\", \"areaname20\", \"name\", \"pop2017\", \"state_alpha\"]]\n",
    "\n",
    "# drop null values (if relevant)\n",
    "\n",
    "\n",
    "# view new dataframe\n",
    "rentpop_df.head()"
   ]
  },
  {
   "cell_type": "code",
   "execution_count": 29,
   "metadata": {},
   "outputs": [
    {
     "data": {
      "text/plain": [
       "Index(['year', 'fips2010', 'rent50_0', 'county', 'areaname20', 'name',\n",
       "       'pop2017', 'state_alpha'],\n",
       "      dtype='object')"
      ]
     },
     "execution_count": 29,
     "metadata": {},
     "output_type": "execute_result"
    }
   ],
   "source": [
    "# next, we explore the metadata (cols, type, len, missing vals) to understand the struct of our df\n",
    "rentpop_df.columns"
   ]
  },
  {
   "cell_type": "code",
   "execution_count": 31,
   "metadata": {},
   "outputs": [
    {
     "data": {
      "text/html": [
       "<div>\n",
       "<style scoped>\n",
       "    .dataframe tbody tr th:only-of-type {\n",
       "        vertical-align: middle;\n",
       "    }\n",
       "\n",
       "    .dataframe tbody tr th {\n",
       "        vertical-align: top;\n",
       "    }\n",
       "\n",
       "    .dataframe thead th {\n",
       "        text-align: right;\n",
       "    }\n",
       "</style>\n",
       "<table border=\"1\" class=\"dataframe\">\n",
       "  <thead>\n",
       "    <tr style=\"text-align: right;\">\n",
       "      <th></th>\n",
       "      <th>year</th>\n",
       "      <th>fips2010</th>\n",
       "      <th>rent50_0</th>\n",
       "      <th>county</th>\n",
       "      <th>pop2017</th>\n",
       "    </tr>\n",
       "  </thead>\n",
       "  <tbody>\n",
       "    <tr>\n",
       "      <th>count</th>\n",
       "      <td>9533.000000</td>\n",
       "      <td>9.533000e+03</td>\n",
       "      <td>9533.000000</td>\n",
       "      <td>9533.000000</td>\n",
       "      <td>9.533000e+03</td>\n",
       "    </tr>\n",
       "    <tr>\n",
       "      <th>mean</th>\n",
       "      <td>2020.499948</td>\n",
       "      <td>3.044543e+09</td>\n",
       "      <td>723.536347</td>\n",
       "      <td>74.330956</td>\n",
       "      <td>6.825536e+04</td>\n",
       "    </tr>\n",
       "    <tr>\n",
       "      <th>std</th>\n",
       "      <td>0.500026</td>\n",
       "      <td>1.505724e+09</td>\n",
       "      <td>279.589952</td>\n",
       "      <td>99.108654</td>\n",
       "      <td>2.677306e+05</td>\n",
       "    </tr>\n",
       "    <tr>\n",
       "      <th>min</th>\n",
       "      <td>2020.000000</td>\n",
       "      <td>1.002000e+08</td>\n",
       "      <td>337.000000</td>\n",
       "      <td>1.000000</td>\n",
       "      <td>0.000000e+00</td>\n",
       "    </tr>\n",
       "    <tr>\n",
       "      <th>25%</th>\n",
       "      <td>2020.000000</td>\n",
       "      <td>2.107600e+09</td>\n",
       "      <td>539.000000</td>\n",
       "      <td>13.000000</td>\n",
       "      <td>3.985000e+03</td>\n",
       "    </tr>\n",
       "    <tr>\n",
       "      <th>50%</th>\n",
       "      <td>2020.000000</td>\n",
       "      <td>2.711000e+09</td>\n",
       "      <td>641.000000</td>\n",
       "      <td>37.000000</td>\n",
       "      <td>1.493500e+04</td>\n",
       "    </tr>\n",
       "    <tr>\n",
       "      <th>75%</th>\n",
       "      <td>2021.000000</td>\n",
       "      <td>4.213200e+09</td>\n",
       "      <td>806.000000</td>\n",
       "      <td>105.000000</td>\n",
       "      <td>4.132000e+04</td>\n",
       "    </tr>\n",
       "    <tr>\n",
       "      <th>max</th>\n",
       "      <td>2021.000000</td>\n",
       "      <td>7.803100e+09</td>\n",
       "      <td>2447.000000</td>\n",
       "      <td>999.000000</td>\n",
       "      <td>1.010572e+07</td>\n",
       "    </tr>\n",
       "  </tbody>\n",
       "</table>\n",
       "</div>"
      ],
      "text/plain": [
       "              year      fips2010     rent50_0       county       pop2017\n",
       "count  9533.000000  9.533000e+03  9533.000000  9533.000000  9.533000e+03\n",
       "mean   2020.499948  3.044543e+09   723.536347    74.330956  6.825536e+04\n",
       "std       0.500026  1.505724e+09   279.589952    99.108654  2.677306e+05\n",
       "min    2020.000000  1.002000e+08   337.000000     1.000000  0.000000e+00\n",
       "25%    2020.000000  2.107600e+09   539.000000    13.000000  3.985000e+03\n",
       "50%    2020.000000  2.711000e+09   641.000000    37.000000  1.493500e+04\n",
       "75%    2021.000000  4.213200e+09   806.000000   105.000000  4.132000e+04\n",
       "max    2021.000000  7.803100e+09  2447.000000   999.000000  1.010572e+07"
      ]
     },
     "execution_count": 31,
     "metadata": {},
     "output_type": "execute_result"
    }
   ],
   "source": [
    "# make summary statistics\n",
    "rentpop_df.describe()"
   ]
  },
  {
   "cell_type": "code",
   "execution_count": 32,
   "metadata": {},
   "outputs": [
    {
     "data": {
      "text/html": [
       "<div>\n",
       "<style scoped>\n",
       "    .dataframe tbody tr th:only-of-type {\n",
       "        vertical-align: middle;\n",
       "    }\n",
       "\n",
       "    .dataframe tbody tr th {\n",
       "        vertical-align: top;\n",
       "    }\n",
       "\n",
       "    .dataframe thead th {\n",
       "        text-align: right;\n",
       "    }\n",
       "</style>\n",
       "<table border=\"1\" class=\"dataframe\">\n",
       "  <thead>\n",
       "    <tr style=\"text-align: right;\">\n",
       "      <th></th>\n",
       "      <th>rent50_0</th>\n",
       "      <th>pop2017</th>\n",
       "    </tr>\n",
       "  </thead>\n",
       "  <tbody>\n",
       "    <tr>\n",
       "      <th>count</th>\n",
       "      <td>9533.000000</td>\n",
       "      <td>9.533000e+03</td>\n",
       "    </tr>\n",
       "    <tr>\n",
       "      <th>mean</th>\n",
       "      <td>723.536347</td>\n",
       "      <td>6.825536e+04</td>\n",
       "    </tr>\n",
       "    <tr>\n",
       "      <th>std</th>\n",
       "      <td>279.589952</td>\n",
       "      <td>2.677306e+05</td>\n",
       "    </tr>\n",
       "    <tr>\n",
       "      <th>min</th>\n",
       "      <td>337.000000</td>\n",
       "      <td>0.000000e+00</td>\n",
       "    </tr>\n",
       "    <tr>\n",
       "      <th>25%</th>\n",
       "      <td>539.000000</td>\n",
       "      <td>3.985000e+03</td>\n",
       "    </tr>\n",
       "    <tr>\n",
       "      <th>50%</th>\n",
       "      <td>641.000000</td>\n",
       "      <td>1.493500e+04</td>\n",
       "    </tr>\n",
       "    <tr>\n",
       "      <th>75%</th>\n",
       "      <td>806.000000</td>\n",
       "      <td>4.132000e+04</td>\n",
       "    </tr>\n",
       "    <tr>\n",
       "      <th>max</th>\n",
       "      <td>2447.000000</td>\n",
       "      <td>1.010572e+07</td>\n",
       "    </tr>\n",
       "  </tbody>\n",
       "</table>\n",
       "</div>"
      ],
      "text/plain": [
       "          rent50_0       pop2017\n",
       "count  9533.000000  9.533000e+03\n",
       "mean    723.536347  6.825536e+04\n",
       "std     279.589952  2.677306e+05\n",
       "min     337.000000  0.000000e+00\n",
       "25%     539.000000  3.985000e+03\n",
       "50%     641.000000  1.493500e+04\n",
       "75%     806.000000  4.132000e+04\n",
       "max    2447.000000  1.010572e+07"
      ]
     },
     "execution_count": 32,
     "metadata": {},
     "output_type": "execute_result"
    }
   ],
   "source": [
    "# tukey's numbers min, lower quant, median, upper quant, max (http://theurbanengine.com/blog//tukey-5-number-summary)\n",
    "# let's focus in on the columns of interest (rent & pop?)\n",
    "rentpop_df[['rent50_0','pop2017']].describe()"
   ]
  },
  {
   "cell_type": "code",
   "execution_count": null,
   "metadata": {},
   "outputs": [],
   "source": [
    "# describe the pop2017 column\n"
   ]
  },
  {
   "cell_type": "code",
   "execution_count": 33,
   "metadata": {},
   "outputs": [],
   "source": [
    "# create two dataframes. one describing 2020 data and one describing 2021 data\n",
    "\n",
    "# filter for 2020\n",
    "df_2020 = rent_df[rent_df['year'] == 2020]\n",
    "\n",
    "# filter for 2021\n",
    "df_2021 = rent_df[rent_df['year'] == 2021]"
   ]
  },
  {
   "cell_type": "code",
   "execution_count": 35,
   "metadata": {},
   "outputs": [
    {
     "data": {
      "text/plain": [
       "count    4767.000000\n",
       "mean      709.632893\n",
       "std       273.928743\n",
       "min       338.000000\n",
       "25%       529.000000\n",
       "50%       625.000000\n",
       "75%       785.500000\n",
       "max      2288.000000\n",
       "Name: rent50_0, dtype: float64"
      ]
     },
     "execution_count": 35,
     "metadata": {},
     "output_type": "execute_result"
    }
   ],
   "source": [
    "# summary statistics of rent50 for 2020\n",
    "df_2020[\"rent50_0\"].describe()"
   ]
  },
  {
   "cell_type": "code",
   "execution_count": 36,
   "metadata": {},
   "outputs": [
    {
     "data": {
      "text/plain": [
       "count    4766.000000\n",
       "mean      737.442719\n",
       "std       284.489672\n",
       "min       337.000000\n",
       "25%       547.000000\n",
       "50%       645.000000\n",
       "75%       821.000000\n",
       "max      2447.000000\n",
       "Name: rent50_0, dtype: float64"
      ]
     },
     "execution_count": 36,
     "metadata": {},
     "output_type": "execute_result"
    }
   ],
   "source": [
    "# summary statistics of rent50 for 2021\n",
    "df_2021[\"rent50_0\"].describe()"
   ]
  },
  {
   "cell_type": "code",
   "execution_count": 37,
   "metadata": {},
   "outputs": [
    {
     "data": {
      "text/plain": [
       "2020         AxesSubplot(0.1,0.15;0.363636x0.75)\n",
       "2021    AxesSubplot(0.536364,0.15;0.363636x0.75)\n",
       "dtype: object"
      ]
     },
     "execution_count": 37,
     "metadata": {},
     "output_type": "execute_result"
    },
    {
     "data": {
      "image/png": "[encoded data removed]",
      "text/plain": [
       "<Figure size 432x288 with 2 Axes>"
      ]
     },
     "metadata": {
      "needs_background": "light"
     },
     "output_type": "display_data"
    }
   ],
   "source": [
    "# let's generate some boxplots to beter visualize this\n",
    "# if we would multiple boxplots according to the value in a row, we must use groupby\n",
    "# and specify a column\n",
    "rentpop_df.groupby(\"year\").boxplot(column='rent50_0')"
   ]
  },
  {
   "cell_type": "code",
   "execution_count": null,
   "metadata": {},
   "outputs": [],
   "source": [
    "rentpop_df.groupby(\"year\").boxplot(column='pop2017')"
   ]
  },
  {
   "cell_type": "code",
   "execution_count": null,
   "metadata": {},
   "outputs": [],
   "source": [
    "# look at distributions for your columns of interest, consider if they follow any \n",
    "# distribution pattern?\n",
    "rentpop2020[\"rent50_0\"].plot.hist()"
   ]
  },
  {
   "cell_type": "code",
   "execution_count": null,
   "metadata": {},
   "outputs": [],
   "source": [
    "# make a histogram using only 5 bins\n",
    "# how do bins change observations?\n"
   ]
  },
  {
   "cell_type": "code",
   "execution_count": null,
   "metadata": {},
   "outputs": [],
   "source": [
    "# what kind of distribution might this be? \n",
    "# https://chartio.com/assets/7fe114/tutorials/charts/histograms/64918b209c6e60b56bee9d8c7ba22dcd854370078e6b8377f272c85119080728/histogram-example-2.png\n",
    "\n",
    "# generally speaking the more bins you have, the more insight you can glean\n",
    "rentpop2020[\"rent50_0\"].plot.hist(bins=20)"
   ]
  },
  {
   "cell_type": "code",
   "execution_count": null,
   "metadata": {},
   "outputs": [],
   "source": [
    "# a lot of bins communicate even more info\n",
    "\n",
    "# how many bins you include is contextual on the purpose of EDA\n",
    "# find classes/groups of data? Less bins\n",
    "# analyze continuous data? More bins\n",
    "\n",
    "rentpop2020[\"rent50_0\"].plot.hist(bins=100)"
   ]
  },
  {
   "cell_type": "code",
   "execution_count": null,
   "metadata": {},
   "outputs": [],
   "source": [
    "# there is a rule we can use however: https://en.wikipedia.org/wiki/Freedman%E2%80%93Diaconis_rule\n",
    "\n",
    "# Python does not have a builtin method for this, but R does (https://stats.stackexchange.com/questions/798/calculating-optimal-number-of-bins-in-a-histogram)\n",
    "# this is why R is usually a go-to for data-analysis\n",
    "\n",
    "# however, we will make do\n",
    "# 2 * IQR * len(df)**(-1/3)\n",
    "\n",
    "first_quart = rentpop2020[\"rent50_0\"].describe()[\"25%\"]\n",
    "third_quart = rentpop2020[\"rent50_0\"].describe()[\"75%\"]\n",
    "iqr = third_quart - first_quart\n",
    "\n",
    "# why do we cast it to an int?\n",
    "opt_bins = int(2 * iqr * len(rentpop2020[\"rent50_0\"])**(-1/3))\n",
    "print(opt_bins)\n",
    "\n",
    "rentpop2020[\"rent50_0\"].plot.hist(bins=opt_bins)"
   ]
  },
  {
   "cell_type": "code",
   "execution_count": null,
   "metadata": {},
   "outputs": [],
   "source": [
    "# calculate the optimal amount of bins according to the  https://en.wikipedia.org/wiki/Freedman%E2%80%93Diaconis_rule for 2021 and plot\n",
    "\n"
   ]
  },
  {
   "cell_type": "code",
   "execution_count": null,
   "metadata": {},
   "outputs": [],
   "source": [
    "# calculate the optimal amount of bins according to the  https://en.wikipedia.org/wiki/Freedman%E2%80%93Diaconis_rule for the entire dataframe (original df containing 2020 & 2021 data) and plot\n",
    "\n"
   ]
  },
  {
   "cell_type": "code",
   "execution_count": null,
   "metadata": {},
   "outputs": [],
   "source": [
    "# let's see what happens when there are clearly two-classes of data\n",
    "# load in 2004 rent data\n",
    "rent2004 = pd.read_csv(\"../data/2004rent.csv\")\n",
    "# attach to 2021 data\n",
    "rent_2004_2021 = rentpop2021[\"rent50_0\"].append(rent2004[\"Rent50_0\"])\n",
    "\n",
    "# what do we notice about this histogram?\n",
    "rent_2004_2021.plot.hist(bins=100)"
   ]
  },
  {
   "cell_type": "code",
   "execution_count": null,
   "metadata": {},
   "outputs": [],
   "source": [
    "# quickly analyze population\n",
    "rentpop_df[\"pop2017\"].plot.hist(bins=20)"
   ]
  },
  {
   "cell_type": "code",
   "execution_count": null,
   "metadata": {},
   "outputs": [],
   "source": [
    "# after viewing distributions, let's try to compare correlation between population & rent\n",
    "rentpop_df.plot.scatter(x=\"pop2017\", y=\"rent50_0\")"
   ]
  },
  {
   "cell_type": "code",
   "execution_count": null,
   "metadata": {},
   "outputs": [],
   "source": [
    "# do the same for 2021 data\n"
   ]
  },
  {
   "cell_type": "code",
   "execution_count": null,
   "metadata": {},
   "outputs": [],
   "source": [
    "# do the same for 2020 data\n"
   ]
  },
  {
   "cell_type": "code",
   "execution_count": null,
   "metadata": {},
   "outputs": [],
   "source": [
    "# We could also perform t-tests to view the validity of hypothesis\n",
    "# null-hypothesis: ...\n",
    "# alt-hypothesis: ...\n",
    "# central limit theorem: ...\n",
    "\n",
    "# we could potentially do a distribution test called the `kolmogorov-smirnov test'\n",
    "# which is a hypothesis test that checks if some data=sample is normally distributed\n",
    "\n",
    "# if it is normally distributed, then we have a good dataset to predict on using an explainable model\n",
    "# such as linear regression\n",
    "\n",
    "# if it is not normally distributed, then we should probably scale our data to make it normal\n",
    "# or choose a different model\n",
    "# or snip outliers\n",
    "\n",
    "# https://pyshark.com/test-for-normality-using-python/\n",
    "# https://www.bristol.ac.uk/cmm/media/research/ba-teaching-ebooks/pdf/Normality%20-%20Practical.pdf\n",
    "\n",
    "# We use the k-s test to check if our distribution matches some other distribution\n",
    "# for example, normal\n",
    "\n",
    "# our null-hypothesis is that the distribution is normal\n",
    "# while our alt-hypothesis is that our distribution is not normal (skewed, possion, uniform)\n",
    "\n",
    "# keep in mind, that we reject the null-hypothesis if our p-value is less than 0.05\n",
    "\n",
    "import scipy\n",
    "\n",
    "scipy.stats.kstest(rentpop_df[\"rent50_0\"], scipy.stats.norm.cdf)\n"
   ]
  },
  {
   "cell_type": "code",
   "execution_count": null,
   "metadata": {},
   "outputs": [],
   "source": [
    "# and lastly, one more visualization to check for normality\n",
    "import scipy.stats as stats\n",
    "import matplotlib.pyplot as plt\n",
    "\n",
    "stats.probplot(rentpop_df[\"rent50_0\"], dist=\"norm\", plot=plt)\n",
    "plt.show()"
   ]
  },
  {
   "attachments": {},
   "cell_type": "markdown",
   "metadata": {},
   "source": [
    "While rent data is not normal (harder prediction task), we could apply some transformation tasks to force it to be normal (https://developers.google.com/machine-learning/data-prep/transform/normalization)\n",
    "\n",
    "We use the transformation that works \"empirically\" well. Are there any risks to this?"
   ]
  },
  {
   "cell_type": "code",
   "execution_count": null,
   "metadata": {},
   "outputs": [],
   "source": [
    "# generally we normalize columns together. The scale for population and rent is often varied\n",
    "# ex: rent 635 USD, population 83,000 people. Two different scales\n",
    "\n",
    "# this is also known as \"scaling to range\"\n",
    "from sklearn.preprocessing import MinMaxScaler\n",
    "\n",
    "scaler = MinMaxScaler()\n",
    "\n",
    "# why do we only focus on these columns?\n",
    "rentpop2021_reduced = rentpop2021[['rent50_0', 'pop2017']]\n",
    "\n",
    "rentpop_scaled = pd.DataFrame(scaler.fit_transform(rentpop2021_reduced), columns=rentpop2021_reduced.columns)\n",
    "\n",
    "rentpop_scaled.head()"
   ]
  },
  {
   "cell_type": "code",
   "execution_count": null,
   "metadata": {},
   "outputs": [],
   "source": [
    "# let's view distribution now via the QQ plot\n"
   ]
  },
  {
   "cell_type": "code",
   "execution_count": null,
   "metadata": {},
   "outputs": [],
   "source": [
    "# matplotlib is great for making internal plots to share amongst yourselves and collegues\n",
    "# but in reality we'd much rather prefer something with more pizzazz , or at least more colors\n",
    "# therefore we use `seaborn`. https://seaborn.pydata.org/\n",
    "import seaborn as sns \n",
    "\n",
    "# boxplots to analyze distribution\n",
    "# https://seaborn.pydata.org/generated/seaborn.boxplot.html\n",
    "sns.boxplot(data=rentpop_df, x=\"year\", y=\"rent50_0\")\n"
   ]
  },
  {
   "cell_type": "code",
   "execution_count": null,
   "metadata": {},
   "outputs": [],
   "source": [
    "# filtering your dataframe on only one state and create a boxplot for this state\n"
   ]
  },
  {
   "cell_type": "code",
   "execution_count": null,
   "metadata": {},
   "outputs": [],
   "source": [
    "# scatter plots to visualize trends\n",
    "# https://seaborn.pydata.org/generated/seaborn.scatterplot.html\n",
    "\n",
    "# focus on GA & NY\n",
    "rentpop_south = rentpop_df[\n",
    "    (rentpop_df[\"state_alpha\"] == 'GA') | \n",
    "    (rentpop_df[\"state_alpha\"] == 'NY')\n",
    "    ]\n",
    "sns.scatterplot(data=rentpop_south, x=\"pop2017\", y=\"rent50_0\", hue=\"state_alpha\")"
   ]
  },
  {
   "cell_type": "code",
   "execution_count": null,
   "metadata": {},
   "outputs": [],
   "source": [
    "# filter your data on two distinct states and create a scatter plot\n"
   ]
  },
  {
   "cell_type": "code",
   "execution_count": null,
   "metadata": {},
   "outputs": [],
   "source": [
    "# bar graphs to visualize rank by groups\n",
    "# https://seaborn.pydata.org/generated/seaborn.barplot.html\n",
    "means = rentpop_df.groupby(\"state_alpha\").mean()[\"rent50_0\"].reset_index()\n",
    "sorted_means = means.sort_values(by=\"rent50_0\", ascending=False)\n",
    "\n",
    "sns.barplot(x=\"state_alpha\", y=\"rent50_0\", data=sorted_means.head(10))"
   ]
  },
  {
   "cell_type": "code",
   "execution_count": null,
   "metadata": {},
   "outputs": [],
   "source": [
    "# lastly, our analysis can get us complex as our goals\n",
    "\n",
    "pivoted_table  = rentpop2021.merge(rentpop2020, how='left', on=['areaname20', 'county'])\n",
    "pivoted_table.head()"
   ]
  },
  {
   "cell_type": "code",
   "execution_count": null,
   "metadata": {},
   "outputs": [],
   "source": [
    "# calculate difference from year to year \n",
    "pivoted_table[\"delta_rent\"] = pivoted_table[\"rent50_0_x\"] - pivoted_table[\"rent50_0_y\"]\n",
    "\n",
    "# calc mean difference across state\n",
    "means_delta = pivoted_table.groupby(\"state_alpha_x\").mean()[\"delta_rent\"].reset_index()\n",
    "\n",
    "sorted_means_delta = means_delta.sort_values(by=\"delta_rent\", ascending=False)\n",
    "\n",
    "sns.barplot(x=\"state_alpha_x\", y=\"delta_rent\", data=sorted_means_delta.head(10))\n"
   ]
  },
  {
   "cell_type": "code",
   "execution_count": null,
   "metadata": {},
   "outputs": [],
   "source": [
    "sns.barplot(x=\"state_alpha_x\", y=\"delta_rent\", data=sorted_means_delta.tail(10))"
   ]
  },
  {
   "cell_type": "code",
   "execution_count": null,
   "metadata": {},
   "outputs": [],
   "source": [
    "# re-consider your goals...\n",
    "\n",
    "# view trends in rent (which column do we need for this?)\n",
    "# view trends in population (which column do we need for this as well?)\n",
    "\n",
    "# view how rent changed from state-to-state (which column is relevant for this?)\n",
    "  # anymore granular?... (granular data)\n",
    "# view how rent correlates with population"
   ]
  },
  {
   "cell_type": "code",
   "execution_count": null,
   "metadata": {},
   "outputs": [],
   "source": [
    "# finally do make a plan of action\n",
    "\n",
    "## NEXT STEPS\n",
    "\n",
    "## RISKS\n",
    "\n",
    "## DOCUMENT!\n",
    "\n",
    "## LOAD BACK IN "
   ]
  },
  {
   "attachments": {},
   "cell_type": "markdown",
   "metadata": {},
   "source": [
    "If you'd like to try to create this chloropleth map,  we can run the following code-block.\n",
    "\n",
    "Keep in mind, this function is deprecated, so we will see how to create this Tableau instead: https://plotly.com/python-api-reference/generated/plotly.figure_factory.create_choropleth.html"
   ]
  },
  {
   "cell_type": "code",
   "execution_count": 16,
   "metadata": {},
   "outputs": [],
   "source": [
    "import plotly.io as pio\n",
    "pio.renderers.default='notebook'\n",
    "\n",
    "import plotly.figure_factory as ff\n",
    "import pandas as pd\n",
    "\n",
    "# surpress warnings\n",
    "import warnings\n",
    "warnings.filterwarnings(\"ignore\")\n",
    "\n",
    "rent_df = pd.read_csv(\"../data/2020_2021_rent.csv\", encoding = 'unicode_escape')\n",
    "\n",
    "# looks like we only need to focus in on a few columns for our analysis\n",
    "rentpop_df = rent_df[[\"year\", \"fips2010\", \"rent50_0\", \"county\", \"areaname20\", \"name\", \"pop2017\", \"state_alpha\"]]\n",
    "\n",
    "rentpop2021 = rentpop_df[rentpop_df[\"year\"] == 2021]\n",
    "\n",
    "# and lastly, there is an entire field simply dedicated to plotting geographic data\n",
    "# GIS: https://www.cdc.gov/gis/what-is-gis.htm\n",
    "\n",
    "# get first 5 digits of each fip_code\n",
    "fip_code = list(rentpop2021[\"fips2010\"])\n",
    "str_fip = [str(fip)[:5] for fip in fip_code]\n",
    "\n",
    "# we can simulate this via plotly\n",
    "fig = ff.create_choropleth(fips=str_fip, values=list(rentpop2021[\"rent50_0\"]))\n",
    "fig.update_layout(showlegend=False)\n",
    "fig.show()"
   ]
  },
  {
   "cell_type": "code",
   "execution_count": 17,
   "metadata": {},
   "outputs": [
    {
     "data": {
      "text/html": [
       "<div>\n",
       "<style scoped>\n",
       "    .dataframe tbody tr th:only-of-type {\n",
       "        vertical-align: middle;\n",
       "    }\n",
       "\n",
       "    .dataframe tbody tr th {\n",
       "        vertical-align: top;\n",
       "    }\n",
       "\n",
       "    .dataframe thead th {\n",
       "        text-align: right;\n",
       "    }\n",
       "</style>\n",
       "<table border=\"1\" class=\"dataframe\">\n",
       "  <thead>\n",
       "    <tr style=\"text-align: right;\">\n",
       "      <th></th>\n",
       "      <th>year_x</th>\n",
       "      <th>fips2010_x</th>\n",
       "      <th>rent50_0_x</th>\n",
       "      <th>county</th>\n",
       "      <th>areaname20</th>\n",
       "      <th>name_x</th>\n",
       "      <th>pop2017_x</th>\n",
       "      <th>state_alpha_x</th>\n",
       "      <th>year_y</th>\n",
       "      <th>fips2010_y</th>\n",
       "      <th>rent50_0_y</th>\n",
       "      <th>name_y</th>\n",
       "      <th>pop2017_y</th>\n",
       "      <th>state_alpha_y</th>\n",
       "    </tr>\n",
       "  </thead>\n",
       "  <tbody>\n",
       "    <tr>\n",
       "      <th>0</th>\n",
       "      <td>2021</td>\n",
       "      <td>4805999999</td>\n",
       "      <td>761</td>\n",
       "      <td>59</td>\n",
       "      <td>Abilene, TX MSA</td>\n",
       "      <td>Callahan County</td>\n",
       "      <td>13660</td>\n",
       "      <td>TX</td>\n",
       "      <td>2020.0</td>\n",
       "      <td>4.806000e+09</td>\n",
       "      <td>673.0</td>\n",
       "      <td>Callahan County</td>\n",
       "      <td>13660.0</td>\n",
       "      <td>TX</td>\n",
       "    </tr>\n",
       "    <tr>\n",
       "      <th>1</th>\n",
       "      <td>2021</td>\n",
       "      <td>4825399999</td>\n",
       "      <td>761</td>\n",
       "      <td>253</td>\n",
       "      <td>Abilene, TX MSA</td>\n",
       "      <td>Jones County</td>\n",
       "      <td>19970</td>\n",
       "      <td>TX</td>\n",
       "      <td>2020.0</td>\n",
       "      <td>4.825400e+09</td>\n",
       "      <td>673.0</td>\n",
       "      <td>Jones County</td>\n",
       "      <td>19970.0</td>\n",
       "      <td>TX</td>\n",
       "    </tr>\n",
       "    <tr>\n",
       "      <th>2</th>\n",
       "      <td>2021</td>\n",
       "      <td>4844199999</td>\n",
       "      <td>761</td>\n",
       "      <td>441</td>\n",
       "      <td>Abilene, TX MSA</td>\n",
       "      <td>Taylor County</td>\n",
       "      <td>135370</td>\n",
       "      <td>TX</td>\n",
       "      <td>2020.0</td>\n",
       "      <td>4.844200e+09</td>\n",
       "      <td>673.0</td>\n",
       "      <td>Taylor County</td>\n",
       "      <td>135370.0</td>\n",
       "      <td>TX</td>\n",
       "    </tr>\n",
       "    <tr>\n",
       "      <th>3</th>\n",
       "      <td>2021</td>\n",
       "      <td>7200399999</td>\n",
       "      <td>401</td>\n",
       "      <td>3</td>\n",
       "      <td>Aguadilla-Isabela, PR HUD Metro FMR Area</td>\n",
       "      <td>Aguada Municipio</td>\n",
       "      <td>39470</td>\n",
       "      <td>PR</td>\n",
       "      <td>2020.0</td>\n",
       "      <td>7.200400e+09</td>\n",
       "      <td>386.0</td>\n",
       "      <td>Aguada Municipio</td>\n",
       "      <td>39470.0</td>\n",
       "      <td>PR</td>\n",
       "    </tr>\n",
       "    <tr>\n",
       "      <th>4</th>\n",
       "      <td>2021</td>\n",
       "      <td>7200599999</td>\n",
       "      <td>401</td>\n",
       "      <td>5</td>\n",
       "      <td>Aguadilla-Isabela, PR HUD Metro FMR Area</td>\n",
       "      <td>Aguadilla Municipio</td>\n",
       "      <td>55720</td>\n",
       "      <td>PR</td>\n",
       "      <td>2020.0</td>\n",
       "      <td>7.200600e+09</td>\n",
       "      <td>386.0</td>\n",
       "      <td>Aguadilla Municipio</td>\n",
       "      <td>55720.0</td>\n",
       "      <td>PR</td>\n",
       "    </tr>\n",
       "  </tbody>\n",
       "</table>\n",
       "</div>"
      ],
      "text/plain": [
       "   year_x  fips2010_x  rent50_0_x  county  \\\n",
       "0    2021  4805999999         761      59   \n",
       "1    2021  4825399999         761     253   \n",
       "2    2021  4844199999         761     441   \n",
       "3    2021  7200399999         401       3   \n",
       "4    2021  7200599999         401       5   \n",
       "\n",
       "                                 areaname20               name_x  pop2017_x  \\\n",
       "0                           Abilene, TX MSA      Callahan County      13660   \n",
       "1                           Abilene, TX MSA         Jones County      19970   \n",
       "2                           Abilene, TX MSA        Taylor County     135370   \n",
       "3  Aguadilla-Isabela, PR HUD Metro FMR Area     Aguada Municipio      39470   \n",
       "4  Aguadilla-Isabela, PR HUD Metro FMR Area  Aguadilla Municipio      55720   \n",
       "\n",
       "  state_alpha_x  year_y    fips2010_y  rent50_0_y               name_y  \\\n",
       "0            TX  2020.0  4.806000e+09       673.0      Callahan County   \n",
       "1            TX  2020.0  4.825400e+09       673.0         Jones County   \n",
       "2            TX  2020.0  4.844200e+09       673.0        Taylor County   \n",
       "3            PR  2020.0  7.200400e+09       386.0     Aguada Municipio   \n",
       "4            PR  2020.0  7.200600e+09       386.0  Aguadilla Municipio   \n",
       "\n",
       "   pop2017_y state_alpha_y  \n",
       "0    13660.0            TX  \n",
       "1    19970.0            TX  \n",
       "2   135370.0            TX  \n",
       "3    39470.0            PR  \n",
       "4    55720.0            PR  "
      ]
     },
     "execution_count": 17,
     "metadata": {},
     "output_type": "execute_result"
    }
   ],
   "source": [
    "# a more interesting visualization would perhaps be the `delta` or the `difference` in rent prices ... \n",
    "rentpop2020 = rentpop_df[rentpop_df[\"year\"] == 2020]\n",
    "pivoted_table  = rentpop2021.merge(rentpop2020, how='left', on=['areaname20', 'county'])\n",
    "pivoted_table.head()"
   ]
  },
  {
   "cell_type": "code",
   "execution_count": null,
   "metadata": {},
   "outputs": [],
   "source": [
    "pivoted_table[\"delta\"] = pivoted_table[\"rent50_0_x\"] - pivoted_table[\"rent50_0_y\"]\n",
    "\n",
    "fip_code = list(pivoted_table[\"fips2010_x\"])\n",
    "str_fip = [str(fip)[:5] for fip in fip_code]\n",
    "pivoted_table[\"delta\"]"
   ]
  },
  {
   "cell_type": "code",
   "execution_count": null,
   "metadata": {},
   "outputs": [],
   "source": [
    "# plot differences via ...\n",
    "fig = ff.create_choropleth(fips=str_fip, values=list(pivoted_table[\"delta\"]))\n",
    "fig.show()\n",
    "\n",
    "# should work ... needs debugging"
   ]
  }
 ],
 "metadata": {
  "kernelspec": {
   "display_name": "Python 3",
   "language": "python",
   "name": "python3"
  },
  "language_info": {
   "codemirror_mode": {
    "name": "ipython",
    "version": 3
   },
   "file_extension": ".py",
   "mimetype": "text/x-python",
   "name": "python",
   "nbconvert_exporter": "python",
   "pygments_lexer": "ipython3",
   "version": "3.10.7"
  },
  "orig_nbformat": 4,
  "vscode": {
   "interpreter": {
    "hash": "369f2c481f4da34e4445cda3fffd2e751bd1c4d706f27375911949ba6bb62e1c"
   }
  }
 },
 "nbformat": 4,
 "nbformat_minor": 2
}
