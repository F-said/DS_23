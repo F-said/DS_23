{
 "cells": [
  {
   "attachments": {},
   "cell_type": "markdown",
   "metadata": {},
   "source": [
    "## Basketball Scouting Inc\n",
    "\n",
    "In an attempt to find prospective teams for scouting, our sports analytics agency `MoneyBall Inc` decided to analyze a dataset of college basketball teams from 2013-2019 in order to predict performance and view where prospective athletes are developed.\n",
    "\n",
    "However there are a number of things incorrect with this dataset:\n",
    "* we have missing values\n",
    "* some missing values are represented as the string `NA`\n",
    "\n",
    "As data-analysts for `MoneyBall Inc`, it is up to us to analyze and take appropriate data cleaning steps to create a well-formatted dataset.\n",
    "\n",
    "For this analysis, we are only interested in \"EFG_O\" (Effective Field Goal Percentage Shot). We ignore any ranking created by external agencies such as \"SEEDS\".\n",
    "\n",
    "To find out more about this dataset, consult the following link: https://www.kaggle.com/datasets/andrewsundberg/college-basketball-dataset\n",
    "\n",
    "Answer questions 1 to 3 as you complete this lab."
   ]
  },
  {
   "cell_type": "code",
   "execution_count": null,
   "metadata": {},
   "outputs": [],
   "source": [
    "# load in your dataset `cbb.csv`\n",
    "\n",
    "\n",
    "# print out the first 5 rows of this dataframe\n"
   ]
  },
  {
   "cell_type": "code",
   "execution_count": null,
   "metadata": {},
   "outputs": [],
   "source": [
    "# using dataframe filtering, count how many NaN values we have in this dataframe\n"
   ]
  },
  {
   "cell_type": "code",
   "execution_count": null,
   "metadata": {},
   "outputs": [],
   "source": [
    "# using dataframe filtering, count how many values labeled \"NA\" we have in the \"SEED\" column of this dataframe\n"
   ]
  },
  {
   "attachments": {},
   "cell_type": "markdown",
   "metadata": {},
   "source": [
    "## Q1\n",
    "\n",
    "Should we simply drop the \"SEED\" column or should we drop each row with missing values in these columns? Alternatively, should we fill this data with simulated values (such as mean)? Explain your reasoning.\n",
    "\n"
   ]
  },
  {
   "cell_type": "code",
   "execution_count": null,
   "metadata": {},
   "outputs": [],
   "source": [
    "# for this step, implement your planned changes: either drop the \"SEED\" column, drop every row with missing values in this columns\n",
    "# or fill in this column with your simulated data\n"
   ]
  },
  {
   "cell_type": "code",
   "execution_count": null,
   "metadata": {},
   "outputs": [],
   "source": [
    "# how many missing values does the column \"ADJ_T\" (Adjusted Tempo) contain?\n",
    " "
   ]
  },
  {
   "cell_type": "code",
   "execution_count": 1,
   "metadata": {},
   "outputs": [],
   "source": [
    "# how many missing values does the column \"BARTHAG\" (Power Rating) contain?\n",
    " "
   ]
  },
  {
   "attachments": {},
   "cell_type": "markdown",
   "metadata": {},
   "source": [
    "## Q2\n",
    "\n",
    "Should we simply drop our columns \"ADJ_T\" & \"BARTHAG\", or should we drop each row with missing values in these columns? Alternatively, should we fill this data with simulated values (such as mean)? Explain your reasoning.\n",
    "\n"
   ]
  },
  {
   "cell_type": "code",
   "execution_count": null,
   "metadata": {},
   "outputs": [],
   "source": [
    "# for this step, implement your planned changes: either drop the two columns, drop every row with missing values in these columns\n",
    "# or fill in these two columns with your simulated data\n"
   ]
  },
  {
   "cell_type": "code",
   "execution_count": null,
   "metadata": {},
   "outputs": [],
   "source": [
    "# print out how many null values these two columns contain. this number should be 0.\n"
   ]
  },
  {
   "cell_type": "code",
   "execution_count": null,
   "metadata": {},
   "outputs": [],
   "source": [
    "# group your dataframe into groups of years, save this dataframe into the variable \"group_years\"\n"
   ]
  },
  {
   "cell_type": "code",
   "execution_count": null,
   "metadata": {},
   "outputs": [],
   "source": [
    "# calculate the team with the highest \"EFG_O\" from the \"group_years\" dataframe using the `max()` function\n"
   ]
  },
  {
   "attachments": {},
   "cell_type": "markdown",
   "metadata": {},
   "source": [
    "## Q3\n",
    "\n",
    "Which team had the highest \"Effective Field Goal Percentage Shot\" in 2013. Did this stay consistent? That is, did this team maintain this highest ranking from 2014-2019?\n"
   ]
  }
 ],
 "metadata": {
  "kernelspec": {
   "display_name": "Python 3",
   "language": "python",
   "name": "python3"
  },
  "language_info": {
   "codemirror_mode": {
    "name": "ipython",
    "version": 3
   },
   "file_extension": ".py",
   "mimetype": "text/x-python",
   "name": "python",
   "nbconvert_exporter": "python",
   "pygments_lexer": "ipython3",
   "version": "3.10.7 (tags/v3.10.7:6cc6b13, Sep  5 2022, 14:08:36) [MSC v.1933 64 bit (AMD64)]"
  },
  "orig_nbformat": 4,
  "vscode": {
   "interpreter": {
    "hash": "369f2c481f4da34e4445cda3fffd2e751bd1c4d706f27375911949ba6bb62e1c"
   }
  }
 },
 "nbformat": 4,
 "nbformat_minor": 2
}
