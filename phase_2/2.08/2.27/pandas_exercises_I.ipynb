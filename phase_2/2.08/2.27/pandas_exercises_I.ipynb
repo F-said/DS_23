{
 "cells": [
  {
   "cell_type": "markdown",
   "metadata": {},
   "source": [
    "# Hierarchical Indexing\n",
    "\n",
    "Let's tackle questions 1-3 as a group (co-coding). We will call on you randomly to solve these programming problems. Think of this as an equivalent of programming interview questions."
   ]
  },
  {
   "cell_type": "code",
   "execution_count": 38,
   "metadata": {},
   "outputs": [
    {
     "data": {
      "text/html": [
       "<div>\n",
       "<style scoped>\n",
       "    .dataframe tbody tr th:only-of-type {\n",
       "        vertical-align: middle;\n",
       "    }\n",
       "\n",
       "    .dataframe tbody tr th {\n",
       "        vertical-align: top;\n",
       "    }\n",
       "\n",
       "    .dataframe thead th {\n",
       "        text-align: right;\n",
       "    }\n",
       "</style>\n",
       "<table border=\"1\" class=\"dataframe\">\n",
       "  <thead>\n",
       "    <tr style=\"text-align: right;\">\n",
       "      <th></th>\n",
       "      <th></th>\n",
       "      <th>Profit</th>\n",
       "    </tr>\n",
       "    <tr>\n",
       "      <th>Bank</th>\n",
       "      <th>Year</th>\n",
       "      <th></th>\n",
       "    </tr>\n",
       "  </thead>\n",
       "  <tbody>\n",
       "    <tr>\n",
       "      <th rowspan=\"2\" valign=\"top\">Chase</th>\n",
       "      <th>2021</th>\n",
       "      <td>48.800</td>\n",
       "    </tr>\n",
       "    <tr>\n",
       "      <th>2022</th>\n",
       "      <td>54.500</td>\n",
       "    </tr>\n",
       "    <tr>\n",
       "      <th rowspan=\"2\" valign=\"top\">Wells Fargo</th>\n",
       "      <th>2021</th>\n",
       "      <td>19.300</td>\n",
       "    </tr>\n",
       "    <tr>\n",
       "      <th>2022</th>\n",
       "      <td>20.137</td>\n",
       "    </tr>\n",
       "  </tbody>\n",
       "</table>\n",
       "</div>"
      ],
      "text/plain": [
       "                  Profit\n",
       "Bank        Year        \n",
       "Chase       2021  48.800\n",
       "            2022  54.500\n",
       "Wells Fargo 2021  19.300\n",
       "            2022  20.137"
      ]
     },
     "execution_count": 38,
     "metadata": {},
     "output_type": "execute_result"
    }
   ],
   "source": [
    "import pandas as pd\n",
    "\n",
    "data = {\n",
    "    \"Bank\": [\"Chase\", \"Chase\", \"Chase\", \"Chase\", \"Wells Fargo\", \"Wells Fargo\", \"Wells Fargo\", \"Wells Fargo\"],\n",
    "    \"Year\": [2021, 2021, 2022, 2022, 2021, 2021, 2022, 2022],\n",
    "    \"Profit\": [47.3, 1.5, 53.3, 1.2, 18.1, 1.2, 19.2, 0.937]\n",
    "}\n",
    "\n",
    "df = pd.DataFrame(data)\n",
    "\n",
    "overall = df.groupby([\"Bank\", \"Year\"]).sum()\n",
    "overall"
   ]
  },
  {
   "cell_type": "code",
   "execution_count": 39,
   "metadata": {},
   "outputs": [
    {
     "data": {
      "text/html": [
       "<div>\n",
       "<style scoped>\n",
       "    .dataframe tbody tr th:only-of-type {\n",
       "        vertical-align: middle;\n",
       "    }\n",
       "\n",
       "    .dataframe tbody tr th {\n",
       "        vertical-align: top;\n",
       "    }\n",
       "\n",
       "    .dataframe thead th {\n",
       "        text-align: right;\n",
       "    }\n",
       "</style>\n",
       "<table border=\"1\" class=\"dataframe\">\n",
       "  <thead>\n",
       "    <tr style=\"text-align: right;\">\n",
       "      <th></th>\n",
       "      <th>Profit</th>\n",
       "    </tr>\n",
       "    <tr>\n",
       "      <th>Year</th>\n",
       "      <th></th>\n",
       "    </tr>\n",
       "  </thead>\n",
       "  <tbody>\n",
       "    <tr>\n",
       "      <th>2021</th>\n",
       "      <td>48.8</td>\n",
       "    </tr>\n",
       "    <tr>\n",
       "      <th>2022</th>\n",
       "      <td>54.5</td>\n",
       "    </tr>\n",
       "  </tbody>\n",
       "</table>\n",
       "</div>"
      ],
      "text/plain": [
       "      Profit\n",
       "Year        \n",
       "2021    48.8\n",
       "2022    54.5"
      ]
     },
     "execution_count": 39,
     "metadata": {},
     "output_type": "execute_result"
    }
   ],
   "source": [
    "overall.loc[\"Chase\"]"
   ]
  },
  {
   "cell_type": "code",
   "execution_count": 40,
   "metadata": {},
   "outputs": [
    {
     "data": {
      "text/plain": [
       "Profit    48.8\n",
       "Name: (Chase, 2021), dtype: float64"
      ]
     },
     "execution_count": 40,
     "metadata": {},
     "output_type": "execute_result"
    }
   ],
   "source": [
    "overall.loc[(\"Chase\", 2021)]"
   ]
  },
  {
   "cell_type": "code",
   "execution_count": 41,
   "metadata": {},
   "outputs": [
    {
     "data": {
      "text/plain": [
       "FrozenList([['Chase', 'Wells Fargo'], [2021, 2022]])"
      ]
     },
     "execution_count": 41,
     "metadata": {},
     "output_type": "execute_result"
    }
   ],
   "source": [
    "overall.index.levels"
   ]
  },
  {
   "cell_type": "code",
   "execution_count": 42,
   "metadata": {},
   "outputs": [
    {
     "data": {
      "text/html": [
       "<div>\n",
       "<style scoped>\n",
       "    .dataframe tbody tr th:only-of-type {\n",
       "        vertical-align: middle;\n",
       "    }\n",
       "\n",
       "    .dataframe tbody tr th {\n",
       "        vertical-align: top;\n",
       "    }\n",
       "\n",
       "    .dataframe thead th {\n",
       "        text-align: right;\n",
       "    }\n",
       "</style>\n",
       "<table border=\"1\" class=\"dataframe\">\n",
       "  <thead>\n",
       "    <tr style=\"text-align: right;\">\n",
       "      <th></th>\n",
       "      <th>Bank</th>\n",
       "      <th>Year</th>\n",
       "      <th>Profit</th>\n",
       "    </tr>\n",
       "  </thead>\n",
       "  <tbody>\n",
       "    <tr>\n",
       "      <th>0</th>\n",
       "      <td>Chase</td>\n",
       "      <td>2021</td>\n",
       "      <td>48.800</td>\n",
       "    </tr>\n",
       "    <tr>\n",
       "      <th>1</th>\n",
       "      <td>Chase</td>\n",
       "      <td>2022</td>\n",
       "      <td>54.500</td>\n",
       "    </tr>\n",
       "    <tr>\n",
       "      <th>2</th>\n",
       "      <td>Wells Fargo</td>\n",
       "      <td>2021</td>\n",
       "      <td>19.300</td>\n",
       "    </tr>\n",
       "    <tr>\n",
       "      <th>3</th>\n",
       "      <td>Wells Fargo</td>\n",
       "      <td>2022</td>\n",
       "      <td>20.137</td>\n",
       "    </tr>\n",
       "  </tbody>\n",
       "</table>\n",
       "</div>"
      ],
      "text/plain": [
       "          Bank  Year  Profit\n",
       "0        Chase  2021  48.800\n",
       "1        Chase  2022  54.500\n",
       "2  Wells Fargo  2021  19.300\n",
       "3  Wells Fargo  2022  20.137"
      ]
     },
     "execution_count": 42,
     "metadata": {},
     "output_type": "execute_result"
    }
   ],
   "source": [
    "overall.reset_index()"
   ]
  },
  {
   "cell_type": "code",
   "execution_count": 43,
   "metadata": {},
   "outputs": [
    {
     "data": {
      "text/html": [
       "<div>\n",
       "<style scoped>\n",
       "    .dataframe tbody tr th:only-of-type {\n",
       "        vertical-align: middle;\n",
       "    }\n",
       "\n",
       "    .dataframe tbody tr th {\n",
       "        vertical-align: top;\n",
       "    }\n",
       "\n",
       "    .dataframe thead th {\n",
       "        text-align: right;\n",
       "    }\n",
       "</style>\n",
       "<table border=\"1\" class=\"dataframe\">\n",
       "  <thead>\n",
       "    <tr style=\"text-align: right;\">\n",
       "      <th></th>\n",
       "      <th>sentiment</th>\n",
       "      <th>id</th>\n",
       "      <th>date</th>\n",
       "      <th>NO_QUERY</th>\n",
       "      <th>user</th>\n",
       "      <th>tweet</th>\n",
       "    </tr>\n",
       "  </thead>\n",
       "  <tbody>\n",
       "    <tr>\n",
       "      <th>0</th>\n",
       "      <td>0</td>\n",
       "      <td>1548276360</td>\n",
       "      <td>Fri Apr 17 20:30:47 PDT 2009</td>\n",
       "      <td>NO_QUERY</td>\n",
       "      <td>customcanvasart</td>\n",
       "      <td>@USEOFFORCEENT so sorry for your loss honey  I...</td>\n",
       "    </tr>\n",
       "    <tr>\n",
       "      <th>1</th>\n",
       "      <td>0</td>\n",
       "      <td>1548276887</td>\n",
       "      <td>Fri Apr 17 20:30:54 PDT 2009</td>\n",
       "      <td>NO_QUERY</td>\n",
       "      <td>KuppyKakejEs</td>\n",
       "      <td>Getting hair done tomorrow.Nawt exicted at all.</td>\n",
       "    </tr>\n",
       "    <tr>\n",
       "      <th>2</th>\n",
       "      <td>0</td>\n",
       "      <td>1548276901</td>\n",
       "      <td>Fri Apr 17 20:30:55 PDT 2009</td>\n",
       "      <td>NO_QUERY</td>\n",
       "      <td>zoeydecay</td>\n",
       "      <td>Bored watching Law and Order. Wanting sunday t...</td>\n",
       "    </tr>\n",
       "    <tr>\n",
       "      <th>3</th>\n",
       "      <td>0</td>\n",
       "      <td>1548277792</td>\n",
       "      <td>Fri Apr 17 20:31:04 PDT 2009</td>\n",
       "      <td>NO_QUERY</td>\n",
       "      <td>leabella</td>\n",
       "      <td>Actually I had 503   maybe I should put my web...</td>\n",
       "    </tr>\n",
       "    <tr>\n",
       "      <th>4</th>\n",
       "      <td>0</td>\n",
       "      <td>1548277960</td>\n",
       "      <td>Fri Apr 17 20:31:05 PDT 2009</td>\n",
       "      <td>NO_QUERY</td>\n",
       "      <td>AnitaKoch</td>\n",
       "      <td>@lkhalladay Colorado's a beautiful state, but ...</td>\n",
       "    </tr>\n",
       "  </tbody>\n",
       "</table>\n",
       "</div>"
      ],
      "text/plain": [
       "   sentiment          id                          date  NO_QUERY  \\\n",
       "0          0  1548276360  Fri Apr 17 20:30:47 PDT 2009  NO_QUERY   \n",
       "1          0  1548276887  Fri Apr 17 20:30:54 PDT 2009  NO_QUERY   \n",
       "2          0  1548276901  Fri Apr 17 20:30:55 PDT 2009  NO_QUERY   \n",
       "3          0  1548277792  Fri Apr 17 20:31:04 PDT 2009  NO_QUERY   \n",
       "4          0  1548277960  Fri Apr 17 20:31:05 PDT 2009  NO_QUERY   \n",
       "\n",
       "              user                                              tweet  \n",
       "0  customcanvasart  @USEOFFORCEENT so sorry for your loss honey  I...  \n",
       "1     KuppyKakejEs   Getting hair done tomorrow.Nawt exicted at all.   \n",
       "2        zoeydecay  Bored watching Law and Order. Wanting sunday t...  \n",
       "3         leabella  Actually I had 503   maybe I should put my web...  \n",
       "4        AnitaKoch  @lkhalladay Colorado's a beautiful state, but ...  "
      ]
     },
     "execution_count": 43,
     "metadata": {},
     "output_type": "execute_result"
    }
   ],
   "source": [
    "df = pd.read_csv(\"tweets.csv\")\n",
    "df.head()\n",
    "# 0 =  negative\n",
    "# 1 = positive"
   ]
  },
  {
   "cell_type": "code",
   "execution_count": 44,
   "metadata": {},
   "outputs": [
    {
     "data": {
      "text/plain": [
       "Ellipsis"
      ]
     },
     "execution_count": 44,
     "metadata": {},
     "output_type": "execute_result"
    }
   ],
   "source": [
    "# Q1\n",
    "# TODO: Group by 'user' and calculate mean 'sentiment' per user and then sort according to this mean. See if you can use method chaining!\n",
    "\n",
    "..."
   ]
  },
  {
   "cell_type": "code",
   "execution_count": 55,
   "metadata": {},
   "outputs": [
    {
     "data": {
      "text/plain": [
       "sentiment\n",
       "0    100171\n",
       "1     99829\n",
       "Name: count, dtype: int64"
      ]
     },
     "execution_count": 55,
     "metadata": {},
     "output_type": "execute_result"
    }
   ],
   "source": [
    "# Q2\n",
    "# TODO: Count the frequency of sentiment using value_counts. No method chaining required.\n",
    "\n",
    "..."
   ]
  },
  {
   "cell_type": "code",
   "execution_count": 46,
   "metadata": {},
   "outputs": [
    {
     "data": {
      "text/plain": [
       "Ellipsis"
      ]
     },
     "execution_count": 46,
     "metadata": {},
     "output_type": "execute_result"
    }
   ],
   "source": [
    "# Q3\n",
    "# TODO: Calculate the frequency of a users tweets.\n",
    "\n",
    "..."
   ]
  },
  {
   "cell_type": "markdown",
   "metadata": {},
   "source": [
    "# Resampling\n",
    "\n",
    "We will tackle questions 1-3 as a group (co-coding). We will call on you randomly to solve these programming problems. Think of this as an equivalent of programming interview questions."
   ]
  },
  {
   "cell_type": "code",
   "execution_count": 47,
   "metadata": {},
   "outputs": [
    {
     "data": {
      "text/plain": [
       "Ellipsis"
      ]
     },
     "execution_count": 47,
     "metadata": {},
     "output_type": "execute_result"
    }
   ],
   "source": [
    "# Q1\n",
    "# TODO: Convert the `date` column into a datetime data-type\n",
    "\n",
    "... "
   ]
  },
  {
   "cell_type": "code",
   "execution_count": 48,
   "metadata": {},
   "outputs": [
    {
     "data": {
      "text/plain": [
       "Ellipsis"
      ]
     },
     "execution_count": 48,
     "metadata": {},
     "output_type": "execute_result"
    }
   ],
   "source": [
    "# Q2\n",
    "# TODO: Resample according to 1-day and calculate the mean sentiment of each day\n",
    "\n",
    "..."
   ]
  },
  {
   "cell_type": "code",
   "execution_count": 49,
   "metadata": {},
   "outputs": [
    {
     "data": {
      "text/plain": [
       "Ellipsis"
      ]
     },
     "execution_count": 49,
     "metadata": {},
     "output_type": "execute_result"
    }
   ],
   "source": [
    "# Q3\n",
    "# TODO: Resample according to a rolling window of 3-days and calculate the mean sentiment of period\n",
    "\n",
    "..."
   ]
  },
  {
   "cell_type": "markdown",
   "metadata": {},
   "source": [
    "# Regex\n",
    "\n",
    "We will tackle questions 1-3 as a group (co-coding). We will call on you randomly to solve these programming problems. Think of this as an equivalent of programming interview questions."
   ]
  },
  {
   "cell_type": "code",
   "execution_count": 50,
   "metadata": {},
   "outputs": [
    {
     "data": {
      "text/html": [
       "<div>\n",
       "<style scoped>\n",
       "    .dataframe tbody tr th:only-of-type {\n",
       "        vertical-align: middle;\n",
       "    }\n",
       "\n",
       "    .dataframe tbody tr th {\n",
       "        vertical-align: top;\n",
       "    }\n",
       "\n",
       "    .dataframe thead th {\n",
       "        text-align: right;\n",
       "    }\n",
       "</style>\n",
       "<table border=\"1\" class=\"dataframe\">\n",
       "  <thead>\n",
       "    <tr style=\"text-align: right;\">\n",
       "      <th></th>\n",
       "      <th>sentiment</th>\n",
       "      <th>id</th>\n",
       "      <th>date</th>\n",
       "      <th>NO_QUERY</th>\n",
       "      <th>user</th>\n",
       "      <th>tweet</th>\n",
       "    </tr>\n",
       "  </thead>\n",
       "  <tbody>\n",
       "    <tr>\n",
       "      <th>2194</th>\n",
       "      <td>1</td>\n",
       "      <td>2046728439</td>\n",
       "      <td>Fri Jun 05 12:36:19 PDT 2009</td>\n",
       "      <td>NO_QUERY</td>\n",
       "      <td>PullTheCurtain</td>\n",
       "      <td>Passed my economics exam! woooo! 2 modules out...</td>\n",
       "    </tr>\n",
       "    <tr>\n",
       "      <th>28340</th>\n",
       "      <td>0</td>\n",
       "      <td>1467916510</td>\n",
       "      <td>Mon Apr 06 22:47:56 PDT 2009</td>\n",
       "      <td>NO_QUERY</td>\n",
       "      <td>Daniiej</td>\n",
       "      <td>omg i've an economics test. and i dont know al...</td>\n",
       "    </tr>\n",
       "    <tr>\n",
       "      <th>45102</th>\n",
       "      <td>1</td>\n",
       "      <td>2175261322</td>\n",
       "      <td>Mon Jun 15 00:30:29 PDT 2009</td>\n",
       "      <td>NO_QUERY</td>\n",
       "      <td>draculiria</td>\n",
       "      <td>just passed economics and did alright with mat...</td>\n",
       "    </tr>\n",
       "    <tr>\n",
       "      <th>47061</th>\n",
       "      <td>1</td>\n",
       "      <td>2176469236</td>\n",
       "      <td>Mon Jun 15 03:57:45 PDT 2009</td>\n",
       "      <td>NO_QUERY</td>\n",
       "      <td>torehtard</td>\n",
       "      <td>@jamiejenkins87 thankies  and did you guys hav...</td>\n",
       "    </tr>\n",
       "    <tr>\n",
       "      <th>53640</th>\n",
       "      <td>1</td>\n",
       "      <td>2184482252</td>\n",
       "      <td>Mon Jun 15 15:58:38 PDT 2009</td>\n",
       "      <td>NO_QUERY</td>\n",
       "      <td>Susicakes</td>\n",
       "      <td>in class : x This Macroeconomics is way to har...</td>\n",
       "    </tr>\n",
       "    <tr>\n",
       "      <th>58261</th>\n",
       "      <td>0</td>\n",
       "      <td>2189166515</td>\n",
       "      <td>Mon Jun 15 23:23:45 PDT 2009</td>\n",
       "      <td>NO_QUERY</td>\n",
       "      <td>ashepash</td>\n",
       "      <td>Test week starts today. Nooooooooooo!!  today ...</td>\n",
       "    </tr>\n",
       "    <tr>\n",
       "      <th>84168</th>\n",
       "      <td>0</td>\n",
       "      <td>2251058589</td>\n",
       "      <td>Sat Jun 20 02:18:26 PDT 2009</td>\n",
       "      <td>NO_QUERY</td>\n",
       "      <td>emipram</td>\n",
       "      <td>has to open the economics textbooks and stare ...</td>\n",
       "    </tr>\n",
       "    <tr>\n",
       "      <th>95844</th>\n",
       "      <td>0</td>\n",
       "      <td>1969590676</td>\n",
       "      <td>Sat May 30 00:32:22 PDT 2009</td>\n",
       "      <td>NO_QUERY</td>\n",
       "      <td>missyujin</td>\n",
       "      <td>One week, and then finals. I'm so ready...exce...</td>\n",
       "    </tr>\n",
       "    <tr>\n",
       "      <th>97291</th>\n",
       "      <td>0</td>\n",
       "      <td>1970336279</td>\n",
       "      <td>Sat May 30 03:26:48 PDT 2009</td>\n",
       "      <td>NO_QUERY</td>\n",
       "      <td>ashepash</td>\n",
       "      <td>I don't get my economics, i hate it</td>\n",
       "    </tr>\n",
       "    <tr>\n",
       "      <th>129085</th>\n",
       "      <td>0</td>\n",
       "      <td>1687596838</td>\n",
       "      <td>Sun May 03 09:06:36 PDT 2009</td>\n",
       "      <td>NO_QUERY</td>\n",
       "      <td>tr8917</td>\n",
       "      <td>today will be a long day full of economics, hi...</td>\n",
       "    </tr>\n",
       "    <tr>\n",
       "      <th>147865</th>\n",
       "      <td>0</td>\n",
       "      <td>1984512596</td>\n",
       "      <td>Sun May 31 15:15:11 PDT 2009</td>\n",
       "      <td>NO_QUERY</td>\n",
       "      <td>RBar</td>\n",
       "      <td>Spent most of sunday studying economics</td>\n",
       "    </tr>\n",
       "    <tr>\n",
       "      <th>148991</th>\n",
       "      <td>0</td>\n",
       "      <td>1985397237</td>\n",
       "      <td>Sun May 31 17:01:37 PDT 2009</td>\n",
       "      <td>NO_QUERY</td>\n",
       "      <td>iHilary</td>\n",
       "      <td>I love economics... Not</td>\n",
       "    </tr>\n",
       "    <tr>\n",
       "      <th>191768</th>\n",
       "      <td>1</td>\n",
       "      <td>2016623015</td>\n",
       "      <td>Wed Jun 03 07:05:28 PDT 2009</td>\n",
       "      <td>NO_QUERY</td>\n",
       "      <td>KirstenCunning</td>\n",
       "      <td>Just beat everyone at monopoly in economics!  ...</td>\n",
       "    </tr>\n",
       "    <tr>\n",
       "      <th>197093</th>\n",
       "      <td>0</td>\n",
       "      <td>2215498427</td>\n",
       "      <td>Wed Jun 17 18:13:24 PDT 2009</td>\n",
       "      <td>NO_QUERY</td>\n",
       "      <td>onafastcamel</td>\n",
       "      <td>In economics... It sucks</td>\n",
       "    </tr>\n",
       "  </tbody>\n",
       "</table>\n",
       "</div>"
      ],
      "text/plain": [
       "        sentiment          id                          date  NO_QUERY  \\\n",
       "2194            1  2046728439  Fri Jun 05 12:36:19 PDT 2009  NO_QUERY   \n",
       "28340           0  1467916510  Mon Apr 06 22:47:56 PDT 2009  NO_QUERY   \n",
       "45102           1  2175261322  Mon Jun 15 00:30:29 PDT 2009  NO_QUERY   \n",
       "47061           1  2176469236  Mon Jun 15 03:57:45 PDT 2009  NO_QUERY   \n",
       "53640           1  2184482252  Mon Jun 15 15:58:38 PDT 2009  NO_QUERY   \n",
       "58261           0  2189166515  Mon Jun 15 23:23:45 PDT 2009  NO_QUERY   \n",
       "84168           0  2251058589  Sat Jun 20 02:18:26 PDT 2009  NO_QUERY   \n",
       "95844           0  1969590676  Sat May 30 00:32:22 PDT 2009  NO_QUERY   \n",
       "97291           0  1970336279  Sat May 30 03:26:48 PDT 2009  NO_QUERY   \n",
       "129085          0  1687596838  Sun May 03 09:06:36 PDT 2009  NO_QUERY   \n",
       "147865          0  1984512596  Sun May 31 15:15:11 PDT 2009  NO_QUERY   \n",
       "148991          0  1985397237  Sun May 31 17:01:37 PDT 2009  NO_QUERY   \n",
       "191768          1  2016623015  Wed Jun 03 07:05:28 PDT 2009  NO_QUERY   \n",
       "197093          0  2215498427  Wed Jun 17 18:13:24 PDT 2009  NO_QUERY   \n",
       "\n",
       "                  user                                              tweet  \n",
       "2194    PullTheCurtain  Passed my economics exam! woooo! 2 modules out...  \n",
       "28340          Daniiej  omg i've an economics test. and i dont know al...  \n",
       "45102       draculiria  just passed economics and did alright with mat...  \n",
       "47061        torehtard  @jamiejenkins87 thankies  and did you guys hav...  \n",
       "53640        Susicakes  in class : x This Macroeconomics is way to har...  \n",
       "58261         ashepash  Test week starts today. Nooooooooooo!!  today ...  \n",
       "84168          emipram  has to open the economics textbooks and stare ...  \n",
       "95844        missyujin  One week, and then finals. I'm so ready...exce...  \n",
       "97291         ashepash               I don't get my economics, i hate it   \n",
       "129085          tr8917  today will be a long day full of economics, hi...  \n",
       "147865            RBar           Spent most of sunday studying economics   \n",
       "148991         iHilary                           I love economics... Not   \n",
       "191768  KirstenCunning  Just beat everyone at monopoly in economics!  ...  \n",
       "197093    onafastcamel                          In economics... It sucks   "
      ]
     },
     "execution_count": 50,
     "metadata": {},
     "output_type": "execute_result"
    }
   ],
   "source": [
    "# Q1\n",
    "# TODO: Write a pandas line of code that uses regex to find all tweets that contain the word \"economics\"\n",
    "\n",
    "..."
   ]
  },
  {
   "cell_type": "code",
   "execution_count": 51,
   "metadata": {},
   "outputs": [
    {
     "data": {
      "text/plain": [
       "Ellipsis"
      ]
     },
     "execution_count": 51,
     "metadata": {},
     "output_type": "execute_result"
    }
   ],
   "source": [
    "# Q2\n",
    "# TODO: Write a pandas line of code that uses regex to find all tweets that ends with an exclamation point\n",
    "\n",
    "..."
   ]
  },
  {
   "cell_type": "code",
   "execution_count": 54,
   "metadata": {},
   "outputs": [
    {
     "data": {
      "text/html": [
       "<div>\n",
       "<style scoped>\n",
       "    .dataframe tbody tr th:only-of-type {\n",
       "        vertical-align: middle;\n",
       "    }\n",
       "\n",
       "    .dataframe tbody tr th {\n",
       "        vertical-align: top;\n",
       "    }\n",
       "\n",
       "    .dataframe thead th {\n",
       "        text-align: right;\n",
       "    }\n",
       "</style>\n",
       "<table border=\"1\" class=\"dataframe\">\n",
       "  <thead>\n",
       "    <tr style=\"text-align: right;\">\n",
       "      <th></th>\n",
       "      <th>0</th>\n",
       "    </tr>\n",
       "  </thead>\n",
       "  <tbody>\n",
       "    <tr>\n",
       "      <th>0</th>\n",
       "      <td>@USEOFFORCEENT</td>\n",
       "    </tr>\n",
       "    <tr>\n",
       "      <th>1</th>\n",
       "      <td>NaN</td>\n",
       "    </tr>\n",
       "    <tr>\n",
       "      <th>2</th>\n",
       "      <td>NaN</td>\n",
       "    </tr>\n",
       "    <tr>\n",
       "      <th>3</th>\n",
       "      <td>NaN</td>\n",
       "    </tr>\n",
       "    <tr>\n",
       "      <th>4</th>\n",
       "      <td>@lkhalladay</td>\n",
       "    </tr>\n",
       "    <tr>\n",
       "      <th>...</th>\n",
       "      <td>...</td>\n",
       "    </tr>\n",
       "    <tr>\n",
       "      <th>199995</th>\n",
       "      <td>@j</td>\n",
       "    </tr>\n",
       "    <tr>\n",
       "      <th>199996</th>\n",
       "      <td>NaN</td>\n",
       "    </tr>\n",
       "    <tr>\n",
       "      <th>199997</th>\n",
       "      <td>@ArcherIsMyName</td>\n",
       "    </tr>\n",
       "    <tr>\n",
       "      <th>199998</th>\n",
       "      <td>@fald</td>\n",
       "    </tr>\n",
       "    <tr>\n",
       "      <th>199999</th>\n",
       "      <td>@ether</td>\n",
       "    </tr>\n",
       "  </tbody>\n",
       "</table>\n",
       "<p>200000 rows × 1 columns</p>\n",
       "</div>"
      ],
      "text/plain": [
       "                      0\n",
       "0        @USEOFFORCEENT\n",
       "1                   NaN\n",
       "2                   NaN\n",
       "3                   NaN\n",
       "4           @lkhalladay\n",
       "...                 ...\n",
       "199995               @j\n",
       "199996              NaN\n",
       "199997  @ArcherIsMyName\n",
       "199998            @fald\n",
       "199999           @ether\n",
       "\n",
       "[200000 rows x 1 columns]"
      ]
     },
     "execution_count": 54,
     "metadata": {},
     "output_type": "execute_result"
    }
   ],
   "source": [
    "# Q3\n",
    "# TODO: Write a pandas line of code that uses regex to extract other users that have been tagged via an \"@\" (this one is tricky) in the \"tweets\" column\n",
    "\n",
    "..."
   ]
  }
 ],
 "metadata": {
  "kernelspec": {
   "display_name": "phase1",
   "language": "python",
   "name": "python3"
  },
  "language_info": {
   "codemirror_mode": {
    "name": "ipython",
    "version": 3
   },
   "file_extension": ".py",
   "mimetype": "text/x-python",
   "name": "python",
   "nbconvert_exporter": "python",
   "pygments_lexer": "ipython3",
   "version": "3.9.18"
  }
 },
 "nbformat": 4,
 "nbformat_minor": 2
}
