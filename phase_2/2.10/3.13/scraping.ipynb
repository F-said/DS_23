{
 "cells": [
  {
   "cell_type": "markdown",
   "metadata": {},
   "source": [
    "# Bs4\n",
    "\n",
    "The following notebook is a guided exercise in web-scraping. \n",
    "\n",
    "Your job is to fill in the missing code-blocks using the directions, documentation, and your peers\n",
    "\n",
    "Credit to [realpython](https://realpython.com/) for this exercise"
   ]
  },
  {
   "cell_type": "markdown",
   "metadata": {},
   "source": [
    "## What Is Web Scraping?\n",
    "\n",
    "Web scraping is the process of gathering information from the Internet. Even copying and pasting the lyrics of your favorite song is a form of web scraping! However, the words “web scraping” usually refer to a process that involves automation. Some websites don’t like it when automatic scrapers gather their data, while others don’t mind.\n",
    "\n",
    "If you’re scraping a page respectfully for educational purposes, then you’re unlikely to have any problems. Still, it’s a good idea to do some research on your own and make sure that you’re not violating any Terms of Service before you start a large-scale project.\n",
    "\n",
    "## Reasons for Web Scraping\n",
    "\n",
    "Say you’re a surfer, both online and in real life, and you’re looking for employment. However, you’re not looking for just any job. With a surfer’s mindset, you’re waiting for the perfect opportunity to roll your way!\n",
    "\n",
    "There’s a job site that offers precisely the kinds of jobs you want. Unfortunately, a new position only pops up once in a blue moon, and the site doesn’t provide an email notification service. You think about checking up on it every day, but that doesn’t sound like the most fun and productive way to spend your time.\n",
    "\n",
    "Thankfully, the world offers other ways to apply that surfer’s mindset! Instead of looking at the job site every day, you can use Python to help automate your job search’s repetitive parts. Automated web scraping can be a solution to speed up the data collection process. You write your code once, and it will get the information you want many times and from many pages.\n",
    "\n",
    "In contrast, when you try to get the information you want manually, you might spend a lot of time clicking, scrolling, and searching, especially if you need large amounts of data from websites that are regularly updated with new content. Manual web scraping can take a lot of time and repetition.\n",
    "\n",
    "There’s so much information on the Web, and new information is constantly added. You’ll probably be interested in at least some of that data, and much of it is just out there for the taking. Whether you’re actually on the job hunt or you want to download all the lyrics of your favorite artist, automated web scraping can help you accomplish your goals."
   ]
  },
  {
   "cell_type": "markdown",
   "metadata": {},
   "source": [
    "## Challenges of Web Scraping\n",
    "\n",
    "The Web has grown organically out of many sources. It combines many different technologies, styles, and personalities, and it continues to grow to this day. In other words, the Web is a hot mess! Because of this, you’ll run into some challenges when scraping the Web:\n",
    "\n",
    "* Variety: Every website is different. While you’ll encounter general structures that repeat themselves, each website is unique and will need personal treatment if you want to extract the relevant information.  \n",
    "\n",
    "* Durability: Websites constantly change. Say you’ve built a shiny new web scraper that automatically cherry-picks what you want from your resource of interest. The first time you run your script, it works flawlessly. But when you run the same script only a short while later, you run into a discouraging and lengthy stack of tracebacks!  \n",
    "\n",
    "Unstable scripts are a realistic scenario, as many websites are in active development. Once the site’s structure has changed, your scraper might not be able to navigate the sitemap correctly or find the relevant information. The good news is that many changes to websites are small and incremental, so you’ll likely be able to update your scraper with only minimal adjustments.\n",
    "\n",
    "However, keep in mind that because the Internet is dynamic, the scrapers you’ll build will probably require constant maintenance. You can set up continuous integration to run scraping tests periodically to ensure that your main script doesn’t break without your knowledge.\n",
    "\n",
    "## An Alternative to Web Scraping: APIs\n",
    "\n",
    "Some website providers offer application programming interfaces (APIs) that allow you to access their data in a predefined manner. With APIs, you can avoid parsing HTML. Instead, you can access the data directly using formats like JSON and XML. HTML is primarily a way to present content to users visually.\n",
    "\n",
    "When you use an API, the process is generally more stable than gathering the data through web scraping. That’s because developers create APIs to be consumed by programs rather than by human eyes.\n",
    "\n",
    "The front-end presentation of a site might change often, but such a change in the website’s design doesn’t affect its API structure. The structure of an API is usually more permanent, which means it’s a more reliable source of the site’s data.\n",
    "\n",
    "However, APIs can change as well. The challenges of both variety and durability apply to APIs just as they do to websites. Additionally, it’s much harder to inspect the structure of an API by yourself if the provided documentation lacks quality.\n",
    "\n",
    "The approach and tools you need to gather information using APIs are outside the scope of this tutorial. To learn more about it, check out API Integration in Python."
   ]
  },
  {
   "cell_type": "markdown",
   "metadata": {},
   "source": [
    "## Scrape the Fake Python Job Site\n",
    "\n",
    "In this tutorial, you’ll build a web scraper that fetches Python software developer job listings from the Fake Python Jobs site. It’s an example site with fake job postings that you can freely scrape to train your skills. Your web scraper will parse the HTML on the site to pick out the relevant information and filter that content for specific words.\n",
    "\n",
    "Note: A previous version of this tutorial focused on scraping the Monster job board, which has since changed and doesn’t provide static HTML content anymore. The updated version of this tutorial focuses on a self-hosted static site that is guaranteed to stay the same and gives you a reliable playground to practice the skills you need for web scraping.\n",
    "\n",
    "You can scrape any site on the Internet that you can look at, but the difficulty of doing so depends on the site. This tutorial offers you an introduction to web scraping to help you understand the overall process. Then, you can apply this same process for every website you’ll want to scrape.\n",
    "\n",
    "Throughout the tutorial, you’ll also encounter a few exercise blocks. You can click to expand them and challenge yourself by completing the tasks described there."
   ]
  },
  {
   "cell_type": "markdown",
   "metadata": {},
   "source": [
    "## Step 1: Inspect Your Data Source\n",
    "\n",
    "Before you write any Python code, you need to get to know the website that you want to scrape. That should be your first step for any web scraping project you want to tackle. You’ll need to understand the site structure to extract the information that’s relevant for you. Start by opening the site you want to scrape with your favorite browser.\n",
    "\n",
    "### Explore the Website\n",
    "\n",
    "Click through the site and interact with it just like any typical job searcher would. For example, you can scroll through the main page of the website: https://realpython.github.io/fake-jobs/ \n",
    "\n",
    "You can see many job postings in a card format, and each of them has two buttons. If you click Apply, then you’ll see a new page that contains more detailed descriptions of the selected job. You might also notice that the URL in your browser’s address bar changes when you interact with the website.\n",
    "\n",
    "### Decipher the Information in URLs\n",
    "\n",
    "A programmer can encode a lot of information in a URL. Your web scraping journey will be much easier if you first become familiar with how URLs work and what they’re made of. For example, you might find yourself on a details page that has the following URL:\n",
    "\n",
    "```\n",
    "https://realpython.github.io/fake-jobs/jobs/senior-python-developer-0.html\n",
    "```\n",
    "\n",
    "You can deconstruct the above URL into two main parts:\n",
    "\n",
    "* The base URL represents the path to the search functionality of the website. In the example above, the base URL is https://realpython.github.io/fake-jobs/.  \n",
    "\n",
    "* The specific site location that ends with .html is the path to the job description’s unique resource.  \n",
    "\n",
    "Any job posted on this website will use the same base URL. However, the unique resources’ location will be different depending on what specific job posting you’re viewing.\n",
    "\n",
    "URLs can hold more information than just the location of a file. Some websites use query parameters to encode values that you submit when performing a search. You can think of them as query strings that you send to the database to retrieve specific records.\n",
    "\n",
    "You’ll find query parameters at the end of a URL. For example, if you go to Indeed and search for “software developer” in “Australia” through their search bar, you’ll see that the URL changes to include these values as query parameters:\n",
    "\n",
    "```\n",
    "https://au.indeed.com/jobs?q=software+developer&l=Australia\n",
    "```\n",
    "\n",
    "The query parameters in this URL are ?q=software+developer&l=Australia. Query parameters consist of three parts:\n",
    "\n",
    "1. Start: The beginning of the query parameters is denoted by a question mark (?).  \n",
    "2. Information: The pieces of information constituting one query parameter are encoded in key-value pairs, where related keys and values are joined together by an equals sign (key=value).  \n",
    "3. Separator: Every URL can have multiple query parameters, separated by an ampersand symbol (&).  \n",
    "\n",
    "Equipped with this information, you can pick apart the URL’s query parameters into two key-value pairs:\n",
    "\n",
    "1. **q=software+developer** selects the type of job.\n",
    "2. **l=Australia** selects the location of the job.\n",
    "\n",
    "Try to change the search parameters and observe how that affects your URL. Go ahead and enter new values in the search bar up top:\n",
    "\n",
    "Next, try to change the values directly in your URL. See what happens when you paste the following URL into your browser’s address bar:\n",
    "\n",
    "```\n",
    "https://au.indeed.com/jobs?q=developer&l=perth\n",
    "```\n",
    "\n",
    "If you change and submit the values in the website’s search box, then it’ll be directly reflected in the URL’s query parameters and vice versa. If you change either of them, then you’ll see different results on the website.\n",
    "\n",
    "As you can see, exploring the URLs of a site can give you insight into how to retrieve data from the website’s server.\n",
    "\n",
    "Head back to Fake Python Jobs and continue exploring it. This site is a purely static website that doesn’t operate on top of a database, which is why you won’t have to work with query parameters in this scraping tutorial.\n",
    "\n",
    "### Inspect the Site Using Developer Tools\n",
    "\n",
    "Next, you’ll want to learn more about how the data is structured for display. You’ll need to understand the page structure to pick what you want from the HTML response that you’ll collect in one of the upcoming steps.\n",
    "\n",
    "**Developer tools** can help you understand the structure of a website. All modern browsers come with developer tools installed. In this section, you’ll see how to work with the developer tools in Chrome. The process will be very similar to other modern browsers.\n",
    "\n",
    "In Chrome on macOS, you can open up the developer tools through the menu by selecting View → Developer → Developer Tools. On Windows and Linux, you can access them by clicking the top-right menu button (⋮) and selecting More Tools → Developer Tools. You can also access your developer tools by right-clicking on the page and selecting the Inspect option or using a keyboard shortcut:\n",
    "\n",
    "* Mac: CMD + ALT + I\n",
    "* Windows/Linux: CTRL + SHIFT + I\n",
    "\n",
    "Developer tools allow you to interactively explore the site’s document object model (DOM) to better understand your source. To dig into your page’s DOM, select the Elements tab in developer tools. You’ll see a structure with clickable HTML elements. You can expand, collapse, and even edit elements right in your browser:\n",
    "\n",
    "You can think of the text displayed in your browser as the HTML structure of that page. If you’re interested, then you can read more about the difference between the DOM and HTML on CSS-TRICKS.\n",
    "\n",
    "When you right-click elements on the page, you can select Inspect to zoom to their location in the DOM. You can also hover over the HTML text on your right and see the corresponding elements light up on the page.\n",
    "\n",
    "Click to expand the exercise block for a specific task to practice using your developer tools"
   ]
  },
  {
   "cell_type": "code",
   "execution_count": null,
   "metadata": {},
   "outputs": [],
   "source": [
    "# TODO: Find a single job posting from the site. Which HTML element is it wrapped in, what other HTML elements does it contain?\n",
    "# https://realpython.github.io/fake-jobs/\n",
    "\n",
    "# No need to write anything down, just explore"
   ]
  },
  {
   "cell_type": "markdown",
   "metadata": {},
   "source": [
    "## Step 2: Scrape HTML Content From a Page\n",
    "\n",
    "Now that you have an idea of what you’re working with, it’s time to start using Python. First, you’ll want to get the site’s HTML code into your Python script so that you can interact with it. For this task, you’ll use Python’s requests library.\n",
    "\n",
    "Then open up a new file in your favorite text editor. All you need to retrieve the HTML are a few lines of code:"
   ]
  },
  {
   "cell_type": "code",
   "execution_count": null,
   "metadata": {},
   "outputs": [],
   "source": [
    "import requests\n",
    "\n",
    "# TODO: paste in the url of the test website (https://realpython.github.io/fake-jobs/)\n",
    "URL = \"...\"\n",
    "\n",
    "# TODO: request the page using the `requests` package\n",
    "page = ...\n",
    "\n",
    "# print out the text\n",
    "page.text"
   ]
  },
  {
   "cell_type": "markdown",
   "metadata": {},
   "source": [
    "This code issues an HTTP GET request to the given URL. It retrieves the HTML data that the server sends back and stores that data in a Python object.\n",
    "\n",
    "If you print the `.text` attribute of page, then you’ll notice that it looks just like the HTML that you inspected earlier with your browser’s developer tools. You successfully fetched the static site content from the Internet! You now have access to the site’s HTML from within your Python script."
   ]
  },
  {
   "cell_type": "markdown",
   "metadata": {},
   "source": [
    "## Static Websites\n",
    "\n",
    "The website that you’re scraping in this tutorial serves static HTML content. In this scenario, the server that hosts the site sends back HTML documents that already contain all the data that you’ll get to see as a user.\n",
    "\n",
    "When you inspected the page with developer tools earlier on, you discovered that a job posting consists of the following long and messy-looking HTML:\n",
    "\n",
    "```HTML\n",
    "<div class=\"card\">\n",
    "  <div class=\"card-content\">\n",
    "    <div class=\"media\">\n",
    "      <div class=\"media-left\">\n",
    "        <figure class=\"image is-48x48\">\n",
    "          <img\n",
    "            src=\"https://files.realpython.com/media/real-python-logo-thumbnail.7f0db70c2ed2.jpg\"\n",
    "            alt=\"Real Python Logo\"\n",
    "          />\n",
    "        </figure>\n",
    "      </div>\n",
    "      <div class=\"media-content\">\n",
    "        <h2 class=\"title is-5\">Senior Python Developer</h2>\n",
    "        <h3 class=\"subtitle is-6 company\">Payne, Roberts and Davis</h3>\n",
    "      </div>\n",
    "    </div>\n",
    "\n",
    "    <div class=\"content\">\n",
    "      <p class=\"location\">Stewartbury, AA</p>\n",
    "      <p class=\"is-small has-text-grey\">\n",
    "        <time datetime=\"2021-04-08\">2021-04-08</time>\n",
    "      </p>\n",
    "    </div>\n",
    "    <footer class=\"card-footer\">\n",
    "      <a\n",
    "        href=\"https://www.realpython.com\"\n",
    "        target=\"_blank\"\n",
    "        class=\"card-footer-item\"\n",
    "        >Learn</a\n",
    "      >\n",
    "      <a\n",
    "        href=\"https://realpython.github.io/fake-jobs/jobs/senior-python-developer-0.html\"\n",
    "        target=\"_blank\"\n",
    "        class=\"card-footer-item\"\n",
    "        >Apply</a\n",
    "      >\n",
    "    </footer>\n",
    "  </div>\n",
    "</div>\n",
    "```\n",
    "\n",
    "It can be challenging to wrap your head around a long block of [HTML code](https://webformatter.com/html). To make it easier to read, you can use an HTML formatter to clean it up automatically. Good readability helps you better understand the structure of any code block. While it may or may not help improve the HTML formatting, it’s always worth a try.\n",
    "\n",
    "**Note**: Keep in mind that every website will look different. That’s why it’s necessary to inspect and understand the structure of the site you’re currently working with before moving forward.\n",
    "\n",
    "The HTML you’ll encounter will sometimes be confusing. Luckily, the HTML of this job board has descriptive class names on the elements that you’re interested in:\n",
    "\n",
    "**class=\"title is-5\"** contains the title of the job posting.  \n",
    "**class=\"subtitle is-6 company\"** contains the name of the company that offers the position.  \n",
    "**class=\"location\"** contains the location where you’d be working.  "
   ]
  },
  {
   "cell_type": "markdown",
   "metadata": {},
   "source": [
    "## Hidden Websites\n",
    "\n",
    "Some pages contain information that’s hidden behind a login. That means you’ll need an account to be able to scrape anything from the page. The process to make an HTTP request from your Python script is different from how you access a page from your browser. Just because you can log in to the page through your browser doesn’t mean you’ll be able to scrape it with your Python script.\n",
    "\n",
    "However, the requests library comes with the built-in capacity to handle authentication. With these techniques, you can log in to websites when making the HTTP request from your Python script and then scrape information that’s hidden behind a login. You won’t need to log in to access the job board information, which is why this tutorial won’t cover authentication."
   ]
  },
  {
   "cell_type": "markdown",
   "metadata": {},
   "source": [
    "## Dynamic Websites\n",
    "\n",
    "In this tutorial, you’ll learn how to scrape a static website. Static sites are straightforward to work with because the server sends you an HTML page that already contains all the page information in the response. You can parse that HTML response and immediately begin to pick out the relevant data.\n",
    "\n",
    "On the other hand, with a dynamic website, the server might not send back any HTML at all. Instead, you could receive JavaScript code as a response. This code will look completely different from what you saw when you inspected the page with your browser’s developer tools.\n",
    "\n",
    "**Note**: In this tutorial, the term dynamic website refers to a website that doesn’t return the same HTML that you see when viewing the page in your browser.\n",
    "\n",
    "Many modern web applications are designed to provide their functionality in collaboration with the clients’ browsers. Instead of sending HTML pages, these apps send JavaScript code that instructs your browser to create the desired HTML. Web apps deliver dynamic content in this way to offload work from the server to the clients’ machines as well as to avoid page reloads and improve the overall user experience.\n",
    "\n",
    "What happens in the browser is not the same as what happens in your script. Your browser will diligently execute the JavaScript code it receives from a server and create the DOM and HTML for you locally. However, if you request a dynamic website in your Python script, then you won’t get the HTML page content.\n",
    "\n",
    "When you use requests, you only receive what the server sends back. In the case of a dynamic website, you’ll end up with some JavaScript code instead of HTML. The only way to go from the JavaScript code you received to the content that you’re interested in is to execute the code, just like your browser does. The requests library can’t do that for you, but there are other solutions that can.\n",
    "\n",
    "For example, requests-html is a project created by the author of the requests library that allows you to render JavaScript using syntax that’s similar to the syntax in requests. It also includes capabilities for parsing the data by using Beautiful Soup under the hood.\n",
    "\n",
    "**Note**: Another popular choice for scraping dynamic content is Selenium. You can think of Selenium as a slimmed-down browser that executes the JavaScript code for you before passing on the rendered HTML response to your script.\n",
    "\n",
    "You won’t go deeper into scraping dynamically-generated content in this tutorial. For now, it’s enough to remember to look into one of the options mentioned above if you need to scrape a dynamic website."
   ]
  },
  {
   "cell_type": "markdown",
   "metadata": {},
   "source": [
    "## Step 3: Parse HTML Code With Beautiful Soup\n",
    "\n",
    "You’ve successfully scraped some HTML from the Internet, but when you look at it, it just seems like a huge mess. There are tons of HTML elements here and there, thousands of attributes scattered around—and wasn’t there some JavaScript mixed in as well? It’s time to parse this lengthy code response with the help of Python to make it more accessible and pick out the data you want.\n",
    "\n",
    "Beautiful Soup is a Python library for parsing structured data. It allows you to interact with HTML in a similar way to how you interact with a web page using developer tools. The library exposes a couple of intuitive functions you can use to explore the HTML you received. To get started, use your terminal to install Beautiful Soup:"
   ]
  },
  {
   "cell_type": "code",
   "execution_count": null,
   "metadata": {},
   "outputs": [],
   "source": [
    "!pip install beautifulsoup4"
   ]
  },
  {
   "cell_type": "markdown",
   "metadata": {},
   "source": [
    "Then, import the library in your Python script and create a Beautiful Soup object:"
   ]
  },
  {
   "cell_type": "code",
   "execution_count": null,
   "metadata": {},
   "outputs": [],
   "source": [
    "import requests\n",
    "from bs4 import BeautifulSoup\n",
    "\n",
    "# TODO: paste in the url of the test website (https://realpython.github.io/fake-jobs/)\n",
    "URL = \"...\"\n",
    "\n",
    "# TODO: request the page using the `requests` package\n",
    "page = ...\n",
    "\n",
    "# create the soup object\n",
    "soup = BeautifulSoup(page.content, \"html.parser\")\n",
    "\n",
    "print(soup)"
   ]
  },
  {
   "cell_type": "markdown",
   "metadata": {},
   "source": [
    "Here, you create a Beautiful Soup object that takes page.content, which is the HTML content you scraped earlier, as its input.\n",
    "\n",
    "**Note**: You’ll want to pass page.content instead of page.text to avoid problems with character encoding. The .content attribute holds raw bytes, which can be decoded better than the text representation you printed earlier using the .text attribute.\n",
    "\n",
    "The second argument, \"html.parser\", makes sure that you use the appropriate parser for HTML content."
   ]
  },
  {
   "cell_type": "markdown",
   "metadata": {},
   "source": [
    "### Find Elements by ID\n",
    "\n",
    "In an HTML web page, every element can have an id attribute assigned. As the name already suggests, that id attribute makes the element uniquely identifiable on the page. You can begin to parse your page by selecting a specific element by its ID.\n",
    "\n",
    "Switch back to developer tools and identify the HTML object that contains all the job postings. Explore by hovering over parts of the page and using right-click to Inspect.\n",
    "\n",
    "**Note**: It helps to periodically switch back to your browser and interactively explore the page using developer tools. This helps you learn how to find the exact elements you’re looking for.\n",
    "\n",
    "The element you’re looking for is a <div> with an id attribute that has the value \"ResultsContainer\". It has some other attributes as well, but below is the gist of what you’re looking for:\n",
    "\n",
    "```HTML\n",
    "<div id=\"ResultsContainer\">\n",
    "  <!-- all the job listings -->\n",
    "</div>\n",
    "```\n",
    "\n",
    "Let's practice getting these containers using some basic bs4 methods."
   ]
  },
  {
   "cell_type": "code",
   "execution_count": null,
   "metadata": {},
   "outputs": [],
   "source": [
    "# TODO: find first html tag with id `ResultsContainer`\n",
    "# Documentation: https://beautiful-soup-4.readthedocs.io/en/latest/index.html?highlight=find#find\n",
    "results = soup.find(id=\"...\")\n",
    "\n",
    "# print out the \"prettifyied\" html\n",
    "results.prettify()"
   ]
  },
  {
   "cell_type": "code",
   "execution_count": null,
   "metadata": {},
   "outputs": [],
   "source": [
    "# TODO: find all `div` containers of `card-content` \"class_\"\n",
    "# Documentation: https://beautiful-soup-4.readthedocs.io/en/latest/index.html?highlight=find_all#find-all\n",
    "\n",
    "job_elements = results.find_all(\"div\", class_=\"...\")\n",
    "\n",
    "job_elements"
   ]
  },
  {
   "cell_type": "code",
   "execution_count": null,
   "metadata": {},
   "outputs": [],
   "source": [
    "# TODO: loop through each object of `job_elements` and print out this element\n",
    "\n",
    "for e in ...:\n",
    "    ..."
   ]
  },
  {
   "cell_type": "code",
   "execution_count": null,
   "metadata": {},
   "outputs": [],
   "source": [
    "# TODO: loop through each object of `job_elements` and get the individual elements using the `find` method\n",
    "\n",
    "for job_element in ...:\n",
    "    # TODO: find the `h2` tag of class_ `title`\n",
    "    title_element = job_element.find(\"...\", class_=\"...\")\n",
    "\n",
    "    # TODO: find the `h3` tag of class_ `company`\n",
    "    company_element = job_element.find(...)\n",
    "\n",
    "    # TODO: find the `p` tag of class_ `location`\n",
    "    location_element = job_element.find(...)\n",
    "\n",
    "    print(title_element)\n",
    "    print(company_element)\n",
    "    print(location_element)\n",
    "    print()"
   ]
  },
  {
   "cell_type": "markdown",
   "metadata": {},
   "source": [
    "Each job_element is another BeautifulSoup() object. Therefore, you can use the same methods on it as you did on its parent element, results.\n",
    "\n",
    "With this code snippet, you’re getting closer and closer to the data that you’re actually interested in. Still, there’s a lot going on with all those HTML tags and attributes floating around:\n",
    "\n",
    "```HTML\n",
    "<h2 class=\"title is-5\">Senior Python Developer</h2>\n",
    "<h3 class=\"subtitle is-6 company\">Payne, Roberts and Davis</h3>\n",
    "<p class=\"location\">Stewartbury, AA</p>\n",
    "```\n",
    "\n",
    "Next, you’ll learn how to narrow down this output to access only the text content you’re interested in."
   ]
  },
  {
   "cell_type": "markdown",
   "metadata": {},
   "source": [
    "## Extract Text From HTML Elements\n",
    "\n",
    "You only want to see the title, company, and location of each job posting. And behold! Beautiful Soup has got you covered. You can add .text to a Beautiful Soup object to return only the text content of the HTML elements that the object contains:"
   ]
  },
  {
   "cell_type": "code",
   "execution_count": null,
   "metadata": {},
   "outputs": [],
   "source": [
    "# TODO: loop through each object of `job_elements` and get the individual elements using the `find` method\n",
    "\n",
    "for job_element in job_elements:\n",
    "    # TODO: find the `h2` tag of class_ `title`\n",
    "    title_element = job_element.find(\"...\", class_=\"...\")\n",
    "\n",
    "    # TODO: find the `h3` tag of class_ `company`\n",
    "    company_element = job_element.find(...)\n",
    "\n",
    "    # TODO: find the `p` tag of class_ `location`\n",
    "    location_element = job_element.find(...)\n",
    "\n",
    "    print(title_element.text)\n",
    "\n",
    "    # TODO: print the \"text\" attribute of the company_element\n",
    "    print(company_element)\n",
    "    # TODO: print the \"text\" attribute of the companylocation_element_element\n",
    "    print(location_element)\n",
    "    print()"
   ]
  },
  {
   "cell_type": "markdown",
   "metadata": {},
   "source": [
    "Run the above code snippet, and you’ll see the text of each element displayed. However, it’s possible that you’ll also get some extra whitespace. Since you’re now working with Python strings, you can .strip() the superfluous whitespace. You can also apply any other familiar Python string methods to further clean up your text:"
   ]
  },
  {
   "cell_type": "code",
   "execution_count": null,
   "metadata": {},
   "outputs": [],
   "source": [
    "# TODO: loop through each object of `job_elements` and get the individual elements using the `find` method\n",
    "\n",
    "for job_element in job_elements:\n",
    "    # TODO: find the `h2` tag of class_ `title`\n",
    "    title_element = job_element.find(\"...\", class_=\"...\")\n",
    "\n",
    "    # TODO: find the `h3` tag of class_ `company`\n",
    "    company_element = job_element.find(...)\n",
    "\n",
    "    # TODO: find the `p` tag of class_ `location`\n",
    "    location_element = job_element.find(...)\n",
    "\n",
    "    print(title_element.text.strip())\n",
    "\n",
    "    # TODO: sprint the \"text\" attribute of the company_element and strip all whitespace\n",
    "    print(company_element)\n",
    "    # TODO: print the \"text\" attribute of the companylocation_element_element and strip all whitespace\n",
    "    print(location_element)\n",
    "    print()"
   ]
  },
  {
   "cell_type": "markdown",
   "metadata": {},
   "source": [
    "That’s a readable list of jobs that also includes the company name and each job’s location. However, you’re looking for a position as a software developer, and these results contain job postings in many other fields as well."
   ]
  },
  {
   "cell_type": "markdown",
   "metadata": {},
   "source": [
    "## Find Elements by Class Name and Text Content\n",
    "\n",
    "Not all of the job listings are developer jobs. Instead of printing out all the jobs listed on the website, you’ll first filter them using keywords.\n",
    "\n",
    "You know that job titles in the page are kept within `h2` elements. To filter for only specific jobs, you can use the string argument:"
   ]
  },
  {
   "cell_type": "code",
   "execution_count": null,
   "metadata": {},
   "outputs": [],
   "source": [
    "# TODO: Use the `find_all` method to get all \"h2\" elements that contain string \"Python\"\n",
    "# Documentation: https://beautiful-soup-4.readthedocs.io/en/latest/index.html?highlight=find_all#find-all\n",
    "\n",
    "python_jobs = results.find_all(..., string=\"...\")"
   ]
  },
  {
   "cell_type": "markdown",
   "metadata": {},
   "source": [
    "This code finds all `h2` elements where the contained string matches \"Python\" exactly. Note that you’re directly calling the method on your first results variable. If you go ahead and print() the output of the above code snippet to your console, then you might be disappointed because it’ll be empty:"
   ]
  },
  {
   "cell_type": "code",
   "execution_count": null,
   "metadata": {},
   "outputs": [],
   "source": [
    "python_jobs"
   ]
  },
  {
   "cell_type": "markdown",
   "metadata": {},
   "source": [
    "There was a Python job in the search results, so why is it not showing up?\n",
    "\n",
    "When you use string= as you did above, your program looks for that string exactly. Any differences in the spelling, capitalization, or whitespace will prevent the element from matching. In the next section, you’ll find a way to make your search string more general.\n",
    "\n",
    "## Pass a Function to a Beautiful Soup Method\n",
    "\n",
    "In addition to strings, you can sometimes pass functions as arguments to Beautiful Soup methods. You can change the previous line of code to use a function instead:"
   ]
  },
  {
   "cell_type": "code",
   "execution_count": null,
   "metadata": {},
   "outputs": [],
   "source": [
    "python_jobs = results.find_all(\n",
    "    \"h2\", string=lambda text: \"python\" in text.lower()\n",
    ")"
   ]
  },
  {
   "cell_type": "markdown",
   "metadata": {},
   "source": [
    "Now you're passing an anonymous function to the **string=** argument. The lambda function looks at the text of each `h2` element, converts it to lowercase, and checks whether the substring \"python\" is found anywhere. You can check whether you managed to identify all the Python jobs with this approach:"
   ]
  },
  {
   "cell_type": "code",
   "execution_count": null,
   "metadata": {},
   "outputs": [],
   "source": [
    "print(len(python_jobs))"
   ]
  },
  {
   "cell_type": "markdown",
   "metadata": {},
   "source": [
    "Your program has found 10 matching job posts that include the word \"python\" in their job title!\n",
    "\n",
    "Finding elements depending on their text content is a powerful way to filter your HTML response for specific information. Beautiful Soup allows you to use either exact strings or functions as arguments for filtering text in Beautiful Soup objects.\n",
    "\n",
    "This seems like a good moment to run your for loop and print the title, location, and company information of the Python jobs you identified:\n",
    "\n",
    "**NOTE: This will result in an error**"
   ]
  },
  {
   "cell_type": "code",
   "execution_count": null,
   "metadata": {},
   "outputs": [],
   "source": [
    "python_jobs = results.find_all(\n",
    "    \"h2\", string=lambda text: \"python\" in text.lower()\n",
    ")\n",
    "\n",
    "for job_element in python_jobs:\n",
    "    title_element = job_element.find(\"h2\", class_=\"title\")\n",
    "    company_element = job_element.find(\"h3\", class_=\"company\")\n",
    "    location_element = job_element.find(\"p\", class_=\"location\")\n",
    "    print(title_element.text.strip())\n",
    "    print(company_element.text.strip())\n",
    "    print(location_element.text.strip())\n",
    "    print()"
   ]
  },
  {
   "cell_type": "markdown",
   "metadata": {},
   "source": [
    "\n",
    "However, when you try to run your scraper to print out the information of the filtered Python jobs, you’ll run into an error:\n",
    "\n",
    "```\n",
    "AttributeError: 'NoneType' object has no attribute 'text'\n",
    "```\n",
    "\n",
    "This message is a common error that you’ll run into a lot when you’re scraping information from the Internet. Inspect the HTML of an element in your python_jobs list. What does it look like? Where do you think the error is coming from?\n",
    "\n",
    "## Identify Error Conditions\n",
    "\n",
    "When you look at a single element in python_jobs, you’ll see that it consists of only the `h2` element that contains the job title:\n",
    "\n",
    "```HTML\n",
    "<h2 class=\"title is-5\">Senior Python Developer</h2>\n",
    "```\n",
    "\n",
    "When you revisit the code you used to select the items, you’ll see that that’s what you targeted. You filtered for only the `h2` title elements of the job postings that contain the word \"python\". As you can see, these elements don’t include the rest of the information about the job.\n",
    "\n",
    "The error message you received earlier was related to this:\n",
    "\n",
    "```\n",
    "AttributeError: 'NoneType' object has no attribute 'text'\n",
    "```\n",
    "\n",
    "You tried to find the job title, the company name, and the job’s location in each element in python_jobs, but each element contains only the job title text.\n",
    "\n",
    "Your diligent parsing library still looks for the other ones, too, and returns None because it can’t find them. Then, print() fails with the shown error message when you try to extract the .text attribute from one of these None objects.\n",
    "\n",
    "The text you’re looking for is nested in sibling elements of the `h2` elements your filter returned. Beautiful Soup can help you to select sibling, child, and parent elements of each Beautiful Soup object.\n",
    "\n",
    "## Access Parent Elements\n",
    "\n",
    "One way to get access to all the information you need is to step up in the hierarchy of the DOM starting from the `h2` elements that you identified. Take another look at the HTML of a single job posting. Find the `h2` element that contains the job title as well as its closest parent element that contains all the information that you’re interested in:\n",
    "\n",
    "```HTML\n",
    "<div class=\"card\">\n",
    "  <div class=\"card-content\">\n",
    "    <div class=\"media\">\n",
    "      <div class=\"media-left\">\n",
    "        <figure class=\"image is-48x48\">\n",
    "          <img\n",
    "            src=\"https://files.realpython.com/media/real-python-logo-thumbnail.7f0db70c2ed2.jpg\"\n",
    "            alt=\"Real Python Logo\"\n",
    "          />\n",
    "        </figure>\n",
    "      </div>\n",
    "      <div class=\"media-content\">\n",
    "        <h2 class=\"title is-5\">Senior Python Developer</h2>\n",
    "        <h3 class=\"subtitle is-6 company\">Payne, Roberts and Davis</h3>\n",
    "      </div>\n",
    "    </div>\n",
    "\n",
    "    <div class=\"content\">\n",
    "      <p class=\"location\">Stewartbury, AA</p>\n",
    "      <p class=\"is-small has-text-grey\">\n",
    "        <time datetime=\"2021-04-08\">2021-04-08</time>\n",
    "      </p>\n",
    "    </div>\n",
    "    <footer class=\"card-footer\">\n",
    "      <a\n",
    "        href=\"https://www.realpython.com\"\n",
    "        target=\"_blank\"\n",
    "        class=\"card-footer-item\"\n",
    "        >Learn</a\n",
    "      >\n",
    "      <a\n",
    "        href=\"https://realpython.github.io/fake-jobs/jobs/senior-python-developer-0.html\"\n",
    "        target=\"_blank\"\n",
    "        class=\"card-footer-item\"\n",
    "        >Apply</a\n",
    "      >\n",
    "    </footer>\n",
    "  </div>\n",
    "</div>\n",
    "```\n",
    "\n",
    "The `div` element with the card-content class contains all the information you want. It’s a third-level parent of the `h2` title element that you found using your filter.\n",
    "\n",
    "With this information in mind, you can now use the elements in python_jobs and fetch their great-grandparent elements instead to get access to all the information you want:"
   ]
  },
  {
   "cell_type": "code",
   "execution_count": null,
   "metadata": {},
   "outputs": [],
   "source": [
    "python_jobs = results.find_all(\n",
    "    \"h2\", string=lambda text: \"python\" in text.lower()\n",
    ")\n",
    "\n",
    "python_job_elements = [\n",
    "    h2_element.parent.parent.parent for h2_element in python_jobs\n",
    "]"
   ]
  },
  {
   "cell_type": "markdown",
   "metadata": {},
   "source": [
    "You added a list comprehension that operates on each of the `h2` title elements in python_jobs that you got by filtering with the lambda expression. You’re selecting the parent element of the parent element of the parent element of each `h2` title element. That’s three generations up!\n",
    "\n",
    "When you were looking at the HTML of a single job posting, you identified that this specific parent element with the class name card-content contains all the information you need.\n",
    "\n",
    "Now you can adapt the code in your for loop to iterate over the parent elements instead:"
   ]
  },
  {
   "cell_type": "code",
   "execution_count": null,
   "metadata": {},
   "outputs": [],
   "source": [
    "python_jobs = results.find_all(\n",
    "    \"h2\", string=lambda text: \"python\" in text.lower()\n",
    ")\n",
    "\n",
    "python_job_elements = [\n",
    "    h2_element.parent.parent.parent for h2_element in python_jobs\n",
    "]\n",
    "\n",
    "for job_element in python_job_elements:\n",
    "    # TODO: get the `h2` tag of class `title` of the job_element object\n",
    "    title_element = ...\n",
    "\n",
    "    # TODO: get the `h3` tag of class `company` of the job_element object\n",
    "    company_element = ...\n",
    "\n",
    "    # TODO: get the `h3` tag of class `company` of the job_element object\n",
    "    location_element = ...\n",
    "\n",
    "    # TODO: print out the stripped text for all 3 objects\n",
    "    ..."
   ]
  },
  {
   "cell_type": "markdown",
   "metadata": {},
   "source": [
    "When you run your script, you’ll see that your code once again has access to all the relevant information. That’s because you’re now looping over the <div class=\"card-content\"> elements instead of just the `h2` title elements.\n",
    "\n",
    "Using the .parent attribute that each Beautiful Soup object comes with gives you an intuitive way of stepping through your DOM structure and addressing the elements you need. You can also access child elements and sibling elements in a similar manner. Read up on navigating the tree for more information."
   ]
  },
  {
   "cell_type": "markdown",
   "metadata": {},
   "source": [
    "## Extract Attributes From HTML Elements\n",
    "\n",
    "At this point, your Python script already scrapes the site and filters its HTML for relevant job postings. Well done! However, what’s still missing is the link to apply for a job.\n",
    "\n",
    "While you were inspecting the page, you found two links at the bottom of each card. If you handle the link elements in the same way as you handled the other elements, you won’t get the URLs that you’re interested in:"
   ]
  },
  {
   "cell_type": "code",
   "execution_count": null,
   "metadata": {},
   "outputs": [],
   "source": [
    "python_jobs = results.find_all(\n",
    "    \"h2\", string=lambda text: \"python\" in text.lower()\n",
    ")\n",
    "\n",
    "python_job_elements = [\n",
    "    h2_element.parent.parent.parent for h2_element in python_jobs\n",
    "]\n",
    "\n",
    "for job_element in python_job_elements:\n",
    "    # TODO: Get all \"a\" HTML tags inside of this job element object\n",
    "    links = job_element.find_all(\"...\")\n",
    "\n",
    "    # TODO: loop through all links\n",
    "    for link in ...:\n",
    "        print(link.text.strip())"
   ]
  },
  {
   "cell_type": "markdown",
   "metadata": {},
   "source": [
    "If you run this code snippet, then you’ll get the link texts Learn and Apply instead of the associated URLs.\n",
    "\n",
    "That’s because the .text attribute leaves only the visible content of an HTML element. It strips away all HTML tags, including the HTML attributes containing the URL, and leaves you with just the link text. To get the URL instead, you need to extract the value of one of the HTML attributes instead of discarding it.\n",
    "\n",
    "The URL of a link element is associated with the href attribute. The specific URL that you’re looking for is the value of the href attribute of the second `a` tag at the bottom the HTML of a single job posting:\n",
    "\n",
    "```HTML\n",
    "   <footer class=\"card-footer\">\n",
    "        <a href=\"https://www.realpython.com\" target=\"_blank\"\n",
    "           class=\"card-footer-item\">Learn</a>\n",
    "        <a href=\"https://realpython.github.io/fake-jobs/jobs/senior-python-developer-0.html\"\n",
    "           target=\"_blank\"\n",
    "           class=\"card-footer-item\">Apply</a>\n",
    "    </footer>\n",
    "  </div>\n",
    "</div>\n",
    "```\n",
    "\n",
    "Start by fetching all the `a` elements in a job card. Then, extract the value of their href attributes using square-bracket notation:"
   ]
  },
  {
   "cell_type": "code",
   "execution_count": null,
   "metadata": {},
   "outputs": [],
   "source": [
    "python_jobs = results.find_all(\n",
    "    \"h2\", string=lambda text: \"python\" in text.lower()\n",
    ")\n",
    "\n",
    "python_job_elements = [\n",
    "    h2_element.parent.parent.parent for h2_element in python_jobs\n",
    "]\n",
    "\n",
    "for job_element in python_job_elements:\n",
    "    # TODO: Get all \"a\" HTML tags inside of this job element object\n",
    "    links = job_element.find_all(\"...\")\n",
    "\n",
    "    # TODO: loop through all links\n",
    "    for link in ...:\n",
    "        # TODO: the \"href\" attribute using square bracket notation\n",
    "        link_url = link[\"...\"] \n",
    "\n",
    "        print(link.text.strip())"
   ]
  },
  {
   "cell_type": "markdown",
   "metadata": {},
   "source": [
    "In this code snippet, you first fetched all links from each of the filtered job postings. Then you extracted the href attribute, which contains the URL, using [\"href\"] and printed it to your console.\n",
    "\n",
    "In the exercise block below, you can find instructions for a challenge to refine the link results that you’ve received:"
   ]
  },
  {
   "cell_type": "code",
   "execution_count": null,
   "metadata": {},
   "outputs": [],
   "source": [
    "python_jobs = results.find_all(\n",
    "    \"h2\", string=lambda text: \"python\" in text.lower()\n",
    ")\n",
    "\n",
    "python_job_elements = [\n",
    "    h2_element.parent.parent.parent for h2_element in python_jobs\n",
    "]\n",
    "\n",
    "# TODO: Challenge\n",
    "# Each job card has two links associated with it. You’re looking for only the second link. \n",
    "# How can you edit the code snippet shown above so that you always collect only the URL of the second link?\n",
    "\n",
    "for job_element in python_job_elements:\n",
    "    # TODO: Get all \"a\" HTML tags inside of this job element object\n",
    "    links = job_element.find_all(\"...\")\n",
    "\n",
    "    # TODO: loop through all links\n",
    "    for link in ...:\n",
    "        # TODO: the \"href\" attribute using square bracket notation\n",
    "        link_url = link[\"...\"] \n",
    "\n",
    "        print(link.text.strip())"
   ]
  },
  {
   "cell_type": "markdown",
   "metadata": {},
   "source": [
    "## Conclusion\n",
    "\n",
    "The requests library gives you a user-friendly way to fetch static HTML from the Internet using Python. You can then parse the HTML with another package called Beautiful Soup. Both packages are trusted and helpful companions for your web scraping adventures. You’ll find that Beautiful Soup will cater to most of your parsing needs, including navigation and advanced searching.\n",
    "\n",
    "In this tutorial, you learned how to scrape data from the Web using Python, requests, and Beautiful Soup. You built a script that fetches job postings from the Internet and went through the complete web scraping process from start to finish.\n",
    "\n",
    "You learned how to:\n",
    "\n",
    "* Step through a web scraping pipeline from start to finish\n",
    "* Inspect the HTML structure of your target site with your browser’s developer tools\n",
    "* Decipher the data encoded in URLs\n",
    "* Download the page’s HTML content using Python’s requests library\n",
    "* Parse the downloaded HTML with Beautiful Soup to extract relevant information\n",
    "* Build a script that fetches job offers from the Web and displays relevant information in your console\n",
    "* With this broad pipeline in mind and two powerful libraries in your tool kit, you can go out and see what other websites you can scrape. Have fun, and always remember to be respectful and use your programming skills responsibly."
   ]
  },
  {
   "cell_type": "markdown",
   "metadata": {},
   "source": [
    "## Challenge: Scrape Indeed.com \n",
    "\n",
    "If you've completed this notebook, challenge yourself to scrape some real `indeed.com` job data! \n",
    "\n",
    "Access this website, and create a query which you can subsequently use as a URL (for example `https://www.indeed.com/jobs?q=data+analyst&l=Remote`).\n",
    "\n",
    "Utilize your peers, resources, and documentation to complete this."
   ]
  },
  {
   "cell_type": "code",
   "execution_count": null,
   "metadata": {},
   "outputs": [],
   "source": [
    "# TODO: Create an indeed.com scraper\n",
    "\n",
    "..."
   ]
  }
 ],
 "metadata": {
  "language_info": {
   "name": "python"
  }
 },
 "nbformat": 4,
 "nbformat_minor": 2
}
