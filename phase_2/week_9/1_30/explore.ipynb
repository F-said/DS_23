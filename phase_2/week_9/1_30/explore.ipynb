{
 "cells": [
  {
   "cell_type": "code",
   "execution_count": null,
   "metadata": {},
   "outputs": [],
   "source": [
    "import psycopg2\n",
    "import pandas as pd\n",
    "import numpy as np\n",
    "\n",
    "params = {\n",
    "    \"host\"      : \"localhost\",\n",
    "    \"dbname\"    : \"flights\",\n",
    "    \"user\"      : \"postgres\",\n",
    "    \"password\"  : \"password\",\n",
    "    \"port\" : \"5434\"     \n",
    "}\n",
    "\n",
    "def func(host, dbname, user, password, port):\n",
    "    return \"connection successful\"\n",
    "\n",
    "\n",
    "x = func(host=\"localhost\", dbname=\"flight\", user=\"user\", password=\"password\", port=\"5434\")\n",
    "print(x)\n",
    "\n",
    "# try-except\n",
    "conn = psycopg2.connect(**params)\n",
    "\n",
    "cursor = conn.cursor()\n",
    "cursor.execute(\"\"\"\n",
    "SELECT *\n",
    "FROM real_flight\n",
    "WHERE cancelled = '0' and diverted = '0';\n",
    "\"\"\")\n",
    "\n",
    "rows = cursor.fetchall()\n",
    "cursor.close()"
   ]
  },
  {
   "cell_type": "code",
   "execution_count": 4,
   "metadata": {},
   "outputs": [],
   "source": [
    "# list comprehension\n",
    "# new_list = [i for i in range(10) if i % 2 == 0]\n",
    "# desc.name for desc in cursor.description\n",
    "df = pd.DataFrame(rows, columns=[desc.name for desc in cursor.description])"
   ]
  },
  {
   "cell_type": "code",
   "execution_count": 5,
   "metadata": {},
   "outputs": [
    {
     "name": "stdout",
     "output_type": "stream",
     "text": [
      "<class 'pandas.core.frame.DataFrame'>\n",
      "RangeIndex: 599268 entries, 0 to 599267\n",
      "Data columns (total 21 columns):\n",
      " #   Column                 Non-Null Count   Dtype \n",
      "---  ------                 --------------   ----- \n",
      " 0   day_of_month           599268 non-null  object\n",
      " 1   day_of_week            599268 non-null  object\n",
      " 2   op_unique_carrier      599268 non-null  object\n",
      " 3   op_carrier_airline_id  599268 non-null  object\n",
      " 4   op_carrier             599268 non-null  object\n",
      " 5   tail_num               599268 non-null  object\n",
      " 6   op_carrier_fl_num      599268 non-null  object\n",
      " 7   origin_airport_id      599268 non-null  object\n",
      " 8   origin_airport_seq_id  599268 non-null  object\n",
      " 9   origin                 599268 non-null  object\n",
      " 10  dest_airport_id        599268 non-null  object\n",
      " 11  dest_airport_seq_id    599268 non-null  object\n",
      " 12  dest                   599268 non-null  object\n",
      " 13  dep_time               599268 non-null  object\n",
      " 14  dep_del15              599268 non-null  object\n",
      " 15  dep_time_blk           599268 non-null  object\n",
      " 16  arr_time               599268 non-null  object\n",
      " 17  arr_del15              599268 non-null  object\n",
      " 18  cancelled              599268 non-null  object\n",
      " 19  diverted               599268 non-null  object\n",
      " 20  distance               599268 non-null  object\n",
      "dtypes: object(21)\n",
      "memory usage: 96.0+ MB\n"
     ]
    }
   ],
   "source": [
    "# get df info\n",
    "df.info()"
   ]
  },
  {
   "cell_type": "code",
   "execution_count": 6,
   "metadata": {},
   "outputs": [
    {
     "name": "stdout",
     "output_type": "stream",
     "text": [
      "<class 'pandas.core.frame.DataFrame'>\n",
      "RangeIndex: 599268 entries, 0 to 599267\n",
      "Data columns (total 21 columns):\n",
      " #   Column                 Non-Null Count   Dtype \n",
      "---  ------                 --------------   ----- \n",
      " 0   day_of_month           599268 non-null  object\n",
      " 1   day_of_week            599268 non-null  object\n",
      " 2   op_unique_carrier      599268 non-null  object\n",
      " 3   op_carrier_airline_id  599268 non-null  object\n",
      " 4   op_carrier             599268 non-null  object\n",
      " 5   tail_num               599268 non-null  object\n",
      " 6   op_carrier_fl_num      599268 non-null  object\n",
      " 7   origin_airport_id      599268 non-null  object\n",
      " 8   origin_airport_seq_id  599268 non-null  object\n",
      " 9   origin                 599268 non-null  object\n",
      " 10  dest_airport_id        599268 non-null  object\n",
      " 11  dest_airport_seq_id    599268 non-null  object\n",
      " 12  dest                   599268 non-null  object\n",
      " 13  dep_time               599268 non-null  object\n",
      " 14  dep_del15              599268 non-null  int32 \n",
      " 15  dep_time_blk           599268 non-null  object\n",
      " 16  arr_time               599268 non-null  object\n",
      " 17  arr_del15              599268 non-null  int32 \n",
      " 18  cancelled              599268 non-null  int32 \n",
      " 19  diverted               599268 non-null  int32 \n",
      " 20  distance               599268 non-null  int32 \n",
      "dtypes: int32(5), object(16)\n",
      "memory usage: 84.6+ MB\n"
     ]
    }
   ],
   "source": [
    "# transform columns into ints\n",
    "# https://numpy.org/doc/stable/reference/arrays.scalars.html#numpy.intc\n",
    "df.astype({'arr_del15': 'int32', 'dep_del15': 'int32', 'cancelled': 'int32', 'diverted': 'int32', 'distance': 'int32'})\n",
    "df.info()"
   ]
  },
  {
   "cell_type": "code",
   "execution_count": 7,
   "metadata": {},
   "outputs": [
    {
     "data": {
      "text/plain": [
       "<AxesSubplot:ylabel='Frequency'>"
      ]
     },
     "execution_count": 7,
     "metadata": {},
     "output_type": "execute_result"
    },
    {
     "data": {
      "image/png": "[encoded data removed]",
      "text/plain": [
       "<Figure size 432x288 with 1 Axes>"
      ]
     },
     "metadata": {
      "needs_background": "light"
     },
     "output_type": "display_data"
    }
   ],
   "source": [
    "# exploration\n",
    "\n",
    "# box plot of arr_del15\n",
    "# https://pandas.pydata.org/docs/reference/api/pandas.DataFrame.boxplot.html\n",
    "# df.boxplot(\"arr_del15\")\n",
    "# https://pandas.pydata.org/docs/reference/api/pandas.DataFrame.hist.html\n",
    "df[\"arr_del15\"].plot.hist()"
   ]
  },
  {
   "cell_type": "code",
   "execution_count": null,
   "metadata": {},
   "outputs": [],
   "source": [
    "# box plot of dep_del15\n",
    "\n"
   ]
  },
  {
   "cell_type": "code",
   "execution_count": null,
   "metadata": {},
   "outputs": [],
   "source": [
    "# histogram of origin airports\n",
    "\n"
   ]
  },
  {
   "cell_type": "code",
   "execution_count": null,
   "metadata": {},
   "outputs": [],
   "source": [
    "# histogram of airlines\n",
    "\n"
   ]
  },
  {
   "cell_type": "code",
   "execution_count": null,
   "metadata": {},
   "outputs": [],
   "source": [
    "# histogram of origin airports\n",
    "\n"
   ]
  },
  {
   "cell_type": "code",
   "execution_count": null,
   "metadata": {},
   "outputs": [],
   "source": [
    "# check if our SQL query only kept rows that have `0` in diverted and `0` in cancelled\n",
    "# if rows exist where cancelled or diverted is equal to 1, that the sql query didn't work\n",
    "# print(df[df['diverted'] == \"1\"])\n",
    "\n",
    "# checking if we have null values (even before we clean)\n",
    "missing_rows_dep = df[df[\"dep_del15\"].isna()]\n",
    "print(len(missing_rows_dep))\n",
    "\n",
    "missing_rows_arr = df[df[\"arr_del15\"].isna()]\n",
    "print(len(missing_rows_arr))\n",
    "\n",
    "# df.dropna(subset=[\"arr_del15\", \"dep_del15\"], inplace=True)"
   ]
  },
  {
   "cell_type": "code",
   "execution_count": null,
   "metadata": {},
   "outputs": [],
   "source": [
    "df[\"delayed\"] = np.where((df[\"arr_del15\"] == '1') | (df[\"dep_del15\"] == \"1\"), 1, 0)\n",
    "\n",
    "# generate ratio for airline\n",
    "airline_delays = df.groupby(\"op_unique_carrier\")[\"delayed\"].mean()\n",
    "airline_delays.sort_values(inplace=True, ascending=False)\n",
    "\n",
    "airline_delays.plot.bar()"
   ]
  },
  {
   "cell_type": "code",
   "execution_count": null,
   "metadata": {},
   "outputs": [],
   "source": [
    "airport_delays = df.groupby(\"origin\")[\"delayed\"].mean()\n",
    "airport_delays.sort_values(inplace=True, ascending=False)\n",
    "airport_delays.plot.bar()"
   ]
  }
 ],
 "metadata": {
  "kernelspec": {
   "display_name": "Python 3",
   "language": "python",
   "name": "python3"
  },
  "language_info": {
   "codemirror_mode": {
    "name": "ipython",
    "version": 3
   },
   "file_extension": ".py",
   "mimetype": "text/x-python",
   "name": "python",
   "nbconvert_exporter": "python",
   "pygments_lexer": "ipython3",
   "version": "3.10.7 (tags/v3.10.7:6cc6b13, Sep  5 2022, 14:08:36) [MSC v.1933 64 bit (AMD64)]"
  },
  "orig_nbformat": 4,
  "vscode": {
   "interpreter": {
    "hash": "369f2c481f4da34e4445cda3fffd2e751bd1c4d706f27375911949ba6bb62e1c"
   }
  }
 },
 "nbformat": 4,
 "nbformat_minor": 2
}
