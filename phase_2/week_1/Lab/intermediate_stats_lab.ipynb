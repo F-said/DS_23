{
 "cells": [
  {
   "cell_type": "markdown",
   "metadata": {},
   "source": [
    "For this lab, you will complete the following questions below and submit this file within Google classroom.\n",
    "\n",
    "You will not be submitting through GitHub."
   ]
  },
  {
   "cell_type": "markdown",
   "metadata": {},
   "source": [
    "## Q1\n",
    "\n",
    "What does positive kurtosis indicate? \n",
    "\n",
    "Uncomment the line of code that contains the correct answer."
   ]
  },
  {
   "cell_type": "code",
   "execution_count": null,
   "metadata": {},
   "outputs": [],
   "source": [
    "# print(\"Thicker tails\")\n",
    "# print(\"Thinner tails\")\n",
    "# print(\"Higher peaks\")\n",
    "# print(\"Lower peaks\")"
   ]
  },
  {
   "cell_type": "markdown",
   "metadata": {},
   "source": [
    "## Q2\n",
    "\n",
    "What does negative kurtosis indicate? \n",
    "\n",
    "Uncomment the line of code that contains the correct answer."
   ]
  },
  {
   "cell_type": "code",
   "execution_count": null,
   "metadata": {},
   "outputs": [],
   "source": [
    "# print(\"Thicker tails\")\n",
    "# print(\"Thinner tails\")\n",
    "# print(\"Higher peaks\")\n",
    "# print(\"Lower peaks\")"
   ]
  },
  {
   "cell_type": "markdown",
   "metadata": {},
   "source": [
    "## Q3\n",
    "\n",
    "What do thicker peaks indicate about our dataset?\n",
    "\n",
    "Uncomment the line of code that contains the correct answer."
   ]
  },
  {
   "cell_type": "code",
   "execution_count": null,
   "metadata": {},
   "outputs": [],
   "source": [
    "# print(\"Outliers are less common\")\n",
    "# print(\"Outliers are more common\")\n",
    "# print(\"Our data is positively skewed\")\n",
    "# print(\"Our data is negatively skewed\")"
   ]
  },
  {
   "cell_type": "markdown",
   "metadata": {},
   "source": [
    "## Q4\n",
    "\n",
    "What do thinner peaks indicate about our dataset?\n",
    "\n",
    "Uncomment the line of code that contains the correct answer."
   ]
  },
  {
   "cell_type": "code",
   "execution_count": null,
   "metadata": {},
   "outputs": [],
   "source": [
    "# print(\"Outliers are less common\")\n",
    "# print(\"Outliers are more common\")\n",
    "# print(\"Our data is positively skewed\")\n",
    "# print(\"Our data is negatively skewed\")"
   ]
  },
  {
   "cell_type": "markdown",
   "metadata": {},
   "source": [
    "## Q5\n",
    "\n",
    "What does a negative skew coefficient indicate about our data?\n",
    "\n",
    "Uncomment the line of code that contains the correct answer."
   ]
  },
  {
   "cell_type": "code",
   "execution_count": null,
   "metadata": {},
   "outputs": [],
   "source": [
    "# print(\"Outliers are less common\")\n",
    "# print(\"Outliers are more common\")\n",
    "# print(\"Our data is positively skewed\")\n",
    "# print(\"Our data is negatively skewed\")"
   ]
  },
  {
   "cell_type": "markdown",
   "metadata": {},
   "source": [
    "## Q6\n",
    "\n",
    "What does a positive skew coefficient indicate about our data?\n",
    "\n",
    "Uncomment the line of code that contains the correct answer."
   ]
  },
  {
   "cell_type": "code",
   "execution_count": null,
   "metadata": {},
   "outputs": [],
   "source": [
    "# print(\"Outliers are less common\")\n",
    "# print(\"Outliers are more common\")\n",
    "# print(\"Our data is positively skewed\")\n",
    "# print(\"Our data is negatively skewed\")"
   ]
  },
  {
   "cell_type": "markdown",
   "metadata": {},
   "source": [
    "## Q7\n",
    "\n",
    "Is the graph below mesokurtic, leptokurtic, or platykurtic.\n",
    "\n",
    "![graph](https://user-images.githubusercontent.com/26397102/206329836-0040c266-8250-45ae-a278-4b59154fe9ee.png)\n",
    "\n",
    "Uncomment the line of code that contains the correct answer."
   ]
  },
  {
   "cell_type": "code",
   "execution_count": null,
   "metadata": {},
   "outputs": [],
   "source": [
    "# print(\"mesokurticn\")\n",
    "# print(\"leptokurtic\")\n",
    "# print(\"platykurtic\")"
   ]
  },
  {
   "cell_type": "markdown",
   "metadata": {},
   "source": [
    "## Q8\n",
    "\n",
    "Is the graph below mesokurtic, leptokurtic, or platykurtic.\n",
    "\n",
    "![kurtosis8 3](https://user-images.githubusercontent.com/26397102/206330057-4aded2cf-f870-4f04-a653-4acf2f36d9d0.png)\n",
    "\n",
    "Uncomment the line of code that contains the correct answer."
   ]
  },
  {
   "cell_type": "code",
   "execution_count": null,
   "metadata": {},
   "outputs": [],
   "source": [
    "# print(\"mesokurticn\")\n",
    "# print(\"leptokurtic\")\n",
    "# print(\"platykurtic\")"
   ]
  },
  {
   "cell_type": "markdown",
   "metadata": {},
   "source": [
    "## Q9\n",
    "\n",
    "Is the following experiment at risk for sampling bias?\n",
    "\n",
    "```\n",
    "A popular self-help blogger asks 100 if their followers if they feel like the internet has improved their lives. An overwhelming majority says \"yes\".\n",
    "```"
   ]
  },
  {
   "cell_type": "code",
   "execution_count": null,
   "metadata": {},
   "outputs": [],
   "source": [
    "#print(\"yes\")\n",
    "#print(\"no\")"
   ]
  },
  {
   "cell_type": "markdown",
   "metadata": {},
   "source": [
    "## Q10\n",
    "\n",
    "Is the following experiment at risk for sampling bias?\n",
    "\n",
    "```\n",
    "New Yorkers (across the state) are randomly called and asked if they own a dog.\n",
    "```"
   ]
  },
  {
   "cell_type": "code",
   "execution_count": null,
   "metadata": {},
   "outputs": [],
   "source": [
    "#print(\"yes\")\n",
    "#print(\"no\")"
   ]
  },
  {
   "cell_type": "markdown",
   "metadata": {},
   "source": [
    "We have a theory that people who were ever married tend to smoke.\n",
    "\n",
    "We have a data-set of individuals and their smoking status and marriage status.\n",
    "\n",
    "```\n",
    "| ever_married| smoking     |\n",
    "| ----------- | ----------- |\n",
    "| 1           | 0           |\n",
    "| 0           | 0           |\n",
    "| 1           | 1           |\n",
    "| 0           | 0           |\n",
    "| 0           | 0           |\n",
    "| 1           | 0           |\n",
    "...\n",
    "```\n",
    "\n",
    "For questions 11-13, answer the following questions regarding hypothesis, error, and p-value."
   ]
  },
  {
   "cell_type": "markdown",
   "metadata": {},
   "source": [
    "## Q11\n",
    "\n",
    "What is the null hypothesis of this experiment?\n",
    "\n"
   ]
  },
  {
   "cell_type": "markdown",
   "metadata": {},
   "source": [
    "## Q12\n",
    "\n",
    "What is the alternative hypothesis of this experiment?\n",
    "\n"
   ]
  },
  {
   "cell_type": "markdown",
   "metadata": {},
   "source": [
    "## Q13\n",
    "\n",
    "What kind of t-test should we do for this experiment?\n",
    "\n",
    "Uncomment the print function that is correct."
   ]
  },
  {
   "cell_type": "code",
   "execution_count": null,
   "metadata": {},
   "outputs": [],
   "source": [
    "# print(\"One Sample T-Test\")\n",
    "# print(\"Two Sample T-Test\")\n",
    "# print(\"Paired T-Test\")\n",
    "# print(\"Z-Test\")"
   ]
  },
  {
   "cell_type": "markdown",
   "metadata": {},
   "source": [
    "## Q14\n",
    "\n",
    "We get a p-value of 0.34 for this experiment. Is this significant? Do we reject the null hypothesis?\n",
    "\n"
   ]
  }
 ],
 "metadata": {
  "kernelspec": {
   "display_name": "Python 3.10.7 64-bit",
   "language": "python",
   "name": "python3"
  },
  "language_info": {
   "name": "python",
   "version": "3.10.7"
  },
  "orig_nbformat": 4,
  "vscode": {
   "interpreter": {
    "hash": "369f2c481f4da34e4445cda3fffd2e751bd1c4d706f27375911949ba6bb62e1c"
   }
  }
 },
 "nbformat": 4,
 "nbformat_minor": 2
}
