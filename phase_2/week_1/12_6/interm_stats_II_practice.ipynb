{
 "cells": [
  {
   "cell_type": "markdown",
   "metadata": {},
   "source": [
    "## Dark Mode vs Light Mode\n",
    "\n",
    "We have a theory that programmers who use \"dark-mode\" in VSCode are \"proficient\" programmers. There is actually no solid quantitative measure of \"proficiency\" in the real world, so we are just pretending like we are in a universe where proficiency is switched on \"1\" or off \"0\".\n",
    "\n",
    "We have a data-set that describes 300 programmers and their preference for VSCode & their proficiency:\n",
    "\n",
    "```\n",
    "| Mode        | Proficiency |\n",
    "| ----------- | ----------- |\n",
    "| 1           | 0           |\n",
    "| 0           | 0           |\n",
    "| 1           | 1           |\n",
    "| 0           | 0           |\n",
    "| 0           | 0           |\n",
    "| 1           | 0           |\n",
    "...\n",
    "```\n",
    "\n",
    "1 indicates that this programmer uses dark-mode, whereas 0 indicates that they use something else.\n",
    "\n",
    "For questions 1-5, answer the following questions regarding hypothesis, error, and p-value."
   ]
  },
  {
   "cell_type": "markdown",
   "metadata": {},
   "source": [
    "## Q1\n",
    "\n",
    "What is the null hypothesis of this experiment?\n",
    "\n"
   ]
  },
  {
   "cell_type": "markdown",
   "metadata": {},
   "source": [
    "## Q2\n",
    "\n",
    "What is the alternative hypothesis of this experiment?\n",
    "\n"
   ]
  },
  {
   "cell_type": "markdown",
   "metadata": {},
   "source": [
    "## Q3\n",
    "\n",
    "What kind of t-test should we do for this experiment?\n",
    "\n",
    "Uncomment the print function that is correct."
   ]
  },
  {
   "cell_type": "code",
   "execution_count": null,
   "metadata": {},
   "outputs": [],
   "source": [
    "# print(\"One Sample T-Test\")\n",
    "# print(\"Two Sample T-Test\")\n",
    "# print(\"Paired T-Test\")\n",
    "# print(\"Z-Test\")"
   ]
  },
  {
   "cell_type": "markdown",
   "metadata": {},
   "source": [
    "## Q4\n",
    "\n",
    "Observe the p-value of our t-test. Is this p-value significant using the standard of `< 0.05`?\n",
    "\n"
   ]
  },
  {
   "cell_type": "code",
   "execution_count": 1,
   "metadata": {},
   "outputs": [
    {
     "data": {
      "text/plain": [
       "Ttest_indResult(statistic=1.4213012031480512, pvalue=0.15627834517352188)"
      ]
     },
     "execution_count": 1,
     "metadata": {},
     "output_type": "execute_result"
    }
   ],
   "source": [
    "# this is pandas, notice the ease of loading a dataset\n",
    "import pandas as pd\n",
    "from scipy import stats\n",
    "\n",
    "df = pd.read_csv(\"..\\data\\darkmode.csv\")\n",
    "\n",
    "darkmode = df[df[\"Dark_Mode\"] == 1]\n",
    "nonmode = df[df[\"Dark_Mode\"] == 0]\n",
    "\n",
    "pro = darkmode[\"Proficiency\"].to_list()\n",
    "no_pro = nonmode[\"Proficiency\"].to_list()\n",
    "\n",
    "stats.ttest_ind(a=pro,b=no_pro)"
   ]
  },
  {
   "cell_type": "markdown",
   "metadata": {},
   "source": [
    "## Q5\n",
    "\n",
    "Based on this p-value, can we reject our null hypothesis?\n",
    "\n"
   ]
  },
  {
   "cell_type": "markdown",
   "metadata": {},
   "source": [
    "## Internet Vs Higher Education\n",
    "\n",
    "We have a theory that teenage students who have access to the internet also have aspirations in higher education. \n",
    "\n",
    "We have a dataset that contains ~400 students. There are two columns, one named `internet` and one named `higher`. There is a `1` in the column of `internet` to indicate that a student has access to internet at home and a `1` in `higher` to indicate that they have aspirations to pursue or a graduate or undergraduate degree.\n",
    "\n",
    "\n",
    "```\n",
    "| Internet    | Higher      |\n",
    "| ----------- | ----------- |\n",
    "| 1           | 0           |\n",
    "| 0           | 0           |\n",
    "| 1           | 1           |\n",
    "| 0           | 0           |\n",
    "| 0           | 0           |\n",
    "| 1           | 0           |\n",
    "...\n",
    "```\n",
    "\n",
    "Alternatively 0 indicates that they do not have access to the internet at home, and 0 in `higher` indicates that the student, at time of survey, does not want to pursue higher education.\n",
    "\n",
    "For questions 5-10, answer the following questions regarding hypothesis, error, and p-value."
   ]
  },
  {
   "cell_type": "markdown",
   "metadata": {},
   "source": [
    "## Q6\n",
    "\n",
    "What is the null hypothesis of this experiment?\n",
    "\n"
   ]
  },
  {
   "cell_type": "markdown",
   "metadata": {},
   "source": [
    "## Q7\n",
    "\n",
    "What is the alternative hypothesis of this experiment?\n",
    "\n"
   ]
  },
  {
   "cell_type": "markdown",
   "metadata": {},
   "source": [
    "## Q8\n",
    "\n",
    "What kind of t-test should we do for this experiment?\n",
    "\n",
    "Uncomment the print function that is correct."
   ]
  },
  {
   "cell_type": "code",
   "execution_count": null,
   "metadata": {},
   "outputs": [],
   "source": [
    "# print(\"One Sample T-Test\")\n",
    "# print(\"Two Sample T-Test\")\n",
    "# print(\"Paired T-Test\")\n",
    "# print(\"Z-Test\")"
   ]
  },
  {
   "cell_type": "markdown",
   "metadata": {},
   "source": [
    "## Q9\n",
    "\n",
    "Observe the p-value of our t-test. Is this p-value significant using the standard of `< 0.05`?\n",
    "\n"
   ]
  },
  {
   "cell_type": "code",
   "execution_count": 2,
   "metadata": {},
   "outputs": [
    {
     "data": {
      "text/plain": [
       "Ttest_indResult(statistic=0.4377396393753095, pvalue=0.6618155052902192)"
      ]
     },
     "execution_count": 2,
     "metadata": {},
     "output_type": "execute_result"
    }
   ],
   "source": [
    "# this is pandas, notice the ease of loading a dataset\n",
    "import pandas as pd\n",
    "from scipy import stats\n",
    "\n",
    "df = pd.read_csv(\"..\\data\\internet_higher.csv\")\n",
    "\n",
    "inter = df[df[\"internet\"] == 1]\n",
    "no_inter = df[df[\"internet\"] == 0]\n",
    "\n",
    "higher = inter[\"higher\"].to_list()\n",
    "no_higher = no_inter[\"higher\"].to_list()\n",
    "\n",
    "stats.ttest_ind(a=higher,b=no_higher)"
   ]
  },
  {
   "cell_type": "markdown",
   "metadata": {},
   "source": [
    "## Q10\n",
    "\n",
    "Based on this p-value, can we reject our null hypothesis?\n",
    "\n"
   ]
  }
 ],
 "metadata": {
  "kernelspec": {
   "display_name": "Python 3.10.7 64-bit",
   "language": "python",
   "name": "python3"
  },
  "language_info": {
   "codemirror_mode": {
    "name": "ipython",
    "version": 3
   },
   "file_extension": ".py",
   "mimetype": "text/x-python",
   "name": "python",
   "nbconvert_exporter": "python",
   "pygments_lexer": "ipython3",
   "version": "3.10.7"
  },
  "orig_nbformat": 4,
  "vscode": {
   "interpreter": {
    "hash": "369f2c481f4da34e4445cda3fffd2e751bd1c4d706f27375911949ba6bb62e1c"
   }
  }
 },
 "nbformat": 4,
 "nbformat_minor": 2
}
