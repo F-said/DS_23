{
 "cells": [
  {
   "cell_type": "markdown",
   "metadata": {},
   "source": [
    "## Practice\n",
    "\n",
    "Given two strings ransomNote and magazine, return true if ransomNote can be constructed by using the letters from magazine and false otherwise.\n",
    "\n",
    "Each letter in magazine can only be used once in ransomNote.\n",
    "\n",
    "Example 1:\n",
    "```\n",
    "Input: ransomNote = \"a\", magazine = \"b\"\n",
    "Output: false\n",
    "```\n",
    "\n",
    "Example 2:\n",
    "```\n",
    "Input: ransomNote = \"aa\", magazine = \"ab\"\n",
    "Output: false\n",
    "```\n",
    "\n",
    "Example 3:\n",
    "```\n",
    "Input: ransomNote = \"aa\", magazine = \"aab\"\n",
    "Output: true\n",
    "```\n",
    "\n",
    "Submit your solution here: https://leetcode.com/problems/ransom-note/. "
   ]
  },
  {
   "cell_type": "code",
   "execution_count": null,
   "metadata": {},
   "outputs": [],
   "source": []
  },
  {
   "cell_type": "code",
   "execution_count": 10,
   "metadata": {},
   "outputs": [
    {
     "data": {
      "text/plain": [
       "Ttest_indResult(statistic=-3.0485483228916337, pvalue=0.0023219706294614188)"
      ]
     },
     "execution_count": 10,
     "metadata": {},
     "output_type": "execute_result"
    }
   ],
   "source": [
    "from scipy import stats\n",
    "import pandas as pd\n",
    "\n",
    "df = pd.read_csv(\"..\\data\\healthcare-dataset-stroke-data.csv\")\n",
    "\n",
    "smoke = df[df[\"smoking_status\"] == 1]\n",
    "non_smoke = df[df[\"smoking_status\"] == 0]\n",
    "\n",
    "non_smoke_s = non_smoke[\"stroke\"].to_list()\n",
    "smoke_s = smoke[\"stroke\"].to_list()\n",
    "\n",
    "non_smoke_d = non_smoke[\"heart_disease\"].to_list()\n",
    "smoke_d = smoke[\"heart_disease\"].to_list()\n",
    "\n",
    "stats.ttest_ind(a=non_smoke_d,b=smoke_d)\n",
    "#stats.ttest_ind(a=non_smoke_s,b=smoke_s)"
   ]
  }
 ],
 "metadata": {
  "kernelspec": {
   "display_name": "Python 3.10.7 64-bit",
   "language": "python",
   "name": "python3"
  },
  "language_info": {
   "codemirror_mode": {
    "name": "ipython",
    "version": 3
   },
   "file_extension": ".py",
   "mimetype": "text/x-python",
   "name": "python",
   "nbconvert_exporter": "python",
   "pygments_lexer": "ipython3",
   "version": "3.10.7"
  },
  "orig_nbformat": 4,
  "vscode": {
   "interpreter": {
    "hash": "369f2c481f4da34e4445cda3fffd2e751bd1c4d706f27375911949ba6bb62e1c"
   }
  }
 },
 "nbformat": 4,
 "nbformat_minor": 2
}
