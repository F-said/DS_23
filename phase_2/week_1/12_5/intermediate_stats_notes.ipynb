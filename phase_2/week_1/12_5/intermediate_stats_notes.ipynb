{
 "cells": [
  {
   "cell_type": "markdown",
   "metadata": {},
   "source": [
    "## Phase 2 Beginning\n",
    "\n",
    "Focus on technology stack, while sharpening thinking.\n",
    "1 lab a week \n",
    "1 final project & 1 assessment\n",
    "\n",
    "December: Stats & Pandas\n",
    "January: Pandas & SQL\n",
    "February: Visualizations & EOP Project\n"
   ]
  },
  {
   "cell_type": "markdown",
   "metadata": {},
   "source": [
    "## Today\n",
    "\n",
    "First Half\n",
    "* Individual Coding Exercise\n",
    "* Hypothesis Testing\n",
    "* Error & Confidence\n",
    "Break (30 Mins)\n",
    "Second Half\n",
    "* Group Coding Exercise\n",
    "Post Session (Optional): Review of Final Project\n"
   ]
  },
  {
   "cell_type": "markdown",
   "metadata": {},
   "source": [
    "## Coding Challenge\n",
    "\n",
    "You are given a large sample of integers in the range [0, 255]. Since the sample is so large, it is represented by an array count where count[k] is the number of times that k appears in the sample.\n",
    "\n",
    "Calculate the following statistics:\n",
    "\n",
    "minimum: The minimum element in the sample.\n",
    "maximum: The maximum element in the sample.\n",
    "mean: The average of the sample, calculated as the total sum of all elements divided by the total number of elements.\n",
    "median:\n",
    "If the sample has an odd number of elements, then the median is the middle element once the sample is sorted.\n",
    "If the sample has an even number of elements, then the median is the average of the two middle elements once the sample is sorted.\n",
    "mode: The number that appears the most in the sample. It is guaranteed to be unique.\n",
    "Return the statistics of the sample as an array of floating-point numbers [minimum, maximum, mean, median, mode]. Answers within 10-5 of the actual answer will be accepted.\n",
    "\n",
    " \n",
    "Example 1:\n",
    "```\n",
    "Input: count = [0,1,3,4,0,0,0,0,0,0,0,0,0,0,0,0,0,0,0,0,0,0,0,0,0,0,0,0,0,0,0,0,0,0,0,0,0,0,0,0,0,0,0,0,0,0,0,0,0,0,0,0,0,0,0,0,0,0,0,0,0,0,0,0,0,0,0,0,0,0,0,0,0,0,0,0,0,0,0,0,0,0,0,0,0,0,0,0,0,0,0,0,0,0,0,0,0,0,0,0,0,0,0,0,0,0,0,0,0,0,0,0,0,0,0,0,0,0,0,0,0,0,0,0,0,0,0,0,0,0,0,0,0,0,0,0,0,0,0,0,0,0,0,0,0,0,0,0,0,0,0,0,0,0,0,0,0,0,0,0,0,0,0,0,0,0,0,0,0,0,0,0,0,0,0,0,0,0,0,0,0,0,0,0,0,0,0,0,0,0,0,0,0,0,0,0,0,0,0,0,0,0,0,0,0,0,0,0,0,0,0,0,0,0,0,0,0,0,0,0,0,0,0,0,0,0,0,0,0,0,0,0,0,0,0,0,0,0,0,0,0,0,0,0,0,0,0,0,0,0,0,0,0,0,0,0]\n",
    "Output: [1.00000,3.00000,2.37500,2.50000,3.00000]\n",
    "Explanation: The sample represented by count is [1,2,2,2,3,3,3,3].\n",
    "The minimum and maximum are 1 and 3 respectively.\n",
    "The mean is (1+2+2+2+3+3+3+3) / 8 = 19 / 8 = 2.375.\n",
    "Since the size of the sample is even, the median is the average of the two middle elements 2 and 3, which is 2.5.\n",
    "The mode is 3 as it appears the most in the sample.\n",
    "```\n",
    "\n",
    "Example 2:\n",
    "```\n",
    "Input: count = [0,4,3,2,2,0,0,0,0,0,0,0,0,0,0,0,0,0,0,0,0,0,0,0,0,0,0,0,0,0,0,0,0,0,0,0,0,0,0,0,0,0,0,0,0,0,0,0,0,0,0,0,0,0,0,0,0,0,0,0,0,0,0,0,0,0,0,0,0,0,0,0,0,0,0,0,0,0,0,0,0,0,0,0,0,0,0,0,0,0,0,0,0,0,0,0,0,0,0,0,0,0,0,0,0,0,0,0,0,0,0,0,0,0,0,0,0,0,0,0,0,0,0,0,0,0,0,0,0,0,0,0,0,0,0,0,0,0,0,0,0,0,0,0,0,0,0,0,0,0,0,0,0,0,0,0,0,0,0,0,0,0,0,0,0,0,0,0,0,0,0,0,0,0,0,0,0,0,0,0,0,0,0,0,0,0,0,0,0,0,0,0,0,0,0,0,0,0,0,0,0,0,0,0,0,0,0,0,0,0,0,0,0,0,0,0,0,0,0,0,0,0,0,0,0,0,0,0,0,0,0,0,0,0,0,0,0,0,0,0,0,0,0,0,0,0,0,0,0,0,0,0,0,0,0,0]\n",
    "Output: [1.00000,4.00000,2.18182,2.00000,1.00000]\n",
    "Explanation: The sample represented by count is [1,1,1,1,2,2,2,3,3,4,4].\n",
    "The minimum and maximum are 1 and 4 respectively.\n",
    "The mean is (1+1+1+1+2+2+2+3+3+4+4) / 11 = 24 / 11 = 2.18181818... (for display purposes, the output shows the rounded number 2.18182).\n",
    "Since the size of the sample is odd, the median is the middle element 2.\n",
    "The mode is 1 as it appears the most in the sample.\n",
    "```\n",
    "\n",
    "Submit your solution at https://leetcode.com/problems/statistics-from-a-large-sample/. "
   ]
  },
  {
   "cell_type": "markdown",
   "metadata": {},
   "source": [
    "## Hypothesis Framework\n",
    "\n",
    "How do we objectively measure the validity of a claim.\n",
    "We go through the hypothesis testing framework.\n",
    "\n",
    "1. Establish a dataset or experiment.\n",
    "2. Establish a claim to deny (null hypothesis) and its opposite (alt hypothesis)\n",
    "3. Compute critical values\n",
    "4. Accept or reject null hypothesis using results"
   ]
  },
  {
   "cell_type": "markdown",
   "metadata": {},
   "source": [
    "## Dataset\n",
    "\n",
    "Since we are not academic researchers, we are not really interested in the process of designing experiments.\n",
    "Instead we collect data either through API’s, web scraping, or through directly downloading your dataset.\n",
    "\n",
    "We get our data from kaggle: https://www.kaggle.com/datasets/fedesoriano/stroke-prediction-dataset \n",
    "\n",
    "We must establish our hypothesis to prevent making observations after-the-fact.\n",
    "We clearly and succinctly make a target and then conduct the experiment.\n",
    "And if it misses, we honestly assess our results. It also gives us reference for future attempts"
   ]
  },
  {
   "cell_type": "markdown",
   "metadata": {},
   "source": [
    "## Hypothesis \n",
    "\n",
    "In this example with smoking:\n",
    "\n",
    "H0: There is no significant difference between someone who smokes and doesn’t smoke in terms of heart health.\n",
    "\n",
    "H1: There is a higher chance of stroke when someone smokes\n",
    "\n",
    "Notice how science operates. We are not saying you are 100% going to die of stroke if you smoke.\n",
    "\n",
    "Instead we state, we cannot discount the fact that people who smoke have a higher chance of stroke.\n",
    "\n"
   ]
  },
  {
   "cell_type": "markdown",
   "metadata": {},
   "source": [
    "## P Value\n",
    "\n",
    "What are our critical values?\n",
    "\n",
    "We calculate something called “p-value”, something that measures “the probability of deducing the observed value, given the assumption.”\n",
    "\n",
    "If we want to reject the null hypothesis, less than 5% of our data can be accounted for by the null hypothesis. (0.05).\n"
   ]
  },
  {
   "cell_type": "code",
   "execution_count": null,
   "metadata": {},
   "outputs": [
    {
     "data": {
      "text/plain": [
       "Ttest_indResult(statistic=25.147540860291134, pvalue=5.2082782602362816e-132)"
      ]
     },
     "execution_count": 1,
     "metadata": {},
     "output_type": "execute_result"
    }
   ],
   "source": [
    "from scipy import stats\n",
    "import pandas as pd\n",
    "\n",
    "df = pd.read_csv(\"data\\healthcare-dataset-stroke-data.csv\")\n",
    "\n",
    "stats.ttest_ind(df[\"smoking_status\"],df[\"stroke\"])\n"
   ]
  },
  {
   "cell_type": "markdown",
   "metadata": {},
   "source": [
    "When running \n",
    "```\n",
    "stats.ttest_ind(df[\"smoking_status\"],df[\"stroke\"])\n",
    "```\n",
    "\n",
    "\n",
    "We see a value of “5.2082782602362816e-132”. This means that the chances that smoking and not getting a stroke is 0.00..000132%.\n",
    "\n",
    "We reject the null hypothesis for anything less than 0.05. The lower the better."
   ]
  },
  {
   "cell_type": "code",
   "execution_count": 8,
   "metadata": {},
   "outputs": [
    {
     "name": "stdout",
     "output_type": "stream",
     "text": [
      "0.04756871035940803\n",
      "0.21290816533928492\n",
      "1892\n"
     ]
    },
    {
     "data": {
      "image/png": "[encoded data removed]",
      "text/plain": [
       "<Figure size 432x288 with 1 Axes>"
      ]
     },
     "metadata": {
      "needs_background": "light"
     },
     "output_type": "display_data"
    }
   ],
   "source": [
    "import pandas as pd\n",
    "import statistics as stat\n",
    "\n",
    "df = pd.read_csv(\"..\\data\\healthcare-dataset-stroke-data.csv\")\n",
    "\n",
    "smoke = df[df[\"smoking_status\"] == 1]\n",
    "non_smoke = df[df[\"smoking_status\"] == 0]\n",
    "\n",
    "non_smoke[\"stroke\"].plot.hist(ylim=(0,1750))\n",
    "non_smoke = non_smoke[\"stroke\"].to_list()\n",
    "\n",
    "# get avg\n",
    "print(stat.mean(non_smoke))\n",
    "\n",
    "# get stdev\n",
    "print(stat.stdev(non_smoke))\n",
    "\n",
    "# get sample size\n",
    "print(len(non_smoke))\n"
   ]
  },
  {
   "cell_type": "code",
   "execution_count": 10,
   "metadata": {},
   "outputs": [
    {
     "name": "stdout",
     "output_type": "stream",
     "text": [
      "0.053231939163498096\n",
      "0.22463805788347901\n",
      "789\n"
     ]
    },
    {
     "data": {
      "image/png": "[encoded data removed]",
      "text/plain": [
       "<Figure size 432x288 with 1 Axes>"
      ]
     },
     "metadata": {
      "needs_background": "light"
     },
     "output_type": "display_data"
    }
   ],
   "source": [
    "smoke[\"stroke\"].plot.hist(ylim=(0,1750))\n",
    "\n",
    "smoke = smoke[\"stroke\"].to_list()\n",
    "\n",
    "# get avg\n",
    "print(stat.mean(smoke))\n",
    "\n",
    "# get stdev\n",
    "print(stat.stdev(smoke))\n",
    "\n",
    "# get sample size\n",
    "print(len(smoke))"
   ]
  }
 ],
 "metadata": {
  "kernelspec": {
   "display_name": "Python 3.10.7 64-bit",
   "language": "python",
   "name": "python3"
  },
  "language_info": {
   "codemirror_mode": {
    "name": "ipython",
    "version": 3
   },
   "file_extension": ".py",
   "mimetype": "text/x-python",
   "name": "python",
   "nbconvert_exporter": "python",
   "pygments_lexer": "ipython3",
   "version": "3.10.7"
  },
  "orig_nbformat": 4,
  "vscode": {
   "interpreter": {
    "hash": "369f2c481f4da34e4445cda3fffd2e751bd1c4d706f27375911949ba6bb62e1c"
   }
  }
 },
 "nbformat": 4,
 "nbformat_minor": 2
}
