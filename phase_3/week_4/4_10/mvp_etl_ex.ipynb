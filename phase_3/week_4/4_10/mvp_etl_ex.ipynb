{
 "cells": [
  {
   "attachments": {},
   "cell_type": "markdown",
   "metadata": {},
   "source": [
    "## Prediction\n",
    "\n",
    "Predict salary based on skills, remote, & schedule:"
   ]
  },
  {
   "cell_type": "code",
   "execution_count": 8,
   "metadata": {},
   "outputs": [],
   "source": [
    "import pandas as pd\n",
    "\n",
    "encode_df = pd.read_csv(\"../data/no_outliers.csv\")\n"
   ]
  },
  {
   "cell_type": "code",
   "execution_count": 10,
   "metadata": {},
   "outputs": [
    {
     "data": {
      "text/plain": [
       "0.02515205402166021"
      ]
     },
     "execution_count": 10,
     "metadata": {},
     "output_type": "execute_result"
    }
   ],
   "source": [
    "from sklearn.linear_model import LinearRegression\n",
    "\n",
    "\n",
    "target = encode_df[\"salary_standardized\"]\n",
    "\n",
    "train = encode_df[[\"sql\", \"python\", \"tableau\"]]\n",
    "\n",
    "reg = LinearRegression()\n",
    "reg.fit(train, target)\n",
    "reg.score(train, target)"
   ]
  },
  {
   "cell_type": "code",
   "execution_count": 13,
   "metadata": {},
   "outputs": [
    {
     "name": "stdout",
     "output_type": "stream",
     "text": [
      "sql: 6897.3006160903\n",
      "python: 3613.7788644703\n",
      "tableau: 923.9173917545\n",
      "r: 6292.8514464853\n",
      "github: 15966.4802151622\n",
      "work_from_home: -6953.8520011654\n",
      "excel: -10102.3508051704\n",
      "word: -8221.8171013997\n",
      "azure: 13388.1246568995\n"
     ]
    }
   ],
   "source": [
    "\n",
    "for i, name in enumerate(train.columns):\n",
    "    print(name, end=\": \")\n",
    "    print(round(reg.coef_[i], 10))\n"
   ]
  },
  {
   "attachments": {},
   "cell_type": "markdown",
   "metadata": {},
   "source": [
    "## P-value of coeff"
   ]
  },
  {
   "cell_type": "code",
   "execution_count": 12,
   "metadata": {},
   "outputs": [
    {
     "name": "stdout",
     "output_type": "stream",
     "text": [
      "sql: 0.0\n",
      "python: 1.4928e-06\n",
      "tableau: 1.37019e-05\n",
      "r: 6.397e-06\n",
      "github: 0.1280839067\n",
      "work_from_home: 1.08e-08\n",
      "excel: 6.9533e-06\n",
      "word: 5.52112e-05\n",
      "azure: 0.000140316\n"
     ]
    }
   ],
   "source": [
    "from sklearn.feature_selection import f_regression\n",
    "\n",
    "freg=f_regression(train,target)\n",
    "\n",
    "for i, name in enumerate(train.columns):\n",
    "    print(name, end=\": \")\n",
    "    print(round(freg[1][i], 10))"
   ]
  }
 ],
 "metadata": {
  "kernelspec": {
   "display_name": "Python 3",
   "language": "python",
   "name": "python3"
  },
  "language_info": {
   "codemirror_mode": {
    "name": "ipython",
    "version": 3
   },
   "file_extension": ".py",
   "mimetype": "text/x-python",
   "name": "python",
   "nbconvert_exporter": "python",
   "pygments_lexer": "ipython3",
   "version": "3.10.7"
  },
  "orig_nbformat": 4
 },
 "nbformat": 4,
 "nbformat_minor": 2
}
