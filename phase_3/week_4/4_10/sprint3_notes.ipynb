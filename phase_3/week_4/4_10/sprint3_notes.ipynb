{
 "cells": [
  {
   "attachments": {},
   "cell_type": "markdown",
   "metadata": {},
   "source": [
    "## Revisiting Regression\n",
    "\n",
    "Predicting the future is hard. However, the theory that all statisticians get behind is that there are domains that can be mathematically represented with some degree of error.\n",
    "\n",
    "Noise: general term for unwanted (and, in general, unknown) modifications\n",
    "\n",
    "When we create statistical learning models, our aim is to find a signal (pattern) in the noise of data.\n",
    "\n",
    "However, the model is less likely to find a pattern if our data is too noisy (i.e. too many outliers, non-normalized data, etc)"
   ]
  },
  {
   "attachments": {},
   "cell_type": "markdown",
   "metadata": {},
   "source": [
    "## P-Value of Coefficients \n",
    "\n",
    "We want to observe p-values after fitting a regression model.\n",
    "\n",
    "In most statistical languages, OLS linear regression by default calculates:\n",
    "* Coefficient \n",
    "* Hypothesis test score\n",
    "* Corresponding p-value\n",
    "\n",
    "Python unfortunately isn’t one of these statistical languages.\n",
    "\n",
    "We therefore utilize an additional `f_regression` model to calculate p-values."
   ]
  },
  {
   "cell_type": "code",
   "execution_count": 134,
   "metadata": {},
   "outputs": [
    {
     "name": "stdout",
     "output_type": "stream",
     "text": [
      "tot_likes: 0.2308899416\n",
      "paid: 0.0055001587\n",
      "tot_reach: 0.0\n",
      "tot_impressions: 1.0464e-06\n",
      "engaged_users: 0.0\n",
      "post_consumers: 0.0\n",
      "post_consumptions: 4.9916e-06\n",
      "tot_impressions_from_like: 0.000272014\n",
      "tot_reach_from_like: 0.0\n",
      "tot_engage_from_like: 0.0\n",
      "comments: 0.0\n",
      "likes: 0.0\n",
      "shares: 0.0\n"
     ]
    },
    {
     "name": "stderr",
     "output_type": "stream",
     "text": [
      "C:\\Users\\saidmf\\AppData\\Local\\Temp\\ipykernel_23180\\4117073308.py:27: SettingWithCopyWarning: \n",
      "A value is trying to be set on a copy of a slice from a DataFrame\n",
      "\n",
      "See the caveats in the documentation: https://pandas.pydata.org/pandas-docs/stable/user_guide/indexing.html#returning-a-view-versus-a-copy\n",
      "  fbdf_clean_log.dropna(inplace=True)\n"
     ]
    }
   ],
   "source": [
    "from sklearn.feature_selection import f_regression\n",
    "import pandas as pd\n",
    "import numpy as np\n",
    "from scipy import stats\n",
    "\n",
    "## EXTRACT\n",
    "# load data\n",
    "fbdf = pd.read_csv(\"../data/dataset_Facebook.csv\")\n",
    "\n",
    "## TRANSFORM\n",
    "# drop unneeded columns & rename\n",
    "fbdf_clean = fbdf.drop(labels=[\"Type\", \"Category\", \"Post Month\", \"Post Weekday\", \"Post Hour\"], axis=1)\n",
    "fbdf_clean.columns = [\"tot_likes\", \"paid\", \"tot_reach\", \"tot_impressions\", \"engaged_users\", \"post_consumers\", \"post_consumptions\", \n",
    "                      \"tot_impressions_from_like\", \"tot_reach_from_like\", \"tot_engage_from_like\", \"comments\", \"likes\", \"shares\", \"interactions\"]\n",
    "\n",
    "# remove data past 3 z-scores for the target variable\n",
    "fbdf_clean = fbdf_clean[(np.abs(stats.zscore(fbdf_clean[\"interactions\"])) < 3)]\n",
    "\n",
    "# log-normalize data\n",
    "fbdf_clean_log = fbdf_clean\n",
    "fbdf_clean_log.loc[:, \"interactions\"] = fbdf_clean_log[\"interactions\"].apply(lambda x: np.log(x))\n",
    "\n",
    "# remove infinites\n",
    "fbdf_clean_log = fbdf_clean_log[np.isfinite(fbdf_clean_log[\"interactions\"])]\n",
    "\n",
    "# remove nulls\n",
    "fbdf_clean_log.dropna(inplace=True)\n",
    "\n",
    "## LOAD???\n",
    "# maybe save data back here \n",
    "\n",
    "## CDA !\n",
    "X_cols = list(fbdf_clean_log.columns)\n",
    "X_cols.remove(\"interactions\")\n",
    "\n",
    "X = fbdf_clean_log[X_cols]\n",
    "y = fbdf_clean_log[\"interactions\"]\n",
    "\n",
    "freg=f_regression(X,y)\n",
    "\n",
    "for i, name in enumerate(X.columns):\n",
    "    print(name, end=\": \")\n",
    "    print(round(freg[1][i], 10))"
   ]
  },
  {
   "attachments": {},
   "cell_type": "markdown",
   "metadata": {},
   "source": [
    "For each coefficient that we predict, our OLS model does a hypothesis test:\n",
    "\n",
    "* Essentially boils down to a one-sample t-test\n",
    "  * What are the features of a one-sample t-test?\n",
    "* Null Hypothesis: Coefficient is 0 (features is not a good predictor)\n",
    "* Alt Hypothesis:  Coefficient is predicted value\n",
    "* The calculation of this score isn’t as important as the utility, unless you have a Master’s in statistics and are hired to interpret statistical measures. \n",
    "  * (Coefficient slope - null hypothesis slope)/ standard error\n",
    "\n",
    "* We look to remove features whose p-value is >= 0.05"
   ]
  },
  {
   "cell_type": "code",
   "execution_count": 20,
   "metadata": {},
   "outputs": [
    {
     "data": {
      "text/html": [
       "<div>\n",
       "<style scoped>\n",
       "    .dataframe tbody tr th:only-of-type {\n",
       "        vertical-align: middle;\n",
       "    }\n",
       "\n",
       "    .dataframe tbody tr th {\n",
       "        vertical-align: top;\n",
       "    }\n",
       "\n",
       "    .dataframe thead th {\n",
       "        text-align: right;\n",
       "    }\n",
       "</style>\n",
       "<table border=\"1\" class=\"dataframe\">\n",
       "  <thead>\n",
       "    <tr style=\"text-align: right;\">\n",
       "      <th></th>\n",
       "      <th>No</th>\n",
       "      <th>X1 transaction date</th>\n",
       "      <th>X2 house age</th>\n",
       "      <th>X3 distance to the nearest MRT station</th>\n",
       "      <th>X4 number of convenience stores</th>\n",
       "      <th>X5 latitude</th>\n",
       "      <th>X6 longitude</th>\n",
       "      <th>Y house price of unit area</th>\n",
       "    </tr>\n",
       "  </thead>\n",
       "  <tbody>\n",
       "    <tr>\n",
       "      <th>0</th>\n",
       "      <td>1</td>\n",
       "      <td>2012.917</td>\n",
       "      <td>32.0</td>\n",
       "      <td>84.87882</td>\n",
       "      <td>10</td>\n",
       "      <td>24.98298</td>\n",
       "      <td>121.54024</td>\n",
       "      <td>37.9</td>\n",
       "    </tr>\n",
       "    <tr>\n",
       "      <th>1</th>\n",
       "      <td>2</td>\n",
       "      <td>2012.917</td>\n",
       "      <td>19.5</td>\n",
       "      <td>306.59470</td>\n",
       "      <td>9</td>\n",
       "      <td>24.98034</td>\n",
       "      <td>121.53951</td>\n",
       "      <td>42.2</td>\n",
       "    </tr>\n",
       "    <tr>\n",
       "      <th>2</th>\n",
       "      <td>3</td>\n",
       "      <td>2013.583</td>\n",
       "      <td>13.3</td>\n",
       "      <td>561.98450</td>\n",
       "      <td>5</td>\n",
       "      <td>24.98746</td>\n",
       "      <td>121.54391</td>\n",
       "      <td>47.3</td>\n",
       "    </tr>\n",
       "    <tr>\n",
       "      <th>3</th>\n",
       "      <td>4</td>\n",
       "      <td>2013.500</td>\n",
       "      <td>13.3</td>\n",
       "      <td>561.98450</td>\n",
       "      <td>5</td>\n",
       "      <td>24.98746</td>\n",
       "      <td>121.54391</td>\n",
       "      <td>54.8</td>\n",
       "    </tr>\n",
       "    <tr>\n",
       "      <th>4</th>\n",
       "      <td>5</td>\n",
       "      <td>2012.833</td>\n",
       "      <td>5.0</td>\n",
       "      <td>390.56840</td>\n",
       "      <td>5</td>\n",
       "      <td>24.97937</td>\n",
       "      <td>121.54245</td>\n",
       "      <td>43.1</td>\n",
       "    </tr>\n",
       "  </tbody>\n",
       "</table>\n",
       "</div>"
      ],
      "text/plain": [
       "   No  X1 transaction date  X2 house age  \\\n",
       "0   1             2012.917          32.0   \n",
       "1   2             2012.917          19.5   \n",
       "2   3             2013.583          13.3   \n",
       "3   4             2013.500          13.3   \n",
       "4   5             2012.833           5.0   \n",
       "\n",
       "   X3 distance to the nearest MRT station  X4 number of convenience stores  \\\n",
       "0                                84.87882                               10   \n",
       "1                               306.59470                                9   \n",
       "2                               561.98450                                5   \n",
       "3                               561.98450                                5   \n",
       "4                               390.56840                                5   \n",
       "\n",
       "   X5 latitude  X6 longitude  Y house price of unit area  \n",
       "0     24.98298     121.54024                        37.9  \n",
       "1     24.98034     121.53951                        42.2  \n",
       "2     24.98746     121.54391                        47.3  \n",
       "3     24.98746     121.54391                        54.8  \n",
       "4     24.97937     121.54245                        43.1  "
      ]
     },
     "execution_count": 20,
     "metadata": {},
     "output_type": "execute_result"
    }
   ],
   "source": [
    "import pandas as pd\n",
    "\n",
    "estate = pd.read_csv(\"../data/realestate.csv\")\n",
    "\n",
    "estate.head()"
   ]
  },
  {
   "cell_type": "code",
   "execution_count": 21,
   "metadata": {},
   "outputs": [
    {
     "data": {
      "text/html": [
       "<div>\n",
       "<style scoped>\n",
       "    .dataframe tbody tr th:only-of-type {\n",
       "        vertical-align: middle;\n",
       "    }\n",
       "\n",
       "    .dataframe tbody tr th {\n",
       "        vertical-align: top;\n",
       "    }\n",
       "\n",
       "    .dataframe thead th {\n",
       "        text-align: right;\n",
       "    }\n",
       "</style>\n",
       "<table border=\"1\" class=\"dataframe\">\n",
       "  <thead>\n",
       "    <tr style=\"text-align: right;\">\n",
       "      <th></th>\n",
       "      <th>id</th>\n",
       "      <th>age</th>\n",
       "      <th>distance_to_mrt</th>\n",
       "      <th>conv_stores</th>\n",
       "      <th>price_unit_area</th>\n",
       "    </tr>\n",
       "  </thead>\n",
       "  <tbody>\n",
       "    <tr>\n",
       "      <th>0</th>\n",
       "      <td>1</td>\n",
       "      <td>32.0</td>\n",
       "      <td>84.87882</td>\n",
       "      <td>10</td>\n",
       "      <td>37.9</td>\n",
       "    </tr>\n",
       "    <tr>\n",
       "      <th>1</th>\n",
       "      <td>2</td>\n",
       "      <td>19.5</td>\n",
       "      <td>306.59470</td>\n",
       "      <td>9</td>\n",
       "      <td>42.2</td>\n",
       "    </tr>\n",
       "    <tr>\n",
       "      <th>2</th>\n",
       "      <td>3</td>\n",
       "      <td>13.3</td>\n",
       "      <td>561.98450</td>\n",
       "      <td>5</td>\n",
       "      <td>47.3</td>\n",
       "    </tr>\n",
       "    <tr>\n",
       "      <th>3</th>\n",
       "      <td>4</td>\n",
       "      <td>13.3</td>\n",
       "      <td>561.98450</td>\n",
       "      <td>5</td>\n",
       "      <td>54.8</td>\n",
       "    </tr>\n",
       "    <tr>\n",
       "      <th>4</th>\n",
       "      <td>5</td>\n",
       "      <td>5.0</td>\n",
       "      <td>390.56840</td>\n",
       "      <td>5</td>\n",
       "      <td>43.1</td>\n",
       "    </tr>\n",
       "  </tbody>\n",
       "</table>\n",
       "</div>"
      ],
      "text/plain": [
       "   id   age  distance_to_mrt  conv_stores  price_unit_area\n",
       "0   1  32.0         84.87882           10             37.9\n",
       "1   2  19.5        306.59470            9             42.2\n",
       "2   3  13.3        561.98450            5             47.3\n",
       "3   4  13.3        561.98450            5             54.8\n",
       "4   5   5.0        390.56840            5             43.1"
      ]
     },
     "execution_count": 21,
     "metadata": {},
     "output_type": "execute_result"
    }
   ],
   "source": [
    "estate_clean = estate.drop(labels=[\"X1 transaction date\", \"X5 latitude\", \"X6 longitude\"], axis=1)\n",
    "estate_clean.columns = [\"id\", \"age\", \"distance_to_mrt\", \"conv_stores\", \"price_unit_area\"]\n",
    "estate_clean.head()"
   ]
  },
  {
   "attachments": {},
   "cell_type": "markdown",
   "metadata": {},
   "source": [
    "## EDA\n",
    "\n",
    "Exploratory Data Analysis : EXPLORE STRUCTURE & PATTERNS\n",
    "* Visual\n",
    "    * Histograms\n",
    "    * Scatter-Plots\n",
    "    * Confidence Intervals\n",
    "* Quantitative\n",
    "    * KS-Tests\n",
    "    * Correlation\n",
    "    * etc "
   ]
  },
  {
   "attachments": {},
   "cell_type": "markdown",
   "metadata": {},
   "source": [
    "## Univariate EDA\n",
    "\n",
    "Before we explore patterns, we should explore distributions & outliers by looking at individual features."
   ]
  },
  {
   "cell_type": "code",
   "execution_count": 22,
   "metadata": {},
   "outputs": [
    {
     "data": {
      "image/png": "[encoded data removed]",
      "text/plain": [
       "<Figure size 432x288 with 1 Axes>"
      ]
     },
     "metadata": {
      "needs_background": "light"
     },
     "output_type": "display_data"
    }
   ],
   "source": [
    "import seaborn as sns\n",
    "import matplotlib.pyplot as plt\n",
    "\n",
    "sns.histplot(estate_clean[\"age\"], kde=True)\n",
    "plt.show()"
   ]
  },
  {
   "cell_type": "code",
   "execution_count": 23,
   "metadata": {},
   "outputs": [
    {
     "data": {
      "image/png": "[encoded data removed]",
      "text/plain": [
       "<Figure size 432x288 with 1 Axes>"
      ]
     },
     "metadata": {
      "needs_background": "light"
     },
     "output_type": "display_data"
    }
   ],
   "source": [
    "sns.histplot(estate_clean[\"distance_to_mrt\"], kde=True)\n",
    "plt.show()"
   ]
  },
  {
   "cell_type": "code",
   "execution_count": 24,
   "metadata": {},
   "outputs": [
    {
     "data": {
      "image/png": "[encoded data removed]",
      "text/plain": [
       "<Figure size 432x288 with 1 Axes>"
      ]
     },
     "metadata": {
      "needs_background": "light"
     },
     "output_type": "display_data"
    }
   ],
   "source": [
    "sns.histplot(estate_clean[\"conv_stores\"], kde=True)\n",
    "plt.show()"
   ]
  },
  {
   "cell_type": "code",
   "execution_count": 25,
   "metadata": {},
   "outputs": [
    {
     "data": {
      "image/png": "[encoded data removed]",
      "text/plain": [
       "<Figure size 432x288 with 1 Axes>"
      ]
     },
     "metadata": {
      "needs_background": "light"
     },
     "output_type": "display_data"
    }
   ],
   "source": [
    "sns.histplot(estate_clean[\"price_unit_area\"], kde=True)\n",
    "plt.show()"
   ]
  },
  {
   "cell_type": "code",
   "execution_count": 26,
   "metadata": {},
   "outputs": [
    {
     "data": {
      "text/plain": [
       "<AxesSubplot:>"
      ]
     },
     "execution_count": 26,
     "metadata": {},
     "output_type": "execute_result"
    },
    {
     "data": {
      "image/png": "[encoded data removed]",
      "text/plain": [
       "<Figure size 432x288 with 1 Axes>"
      ]
     },
     "metadata": {
      "needs_background": "light"
     },
     "output_type": "display_data"
    }
   ],
   "source": [
    "sns.boxplot(estate_clean[\"price_unit_area\"])"
   ]
  },
  {
   "cell_type": "code",
   "execution_count": 27,
   "metadata": {},
   "outputs": [
    {
     "data": {
      "text/plain": [
       "KstestResult(statistic=0.03254610345274345, pvalue=0.7601105214572109)"
      ]
     },
     "execution_count": 27,
     "metadata": {},
     "output_type": "execute_result"
    }
   ],
   "source": [
    "import scipy.stats as stats\n",
    "\n",
    "# mean = clean_df[\"salary_standardized\"].mean(), std = clean_df[\"salary_standardized\"].std()\n",
    "stats.kstest(estate_clean[\"price_unit_area\"], stats.norm.cdf, args=(estate_clean[\"price_unit_area\"].mean(), estate_clean[\"price_unit_area\"].std()))"
   ]
  },
  {
   "attachments": {},
   "cell_type": "markdown",
   "metadata": {},
   "source": [
    "## Outlier Nuance\n",
    "\n",
    "While we've specified the validity of removing outliers in previous lectures, I want to rein in this piece of advice and \n",
    "limit it to the TARGET COLUMN.\n",
    "\n",
    "Outliers in the predictors could truly represent interesting patterns, so therefore we will leave them in.\n",
    "* unless we have good reason to remove them... (mistakes, anomolies, etc)\n",
    "\n",
    "General rule of thumb: keep the outliers in your predictors, remove them in your target.\n",
    "\n",
    "Furthermore, only begin the process of transforming your data after completing your EDA. "
   ]
  },
  {
   "cell_type": "code",
   "execution_count": 28,
   "metadata": {},
   "outputs": [
    {
     "data": {
      "text/plain": [
       "<AxesSubplot:xlabel='price_unit_area', ylabel='Count'>"
      ]
     },
     "execution_count": 28,
     "metadata": {},
     "output_type": "execute_result"
    },
    {
     "data": {
      "image/png": "[encoded data removed]",
      "text/plain": [
       "<Figure size 432x288 with 1 Axes>"
      ]
     },
     "metadata": {
      "needs_background": "light"
     },
     "output_type": "display_data"
    }
   ],
   "source": [
    "import scipy.stats as stats\n",
    "import numpy as np\n",
    "\n",
    "# remove data past 3 z-scores for the target variable\n",
    "\n",
    "estate_clean = estate_clean[(np.abs(stats.zscore(estate_clean[\"price_unit_area\"])) < 3)]\n",
    "sns.histplot(estate_clean[\"price_unit_area\"], kde=True)"
   ]
  },
  {
   "cell_type": "code",
   "execution_count": 30,
   "metadata": {},
   "outputs": [
    {
     "data": {
      "text/plain": [
       "<AxesSubplot:>"
      ]
     },
     "execution_count": 30,
     "metadata": {},
     "output_type": "execute_result"
    },
    {
     "data": {
      "image/png": "[encoded data removed]",
      "text/plain": [
       "<Figure size 432x288 with 1 Axes>"
      ]
     },
     "metadata": {
      "needs_background": "light"
     },
     "output_type": "display_data"
    }
   ],
   "source": [
    "sns.boxplot(estate_clean[\"price_unit_area\"])"
   ]
  },
  {
   "cell_type": "code",
   "execution_count": 29,
   "metadata": {},
   "outputs": [
    {
     "data": {
      "text/plain": [
       "KstestResult(statistic=0.038664959840662705, pvalue=0.5542427881478661)"
      ]
     },
     "execution_count": 29,
     "metadata": {},
     "output_type": "execute_result"
    }
   ],
   "source": [
    "import scipy.stats as stats\n",
    "\n",
    "# mean = clean_df[\"salary_standardized\"].mean(), std = clean_df[\"salary_standardized\"].std()\n",
    "stats.kstest(estate_clean[\"price_unit_area\"], stats.norm.cdf, args=(estate_clean[\"price_unit_area\"].mean(), estate_clean[\"price_unit_area\"].std()))"
   ]
  },
  {
   "attachments": {},
   "cell_type": "markdown",
   "metadata": {},
   "source": [
    "## Bivariate EDA\n",
    "\n",
    "Now that we have a good understanding of how individual features are distributed, let's explore patterns through bivariate EDA."
   ]
  },
  {
   "cell_type": "code",
   "execution_count": 33,
   "metadata": {},
   "outputs": [
    {
     "data": {
      "image/png": "[encoded data removed]",
      "text/plain": [
       "<Figure size 432x432 with 3 Axes>"
      ]
     },
     "metadata": {
      "needs_background": "light"
     },
     "output_type": "display_data"
    }
   ],
   "source": [
    "sns.jointplot(data = estate_clean, x = 'age', y = 'price_unit_area')\n",
    "plt.show()"
   ]
  },
  {
   "cell_type": "code",
   "execution_count": 34,
   "metadata": {},
   "outputs": [
    {
     "data": {
      "image/png": "[encoded data removed]",
      "text/plain": [
       "<Figure size 432x432 with 3 Axes>"
      ]
     },
     "metadata": {
      "needs_background": "light"
     },
     "output_type": "display_data"
    }
   ],
   "source": [
    "sns.jointplot(data = estate_clean, x = 'conv_stores', y = 'price_unit_area')\n",
    "plt.show()"
   ]
  },
  {
   "cell_type": "code",
   "execution_count": 35,
   "metadata": {},
   "outputs": [
    {
     "data": {
      "image/png": "[encoded data removed]",
      "text/plain": [
       "<Figure size 432x432 with 3 Axes>"
      ]
     },
     "metadata": {
      "needs_background": "light"
     },
     "output_type": "display_data"
    }
   ],
   "source": [
    "sns.jointplot(data = estate_clean, x = 'distance_to_mrt', y = 'price_unit_area')\n",
    "plt.show()"
   ]
  },
  {
   "attachments": {},
   "cell_type": "markdown",
   "metadata": {},
   "source": [
    "## Polynomial Regression\n",
    "\n",
    "We utilize polynomial regresion to model non-linear relationships between data.\n",
    "\n",
    "Notice how the above scatter-plot follows a curve as opposed to a straight line.\n",
    "\n",
    "We utilize polynomial regressors with different degrees to model different curves.\n",
    "\n",
    "The general rule is that we include as many degrees as we there are \"turns\" in our dataset.\n",
    "\n",
    "We do not have a discrete polynomial regressor that we can use. Instead we transform our features into polynomial features: https://scikit-learn.org/stable/modules/generated/sklearn.preprocessing.PolynomialFeatures.html\n",
    "\n",
    "This model expands our training data into multiple features where we apply some sort of exponent to a combination of variables.\n",
    "\n",
    "First let's observe the regular X set."
   ]
  },
  {
   "cell_type": "code",
   "execution_count": 101,
   "metadata": {},
   "outputs": [
    {
     "data": {
      "text/html": [
       "<div>\n",
       "<style scoped>\n",
       "    .dataframe tbody tr th:only-of-type {\n",
       "        vertical-align: middle;\n",
       "    }\n",
       "\n",
       "    .dataframe tbody tr th {\n",
       "        vertical-align: top;\n",
       "    }\n",
       "\n",
       "    .dataframe thead th {\n",
       "        text-align: right;\n",
       "    }\n",
       "</style>\n",
       "<table border=\"1\" class=\"dataframe\">\n",
       "  <thead>\n",
       "    <tr style=\"text-align: right;\">\n",
       "      <th></th>\n",
       "      <th>distance_to_mrt</th>\n",
       "    </tr>\n",
       "  </thead>\n",
       "  <tbody>\n",
       "    <tr>\n",
       "      <th>0</th>\n",
       "      <td>84.87882</td>\n",
       "    </tr>\n",
       "    <tr>\n",
       "      <th>1</th>\n",
       "      <td>306.59470</td>\n",
       "    </tr>\n",
       "    <tr>\n",
       "      <th>2</th>\n",
       "      <td>561.98450</td>\n",
       "    </tr>\n",
       "    <tr>\n",
       "      <th>3</th>\n",
       "      <td>561.98450</td>\n",
       "    </tr>\n",
       "    <tr>\n",
       "      <th>4</th>\n",
       "      <td>390.56840</td>\n",
       "    </tr>\n",
       "    <tr>\n",
       "      <th>...</th>\n",
       "      <td>...</td>\n",
       "    </tr>\n",
       "    <tr>\n",
       "      <th>409</th>\n",
       "      <td>4082.01500</td>\n",
       "    </tr>\n",
       "    <tr>\n",
       "      <th>410</th>\n",
       "      <td>90.45606</td>\n",
       "    </tr>\n",
       "    <tr>\n",
       "      <th>411</th>\n",
       "      <td>390.96960</td>\n",
       "    </tr>\n",
       "    <tr>\n",
       "      <th>412</th>\n",
       "      <td>104.81010</td>\n",
       "    </tr>\n",
       "    <tr>\n",
       "      <th>413</th>\n",
       "      <td>90.45606</td>\n",
       "    </tr>\n",
       "  </tbody>\n",
       "</table>\n",
       "<p>413 rows × 1 columns</p>\n",
       "</div>"
      ],
      "text/plain": [
       "     distance_to_mrt\n",
       "0           84.87882\n",
       "1          306.59470\n",
       "2          561.98450\n",
       "3          561.98450\n",
       "4          390.56840\n",
       "..               ...\n",
       "409       4082.01500\n",
       "410         90.45606\n",
       "411        390.96960\n",
       "412        104.81010\n",
       "413         90.45606\n",
       "\n",
       "[413 rows x 1 columns]"
      ]
     },
     "execution_count": 101,
     "metadata": {},
     "output_type": "execute_result"
    }
   ],
   "source": [
    "from sklearn.model_selection import train_test_split\n",
    "\n",
    "# some last minute cleaning..\n",
    "estate_clean.dropna(inplace=True)\n",
    "\n",
    "X = estate_clean[[\"distance_to_mrt\"]]\n",
    "y = estate_clean[\"price_unit_area\"]\n",
    "\n",
    "X_train, X_test, y_train, y_test = train_test_split(X, y, test_size=0.20, random_state=42)\n",
    "\n",
    "X"
   ]
  },
  {
   "cell_type": "code",
   "execution_count": 102,
   "metadata": {},
   "outputs": [
    {
     "data": {
      "text/plain": [
       "0.3412621814036829"
      ]
     },
     "execution_count": 102,
     "metadata": {},
     "output_type": "execute_result"
    }
   ],
   "source": [
    "from sklearn.linear_model import LinearRegression\n",
    "\n",
    "reg = LinearRegression()\n",
    "reg.fit(X_train, y_train)\n",
    "reg.score(X_test, y_test)"
   ]
  },
  {
   "cell_type": "code",
   "execution_count": 103,
   "metadata": {},
   "outputs": [
    {
     "data": {
      "image/png": "[encoded data removed]",
      "text/plain": [
       "<Figure size 432x288 with 1 Axes>"
      ]
     },
     "metadata": {
      "needs_background": "light"
     },
     "output_type": "display_data"
    }
   ],
   "source": [
    "predictions = reg.predict(X_train)\n",
    "\n",
    "sns.scatterplot(data = estate_clean, x = 'distance_to_mrt', y = 'price_unit_area')\n",
    "plt.plot(X_train, predictions, c='r')\n",
    "plt.show()"
   ]
  },
  {
   "cell_type": "code",
   "execution_count": 104,
   "metadata": {},
   "outputs": [
    {
     "data": {
      "text/plain": [
       "101.93133252294207"
      ]
     },
     "execution_count": 104,
     "metadata": {},
     "output_type": "execute_result"
    }
   ],
   "source": [
    "from sklearn.metrics import mean_squared_error\n",
    "\n",
    "mse = []\n",
    "\n",
    "y_pred = reg.predict(X_test)\n",
    "m = mean_squared_error(y_test, y_pred)\n",
    "mse.append(m)\n",
    "m"
   ]
  },
  {
   "cell_type": "code",
   "execution_count": 105,
   "metadata": {},
   "outputs": [
    {
     "data": {
      "text/plain": [
       "7.85259154561105"
      ]
     },
     "execution_count": 105,
     "metadata": {},
     "output_type": "execute_result"
    }
   ],
   "source": [
    "from sklearn.metrics import mean_absolute_error\n",
    "\n",
    "y_pred = reg.predict(X_test)\n",
    "mean_absolute_error(y_test, y_pred)"
   ]
  },
  {
   "attachments": {},
   "cell_type": "markdown",
   "metadata": {},
   "source": [
    "Next, let's see what kind of model we predict when considering the second degree of the `distance_to_mrt` feature."
   ]
  },
  {
   "cell_type": "code",
   "execution_count": 151,
   "metadata": {},
   "outputs": [
    {
     "data": {
      "text/plain": [
       "array([[8.48788200e+01, 7.20441408e+03],\n",
       "       [3.06594700e+02, 9.40003101e+04],\n",
       "       [5.61984500e+02, 3.15826578e+05],\n",
       "       [5.61984500e+02, 3.15826578e+05],\n",
       "       [3.90568400e+02, 1.52543675e+05],\n",
       "       [2.17503000e+03, 4.73075550e+06],\n",
       "       [6.23473100e+02, 3.88718706e+05],\n",
       "       [2.87602500e+02, 8.27151980e+04],\n",
       "       [5.51203800e+03, 3.03825629e+07],\n",
       "       [1.78318000e+03, 3.17973091e+06],\n",
       "       [4.05213400e+02, 1.64197900e+05],\n",
       "       [9.04560600e+01, 8.18229879e+03],\n",
       "       [4.92231300e+02, 2.42291653e+05],\n",
       "       [2.46964500e+03, 6.09914643e+06],\n",
       "       [1.16483800e+03, 1.35684757e+06],\n",
       "       [5.79208300e+02, 3.35482255e+05],\n",
       "       [2.92997800e+02, 8.58477108e+04],\n",
       "       [3.50851500e+02, 1.23096775e+05],\n",
       "       [3.68136300e+02, 1.35524335e+05],\n",
       "       [2.33828400e+01, 5.46757206e+02],\n",
       "       [2.27587700e+03, 5.17961612e+06],\n",
       "       [2.79172600e+02, 7.79373406e+04],\n",
       "       [1.36013900e+03, 1.84997810e+06],\n",
       "       [2.79172600e+02, 7.79373406e+04],\n",
       "       [4.80697700e+02, 2.31070279e+05],\n",
       "       [1.48786800e+03, 2.21375119e+06],\n",
       "       [3.83862400e+02, 1.47350342e+05],\n",
       "       [2.76449000e+02, 7.64240496e+04],\n",
       "       [5.57478000e+02, 3.10781720e+05],\n",
       "       [4.51243800e+02, 2.03620967e+05],\n",
       "       [4.51969000e+03, 2.04275977e+07],\n",
       "       [7.69403400e+02, 5.91981592e+05],\n",
       "       [4.88572700e+02, 2.38703283e+05],\n",
       "       [3.23655000e+02, 1.04752559e+05],\n",
       "       [2.05367000e+02, 4.21756047e+04],\n",
       "       [4.07941800e+03, 1.66416512e+07],\n",
       "       [1.93500900e+03, 3.74425983e+06],\n",
       "       [1.36013900e+03, 1.84997810e+06],\n",
       "       [5.77961500e+02, 3.34039495e+05],\n",
       "       [2.89324800e+02, 8.37088399e+04],\n",
       "       [4.08201500e+03, 1.66628465e+07],\n",
       "       [4.06658700e+03, 1.65371298e+07],\n",
       "       [5.19461700e+02, 2.69840458e+05],\n",
       "       [5.12787100e+02, 2.62950610e+05],\n",
       "       [5.33476200e+02, 2.84596856e+05],\n",
       "       [4.88819300e+02, 2.38944308e+05],\n",
       "       [4.63962300e+02, 2.15261016e+05],\n",
       "       [6.40739100e+02, 4.10546594e+05],\n",
       "       [4.60574900e+03, 2.12129239e+07],\n",
       "       [4.51035900e+03, 2.03433383e+07],\n",
       "       [5.12548700e+02, 2.62706170e+05],\n",
       "       [1.75840600e+03, 3.09199166e+06],\n",
       "       [1.43857900e+03, 2.06950954e+06],\n",
       "       [4.92231300e+02, 2.42291653e+05],\n",
       "       [2.89324800e+02, 8.37088399e+04],\n",
       "       [1.16063200e+03, 1.34706664e+06],\n",
       "       [3.71249500e+02, 1.37826191e+05],\n",
       "       [5.64742500e+01, 3.18934091e+03],\n",
       "       [4.51035900e+03, 2.03433383e+07],\n",
       "       [3.36053200e+02, 1.12931753e+05],\n",
       "       [1.93120700e+03, 3.72956048e+06],\n",
       "       [2.59660700e+02, 6.74236791e+04],\n",
       "       [2.17587700e+03, 4.73444072e+06],\n",
       "       [5.33476200e+02, 2.84596856e+05],\n",
       "       [9.95755400e+02, 9.91528817e+05],\n",
       "       [1.23742900e+02, 1.53123053e+04],\n",
       "       [1.93584500e+02, 3.74749586e+04],\n",
       "       [1.04810100e+02, 1.09851571e+04],\n",
       "       [4.64223000e+02, 2.15502994e+05],\n",
       "       [5.61984500e+02, 3.15826578e+05],\n",
       "       [9.04560600e+01, 8.18229879e+03],\n",
       "       [6.40739100e+02, 4.10546594e+05],\n",
       "       [4.24544200e+02, 1.80237778e+05],\n",
       "       [4.08201500e+03, 1.66628465e+07],\n",
       "       [3.79557500e+02, 1.44063896e+05],\n",
       "       [1.36013900e+03, 1.84997810e+06],\n",
       "       [6.16400400e+02, 3.79949453e+05],\n",
       "       [2.18512800e+03, 4.77478438e+06],\n",
       "       [5.52437100e+02, 3.05186749e+05],\n",
       "       [1.41483700e+03, 2.00176374e+06],\n",
       "       [5.33476200e+02, 2.84596856e+05],\n",
       "       [3.77795600e+02, 1.42729515e+05],\n",
       "       [1.50934700e+02, 2.27812837e+04],\n",
       "       [2.70739200e+03, 7.32997144e+06],\n",
       "       [3.83280500e+02, 1.46903942e+05],\n",
       "       [3.38967900e+02, 1.14899237e+05],\n",
       "       [1.45579800e+03, 2.11934782e+06],\n",
       "       [4.06658700e+03, 1.65371298e+07],\n",
       "       [1.40643000e+03, 1.97804534e+06],\n",
       "       [3.94794500e+03, 1.55862697e+07],\n",
       "       [2.74014400e+02, 7.50838914e+04],\n",
       "       [1.40201600e+03, 1.96564886e+06],\n",
       "       [2.46964500e+03, 6.09914643e+06],\n",
       "       [1.14632900e+03, 1.31407018e+06],\n",
       "       [1.67598900e+02, 2.80893913e+04],\n",
       "       [1.04810100e+02, 1.09851571e+04],\n",
       "       [9.04560600e+01, 8.18229879e+03],\n",
       "       [6.17442400e+02, 3.81235117e+05],\n",
       "       [2.89324800e+02, 8.37088399e+04],\n",
       "       [9.04560600e+01, 8.18229879e+03],\n",
       "       [9.64749600e+02, 9.30741791e+05],\n",
       "       [1.70128900e+02, 2.89438426e+04],\n",
       "       [1.93584500e+02, 3.74749586e+04],\n",
       "       [2.08390500e+02, 4.34266005e+04],\n",
       "       [3.92445900e+02, 1.54013784e+05],\n",
       "       [2.92997800e+02, 8.58477108e+04],\n",
       "       [1.89518100e+02, 3.59171102e+04],\n",
       "       [1.36013900e+03, 1.84997810e+06],\n",
       "       [5.92500600e+02, 3.51056961e+05],\n",
       "       [2.14737600e+03, 4.61122369e+06],\n",
       "       [1.04810100e+02, 1.09851571e+04],\n",
       "       [1.96617200e+02, 3.86583233e+04],\n",
       "       [2.10242700e+03, 4.42019929e+06],\n",
       "       [3.93260600e+02, 1.54653900e+05],\n",
       "       [1.43838300e+02, 2.06894565e+04],\n",
       "       [7.37916100e+02, 5.44520171e+05],\n",
       "       [6.39628300e+03, 4.09124362e+07],\n",
       "       [4.19734900e+03, 1.76177386e+07],\n",
       "       [1.58372200e+03, 2.50817537e+06],\n",
       "       [2.89324800e+02, 8.37088399e+04],\n",
       "       [4.92231300e+02, 2.42291653e+05],\n",
       "       [4.92231300e+02, 2.42291653e+05],\n",
       "       [4.14947600e+02, 1.72181511e+05],\n",
       "       [1.85429600e+02, 3.43841366e+04],\n",
       "       [2.79172600e+02, 7.79373406e+04],\n",
       "       [1.93584500e+02, 3.74749586e+04],\n",
       "       [8.04689700e+02, 6.47525513e+05],\n",
       "       [3.83862400e+02, 1.47350342e+05],\n",
       "       [1.24991200e+02, 1.56228001e+04],\n",
       "       [2.16832900e+02, 4.70165065e+04],\n",
       "       [5.35527000e+02, 2.86789168e+05],\n",
       "       [2.14737600e+03, 4.61122369e+06],\n",
       "       [4.82758100e+02, 2.33055383e+05],\n",
       "       [3.73393700e+02, 1.39422855e+05],\n",
       "       [1.86968600e+02, 3.49572574e+04],\n",
       "       [1.00923500e+03, 1.01855529e+06],\n",
       "       [3.90568400e+02, 1.52543675e+05],\n",
       "       [3.19070800e+02, 1.01806175e+05],\n",
       "       [9.42466400e+02, 8.88242915e+05],\n",
       "       [4.92231300e+02, 2.42291653e+05],\n",
       "       [2.89324800e+02, 8.37088399e+04],\n",
       "       [1.55982700e+03, 2.43306027e+06],\n",
       "       [6.40607100e+02, 4.10377457e+05],\n",
       "       [4.92231300e+02, 2.42291653e+05],\n",
       "       [1.36013900e+03, 1.84997810e+06],\n",
       "       [4.51243800e+02, 2.03620967e+05],\n",
       "       [1.85429600e+02, 3.43841366e+04],\n",
       "       [4.89882100e+02, 2.39984472e+05],\n",
       "       [3.78059000e+03, 1.42928607e+07],\n",
       "       [1.79453800e+02, 3.22036663e+04],\n",
       "       [1.70731100e+02, 2.91491085e+04],\n",
       "       [3.87772100e+02, 1.50367202e+05],\n",
       "       [1.36013900e+03, 1.84997810e+06],\n",
       "       [3.76170900e+02, 1.41504546e+05],\n",
       "       [4.06658700e+03, 1.65371298e+07],\n",
       "       [4.08201500e+03, 1.66628465e+07],\n",
       "       [1.26473000e+03, 1.59954197e+06],\n",
       "       [8.15931400e+02, 6.65744050e+05],\n",
       "       [3.90568400e+02, 1.52543675e+05],\n",
       "       [8.15931400e+02, 6.65744050e+05],\n",
       "       [4.96610500e+01, 2.46621989e+03],\n",
       "       [6.16400400e+02, 3.79949453e+05],\n",
       "       [4.06658700e+03, 1.65371298e+07],\n",
       "       [1.04810100e+02, 1.09851571e+04],\n",
       "       [1.85429600e+02, 3.43841366e+04],\n",
       "       [1.23656400e+03, 1.52909053e+06],\n",
       "       [2.92997800e+02, 8.58477108e+04],\n",
       "       [3.30085400e+02, 1.08956371e+05],\n",
       "       [5.15112200e+02, 2.65340579e+05],\n",
       "       [1.96262800e+03, 3.85190867e+06],\n",
       "       [4.52768700e+03, 2.04999496e+07],\n",
       "       [3.83862400e+02, 1.47350342e+05],\n",
       "       [9.04560600e+01, 8.18229879e+03],\n",
       "       [4.01880700e+02, 1.61508097e+05],\n",
       "       [4.32038500e+02, 1.86657265e+05],\n",
       "       [4.72174500e+02, 2.22948758e+05],\n",
       "       [4.57377900e+03, 2.09194543e+07],\n",
       "       [1.81076600e+02, 3.27887351e+04],\n",
       "       [1.14443600e+03, 1.30973376e+06],\n",
       "       [4.38851300e+02, 1.92590464e+05],\n",
       "       [4.44927000e+03, 1.97960035e+07],\n",
       "       [2.01893900e+02, 4.07611469e+04],\n",
       "       [2.14737600e+03, 4.61122369e+06],\n",
       "       [4.08201500e+03, 1.66628465e+07],\n",
       "       [2.61546500e+03, 6.84065717e+06],\n",
       "       [1.44728600e+03, 2.09463677e+06],\n",
       "       [2.18512800e+03, 4.77478438e+06],\n",
       "       [3.07817600e+03, 9.47516749e+06],\n",
       "       [1.90039200e+02, 3.61148975e+04],\n",
       "       [4.06658700e+03, 1.65371298e+07],\n",
       "       [6.16573500e+02, 3.80162881e+05],\n",
       "       [7.50070400e+02, 5.62605605e+05],\n",
       "       [5.75894500e+01, 3.31654475e+03],\n",
       "       [4.21479000e+02, 1.77644547e+05],\n",
       "       [3.77189500e+03, 1.42271919e+07],\n",
       "       [4.61101600e+02, 2.12614686e+05],\n",
       "       [7.07906700e+02, 5.01131896e+05],\n",
       "       [1.26728600e+02, 1.60601381e+04],\n",
       "       [1.57605200e+02, 2.48393991e+04],\n",
       "       [4.51641900e+02, 2.03980406e+05],\n",
       "       [9.95755400e+02, 9.91528817e+05],\n",
       "       [5.61984500e+02, 3.15826578e+05],\n",
       "       [6.42698500e+02, 4.13061362e+05],\n",
       "       [2.89324800e+02, 8.37088399e+04],\n",
       "       [1.41483700e+03, 2.00176374e+06],\n",
       "       [1.44972200e+03, 2.10169388e+06],\n",
       "       [3.79557500e+02, 1.44063896e+05],\n",
       "       [6.65063600e+02, 4.42309592e+05],\n",
       "       [1.36013900e+03, 1.84997810e+06],\n",
       "       [1.75629400e+02, 3.08456861e+04],\n",
       "       [3.90568400e+02, 1.52543675e+05],\n",
       "       [2.74014400e+02, 7.50838914e+04],\n",
       "       [1.80566500e+03, 3.26042609e+06],\n",
       "       [9.04560600e+01, 8.18229879e+03],\n",
       "       [1.78318000e+03, 3.17973091e+06],\n",
       "       [3.83712900e+02, 1.47235590e+05],\n",
       "       [5.90929200e+02, 3.49197319e+05],\n",
       "       [3.72624200e+02, 1.38848794e+05],\n",
       "       [4.92231300e+02, 2.42291653e+05],\n",
       "       [5.29777100e+02, 2.80663776e+05],\n",
       "       [1.86510100e+02, 3.47860174e+04],\n",
       "       [1.40201600e+03, 1.96564886e+06],\n",
       "       [4.31111400e+02, 1.85857039e+05],\n",
       "       [1.40201600e+03, 1.96564886e+06],\n",
       "       [3.24941900e+02, 1.05587238e+05],\n",
       "       [1.93584500e+02, 3.74749586e+04],\n",
       "       [4.08201500e+03, 1.66628465e+07],\n",
       "       [2.65060900e+02, 7.02572807e+04],\n",
       "       [3.17132900e+03, 1.00573276e+07],\n",
       "       [1.15641200e+03, 1.33728871e+06],\n",
       "       [2.14737600e+03, 4.61122369e+06],\n",
       "       [4.07473600e+03, 1.66034735e+07],\n",
       "       [4.41276500e+03, 1.94724949e+07],\n",
       "       [3.33367900e+02, 1.11134157e+05],\n",
       "       [2.21661200e+03, 4.91336876e+06],\n",
       "       [2.50631000e+02, 6.28158982e+04],\n",
       "       [3.73838900e+02, 1.39755523e+05],\n",
       "       [7.32852800e+02, 5.37073226e+05],\n",
       "       [7.32852800e+02, 5.37073226e+05],\n",
       "       [8.37723300e+02, 7.01780327e+05],\n",
       "       [1.71263200e+03, 2.93310837e+06],\n",
       "       [2.50631000e+02, 6.28158982e+04],\n",
       "       [2.07739000e+03, 4.31554921e+06],\n",
       "       [2.04170500e+02, 4.16855931e+04],\n",
       "       [1.55982700e+03, 2.43306027e+06],\n",
       "       [6.39619800e+02, 4.09113489e+05],\n",
       "       [3.89821900e+02, 1.51961114e+05],\n",
       "       [1.05506700e+03, 1.11316637e+06],\n",
       "       [1.00923500e+03, 1.01855529e+06],\n",
       "       [6.30615300e+03, 3.97675657e+07],\n",
       "       [4.24713200e+02, 1.80381302e+05],\n",
       "       [1.15945400e+03, 1.34433358e+06],\n",
       "       [9.04560600e+01, 8.18229879e+03],\n",
       "       [1.73559500e+03, 3.01229000e+06],\n",
       "       [3.29974700e+02, 1.08883303e+05],\n",
       "       [5.51203800e+03, 3.03825629e+07],\n",
       "       [3.39228900e+02, 1.15076247e+05],\n",
       "       [4.44133400e+02, 1.97254477e+05],\n",
       "       [2.92997800e+02, 8.58477108e+04],\n",
       "       [8.37723300e+02, 7.01780327e+05],\n",
       "       [1.48509700e+03, 2.20551310e+06],\n",
       "       [2.28801100e+03, 5.23499434e+06],\n",
       "       [2.89324800e+02, 8.37088399e+04],\n",
       "       [2.14737600e+03, 4.61122369e+06],\n",
       "       [4.93657000e+02, 2.43697234e+05],\n",
       "       [8.15931400e+02, 6.65744050e+05],\n",
       "       [1.78318000e+03, 3.17973091e+06],\n",
       "       [4.82758100e+02, 2.33055383e+05],\n",
       "       [3.90568400e+02, 1.52543675e+05],\n",
       "       [8.37723300e+02, 7.01780327e+05],\n",
       "       [4.51641900e+02, 2.03980406e+05],\n",
       "       [4.92231300e+02, 2.42291653e+05],\n",
       "       [1.70128900e+02, 2.89438426e+04],\n",
       "       [3.94017300e+02, 1.55249633e+05],\n",
       "       [2.33828400e+01, 5.46757206e+02],\n",
       "       [4.61101600e+02, 2.12614686e+05],\n",
       "       [2.18512800e+03, 4.77478438e+06],\n",
       "       [2.08390500e+02, 4.34266005e+04],\n",
       "       [1.55425000e+03, 2.41569306e+06],\n",
       "       [1.84330200e+02, 3.39776226e+04],\n",
       "       [3.87772100e+02, 1.50367202e+05],\n",
       "       [1.45579800e+03, 2.11934782e+06],\n",
       "       [1.97867100e+03, 3.91513893e+06],\n",
       "       [3.83280500e+02, 1.46903942e+05],\n",
       "       [7.18293700e+02, 5.15945839e+05],\n",
       "       [9.04560600e+01, 8.18229879e+03],\n",
       "       [4.61101600e+02, 2.12614686e+05],\n",
       "       [3.23691200e+02, 1.04775993e+05],\n",
       "       [2.89324800e+02, 8.37088399e+04],\n",
       "       [4.90344600e+02, 2.40437827e+05],\n",
       "       [5.64742500e+01, 3.18934091e+03],\n",
       "       [3.95674700e+02, 1.56558468e+05],\n",
       "       [3.83280500e+02, 1.46903942e+05],\n",
       "       [3.35527300e+02, 1.12578569e+05],\n",
       "       [2.17959000e+03, 4.75061257e+06],\n",
       "       [1.14443600e+03, 1.30973376e+06],\n",
       "       [5.67034900e+02, 3.21528578e+05],\n",
       "       [4.08201500e+03, 1.66628465e+07],\n",
       "       [1.21726200e+02, 1.48172678e+04],\n",
       "       [1.56244200e+02, 2.44122500e+04],\n",
       "       [4.61784800e+02, 2.13245202e+05],\n",
       "       [2.28801100e+03, 5.23499434e+06],\n",
       "       [4.39710500e+02, 1.93345324e+05],\n",
       "       [1.62608300e+03, 2.64414592e+06],\n",
       "       [2.89324800e+02, 8.37088399e+04],\n",
       "       [1.69980300e+02, 2.88933024e+04],\n",
       "       [3.07989000e+03, 9.48572241e+06],\n",
       "       [2.89324800e+02, 8.37088399e+04],\n",
       "       [1.26473000e+03, 1.59954197e+06],\n",
       "       [1.64349900e+03, 2.70108896e+06],\n",
       "       [5.37797100e+02, 2.89225721e+05],\n",
       "       [3.18529200e+02, 1.01460851e+05],\n",
       "       [1.04810100e+02, 1.09851571e+04],\n",
       "       [5.77961500e+02, 3.34039495e+05],\n",
       "       [1.75641100e+03, 3.08497960e+06],\n",
       "       [2.50631000e+02, 6.28158982e+04],\n",
       "       [7.52766900e+02, 5.66658006e+05],\n",
       "       [3.79557500e+02, 1.44063896e+05],\n",
       "       [2.72678300e+02, 7.43534553e+04],\n",
       "       [4.19734900e+03, 1.76177386e+07],\n",
       "       [9.64749600e+02, 9.30741791e+05],\n",
       "       [1.87482300e+02, 3.51496128e+04],\n",
       "       [1.97133800e+02, 3.88617351e+04],\n",
       "       [1.71263200e+03, 2.93310837e+06],\n",
       "       [4.88819300e+02, 2.38944308e+05],\n",
       "       [5.64742500e+01, 3.18934091e+03],\n",
       "       [7.57337700e+02, 5.73560392e+05],\n",
       "       [1.49771300e+03, 2.24314423e+06],\n",
       "       [4.19734900e+03, 1.76177386e+07],\n",
       "       [1.15677700e+03, 1.33813303e+06],\n",
       "       [4.51969000e+03, 2.04275977e+07],\n",
       "       [6.17713400e+02, 3.81569845e+05],\n",
       "       [1.04810100e+02, 1.09851571e+04],\n",
       "       [1.01334100e+03, 1.02685998e+06],\n",
       "       [3.37601600e+02, 1.13974840e+05],\n",
       "       [1.86723300e+03, 3.48655908e+06],\n",
       "       [6.00860400e+02, 3.61033220e+05],\n",
       "       [2.58186000e+02, 6.66600106e+04],\n",
       "       [3.29974700e+02, 1.08883303e+05],\n",
       "       [2.70889500e+02, 7.33811212e+04],\n",
       "       [7.50070400e+02, 5.62605605e+05],\n",
       "       [9.04560600e+01, 8.18229879e+03],\n",
       "       [5.63285400e+02, 3.17290442e+05],\n",
       "       [3.08517000e+03, 9.51827393e+06],\n",
       "       [1.85429600e+02, 3.43841366e+04],\n",
       "       [1.71263200e+03, 2.93310837e+06],\n",
       "       [6.48802100e+03, 4.20944165e+07],\n",
       "       [2.59660700e+02, 6.74236791e+04],\n",
       "       [1.04810100e+02, 1.09851571e+04],\n",
       "       [4.92231300e+02, 2.42291653e+05],\n",
       "       [2.18024500e+03, 4.75346826e+06],\n",
       "       [2.67496100e+03, 7.15541635e+06],\n",
       "       [2.14737600e+03, 4.61122369e+06],\n",
       "       [1.36013900e+03, 1.84997810e+06],\n",
       "       [3.83862400e+02, 1.47350342e+05],\n",
       "       [2.11447300e+02, 4.47099607e+04],\n",
       "       [3.38967900e+02, 1.14899237e+05],\n",
       "       [1.93584500e+02, 3.74749586e+04],\n",
       "       [2.40899300e+03, 5.80324727e+06],\n",
       "       [8.73022200e+01, 7.62167762e+03],\n",
       "       [2.81205000e+02, 7.90762520e+04],\n",
       "       [9.67400000e+02, 9.35862760e+05],\n",
       "       [1.09945500e+02, 1.20880130e+04],\n",
       "       [6.14139400e+02, 3.77167203e+05],\n",
       "       [2.26143200e+03, 5.11407469e+06],\n",
       "       [1.80154400e+03, 3.24556078e+06],\n",
       "       [1.82831900e+03, 3.34275037e+06],\n",
       "       [3.50851500e+02, 1.23096775e+05],\n",
       "       [2.18512800e+03, 4.77478438e+06],\n",
       "       [2.89324800e+02, 8.37088399e+04],\n",
       "       [3.12896300e+02, 9.79040946e+04],\n",
       "       [1.57605200e+02, 2.48393991e+04],\n",
       "       [2.74014400e+02, 7.50838914e+04],\n",
       "       [3.90568400e+02, 1.52543675e+05],\n",
       "       [1.15798800e+03, 1.34093621e+06],\n",
       "       [1.71719300e+03, 2.94875180e+06],\n",
       "       [4.96610500e+01, 2.46621989e+03],\n",
       "       [5.87887700e+02, 3.45611948e+05],\n",
       "       [2.92997800e+02, 8.58477108e+04],\n",
       "       [2.89324800e+02, 8.37088399e+04],\n",
       "       [1.32546900e+02, 1.75686807e+04],\n",
       "       [3.52956400e+03, 1.24578220e+07],\n",
       "       [5.06114400e+02, 2.56151786e+05],\n",
       "       [4.06658700e+03, 1.65371298e+07],\n",
       "       [8.28864300e+01, 6.87016028e+03],\n",
       "       [1.85429600e+02, 3.43841366e+04],\n",
       "       [2.10355500e+03, 4.42494364e+06],\n",
       "       [2.25193800e+03, 5.07122476e+06],\n",
       "       [1.22361900e+02, 1.49724346e+04],\n",
       "       [3.77830200e+02, 1.42755660e+05],\n",
       "       [1.93974900e+03, 3.76262618e+06],\n",
       "       [4.43802000e+02, 1.96960215e+05],\n",
       "       [9.67400000e+02, 9.35862760e+05],\n",
       "       [4.13627100e+03, 1.71087378e+07],\n",
       "       [5.12548700e+02, 2.62706170e+05],\n",
       "       [9.18635700e+02, 8.43891549e+05],\n",
       "       [1.16483800e+03, 1.35684757e+06],\n",
       "       [1.71719300e+03, 2.94875180e+06],\n",
       "       [1.70128900e+02, 2.89438426e+04],\n",
       "       [4.82758100e+02, 2.33055383e+05],\n",
       "       [2.17503000e+03, 4.73075550e+06],\n",
       "       [1.87482300e+02, 3.51496128e+04],\n",
       "       [1.61942000e+02, 2.62252114e+04],\n",
       "       [2.89324800e+02, 8.37088399e+04],\n",
       "       [1.30994500e+02, 1.71595590e+04],\n",
       "       [3.72138600e+02, 1.38487138e+05],\n",
       "       [2.40899300e+03, 5.80324727e+06],\n",
       "       [2.17574400e+03, 4.73386195e+06],\n",
       "       [4.08201500e+03, 1.66628465e+07],\n",
       "       [9.04560600e+01, 8.18229879e+03],\n",
       "       [3.90969600e+02, 1.52857228e+05],\n",
       "       [1.04810100e+02, 1.09851571e+04],\n",
       "       [9.04560600e+01, 8.18229879e+03]])"
      ]
     },
     "execution_count": 151,
     "metadata": {},
     "output_type": "execute_result"
    }
   ],
   "source": [
    "from sklearn.preprocessing import PolynomialFeatures\n",
    "\n",
    "X = estate_clean[[\"distance_to_mrt\"]]\n",
    "y = estate_clean[\"price_unit_area\"]\n",
    "\n",
    "poly = PolynomialFeatures(2, include_bias=False)\n",
    "X_poly = poly.fit_transform(X)\n",
    "\n",
    "X_poly"
   ]
  },
  {
   "cell_type": "code",
   "execution_count": 136,
   "metadata": {},
   "outputs": [
    {
     "data": {
      "text/plain": [
       "0.4079148289264617"
      ]
     },
     "execution_count": 136,
     "metadata": {},
     "output_type": "execute_result"
    }
   ],
   "source": [
    "X_train_p, X_test_p, y_train_p, y_test_p = train_test_split(X_poly, y, test_size=0.20, random_state=42)\n",
    "\n",
    "reg_poly = LinearRegression()\n",
    "reg_poly.fit(X_train_p, y_train_p)\n",
    "reg_poly.score(X_test_p, y_test_p)"
   ]
  },
  {
   "cell_type": "code",
   "execution_count": 137,
   "metadata": {},
   "outputs": [
    {
     "data": {
      "text/plain": [
       "91.61767967596282"
      ]
     },
     "execution_count": 137,
     "metadata": {},
     "output_type": "execute_result"
    }
   ],
   "source": [
    "y_pred = reg_poly.predict(X_test_p)\n",
    "m = mean_squared_error(y_test_p, y_pred)\n",
    "mse.append(m)\n",
    "m"
   ]
  },
  {
   "cell_type": "code",
   "execution_count": 138,
   "metadata": {},
   "outputs": [
    {
     "data": {
      "text/plain": [
       "6.972678378449715"
      ]
     },
     "execution_count": 138,
     "metadata": {},
     "output_type": "execute_result"
    }
   ],
   "source": [
    "y_pred = reg_poly.predict(X_test_p)\n",
    "mean_absolute_error(y_test_p, y_pred)"
   ]
  },
  {
   "cell_type": "code",
   "execution_count": 144,
   "metadata": {},
   "outputs": [
    {
     "data": {
      "image/png": "[encoded data removed]",
      "text/plain": [
       "<Figure size 432x288 with 1 Axes>"
      ]
     },
     "metadata": {
      "needs_background": "light"
     },
     "output_type": "display_data"
    }
   ],
   "source": [
    "predictions = reg_poly.predict(X_poly)\n",
    "\n",
    "sns.scatterplot(data = estate_clean, x = 'distance_to_mrt', y = 'price_unit_area')\n",
    "plt.scatter(X[\"distance_to_mrt\"], predictions, c='r')\n",
    "plt.show()"
   ]
  },
  {
   "attachments": {},
   "cell_type": "markdown",
   "metadata": {},
   "source": [
    "Let's continue to increase the degree..."
   ]
  },
  {
   "cell_type": "code",
   "execution_count": 111,
   "metadata": {},
   "outputs": [],
   "source": [
    "X = estate_clean[[\"distance_to_mrt\"]]\n",
    "y = estate_clean[\"price_unit_area\"]\n",
    "\n",
    "poly = PolynomialFeatures(3, include_bias=False)\n",
    "X_poly = poly.fit_transform(X)"
   ]
  },
  {
   "cell_type": "code",
   "execution_count": 112,
   "metadata": {},
   "outputs": [
    {
     "data": {
      "text/plain": [
       "0.44669433171076767"
      ]
     },
     "execution_count": 112,
     "metadata": {},
     "output_type": "execute_result"
    }
   ],
   "source": [
    "X_train_p, X_test_p, y_train_p, y_test_p = train_test_split(X_poly, y, test_size=0.20, random_state=42)\n",
    "\n",
    "reg_poly = LinearRegression()\n",
    "reg_poly.fit(X_train_p, y_train_p)\n",
    "reg_poly.score(X_test_p, y_test_p)"
   ]
  },
  {
   "cell_type": "code",
   "execution_count": 113,
   "metadata": {},
   "outputs": [
    {
     "data": {
      "text/plain": [
       "85.61704287966586"
      ]
     },
     "execution_count": 113,
     "metadata": {},
     "output_type": "execute_result"
    }
   ],
   "source": [
    "y_pred = reg_poly.predict(X_test_p)\n",
    "m = mean_squared_error(y_test_p, y_pred)\n",
    "mse.append(m)\n",
    "m"
   ]
  },
  {
   "cell_type": "code",
   "execution_count": 114,
   "metadata": {},
   "outputs": [
    {
     "data": {
      "text/plain": [
       "6.62602472295975"
      ]
     },
     "execution_count": 114,
     "metadata": {},
     "output_type": "execute_result"
    }
   ],
   "source": [
    "y_pred = reg_poly.predict(X_test_p)\n",
    "mean_absolute_error(y_test_p, y_pred)"
   ]
  },
  {
   "cell_type": "code",
   "execution_count": 115,
   "metadata": {},
   "outputs": [
    {
     "data": {
      "image/png": "[encoded data removed]",
      "text/plain": [
       "<Figure size 432x288 with 1 Axes>"
      ]
     },
     "metadata": {
      "needs_background": "light"
     },
     "output_type": "display_data"
    }
   ],
   "source": [
    "predictions = reg_poly.predict(X_poly)\n",
    "\n",
    "sns.scatterplot(data = estate_clean, x = 'distance_to_mrt', y = 'price_unit_area')\n",
    "plt.scatter(X[\"distance_to_mrt\"], predictions, c='r')\n",
    "plt.show()"
   ]
  },
  {
   "attachments": {},
   "cell_type": "markdown",
   "metadata": {},
   "source": [
    "Let's see what happens if we continue to increase this degree."
   ]
  },
  {
   "cell_type": "code",
   "execution_count": 128,
   "metadata": {},
   "outputs": [],
   "source": [
    "X = estate_clean[[\"distance_to_mrt\"]]\n",
    "y = estate_clean[\"price_unit_area\"]\n",
    "\n",
    "\n",
    "degrees = [1,2,3,4,5,6,7,8,9]\n",
    "\n",
    "mse_test = []\n",
    "mse_train = []\n",
    "for d in degrees:\n",
    "    poly = PolynomialFeatures(d, include_bias=False)\n",
    "    X_poly = poly.fit_transform(X)\n",
    "\n",
    "    X_train_p, X_test_p, y_train_p, y_test_p = train_test_split(X_poly, y, test_size=0.20, random_state=42)\n",
    "\n",
    "    reg_poly = LinearRegression()\n",
    "    reg_poly.fit(X_train_p, y_train_p)\n",
    "\n",
    "    y_pred_test = reg_poly.predict(X_test_p)\n",
    "    m_test = mean_squared_error(y_test_p, y_pred_test)\n",
    "    mse_test.append(m_test)\n",
    "\n",
    "    y_pred_train = reg_poly.predict(X_train_p)\n",
    "    m_train = mean_squared_error(y_train_p, y_pred_train)\n",
    "    mse_train.append(m_train)"
   ]
  },
  {
   "attachments": {},
   "cell_type": "markdown",
   "metadata": {},
   "source": [
    "## Bias-Variance Tradeoff\n",
    "\n",
    "When we start introducing more complexity to our models, we can run the risk of introducing high variance to our models.\n",
    "\n",
    "Variance: Error from sensitivity to small fluctuations in the training set. We run the risk of modeling noise.\n",
    "\n",
    "Bias: Error from assumptions in the learning algorithm. We run the risk of missing patterns.\n",
    "\n",
    "Variance & bias are inversely correlated. \n",
    "* The more variance you have, the less bias.\n",
    "* The more bias you have, the less variance.\n",
    "\n",
    "We have to find the optimal tradeoff. "
   ]
  },
  {
   "cell_type": "code",
   "execution_count": 123,
   "metadata": {},
   "outputs": [
    {
     "data": {
      "image/png": "[encoded data removed]",
      "text/plain": [
       "<Figure size 432x288 with 1 Axes>"
      ]
     },
     "metadata": {
      "needs_background": "light"
     },
     "output_type": "display_data"
    }
   ],
   "source": [
    "plt.plot(degrees, mse_test)\n",
    "plt.title(\"MSE vs Degrees - Testing Data\")\n",
    "plt.xlabel(\"Degrees\")\n",
    "plt.ylabel(\"MSE\")\n",
    "plt.show()"
   ]
  },
  {
   "cell_type": "code",
   "execution_count": 124,
   "metadata": {},
   "outputs": [
    {
     "data": {
      "image/png": "[encoded data removed]",
      "text/plain": [
       "<Figure size 432x288 with 1 Axes>"
      ]
     },
     "metadata": {
      "needs_background": "light"
     },
     "output_type": "display_data"
    }
   ],
   "source": [
    "plt.plot(degrees, mse_train)\n",
    "plt.title(\"MSE vs Degrees - Training Data\")\n",
    "plt.xlabel(\"Degrees\")\n",
    "plt.ylabel(\"MSE\")\n",
    "plt.show()"
   ]
  },
  {
   "attachments": {},
   "cell_type": "markdown",
   "metadata": {},
   "source": [
    "We do not see evidence of overfitting here as both training & testing data display the same error-rate. \n",
    "\n",
    "Overfitting: High variance in model leads to poor generalization of model in testing data & high error\n",
    "\n",
    "Underfitting: High bias in model leads to poor generalization of model in training & testing data & high error"
   ]
  },
  {
   "attachments": {},
   "cell_type": "markdown",
   "metadata": {},
   "source": [
    "## Metrics\n",
    "\n",
    "R2 sometimes increases as we include more unrelated variables (albeit marginally)\n",
    "\n",
    "This could lead to us adding insignificant predictors to our model to achieve a higher accuracy.\n",
    "\n",
    "This leads to poor model generalization!!!\n",
    "\n",
    "R2 is a great metric to use after selecting your features (either automatically or manually), but we should opt for other metrics while training a model.\n",
    "\n",
    "Instead we opt for different metrics of accuracy."
   ]
  },
  {
   "attachments": {},
   "cell_type": "markdown",
   "metadata": {},
   "source": [
    "Residual: difference between real observation and predicted observation \n",
    "\n",
    "Mean-Squared-Error: average of squared difference of predicted data and target data \n",
    "\n",
    "Mean Absolute Error: average of all absolute difference between predicted data & target data\n",
    "\n",
    "R2: aka coefficient of determination; the proportion of the variance for a dependent variable that's explained by an independent variabl"
   ]
  },
  {
   "attachments": {},
   "cell_type": "markdown",
   "metadata": {},
   "source": [
    "## MSE vs MAE\n",
    "\n",
    "**Features of Mean-Squared-Error**\n",
    "* Squares units of measurement. Ex: USD -> USD^2\n",
    "* Heavily penalizes large error (residuals), ignores small error. Therefore MORE sensitive to outlier error\n",
    "* Is used in L2-norm regularization (aka Euclidean Norm): *Ridge regression*\n",
    "\n",
    "**Features of Mean-Absolute-Error**\n",
    "* Preserve units of measurement. Ex: USD -> USD\n",
    "* Weighs all errors the same\n",
    "* Is used in L1-norm regularization (aka Manhattan Norm): *The LASSO*"
   ]
  },
  {
   "attachments": {},
   "cell_type": "markdown",
   "metadata": {},
   "source": [
    "## Normalization of Regression\n",
    "\n",
    "When we have a large amount of predictors to choose from, or our model is experiencing high variance, we want to rely on penalty terms in our cost-function to reduce error.\n",
    "\n",
    "**LASSO**\n",
    "Purpose\n",
    "* Prevent overfitting \n",
    "* Reduce effects of collinearity in your model\n",
    "* Automatically select features by zeroing out features with large penalty\n",
    "\n",
    "Use Case\n",
    "* When fitting a multivariate model with many (>10?) features\n",
    "* Best-Used when you have a small number of significant predictors.\n",
    "\n",
    "**Ridge**\n",
    "Purpose\n",
    "* Prevent overfitting \n",
    "* Reduce effects of collinearity in your model\n",
    "* Pushes coefficients close to 0, but does not feature select by setting to 0!\n",
    "\n",
    "Use Case\n",
    "* When fitting a multivariate model with many (>10?) features\n",
    "* Best-Used when you have a large number of significant predictors that are close to the same magnitude"
   ]
  },
  {
   "cell_type": "code",
   "execution_count": 146,
   "metadata": {},
   "outputs": [
    {
     "data": {
      "text/html": [
       "<style>#sk-container-id-3 {color: black;background-color: white;}#sk-container-id-3 pre{padding: 0;}#sk-container-id-3 div.sk-toggleable {background-color: white;}#sk-container-id-3 label.sk-toggleable__label {cursor: pointer;display: block;width: 100%;margin-bottom: 0;padding: 0.3em;box-sizing: border-box;text-align: center;}#sk-container-id-3 label.sk-toggleable__label-arrow:before {content: \"▸\";float: left;margin-right: 0.25em;color: #696969;}#sk-container-id-3 label.sk-toggleable__label-arrow:hover:before {color: black;}#sk-container-id-3 div.sk-estimator:hover label.sk-toggleable__label-arrow:before {color: black;}#sk-container-id-3 div.sk-toggleable__content {max-height: 0;max-width: 0;overflow: hidden;text-align: left;background-color: #f0f8ff;}#sk-container-id-3 div.sk-toggleable__content pre {margin: 0.2em;color: black;border-radius: 0.25em;background-color: #f0f8ff;}#sk-container-id-3 input.sk-toggleable__control:checked~div.sk-toggleable__content {max-height: 200px;max-width: 100%;overflow: auto;}#sk-container-id-3 input.sk-toggleable__control:checked~label.sk-toggleable__label-arrow:before {content: \"▾\";}#sk-container-id-3 div.sk-estimator input.sk-toggleable__control:checked~label.sk-toggleable__label {background-color: #d4ebff;}#sk-container-id-3 div.sk-label input.sk-toggleable__control:checked~label.sk-toggleable__label {background-color: #d4ebff;}#sk-container-id-3 input.sk-hidden--visually {border: 0;clip: rect(1px 1px 1px 1px);clip: rect(1px, 1px, 1px, 1px);height: 1px;margin: -1px;overflow: hidden;padding: 0;position: absolute;width: 1px;}#sk-container-id-3 div.sk-estimator {font-family: monospace;background-color: #f0f8ff;border: 1px dotted black;border-radius: 0.25em;box-sizing: border-box;margin-bottom: 0.5em;}#sk-container-id-3 div.sk-estimator:hover {background-color: #d4ebff;}#sk-container-id-3 div.sk-parallel-item::after {content: \"\";width: 100%;border-bottom: 1px solid gray;flex-grow: 1;}#sk-container-id-3 div.sk-label:hover label.sk-toggleable__label {background-color: #d4ebff;}#sk-container-id-3 div.sk-serial::before {content: \"\";position: absolute;border-left: 1px solid gray;box-sizing: border-box;top: 0;bottom: 0;left: 50%;z-index: 0;}#sk-container-id-3 div.sk-serial {display: flex;flex-direction: column;align-items: center;background-color: white;padding-right: 0.2em;padding-left: 0.2em;position: relative;}#sk-container-id-3 div.sk-item {position: relative;z-index: 1;}#sk-container-id-3 div.sk-parallel {display: flex;align-items: stretch;justify-content: center;background-color: white;position: relative;}#sk-container-id-3 div.sk-item::before, #sk-container-id-3 div.sk-parallel-item::before {content: \"\";position: absolute;border-left: 1px solid gray;box-sizing: border-box;top: 0;bottom: 0;left: 50%;z-index: -1;}#sk-container-id-3 div.sk-parallel-item {display: flex;flex-direction: column;z-index: 1;position: relative;background-color: white;}#sk-container-id-3 div.sk-parallel-item:first-child::after {align-self: flex-end;width: 50%;}#sk-container-id-3 div.sk-parallel-item:last-child::after {align-self: flex-start;width: 50%;}#sk-container-id-3 div.sk-parallel-item:only-child::after {width: 0;}#sk-container-id-3 div.sk-dashed-wrapped {border: 1px dashed gray;margin: 0 0.4em 0.5em 0.4em;box-sizing: border-box;padding-bottom: 0.4em;background-color: white;}#sk-container-id-3 div.sk-label label {font-family: monospace;font-weight: bold;display: inline-block;line-height: 1.2em;}#sk-container-id-3 div.sk-label-container {text-align: center;}#sk-container-id-3 div.sk-container {/* jupyter's `normalize.less` sets `[hidden] { display: none; }` but bootstrap.min.css set `[hidden] { display: none !important; }` so we also need the `!important` here to be able to override the default hidden behavior on the sphinx rendered scikit-learn.org. See: https://github.com/scikit-learn/scikit-learn/issues/21755 */display: inline-block !important;position: relative;}#sk-container-id-3 div.sk-text-repr-fallback {display: none;}</style><div id=\"sk-container-id-3\" class=\"sk-top-container\"><div class=\"sk-text-repr-fallback\"><pre>Lasso()</pre><b>In a Jupyter environment, please rerun this cell to show the HTML representation or trust the notebook. <br />On GitHub, the HTML representation is unable to render, please try loading this page with nbviewer.org.</b></div><div class=\"sk-container\" hidden><div class=\"sk-item\"><div class=\"sk-estimator sk-toggleable\"><input class=\"sk-toggleable__control sk-hidden--visually\" id=\"sk-estimator-id-3\" type=\"checkbox\" checked><label for=\"sk-estimator-id-3\" class=\"sk-toggleable__label sk-toggleable__label-arrow\">Lasso</label><div class=\"sk-toggleable__content\"><pre>Lasso()</pre></div></div></div></div></div>"
      ],
      "text/plain": [
       "Lasso()"
      ]
     },
     "execution_count": 146,
     "metadata": {},
     "output_type": "execute_result"
    }
   ],
   "source": [
    "from sklearn.linear_model import Lasso\n",
    "\n",
    "# get all features\n",
    "\n",
    "X_cols = list(fbdf_clean_log.columns)\n",
    "X_cols.remove(\"interactions\")\n",
    "\n",
    "X = fbdf_clean_log[X_cols]\n",
    "y = fbdf_clean_log[\"interactions\"]\n",
    "\n",
    "X_train, X_test, y_train, y_test = train_test_split(X, y, test_size=0.20, random_state=42)\n",
    "\n",
    "# attempt LASSO\n",
    "# we control how large the penalty is via `alpha`\n",
    "# the larger the `alpha` is, the more features we zero out\n",
    "# be aware that this might reduce model accuracy \n",
    "reglasso = Lasso(alpha=1.0)\n",
    "reglasso.fit(X_train, y_train)"
   ]
  },
  {
   "cell_type": "code",
   "execution_count": 147,
   "metadata": {},
   "outputs": [
    {
     "name": "stdout",
     "output_type": "stream",
     "text": [
      "tot_likes: 2.1887e-06\n",
      "paid: 0.0\n",
      "tot_reach: -1.9166e-06\n",
      "tot_impressions: 1.7208e-06\n",
      "engaged_users: 8.70456e-05\n",
      "post_consumers: 0.0\n",
      "post_consumptions: -5.845e-07\n",
      "tot_impressions_from_like: -1.4578e-06\n",
      "tot_reach_from_like: 7.9178e-06\n",
      "tot_engage_from_like: 5.5111e-06\n",
      "comments: 0.0\n",
      "likes: 0.0031354066\n",
      "shares: 0.0139059538\n"
     ]
    }
   ],
   "source": [
    "for i, name in enumerate(X.columns):\n",
    "    print(name, end=\": \")\n",
    "    print(round(reglasso.coef_[i], 10))"
   ]
  },
  {
   "cell_type": "code",
   "execution_count": 148,
   "metadata": {},
   "outputs": [
    {
     "data": {
      "text/html": [
       "<style>#sk-container-id-4 {color: black;background-color: white;}#sk-container-id-4 pre{padding: 0;}#sk-container-id-4 div.sk-toggleable {background-color: white;}#sk-container-id-4 label.sk-toggleable__label {cursor: pointer;display: block;width: 100%;margin-bottom: 0;padding: 0.3em;box-sizing: border-box;text-align: center;}#sk-container-id-4 label.sk-toggleable__label-arrow:before {content: \"▸\";float: left;margin-right: 0.25em;color: #696969;}#sk-container-id-4 label.sk-toggleable__label-arrow:hover:before {color: black;}#sk-container-id-4 div.sk-estimator:hover label.sk-toggleable__label-arrow:before {color: black;}#sk-container-id-4 div.sk-toggleable__content {max-height: 0;max-width: 0;overflow: hidden;text-align: left;background-color: #f0f8ff;}#sk-container-id-4 div.sk-toggleable__content pre {margin: 0.2em;color: black;border-radius: 0.25em;background-color: #f0f8ff;}#sk-container-id-4 input.sk-toggleable__control:checked~div.sk-toggleable__content {max-height: 200px;max-width: 100%;overflow: auto;}#sk-container-id-4 input.sk-toggleable__control:checked~label.sk-toggleable__label-arrow:before {content: \"▾\";}#sk-container-id-4 div.sk-estimator input.sk-toggleable__control:checked~label.sk-toggleable__label {background-color: #d4ebff;}#sk-container-id-4 div.sk-label input.sk-toggleable__control:checked~label.sk-toggleable__label {background-color: #d4ebff;}#sk-container-id-4 input.sk-hidden--visually {border: 0;clip: rect(1px 1px 1px 1px);clip: rect(1px, 1px, 1px, 1px);height: 1px;margin: -1px;overflow: hidden;padding: 0;position: absolute;width: 1px;}#sk-container-id-4 div.sk-estimator {font-family: monospace;background-color: #f0f8ff;border: 1px dotted black;border-radius: 0.25em;box-sizing: border-box;margin-bottom: 0.5em;}#sk-container-id-4 div.sk-estimator:hover {background-color: #d4ebff;}#sk-container-id-4 div.sk-parallel-item::after {content: \"\";width: 100%;border-bottom: 1px solid gray;flex-grow: 1;}#sk-container-id-4 div.sk-label:hover label.sk-toggleable__label {background-color: #d4ebff;}#sk-container-id-4 div.sk-serial::before {content: \"\";position: absolute;border-left: 1px solid gray;box-sizing: border-box;top: 0;bottom: 0;left: 50%;z-index: 0;}#sk-container-id-4 div.sk-serial {display: flex;flex-direction: column;align-items: center;background-color: white;padding-right: 0.2em;padding-left: 0.2em;position: relative;}#sk-container-id-4 div.sk-item {position: relative;z-index: 1;}#sk-container-id-4 div.sk-parallel {display: flex;align-items: stretch;justify-content: center;background-color: white;position: relative;}#sk-container-id-4 div.sk-item::before, #sk-container-id-4 div.sk-parallel-item::before {content: \"\";position: absolute;border-left: 1px solid gray;box-sizing: border-box;top: 0;bottom: 0;left: 50%;z-index: -1;}#sk-container-id-4 div.sk-parallel-item {display: flex;flex-direction: column;z-index: 1;position: relative;background-color: white;}#sk-container-id-4 div.sk-parallel-item:first-child::after {align-self: flex-end;width: 50%;}#sk-container-id-4 div.sk-parallel-item:last-child::after {align-self: flex-start;width: 50%;}#sk-container-id-4 div.sk-parallel-item:only-child::after {width: 0;}#sk-container-id-4 div.sk-dashed-wrapped {border: 1px dashed gray;margin: 0 0.4em 0.5em 0.4em;box-sizing: border-box;padding-bottom: 0.4em;background-color: white;}#sk-container-id-4 div.sk-label label {font-family: monospace;font-weight: bold;display: inline-block;line-height: 1.2em;}#sk-container-id-4 div.sk-label-container {text-align: center;}#sk-container-id-4 div.sk-container {/* jupyter's `normalize.less` sets `[hidden] { display: none; }` but bootstrap.min.css set `[hidden] { display: none !important; }` so we also need the `!important` here to be able to override the default hidden behavior on the sphinx rendered scikit-learn.org. See: https://github.com/scikit-learn/scikit-learn/issues/21755 */display: inline-block !important;position: relative;}#sk-container-id-4 div.sk-text-repr-fallback {display: none;}</style><div id=\"sk-container-id-4\" class=\"sk-top-container\"><div class=\"sk-text-repr-fallback\"><pre>Ridge()</pre><b>In a Jupyter environment, please rerun this cell to show the HTML representation or trust the notebook. <br />On GitHub, the HTML representation is unable to render, please try loading this page with nbviewer.org.</b></div><div class=\"sk-container\" hidden><div class=\"sk-item\"><div class=\"sk-estimator sk-toggleable\"><input class=\"sk-toggleable__control sk-hidden--visually\" id=\"sk-estimator-id-4\" type=\"checkbox\" checked><label for=\"sk-estimator-id-4\" class=\"sk-toggleable__label sk-toggleable__label-arrow\">Ridge</label><div class=\"sk-toggleable__content\"><pre>Ridge()</pre></div></div></div></div></div>"
      ],
      "text/plain": [
       "Ridge()"
      ]
     },
     "execution_count": 148,
     "metadata": {},
     "output_type": "execute_result"
    }
   ],
   "source": [
    "from sklearn.linear_model import Ridge\n",
    "\n",
    "# get all features\n",
    "\n",
    "X_cols = list(fbdf_clean_log.columns)\n",
    "X_cols.remove(\"interactions\")\n",
    "\n",
    "X = fbdf_clean_log[X_cols]\n",
    "y = fbdf_clean_log[\"interactions\"]\n",
    "\n",
    "X_train, X_test, y_train, y_test = train_test_split(X, y, test_size=0.20, random_state=42)\n",
    "\n",
    "# attempt LASSO\n",
    "# we control how large the penalty is via `alpha`\n",
    "# the larger the `alpha` is, the more features we zero out\n",
    "# be aware that this might reduce model accuracy \n",
    "regridge = Ridge(alpha=1.0)\n",
    "regridge.fit(X_train, y_train)"
   ]
  },
  {
   "cell_type": "code",
   "execution_count": 149,
   "metadata": {},
   "outputs": [
    {
     "name": "stdout",
     "output_type": "stream",
     "text": [
      "tot_likes: 2.4883e-06\n",
      "paid: 0.1358576413\n",
      "tot_reach: -2.9271e-06\n",
      "tot_impressions: 1.814e-06\n",
      "engaged_users: 0.001403668\n",
      "post_consumers: -0.001336548\n",
      "post_consumptions: 8.7295e-06\n",
      "tot_impressions_from_like: -1.5142e-06\n",
      "tot_reach_from_like: 1.12194e-05\n",
      "tot_engage_from_like: 8.5856e-06\n",
      "comments: 0.0038357851\n",
      "likes: 0.0012935471\n",
      "shares: 0.0208161195\n"
     ]
    }
   ],
   "source": [
    "for i, name in enumerate(X.columns):\n",
    "    print(name, end=\": \")\n",
    "    print(round(regridge.coef_[i], 10))"
   ]
  },
  {
   "attachments": {},
   "cell_type": "markdown",
   "metadata": {},
   "source": [
    "## Confirmatory Data Analysis\n",
    "\n",
    "As data analysts, we call this process \"confirmatory data analysis\" as opposed to \"machine learning.\"\n",
    "\n",
    "Machine learning engineers often deal with tuning highly complex statistical models.\n",
    "\n",
    "We are just interested in generating understandable observations & confirming them."
   ]
  },
  {
   "attachments": {},
   "cell_type": "markdown",
   "metadata": {},
   "source": [
    "## Try it Yourself!\n",
    "\n",
    "Generate a polynomial regression to model the relationship between `age` and `price_unit_area`."
   ]
  },
  {
   "cell_type": "code",
   "execution_count": null,
   "metadata": {},
   "outputs": [],
   "source": [
    "import pandas as pd\n",
    "\n",
    "estate = pd.read_csv(\"../data/realestate.csv\")\n",
    "\n",
    "estate_clean = estate.drop(labels=[\"X1 transaction date\", \"X5 latitude\", \"X6 longitude\"], axis=1)\n",
    "estate_clean.columns = [\"id\", \"age\", \"distance_to_mrt\", \"conv_stores\", \"price_unit_area\"]\n",
    "\n",
    "estate_clean = estate_clean[(np.abs(stats.zscore(estate_clean[\"price_unit_area\"])) < 3)]\n",
    "\n",
    "# implement model here!"
   ]
  },
  {
   "attachments": {},
   "cell_type": "markdown",
   "metadata": {},
   "source": [
    "## Sprint 2\n",
    "\n",
    "Your minimal viable model be an ETL pipeline that does the following simple tasks:\n",
    "* Extracts data from your csv files\n",
    "* Does light & minimal data transformations\n",
    "    * Drop null rows, rename columns, etc\n",
    "* Saves data back into csv files\n",
    "* Generates a rough regression model with NO FEATURE SELECTION\n",
    "  * What Andrew Ng calls a “Quick & Dirty Model”\n",
    "  \n",
    "Similar to the `predict.ipynb` file of yours End of Phase 2 Project.\n",
    "\n",
    "Demo the results of this pipeline in a quick 5 minutes via guided presentation or slides.\n",
    "At most, this should be two jupyter notebooks."
   ]
  },
  {
   "attachments": {},
   "cell_type": "markdown",
   "metadata": {},
   "source": [
    "## Sprint 3\n",
    "\n",
    "After completing your MVP ETL, complete an MVP EDA:\n",
    "* Univariate:\n",
    "    * Summary Statistics\n",
    "    * Histograms\n",
    "    * Box-Plots\n",
    "    * Confidence Intervals \n",
    "    * KS-Test\n",
    "* Bivariate:\n",
    "    * Scatter-Plots\n",
    "    * Correlation Map\n",
    "\n",
    "Similar to the `eda.ipynb` file of yours End of Phase 2 Project.\n",
    "\n",
    "Demo the results of this EDA in a quick 5 minutes via guided presentation or slides.\n",
    "At most, this should be one jupyter notebook."
   ]
  }
 ],
 "metadata": {
  "kernelspec": {
   "display_name": "Python 3",
   "language": "python",
   "name": "python3"
  },
  "language_info": {
   "codemirror_mode": {
    "name": "ipython",
    "version": 3
   },
   "file_extension": ".py",
   "mimetype": "text/x-python",
   "name": "python",
   "nbconvert_exporter": "python",
   "pygments_lexer": "ipython3",
   "version": "3.10.7"
  },
  "orig_nbformat": 4
 },
 "nbformat": 4,
 "nbformat_minor": 2
}
