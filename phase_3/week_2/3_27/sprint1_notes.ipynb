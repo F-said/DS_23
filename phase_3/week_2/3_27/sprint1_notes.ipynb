{
 "cells": [
  {
   "attachments": {},
   "cell_type": "markdown",
   "metadata": {},
   "source": [
    "## Stats Review Problems\n",
    "\n",
    "Answer the following questions using the notes from `phase_3/week_1/3_21/basic_stats_review_notes.ipynb` and the respective slides.\n",
    "\n",
    "This will NOT be graded, but we will review answers together."
   ]
  },
  {
   "attachments": {},
   "cell_type": "markdown",
   "metadata": {},
   "source": [
    "## Q1\n",
    "\n",
    "What is the definition a parametric statistical method?\n",
    "\n",
    "Uncomment the best answer"
   ]
  },
  {
   "cell_type": "code",
   "execution_count": null,
   "metadata": {},
   "outputs": [],
   "source": [
    "# print(\"A statistical method that assumes normality of sampling distribution\")\n",
    "# print(\"A statistical method that assumes a skewed distribution\")\n",
    "# print(\"A statistical method that assumes the central limit theorem\")\n",
    "# print(\"A statistical method that assumes the law of large numbers\")"
   ]
  },
  {
   "attachments": {},
   "cell_type": "markdown",
   "metadata": {},
   "source": [
    "## Q2\n",
    "\n",
    "What is the name of the distribution that displays normality after applying the logarithmic function?"
   ]
  },
  {
   "cell_type": "code",
   "execution_count": null,
   "metadata": {},
   "outputs": [],
   "source": [
    "# print(\"Normal Distribution\")\n",
    "# print(\"Log-Normal Distribution\")\n",
    "# print(\"Skewed Distribution\")\n",
    "# print(\"Platykurtic Distribution\")"
   ]
  },
  {
   "attachments": {},
   "cell_type": "markdown",
   "metadata": {},
   "source": [
    "## Q3\n",
    "\n",
    "What is the name of the distribution that displays high peaks & excess outliers?"
   ]
  },
  {
   "cell_type": "code",
   "execution_count": null,
   "metadata": {},
   "outputs": [],
   "source": [
    "# print(\"Leptokurtic Distribution\")\n",
    "# print(\"Mesokurtic Distribution\")\n",
    "# print(\"Platykurtic Distribution\")\n",
    "# print(\"Jurassic Distribution\")"
   ]
  },
  {
   "attachments": {},
   "cell_type": "markdown",
   "metadata": {},
   "source": [
    "## Q4\n",
    "\n",
    "I do NOT know population variance, and I want to analyze the difference in means for 2 groups of data. Which hypothesis test do I use?"
   ]
  },
  {
   "cell_type": "code",
   "execution_count": null,
   "metadata": {},
   "outputs": [],
   "source": [
    "# print(\"Kolmogorov-Smirnov Test\")\n",
    "# print(\"2-Sample T-Test\")\n",
    "# print(\"2-Sample Z-Test\")\n",
    "# print(\"Kruskal-Wallis ANOVA\")"
   ]
  },
  {
   "attachments": {},
   "cell_type": "markdown",
   "metadata": {},
   "source": [
    "## Q5\n",
    "\n",
    "I want to check the difference in means between 3 groups that come from a non-normally distributed dataset. Which test do I use?"
   ]
  },
  {
   "cell_type": "code",
   "execution_count": null,
   "metadata": {},
   "outputs": [],
   "source": [
    "# print(\"Kolmogorov-Smirnov Test\")\n",
    "# print(\"2-Sample T-Test\")\n",
    "# print(\"2-Sample Z-Test\")\n",
    "# print(\"Kruskal-Wallis ANOVA\")"
   ]
  },
  {
   "attachments": {},
   "cell_type": "markdown",
   "metadata": {},
   "source": [
    "## Q6\n",
    "\n",
    "I want to check if a dataset of 1000 samples comes from a normal distribution. Which hypothesis test do I use?"
   ]
  },
  {
   "cell_type": "code",
   "execution_count": null,
   "metadata": {},
   "outputs": [],
   "source": [
    "# print(\"Kolmogorov-Smirnov Test\")\n",
    "# print(\"2-Sample T-Test\")\n",
    "# print(\"2-Sample Z-Test\")\n",
    "# print(\"Kruskal-Wallis ANOVA\")"
   ]
  },
  {
   "attachments": {},
   "cell_type": "markdown",
   "metadata": {},
   "source": [
    "## Sprint 1 Deliverables\n",
    "\n",
    "Sprint 1 Deliverables due 4/3:\n",
    "* Create GitHub Repository\n",
    "* Find or request relevant data & resources\n",
    "* Document datasets \n",
    "\n",
    "    * Quality\n",
    "    * Columns & their definitions\n",
    "    * Dimensions\n",
    "    * Limitations\n",
    "    * Time-Period\n",
    "    * Sources\n",
    "\n",
    "* Plan & start minimal viable model\n",
    "* Generate first tasks in kanban board\n",
    "* Plan data-hosting\n"
   ]
  },
  {
   "attachments": {},
   "cell_type": "markdown",
   "metadata": {},
   "source": [
    "## GitHub Demo\n",
    "\n",
    "Every software team needs to be able to push their code to some central repository. Whether private or public.\n",
    "GitHub Demo Video: \n",
    "\n",
    "[Part 1:  Initial Setup](https://www.youtube.com/watch?v=6xPf-8ekthc)\n",
    "[Part 2: Branching](https://www.youtube.com/watch?v=vJE8q0T72_s)\n",
    "[Part 3: Pull Requests](https://www.youtube.com/watch?v=EsNQsHTqchA)\n",
    "\n",
    "## Branch Naming Conventions\n",
    "\n",
    "Everytime you create a new branch, you will name the branch:\n",
    "* feature-name\n",
    "* fix-name\n",
    "* document-name\n",
    "Depending if you are creating a new feature (or improving upon a feature, making a fix (for a bug), or just simply adding necessary documentation.\n",
    "\n",
    "\n",
    "## Issue Generation\n",
    "\n",
    "For this sprint, you will all plan & begin engineering a Minimum Viable Product.\n",
    "* How do you begin formulating tasks for a team? Divide & Conquer\n",
    "1. Take a specification from your project plan\n",
    "    * Ex:  Implement data cleaning workflow.\n",
    "2. Divide it into as many abstract subproblems as feasible.\n",
    "* Ex: \n",
    "    * Download csv file to local machine\n",
    "    * Implement data removal for columns that contain too many missing rows\n",
    "    * Implement data encoding for all columns containing categories \n",
    "    * Plan UML diagrams for created data-tables\n",
    "    * Set up cleaned table in remote amazon database \n",
    "3. List out all subproblems as issues on GitHub/Jira\n",
    "4. Divide out issues amongst devs \n"
   ]
  },
  {
   "attachments": {},
   "cell_type": "markdown",
   "metadata": {},
   "source": [
    "## Post-Study Material\n",
    "\n",
    "Videos  \n",
    "* [GitHub Playlist](https://www.youtube.com/watch?v=6xPf-8ekthc&list=PLclBFIrEqwsd2xHEITDJfti4t-9YRCxya)  \n",
    "\n",
    "\n",
    "Notes  \n",
    "* [Phase 3 - Week 1 - 3/21 - Notes](https://github.com/The-Knowledge-House/DS_22/blob/main/phase_3/week_1/3_21/basic_stats_review_notes.ipynb)  \n",
    "* [Phase 3 - Week 2 - 3/27 - Notes](https://github.com/The-Knowledge-House/DS_22/blob/main/phase_3/week_2/3_27/sprint1_notes.ipynb)  \n",
    "\n",
    "\n",
    "Reading Material  \n",
    "* [ISLR Ch 2.1 - 2.2](https://hastie.su.domains/ISLR2/ISLRv2_website.pdf)\n",
    "* [ISLR Ch 3.1 - 3.3](https://hastie.su.domains/ISLR2/ISLRv2_website.pdf)\n",
    "* [ISLR Ch 6.2](https://hastie.su.domains/ISLR2/ISLRv2_website.pdf)\n",
    "* [Levene’s Test](https://biotoolbox.binghamton.edu/Biostatistics/Biostatistics%20Student%20Tutorials/Levene%20Test/Levene.pdf)\n",
    "* [ANOVA](https://www.reneshbedre.com/blog/anova.html)\n",
    "* [Kruskal-Wallis](https://www.statisticshowto.com/probability-and-statistics/statistics-definitions/kruskal-wallis/)\n"
   ]
  }
 ],
 "metadata": {
  "language_info": {
   "name": "python"
  },
  "orig_nbformat": 4
 },
 "nbformat": 4,
 "nbformat_minor": 2
}
