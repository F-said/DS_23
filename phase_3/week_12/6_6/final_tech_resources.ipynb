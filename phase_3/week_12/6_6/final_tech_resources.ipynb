{
 "cells": [
  {
   "attachments": {},
   "cell_type": "markdown",
   "metadata": {},
   "source": [
    "## Python Study Resources\n",
    "\n",
    "**Textbooks/Course**\n",
    "1. [Dead Simple Python](https://nostarch.com/download/DeadSimplePython_Chapter5.pdf)\n",
    "2. [Automate the Boring Stuff with Python](https://automatetheboringstuff.com/)\n",
    "3. [Phase 1](/phase_1/)\n",
    "\n",
    "**Exercises**\n",
    "1. [Kaggle Pandas](https://www.kaggle.com/learn/pandas)\n",
    "2. [Kaggle Seaborn](https://www.kaggle.com/learn/data-visualization)\n",
    "3. [Kaggle Data Cleansing](https://www.kaggle.com/learn/data-cleaning)\n",
    "4. [Kaggle Python](https://www.kaggle.com/learn/python)\n",
    "5. [Kaggle Feature Engineering](https://www.kaggle.com/learn/feature-engineering)"
   ]
  },
  {
   "attachments": {},
   "cell_type": "markdown",
   "metadata": {},
   "source": [
    "## SQL Study Resources\n",
    "\n",
    "**Textbooks/Course**\n",
    "1. [Database Systems: The Complete Book](https://people.inf.elte.hu/miiqaai/elektroModulatorDva.pdf)\n",
    "2. [Phase 3](/phase_3/)\n",
    "\n",
    "**Exercises**\n",
    "1. [SQL ZOO](https://sqlzoo.net/wiki/SQL_Tutorial)\n",
    "2. [SQL Murder Mystery](https://mystery.knightlab.com/)\n",
    "3. [Kaggle Intro to SQL](https://www.kaggle.com/learn/intro-to-sql)\n",
    "4. [Advanced SQL](https://www.kaggle.com/learn/advanced-sql)"
   ]
  },
  {
   "attachments": {},
   "cell_type": "markdown",
   "metadata": {},
   "source": [
    "## Tableau Study Resources\n",
    "\n",
    "**Textbooks/Course**\n",
    "1. [Storytelling With Data](https://github.com/Saurav6789/Books-/blob/master/storytelling-with-data-cole-nussbaumer-knaflic.pdf)\n"
   ]
  },
  {
   "attachments": {},
   "cell_type": "markdown",
   "metadata": {},
   "source": [
    "## Excel/VBA Study Resources\n",
    "\n",
    "**Textbooks/Course**\n",
    "1. [Brief Introduction](https://www.simplilearn.com/tutorials/excel-tutorial/excel-vba)\n"
   ]
  },
  {
   "attachments": {},
   "cell_type": "markdown",
   "metadata": {},
   "source": [
    "## Statistics Study Resources\n",
    "\n",
    "**Textbooks/Course**\n",
    "1. [Khan Academy - AP Statistics](https://www.khanacademy.org/math/ap-statistics)\n"
   ]
  },
  {
   "attachments": {},
   "cell_type": "markdown",
   "metadata": {},
   "source": [
    "## Machine Learning Study Resources\n",
    "\n",
    "**Textbooks/Course**\n",
    "1. [Introduction to Statistical Learning](https://hastie.su.domains/ISLR2/ISLRv2_website.pdf)\n",
    "\n",
    "**Exercises**\n",
    "1. [Kaggle Beginner ML](https://www.kaggle.com/learn/intro-to-machine-learning)\n",
    "2. [Kaggle Intermediate ML](https://www.kaggle.com/learn/intermediate-machine-learning)"
   ]
  },
  {
   "attachments": {},
   "cell_type": "markdown",
   "metadata": {},
   "source": [
    "## Philosophy of Artificial Intelligence & Cognition\n",
    "\n",
    "**Textbooks/Course**\n",
    "1. [The Mind Club](https://quickread.com/book-summary/the-mind-club-354)\n",
    "2. [Homo Ludens](https://en.wikipedia.org/wiki/Homo_Ludens)\n",
    "3. [Godel, Escher, Bach](https://en.wikipedia.org/wiki/G%C3%B6del,_Escher,_Bach)"
   ]
  },
  {
   "attachments": {},
   "cell_type": "markdown",
   "metadata": {},
   "source": [
    "## Computer Science Study Resources\n",
    "\n",
    "**Textbooks/Course**\n",
    "1. [CS50](https://www.edx.org/course/introduction-computer-science-harvardx-cs50x?utm_source=google&utm_campaign=19322989673&utm_medium=cpc&utm_term=cs50&hsa_acc=7245054034&hsa_cam=19322989673&hsa_grp=146273875324&hsa_ad=642047721501&hsa_src=g&hsa_tgt=kwd-296840910&hsa_kw=cs50&hsa_mt=e&hsa_net=adwords&hsa_ver=3&gclid=CjwKCAjwsvujBhAXEiwA_UXnAEwb1zhq0_7WYyLHHw2jUU-gXw05NI0bKu5hzEW0t5xd_mOUDm34VxoCmvMQAvD_BwE)\n",
    "2. [Design Patterns: Elements of Reusable Object-Oriented Systems](http://www.javier8a.com/itc/bd1/articulo.pdf)\n"
   ]
  },
  {
   "attachments": {},
   "cell_type": "markdown",
   "metadata": {},
   "source": [
    "## Technical Interview Resources\n",
    "\n",
    "**Exercises**\n",
    "1. [tech_patterns](/tech_patterns/)\n",
    "2. [Neetcode](https://neetcode.io/)\n",
    "3. [Leetcode](https://leetcode.com/problemset/all/)\n",
    "4. [Grokking the Coding Interview](https://www.educative.io/courses/grokking-coding-interview-patterns-python)"
   ]
  },
  {
   "attachments": {},
   "cell_type": "markdown",
   "metadata": {},
   "source": [
    "## Communities to Engage With\n",
    "\n",
    "1. Your peers\n",
    "2. [stackoverflow](https://stackoverflow.com/)\n",
    "3. [crossvalidated](https://stats.stackexchange.com/)"
   ]
  },
  {
   "attachments": {},
   "cell_type": "markdown",
   "metadata": {},
   "source": [
    "## Timeless Projects to Implement\n",
    "\n",
    "1. [Design an API](https://realpython.com/tutorials/api/)\n",
    "2. [Implement a live Dashboard via streamlit](https://docs.streamlit.io/)\n",
    "3. [Implement a Django Data Dashboard](https://www.djangoproject.com/)"
   ]
  },
  {
   "attachments": {},
   "cell_type": "markdown",
   "metadata": {},
   "source": [
    "## General Advice\n",
    "\n",
    "And to finish the \"teaching\" portion of this fellowship, I want to leave you all with some general advice.\n",
    "\n",
    "1. Practice tech/analyst skills at least 30 minutes a day. Skills not practiced are skills forgotten.\n",
    "2. Have a realistic outlook on your skills, but never be needlessly deferential to embedded professionals.\n",
    "3. Rewrite code in personal projects CONSTANTLY.\n",
    "4. Find an organizational tool that best suits you in your pursuit of self-study & work.\n",
    "    * [velocity](https://www.agile-scrum.be/whats-great-scrum-methodology/velocity-chart/)\n",
    "    * [kanban](https://www.atlassian.com/agile/kanban#:~:text=What%20is%20kanban%3F,of%20work%20at%20any%20time.)\n",
    "5. Use the terminal/command prompt ALWAYS."
   ]
  }
 ],
 "metadata": {
  "language_info": {
   "name": "python"
  },
  "orig_nbformat": 4
 },
 "nbformat": 4,
 "nbformat_minor": 2
}
