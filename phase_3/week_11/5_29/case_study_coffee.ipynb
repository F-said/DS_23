{
 "cells": [
  {
   "attachments": {},
   "cell_type": "markdown",
   "metadata": {},
   "source": [
    "## Coffee Data Analytics Case Study\n",
    "\n",
    "We are data analysts for a winery in California. Every year, the winery recieves a wine quality score from the Wine Critics Association (WCA) for each bottle of wine it produces. As this score drives wine sales, we are interested in maximizing this score to boost profits.\n",
    "\n",
    "This year, you were brought along with the team and given a dataset of physicochemical properites and their respective scores. The winery wants you to run your statistical magic & figure out what properties should they focus on in order to get the highest score possible. Check out `data/winequality.README` to find out more about these columns.\n",
    "\n",
    "This data model is located within the Amazon relational database (the very same database we are using for the capstone), so you must use `sqlalchemy` to extract your data. \n",
    "\n",
    "This table saved in this database is named `redwine` and it is located in the `public` (default) schema.\n",
    "\n",
    "## Base Requirements\n",
    "\n",
    "As always, ensure that you are completing all 3 steps of data analysis:\n",
    "\n",
    "**Exploratory Data Analysis**\n",
    "1. Univariate Relationships \n",
    "    * Visualize Distributions (via histograms & qq-plots)\n",
    "    * Quantify Metrics (via kolmogorov-smirnov tests)\n",
    "2. Bivariate Relationships\n",
    "    * Scatter-Plots\n",
    "    * Box-Plots\n",
    "    * Heat Maps\n",
    "3. Normalize Data\n",
    "\n",
    "**Confirmatory/Diagnostic Data Analysis**\n",
    "* Conduct hypothesis tests\n",
    "* Conduct model training \n",
    "\n",
    "**Prescriptive Data Analysis**\n",
    "* Recommend a course of action based on your findings.\n",
    "\n",
    "Please be sure to answer all discussion questions for each respective section."
   ]
  }
 ],
 "metadata": {
  "language_info": {
   "name": "python"
  },
  "orig_nbformat": 4
 },
 "nbformat": 4,
 "nbformat_minor": 2
}
