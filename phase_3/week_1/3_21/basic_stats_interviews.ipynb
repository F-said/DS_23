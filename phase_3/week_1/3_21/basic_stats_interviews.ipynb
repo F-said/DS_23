{
 "cells": [
  {
   "attachments": {},
   "cell_type": "markdown",
   "metadata": {},
   "source": [
    "## Q1\n",
    "\n",
    "You're given a dataset that has less than 50 samples and appears to take a leptokurtic distribution. To confirm, you calculate excess kurtosis and get 1.583. What should your next steps be with this dataset?\n",
    "\n",
    "Uncomment the best answer."
   ]
  },
  {
   "cell_type": "code",
   "execution_count": null,
   "metadata": {},
   "outputs": [],
   "source": [
    "#print(\"Collect more data\")\n",
    "#print(\"Remove outliers\")\n",
    "#print(\"Log-Normalize\")\n",
    "#print(\"Look for more classes in your data\")"
   ]
  },
  {
   "attachments": {},
   "cell_type": "markdown",
   "metadata": {},
   "source": [
    "## Q2\n",
    "\n",
    "You're given a dataset that has multiple \"camel humps.\" What should your next steps be with this dataset?\n",
    "\n",
    "Uncomment the best answer."
   ]
  },
  {
   "cell_type": "code",
   "execution_count": null,
   "metadata": {},
   "outputs": [],
   "source": [
    "#print(\"Collect more data\")\n",
    "#print(\"Remove outliers\")\n",
    "#print(\"Log-Normalize\")\n",
    "#print(\"Look for more classes in your data\")"
   ]
  },
  {
   "attachments": {},
   "cell_type": "markdown",
   "metadata": {},
   "source": [
    "## Q3\n",
    "\n",
    "You're given a dataset that is right-skewed. To confirm, you calculate skew and get a measure of 3.28. What should your next steps be with this dataset?\n",
    "\n",
    "Uncomment the best answer."
   ]
  },
  {
   "cell_type": "code",
   "execution_count": null,
   "metadata": {},
   "outputs": [],
   "source": [
    "#print(\"Collect more data\")\n",
    "#print(\"Remove outliers\")\n",
    "#print(\"Log-Normalize\")\n",
    "#print(\"Look for more classes in your data\")"
   ]
  },
  {
   "attachments": {},
   "cell_type": "markdown",
   "metadata": {},
   "source": [
    "## Q4\n",
    "\n",
    "In all above questions, what sort of distribution are we attempting to find?"
   ]
  },
  {
   "attachments": {},
   "cell_type": "markdown",
   "metadata": {},
   "source": [
    "write answer here"
   ]
  },
  {
   "attachments": {},
   "cell_type": "markdown",
   "metadata": {},
   "source": [
    "For questions 5 - 8, use observations from the following code output:"
   ]
  },
  {
   "cell_type": "code",
   "execution_count": 13,
   "metadata": {},
   "outputs": [
    {
     "name": "stdout",
     "output_type": "stream",
     "text": [
      "ks-test KstestResult(statistic=0.0884061189073454, pvalue=1.3144684207219956e-15)\n",
      "mean of python jobs 105959.2577232143\n",
      "mean of no python jobs 96307.0304407636\n",
      "t-test Ttest_indResult(statistic=4.764643115726993, pvalue=2.013804061910089e-06)\n"
     ]
    },
    {
     "data": {
      "text/plain": [
       "Text(0.5, 0, 'No Python')"
      ]
     },
     "execution_count": 13,
     "metadata": {},
     "output_type": "execute_result"
    },
    {
     "data": {
      "image/png": "[encoded data removed]",
      "text/plain": [
       "<Figure size 432x288 with 2 Axes>"
      ]
     },
     "metadata": {
      "needs_background": "light"
     },
     "output_type": "display_data"
    }
   ],
   "source": [
    "import pandas as pd\n",
    "import seaborn as sns\n",
    "import matplotlib.pyplot as plt\n",
    "import scipy.stats as stats\n",
    "\n",
    "# load end of phase data\n",
    "clean_df = pd.read_csv(\"data/cleaned_data.csv\")\n",
    "\n",
    "# analyze distribution of salary\n",
    "print(\"ks-test\", stats.kstest(clean_df[\"salary_standardized\"], stats.norm.cdf, args=(clean_df[\"salary_standardized\"].mean(), clean_df[\"salary_standardized\"].std())))\n",
    "\n",
    "# split into python & not python\n",
    "df_python = clean_df[clean_df[\"python\"] == 1]\n",
    "df_nopython = clean_df[clean_df[\"python\"] == 0]\n",
    "\n",
    "# perform t-test on python & not python salaries\n",
    "print(\"mean of python jobs\", df_python[\"salary_standardized\"].mean())\n",
    "print(\"mean of no python jobs\", df_nopython[\"salary_standardized\"].mean())\n",
    "print(\"t-test\", stats.ttest_ind(df_python[\"salary_standardized\"], df_nopython[\"salary_standardized\"]))\n",
    "\n",
    "# Create confidence intervals\n",
    "fig, axes = plt.subplots(1, 2, sharey=True)\n",
    "\n",
    "sns.barplot(data=df_python, y=\"salary_standardized\", estimator='mean', errorbar=('ci', 95),  ax=axes[0])\n",
    "sns.barplot(data=df_nopython, y=\"salary_standardized\", estimator='mean', errorbar=('ci', 95),  ax=axes[1])\n",
    "\n",
    "plt.ylim(80_000, 110_000)\n",
    "\n",
    "axes[0].set_xlabel(\"Python\")\n",
    "axes[1].set_xlabel(\"No Python\")"
   ]
  },
  {
   "attachments": {},
   "cell_type": "markdown",
   "metadata": {},
   "source": [
    "## Q5\n",
    "\n",
    "What does the kolmogorov-smirnov test tell you about the distribution of salaries?"
   ]
  },
  {
   "attachments": {},
   "cell_type": "markdown",
   "metadata": {},
   "source": [
    "write answer here "
   ]
  },
  {
   "attachments": {},
   "cell_type": "markdown",
   "metadata": {},
   "source": [
    "## Q6\n",
    "\n",
    "What does the t-test AND confidence intervals tell you about the difference in means?"
   ]
  },
  {
   "attachments": {},
   "cell_type": "markdown",
   "metadata": {},
   "source": [
    "write answer here "
   ]
  },
  {
   "attachments": {},
   "cell_type": "markdown",
   "metadata": {},
   "source": [
    "## Q8\n",
    "\n",
    "What would be a good null hypothesis and alternative hypothesis to this experiment?"
   ]
  },
  {
   "attachments": {},
   "cell_type": "markdown",
   "metadata": {},
   "source": [
    "write answer here "
   ]
  },
  {
   "attachments": {},
   "cell_type": "markdown",
   "metadata": {},
   "source": [
    "For questions 9-10, use observations from the following code output:"
   ]
  },
  {
   "cell_type": "code",
   "execution_count": 15,
   "metadata": {},
   "outputs": [
    {
     "name": "stdout",
     "output_type": "stream",
     "text": [
      "ks-test KstestResult(statistic=0.07990391430043425, pvalue=1.3088192962414895e-12)\n",
      "sql: 0.0\n",
      "python: 2.5243e-06\n",
      "tableau: 2.8763e-06\n",
      "r: 4.6844e-06\n",
      "github: 0.1058863898\n",
      "work_from_home: 2e-10\n",
      "excel: 3.41362e-05\n",
      "word: 7.96773e-05\n",
      "azure: 0.0002164916\n",
      "git: 0.211757961\n",
      "matlab: 0.977035646\n",
      "spss: 0.0618194135\n",
      "numpy: 0.4362046892\n",
      "power_bi: 5.025e-07\n",
      "ruby: 0.4021377415\n",
      "java: 0.0114945168\n",
      "rust: 1.0\n",
      "c: 0.0020080001\n",
      "html: 0.7108159081\n",
      "mysql: 0.4134360891\n",
      "tensorflow: 0.7737739863\n"
     ]
    }
   ],
   "source": [
    "from sklearn.feature_selection import f_regression\n",
    "import numpy as np\n",
    "import scipy.stats as stats\n",
    "\n",
    "# remove outliers\n",
    "clean_df = clean_df[(np.abs(stats.zscore(clean_df[\"salary_standardized\"])) < 3)]\n",
    "\n",
    "# analyze distribution of salary\n",
    "print(\"ks-test\", stats.kstest(clean_df[\"salary_standardized\"], stats.norm.cdf, args=(clean_df[\"salary_standardized\"].mean(), clean_df[\"salary_standardized\"].std())))\n",
    "\n",
    "# create training data & testing data\n",
    "train = clean_df[[\"sql\", \"python\", \"tableau\", \"r\", \"github\", \"work_from_home\", \"excel\", \"word\", \"azure\",\n",
    "                   \"git\", \"matlab\", \"spss\", \"numpy\", \"power_bi\", \"ruby\", \"java\", \"rust\", \"c\", \"html\", \n",
    "                   \"mysql\", \"tensorflow\"]]\n",
    "target = clean_df[\"salary_standardized\"]\n",
    "\n",
    "freg=f_regression(train,target)\n",
    "\n",
    "for i, name in enumerate(train.columns):\n",
    "    print(name, end=\": \")\n",
    "    print(round(freg[1][i], 10))"
   ]
  },
  {
   "attachments": {},
   "cell_type": "markdown",
   "metadata": {},
   "source": [
    "## Q9\n",
    "\n",
    "What did you notice about the kolmogorov smirnov test after we removed outliers? Is it larger? Smaller?"
   ]
  },
  {
   "attachments": {},
   "cell_type": "markdown",
   "metadata": {},
   "source": [
    "write answer here "
   ]
  },
  {
   "attachments": {},
   "cell_type": "markdown",
   "metadata": {},
   "source": [
    "## Q10\n",
    "\n",
    "Take a look at the p-values for your linear regression coefficients. Which ones are not significant?"
   ]
  },
  {
   "attachments": {},
   "cell_type": "markdown",
   "metadata": {},
   "source": [
    "write answer here"
   ]
  }
 ],
 "metadata": {
  "kernelspec": {
   "display_name": "Python 3",
   "language": "python",
   "name": "python3"
  },
  "language_info": {
   "codemirror_mode": {
    "name": "ipython",
    "version": 3
   },
   "file_extension": ".py",
   "mimetype": "text/x-python",
   "name": "python",
   "nbconvert_exporter": "python",
   "pygments_lexer": "ipython3",
   "version": "3.10.7"
  },
  "orig_nbformat": 4
 },
 "nbformat": 4,
 "nbformat_minor": 2
}
