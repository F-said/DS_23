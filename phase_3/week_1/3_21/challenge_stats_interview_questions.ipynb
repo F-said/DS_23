{
 "cells": [
  {
   "attachments": {},
   "cell_type": "markdown",
   "metadata": {},
   "source": [
    "## Q1\n",
    "\n",
    "You are getting a test for a disease. This test has a 75% accuracy rate, and has an occurence rate in the United States of 5%. \n",
    "\n",
    "What is the probability that you have this disease, given then you have recieved a positive result?"
   ]
  },
  {
   "attachments": {},
   "cell_type": "markdown",
   "metadata": {},
   "source": [
    "write probability here"
   ]
  },
  {
   "attachments": {},
   "cell_type": "markdown",
   "metadata": {},
   "source": [
    "## Q2\n",
    "\n",
    "We have a deck of 52 cards with 4 suites: heart, spade, diamond, and clubs.\n",
    "\n",
    "What is the probability of randomly selecting a Queen or a Diamond card?"
   ]
  },
  {
   "attachments": {},
   "cell_type": "markdown",
   "metadata": {},
   "source": [
    "write probability here"
   ]
  },
  {
   "attachments": {},
   "cell_type": "markdown",
   "metadata": {},
   "source": [
    "## Q3\n",
    "\n",
    "We have 10 cube marbles and 10 sphere marbles.\n",
    "\n",
    "Each type of marble has 5 red marbles and 5 yellow marbles.\n",
    "\n",
    "What is the probability of selecting a red marble or a cube marble?"
   ]
  },
  {
   "attachments": {},
   "cell_type": "markdown",
   "metadata": {},
   "source": [
    "write probability here"
   ]
  },
  {
   "attachments": {},
   "cell_type": "markdown",
   "metadata": {},
   "source": [
    "## Q4\n",
    "\n",
    "In your own words, how is standard error related to the central limit theorem?"
   ]
  },
  {
   "attachments": {},
   "cell_type": "markdown",
   "metadata": {},
   "source": [
    "write answer here"
   ]
  },
  {
   "attachments": {},
   "cell_type": "markdown",
   "metadata": {},
   "source": [
    "## Q5\n",
    "\n",
    "In what sort of system do we find uniform distribution?"
   ]
  },
  {
   "attachments": {},
   "cell_type": "markdown",
   "metadata": {},
   "source": [
    "write answer here"
   ]
  },
  {
   "attachments": {},
   "cell_type": "markdown",
   "metadata": {},
   "source": [
    "## Q4\n",
    "\n",
    "You are analyzing the effect of vitamin D on a group of 25 US Adults. At week 0, you survey their happiness score and then begin a 5 week trial where you direct them to take 15 mcg of vitamin D every day.\n",
    "\n",
    "At week 5, you survey their happiness score again.\n",
    "\n",
    "What kind of t-test should you perform on this experiment?"
   ]
  },
  {
   "attachments": {},
   "cell_type": "markdown",
   "metadata": {},
   "source": [
    "write answer here"
   ]
  },
  {
   "attachments": {},
   "cell_type": "markdown",
   "metadata": {},
   "source": [
    "## Q5\n",
    "\n",
    "You are analyzing the sentiment of US adults on artificial intelligence in the workplace. You survey a group of 50 fellows studying data science & python.\n",
    "\n",
    "You conduct this experiment by splitting them up into two groups of equal participants. In the first group, you allow them to interact with an AI that inserts human language modifiers into its speech. For example, it occasionally uses human expressions such as \"hmmm\" or \"like.\"\n",
    "\n",
    "The second group interacts with an AI model that speaks precisely and without this language modifier.\n",
    "\n",
    "What kind of t-test should you perform?"
   ]
  },
  {
   "attachments": {},
   "cell_type": "markdown",
   "metadata": {},
   "source": [
    "write answer here"
   ]
  },
  {
   "attachments": {},
   "cell_type": "markdown",
   "metadata": {},
   "source": [
    "## Q6\n",
    "\n",
    "Is there any problem with this experiment? Do you notice any experimental anti-patterns that could lead to bias?"
   ]
  },
  {
   "attachments": {},
   "cell_type": "markdown",
   "metadata": {},
   "source": [
    "write answer here"
   ]
  },
  {
   "attachments": {},
   "cell_type": "markdown",
   "metadata": {},
   "source": [
    "## Q7\n",
    "\n",
    "Explain confidence intervals in your own words."
   ]
  },
  {
   "attachments": {},
   "cell_type": "markdown",
   "metadata": {},
   "source": [
    "write answer here"
   ]
  },
  {
   "attachments": {},
   "cell_type": "markdown",
   "metadata": {},
   "source": [
    "## Q8\n",
    "\n",
    "What is the difference between the law of large numbers & the central limit theorem?"
   ]
  },
  {
   "attachments": {},
   "cell_type": "markdown",
   "metadata": {},
   "source": [
    "write answer here"
   ]
  },
  {
   "attachments": {},
   "cell_type": "markdown",
   "metadata": {},
   "source": [
    "## Q9\n",
    "\n",
    "What kind of distribution does linear regression assume?"
   ]
  },
  {
   "attachments": {},
   "cell_type": "markdown",
   "metadata": {},
   "source": [
    "write answer here"
   ]
  },
  {
   "attachments": {},
   "cell_type": "markdown",
   "metadata": {},
   "source": [
    "Another form of distribution that we should commit to memory is the [binomial distribution](https://www.cuemath.com/binomial-distribution-formula/).\n",
    "\n",
    "This distribution measures the probability of achieving success out of a certain number of trials.\n",
    "\n",
    "Use the link above to review the formula and apply it to questions 10-12 listed below."
   ]
  },
  {
   "attachments": {},
   "cell_type": "markdown",
   "metadata": {},
   "source": [
    "## Q10\n",
    "\n",
    "What is the probability of getting one 5 on throwing dice 7 times?"
   ]
  },
  {
   "attachments": {},
   "cell_type": "markdown",
   "metadata": {},
   "source": [
    "write answer here"
   ]
  },
  {
   "attachments": {},
   "cell_type": "markdown",
   "metadata": {},
   "source": [
    "## Q11\n",
    "\n",
    "What's the probability of obtaining 2 tails in 5 coin flips?”"
   ]
  },
  {
   "attachments": {},
   "cell_type": "markdown",
   "metadata": {},
   "source": [
    "write answer here"
   ]
  },
  {
   "attachments": {},
   "cell_type": "markdown",
   "metadata": {},
   "source": [
    "## Q12\n",
    "\n",
    "A discount coupon is given to N riders. The probability of using a coupon is P. What is the probability that one of the coupons will be used?"
   ]
  },
  {
   "attachments": {},
   "cell_type": "markdown",
   "metadata": {},
   "source": [
    "write answer here"
   ]
  },
  {
   "attachments": {},
   "cell_type": "markdown",
   "metadata": {},
   "source": [
    "## Q13\n",
    "\n",
    "There is one ant located on each vertex of a pentagon.\n",
    "\n",
    "When a whistle is blown, the ants randomly choose a side of their respective pentagon (left or right) to travel on.\n",
    "\n",
    "What is the probability of a collision?"
   ]
  },
  {
   "attachments": {},
   "cell_type": "markdown",
   "metadata": {},
   "source": [
    "write answer here"
   ]
  },
  {
   "attachments": {},
   "cell_type": "markdown",
   "metadata": {},
   "source": [
    "## Q14\n",
    "\n",
    "What is the probability of no-collisions?"
   ]
  },
  {
   "attachments": {},
   "cell_type": "markdown",
   "metadata": {},
   "source": [
    "write answer here"
   ]
  },
  {
   "attachments": {},
   "cell_type": "markdown",
   "metadata": {},
   "source": [
    "## Q15\n",
    "\n",
    "What are the two general types of data? What differs the two?"
   ]
  },
  {
   "attachments": {},
   "cell_type": "markdown",
   "metadata": {},
   "source": [
    "write answer here"
   ]
  }
 ],
 "metadata": {
  "language_info": {
   "name": "python"
  },
  "orig_nbformat": 4
 },
 "nbformat": 4,
 "nbformat_minor": 2
}
