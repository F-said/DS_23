{
 "cells": [
  {
   "attachments": {},
   "cell_type": "markdown",
   "metadata": {},
   "source": [
    "## Review Material\n",
    "\n",
    "* [Different Types of Software Management]()\n",
    "* [Roles & Responsibilites](https://www.hexacta.com/infographic-software-development-project-roles-and-responsibilities/)\n"
   ]
  }
 ],
 "metadata": {
  "language_info": {
   "name": "python"
  },
  "orig_nbformat": 4
 },
 "nbformat": 4,
 "nbformat_minor": 2
}
