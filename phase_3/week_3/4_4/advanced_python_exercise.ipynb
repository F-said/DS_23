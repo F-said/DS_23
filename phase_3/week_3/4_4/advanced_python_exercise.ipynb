{
 "cells": [
  {
   "attachments": {},
   "cell_type": "markdown",
   "metadata": {},
   "source": [
    "## Exercise\n",
    "\n",
    "Complete the web-scraping exercise from the notes. Modify your code to save the population of each country into a pandas dataframe, and return the top 5 countries in terms of population."
   ]
  },
  {
   "cell_type": "code",
   "execution_count": null,
   "metadata": {},
   "outputs": [],
   "source": []
  },
  {
   "attachments": {},
   "cell_type": "markdown",
   "metadata": {},
   "source": [
    "## Challenge \n",
    "\n",
    "Scrape the following page: https://www.scrapethissite.com/pages/forms/\n",
    "\n",
    "Extract information on team name and team wins, and save it to a dataframe.\n",
    "\n",
    "You will have to utilize documentation to figure out how to paginate & create subsequent filters:\n",
    "\n",
    "https://oxylabs.io/blog/pagination-in-web-scraping"
   ]
  },
  {
   "cell_type": "code",
   "execution_count": null,
   "metadata": {},
   "outputs": [],
   "source": []
  }
 ],
 "metadata": {
  "language_info": {
   "name": "python"
  },
  "orig_nbformat": 4
 },
 "nbformat": 4,
 "nbformat_minor": 2
}
