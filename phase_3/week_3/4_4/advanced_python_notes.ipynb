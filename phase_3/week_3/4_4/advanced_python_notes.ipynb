{
 "cells": [
  {
   "attachments": {},
   "cell_type": "markdown",
   "metadata": {},
   "source": [
    "## Advanced Python Features\n",
    "\n",
    "While the title of this week's lesson is \"Advanced\" Python features, these are still basic features that all Python developers should be familiar with. True \"advanced\" features will reveal themselves in your implementations.\n",
    "\n",
    "Before we go over any new features (that we might have seen already), let's take some time to also review the features of Python we did not get a chance to explore."
   ]
  },
  {
   "attachments": {},
   "cell_type": "markdown",
   "metadata": {},
   "source": [
    "## Collection Data Types\n",
    "\n",
    "### NamedTuple\n",
    "A namedtuple is a tuple (immutable list) that has labels for each value that is stored inside of it. This is a quick and easy way to implement immutable \"method-less objects.\"\n",
    "\n",
    "We implement a namedtuple through the following pattern: `x = namedtuple(\"Name\", [\"attr1\", \"attr2\", \"attr3\"])`\n",
    "\n",
    "```python\n",
    "from collections import namedtuple\n",
    "\n",
    "Cooridinate = namedtuple(\"Cooridinate\", [\"x\", \"y\", \"z\"])\n",
    "\n",
    "p1 = Cooridinate(10, 20, 3)\n",
    "p2 = Cooridinate(5, 3, 19)\n",
    "\n",
    "# this calculates to 15\n",
    "print(p1.x + p2.x)\n",
    "\n",
    "# this also calculates to 15\n",
    "print(p1[0] + p2[0])\n",
    "\n",
    "# this calculates to 49\n",
    "print(p1.y + p2.z)\n",
    "```\n",
    "\n",
    "There are a variety of other useful data-structs in \"Collections\", and I encourage you all to explore this documentation: https://docs.python.org/3/library/collections.html"
   ]
  },
  {
   "cell_type": "code",
   "execution_count": 1,
   "metadata": {},
   "outputs": [
    {
     "name": "stdout",
     "output_type": "stream",
     "text": [
      "5321\n"
     ]
    }
   ],
   "source": [
    "# What is the result of this code?\n",
    "from collections import namedtuple\n",
    "\n",
    "Cooridinate = namedtuple(\"Cooridinate\", [\"x\", \"y\", \"z\"])\n",
    "\n",
    "p1 = Cooridinate(\"53\", 20, \"19\")\n",
    "p2 = Cooridinate(\"21\", 19, \"28\")\n",
    "\n",
    "print(p1.x + p2.x)"
   ]
  },
  {
   "attachments": {},
   "cell_type": "markdown",
   "metadata": {},
   "source": [
    "## Generators\n",
    "\n",
    "Let's say you are reading in a large file or calculating a series of numbers that entails too much memory usage. This could easily lead to a runtime memory error if we utilize more memory than is allocated on our OS for running programs. \n",
    "\n",
    "```python\n",
    "def infinite_sequence():\n",
    "    num = 0\n",
    "    # this will eventually crash\n",
    "    while True:\n",
    "        print(num)\n",
    "        num += 1\n",
    "```\n",
    "\n",
    "```python\n",
    "def infinite_sequence():\n",
    "    num = 0\n",
    "    # this will run \"forever\"\n",
    "    while True:\n",
    "        yield num\n",
    "        num += 1\n",
    "```\n",
    "\n",
    "In general, this is a great memory saving technique that we should implement when we need to keep track of some internal state (variable) while also pulling up data in a memory friendly way.\n",
    "\n",
    "We likewise create generators by utilizing paranthesis instead of square-brackets in our list-comprehension!\n",
    "\n",
    "```python\n",
    "nums_squared = (num**2 for num in range(5))\n",
    "```\n",
    "\n",
    "I recommend you take a look at the following RealPython article to get a good idea of how generators are used:\n",
    "\n",
    "https://realpython.com/introduction-to-python-generators/"
   ]
  },
  {
   "cell_type": "code",
   "execution_count": null,
   "metadata": {},
   "outputs": [],
   "source": [
    "import sys\n",
    "\n",
    "# RealPython Example\n",
    "\n",
    "# list comprehension\n",
    "nums_squared_lc = [i ** 2 for i in range(10000)]\n",
    "print(sys.getsizeof(nums_squared_lc))\n",
    "\n",
    "\n",
    "# generator\n",
    "nums_squared_gc = (i ** 2 for i in range(10000))\n",
    "print(sys.getsizeof(nums_squared_gc))"
   ]
  },
  {
   "attachments": {},
   "cell_type": "markdown",
   "metadata": {},
   "source": [
    "## Decorators\n",
    "\n",
    "Decorators, in essence, are just functions that wrap around other functions to implement additional functionality. We can always implement our own decorators, but we often use the [functools](https://docs.python.org/3/library/functools.html) module which loads some useful decorators that we can use to save on memory. \n",
    "\n",
    "I recommend you take a look at the following RealPython article(s) to get a good idea of how decorators are used.\n",
    "\n",
    "https://realpython.com/primer-on-python-decorators/  \n",
    "https://docs.python.org/3/library/functools.html  \n",
    "https://refactoring.guru/design-patterns/decorator  "
   ]
  },
  {
   "cell_type": "code",
   "execution_count": null,
   "metadata": {},
   "outputs": [],
   "source": [
    "# Real Python example\n",
    "def my_decorator(func):\n",
    "    def wrapper():\n",
    "        print(\"hello world!\")\n",
    "        func()\n",
    "        print(\"goodbye world!\")\n",
    "    return wrapper\n",
    "\n",
    "@my_decorator\n",
    "def do_maths():\n",
    "    print(\"1 + 1 = 2\")\n",
    "\n",
    "do_maths()"
   ]
  },
  {
   "cell_type": "code",
   "execution_count": null,
   "metadata": {},
   "outputs": [],
   "source": [
    "from functools import cache\n",
    "\n",
    "# cache's are super useful when it comes to recursion, let's compare \n",
    "@cache\n",
    "def cache_factorial(n):\n",
    "    return n * cache_factorial(n-1) if n else 1\n",
    "\n",
    "\n",
    "def factorial(n):\n",
    "    return n * factorial(n-1) if n else 1"
   ]
  },
  {
   "cell_type": "code",
   "execution_count": null,
   "metadata": {},
   "outputs": [],
   "source": [
    "import time\n",
    "\n",
    "start = time.time()\n",
    "res = cache_factorial(1200)\n",
    "end = time.time()\n",
    "\n",
    "print(\"This took \", end - start, \" seconds\")\n",
    "\n",
    "start = time.time()\n",
    "res = factorial(1200)\n",
    "end = time.time()\n",
    "\n",
    "print(\"This took \", end - start, \" seconds\")"
   ]
  },
  {
   "cell_type": "code",
   "execution_count": null,
   "metadata": {},
   "outputs": [],
   "source": [
    "start = time.time()\n",
    "res = cache_factorial(1000)\n",
    "end = time.time()\n",
    "\n",
    "print(\"This took \", end - start, \" seconds\")\n",
    "\n",
    "start = time.time()\n",
    "res = factorial(1000)\n",
    "end = time.time()\n",
    "\n",
    "print(\"This took \", end - start, \" seconds\")\n",
    "\n",
    "# notice the difference in time efficiency!"
   ]
  },
  {
   "attachments": {},
   "cell_type": "markdown",
   "metadata": {},
   "source": [
    "## Packing & Unpacking\n",
    "\n",
    "A feature of Python you all might have seen already in the domain of data-structures is packing & unpacking. \n",
    "\n",
    "We can pack a list using the `*` operator, and similarly unpack a list by placing the asterisk behind the list variable name as we pass it into a function.\n",
    "\n",
    "**list packing**\n",
    "```python\n",
    "a, *b, c = [1, 2, 3, 4, 5, 6]\n",
    "```\n",
    "\n",
    "**list unpacking**\n",
    "```python\n",
    "def adder(a, b, c, d):\n",
    "    return a + b + c + d\n",
    "\n",
    "x = [1, 2, 3, 4]\n",
    "adder(*x)\n",
    "```\n",
    "\n",
    "The same applies for dictionaries, except this time we utilize two asterisks `**`.\n",
    "\n",
    "**dictionary unpacking**\n",
    "```python\n",
    "def adder(a, b, c, d):\n",
    "    return a + b + c + d\n",
    "\n",
    "x = {\"a\": 1, \"b\": 2, \"c\": 3, \"d\": 4}\n",
    "adder(**x)\n",
    "```\n",
    "\n",
    "https://www.geeksforgeeks.org/packing-and-unpacking-arguments-in-python/\n",
    "\n",
    "\n",
    "Attempt to solve the 3 questions in the below code-block. Questions are labeled as `Q#` and set as comments. Write your answer below or next to the question. Attempt to do this without running!"
   ]
  },
  {
   "cell_type": "code",
   "execution_count": null,
   "metadata": {},
   "outputs": [],
   "source": [
    "x = [1, 2, 3, 4]\n",
    "y = [5, 6, 7, 8]\n",
    "\n",
    "z = {\"a\": 1, \"b\": 2, \"c\": 3}\n",
    "\n",
    "def var_reveal(a, b, c):\n",
    "    print(\"The value of a is\", a)\n",
    "    print(\"The value of b is\", b)\n",
    "    print(\"The value of c is\", c)\n",
    "\n",
    "# Q1: what will be the result of this print statement?\n",
    "print([*x, *y])\n",
    "\n",
    "# Q2: what will be the result of this print statement?\n",
    "print(var_reveal(**z))\n",
    "\n",
    "x, *y, z = [1, 2, 3, 4]\n",
    "# Q3: what will be the result of this print statement?\n",
    "print(y)"
   ]
  },
  {
   "attachments": {},
   "cell_type": "markdown",
   "metadata": {},
   "source": [
    "## Web-Scraping\n",
    "\n"
   ]
  },
  {
   "attachments": {},
   "cell_type": "markdown",
   "metadata": {},
   "source": [
    "## HTML\n",
    "\n",
    "Before we enter the exciting and new world of scraping data from a website, let's familiarize ourselves with `HTML` (Hyper-Text Markup-Langauge). \n",
    "\n",
    "Now even though there is \"langauge\" in the name, we do not consider this to be a \"formal\" programming language. This is because, at its heart, HTML was engineered to represent information in some structured format rather introduce logical structures or data manipulation. \n",
    "\n",
    "This fact make websites a prime candidate for data-gathering. There is some sort of information that we want to extract, it just unfortunately isn't immediately available to us and furthermore most likely unstructured."
   ]
  },
  {
   "attachments": {},
   "cell_type": "markdown",
   "metadata": {},
   "source": [
    "## Selenium\n",
    "\n"
   ]
  },
  {
   "attachments": {},
   "cell_type": "markdown",
   "metadata": {},
   "source": [
    "## BS4 Basics\n",
    "\n"
   ]
  }
 ],
 "metadata": {
  "kernelspec": {
   "display_name": "Python 3",
   "language": "python",
   "name": "python3"
  },
  "language_info": {
   "name": "python",
   "version": "3.10.7"
  },
  "orig_nbformat": 4
 },
 "nbformat": 4,
 "nbformat_minor": 2
}
