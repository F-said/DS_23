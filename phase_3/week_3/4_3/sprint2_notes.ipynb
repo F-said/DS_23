{
 "cells": [
  {
   "attachments": {},
   "cell_type": "markdown",
   "metadata": {},
   "source": [
    "## Linear Regression & Stats\n",
    "\n",
    "We now want to utilize the insight gained from informative analytics to PREDICTIVE ANALYTICS \n",
    "This is also known as machine-learning, statistical-learning, model-fitting, etc\n",
    "Our study of data analytics will entail…\n",
    "\n",
    "* Linear regression\n",
    "* Polynomial regression\n",
    "* Error Reduction in Linear Regression\n",
    "\n",
    "Let's analyze facebook data from 2014 (back when facebook was cool). Data pulled from: https://archive.ics.uci.edu/ml/datasets/Facebook+metrics\n",
    "\n",
    "Let's focus on predicting on total \"interactions.\""
   ]
  },
  {
   "cell_type": "code",
   "execution_count": 80,
   "metadata": {},
   "outputs": [
    {
     "data": {
      "text/html": [
       "<div>\n",
       "<style scoped>\n",
       "    .dataframe tbody tr th:only-of-type {\n",
       "        vertical-align: middle;\n",
       "    }\n",
       "\n",
       "    .dataframe tbody tr th {\n",
       "        vertical-align: top;\n",
       "    }\n",
       "\n",
       "    .dataframe thead th {\n",
       "        text-align: right;\n",
       "    }\n",
       "</style>\n",
       "<table border=\"1\" class=\"dataframe\">\n",
       "  <thead>\n",
       "    <tr style=\"text-align: right;\">\n",
       "      <th></th>\n",
       "      <th>Page total likes</th>\n",
       "      <th>Type</th>\n",
       "      <th>Category</th>\n",
       "      <th>Post Month</th>\n",
       "      <th>Post Weekday</th>\n",
       "      <th>Post Hour</th>\n",
       "      <th>Paid</th>\n",
       "      <th>Lifetime Post Total Reach</th>\n",
       "      <th>Lifetime Post Total Impressions</th>\n",
       "      <th>Lifetime Engaged Users</th>\n",
       "      <th>Lifetime Post Consumers</th>\n",
       "      <th>Lifetime Post Consumptions</th>\n",
       "      <th>Lifetime Post Impressions by people who have liked your Page</th>\n",
       "      <th>Lifetime Post reach by people who like your Page</th>\n",
       "      <th>Lifetime People who have liked your Page and engaged with your post</th>\n",
       "      <th>comment</th>\n",
       "      <th>like</th>\n",
       "      <th>share</th>\n",
       "      <th>Total Interactions</th>\n",
       "    </tr>\n",
       "  </thead>\n",
       "  <tbody>\n",
       "    <tr>\n",
       "      <th>0</th>\n",
       "      <td>139441</td>\n",
       "      <td>Photo</td>\n",
       "      <td>2</td>\n",
       "      <td>12</td>\n",
       "      <td>4</td>\n",
       "      <td>3</td>\n",
       "      <td>0.0</td>\n",
       "      <td>2752</td>\n",
       "      <td>5091</td>\n",
       "      <td>178</td>\n",
       "      <td>109</td>\n",
       "      <td>159</td>\n",
       "      <td>3078</td>\n",
       "      <td>1640</td>\n",
       "      <td>119</td>\n",
       "      <td>4</td>\n",
       "      <td>79.0</td>\n",
       "      <td>17.0</td>\n",
       "      <td>100</td>\n",
       "    </tr>\n",
       "    <tr>\n",
       "      <th>1</th>\n",
       "      <td>139441</td>\n",
       "      <td>Status</td>\n",
       "      <td>2</td>\n",
       "      <td>12</td>\n",
       "      <td>3</td>\n",
       "      <td>10</td>\n",
       "      <td>0.0</td>\n",
       "      <td>10460</td>\n",
       "      <td>19057</td>\n",
       "      <td>1457</td>\n",
       "      <td>1361</td>\n",
       "      <td>1674</td>\n",
       "      <td>11710</td>\n",
       "      <td>6112</td>\n",
       "      <td>1108</td>\n",
       "      <td>5</td>\n",
       "      <td>130.0</td>\n",
       "      <td>29.0</td>\n",
       "      <td>164</td>\n",
       "    </tr>\n",
       "    <tr>\n",
       "      <th>2</th>\n",
       "      <td>139441</td>\n",
       "      <td>Photo</td>\n",
       "      <td>3</td>\n",
       "      <td>12</td>\n",
       "      <td>3</td>\n",
       "      <td>3</td>\n",
       "      <td>0.0</td>\n",
       "      <td>2413</td>\n",
       "      <td>4373</td>\n",
       "      <td>177</td>\n",
       "      <td>113</td>\n",
       "      <td>154</td>\n",
       "      <td>2812</td>\n",
       "      <td>1503</td>\n",
       "      <td>132</td>\n",
       "      <td>0</td>\n",
       "      <td>66.0</td>\n",
       "      <td>14.0</td>\n",
       "      <td>80</td>\n",
       "    </tr>\n",
       "    <tr>\n",
       "      <th>3</th>\n",
       "      <td>139441</td>\n",
       "      <td>Photo</td>\n",
       "      <td>2</td>\n",
       "      <td>12</td>\n",
       "      <td>2</td>\n",
       "      <td>10</td>\n",
       "      <td>1.0</td>\n",
       "      <td>50128</td>\n",
       "      <td>87991</td>\n",
       "      <td>2211</td>\n",
       "      <td>790</td>\n",
       "      <td>1119</td>\n",
       "      <td>61027</td>\n",
       "      <td>32048</td>\n",
       "      <td>1386</td>\n",
       "      <td>58</td>\n",
       "      <td>1572.0</td>\n",
       "      <td>147.0</td>\n",
       "      <td>1777</td>\n",
       "    </tr>\n",
       "    <tr>\n",
       "      <th>4</th>\n",
       "      <td>139441</td>\n",
       "      <td>Photo</td>\n",
       "      <td>2</td>\n",
       "      <td>12</td>\n",
       "      <td>2</td>\n",
       "      <td>3</td>\n",
       "      <td>0.0</td>\n",
       "      <td>7244</td>\n",
       "      <td>13594</td>\n",
       "      <td>671</td>\n",
       "      <td>410</td>\n",
       "      <td>580</td>\n",
       "      <td>6228</td>\n",
       "      <td>3200</td>\n",
       "      <td>396</td>\n",
       "      <td>19</td>\n",
       "      <td>325.0</td>\n",
       "      <td>49.0</td>\n",
       "      <td>393</td>\n",
       "    </tr>\n",
       "  </tbody>\n",
       "</table>\n",
       "</div>"
      ],
      "text/plain": [
       "   Page total likes    Type  Category  Post Month  Post Weekday  Post Hour  \\\n",
       "0            139441   Photo         2          12             4          3   \n",
       "1            139441  Status         2          12             3         10   \n",
       "2            139441   Photo         3          12             3          3   \n",
       "3            139441   Photo         2          12             2         10   \n",
       "4            139441   Photo         2          12             2          3   \n",
       "\n",
       "   Paid  Lifetime Post Total Reach  Lifetime Post Total Impressions  \\\n",
       "0   0.0                       2752                             5091   \n",
       "1   0.0                      10460                            19057   \n",
       "2   0.0                       2413                             4373   \n",
       "3   1.0                      50128                            87991   \n",
       "4   0.0                       7244                            13594   \n",
       "\n",
       "   Lifetime Engaged Users  Lifetime Post Consumers  \\\n",
       "0                     178                      109   \n",
       "1                    1457                     1361   \n",
       "2                     177                      113   \n",
       "3                    2211                      790   \n",
       "4                     671                      410   \n",
       "\n",
       "   Lifetime Post Consumptions  \\\n",
       "0                         159   \n",
       "1                        1674   \n",
       "2                         154   \n",
       "3                        1119   \n",
       "4                         580   \n",
       "\n",
       "   Lifetime Post Impressions by people who have liked your Page  \\\n",
       "0                                               3078              \n",
       "1                                              11710              \n",
       "2                                               2812              \n",
       "3                                              61027              \n",
       "4                                               6228              \n",
       "\n",
       "   Lifetime Post reach by people who like your Page  \\\n",
       "0                                              1640   \n",
       "1                                              6112   \n",
       "2                                              1503   \n",
       "3                                             32048   \n",
       "4                                              3200   \n",
       "\n",
       "   Lifetime People who have liked your Page and engaged with your post  \\\n",
       "0                                                119                     \n",
       "1                                               1108                     \n",
       "2                                                132                     \n",
       "3                                               1386                     \n",
       "4                                                396                     \n",
       "\n",
       "   comment    like  share  Total Interactions  \n",
       "0        4    79.0   17.0                 100  \n",
       "1        5   130.0   29.0                 164  \n",
       "2        0    66.0   14.0                  80  \n",
       "3       58  1572.0  147.0                1777  \n",
       "4       19   325.0   49.0                 393  "
      ]
     },
     "execution_count": 80,
     "metadata": {},
     "output_type": "execute_result"
    }
   ],
   "source": [
    "import pandas as pd\n",
    "\n",
    "fbdf = pd.read_csv(\"../data/dataset_Facebook.csv\")\n",
    "\n",
    "fbdf.head()"
   ]
  },
  {
   "cell_type": "code",
   "execution_count": 81,
   "metadata": {},
   "outputs": [
    {
     "data": {
      "text/html": [
       "<div>\n",
       "<style scoped>\n",
       "    .dataframe tbody tr th:only-of-type {\n",
       "        vertical-align: middle;\n",
       "    }\n",
       "\n",
       "    .dataframe tbody tr th {\n",
       "        vertical-align: top;\n",
       "    }\n",
       "\n",
       "    .dataframe thead th {\n",
       "        text-align: right;\n",
       "    }\n",
       "</style>\n",
       "<table border=\"1\" class=\"dataframe\">\n",
       "  <thead>\n",
       "    <tr style=\"text-align: right;\">\n",
       "      <th></th>\n",
       "      <th>tot_likes</th>\n",
       "      <th>paid</th>\n",
       "      <th>tot_reach</th>\n",
       "      <th>tot_impressions</th>\n",
       "      <th>engaged_users</th>\n",
       "      <th>post_consumers</th>\n",
       "      <th>post_consumptions</th>\n",
       "      <th>tot_impressions_from_like</th>\n",
       "      <th>tot_reach_from_like</th>\n",
       "      <th>tot_engage_from_like</th>\n",
       "      <th>comments</th>\n",
       "      <th>likes</th>\n",
       "      <th>shares</th>\n",
       "      <th>interactions</th>\n",
       "    </tr>\n",
       "  </thead>\n",
       "  <tbody>\n",
       "    <tr>\n",
       "      <th>0</th>\n",
       "      <td>139441</td>\n",
       "      <td>0.0</td>\n",
       "      <td>2752</td>\n",
       "      <td>5091</td>\n",
       "      <td>178</td>\n",
       "      <td>109</td>\n",
       "      <td>159</td>\n",
       "      <td>3078</td>\n",
       "      <td>1640</td>\n",
       "      <td>119</td>\n",
       "      <td>4</td>\n",
       "      <td>79.0</td>\n",
       "      <td>17.0</td>\n",
       "      <td>100</td>\n",
       "    </tr>\n",
       "    <tr>\n",
       "      <th>1</th>\n",
       "      <td>139441</td>\n",
       "      <td>0.0</td>\n",
       "      <td>10460</td>\n",
       "      <td>19057</td>\n",
       "      <td>1457</td>\n",
       "      <td>1361</td>\n",
       "      <td>1674</td>\n",
       "      <td>11710</td>\n",
       "      <td>6112</td>\n",
       "      <td>1108</td>\n",
       "      <td>5</td>\n",
       "      <td>130.0</td>\n",
       "      <td>29.0</td>\n",
       "      <td>164</td>\n",
       "    </tr>\n",
       "    <tr>\n",
       "      <th>2</th>\n",
       "      <td>139441</td>\n",
       "      <td>0.0</td>\n",
       "      <td>2413</td>\n",
       "      <td>4373</td>\n",
       "      <td>177</td>\n",
       "      <td>113</td>\n",
       "      <td>154</td>\n",
       "      <td>2812</td>\n",
       "      <td>1503</td>\n",
       "      <td>132</td>\n",
       "      <td>0</td>\n",
       "      <td>66.0</td>\n",
       "      <td>14.0</td>\n",
       "      <td>80</td>\n",
       "    </tr>\n",
       "    <tr>\n",
       "      <th>3</th>\n",
       "      <td>139441</td>\n",
       "      <td>1.0</td>\n",
       "      <td>50128</td>\n",
       "      <td>87991</td>\n",
       "      <td>2211</td>\n",
       "      <td>790</td>\n",
       "      <td>1119</td>\n",
       "      <td>61027</td>\n",
       "      <td>32048</td>\n",
       "      <td>1386</td>\n",
       "      <td>58</td>\n",
       "      <td>1572.0</td>\n",
       "      <td>147.0</td>\n",
       "      <td>1777</td>\n",
       "    </tr>\n",
       "    <tr>\n",
       "      <th>4</th>\n",
       "      <td>139441</td>\n",
       "      <td>0.0</td>\n",
       "      <td>7244</td>\n",
       "      <td>13594</td>\n",
       "      <td>671</td>\n",
       "      <td>410</td>\n",
       "      <td>580</td>\n",
       "      <td>6228</td>\n",
       "      <td>3200</td>\n",
       "      <td>396</td>\n",
       "      <td>19</td>\n",
       "      <td>325.0</td>\n",
       "      <td>49.0</td>\n",
       "      <td>393</td>\n",
       "    </tr>\n",
       "  </tbody>\n",
       "</table>\n",
       "</div>"
      ],
      "text/plain": [
       "   tot_likes  paid  tot_reach  tot_impressions  engaged_users  post_consumers  \\\n",
       "0     139441   0.0       2752             5091            178             109   \n",
       "1     139441   0.0      10460            19057           1457            1361   \n",
       "2     139441   0.0       2413             4373            177             113   \n",
       "3     139441   1.0      50128            87991           2211             790   \n",
       "4     139441   0.0       7244            13594            671             410   \n",
       "\n",
       "   post_consumptions  tot_impressions_from_like  tot_reach_from_like  \\\n",
       "0                159                       3078                 1640   \n",
       "1               1674                      11710                 6112   \n",
       "2                154                       2812                 1503   \n",
       "3               1119                      61027                32048   \n",
       "4                580                       6228                 3200   \n",
       "\n",
       "   tot_engage_from_like  comments   likes  shares  interactions  \n",
       "0                   119         4    79.0    17.0           100  \n",
       "1                  1108         5   130.0    29.0           164  \n",
       "2                   132         0    66.0    14.0            80  \n",
       "3                  1386        58  1572.0   147.0          1777  \n",
       "4                   396        19   325.0    49.0           393  "
      ]
     },
     "execution_count": 81,
     "metadata": {},
     "output_type": "execute_result"
    }
   ],
   "source": [
    "fbdf_clean = fbdf.drop(labels=[\"Type\", \"Category\", \"Post Month\", \"Post Weekday\", \"Post Hour\"], axis=1)\n",
    "fbdf_clean.columns = [\"tot_likes\", \"paid\", \"tot_reach\", \"tot_impressions\", \"engaged_users\", \"post_consumers\", \"post_consumptions\", \n",
    "                      \"tot_impressions_from_like\", \"tot_reach_from_like\", \"tot_engage_from_like\", \"comments\", \"likes\", \"shares\", \"interactions\"]\n",
    "fbdf_clean.head()"
   ]
  },
  {
   "attachments": {},
   "cell_type": "markdown",
   "metadata": {},
   "source": [
    "## Workflow\n",
    "\n",
    "1. EDA\n",
    "2. Transforming\n",
    "3. Predicting\n",
    "4. Measuring & Tuning"
   ]
  },
  {
   "attachments": {},
   "cell_type": "markdown",
   "metadata": {},
   "source": [
    "## EDA\n",
    "\n",
    "We always do EDA before starting with any statistical learning model.\n",
    "\n",
    "This could entail univariate EDA:\n",
    "\n",
    "* Distribution analysis\n",
    "* Tests for normality\n",
    "* Histogram/boxplot generation\n",
    "\n",
    "Or bivariate EDA:\n",
    "* Scatter plot generation\n",
    "* T-Tests/Z-Tests\n",
    "* Correlation map  \n",
    "\n",
    "\n",
    "From there, we continue normalizing our data or deciding on which features we want to focus on. This is largely a creative process and will rely on your knowledge of tools & techniques. \n",
    "\n",
    "**New Definition**\n",
    "Correlation is a measure ranging from -1 to 1 that indicates how closely related two independent variables are."
   ]
  },
  {
   "cell_type": "code",
   "execution_count": 82,
   "metadata": {},
   "outputs": [
    {
     "data": {
      "image/png": "[encoded data removed]",
      "text/plain": [
       "<Figure size 432x288 with 1 Axes>"
      ]
     },
     "metadata": {
      "needs_background": "light"
     },
     "output_type": "display_data"
    }
   ],
   "source": [
    "import seaborn as sns\n",
    "import matplotlib.pyplot as plt\n",
    "\n",
    "paid = fbdf_clean[fbdf_clean[\"paid\"] == 1]\n",
    "nopaid = fbdf_clean[fbdf_clean[\"paid\"] == 0]\n",
    "\n",
    "# light EDA\n",
    "sns.histplot(paid[\"interactions\"], kde=True)\n",
    "sns.histplot(nopaid[\"interactions\"], kde=True)\n",
    "plt.legend(labels=[\"paid\", \"not paid\"])\n",
    "plt.show()"
   ]
  },
  {
   "cell_type": "code",
   "execution_count": 83,
   "metadata": {},
   "outputs": [
    {
     "data": {
      "image/png": "[encoded data removed]",
      "text/plain": [
       "<Figure size 432x288 with 1 Axes>"
      ]
     },
     "metadata": {
      "needs_background": "light"
     },
     "output_type": "display_data"
    }
   ],
   "source": [
    "sns.histplot(fbdf_clean[\"likes\"], kde=True)\n",
    "plt.show()"
   ]
  },
  {
   "cell_type": "code",
   "execution_count": 84,
   "metadata": {},
   "outputs": [
    {
     "data": {
      "image/png": "[encoded data removed]",
      "text/plain": [
       "<Figure size 432x288 with 1 Axes>"
      ]
     },
     "metadata": {
      "needs_background": "light"
     },
     "output_type": "display_data"
    }
   ],
   "source": [
    "sns.histplot(fbdf_clean[\"shares\"], kde=True)\n",
    "plt.show()"
   ]
  },
  {
   "cell_type": "code",
   "execution_count": 85,
   "metadata": {},
   "outputs": [
    {
     "data": {
      "image/png": "[encoded data removed]",
      "text/plain": [
       "<Figure size 432x288 with 1 Axes>"
      ]
     },
     "metadata": {
      "needs_background": "light"
     },
     "output_type": "display_data"
    }
   ],
   "source": [
    "sns.boxplot(data=fbdf_clean, y=\"interactions\", x=\"paid\", showfliers=False)\n",
    "plt.show()"
   ]
  },
  {
   "cell_type": "code",
   "execution_count": 86,
   "metadata": {},
   "outputs": [
    {
     "data": {
      "image/png": "[encoded data removed]",
      "text/plain": [
       "<Figure size 432x288 with 2 Axes>"
      ]
     },
     "metadata": {
      "needs_background": "light"
     },
     "output_type": "display_data"
    }
   ],
   "source": [
    "fig, axes = plt.subplots(1, 2, sharey=True)\n",
    "\n",
    "# make standard deviation of count graph one on top of another\n",
    "sns.barplot(data=paid, y=\"interactions\", estimator='mean', errorbar=('ci', 95),  ax=axes[0])\n",
    "sns.barplot(data=nopaid, y=\"interactions\", estimator='mean', errorbar=('ci', 95),  ax=axes[1])\n",
    "\n",
    "axes[0].set_xlabel(\"paid\")\n",
    "axes[1].set_xlabel(\"not paid\")\n",
    "\n",
    "plt.show()"
   ]
  },
  {
   "cell_type": "code",
   "execution_count": 87,
   "metadata": {},
   "outputs": [
    {
     "data": {
      "text/plain": [
       "Ttest_indResult(statistic=2.415943733437801, pvalue=0.0160540243629609)"
      ]
     },
     "execution_count": 87,
     "metadata": {},
     "output_type": "execute_result"
    }
   ],
   "source": [
    "stats.ttest_ind(paid[\"interactions\"], nopaid[\"interactions\"])"
   ]
  },
  {
   "cell_type": "code",
   "execution_count": 88,
   "metadata": {},
   "outputs": [
    {
     "data": {
      "image/png": "[encoded data removed]",
      "text/plain": [
       "<Figure size 1440x1440 with 2 Axes>"
      ]
     },
     "metadata": {
      "needs_background": "light"
     },
     "output_type": "display_data"
    }
   ],
   "source": [
    "import numpy as np\n",
    "\n",
    "# more info on generating this heatmap: https://www.geeksforgeeks.org/how-to-create-a-triangle-correlation-heatmap-in-seaborn-python/\n",
    "mask = np.triu(np.ones_like(fbdf_clean.corr())) \n",
    "\n",
    "plt.figure(figsize=(20,20))\n",
    "sns.heatmap(fbdf_clean.corr(), annot=True, mask=mask)\n",
    "plt.show()"
   ]
  },
  {
   "attachments": {},
   "cell_type": "markdown",
   "metadata": {},
   "source": [
    "## Transformation - Normalization Techniques\n",
    "\n",
    "We want to keep apply the following normalization patterns to observed values:\n",
    "\n",
    "Outlier removal \n",
    "* Usage: skewed data\n",
    "* Risk: Outliers are important\n",
    "* Methods: Z-score, clipping via upper & lower fence\n",
    "\n",
    "Dataset splitting\n",
    "* Usage: bimodal data\n",
    "* Risk: hidden or unrecorded classes of data\n",
    "* Methods: Manual dataset filtering\n",
    "\n",
    "Log-Scaling\n",
    "* Usage: exponential data\n",
    "* Risk: negative values in dataset\n",
    "* Methods: Applying natural log to each data-point\n",
    "\n",
    "\n",
    "While we want to make an intelligent decision to these methods, we should also consider all to find which one brings us closer to normality."
   ]
  },
  {
   "cell_type": "code",
   "execution_count": 89,
   "metadata": {},
   "outputs": [
    {
     "data": {
      "text/plain": [
       "<AxesSubplot:xlabel='interactions', ylabel='Count'>"
      ]
     },
     "execution_count": 89,
     "metadata": {},
     "output_type": "execute_result"
    },
    {
     "data": {
      "image/png": "[encoded data removed]",
      "text/plain": [
       "<Figure size 432x288 with 1 Axes>"
      ]
     },
     "metadata": {
      "needs_background": "light"
     },
     "output_type": "display_data"
    }
   ],
   "source": [
    "import scipy.stats as stats\n",
    "import numpy as np\n",
    "\n",
    "# remove data past 3 z-scores for the target variable\n",
    "\n",
    "fbdf_clean = fbdf_clean[(np.abs(stats.zscore(fbdf_clean[\"interactions\"])) < 3)]\n",
    "sns.histplot(fbdf_clean[\"interactions\"], kde=True)"
   ]
  },
  {
   "cell_type": "code",
   "execution_count": 90,
   "metadata": {},
   "outputs": [
    {
     "data": {
      "image/png": "[encoded data removed]",
      "text/plain": [
       "<Figure size 432x288 with 1 Axes>"
      ]
     },
     "metadata": {
      "needs_background": "light"
     },
     "output_type": "display_data"
    }
   ],
   "source": [
    "# notice how a normalization technique applying to one column results in the other columns...\n",
    "# do not assume this! \n",
    "sns.histplot(fbdf_clean[\"likes\"], kde=True)\n",
    "plt.show()"
   ]
  },
  {
   "cell_type": "code",
   "execution_count": 125,
   "metadata": {},
   "outputs": [
    {
     "data": {
      "text/plain": [
       "<AxesSubplot:xlabel='interactions', ylabel='Count'>"
      ]
     },
     "execution_count": 125,
     "metadata": {},
     "output_type": "execute_result"
    },
    {
     "data": {
      "image/png": "[encoded data removed]",
      "text/plain": [
       "<Figure size 432x288 with 1 Axes>"
      ]
     },
     "metadata": {
      "needs_background": "light"
     },
     "output_type": "display_data"
    }
   ],
   "source": [
    "# maybe try log normalization...\n",
    "fbdf_clean_log[\"interactions\"] = fbdf_clean_log[\"interactions\"].apply(lambda x: np.log(x))\n",
    "sns.histplot(fbdf_clean_log[\"interactions\"], kde=True)"
   ]
  },
  {
   "cell_type": "code",
   "execution_count": 126,
   "metadata": {},
   "outputs": [],
   "source": [
    "fbdf_clean_log = fbdf_clean_log[np.isfinite(fbdf_clean_log[\"interactions\"])]"
   ]
  },
  {
   "cell_type": "code",
   "execution_count": 127,
   "metadata": {},
   "outputs": [
    {
     "data": {
      "image/png": "[encoded data removed]",
      "text/plain": [
       "<Figure size 432x288 with 1 Axes>"
      ]
     },
     "metadata": {
      "needs_background": "light"
     },
     "output_type": "display_data"
    }
   ],
   "source": [
    "paid_log = fbdf_clean_log[fbdf_clean_log[\"paid\"] == 1]\n",
    "nopaid_log = fbdf_clean_log[fbdf_clean_log[\"paid\"] == 0]\n",
    "\n",
    "# light EDA\n",
    "sns.histplot(paid_log[\"interactions\"], kde=True)\n",
    "sns.histplot(nopaid_log[\"interactions\"], kde=True)\n",
    "plt.legend(labels=[\"paid\", \"not paid\"])\n",
    "plt.show()"
   ]
  },
  {
   "cell_type": "code",
   "execution_count": 128,
   "metadata": {},
   "outputs": [
    {
     "data": {
      "image/png": "[encoded data removed]",
      "text/plain": [
       "<Figure size 432x288 with 1 Axes>"
      ]
     },
     "metadata": {
      "needs_background": "light"
     },
     "output_type": "display_data"
    }
   ],
   "source": [
    "sns.boxplot(data=fbdf_clean_log, y=\"interactions\", x=\"paid\", showfliers=False)\n",
    "plt.show()"
   ]
  },
  {
   "attachments": {},
   "cell_type": "markdown",
   "metadata": {},
   "source": [
    "## Transformations - Feature Engineering\n",
    "\n",
    "Sometimes we also want to rope in domain experts or do background research to generate new columns (features) that might reveal latent variables (hidden variables)\n",
    "\n",
    "Potential Ideas  \n",
    "3 Point Shooting Percentage = Successes/Attempts  \n",
    "Profit = Revenue - Cost  \n",
    "Etc…  \n"
   ]
  },
  {
   "attachments": {},
   "cell_type": "markdown",
   "metadata": {},
   "source": [
    "## Predicting - Splitting Data\n",
    "\n",
    "We always want to generate two (at minimum) sets of data:\n",
    "\n",
    "Train set: A dataset to train your model on\n",
    "Test set: A dataset to test your model on\n",
    "\n",
    "We usually rely on an (80-20) split or (75-25). We utilize ONLY the test set for calculating metrics.\n"
   ]
  },
  {
   "cell_type": "code",
   "execution_count": 129,
   "metadata": {},
   "outputs": [
    {
     "name": "stderr",
     "output_type": "stream",
     "text": [
      "C:\\Users\\saidmf\\AppData\\Local\\Temp\\ipykernel_23456\\995429351.py:4: SettingWithCopyWarning: \n",
      "A value is trying to be set on a copy of a slice from a DataFrame\n",
      "\n",
      "See the caveats in the documentation: https://pandas.pydata.org/pandas-docs/stable/user_guide/indexing.html#returning-a-view-versus-a-copy\n",
      "  fbdf_clean_log.dropna(inplace=True)\n"
     ]
    }
   ],
   "source": [
    "from sklearn.model_selection import train_test_split\n",
    "\n",
    "# some last minute cleaning..\n",
    "fbdf_clean_log.dropna(inplace=True)\n",
    "\n",
    "X = fbdf_clean_log[[\"paid\"]]\n",
    "y = fbdf_clean_log[\"interactions\"]\n",
    "\n",
    "X_train, X_test, y_train, y_test = train_test_split(X, y, test_size=0.20, random_state=42)"
   ]
  },
  {
   "attachments": {},
   "cell_type": "markdown",
   "metadata": {},
   "source": [
    "## Predicting - Training Model\n",
    "\n",
    "Next, we simply \"train\" the model by fitting our X_Train and Y_Train."
   ]
  },
  {
   "cell_type": "code",
   "execution_count": 130,
   "metadata": {},
   "outputs": [
    {
     "data": {
      "text/plain": [
       "0.018565472435562058"
      ]
     },
     "execution_count": 130,
     "metadata": {},
     "output_type": "execute_result"
    }
   ],
   "source": [
    "from sklearn.linear_model import LinearRegression\n",
    "\n",
    "reg = LinearRegression()\n",
    "reg.fit(X_train, y_train)\n",
    "reg.score(X_train, y_train)\n",
    "\n",
    "# R2 of 1%..."
   ]
  },
  {
   "cell_type": "code",
   "execution_count": 131,
   "metadata": {},
   "outputs": [
    {
     "data": {
      "text/plain": [
       "-0.010275757722057577"
      ]
     },
     "execution_count": 131,
     "metadata": {},
     "output_type": "execute_result"
    }
   ],
   "source": [
    "y_pred = reg.predict(X_test).reshape(-1, 1)\n",
    "\n",
    "reg.score(X_test, y_test)\n",
    "\n",
    "# but in reality! R2 of -0.04????\n",
    "# good sign our model is abysmal"
   ]
  },
  {
   "attachments": {},
   "cell_type": "markdown",
   "metadata": {},
   "source": [
    "## Predicting - Feature Selection via Correlation Mapping & Hypothesis Tests\n",
    "\n",
    "While we should continue applying our normalizations, we will progress to selecting features.\n",
    "\n",
    "Forward Selection: Generate your model with ALL features, and hand-pick features to delete by checking collinearity & p-values \n",
    "\n",
    "Backward Selection: Generate your model with ONE features, and hand-pick features to add by checking collinearity & p-values.\n",
    "\n",
    "Mixed Selection: Generate your model with ONE features, and hand-pick features to add by checking collinearity & p-values. Iteratively decide to remove features as well"
   ]
  },
  {
   "cell_type": "code",
   "execution_count": 132,
   "metadata": {},
   "outputs": [
    {
     "data": {
      "text/plain": [
       "0.6293060490434204"
      ]
     },
     "execution_count": 132,
     "metadata": {},
     "output_type": "execute_result"
    }
   ],
   "source": [
    "X = fbdf_clean_log[[\"paid\", \"comments\", \"likes\", \"shares\"]]\n",
    "y = fbdf_clean_log[\"interactions\"]\n",
    "\n",
    "X_train, X_test, y_train, y_test = train_test_split(X, y, test_size=0.20, random_state=42)\n",
    "\n",
    "# this should be done immediately after log-normalizing\n",
    "y_train[~np.isfinite(y_train)] = 0\n",
    "y_test[~np.isfinite(y_test)] = 0\n",
    "\n",
    "reg2 = LinearRegression()\n",
    "reg2.fit(X_train, y_train)\n",
    "\n",
    "# never rely on this!\n",
    "reg2.score(X_train, y_train)"
   ]
  },
  {
   "attachments": {},
   "cell_type": "markdown",
   "metadata": {},
   "source": [
    "Instead, rely on test..."
   ]
  },
  {
   "cell_type": "code",
   "execution_count": 133,
   "metadata": {},
   "outputs": [
    {
     "data": {
      "text/plain": [
       "0.6869324650392488"
      ]
     },
     "execution_count": 133,
     "metadata": {},
     "output_type": "execute_result"
    }
   ],
   "source": [
    "reg2.score(X_test, y_test)"
   ]
  },
  {
   "attachments": {},
   "cell_type": "markdown",
   "metadata": {},
   "source": [
    "## Forward Selection\n",
    "\n",
    "Here is a more steadfast method of forward feature selection in linear regression.  \n",
    "\n",
    "1. Start out with one hand-picked feature.  \n",
    "2. Repeat in loop until you hit a plateau of accuracy  \n",
    "    1. Fit and predict on 80-20 split data  \n",
    "    2. Test model and generate R2 value  \n",
    "    3. Choose another feature that does not have high correlation with your previous feature.  \n"
   ]
  },
  {
   "cell_type": "code",
   "execution_count": 134,
   "metadata": {},
   "outputs": [
    {
     "name": "stdout",
     "output_type": "stream",
     "text": [
      "0.2374527136092498\n"
     ]
    }
   ],
   "source": [
    "r2_vals = []\n",
    "\n",
    "X_cols = list(fbdf_clean_log.columns).remove(\"interactions\")\n",
    "\n",
    "X = fbdf_clean_log[[\"comments\"]]\n",
    "y = fbdf_clean_log[\"interactions\"]\n",
    "\n",
    "X_train, X_test, y_train, y_test = train_test_split(X, y, test_size=0.20, random_state=42)\n",
    "\n",
    "reg = LinearRegression()\n",
    "reg.fit(X_train, y_train)\n",
    "\n",
    "r2 = reg.score(X_test, y_test)\n",
    "r2_vals.append(r2)\n",
    "print(r2)"
   ]
  },
  {
   "cell_type": "code",
   "execution_count": 135,
   "metadata": {},
   "outputs": [
    {
     "name": "stdout",
     "output_type": "stream",
     "text": [
      "0.2536697979573763\n"
     ]
    }
   ],
   "source": [
    "X = fbdf_clean_log[[\"comments\", \"post_consumptions\"]]\n",
    "y = fbdf_clean_log[\"interactions\"]\n",
    "\n",
    "X_train, X_test, y_train, y_test = train_test_split(X, y, test_size=0.20, random_state=42)\n",
    "\n",
    "reg = LinearRegression()\n",
    "reg.fit(X_train, y_train)\n",
    "\n",
    "r2 = reg.score(X_test, y_test)\n",
    "r2_vals.append(r2)\n",
    "print(r2)"
   ]
  },
  {
   "cell_type": "code",
   "execution_count": 136,
   "metadata": {},
   "outputs": [],
   "source": [
    "X = fbdf_clean_log[[\"comments\", \"post_consumptions\", \"tot_engage_from_like\"]]\n",
    "y = fbdf_clean_log[\"interactions\"]\n",
    "\n",
    "X_train, X_test, y_train, y_test = train_test_split(X, y, test_size=0.20, random_state=42)\n",
    "\n",
    "reg = LinearRegression()\n",
    "reg.fit(X_train, y_train)\n",
    "\n",
    "r2 = reg.score(X_test, y_test)\n",
    "r2_vals.append(r2)"
   ]
  },
  {
   "cell_type": "code",
   "execution_count": 137,
   "metadata": {},
   "outputs": [
    {
     "name": "stdout",
     "output_type": "stream",
     "text": [
      "0.3429145117370852\n"
     ]
    }
   ],
   "source": [
    "print(r2)"
   ]
  },
  {
   "cell_type": "code",
   "execution_count": 138,
   "metadata": {},
   "outputs": [
    {
     "name": "stdout",
     "output_type": "stream",
     "text": [
      "0.6241848183440604\n"
     ]
    }
   ],
   "source": [
    "X = fbdf_clean_log[[\"likes\", \"post_consumptions\", \"tot_engage_from_like\"]]\n",
    "y = fbdf_clean_log[\"interactions\"]\n",
    "\n",
    "X_train, X_test, y_train, y_test = train_test_split(X, y, test_size=0.20, random_state=42)\n",
    "\n",
    "reg = LinearRegression()\n",
    "reg.fit(X_train, y_train)\n",
    "\n",
    "r2 = reg.score(X_test, y_test)\n",
    "r2_vals.append(r2)\n",
    "print(r2)"
   ]
  },
  {
   "cell_type": "code",
   "execution_count": 139,
   "metadata": {},
   "outputs": [
    {
     "data": {
      "image/png": "[encoded data removed]",
      "text/plain": [
       "<Figure size 432x288 with 1 Axes>"
      ]
     },
     "metadata": {
      "needs_background": "light"
     },
     "output_type": "display_data"
    }
   ],
   "source": [
    "plt.plot([1, 2, 3, 4], r2_vals)\n",
    "plt.xlabel('Number of features')\n",
    "plt.ylabel('R2')\n",
    "plt.title(\"Number of features VS R2\")\n",
    "plt.show()"
   ]
  },
  {
   "attachments": {},
   "cell_type": "markdown",
   "metadata": {},
   "source": [
    "## Backward Selection\n",
    "\n",
    "Here is a more steadfast method of backward feature selection in linear regression.\n",
    "1. Start out with all features\n",
    "2. Repeat in loop until you hit a plateau of accuracy\n",
    "    1. Fit and predict on 80-20 split data\n",
    "    2. Test model and generate R2 value\n",
    "    3. Choose a feature that displays low significance (p-value) or high collinearity with other features to remove"
   ]
  },
  {
   "cell_type": "code",
   "execution_count": 140,
   "metadata": {},
   "outputs": [
    {
     "name": "stdout",
     "output_type": "stream",
     "text": [
      "tot_likes: 0.2308899416\n",
      "paid: 0.0055001587\n",
      "tot_reach: 0.0\n",
      "tot_impressions: 1.0464e-06\n",
      "engaged_users: 0.0\n",
      "post_consumers: 0.0\n",
      "post_consumptions: 4.9916e-06\n",
      "tot_impressions_from_like: 0.000272014\n",
      "tot_reach_from_like: 0.0\n",
      "tot_engage_from_like: 0.0\n",
      "comments: 0.0\n",
      "likes: 0.0\n",
      "shares: 0.0\n"
     ]
    }
   ],
   "source": [
    "from sklearn.feature_selection import f_regression\n",
    "\n",
    "r2_vals = []\n",
    "\n",
    "X_cols = list(fbdf_clean_log.columns)\n",
    "X_cols.remove(\"interactions\")\n",
    "\n",
    "X = fbdf_clean_log[X_cols]\n",
    "y = fbdf_clean_log[\"interactions\"]\n",
    "\n",
    "freg=f_regression(X,y)\n",
    "\n",
    "for i, name in enumerate(X.columns):\n",
    "    print(name, end=\": \")\n",
    "    print(round(freg[1][i], 10))"
   ]
  },
  {
   "cell_type": "code",
   "execution_count": 141,
   "metadata": {},
   "outputs": [
    {
     "name": "stdout",
     "output_type": "stream",
     "text": [
      "0.6759759856672349\n"
     ]
    }
   ],
   "source": [
    "from sklearn.linear_model import LinearRegression\n",
    "X_train, X_test, y_train, y_test = train_test_split(X, y, test_size=0.20, random_state=42)\n",
    "\n",
    "reg = LinearRegression()\n",
    "reg.fit(X_train, y_train)\n",
    "\n",
    "r2 = reg.score(X_test, y_test)\n",
    "r2_vals.append(r2)\n",
    "print(r2)"
   ]
  },
  {
   "cell_type": "code",
   "execution_count": 142,
   "metadata": {},
   "outputs": [
    {
     "name": "stdout",
     "output_type": "stream",
     "text": [
      "0.6765671137902534\n"
     ]
    }
   ],
   "source": [
    "# remove non-sig feature\n",
    "X_cols.remove(\"tot_likes\")\n",
    "X = fbdf_clean_log[X_cols]\n",
    "y = fbdf_clean_log[\"interactions\"]\n",
    "\n",
    "X_train, X_test, y_train, y_test = train_test_split(X, y, test_size=0.20, random_state=42)\n",
    "\n",
    "reg = LinearRegression()\n",
    "reg.fit(X_train, y_train)\n",
    "\n",
    "r2 = reg.score(X_test, y_test)\n",
    "r2_vals.append(r2)\n",
    "print(r2)"
   ]
  },
  {
   "cell_type": "code",
   "execution_count": 143,
   "metadata": {},
   "outputs": [
    {
     "name": "stdout",
     "output_type": "stream",
     "text": [
      "0.6840221758836136\n"
     ]
    }
   ],
   "source": [
    "# remove multi-colinear\n",
    "X_cols.remove(\"engaged_users\")\n",
    "X = fbdf_clean_log[X_cols]\n",
    "y = fbdf_clean_log[\"interactions\"]\n",
    "\n",
    "X_train, X_test, y_train, y_test = train_test_split(X, y, test_size=0.20, random_state=42)\n",
    "\n",
    "reg = LinearRegression()\n",
    "reg.fit(X_train, y_train)\n",
    "\n",
    "r2 = reg.score(X_test, y_test)\n",
    "r2_vals.append(r2)\n",
    "print(r2)"
   ]
  },
  {
   "cell_type": "code",
   "execution_count": 144,
   "metadata": {},
   "outputs": [
    {
     "name": "stdout",
     "output_type": "stream",
     "text": [
      "0.6857931156852424\n"
     ]
    }
   ],
   "source": [
    "# remove multi-colinear\n",
    "X_cols.remove(\"post_consumers\")\n",
    "X = fbdf_clean_log[X_cols]\n",
    "y = fbdf_clean_log[\"interactions\"]\n",
    "\n",
    "X_train, X_test, y_train, y_test = train_test_split(X, y, test_size=0.20, random_state=42)\n",
    "\n",
    "reg = LinearRegression()\n",
    "reg.fit(X_train, y_train)\n",
    "\n",
    "r2 = reg.score(X_test, y_test)\n",
    "r2_vals.append(r2)\n",
    "print(r2)"
   ]
  },
  {
   "cell_type": "code",
   "execution_count": 145,
   "metadata": {},
   "outputs": [
    {
     "data": {
      "image/png": "[encoded data removed]",
      "text/plain": [
       "<Figure size 432x288 with 1 Axes>"
      ]
     },
     "metadata": {
      "needs_background": "light"
     },
     "output_type": "display_data"
    }
   ],
   "source": [
    "plt.plot([13, 12, 11, 10], r2_vals)\n",
    "plt.xlabel('Number of features')\n",
    "plt.ylabel('R2')\n",
    "plt.title(\"Number of features VS R2\")\n",
    "plt.show()"
   ]
  },
  {
   "attachments": {},
   "cell_type": "markdown",
   "metadata": {},
   "source": [
    "## Measuring & Tuning - Scores\n",
    "\n",
    "To get the accuracy of our linear regression model, we often rely on two scores:\n",
    "\n",
    "* Mean Squared Error: MSE often generates gigantic values, so we rely on R2 to standardize it\n",
    "* R2: Another name for R2 is coeff of determination"
   ]
  },
  {
   "cell_type": "code",
   "execution_count": 146,
   "metadata": {},
   "outputs": [
    {
     "data": {
      "text/plain": [
       "0.2746062316221161"
      ]
     },
     "execution_count": 146,
     "metadata": {},
     "output_type": "execute_result"
    }
   ],
   "source": [
    "from sklearn.metrics import mean_squared_error\n",
    "\n",
    "y_pred = reg.predict(X_test)\n",
    "mean_squared_error(y_test, y_pred)"
   ]
  },
  {
   "attachments": {},
   "cell_type": "markdown",
   "metadata": {},
   "source": [
    "## Additional Linear Regression Models\n",
    "\n",
    "* Polynomial Regression : https://data36.com/polynomial-regression-python-scikit-learn/\n",
    "* The LASSO (Least Absolute Shrinkage and Selection Operator): https://www.mygreatlearning.com/blog/understanding-of-lasso-regression/\n",
    "    * This is a great method that minimizes coefficients that lead to the greatest error in our model!\n",
    "    * We simply plug in all variables and it does the work!\n",
    "    * This also removes multicollinearity ! :O"
   ]
  },
  {
   "attachments": {},
   "cell_type": "markdown",
   "metadata": {},
   "source": [
    "## The Lasso\n",
    "\n",
    "\"Lasso regression is a machine learning algorithm that can be used to perform linear regression while also reducing the number of features used in the model. Lasso stands for least absolute shrinkage and selection operator. Pay attention to the words, “least absolute shrinkage” and “selection”. We will refer to it shortly. Lasso regression is used in machine learning to prevent overfitting. It is also used to select features by setting coefficients to zero. Lasso regression is also called L1-norm regularization.\"\n",
    "\n",
    "https://vitalflux.com/lasso-ridge-regression-explained-with-python-example/"
   ]
  },
  {
   "cell_type": "code",
   "execution_count": 147,
   "metadata": {},
   "outputs": [
    {
     "data": {
      "text/plain": [
       "0.6759759856672349"
      ]
     },
     "execution_count": 147,
     "metadata": {},
     "output_type": "execute_result"
    }
   ],
   "source": [
    "from sklearn.linear_model import Lasso\n",
    "\n",
    "# get all features\n",
    "\n",
    "X_cols = list(fbdf_clean_log.columns)\n",
    "X_cols.remove(\"interactions\")\n",
    "\n",
    "X = fbdf_clean_log[X_cols]\n",
    "y = fbdf_clean_log[\"interactions\"]\n",
    "\n",
    "X_train, X_test, y_train, y_test = train_test_split(X, y, test_size=0.20, random_state=42)\n",
    "\n",
    "# attempt linear regression\n",
    "reg = LinearRegression()\n",
    "reg.fit(X_train, y_train)\n",
    "\n",
    "reg.score(X_test, y_test)"
   ]
  },
  {
   "cell_type": "code",
   "execution_count": 148,
   "metadata": {},
   "outputs": [
    {
     "data": {
      "text/plain": [
       "0.6818695990368613"
      ]
     },
     "execution_count": 148,
     "metadata": {},
     "output_type": "execute_result"
    }
   ],
   "source": [
    "# attempt LASSO regression. Alpah indicates how large of a penalty we want to impose on large coefficinets\n",
    "lasso = Lasso(alpha=1.0)\n",
    "lasso.fit(X_train, y_train)\n",
    "\n",
    "lasso.score(X_test, y_test)"
   ]
  },
  {
   "cell_type": "code",
   "execution_count": 151,
   "metadata": {},
   "outputs": [
    {
     "name": "stdout",
     "output_type": "stream",
     "text": [
      "tot_likes: 2.4873e-06\n",
      "paid: 0.1376564487\n",
      "tot_reach: -2.937e-06\n",
      "tot_impressions: 1.816e-06\n",
      "engaged_users: 0.0014044432\n",
      "post_consumers: -0.0013374002\n",
      "post_consumptions: 8.7092e-06\n",
      "tot_impressions_from_like: -1.5158e-06\n",
      "tot_reach_from_like: 1.12274e-05\n",
      "tot_engage_from_like: 8.747e-06\n",
      "comments: 0.0038345217\n",
      "likes: 0.0012921254\n",
      "shares: 0.0208202644\n"
     ]
    }
   ],
   "source": [
    "for i, name in enumerate(X.columns):\n",
    "    print(name, end=\": \")\n",
    "    print(round(reg.coef_[i], 10))"
   ]
  },
  {
   "cell_type": "code",
   "execution_count": 159,
   "metadata": {},
   "outputs": [
    {
     "name": "stdout",
     "output_type": "stream",
     "text": [
      "tot_likes: 2.7657e-06\n",
      "paid: 0.0\n",
      "tot_reach: -1.7286e-06\n",
      "tot_impressions: 1.5559e-06\n",
      "engaged_users: 0.0005989754\n",
      "post_consumers: -0.000526028\n",
      "post_consumptions: 6.8201e-06\n",
      "tot_impressions_from_like: -1.3003e-06\n",
      "tot_reach_from_like: 1.05034e-05\n",
      "tot_engage_from_like: -1.1899e-05\n",
      "comments: 0.0021949663\n",
      "likes: 0.0021293211\n",
      "shares: 0.0192673114\n"
     ]
    }
   ],
   "source": [
    "for i, name in enumerate(X.columns):\n",
    "    print(name, end=\": \")\n",
    "    print(round(lasso.coef_[i], 10))"
   ]
  },
  {
   "attachments": {},
   "cell_type": "markdown",
   "metadata": {},
   "source": [
    "## Try it Yourself!\n",
    "\n",
    "Apply the same workflow to the following dataset that descriptions real estate in Taiwan: https://archive.ics.uci.edu/ml/datasets/Real+estate+valuation+data+set.\n",
    "\n",
    "Aim to generate a linear regression model of optimal accuracy. Compare the accuracy to a LASSO model."
   ]
  },
  {
   "cell_type": "code",
   "execution_count": 154,
   "metadata": {},
   "outputs": [
    {
     "data": {
      "text/html": [
       "<div>\n",
       "<style scoped>\n",
       "    .dataframe tbody tr th:only-of-type {\n",
       "        vertical-align: middle;\n",
       "    }\n",
       "\n",
       "    .dataframe tbody tr th {\n",
       "        vertical-align: top;\n",
       "    }\n",
       "\n",
       "    .dataframe thead th {\n",
       "        text-align: right;\n",
       "    }\n",
       "</style>\n",
       "<table border=\"1\" class=\"dataframe\">\n",
       "  <thead>\n",
       "    <tr style=\"text-align: right;\">\n",
       "      <th></th>\n",
       "      <th>No</th>\n",
       "      <th>X1 transaction date</th>\n",
       "      <th>X2 house age</th>\n",
       "      <th>X3 distance to the nearest MRT station</th>\n",
       "      <th>X4 number of convenience stores</th>\n",
       "      <th>X5 latitude</th>\n",
       "      <th>X6 longitude</th>\n",
       "      <th>Y house price of unit area</th>\n",
       "    </tr>\n",
       "  </thead>\n",
       "  <tbody>\n",
       "    <tr>\n",
       "      <th>0</th>\n",
       "      <td>1</td>\n",
       "      <td>2012.917</td>\n",
       "      <td>32.0</td>\n",
       "      <td>84.87882</td>\n",
       "      <td>10</td>\n",
       "      <td>24.98298</td>\n",
       "      <td>121.54024</td>\n",
       "      <td>37.9</td>\n",
       "    </tr>\n",
       "    <tr>\n",
       "      <th>1</th>\n",
       "      <td>2</td>\n",
       "      <td>2012.917</td>\n",
       "      <td>19.5</td>\n",
       "      <td>306.59470</td>\n",
       "      <td>9</td>\n",
       "      <td>24.98034</td>\n",
       "      <td>121.53951</td>\n",
       "      <td>42.2</td>\n",
       "    </tr>\n",
       "    <tr>\n",
       "      <th>2</th>\n",
       "      <td>3</td>\n",
       "      <td>2013.583</td>\n",
       "      <td>13.3</td>\n",
       "      <td>561.98450</td>\n",
       "      <td>5</td>\n",
       "      <td>24.98746</td>\n",
       "      <td>121.54391</td>\n",
       "      <td>47.3</td>\n",
       "    </tr>\n",
       "    <tr>\n",
       "      <th>3</th>\n",
       "      <td>4</td>\n",
       "      <td>2013.500</td>\n",
       "      <td>13.3</td>\n",
       "      <td>561.98450</td>\n",
       "      <td>5</td>\n",
       "      <td>24.98746</td>\n",
       "      <td>121.54391</td>\n",
       "      <td>54.8</td>\n",
       "    </tr>\n",
       "    <tr>\n",
       "      <th>4</th>\n",
       "      <td>5</td>\n",
       "      <td>2012.833</td>\n",
       "      <td>5.0</td>\n",
       "      <td>390.56840</td>\n",
       "      <td>5</td>\n",
       "      <td>24.97937</td>\n",
       "      <td>121.54245</td>\n",
       "      <td>43.1</td>\n",
       "    </tr>\n",
       "  </tbody>\n",
       "</table>\n",
       "</div>"
      ],
      "text/plain": [
       "   No  X1 transaction date  X2 house age  \\\n",
       "0   1             2012.917          32.0   \n",
       "1   2             2012.917          19.5   \n",
       "2   3             2013.583          13.3   \n",
       "3   4             2013.500          13.3   \n",
       "4   5             2012.833           5.0   \n",
       "\n",
       "   X3 distance to the nearest MRT station  X4 number of convenience stores  \\\n",
       "0                                84.87882                               10   \n",
       "1                               306.59470                                9   \n",
       "2                               561.98450                                5   \n",
       "3                               561.98450                                5   \n",
       "4                               390.56840                                5   \n",
       "\n",
       "   X5 latitude  X6 longitude  Y house price of unit area  \n",
       "0     24.98298     121.54024                        37.9  \n",
       "1     24.98034     121.53951                        42.2  \n",
       "2     24.98746     121.54391                        47.3  \n",
       "3     24.98746     121.54391                        54.8  \n",
       "4     24.97937     121.54245                        43.1  "
      ]
     },
     "execution_count": 154,
     "metadata": {},
     "output_type": "execute_result"
    }
   ],
   "source": [
    "import pandas as pd\n",
    "\n",
    "fbdf = pd.read_csv(\"../data/realestate.csv\")\n",
    "\n",
    "fbdf.head()"
   ]
  },
  {
   "cell_type": "code",
   "execution_count": 155,
   "metadata": {},
   "outputs": [],
   "source": [
    "## Implement EDA here!\n",
    "\n"
   ]
  },
  {
   "cell_type": "code",
   "execution_count": 156,
   "metadata": {},
   "outputs": [],
   "source": [
    "## Implement feature selection here! \n",
    "\n"
   ]
  },
  {
   "cell_type": "code",
   "execution_count": 157,
   "metadata": {},
   "outputs": [],
   "source": [
    "## Implement various regression models here!\n",
    "\n"
   ]
  },
  {
   "cell_type": "code",
   "execution_count": 158,
   "metadata": {},
   "outputs": [],
   "source": [
    "## measure accuracy!\n",
    "\n"
   ]
  },
  {
   "attachments": {},
   "cell_type": "markdown",
   "metadata": {},
   "source": [
    "## Sprint 2\n",
    "\n",
    "Your only task for this week is to work on and complete your minimal viable model:\n"
   ]
  },
  {
   "cell_type": "code",
   "execution_count": null,
   "metadata": {},
   "outputs": [],
   "source": []
  },
  {
   "attachments": {},
   "cell_type": "markdown",
   "metadata": {},
   "source": [
    "## Minimal Viable Model Example\n",
    "\n"
   ]
  }
 ],
 "metadata": {
  "kernelspec": {
   "display_name": "Python 3",
   "language": "python",
   "name": "python3"
  },
  "language_info": {
   "codemirror_mode": {
    "name": "ipython",
    "version": 3
   },
   "file_extension": ".py",
   "mimetype": "text/x-python",
   "name": "python",
   "nbconvert_exporter": "python",
   "pygments_lexer": "ipython3",
   "version": "3.10.7"
  },
  "orig_nbformat": 4
 },
 "nbformat": 4,
 "nbformat_minor": 2
}
