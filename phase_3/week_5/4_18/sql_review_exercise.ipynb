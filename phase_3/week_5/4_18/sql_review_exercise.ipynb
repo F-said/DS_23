{
 "cells": [
  {
   "attachments": {},
   "cell_type": "markdown",
   "metadata": {},
   "source": [
    "## Q1 Database Design\n",
    "\n",
    "You are tasked with designing a conceptual database for a parking lot with only one level. The parking lot has multiple parking spots, and cars can park in these spots. Each car has a unique license plate number and an alloted set of time that in can be in a parking spot. What information do you think needs to be stored in the database to keep track of which spots are available and which cars are parked where? Consider the relationships between the parking spots and cars.\n",
    "\n",
    "Write out the relations, attributes, & keys you would need to keep track of.\n",
    "\n",
    "Example\n",
    "```\n",
    "Relation1\n",
    "* attr1 PRIMARY KEY\n",
    "* attr2 FOREIGN KEY\n",
    "* attr3 \n",
    "```"
   ]
  },
  {
   "attachments": {},
   "cell_type": "markdown",
   "metadata": {},
   "source": [
    "write answer here"
   ]
  },
  {
   "attachments": {},
   "cell_type": "markdown",
   "metadata": {},
   "source": [
    "## Q2 Normalization\n",
    "\n",
    "**Books**\n",
    "\n",
    "| Book ID | Book Name                       | Author(s)                  | \n",
    "| ------- | ------------------------------- | -------------------------- | \n",
    "|  1      | \tTo Kill a Mockingbird\t    | Harper Lee, Truman Capote  | \n",
    "|  2      | \tThe Hobbit\t                | J.R.R. Tolkien             | \n",
    "|  3      | \t1984\t                    | George Orwell              | \n",
    "|  4      | \tPride and Prejudice\t        | Jane Austen                | \n",
    "|  5      | \tThe Great Gatsby            | F. Scott Fitzgerald        | \n",
    "\n",
    "This table violates the first normal form. Normalize this table into first normal form by describing which column you would remove.\n",
    "\n",
    "CHALLENGE: How could you create 2 new additional tables to preserve the author information and relates it to the original **Books** table. "
   ]
  },
  {
   "attachments": {},
   "cell_type": "markdown",
   "metadata": {},
   "source": [
    "## Q3 Basic Queries\n",
    "\n",
    "**warehouse**   \n",
    "\n",
    "*primary key = prod_id*\n",
    "\n",
    "| prod_id | type     | price_kg | speciality | origin      | \n",
    "| ------- | -------- | -------- | ---------- | ----------- | \n",
    "| 0       | Robusta  | 2.586    | True       | Vietnam     | \n",
    "| 1       | Arabica  | 4.558    | False      | Brazil      | \n",
    "| 2       | Liberica | 4.840    | False      | Phillipines | \n",
    "| 3       | Excelsa  | 4.840    | True       | India       |\n",
    "\n",
    "\n",
    "\n",
    "**orders**\n",
    "\n",
    "*primary key = ord_id*\n",
    "\n",
    "| ord_id | destination | kgs | type | prod_id | comp_id | \n",
    "| ------ | ----------- | --- | ---- | ------- | ------- |\n",
    "| 0 | USA | 1000 | Robusta | 0 | 0 | \n",
    "| 1 | USA | 1000 | Arabica | 1 | 0 | \n",
    "| 2 | USA | 200 | Liberica | 2 | 1 | \n",
    "| 3 | Germany | 1200 | Arabica | 1 | 2 | \n",
    "| 4 | Germany | 200 | Robusta | 0 | 2 | \n",
    "| 5 | Japan | 800 | Arabica | 1 | 3 | \n",
    "| 6 | France | 700 | Excelsa | 3 | 4 |\n"
   ]
  },
  {
   "attachments": {},
   "cell_type": "markdown",
   "metadata": {},
   "source": [
    "In postgresql syntax, write a query that returns all country names lowercased from the orders table."
   ]
  },
  {
   "cell_type": "code",
   "execution_count": null,
   "metadata": {
    "vscode": {
     "languageId": "sql"
    }
   },
   "outputs": [],
   "source": [
    "-- write answer here"
   ]
  },
  {
   "attachments": {},
   "cell_type": "markdown",
   "metadata": {},
   "source": [
    "In postgresql syntax, write a query that gets the name and type of coffee of all countries who have an order above 500 kgs but below 1000 kgs from the orders table."
   ]
  },
  {
   "cell_type": "code",
   "execution_count": null,
   "metadata": {
    "vscode": {
     "languageId": "sql"
    }
   },
   "outputs": [],
   "source": [
    "-- write answer here"
   ]
  },
  {
   "attachments": {},
   "cell_type": "markdown",
   "metadata": {},
   "source": [
    "In postgresql syntax, write a query that joins these two tables together on coffee-type, calculates the total price of an order according to price_kg, adds $1000 for air-freight, and then orders this table from most expensive order to least."
   ]
  },
  {
   "cell_type": "code",
   "execution_count": null,
   "metadata": {
    "vscode": {
     "languageId": "sql"
    }
   },
   "outputs": [],
   "source": [
    "-- write answer here"
   ]
  },
  {
   "attachments": {},
   "cell_type": "markdown",
   "metadata": {},
   "source": [
    "## Q4 Advanced Queries\n",
    "\n",
    "Using the tables above, generate the respective queries"
   ]
  },
  {
   "attachments": {},
   "cell_type": "markdown",
   "metadata": {},
   "source": [
    "Extract the name of the country that is the second highest consumer of coffee beans from the `orders` table"
   ]
  },
  {
   "cell_type": "code",
   "execution_count": null,
   "metadata": {
    "vscode": {
     "languageId": "sql"
    }
   },
   "outputs": [],
   "source": [
    "-- write answer here"
   ]
  },
  {
   "attachments": {},
   "cell_type": "markdown",
   "metadata": {},
   "source": [
    "Extract the name of the bean that is the second most expensive from the `warehouse` table"
   ]
  },
  {
   "cell_type": "code",
   "execution_count": null,
   "metadata": {
    "vscode": {
     "languageId": "sql"
    }
   },
   "outputs": [],
   "source": [
    "-- write answer here"
   ]
  },
  {
   "attachments": {},
   "cell_type": "markdown",
   "metadata": {},
   "source": [
    "## Q5\n",
    "\n",
    "Explain, in your own words, why you might need a transaction in SQL?"
   ]
  },
  {
   "attachments": {},
   "cell_type": "markdown",
   "metadata": {},
   "source": [
    "write answer here"
   ]
  }
 ],
 "metadata": {
  "language_info": {
   "name": "python"
  },
  "orig_nbformat": 4
 },
 "nbformat": 4,
 "nbformat_minor": 2
}
