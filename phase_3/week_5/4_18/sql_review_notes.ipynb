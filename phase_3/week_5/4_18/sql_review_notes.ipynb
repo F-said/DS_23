{
 "cells": [
  {
   "attachments": {},
   "cell_type": "markdown",
   "metadata": {},
   "source": [
    "## Sakila DB\n",
    "\n",
    "https://www.jooq.org/sakila"
   ]
  },
  {
   "cell_type": "code",
   "execution_count": null,
   "metadata": {
    "vscode": {
     "languageId": "sql"
    }
   },
   "outputs": [],
   "source": [
    "SELECT * FROM staff;"
   ]
  },
  {
   "cell_type": "code",
   "execution_count": null,
   "metadata": {
    "vscode": {
     "languageId": "sql"
    }
   },
   "outputs": [],
   "source": [
    "SELECT * FROM inventory;"
   ]
  },
  {
   "cell_type": "code",
   "execution_count": null,
   "metadata": {
    "vscode": {
     "languageId": "sql"
    }
   },
   "outputs": [],
   "source": [
    "SELECT f.title, count(*) as num_rentals\n",
    "FROM inventory i \n",
    "\tLEFT JOIN film f ON i.film_id = f.film_id\n",
    "\tLEFT JOIN rental r ON r.inventory_id = i.inventory_id\n",
    "GROUP BY f.title\n",
    "ORDER BY num_rentals desc\n",
    "LIMIT 5; "
   ]
  },
  {
   "attachments": {},
   "cell_type": "markdown",
   "metadata": {},
   "source": [
    "## SQL Re-Intro\n",
    "\n",
    "As data analysts, we will often rely on a team of technologists to maintain and setup a database. \n",
    "Since data analysts are mostly interested in “interrogating” a dataset, our focus often lies only on using query language statements to generate reports & metrics.\n",
    "Ex:\n",
    "* Write a script that calculates sales for the month 💰\n",
    "* Write a script that gives me the last 5 employees that clocked out for the day  😨\n",
    "\n",
    "But just in case, we will also go over the theory & practice of designing a database, as well as a couple of advanced features that will make you a more powerful developer.  \n",
    "First, let’s review the basics."
   ]
  },
  {
   "attachments": {},
   "cell_type": "markdown",
   "metadata": {},
   "source": [
    "## Definitions\n",
    "\n",
    "Database Management System: Software tool for storing & managing large amounts of data (Postgres, MySQL, Oracle). Allows access via query language. Allows for durable (failure-proof) and atomic operations.  \n",
    "\n",
    "Database Server: An installation of a DBMS. We have a database server on Amazon, and our dbms is Postgres  \n",
    "\n",
    "Database: Collection of data organized for a specific application  \n",
    "\n",
    "Database Application: Software product that uses a DBMS (pgAdmin)\n",
    "\n",
    "Relational Model: Approach to managing data using a structure where all data is represented as tuples (rows), grouped into relations (tables)  \n",
    "\n",
    "Database Schema: A logical plan for a database, also a structure that represents a subset of functions & tables w/in a database  \n",
    "\n",
    "Primary Key: A set of attributes in a relation that identifies a specific tuple   \n",
    "\n",
    "Foreign Key: A referential integrity constraint, a link between two tables  "
   ]
  },
  {
   "attachments": {},
   "cell_type": "markdown",
   "metadata": {},
   "source": [
    "## Transactions\n",
    "\n",
    "**ACID**\n",
    "\n",
    "* Atomicity: All changes are performed or NONE.\n",
    "* Consistency: Data is not lost or unpredictably changed\n",
    "* Isolation: Intermediate state of transaction is not visible to other transactions\n",
    "* Durability: After a transaction completes, changes to data are persistent \n",
    "\n",
    "**Syntax** \n",
    "COMMIT save changes to database  \n",
    "ROLLBACK undo changes to database  \n",
    "SAVEPOINT create a point to rollback to in database  \n",
    "SET TRANSACTION name the transaction  \n",
    "\n",
    "Creating transactions allow us to undo unfortunate & unintended queries. This will become relevant again next week in sqlalchemy. \n",
    "\n",
    "**PostgreSQL**\n",
    "Postgres automatically treats each DDL & DML query as a transaction. However, we could implement further functionality to our queries by utilizing:\n",
    "\n",
    "* BEGIN; … COMMIT;  (Begin transaction, and commit if successful)\n",
    "* SAVEPOINT name;   (Set a save-point to rollback to)\n",
    "* ROLLBACK; \t  (Rollback to that save-point)\n"
   ]
  },
  {
   "cell_type": "code",
   "execution_count": null,
   "metadata": {
    "vscode": {
     "languageId": "sql"
    }
   },
   "outputs": [],
   "source": [
    "SELECT * FROM inventory WHERE inventory_id = 4581;"
   ]
  },
  {
   "cell_type": "code",
   "execution_count": null,
   "metadata": {
    "vscode": {
     "languageId": "sql"
    }
   },
   "outputs": [],
   "source": [
    "BEGIN;\n",
    "\tSAVEPOINT undo_change;\n",
    "\tUPDATE inventory SET store_id = 2 WHERE inventory_id = 4581;\n",
    "\t-- woops, undo\n",
    "\tROLLBACK TO undo_change;\n",
    "COMMIT;"
   ]
  },
  {
   "attachments": {},
   "cell_type": "markdown",
   "metadata": {},
   "source": [
    "As you can imagine, this becomes super-useful if you are working on a database that can have multiple changes occuring to it from multiple sources. By ensuring ACID properties, we will not accidentally make an unintended (and untraceable) change to our database which will compromise the entire operation!"
   ]
  },
  {
   "attachments": {},
   "cell_type": "markdown",
   "metadata": {},
   "source": [
    "Notice that a bad transaction will result in the error message:\n",
    "\n",
    "`ERROR: current transaction is aborted, commands ignored until end of transaction block`"
   ]
  },
  {
   "cell_type": "code",
   "execution_count": null,
   "metadata": {
    "vscode": {
     "languageId": "sql"
    }
   },
   "outputs": [],
   "source": [
    "BEGIN;\n",
    "\tSAVEPOINT undo_change;\n",
    "\tUPDATE inventory SET store_id = 5 WHERE inventory_id = 4581;\n",
    "\t-- woops, undo\n",
    "\tROLLBACK;\n",
    "COMMIT;"
   ]
  },
  {
   "attachments": {},
   "cell_type": "markdown",
   "metadata": {},
   "source": [
    "Forcing an error causes us to stay in the same \"broken\" transaction. We must rollback to begin a new transaction. This highlights the importance of exception handling, which will also come up during sqlalchemy. \n",
    "\n",
    "Unfortunately, there is no trivial way to catch these exceptions in a SQL script. An additional wrapper of Python therefore would give us more functionality."
   ]
  },
  {
   "cell_type": "code",
   "execution_count": null,
   "metadata": {
    "vscode": {
     "languageId": "sql"
    }
   },
   "outputs": [],
   "source": [
    "ROLLBACK;\n",
    "\n",
    "BEGIN;\n",
    "\tSAVEPOINT undo_change;\n",
    "\tUPDATE inventory SET store_id = 2 WHERE inventory_id = 4581;\n",
    "\t-- woops, undo\n",
    "\tROLLBACK;\n",
    "COMMIT;"
   ]
  },
  {
   "attachments": {},
   "cell_type": "markdown",
   "metadata": {},
   "source": [
    "## PL/pgSQL\n",
    "\n",
    "Outside of regular queries, we also have the ability to generate procedural (programming-like) queries that utilize control flow structures such as conditionals, loops, and functions.\n",
    "This is a block structured language that must abide by the following format:\n",
    "\n",
    "```\n",
    "DECLARE\n",
    "...\n",
    "BEGIN\n",
    "...\n",
    "END\n",
    "```\n",
    "\n",
    "This must be wrapped in anonymous function, or a named function.\n",
    "\n",
    "Note: you cannot put transactions inside of procedural SQL! "
   ]
  },
  {
   "attachments": {},
   "cell_type": "markdown",
   "metadata": {},
   "source": [
    "**Anonymous Function**"
   ]
  },
  {
   "cell_type": "code",
   "execution_count": null,
   "metadata": {
    "vscode": {
     "languageId": "sql"
    }
   },
   "outputs": [],
   "source": [
    "DO $$\n",
    "DECLARE\n",
    "    word VARCHAR := 'Hello World';\n",
    "    today TIMESTAMP;\n",
    "BEGIN\n",
    "    SELECT CURRENT_DATE INTO today;\n",
    "    -- PL/pgSQL conditional\n",
    "    IF today= DATE '2023-04-18' THEN\n",
    "        RAISE NOTICE '%', word;\n",
    "    END IF;\n",
    "    --\n",
    "END $$;"
   ]
  },
  {
   "cell_type": "code",
   "execution_count": null,
   "metadata": {
    "vscode": {
     "languageId": "sql"
    }
   },
   "outputs": [],
   "source": [
    "DO $$\n",
    "DECLARE\n",
    "\tcnt INT;\n",
    "    word VARCHAR := 'Hello World';\n",
    "    today TIMESTAMP;\n",
    "BEGIN\n",
    "    SELECT CURRENT_DATE INTO today;\n",
    "    IF today= DATE '2023-04-18' THEN\n",
    "        -- PL/pgSQL loop\n",
    "        FOR cnt IN 1..5 LOOP\n",
    "            RAISE NOTICE '%', word;\n",
    "        END LOOP;\n",
    "        --\n",
    "    END IF;\n",
    "END $$;"
   ]
  },
  {
   "attachments": {},
   "cell_type": "markdown",
   "metadata": {},
   "source": [
    "**Named Function**"
   ]
  },
  {
   "cell_type": "code",
   "execution_count": null,
   "metadata": {
    "vscode": {
     "languageId": "sql"
    }
   },
   "outputs": [],
   "source": [
    "-- create a function named 'func1'. Replace it if it exists already. It returns a varchar\n",
    "CREATE OR REPLACE FUNCTION func1 (param1 VARCHAR) RETURNS VARCHAR AS $$ \n",
    "    -- declare variables that you will use in your function\n",
    "    DECLARE\n",
    "    \ttoday TIMESTAMP;\n",
    "    -- begin the procedure\n",
    "    BEGIN\n",
    "        -- basic sql query\n",
    "        SELECT CURRENT_DATE INTO today;\n",
    "        -- control flow\n",
    "\t\tIF today= DATE '2023-04-18' THEN\n",
    "\t\t\tRAISE NOTICE '%', param1;\n",
    "\t\tEND IF;\n",
    "        -- return value\n",
    "        RETURN 'hello world!';\n",
    "    -- end procedure\n",
    "    END; $$ \n",
    "-- specify language \n",
    "LANGUAGE plpgsql;\n",
    "\n",
    "\n",
    "SELECT func1('me')"
   ]
  },
  {
   "attachments": {},
   "cell_type": "markdown",
   "metadata": {},
   "source": [
    "Notice that the `$$` is just syntactic sugar that allows us to create procedures. We can replace this with a `'`, but then we would have to apply additional formatting to our function."
   ]
  },
  {
   "cell_type": "code",
   "execution_count": null,
   "metadata": {
    "vscode": {
     "languageId": "sql"
    }
   },
   "outputs": [],
   "source": [
    "CREATE OR REPLACE FUNCTION func1 (param1 VARCHAR) RETURNS VARCHAR AS '\n",
    "    DECLARE\n",
    "    \ttoday TIMESTAMP;\n",
    "    BEGIN\n",
    "        SELECT CURRENT_DATE INTO today;\n",
    "\t\tIF today= DATE ''2023-04-18'' THEN\n",
    "\t\t\tRAISE NOTICE ''%'', param1;\n",
    "\t\tEND IF;\n",
    "        RETURN ''hello world!'';\n",
    "    END ' \n",
    "LANGUAGE plpgsql;\n",
    "\n",
    "SELECT func1('me')"
   ]
  },
  {
   "attachments": {},
   "cell_type": "markdown",
   "metadata": {},
   "source": [
    "## Cursors\n",
    "\n",
    "An encapsulation of a query. Reads a few rows at a time instead of the entire result. Great for queries that result in a large amount of data.  \n",
    "Comes up in sqlalchemy again! \n",
    "\n",
    "\"Read-only pointer that allows a program, regardless of the language used, to access the result set of a query.\"\n",
    "\n",
    "Can only exist within a procedure.\n",
    "\n",
    "\n",
    "https://kb.objectrocket.com/postgresql/what-is-a-postgresql-cursor-749 "
   ]
  },
  {
   "cell_type": "code",
   "execution_count": null,
   "metadata": {
    "vscode": {
     "languageId": "sql"
    }
   },
   "outputs": [],
   "source": [
    "CREATE OR REPLACE FUNCTION cursor_func () RETURNS VARCHAR AS $$ \n",
    "    DECLARE \n",
    "        -- create cursor\n",
    "        curs1 CURSOR FOR SELECT * FROM film;\n",
    "        -- create row var\n",
    "        film_row film%ROWTYPE;\n",
    "    BEGIN\n",
    "        -- open cursor for manipulation\n",
    "        OPEN curs1;\n",
    "        /* get next result row */\n",
    "        FETCH curs1 INTO film_row;\n",
    "        RETURN film_row.title;\n",
    "\t\tCLOSE curs1;\n",
    "\tEND; $$ \n",
    "LANGUAGE plpgsql;\n",
    "\n",
    "SELECT cursor_func()"
   ]
  },
  {
   "attachments": {},
   "cell_type": "markdown",
   "metadata": {},
   "source": [
    "## Basic Queries\n",
    "\n",
    "Since SQL is a declarative language, we do not get to specify how a piece of code is executed.\n",
    "\n",
    "However, we should still be aware as to what is going on underneath the hood of SQL.\n",
    "\n",
    "Data in SQL is stored in fundamental data units called 8 KB “pages”\n",
    "\n",
    "1. Queries are passed to a Query Evaluation Engine\n",
    "* Parses query for syntax error\n",
    "* Optimizes query\n",
    "* Executes query\n",
    "2. File Manager: checks if user can access data, asks buffer to find page\n",
    "3. Buffer Manager: checks to see if data is in buffer, if not asks disk manager\n",
    "4. Disk Manager: accesses page data \n",
    "\n",
    "**Execution Order**\n",
    "\n",
    "1. Row Filtering - Phase 1: \n",
    "* FROM, \n",
    "* WHERE,\n",
    "* GROUP BY\n",
    "2. Column Filtering: \n",
    "* SELECT\n",
    "3. Row Filtering - Phase 2:\n",
    "* DISTINCT\n",
    "* ORDER BY\n",
    "* LIMIT"
   ]
  },
  {
   "cell_type": "code",
   "execution_count": null,
   "metadata": {
    "vscode": {
     "languageId": "sql"
    }
   },
   "outputs": [],
   "source": [
    "-- basic\n",
    "SELECT *\n",
    "FROM film;\n",
    "\n",
    "-- limit\n",
    "SELECT *\n",
    "FROM film\n",
    "LIMIT 5;\n",
    "\n",
    "-- aggregate\n",
    "SELECT min(release_year)\n",
    "FROM film;\n",
    "\n",
    "-- existence\n",
    "SELECT 1\n",
    "FROM film\n",
    "WHERE release_year=2005;\n",
    "\n",
    "-- null\n",
    "SELECT first_name\n",
    "FROM staff\n",
    "WHERE picture is NULL;\n",
    "\n",
    "-- pattern\n",
    "SELECT first_name\n",
    "FROM staff\n",
    "WHERE first_name LIKE 'M%';\n",
    "\n",
    "-- group by's\n",
    "SELECT rating, count(*)\n",
    "FROM film\n",
    "GROUP BY rating;\n",
    "\n",
    "-- order by\n",
    "SELECT rating, count(*) as a\n",
    "FROM film\n",
    "GROUP BY rating\n",
    "ORDER BY a desc;\n",
    "\n",
    "-- quantifier/correlated subquery\n",
    "SELECT f.title, f.language_id\n",
    "FROM film f WHERE EXISTS  (\n",
    "SELECT 1 FROM language l WHERE l.language_id = 3\n",
    "\n",
    "-- cartesian product\n",
    "SELECT f.title, l.name\n",
    "FROM film f, language l\n",
    "WHERE l.language_id = f.language_id;\n",
    "\n",
    "-- joins\n",
    "SELECT f.title, l.name\n",
    "FROM film f INNER JOIN language l\n",
    "ON l.language_id = f.language_id;\n"
   ]
  },
  {
   "attachments": {},
   "cell_type": "markdown",
   "metadata": {},
   "source": [
    "## Views \n",
    "\n",
    "Virtual tables that are created from query language commands.\n",
    "\n",
    "Creating views allows us to:\n",
    "* Hide complexity\n",
    "* Show different tables for different users\n",
    "* Allow updates to original table from view  (based on assumptions!)"
   ]
  },
  {
   "attachments": {},
   "cell_type": "markdown",
   "metadata": {},
   "source": [
    "Anonymous views"
   ]
  },
  {
   "cell_type": "code",
   "execution_count": null,
   "metadata": {
    "vscode": {
     "languageId": "sql"
    }
   },
   "outputs": [],
   "source": [
    "SELECT * \n",
    "FROM  ( SELECT title, length FROM film WHERE rating='PG') as anon_view\n",
    "WHERE anon_view.length > 100; "
   ]
  },
  {
   "attachments": {},
   "cell_type": "markdown",
   "metadata": {},
   "source": [
    "Regular views"
   ]
  },
  {
   "cell_type": "code",
   "execution_count": null,
   "metadata": {
    "vscode": {
     "languageId": "sql"
    }
   },
   "outputs": [],
   "source": [
    "CREATE VIEW pg_film(title, film)\n",
    "AS \n",
    "SELECT title, length FROM film WHERE rating='PG';"
   ]
  },
  {
   "attachments": {},
   "cell_type": "markdown",
   "metadata": {},
   "source": [
    "## Window Functions\n",
    "\n",
    "Allow us to compute aggregates without a GROUP BY! \n",
    "\n",
    "https://www.postgresqltutorial.com/postgresql-window-function/ \n",
    "\n",
    "https://www.postgresql.org/docs/current/tutorial-window.html \n",
    "\n",
    "Super useful for SQL interview questions. E.g. What is(are) the title of second longest film(s)?\n",
    "\n",
    "```sql\n",
    "SELECT iq.title FROM\n",
    "\t( SELECT title, dense_rank() OVER (ORDER BY length desc) as rnk\n",
    "\t\tFROM film \n",
    "\t ) as iq\n",
    "WHERE rnk = 2\n",
    "```"
   ]
  },
  {
   "cell_type": "code",
   "execution_count": null,
   "metadata": {
    "vscode": {
     "languageId": "sql"
    }
   },
   "outputs": [],
   "source": [
    "SELECT title, rating, avg(length) OVER (PARTITION BY rating) as avg_length \n",
    "FROM film;"
   ]
  },
  {
   "attachments": {},
   "cell_type": "markdown",
   "metadata": {},
   "source": [
    "## Database Design\n",
    "\n",
    "Data Modeling: The process of creating a data model in relational algebra to store data in a database.   \n",
    "\n",
    "Conceptual Data Model: WHAT does the system contain. Typically assisted by business stakeholders (what data do we want to track?)  \n",
    "\n",
    "Logical Data Model: HOW should the system store the data. Expressed as an ERD. Typically assisted by data architects.  \n",
    "\n",
    "Physical Data Model: your schema    "
   ]
  },
  {
   "attachments": {},
   "cell_type": "markdown",
   "metadata": {},
   "source": [
    "## Conceptual Database\n",
    "\n",
    "1. Purpose: what would be the purpose of my database?\n",
    "\n",
    "2. Information: what information do I have already?\n",
    "\n",
    "* Identify Objects (aka entities): \n",
    "* Out of the information that I already have, what columns do I want to keep? \n",
    "* Do subsets of these columns represent different objects? \n",
    "    * Product, Customer, Store\n",
    "    * Company, Job\n",
    "\n",
    "* Do these objects relate to one another at all?\n",
    "\n",
    "\n",
    "Keep in mind, these are concepts & ideation. We will formalize these in the next step."
   ]
  },
  {
   "attachments": {},
   "cell_type": "markdown",
   "metadata": {},
   "source": [
    "## Logical Database\n",
    "\n",
    "Formalize these observations via an entity relationship diagram. We will be using draw.io \n",
    "\n",
    "Using your concepts, create a graph that describes how your database will look."
   ]
  },
  {
   "attachments": {},
   "cell_type": "markdown",
   "metadata": {},
   "source": [
    "## Keys\n",
    "\n",
    "Choosing a Primary Key\n",
    "* Key: A unique identifier of that row. Cannot be reused by any other row. Keep in mind that keys can point to rows with the same data, but keys cannot be reused! \n",
    "* Cannot be null! Can be composed of multiple columns.\n",
    "\n",
    "* Aim to use existing attributes. However, if no unique identifier exists, make up an id col.\n",
    "* Underline your primary key attribute in your ERD.\n",
    "\n",
    "Including Foreign Keys\n",
    "* If your table refers to information within another table, you should also create a foreign key."
   ]
  },
  {
   "attachments": {},
   "cell_type": "markdown",
   "metadata": {},
   "source": [
    "## Functional Dependency\n",
    "\n",
    "One (or more) attribute(s) uniquely determines another (group of ) attribute(s).\n",
    "R is a relation with attributes X & Y. We state there is a functional dependency b/w X & Y (X -> Y) if each value of  X is associated with precisely one Y value. In this case, X is the determinant  and Y is the dependent attribute.\n",
    "\n",
    "Only applies to tuples. \n",
    "\n",
    "Given the value of X we can determine information in the rest of the row, but not vice-versa.\n",
    "\n",
    "Ex:\n",
    "```\n",
    "Order_id -> (port_id, type_id)\n",
    "Employee_id -> (name, address, salary)\n",
    "```\n",
    "\n",
    "https://www.techopedia.com/definition/19504/functional-dependency \n",
    "\n",
    "**Normalization**\n",
    "\n",
    "**1NF**  \n",
    "Attributes do not contain relations (data structures) as elements  \n",
    "**2NF**  \n",
    "All non-key attributes are fully functional dependent on the primary key. Create separate tables for sets of values that apply to multiple tables.  \n",
    "**3NF**   \n",
    "No transitive dependency. Eliminate all fields that do not depend on the primary key.  \n",
    "**BCNF**   \n",
    "Often not practical to apply. Determinant is a super-key.  \n",
    "\n",
    "https://arctype.com/blog/2nf-3nf-normalization-example/ \n",
    "https://learn.microsoft.com/en-us/office/troubleshoot/access/database-normalization-description "
   ]
  }
 ],
 "metadata": {
  "language_info": {
   "name": "python"
  },
  "orig_nbformat": 4
 },
 "nbformat": 4,
 "nbformat_minor": 2
}
