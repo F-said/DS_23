{
 "cells": [
  {
   "cell_type": "code",
   "execution_count": 122,
   "metadata": {},
   "outputs": [
    {
     "data": {
      "text/html": [
       "<div>\n",
       "<style scoped>\n",
       "    .dataframe tbody tr th:only-of-type {\n",
       "        vertical-align: middle;\n",
       "    }\n",
       "\n",
       "    .dataframe tbody tr th {\n",
       "        vertical-align: top;\n",
       "    }\n",
       "\n",
       "    .dataframe thead th {\n",
       "        text-align: right;\n",
       "    }\n",
       "</style>\n",
       "<table border=\"1\" class=\"dataframe\">\n",
       "  <thead>\n",
       "    <tr style=\"text-align: right;\">\n",
       "      <th></th>\n",
       "      <th>age</th>\n",
       "      <th>job</th>\n",
       "      <th>marital</th>\n",
       "      <th>education</th>\n",
       "      <th>default</th>\n",
       "      <th>balance</th>\n",
       "      <th>housing</th>\n",
       "      <th>loan</th>\n",
       "      <th>contact</th>\n",
       "      <th>day</th>\n",
       "      <th>month</th>\n",
       "      <th>duration</th>\n",
       "      <th>campaign</th>\n",
       "      <th>pdays</th>\n",
       "      <th>previous</th>\n",
       "      <th>poutcome</th>\n",
       "      <th>y</th>\n",
       "    </tr>\n",
       "  </thead>\n",
       "  <tbody>\n",
       "    <tr>\n",
       "      <th>0</th>\n",
       "      <td>58</td>\n",
       "      <td>management</td>\n",
       "      <td>married</td>\n",
       "      <td>tertiary</td>\n",
       "      <td>no</td>\n",
       "      <td>2143</td>\n",
       "      <td>yes</td>\n",
       "      <td>no</td>\n",
       "      <td>unknown</td>\n",
       "      <td>5</td>\n",
       "      <td>may</td>\n",
       "      <td>261</td>\n",
       "      <td>1</td>\n",
       "      <td>-1</td>\n",
       "      <td>0</td>\n",
       "      <td>unknown</td>\n",
       "      <td>no</td>\n",
       "    </tr>\n",
       "    <tr>\n",
       "      <th>1</th>\n",
       "      <td>44</td>\n",
       "      <td>technician</td>\n",
       "      <td>single</td>\n",
       "      <td>secondary</td>\n",
       "      <td>no</td>\n",
       "      <td>29</td>\n",
       "      <td>yes</td>\n",
       "      <td>no</td>\n",
       "      <td>unknown</td>\n",
       "      <td>5</td>\n",
       "      <td>may</td>\n",
       "      <td>151</td>\n",
       "      <td>1</td>\n",
       "      <td>-1</td>\n",
       "      <td>0</td>\n",
       "      <td>unknown</td>\n",
       "      <td>no</td>\n",
       "    </tr>\n",
       "    <tr>\n",
       "      <th>2</th>\n",
       "      <td>33</td>\n",
       "      <td>entrepreneur</td>\n",
       "      <td>married</td>\n",
       "      <td>secondary</td>\n",
       "      <td>no</td>\n",
       "      <td>2</td>\n",
       "      <td>yes</td>\n",
       "      <td>yes</td>\n",
       "      <td>unknown</td>\n",
       "      <td>5</td>\n",
       "      <td>may</td>\n",
       "      <td>76</td>\n",
       "      <td>1</td>\n",
       "      <td>-1</td>\n",
       "      <td>0</td>\n",
       "      <td>unknown</td>\n",
       "      <td>no</td>\n",
       "    </tr>\n",
       "    <tr>\n",
       "      <th>3</th>\n",
       "      <td>47</td>\n",
       "      <td>blue-collar</td>\n",
       "      <td>married</td>\n",
       "      <td>unknown</td>\n",
       "      <td>no</td>\n",
       "      <td>1506</td>\n",
       "      <td>yes</td>\n",
       "      <td>no</td>\n",
       "      <td>unknown</td>\n",
       "      <td>5</td>\n",
       "      <td>may</td>\n",
       "      <td>92</td>\n",
       "      <td>1</td>\n",
       "      <td>-1</td>\n",
       "      <td>0</td>\n",
       "      <td>unknown</td>\n",
       "      <td>no</td>\n",
       "    </tr>\n",
       "    <tr>\n",
       "      <th>4</th>\n",
       "      <td>33</td>\n",
       "      <td>unknown</td>\n",
       "      <td>single</td>\n",
       "      <td>unknown</td>\n",
       "      <td>no</td>\n",
       "      <td>1</td>\n",
       "      <td>no</td>\n",
       "      <td>no</td>\n",
       "      <td>unknown</td>\n",
       "      <td>5</td>\n",
       "      <td>may</td>\n",
       "      <td>198</td>\n",
       "      <td>1</td>\n",
       "      <td>-1</td>\n",
       "      <td>0</td>\n",
       "      <td>unknown</td>\n",
       "      <td>no</td>\n",
       "    </tr>\n",
       "  </tbody>\n",
       "</table>\n",
       "</div>"
      ],
      "text/plain": [
       "   age           job  marital  education default  balance housing loan  \\\n",
       "0   58    management  married   tertiary      no     2143     yes   no   \n",
       "1   44    technician   single  secondary      no       29     yes   no   \n",
       "2   33  entrepreneur  married  secondary      no        2     yes  yes   \n",
       "3   47   blue-collar  married    unknown      no     1506     yes   no   \n",
       "4   33       unknown   single    unknown      no        1      no   no   \n",
       "\n",
       "   contact  day month  duration  campaign  pdays  previous poutcome   y  \n",
       "0  unknown    5   may       261         1     -1         0  unknown  no  \n",
       "1  unknown    5   may       151         1     -1         0  unknown  no  \n",
       "2  unknown    5   may        76         1     -1         0  unknown  no  \n",
       "3  unknown    5   may        92         1     -1         0  unknown  no  \n",
       "4  unknown    5   may       198         1     -1         0  unknown  no  "
      ]
     },
     "execution_count": 122,
     "metadata": {},
     "output_type": "execute_result"
    }
   ],
   "source": [
    "import pandas as pd\n",
    "import seaborn as sns\n",
    "\n",
    "# load dataframe\n",
    "df = pd.read_csv(\"../data/bank-full.csv\")\n",
    "df.head()"
   ]
  },
  {
   "cell_type": "code",
   "execution_count": 123,
   "metadata": {},
   "outputs": [],
   "source": [
    "import numpy as np\n",
    "from scipy import stats\n",
    "\n",
    "# what am I doing here? (z-score = how many standard deviations a sample is away from the mean)\n",
    "# remove outliers: 100_000 euros in their bank account \n",
    "df = df[(np.abs(stats.zscore(df['balance'])) < 3)]\n",
    "\n",
    "# set y to binary\n",
    "df['y'] = np.where(df['y'] == 'yes', 1, 0)\n",
    "\n",
    "# drop time (for simplicity)\n",
    "# drop until we get more domain information on this variable\n",
    "# drop columns that are not controlled by marketers\n",
    "# time is SUPER tricky, so for now its best to avoid it. We could potentially mislead ourselves by including time.\n",
    "df.drop(columns=[\"day\", \"month\", \"duration\"], inplace=True)\n",
    "\n",
    "# one hot encoding\n",
    "df['job'] = df['job'].astype('category')\n",
    "df['marital'] = df['marital'].astype('category')\n",
    "df['education'] = df['education'].astype('category')\n",
    "df['default'] = df['default'].astype('category')\n",
    "df['housing'] = df['housing'].astype('category')\n",
    "df['loan'] = df['loan'].astype('category')\n",
    "df['contact'] = df['contact'].astype('category')\n",
    "df['poutcome'] = df['poutcome'].astype('category')\n",
    "\n",
    "df = pd.get_dummies(df)\n",
    "\n",
    "df = df.apply(lambda x: x.astype(float))\n",
    "\n",
    "df.to_csv(\"../data/bank-cleaned.csv\", index=False)"
   ]
  },
  {
   "cell_type": "code",
   "execution_count": 124,
   "metadata": {},
   "outputs": [],
   "source": [
    "df['pdays'] = np.where(df['pdays'] == -1, 0, df['pdays'])\n",
    "df.drop(columns=[\"housing_no\", \"default_no\", \"loan_no\"], inplace=True)"
   ]
  },
  {
   "cell_type": "code",
   "execution_count": 126,
   "metadata": {},
   "outputs": [
    {
     "data": {
      "text/html": [
       "<div>\n",
       "<style scoped>\n",
       "    .dataframe tbody tr th:only-of-type {\n",
       "        vertical-align: middle;\n",
       "    }\n",
       "\n",
       "    .dataframe tbody tr th {\n",
       "        vertical-align: top;\n",
       "    }\n",
       "\n",
       "    .dataframe thead th {\n",
       "        text-align: right;\n",
       "    }\n",
       "</style>\n",
       "<table border=\"1\" class=\"dataframe\">\n",
       "  <thead>\n",
       "    <tr style=\"text-align: right;\">\n",
       "      <th></th>\n",
       "      <th>age</th>\n",
       "      <th>balance</th>\n",
       "      <th>campaign</th>\n",
       "      <th>pdays</th>\n",
       "      <th>previous</th>\n",
       "      <th>y</th>\n",
       "      <th>job_admin.</th>\n",
       "      <th>job_blue-collar</th>\n",
       "      <th>job_entrepreneur</th>\n",
       "      <th>job_housemaid</th>\n",
       "      <th>...</th>\n",
       "      <th>default_yes</th>\n",
       "      <th>housing_yes</th>\n",
       "      <th>loan_yes</th>\n",
       "      <th>contact_cellular</th>\n",
       "      <th>contact_telephone</th>\n",
       "      <th>contact_unknown</th>\n",
       "      <th>poutcome_failure</th>\n",
       "      <th>poutcome_other</th>\n",
       "      <th>poutcome_success</th>\n",
       "      <th>poutcome_unknown</th>\n",
       "    </tr>\n",
       "  </thead>\n",
       "  <tbody>\n",
       "    <tr>\n",
       "      <th>0</th>\n",
       "      <td>58.0</td>\n",
       "      <td>2143.0</td>\n",
       "      <td>1.0</td>\n",
       "      <td>0.0</td>\n",
       "      <td>0.0</td>\n",
       "      <td>0.0</td>\n",
       "      <td>0.0</td>\n",
       "      <td>0.0</td>\n",
       "      <td>0.0</td>\n",
       "      <td>0.0</td>\n",
       "      <td>...</td>\n",
       "      <td>0.0</td>\n",
       "      <td>1.0</td>\n",
       "      <td>0.0</td>\n",
       "      <td>0.0</td>\n",
       "      <td>0.0</td>\n",
       "      <td>1.0</td>\n",
       "      <td>0.0</td>\n",
       "      <td>0.0</td>\n",
       "      <td>0.0</td>\n",
       "      <td>1.0</td>\n",
       "    </tr>\n",
       "    <tr>\n",
       "      <th>1</th>\n",
       "      <td>44.0</td>\n",
       "      <td>29.0</td>\n",
       "      <td>1.0</td>\n",
       "      <td>0.0</td>\n",
       "      <td>0.0</td>\n",
       "      <td>0.0</td>\n",
       "      <td>0.0</td>\n",
       "      <td>0.0</td>\n",
       "      <td>0.0</td>\n",
       "      <td>0.0</td>\n",
       "      <td>...</td>\n",
       "      <td>0.0</td>\n",
       "      <td>1.0</td>\n",
       "      <td>0.0</td>\n",
       "      <td>0.0</td>\n",
       "      <td>0.0</td>\n",
       "      <td>1.0</td>\n",
       "      <td>0.0</td>\n",
       "      <td>0.0</td>\n",
       "      <td>0.0</td>\n",
       "      <td>1.0</td>\n",
       "    </tr>\n",
       "    <tr>\n",
       "      <th>2</th>\n",
       "      <td>33.0</td>\n",
       "      <td>2.0</td>\n",
       "      <td>1.0</td>\n",
       "      <td>0.0</td>\n",
       "      <td>0.0</td>\n",
       "      <td>0.0</td>\n",
       "      <td>0.0</td>\n",
       "      <td>0.0</td>\n",
       "      <td>1.0</td>\n",
       "      <td>0.0</td>\n",
       "      <td>...</td>\n",
       "      <td>0.0</td>\n",
       "      <td>1.0</td>\n",
       "      <td>1.0</td>\n",
       "      <td>0.0</td>\n",
       "      <td>0.0</td>\n",
       "      <td>1.0</td>\n",
       "      <td>0.0</td>\n",
       "      <td>0.0</td>\n",
       "      <td>0.0</td>\n",
       "      <td>1.0</td>\n",
       "    </tr>\n",
       "    <tr>\n",
       "      <th>3</th>\n",
       "      <td>47.0</td>\n",
       "      <td>1506.0</td>\n",
       "      <td>1.0</td>\n",
       "      <td>0.0</td>\n",
       "      <td>0.0</td>\n",
       "      <td>0.0</td>\n",
       "      <td>0.0</td>\n",
       "      <td>1.0</td>\n",
       "      <td>0.0</td>\n",
       "      <td>0.0</td>\n",
       "      <td>...</td>\n",
       "      <td>0.0</td>\n",
       "      <td>1.0</td>\n",
       "      <td>0.0</td>\n",
       "      <td>0.0</td>\n",
       "      <td>0.0</td>\n",
       "      <td>1.0</td>\n",
       "      <td>0.0</td>\n",
       "      <td>0.0</td>\n",
       "      <td>0.0</td>\n",
       "      <td>1.0</td>\n",
       "    </tr>\n",
       "    <tr>\n",
       "      <th>4</th>\n",
       "      <td>33.0</td>\n",
       "      <td>1.0</td>\n",
       "      <td>1.0</td>\n",
       "      <td>0.0</td>\n",
       "      <td>0.0</td>\n",
       "      <td>0.0</td>\n",
       "      <td>0.0</td>\n",
       "      <td>0.0</td>\n",
       "      <td>0.0</td>\n",
       "      <td>0.0</td>\n",
       "      <td>...</td>\n",
       "      <td>0.0</td>\n",
       "      <td>0.0</td>\n",
       "      <td>0.0</td>\n",
       "      <td>0.0</td>\n",
       "      <td>0.0</td>\n",
       "      <td>1.0</td>\n",
       "      <td>0.0</td>\n",
       "      <td>0.0</td>\n",
       "      <td>0.0</td>\n",
       "      <td>1.0</td>\n",
       "    </tr>\n",
       "  </tbody>\n",
       "</table>\n",
       "<p>5 rows × 35 columns</p>\n",
       "</div>"
      ],
      "text/plain": [
       "    age  balance  campaign  pdays  previous    y  job_admin.  job_blue-collar  \\\n",
       "0  58.0   2143.0       1.0    0.0       0.0  0.0         0.0              0.0   \n",
       "1  44.0     29.0       1.0    0.0       0.0  0.0         0.0              0.0   \n",
       "2  33.0      2.0       1.0    0.0       0.0  0.0         0.0              0.0   \n",
       "3  47.0   1506.0       1.0    0.0       0.0  0.0         0.0              1.0   \n",
       "4  33.0      1.0       1.0    0.0       0.0  0.0         0.0              0.0   \n",
       "\n",
       "   job_entrepreneur  job_housemaid  ...  default_yes  housing_yes  loan_yes  \\\n",
       "0               0.0            0.0  ...          0.0          1.0       0.0   \n",
       "1               0.0            0.0  ...          0.0          1.0       0.0   \n",
       "2               1.0            0.0  ...          0.0          1.0       1.0   \n",
       "3               0.0            0.0  ...          0.0          1.0       0.0   \n",
       "4               0.0            0.0  ...          0.0          0.0       0.0   \n",
       "\n",
       "   contact_cellular  contact_telephone  contact_unknown  poutcome_failure  \\\n",
       "0               0.0                0.0              1.0               0.0   \n",
       "1               0.0                0.0              1.0               0.0   \n",
       "2               0.0                0.0              1.0               0.0   \n",
       "3               0.0                0.0              1.0               0.0   \n",
       "4               0.0                0.0              1.0               0.0   \n",
       "\n",
       "   poutcome_other  poutcome_success  poutcome_unknown  \n",
       "0             0.0               0.0               1.0  \n",
       "1             0.0               0.0               1.0  \n",
       "2             0.0               0.0               1.0  \n",
       "3             0.0               0.0               1.0  \n",
       "4             0.0               0.0               1.0  \n",
       "\n",
       "[5 rows x 35 columns]"
      ]
     },
     "execution_count": 126,
     "metadata": {},
     "output_type": "execute_result"
    }
   ],
   "source": [
    "df.head()"
   ]
  },
  {
   "cell_type": "code",
   "execution_count": 127,
   "metadata": {},
   "outputs": [],
   "source": [
    "from sklearn.linear_model import LogisticRegression\n",
    "from sklearn.model_selection import train_test_split\n",
    "from sklearn.metrics import confusion_matrix\n",
    "import statsmodels.api as sm\n",
    "from sklearn import tree\n",
    "\n",
    "# make test train split\n",
    "# train [r, c] \n",
    "# 1:5 --> all rows (1,2,3,4 (excluding 5))\n",
    "# df.columns != 'y' (all except `y`)\n",
    "X = df.loc[:, df.columns != 'y']\n",
    "# target\n",
    "y = df[\"y\"]"
   ]
  },
  {
   "cell_type": "code",
   "execution_count": 128,
   "metadata": {},
   "outputs": [],
   "source": [
    "X_train, X_test, y_train, y_test = train_test_split(X , y, test_size=0.20, random_state=42)"
   ]
  },
  {
   "cell_type": "code",
   "execution_count": 129,
   "metadata": {},
   "outputs": [
    {
     "name": "stdout",
     "output_type": "stream",
     "text": [
      "age 0.0011391984485928318\n",
      "balance 6.618422931591683e-05\n",
      "campaign -0.11528369779492756\n",
      "pdays -0.0003943517822558904\n",
      "previous 0.0026283086074017185\n",
      "job_admin. 0.001103194768469441\n",
      "job_blue-collar -0.2596072497012844\n",
      "job_entrepreneur -0.13209574297489624\n",
      "job_housemaid -0.1331068693329445\n",
      "job_management -0.13809175669509033\n",
      "job_retired 0.4140845242269666\n",
      "job_self-employed -0.09469346195706112\n",
      "job_services -0.1513383539854364\n",
      "job_student 0.19834684773953704\n",
      "job_technician -0.18619796860958635\n",
      "job_unemployed 0.05560396299623643\n",
      "job_unknown -0.02655519088569996\n",
      "marital_divorced -0.13104764856963547\n",
      "marital_married -0.38326828703881444\n",
      "marital_single 0.06176787119802913\n",
      "education_primary -0.30399506403433935\n",
      "education_secondary -0.1381432217792407\n",
      "education_tertiary 0.020891582170534762\n",
      "education_unknown -0.031301360765182494\n",
      "default_yes -0.07722762982851225\n",
      "housing_yes -0.5264503032684411\n",
      "loan_yes -0.5171980784105119\n",
      "contact_cellular 0.2705834558550583\n",
      "contact_telephone 0.04496865969320454\n",
      "contact_unknown -0.7681001799621988\n",
      "poutcome_failure -0.7498526209811882\n",
      "poutcome_other -0.23094744111275636\n",
      "poutcome_success 1.4509024875495913\n",
      "poutcome_unknown -0.9226504898689526\n"
     ]
    }
   ],
   "source": [
    "# Logistic Regression\n",
    "log = LogisticRegression(random_state=0, max_iter = 10_000)\n",
    "log.fit(X_train, y_train)\n",
    "\n",
    "for i in range(len(X.columns)):\n",
    "  print(X.columns[i], log.coef_[0][i])"
   ]
  },
  {
   "cell_type": "code",
   "execution_count": 130,
   "metadata": {},
   "outputs": [
    {
     "data": {
      "text/plain": [
       "array([[7822,   88],\n",
       "       [ 830,  154]], dtype=int64)"
      ]
     },
     "execution_count": 130,
     "metadata": {},
     "output_type": "execute_result"
    }
   ],
   "source": [
    "predictions = log.predict(X_test)\n",
    "\n",
    "# generate confusion matrix\n",
    "confusion_matrix(y_test, predictions)"
   ]
  },
  {
   "cell_type": "code",
   "execution_count": 131,
   "metadata": {},
   "outputs": [
    {
     "data": {
      "text/plain": [
       "(7822, 88, 830, 154)"
      ]
     },
     "execution_count": 131,
     "metadata": {},
     "output_type": "execute_result"
    }
   ],
   "source": [
    "tn, fp, fn, tp = confusion_matrix(y_test, predictions).ravel()\n",
    "\n",
    "(tn, fp, fn, tp)"
   ]
  },
  {
   "cell_type": "code",
   "execution_count": 132,
   "metadata": {},
   "outputs": [
    {
     "data": {
      "text/plain": [
       "0.8967843489993254"
      ]
     },
     "execution_count": 132,
     "metadata": {},
     "output_type": "execute_result"
    }
   ],
   "source": [
    "# calculate accuracy\n",
    "log.score(X_test, y_test)"
   ]
  },
  {
   "cell_type": "code",
   "execution_count": 133,
   "metadata": {},
   "outputs": [
    {
     "data": {
      "text/plain": [
       "0.1565040650406504"
      ]
     },
     "execution_count": 133,
     "metadata": {},
     "output_type": "execute_result"
    }
   ],
   "source": [
    "from sklearn.metrics import recall_score, precision_score\n",
    "\n",
    "recall_score(y_test, predictions)"
   ]
  },
  {
   "cell_type": "code",
   "execution_count": 134,
   "metadata": {},
   "outputs": [
    {
     "data": {
      "text/plain": [
       "0.6363636363636364"
      ]
     },
     "execution_count": 134,
     "metadata": {},
     "output_type": "execute_result"
    }
   ],
   "source": [
    "precision_score(y_test, predictions)"
   ]
  },
  {
   "cell_type": "code",
   "execution_count": 135,
   "metadata": {},
   "outputs": [
    {
     "data": {
      "text/plain": [
       "age                    0.002564\n",
       "balance                0.000068\n",
       "campaign              -0.107568\n",
       "pdays                  0.000285\n",
       "previous               0.006986\n",
       "job_admin.            -0.032733\n",
       "job_blue-collar       -0.225727\n",
       "job_entrepreneur      -0.325553\n",
       "job_housemaid         -0.348339\n",
       "job_management        -0.183621\n",
       "job_retired            0.433251\n",
       "job_self-employed     -0.234230\n",
       "job_services          -0.161190\n",
       "job_student            0.442929\n",
       "job_technician        -0.186359\n",
       "job_unemployed         0.074450\n",
       "job_unknown           -0.264834\n",
       "marital_divorced      -0.294692\n",
       "marital_married       -0.542791\n",
       "marital_single        -0.174473\n",
       "education_primary     -0.428284\n",
       "education_secondary   -0.275468\n",
       "education_tertiary    -0.078136\n",
       "education_unknown     -0.230068\n",
       "default_yes           -0.231741\n",
       "housing_yes           -0.553213\n",
       "loan_yes              -0.448053\n",
       "contact_cellular       0.058409\n",
       "contact_telephone     -0.163924\n",
       "contact_unknown       -0.906441\n",
       "poutcome_failure      -0.914529\n",
       "poutcome_other        -0.578135\n",
       "poutcome_success       1.399892\n",
       "poutcome_unknown      -0.919184\n",
       "dtype: float64"
      ]
     },
     "execution_count": 135,
     "metadata": {},
     "output_type": "execute_result"
    }
   ],
   "source": [
    "## Alternative logistic regression\n",
    "import statsmodels.api as sm\n",
    "\n",
    "model = sm.GLM(y_train, X_train, family=sm.families.Binomial())\n",
    "results = model.fit()\n",
    "results.params"
   ]
  },
  {
   "cell_type": "code",
   "execution_count": 136,
   "metadata": {},
   "outputs": [
    {
     "name": "stdout",
     "output_type": "stream",
     "text": [
      "                 Generalized Linear Model Regression Results                  \n",
      "==============================================================================\n",
      "Dep. Variable:                      y   No. Observations:                35572\n",
      "Model:                            GLM   Df Residuals:                    35542\n",
      "Model Family:                Binomial   Df Model:                           29\n",
      "Link Function:                  Logit   Scale:                          1.0000\n",
      "Method:                          IRLS   Log-Likelihood:                -11068.\n",
      "Date:                Tue, 09 May 2023   Deviance:                       22137.\n",
      "Time:                        15:41:29   Pearson chi2:                 3.71e+04\n",
      "No. Iterations:                     6   Pseudo R-squ. (CS):            0.09698\n",
      "Covariance Type:            nonrobust                                         \n",
      "=======================================================================================\n",
      "                          coef    std err          z      P>|z|      [0.025      0.975]\n",
      "---------------------------------------------------------------------------------------\n",
      "age                     0.0026      0.002      1.182      0.237      -0.002       0.007\n",
      "balance               6.82e-05   9.34e-06      7.300      0.000    4.99e-05    8.65e-05\n",
      "campaign               -0.1076      0.010    -11.160      0.000      -0.126      -0.089\n",
      "pdays                   0.0003      0.000      0.928      0.353      -0.000       0.001\n",
      "previous                0.0070      0.006      1.160      0.246      -0.005       0.019\n",
      "job_admin.             -0.0327      0.057     -0.579      0.563      -0.144       0.078\n",
      "job_blue-collar        -0.2257      0.054     -4.181      0.000      -0.332      -0.120\n",
      "job_entrepreneur       -0.3256      0.106     -3.060      0.002      -0.534      -0.117\n",
      "job_housemaid          -0.3483      0.114     -3.069      0.002      -0.571      -0.126\n",
      "job_management         -0.1836      0.052     -3.556      0.000      -0.285      -0.082\n",
      "job_retired             0.4333      0.079      5.474      0.000       0.278       0.588\n",
      "job_self-employed      -0.2342      0.093     -2.522      0.012      -0.416      -0.052\n",
      "job_services           -0.1612      0.067     -2.413      0.016      -0.292      -0.030\n",
      "job_student             0.4429      0.091      4.853      0.000       0.264       0.622\n",
      "job_technician         -0.1864      0.050     -3.743      0.000      -0.284      -0.089\n",
      "job_unemployed          0.0744      0.089      0.834      0.404      -0.101       0.249\n",
      "job_unknown            -0.2648      0.211     -1.256      0.209      -0.678       0.148\n",
      "marital_divorced       -0.2947      0.057     -5.208      0.000      -0.406      -0.184\n",
      "marital_married        -0.5428      0.043    -12.604      0.000      -0.627      -0.458\n",
      "marital_single         -0.1745      0.036     -4.807      0.000      -0.246      -0.103\n",
      "education_primary      -0.4283      0.057     -7.532      0.000      -0.540      -0.317\n",
      "education_secondary    -0.2755      0.039     -7.054      0.000      -0.352      -0.199\n",
      "education_tertiary     -0.0781      0.045     -1.743      0.081      -0.166       0.010\n",
      "education_unknown      -0.2301      0.075     -3.055      0.002      -0.378      -0.082\n",
      "default_yes            -0.2317      0.167     -1.391      0.164      -0.558       0.095\n",
      "housing_yes            -0.5532      0.039    -14.140      0.000      -0.630      -0.477\n",
      "loan_yes               -0.4481      0.058     -7.751      0.000      -0.561      -0.335\n",
      "contact_cellular        0.0584      0.039      1.511      0.131      -0.017       0.134\n",
      "contact_telephone      -0.1639      0.065     -2.526      0.012      -0.291      -0.037\n",
      "contact_unknown        -0.9064      0.053    -17.110      0.000      -1.010      -0.803\n",
      "poutcome_failure       -0.9145      0.061    -15.091      0.000      -1.033      -0.796\n",
      "poutcome_other         -0.5781      0.072     -8.065      0.000      -0.719      -0.438\n",
      "poutcome_success        1.3999      0.060     23.298      0.000       1.282       1.518\n",
      "poutcome_unknown       -0.9192      0.053    -17.364      0.000      -1.023      -0.815\n",
      "=======================================================================================\n"
     ]
    }
   ],
   "source": [
    "print(results.summary())"
   ]
  },
  {
   "cell_type": "code",
   "execution_count": 137,
   "metadata": {},
   "outputs": [],
   "source": [
    "# DECISION TREE\n",
    "treeclf = tree.DecisionTreeClassifier(max_depth=2)\n",
    "treeresults = treeclf.fit(X_train, y_train)"
   ]
  },
  {
   "cell_type": "code",
   "execution_count": 138,
   "metadata": {},
   "outputs": [
    {
     "data": {
      "image/png": "[encoded data removed]",
      "text/plain": [
       "<Figure size 432x288 with 1 Axes>"
      ]
     },
     "metadata": {
      "needs_background": "light"
     },
     "output_type": "display_data"
    }
   ],
   "source": [
    "import matplotlib.pyplot as plt\n",
    "\n",
    "tree.plot_tree(treeclf, feature_names=X.columns, class_names=[\"no\", \"yes\"])\n",
    "plt.savefig('tree.pdf',format='pdf',bbox_inches = \"tight\")"
   ]
  },
  {
   "cell_type": "code",
   "execution_count": 139,
   "metadata": {},
   "outputs": [
    {
     "data": {
      "text/plain": [
       "array([[7799,  111],\n",
       "       [ 811,  173]], dtype=int64)"
      ]
     },
     "execution_count": 139,
     "metadata": {},
     "output_type": "execute_result"
    }
   ],
   "source": [
    "y_pred = treeclf.predict(X_test)\n",
    "confusion_matrix(y_test, y_pred)"
   ]
  },
  {
   "cell_type": "code",
   "execution_count": 140,
   "metadata": {},
   "outputs": [
    {
     "data": {
      "text/plain": [
       "0.8963346076006297"
      ]
     },
     "execution_count": 140,
     "metadata": {},
     "output_type": "execute_result"
    }
   ],
   "source": [
    "treeclf.score(X_test, y_test)"
   ]
  },
  {
   "cell_type": "code",
   "execution_count": 141,
   "metadata": {},
   "outputs": [
    {
     "data": {
      "text/plain": [
       "0.1758130081300813"
      ]
     },
     "execution_count": 141,
     "metadata": {},
     "output_type": "execute_result"
    }
   ],
   "source": [
    "recall_score(y_test, y_pred)"
   ]
  },
  {
   "cell_type": "code",
   "execution_count": 142,
   "metadata": {},
   "outputs": [
    {
     "data": {
      "text/plain": [
       "0.6091549295774648"
      ]
     },
     "execution_count": 142,
     "metadata": {},
     "output_type": "execute_result"
    }
   ],
   "source": [
    "precision_score(y_test, y_pred)"
   ]
  },
  {
   "cell_type": "code",
   "execution_count": 143,
   "metadata": {},
   "outputs": [],
   "source": [
    "from sklearn.ensemble import RandomForestClassifier\n",
    "\n",
    "# ENSEMBLE METHODS: RANDOM FORESTS\n",
    "randomclf = RandomForestClassifier(max_depth=5, random_state=0)\n",
    "randomclfresults = randomclf.fit(X_train, y_train)"
   ]
  },
  {
   "cell_type": "code",
   "execution_count": 144,
   "metadata": {},
   "outputs": [
    {
     "data": {
      "text/plain": [
       "array([[7844,   66],\n",
       "       [ 856,  128]], dtype=int64)"
      ]
     },
     "execution_count": 144,
     "metadata": {},
     "output_type": "execute_result"
    }
   ],
   "source": [
    "y_pred = randomclf.predict(X_test)\n",
    "confusion_matrix(y_test, y_pred)"
   ]
  }
 ],
 "metadata": {
  "kernelspec": {
   "display_name": "Python 3",
   "language": "python",
   "name": "python3"
  },
  "language_info": {
   "codemirror_mode": {
    "name": "ipython",
    "version": 3
   },
   "file_extension": ".py",
   "mimetype": "text/x-python",
   "name": "python",
   "nbconvert_exporter": "python",
   "pygments_lexer": "ipython3",
   "version": "3.10.7"
  },
  "orig_nbformat": 4
 },
 "nbformat": 4,
 "nbformat_minor": 2
}
