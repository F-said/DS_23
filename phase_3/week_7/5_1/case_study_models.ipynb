{
 "cells": [
  {
   "cell_type": "code",
   "execution_count": 55,
   "metadata": {},
   "outputs": [
    {
     "data": {
      "text/html": [
       "<div>\n",
       "<style scoped>\n",
       "    .dataframe tbody tr th:only-of-type {\n",
       "        vertical-align: middle;\n",
       "    }\n",
       "\n",
       "    .dataframe tbody tr th {\n",
       "        vertical-align: top;\n",
       "    }\n",
       "\n",
       "    .dataframe thead th {\n",
       "        text-align: right;\n",
       "    }\n",
       "</style>\n",
       "<table border=\"1\" class=\"dataframe\">\n",
       "  <thead>\n",
       "    <tr style=\"text-align: right;\">\n",
       "      <th></th>\n",
       "      <th>age</th>\n",
       "      <th>job</th>\n",
       "      <th>marital</th>\n",
       "      <th>education</th>\n",
       "      <th>default</th>\n",
       "      <th>balance</th>\n",
       "      <th>housing</th>\n",
       "      <th>loan</th>\n",
       "      <th>contact</th>\n",
       "      <th>day</th>\n",
       "      <th>month</th>\n",
       "      <th>duration</th>\n",
       "      <th>campaign</th>\n",
       "      <th>pdays</th>\n",
       "      <th>previous</th>\n",
       "      <th>poutcome</th>\n",
       "      <th>y</th>\n",
       "    </tr>\n",
       "  </thead>\n",
       "  <tbody>\n",
       "    <tr>\n",
       "      <th>0</th>\n",
       "      <td>58</td>\n",
       "      <td>management</td>\n",
       "      <td>married</td>\n",
       "      <td>tertiary</td>\n",
       "      <td>no</td>\n",
       "      <td>2143</td>\n",
       "      <td>yes</td>\n",
       "      <td>no</td>\n",
       "      <td>unknown</td>\n",
       "      <td>5</td>\n",
       "      <td>may</td>\n",
       "      <td>261</td>\n",
       "      <td>1</td>\n",
       "      <td>-1</td>\n",
       "      <td>0</td>\n",
       "      <td>unknown</td>\n",
       "      <td>no</td>\n",
       "    </tr>\n",
       "    <tr>\n",
       "      <th>1</th>\n",
       "      <td>44</td>\n",
       "      <td>technician</td>\n",
       "      <td>single</td>\n",
       "      <td>secondary</td>\n",
       "      <td>no</td>\n",
       "      <td>29</td>\n",
       "      <td>yes</td>\n",
       "      <td>no</td>\n",
       "      <td>unknown</td>\n",
       "      <td>5</td>\n",
       "      <td>may</td>\n",
       "      <td>151</td>\n",
       "      <td>1</td>\n",
       "      <td>-1</td>\n",
       "      <td>0</td>\n",
       "      <td>unknown</td>\n",
       "      <td>no</td>\n",
       "    </tr>\n",
       "    <tr>\n",
       "      <th>2</th>\n",
       "      <td>33</td>\n",
       "      <td>entrepreneur</td>\n",
       "      <td>married</td>\n",
       "      <td>secondary</td>\n",
       "      <td>no</td>\n",
       "      <td>2</td>\n",
       "      <td>yes</td>\n",
       "      <td>yes</td>\n",
       "      <td>unknown</td>\n",
       "      <td>5</td>\n",
       "      <td>may</td>\n",
       "      <td>76</td>\n",
       "      <td>1</td>\n",
       "      <td>-1</td>\n",
       "      <td>0</td>\n",
       "      <td>unknown</td>\n",
       "      <td>no</td>\n",
       "    </tr>\n",
       "    <tr>\n",
       "      <th>3</th>\n",
       "      <td>47</td>\n",
       "      <td>blue-collar</td>\n",
       "      <td>married</td>\n",
       "      <td>unknown</td>\n",
       "      <td>no</td>\n",
       "      <td>1506</td>\n",
       "      <td>yes</td>\n",
       "      <td>no</td>\n",
       "      <td>unknown</td>\n",
       "      <td>5</td>\n",
       "      <td>may</td>\n",
       "      <td>92</td>\n",
       "      <td>1</td>\n",
       "      <td>-1</td>\n",
       "      <td>0</td>\n",
       "      <td>unknown</td>\n",
       "      <td>no</td>\n",
       "    </tr>\n",
       "    <tr>\n",
       "      <th>4</th>\n",
       "      <td>33</td>\n",
       "      <td>unknown</td>\n",
       "      <td>single</td>\n",
       "      <td>unknown</td>\n",
       "      <td>no</td>\n",
       "      <td>1</td>\n",
       "      <td>no</td>\n",
       "      <td>no</td>\n",
       "      <td>unknown</td>\n",
       "      <td>5</td>\n",
       "      <td>may</td>\n",
       "      <td>198</td>\n",
       "      <td>1</td>\n",
       "      <td>-1</td>\n",
       "      <td>0</td>\n",
       "      <td>unknown</td>\n",
       "      <td>no</td>\n",
       "    </tr>\n",
       "  </tbody>\n",
       "</table>\n",
       "</div>"
      ],
      "text/plain": [
       "   age           job  marital  education default  balance housing loan  \\\n",
       "0   58    management  married   tertiary      no     2143     yes   no   \n",
       "1   44    technician   single  secondary      no       29     yes   no   \n",
       "2   33  entrepreneur  married  secondary      no        2     yes  yes   \n",
       "3   47   blue-collar  married    unknown      no     1506     yes   no   \n",
       "4   33       unknown   single    unknown      no        1      no   no   \n",
       "\n",
       "   contact  day month  duration  campaign  pdays  previous poutcome   y  \n",
       "0  unknown    5   may       261         1     -1         0  unknown  no  \n",
       "1  unknown    5   may       151         1     -1         0  unknown  no  \n",
       "2  unknown    5   may        76         1     -1         0  unknown  no  \n",
       "3  unknown    5   may        92         1     -1         0  unknown  no  \n",
       "4  unknown    5   may       198         1     -1         0  unknown  no  "
      ]
     },
     "execution_count": 55,
     "metadata": {},
     "output_type": "execute_result"
    }
   ],
   "source": [
    "import pandas as pd\n",
    "import seaborn as sns\n",
    "\n",
    "# load dataframe\n",
    "df = pd.read_csv(\"../data/bank-full.csv\")\n",
    "df.head()"
   ]
  },
  {
   "cell_type": "code",
   "execution_count": 56,
   "metadata": {},
   "outputs": [],
   "source": [
    "import numpy as np\n",
    "from scipy import stats\n",
    "\n",
    "df = df[(np.abs(stats.zscore(df['balance'])) < 3)]\n",
    "\n",
    "# set y to binary\n",
    "df['y'] = np.where(df['y'] == 'yes', 1, 0)\n",
    "\n",
    "# drop time (for simplicity)\n",
    "# drop until we get more domain information on this variable\n",
    "# drop columns that are not controlled by marketers\n",
    "df.drop(columns=[\"day\", \"month\", \"duration\"], inplace=True)\n",
    "\n",
    "# one hot encoding\n",
    "df['job'] = df['job'].astype('category')\n",
    "df['marital'] = df['marital'].astype('category')\n",
    "df['education'] = df['education'].astype('category')\n",
    "df['default'] = df['default'].astype('category')\n",
    "df['housing'] = df['housing'].astype('category')\n",
    "df['loan'] = df['loan'].astype('category')\n",
    "df['contact'] = df['contact'].astype('category')\n",
    "df['poutcome'] = df['poutcome'].astype('category')\n",
    "\n",
    "df = pd.get_dummies(df)\n",
    "\n",
    "df = df.apply(lambda x: x.astype(float))\n",
    "\n",
    "df.to_csv(\"../data/bank-cleaned.csv\", index=False)"
   ]
  },
  {
   "cell_type": "code",
   "execution_count": 57,
   "metadata": {},
   "outputs": [],
   "source": [
    "from sklearn.linear_model import LogisticRegression\n",
    "from sklearn.model_selection import train_test_split\n",
    "from sklearn.metrics import confusion_matrix\n",
    "import statsmodels.api as sm\n",
    "from sklearn import tree\n",
    "\n",
    "# make test train split\n",
    "X = df.loc[:, df.columns != 'y']\n",
    "y = df[\"y\"]"
   ]
  },
  {
   "cell_type": "code",
   "execution_count": 58,
   "metadata": {},
   "outputs": [],
   "source": [
    "X_train, X_test, y_train, y_test = train_test_split(X , y, test_size=0.20, random_state=42)"
   ]
  },
  {
   "cell_type": "code",
   "execution_count": 59,
   "metadata": {},
   "outputs": [
    {
     "name": "stdout",
     "output_type": "stream",
     "text": [
      "age 0.0015059250826208275\n",
      "balance 6.743011336408907e-05\n",
      "campaign -0.10898919575021597\n",
      "pdays -4.41122035373197e-05\n",
      "previous 0.0013654370300377166\n",
      "job_admin. -0.015941259638051295\n",
      "job_blue-collar -0.22875636211663583\n",
      "job_entrepreneur -0.14836335760856917\n",
      "job_housemaid -0.14804967611759035\n",
      "job_management -0.1288048009772123\n",
      "job_retired 0.42255187626971635\n",
      "job_self-employed -0.10895371436975995\n",
      "job_services -0.14983759318029188\n",
      "job_student 0.23495686769734742\n",
      "job_technician -0.17611512897730064\n",
      "job_unemployed 0.06092708379733373\n",
      "job_unknown -0.03220840064384753\n",
      "marital_divorced -0.13587977805435475\n",
      "marital_married -0.3096449465851286\n",
      "marital_single 0.02693025877763677\n",
      "education_primary -0.2835193074857143\n",
      "education_secondary -0.14783743105719055\n",
      "education_tertiary 0.048175487383673735\n",
      "education_unknown -0.03541321473349227\n",
      "default_no -0.2645255547017255\n",
      "default_yes -0.1540689111574148\n",
      "housing_no 0.06654999785961326\n",
      "housing_yes -0.4851444637832362\n",
      "loan_no 0.045003564531211196\n",
      "loan_yes -0.4635980303727368\n",
      "contact_cellular 0.24605844914290378\n",
      "contact_telephone 0.05286771388289709\n",
      "contact_unknown -0.7175206289300439\n",
      "poutcome_failure -0.7392155816144661\n",
      "poutcome_other -0.27410197914192874\n",
      "poutcome_success 1.455758956836462\n",
      "poutcome_unknown -0.8610358619016825\n"
     ]
    }
   ],
   "source": [
    "# Logistic Regression\n",
    "log = LogisticRegression(random_state=0, max_iter = 10_000)\n",
    "log.fit(X_train, y_train)\n",
    "\n",
    "for i in range(len(X.columns)):\n",
    "  print(X.columns[i], log.coef_[0][i])"
   ]
  },
  {
   "cell_type": "code",
   "execution_count": 93,
   "metadata": {},
   "outputs": [
    {
     "data": {
      "text/plain": [
       "array([[7821,   89],\n",
       "       [ 828,  156]], dtype=int64)"
      ]
     },
     "execution_count": 93,
     "metadata": {},
     "output_type": "execute_result"
    }
   ],
   "source": [
    "predictions = log.predict(X_test)\n",
    "\n",
    "# generate confusion matrix\n",
    "confusion_matrix(y_test, predictions)"
   ]
  },
  {
   "cell_type": "code",
   "execution_count": 94,
   "metadata": {},
   "outputs": [
    {
     "data": {
      "text/plain": [
       "(7821, 89, 828, 156)"
      ]
     },
     "execution_count": 94,
     "metadata": {},
     "output_type": "execute_result"
    }
   ],
   "source": [
    "tn, fp, fn, tp = confusion_matrix(y_test, predictions).ravel()\n",
    "\n",
    "(tn, fp, fn, tp)"
   ]
  },
  {
   "cell_type": "code",
   "execution_count": 89,
   "metadata": {},
   "outputs": [
    {
     "data": {
      "text/plain": [
       "0.8968967843489993"
      ]
     },
     "execution_count": 89,
     "metadata": {},
     "output_type": "execute_result"
    }
   ],
   "source": [
    "# calculate accuracy\n",
    "log.score(X_test, y_test)"
   ]
  },
  {
   "cell_type": "code",
   "execution_count": 90,
   "metadata": {},
   "outputs": [
    {
     "data": {
      "text/plain": [
       "0.15853658536585366"
      ]
     },
     "execution_count": 90,
     "metadata": {},
     "output_type": "execute_result"
    }
   ],
   "source": [
    "from sklearn.metrics import recall_score, precision_score\n",
    "\n",
    "recall_score(y_test, predictions)"
   ]
  },
  {
   "cell_type": "code",
   "execution_count": 95,
   "metadata": {},
   "outputs": [
    {
     "data": {
      "text/plain": [
       "0.636734693877551"
      ]
     },
     "execution_count": 95,
     "metadata": {},
     "output_type": "execute_result"
    }
   ],
   "source": [
    "precision_score(y_test, predictions)"
   ]
  },
  {
   "cell_type": "code",
   "execution_count": 64,
   "metadata": {},
   "outputs": [
    {
     "data": {
      "text/plain": [
       "age                    0.002564\n",
       "balance                0.000068\n",
       "campaign              -0.107568\n",
       "pdays                  0.000285\n",
       "previous               0.006986\n",
       "job_admin.            -0.005415\n",
       "job_blue-collar       -0.198409\n",
       "job_entrepreneur      -0.298235\n",
       "job_housemaid         -0.321021\n",
       "job_management        -0.156303\n",
       "job_retired            0.460569\n",
       "job_self-employed     -0.206912\n",
       "job_services          -0.133872\n",
       "job_student            0.470247\n",
       "job_technician        -0.159040\n",
       "job_unemployed         0.101768\n",
       "job_unknown           -0.237516\n",
       "marital_divorced      -0.185420\n",
       "marital_married       -0.433519\n",
       "marital_single        -0.065201\n",
       "education_primary     -0.346330\n",
       "education_secondary   -0.193514\n",
       "education_tertiary     0.003819\n",
       "education_unknown     -0.148114\n",
       "default_no            -0.226199\n",
       "default_yes           -0.457940\n",
       "housing_no            -0.065463\n",
       "housing_yes           -0.618676\n",
       "loan_no               -0.118043\n",
       "loan_yes              -0.566096\n",
       "contact_cellular       0.167681\n",
       "contact_telephone     -0.054651\n",
       "contact_unknown       -0.797168\n",
       "poutcome_failure      -0.832648\n",
       "poutcome_other        -0.496254\n",
       "poutcome_success       1.481774\n",
       "poutcome_unknown      -0.837010\n",
       "dtype: float64"
      ]
     },
     "execution_count": 64,
     "metadata": {},
     "output_type": "execute_result"
    }
   ],
   "source": [
    "## Alternative logistic regression\n",
    "import statsmodels.api as sm\n",
    "\n",
    "model = sm.GLM(y_train, X_train, family=sm.families.Binomial())\n",
    "results = model.fit()\n",
    "results.params"
   ]
  },
  {
   "cell_type": "code",
   "execution_count": 65,
   "metadata": {},
   "outputs": [
    {
     "name": "stdout",
     "output_type": "stream",
     "text": [
      "                 Generalized Linear Model Regression Results                  \n",
      "==============================================================================\n",
      "Dep. Variable:                      y   No. Observations:                35572\n",
      "Model:                            GLM   Df Residuals:                    35542\n",
      "Model Family:                Binomial   Df Model:                           29\n",
      "Link Function:                  Logit   Scale:                          1.0000\n",
      "Method:                          IRLS   Log-Likelihood:                -11068.\n",
      "Date:                Mon, 08 May 2023   Deviance:                       22137.\n",
      "Time:                        13:34:23   Pearson chi2:                 3.71e+04\n",
      "No. Iterations:                     6   Pseudo R-squ. (CS):            0.09698\n",
      "Covariance Type:            nonrobust                                         \n",
      "=======================================================================================\n",
      "                          coef    std err          z      P>|z|      [0.025      0.975]\n",
      "---------------------------------------------------------------------------------------\n",
      "age                     0.0026      0.002      1.182      0.237      -0.002       0.007\n",
      "balance               6.82e-05   9.34e-06      7.300      0.000    4.99e-05    8.65e-05\n",
      "campaign               -0.1076      0.010    -11.160      0.000      -0.126      -0.089\n",
      "pdays                   0.0003      0.000      0.928      0.353      -0.000       0.001\n",
      "previous                0.0070      0.006      1.160      0.246      -0.005       0.019\n",
      "job_admin.             -0.0054      0.057     -0.096      0.924      -0.116       0.106\n",
      "job_blue-collar        -0.1984      0.054     -3.668      0.000      -0.304      -0.092\n",
      "job_entrepreneur       -0.2982      0.106     -2.817      0.005      -0.506      -0.091\n",
      "job_housemaid          -0.3210      0.113     -2.838      0.005      -0.543      -0.099\n",
      "job_management         -0.1563      0.052     -3.035      0.002      -0.257      -0.055\n",
      "job_retired             0.4606      0.078      5.933      0.000       0.308       0.613\n",
      "job_self-employed      -0.2069      0.093     -2.233      0.026      -0.388      -0.025\n",
      "job_services           -0.1339      0.067     -2.004      0.045      -0.265      -0.003\n",
      "job_student             0.4702      0.092      5.096      0.000       0.289       0.651\n",
      "job_technician         -0.1590      0.050     -3.193      0.001      -0.257      -0.061\n",
      "job_unemployed          0.1018      0.089      1.141      0.254      -0.073       0.277\n",
      "job_unknown            -0.2375      0.210     -1.130      0.258      -0.649       0.174\n",
      "marital_divorced       -0.1854      0.045     -4.113      0.000      -0.274      -0.097\n",
      "marital_married        -0.4335      0.033    -13.335      0.000      -0.497      -0.370\n",
      "marital_single         -0.0652      0.032     -2.068      0.039      -0.127      -0.003\n",
      "education_primary      -0.3463      0.052     -6.645      0.000      -0.448      -0.244\n",
      "education_secondary    -0.1935      0.035     -5.496      0.000      -0.263      -0.125\n",
      "education_tertiary      0.0038      0.042      0.090      0.928      -0.079       0.087\n",
      "education_unknown      -0.1481      0.071     -2.099      0.036      -0.286      -0.010\n",
      "default_no             -0.2262      0.072     -3.129      0.002      -0.368      -0.085\n",
      "default_yes            -0.4579      0.100     -4.565      0.000      -0.655      -0.261\n",
      "housing_no             -0.0655      0.033     -1.966      0.049      -0.131      -0.000\n",
      "housing_yes            -0.6187      0.033    -18.871      0.000      -0.683      -0.554\n",
      "loan_no                -0.1180      0.037     -3.182      0.001      -0.191      -0.045\n",
      "loan_yes               -0.5661      0.041    -13.674      0.000      -0.647      -0.485\n",
      "contact_cellular        0.1677      0.033      5.133      0.000       0.104       0.232\n",
      "contact_telephone      -0.0547      0.056     -0.978      0.328      -0.164       0.055\n",
      "contact_unknown        -0.7972      0.045    -17.685      0.000      -0.886      -0.709\n",
      "poutcome_failure       -0.8326      0.055    -15.239      0.000      -0.940      -0.726\n",
      "poutcome_other         -0.4963      0.066     -7.522      0.000      -0.626      -0.367\n",
      "poutcome_success        1.4818      0.056     26.608      0.000       1.373       1.591\n",
      "poutcome_unknown       -0.8370      0.056    -15.044      0.000      -0.946      -0.728\n",
      "=======================================================================================\n"
     ]
    }
   ],
   "source": [
    "print(results.summary())"
   ]
  },
  {
   "cell_type": "code",
   "execution_count": 96,
   "metadata": {},
   "outputs": [],
   "source": [
    "# DECISION TREE\n",
    "treeclf = tree.DecisionTreeClassifier(max_depth=2)\n",
    "treeresults = treeclf.fit(X_train, y_train)"
   ]
  },
  {
   "cell_type": "code",
   "execution_count": 97,
   "metadata": {},
   "outputs": [
    {
     "data": {
      "image/png": "[encoded data removed]",
      "text/plain": [
       "<Figure size 432x288 with 1 Axes>"
      ]
     },
     "metadata": {
      "needs_background": "light"
     },
     "output_type": "display_data"
    }
   ],
   "source": [
    "import matplotlib.pyplot as plt\n",
    "\n",
    "tree.plot_tree(treeclf, feature_names=X.columns, class_names=[\"no\", \"yes\"])\n",
    "plt.savefig('tree.pdf',format='pdf',bbox_inches = \"tight\")"
   ]
  },
  {
   "cell_type": "code",
   "execution_count": 98,
   "metadata": {},
   "outputs": [
    {
     "data": {
      "text/plain": [
       "array([[7799,  111],\n",
       "       [ 811,  173]], dtype=int64)"
      ]
     },
     "execution_count": 98,
     "metadata": {},
     "output_type": "execute_result"
    }
   ],
   "source": [
    "y_pred = treeclf.predict(X_test)\n",
    "confusion_matrix(y_test, y_pred)"
   ]
  },
  {
   "cell_type": "code",
   "execution_count": 101,
   "metadata": {},
   "outputs": [
    {
     "data": {
      "text/plain": [
       "0.8963346076006297"
      ]
     },
     "execution_count": 101,
     "metadata": {},
     "output_type": "execute_result"
    }
   ],
   "source": [
    "treeclf.score(X_test, y_test)"
   ]
  },
  {
   "cell_type": "code",
   "execution_count": 99,
   "metadata": {},
   "outputs": [
    {
     "data": {
      "text/plain": [
       "0.1758130081300813"
      ]
     },
     "execution_count": 99,
     "metadata": {},
     "output_type": "execute_result"
    }
   ],
   "source": [
    "recall_score(y_test, y_pred)"
   ]
  },
  {
   "cell_type": "code",
   "execution_count": 100,
   "metadata": {},
   "outputs": [
    {
     "data": {
      "text/plain": [
       "0.6091549295774648"
      ]
     },
     "execution_count": 100,
     "metadata": {},
     "output_type": "execute_result"
    }
   ],
   "source": [
    "precision_score(y_test, y_pred)"
   ]
  },
  {
   "cell_type": "code",
   "execution_count": 74,
   "metadata": {},
   "outputs": [],
   "source": [
    "from sklearn.ensemble import RandomForestClassifier\n",
    "\n",
    "# ENSEMBLE METHODS: RANDOM FORESTS\n",
    "randomclf = RandomForestClassifier(max_depth=5, random_state=0)\n",
    "randomclfresults = randomclf.fit(X_train, y_train)"
   ]
  },
  {
   "cell_type": "code",
   "execution_count": 75,
   "metadata": {},
   "outputs": [
    {
     "data": {
      "text/plain": [
       "array([[7842,   68],\n",
       "       [ 857,  127]], dtype=int64)"
      ]
     },
     "execution_count": 75,
     "metadata": {},
     "output_type": "execute_result"
    }
   ],
   "source": [
    "y_pred = randomclf.predict(X_test)\n",
    "confusion_matrix(y_test, y_pred)"
   ]
  }
 ],
 "metadata": {
  "kernelspec": {
   "display_name": "Python 3",
   "language": "python",
   "name": "python3"
  },
  "language_info": {
   "codemirror_mode": {
    "name": "ipython",
    "version": 3
   },
   "file_extension": ".py",
   "mimetype": "text/x-python",
   "name": "python",
   "nbconvert_exporter": "python",
   "pygments_lexer": "ipython3",
   "version": "3.10.7"
  },
  "orig_nbformat": 4
 },
 "nbformat": 4,
 "nbformat_minor": 2
}
