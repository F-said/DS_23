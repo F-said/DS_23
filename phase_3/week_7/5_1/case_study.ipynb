{
 "cells": [
  {
   "attachments": {},
   "cell_type": "markdown",
   "metadata": {},
   "source": [
    "## Case Studies\n",
    "\n",
    "Going forward we will be completing weekly data analytics case studies. This will involve the 3 main steps of data analysis\n",
    "1. Exploratory Data Analysis\n",
    "* Visualize Distributions\n",
    "* Quantify Metrics\n",
    "* Univariate Relationships\n",
    "* Bivariate Relationships\n",
    "2.Confirmatory/Diagnostic Data Analysis\n",
    "* Conduct hypothesis tests\n",
    "* Conduct model training \n",
    "3. Prescriptive Data Analysis \n",
    "* Recommend a course of action based on your findings.\n",
    "\n",
    "\n",
    "Occasionally we will add in more challenges (dashboarding, sql, BigQuery)"
   ]
  },
  {
   "attachments": {},
   "cell_type": "markdown",
   "metadata": {},
   "source": [
    "## Bank Data Analytics Case Study\n",
    "\n",
    "We are data analysts at a Portuguese bank. Every year, we run a marketing campaign where we attempt to sell [term deposit subscriptions](https://www.investopedia.com/terms/t/termdeposit.asp) to our clientele and external consumers. We've collected features on 45,211 individuals in order to make data-driven decisions on the effectiveness of our marketing campaign. The features of these individuals is listed in \"Data Documentation.\"\n",
    "\n",
    "Complete the following prompts to create a comprehensive data analysis. Management currently does not have any intended goal for this analysis and instead is looking to your team for context.\n",
    "\n",
    "General goals for each section will be listed. However, no pseudocode will be given and you must implement code by looking back to notes & reading documentation. \n",
    "\n",
    "For each section, you will be given a list of pre-questions and post-questions to answer.\n",
    "\n",
    "You will be working on this case study with your respective capstone group members. You are allowed to collaborate on code and responses. This is due 5/3: "
   ]
  },
  {
   "attachments": {},
   "cell_type": "markdown",
   "metadata": {},
   "source": [
    "## Data Documentation\n",
    "\n",
    "For more information, read [Moro et al., 2011].\n",
    "\n",
    "Input variables:\n",
    "## bank client data:\n",
    "1 - age (numeric)  \n",
    "2 - job : type of job (categorical: \"admin.\",\"unknown\",\"unemployed\",\"management\",\"housemaid\",\"entrepreneur\",\"student\",\n",
    "                                    \"blue-collar\",\"self-employed\",\"retired\",\"technician\",\"services\")   \n",
    "3 - marital : marital status (categorical: \"married\",\"divorced\",\"single\"; note: \"divorced\" means divorced or widowed)  \n",
    "4 - education (categorical: \"unknown\",\"secondary\",\"primary\",\"tertiary\")  \n",
    "5 - default: has credit in default? (binary: \"yes\",\"no\")  \n",
    "6 - balance: average yearly balance, in euros (numeric)   \n",
    "7 - housing: has housing loan? (binary: \"yes\",\"no\")  \n",
    "8 - loan: has personal loan? (binary: \"yes\",\"no\")  \n",
    "## related with the last contact of the current campaign:  \n",
    "9 - contact: contact communication type (categorical: \"unknown\",\"telephone\",\"cellular\")   \n",
    "10 - day: last contact day of the month (numeric)  \n",
    "11 - month: last contact month of year (categorical: \"jan\", \"feb\", \"mar\", ..., \"nov\", \"dec\")  \n",
    "12 - duration: last contact duration, in seconds (numeric)  \n",
    "## other attributes: \n",
    "13 - campaign: number of contacts performed during this campaign and for this client (numeric, includes last contact)  \n",
    "14 - pdays: number of days that passed by after the client was last contacted from a previous campaign (numeric, -1 means client was not previously contacted)  \n",
    "15 - previous: number of contacts performed before this campaign and for this client (numeric)  \n",
    "16 - poutcome: outcome of the previous marketing campaign (categorical: \"unknown\",\"other\",\"failure\",\"success\")  \n",
    "\n",
    "Output variable (desired target):\n",
    "17 - y - has the client subscribed a term deposit? (binary: \"yes\",\"no\")  \n",
    "\n",
    "**Missing Attribute Values** None  "
   ]
  },
  {
   "attachments": {},
   "cell_type": "markdown",
   "metadata": {},
   "source": [
    "## Exploratory Data Analysis\n",
    "\n",
    "Your first step will be to explore the data.\n",
    "\n",
    "**Goals**\n",
    "* Analyze distributions\n",
    "* Visualize univariate relationships\n",
    "* Visualize bivariate"
   ]
  },
  {
   "attachments": {},
   "cell_type": "markdown",
   "metadata": {},
   "source": [
    "### Pre-Questions\n",
    "\n",
    "Answer each question in the respective markdown block."
   ]
  },
  {
   "attachments": {},
   "cell_type": "markdown",
   "metadata": {},
   "source": [
    "1. What is the problem we are trying to solve with this data analysis?"
   ]
  },
  {
   "attachments": {},
   "cell_type": "markdown",
   "metadata": {},
   "source": [
    "answer here"
   ]
  },
  {
   "attachments": {},
   "cell_type": "markdown",
   "metadata": {},
   "source": [
    "2. Which columns do you expect to be normally distributed?"
   ]
  },
  {
   "attachments": {},
   "cell_type": "markdown",
   "metadata": {},
   "source": [
    "answer here"
   ]
  },
  {
   "attachments": {},
   "cell_type": "markdown",
   "metadata": {},
   "source": [
    "3. What relationships do you expect in this dataset?"
   ]
  },
  {
   "attachments": {},
   "cell_type": "markdown",
   "metadata": {},
   "source": [
    "answer here"
   ]
  },
  {
   "cell_type": "code",
   "execution_count": null,
   "metadata": {},
   "outputs": [],
   "source": [
    "import pandas as pd\n",
    "import seaborn as sns\n",
    "\n",
    "# load dataframe\n",
    "\n"
   ]
  },
  {
   "cell_type": "code",
   "execution_count": null,
   "metadata": {},
   "outputs": [],
   "source": [
    "# explore metada\n",
    "\n"
   ]
  },
  {
   "cell_type": "code",
   "execution_count": null,
   "metadata": {},
   "outputs": [],
   "source": [
    "# explore univariate relationships\n",
    "\n"
   ]
  },
  {
   "cell_type": "code",
   "execution_count": null,
   "metadata": {},
   "outputs": [],
   "source": [
    "# explore bivariate relationships (focus on `y`)\n",
    "\n"
   ]
  },
  {
   "attachments": {},
   "cell_type": "markdown",
   "metadata": {},
   "source": [
    "### Post-Questions\n",
    "\n",
    "Answer each question in the respective markdown block."
   ]
  },
  {
   "attachments": {},
   "cell_type": "markdown",
   "metadata": {},
   "source": [
    "1. What relationships did you see visually identify this dataset? Any relationships not between the target variable?"
   ]
  },
  {
   "attachments": {},
   "cell_type": "markdown",
   "metadata": {},
   "source": [
    "write answer here"
   ]
  },
  {
   "attachments": {},
   "cell_type": "markdown",
   "metadata": {},
   "source": [
    "2. What distributions did you see in this dataset? Were any normal? How did you confirm that they were normal?"
   ]
  },
  {
   "attachments": {},
   "cell_type": "markdown",
   "metadata": {},
   "source": [
    "write answer here"
   ]
  },
  {
   "attachments": {},
   "cell_type": "markdown",
   "metadata": {},
   "source": [
    "3 Did you notice any highly correlated variabls's? How could you tell that they were correlated?"
   ]
  },
  {
   "attachments": {},
   "cell_type": "markdown",
   "metadata": {},
   "source": [
    "write answer here"
   ]
  },
  {
   "attachments": {},
   "cell_type": "markdown",
   "metadata": {},
   "source": [
    "## Confirmatory Data Analysis\n",
    "\n",
    "**Goals**\n",
    "* Implement any needed transformations\n",
    "* Generate a machine learning model that explains the relationship between `y` and the other variables.\n",
    "* Explore levels of significance"
   ]
  },
  {
   "attachments": {},
   "cell_type": "markdown",
   "metadata": {},
   "source": [
    "### Pre-Questions\n",
    "\n",
    "Answer each question in the respective markdown block."
   ]
  },
  {
   "attachments": {},
   "cell_type": "markdown",
   "metadata": {},
   "source": [
    "1. What machine learning model would be best suited to predict the `y` variable?"
   ]
  },
  {
   "attachments": {},
   "cell_type": "markdown",
   "metadata": {},
   "source": [
    "write answer here"
   ]
  },
  {
   "attachments": {},
   "cell_type": "markdown",
   "metadata": {},
   "source": [
    "2. What transformations must you do before predicting the `y` variable? Why?"
   ]
  },
  {
   "attachments": {},
   "cell_type": "markdown",
   "metadata": {},
   "source": [
    "write answer here"
   ]
  },
  {
   "cell_type": "code",
   "execution_count": null,
   "metadata": {},
   "outputs": [],
   "source": [
    "# do data transformations here\n",
    "\n"
   ]
  },
  {
   "cell_type": "code",
   "execution_count": null,
   "metadata": {},
   "outputs": [],
   "source": [
    "from sklearn.linear_model import LogisticRegression\n",
    "\n",
    "# make test train split\n",
    "\n",
    "# implemement machine learning model\n"
   ]
  },
  {
   "cell_type": "code",
   "execution_count": null,
   "metadata": {},
   "outputs": [],
   "source": [
    "# explore coefficients\n",
    "\n"
   ]
  },
  {
   "cell_type": "code",
   "execution_count": null,
   "metadata": {},
   "outputs": [],
   "source": [
    "# calculate accuracy\n"
   ]
  },
  {
   "attachments": {},
   "cell_type": "markdown",
   "metadata": {},
   "source": [
    "1. What coefficients ended up being significant. Which did not?"
   ]
  },
  {
   "attachments": {},
   "cell_type": "markdown",
   "metadata": {},
   "source": [
    "write answer here"
   ]
  },
  {
   "attachments": {},
   "cell_type": "markdown",
   "metadata": {},
   "source": [
    "2. What is the overall accuracy of this model? Is it good?"
   ]
  },
  {
   "attachments": {},
   "cell_type": "markdown",
   "metadata": {},
   "source": [
    "write answer here"
   ]
  },
  {
   "attachments": {},
   "cell_type": "markdown",
   "metadata": {},
   "source": [
    "### Post-Questions\n",
    "\n",
    "Answer each question in the respective markdown block."
   ]
  },
  {
   "attachments": {},
   "cell_type": "markdown",
   "metadata": {},
   "source": [
    "## Prescriptive Data Analysis\n",
    "\n",
    "Answer each question in the respective markdown block."
   ]
  },
  {
   "attachments": {},
   "cell_type": "markdown",
   "metadata": {},
   "source": [
    "1. Based on the results of this analysis, on which individuals would you recommend this bank to focus on? "
   ]
  },
  {
   "cell_type": "markdown",
   "metadata": {},
   "source": [
    "write answer here"
   ]
  }
 ],
 "metadata": {
  "language_info": {
   "name": "python"
  },
  "orig_nbformat": 4
 },
 "nbformat": 4,
 "nbformat_minor": 2
}
