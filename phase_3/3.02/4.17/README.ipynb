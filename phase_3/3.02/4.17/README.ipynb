{
 "cells": [
  {
   "cell_type": "markdown",
   "metadata": {},
   "source": [
    "## Psycopg2 Tutorial\n",
    "\n",
    "**please read all directions carefully**\n",
    "\n",
    "This guided exercise borrows heavily from the official [Postgresql Psycopg2](https://wiki.postgresql.org/wiki/Psycopg2_Tutorial) tutorial page.\n",
    "\n",
    "I want you all to internalize one guiding principle for this fellowship: `always attempt to automate your workflow`.\n",
    "\n",
    "Keep in mind, that was the whole purpose of learning how to code in Python. We want to take idiomatic actions (such as running an analysis, decrypting a message) and express them sufficiently in Python so that we can simply run a script and get all of our work done!\n",
    "\n",
    "Interacting with a database should be no different.\n",
    "\n",
    "Thankfully, we have a convenient package called [psycopg2](https://www.psycopg.org/docs/) which allows us to establish connections over the cloud and run SQL scripts as if we were directly interfacing with this db! \n",
    "\n",
    "To get started, run the pip command below (be sure your kernel is set to the `phase1` conda environment)"
   ]
  },
  {
   "cell_type": "code",
   "execution_count": null,
   "metadata": {
    "vscode": {
     "languageId": "plaintext"
    }
   },
   "outputs": [],
   "source": [
    "!pip install psycopg2"
   ]
  },
  {
   "cell_type": "markdown",
   "metadata": {},
   "source": [
    "## Making your initial connection\n",
    "\n",
    "To find out how to connect and execute queries on your database, read through the file labeled `connections.py`.\n",
    "\n",
    "Once you are done viewing this file, open your VS-Code terminal and execute this file via the command `python connections.py`. Keep in mind that you need to **activate your conda environment** before running files in your terminal (it's been a minute since we've done this, so review your notes).\n",
    "\n",
    "After running this file, see if you can attempt the challenge we've listed."
   ]
  },
  {
   "cell_type": "markdown",
   "metadata": {},
   "source": [
    "## Ingesting data to a DataFrame\n",
    "\n",
    "Now that we've discovered how to programmatically connect to this database, let's review how we can transform this into a familiar data-object. Once again, read through this file and then run once you've reviewed its contents via `python connect_to_pandas.py`. \n",
    "\n",
    "After running this file, see if you can complete this challenge as well."
   ]
  },
  {
   "cell_type": "markdown",
   "metadata": {},
   "source": [
    "## Running SQL Scripts\n",
    "\n",
    "Lastly, we can run sql commands from our `sql` files through a little bit of File I/O (it all connects!). Read through this file and observe the structure of how we \"execute\" commands using psycopg2 and this `sql` file. See if you can implement the challenge as well!"
   ]
  }
 ],
 "metadata": {
  "language_info": {
   "name": "python"
  }
 },
 "nbformat": 4,
 "nbformat_minor": 2
}
