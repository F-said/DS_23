{
 "cells": [
  {
   "attachments": {},
   "cell_type": "markdown",
   "metadata": {},
   "source": [
    "## Data Analytics Terminology\n",
    "\n",
    "Some names for things that we’ve been doing already…\n",
    "\n",
    "* Data Validation: Ensuring that data abides by certain validity before extracting. Ex: HIPAA, date-time format (YYYY-MM-DD), format, etc  \n",
    "* Data Mining: The process of discovering & storing data to address analysis questions. Analysis without hypothesis.     \n",
    "* Data Analysis: The process of modeling data to confirm patterns & trends.  \n",
    "* Data Munging: Transforming underlying structure of data (columns) into new structures. Also known as feature engineering.  \n",
    "* Data Cleansing: Keeping the underlying dataset, but removing invalid or missing data.  "
   ]
  }
 ],
 "metadata": {
  "language_info": {
   "name": "python"
  },
  "orig_nbformat": 4
 },
 "nbformat": 4,
 "nbformat_minor": 2
}
