{
 "cells": [
  {
   "attachments": {},
   "cell_type": "markdown",
   "metadata": {},
   "source": [
    "## One-Tailed T-Tests\n",
    "\n",
    "So far we have only been checking for differences between means.\n",
    "\n",
    "We’ve never really discussed how we can test for specific direction of differences. \n",
    "\n",
    "Before we discuss the two-different type of t-tests we can run, let’s go over the fundamentals of calculating a t-test. If there is only one hypothesis test I will ask you all to commit to memory, it will be the t-test."
   ]
  },
  {
   "cell_type": "code",
   "execution_count": 4,
   "metadata": {},
   "outputs": [
    {
     "name": "stdout",
     "output_type": "stream",
     "text": [
      "0.8\n",
      "0.4\n",
      "Two-Tail t-test 0.07394020035116586\n",
      "One-Tail t-test 0.03697010017558293\n",
      "T-score  1.8973665961010278\n"
     ]
    }
   ],
   "source": [
    "import random \n",
    "from scipy import stats\n",
    "import scipy\n",
    "\n",
    "# 1 = heads\n",
    "# 0 = tails\n",
    "unfair_coin = [1, 1, 1, 1, 1, 0, 1, 1, 0, 1]\n",
    "fair_coin = [random.randint(0, 1) for _ in range(0, len(unfair_coin))]\n",
    "\n",
    "print(sum(unfair_coin)/len(unfair_coin))\n",
    "print(sum(fair_coin)/len(fair_coin))\n",
    "\n",
    "p_val = stats.ttest_ind(unfair_coin, fair_coin)[1]\n",
    "t_val = stats.ttest_ind(unfair_coin, fair_coin)[0]\n",
    "\n",
    "# H0: u0 = u1\n",
    "# H1: u1 != u2\n",
    "print(\"Two-Tail t-test\", p_val)\n",
    "\n",
    "# H0: u0 = u1\n",
    "# H1: u1 > u2 if (t_score > 0)\n",
    "print(\"One-Tail t-test\", p_val/2)\n",
    "\n",
    "print(\"T-score \", t_val)"
   ]
  },
  {
   "attachments": {},
   "cell_type": "markdown",
   "metadata": {},
   "source": [
    "## Calculating T-Score\n",
    "\n",
    "A t-test is a parametric method to calculate if the difference between means is significant. \n",
    "\n",
    "A two-sample t-test calculates a score called the “t-score”, which is the difference of sample means divided by the standard error of differences.\n",
    "\n",
    "Standard error of the difference is simply an estimate of the variability in the difference of two sample means: i.e. how spread out do I expect my differences to be?\n",
    "\n",
    "The t-score that we calculate will fall somewhere on this curve!\n",
    "\n",
    "By setting a significance level to 0.05, we limit significant scores to the outside of the curve.\n",
    "\n",
    "Essentially we are stating:  \n",
    "* We expect the following distribution of t-scores  \n",
    "* The area under the curve at a specific t-score is the probability that we expect that t-score   \n",
    "* We only consider results to be significant if they are outliers  \n",
    "\n",
    "We utilize calculus to calculate the area under the curve of our t-score.\n",
    "\n",
    "If the area under the curve is underneath 0.05, this indicates significance!\n",
    "\n",
    "Our p-value is evidence against the null. The smaller the alibi, the worse."
   ]
  },
  {
   "attachments": {},
   "cell_type": "markdown",
   "metadata": {},
   "source": [
    "## Cohen's D (Effect Size)\n",
    "\n",
    "In our t-tests, we’ve only discussed the presence of a statistically significant difference between means.\n",
    "\n",
    "That is, we can tell if a result is significant or not. But how do we fairly quantify the size of the result?\n",
    "* Medical data is collected on patient longevity \n",
    "* Using our t-test, we find out that there is a statistically significant difference between patients who eat bananas vs patients who don’t (p=0.04)\n",
    "* However, the average lifespan difference between group A and group B is two minutes.\n",
    "\n",
    "We utilize Cohen’s D\n",
    "\n",
    "Cohen’s D is a parametric method that calculates a standard (unit-less) difference in means of two values (mean of sample group 1 vs mean of sample group 2)\n",
    "This allows us to objectively state the effect of a variation. (small = 0.2, med = 0.5, large = 0.8)"
   ]
  },
  {
   "cell_type": "code",
   "execution_count": 2,
   "metadata": {},
   "outputs": [
    {
     "name": "stdout",
     "output_type": "stream",
     "text": [
      "0.4859598503562626\n"
     ]
    }
   ],
   "source": [
    "from numpy.random import randn\n",
    "from numpy import mean\n",
    "from numpy import var\n",
    "from math import sqrt\n",
    "\n",
    "data1 = 10 * randn(10000) + 60\n",
    "data2 = 10 * randn(10000) + 55\n",
    "\n",
    "# get lengths of data\n",
    "n1, n2 = len(data1), len(data2)\n",
    "\n",
    "# calculate variances\n",
    "s1, s2 = var(data1, ddof=1), var(data2, ddof=1)\n",
    "\n",
    "# calculate pooled standard deviation (an estimate of pop std dev)\n",
    "s = sqrt(((n1 - 1) * s1 + (n2 - 1) * s2) / (n1 + n2 - 2))\n",
    "\n",
    "# get means\n",
    "u1, u2 = mean(data1), mean(data2)\n",
    "\n",
    "# calc cohen's d\n",
    "cohens_d = (u1 - u2) / s\n",
    "\n",
    "print(cohens_d)"
   ]
  }
 ],
 "metadata": {
  "kernelspec": {
   "display_name": "Python 3",
   "language": "python",
   "name": "python3"
  },
  "language_info": {
   "codemirror_mode": {
    "name": "ipython",
    "version": 3
   },
   "file_extension": ".py",
   "mimetype": "text/x-python",
   "name": "python",
   "nbconvert_exporter": "python",
   "pygments_lexer": "ipython3",
   "version": "3.10.7"
  },
  "orig_nbformat": 4
 },
 "nbformat": 4,
 "nbformat_minor": 2
}
