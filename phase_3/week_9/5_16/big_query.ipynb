{
 "cells": [
  {
   "attachments": {},
   "cell_type": "markdown",
   "metadata": {},
   "source": [
    "## Data Simulation\n",
    "\n",
    "Observe the visualizations and models posted within the slides. Based on these observations, which sample do YOU believe will result in the highest sensory score.\n",
    "\n",
    "Whenever classes are heavily imbalanced, we have a number of methods that we can employ to solve these issues.\n",
    "\n",
    "One of these methods involve [downsampling & upweighting](https://developers.google.com/machine-learning/data-prep/construct/sampling-splitting/imbalanced-data#:~:text=and%20upweighting%20technique.-,Downsampling%20and%20Upweighting,of%20the%20majority%20class%20examples.).\n",
    "\n",
    "On the other hand, we can also utilize learning methods such as logistic regression or decision trees to prevent overfitting."
   ]
  },
  {
   "attachments": {},
   "cell_type": "markdown",
   "metadata": {},
   "source": [
    "## Big Query Tutorial\n",
    "\n"
   ]
  }
 ],
 "metadata": {
  "language_info": {
   "name": "python"
  },
  "orig_nbformat": 4
 },
 "nbformat": 4,
 "nbformat_minor": 2
}
