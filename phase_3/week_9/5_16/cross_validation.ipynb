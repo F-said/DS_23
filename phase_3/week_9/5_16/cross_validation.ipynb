{
 "cells": [
  {
   "attachments": {},
   "cell_type": "markdown",
   "metadata": {},
   "source": [
    "## Cross Validation\n",
    "\n",
    "We've established a common workflow for training a dataset:\n",
    "\n",
    "1. Split 80% of data into the \"training\" set\n",
    "2. Split 20% of data into the \"testing\" set\n",
    "3. \"Train\" your ml algorithm on your training data\n",
    "4. Check how well your algorithm \"generalizes\" on unseen or new data.\n",
    "5. \n"
   ]
  }
 ],
 "metadata": {
  "language_info": {
   "name": "python"
  },
  "orig_nbformat": 4
 },
 "nbformat": 4,
 "nbformat_minor": 2
}
