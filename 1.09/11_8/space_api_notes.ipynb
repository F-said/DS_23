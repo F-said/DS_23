{
 "cells": [
  {
   "cell_type": "markdown",
   "metadata": {},
   "source": [
    "## Time Complexity Review\n",
    "\n",
    "Analyze the time complexity of the following algorithms. What is their Big O?"
   ]
  },
  {
   "cell_type": "code",
   "execution_count": null,
   "metadata": {},
   "outputs": [],
   "source": [
    "def func1():\n",
    "    i = 0\n",
    "    while i < 5:\n",
    "        i += 1\n",
    "    return i"
   ]
  },
  {
   "cell_type": "code",
   "execution_count": null,
   "metadata": {},
   "outputs": [],
   "source": [
    "def func2(word):\n",
    "    step = 1\n",
    "    for letter in word:\n",
    "        print(step)\n",
    "        step += 1"
   ]
  },
  {
   "cell_type": "code",
   "execution_count": null,
   "metadata": {},
   "outputs": [],
   "source": [
    "def func3(lst):\n",
    "    for i in range(len(lst)):\n",
    "        min_idx = i\n",
    "        for j in range(i+1, len(lst)):\n",
    "            if lst[min_idx] > lst[j]:\n",
    "                min_idx = j \n",
    "        lst[i], lst[min_idx] = lst[min_idx], lst[i]"
   ]
  },
  {
   "cell_type": "markdown",
   "metadata": {},
   "source": [
    "## Big O Discussion\n",
    "\n",
    "Computers are super-fast today, so why care about time complexity?\n",
    "\n",
    "When improving hardware is not an option, improving efficiency is.\n",
    "\n",
    "\n",
    "Let’s say we have a O(n*log(n)) function. Our competitor has a O(n) function that does the same thing.\n",
    "\n",
    "“n” is the number of rows in our csv.\n",
    "\n",
    "At n = 5:\n",
    "Our algo completes in 11 steps\n",
    "Their algo completes in 5 steps\n",
    "Inconsequential at this scale (~50% difference)\n",
    "\n",
    "At n = 100:\n",
    "Our algo completes in 664 steps\n",
    "Their algo completes in 100 steps\n",
    "Consequential at this scale (~500% difference)\n",
    "\n",
    "The bigger our “n” the more consequential\n"
   ]
  },
  {
   "cell_type": "markdown",
   "metadata": {},
   "source": [
    "## N^2 Trickery\n",
    "\n",
    "The algorithm below is actually O(n^2), anyone see why?"
   ]
  },
  {
   "cell_type": "code",
   "execution_count": null,
   "metadata": {},
   "outputs": [],
   "source": [
    "def func4(lst):\n",
    "    get_max = 0\n",
    "    for n in lst:\n",
    "        get_max = max(lst.remove(n))\n",
    "    return get_max"
   ]
  },
  {
   "cell_type": "markdown",
   "metadata": {},
   "source": [
    "## log(n)\n",
    "\n",
    "The “logarithm” is a standard function that takes in some input “x” and a base “b” and calculates: how many times must “b” be exponentiated to get “x”?\n",
    "\n",
    "In Big-O complexity, the log(n) is implied to be “log base 2 of n”: “How many times must 2 be raised to calculate “n”?\n",
    "\n",
    "log(2) = 1, since 2^1 = 2\n",
    "\n",
    "log(4) = 2, since 2^2 = 4\n",
    "\n",
    "log(8) = 3, since 2^3 = 8\n",
    "\n",
    "log(32) = ?\n",
    "\n"
   ]
  },
  {
   "cell_type": "code",
   "execution_count": 2,
   "metadata": {},
   "outputs": [
    {
     "data": {
      "text/plain": [
       "6"
      ]
     },
     "execution_count": 2,
     "metadata": {},
     "output_type": "execute_result"
    }
   ],
   "source": [
    "def func5(num):\n",
    "    steps = 0\n",
    "    while num != 1:\n",
    "        num = num // 2\n",
    "        steps += 1\n",
    "    return steps\n",
    "\n",
    "func5(100)"
   ]
  },
  {
   "cell_type": "markdown",
   "metadata": {},
   "source": [
    "## Space Complexity\n",
    "\n",
    "\n",
    "It’s great to be able to talk about how efficient your code is, and serves as a lingua franca (common language) between yourself and other developers/recruiters\n",
    "\n",
    "But as we’ve seen yesterday, we want to be able to use this as motivation to improve our efficiency.\n",
    "\n",
    "As we’ve seen yesterday with binary search, this is sometimes not only solved through better code, but also through better data-structures\n",
    "\n",
    "To see how data-structures influence our code, we must measure space complexity \n",
    "\n",
    "Once again, this is measured using Big-O notation (worst case scenario)\n",
    "\n",
    "However this time, it is in relation to the amount of space a program needs in relation to the size of our list “n”\n"
   ]
  },
  {
   "cell_type": "markdown",
   "metadata": {},
   "source": [
    "## O(1) Space Complexity\n",
    "\n",
    "\n",
    "O(1) indicates that our algorithm takes a constant amount of space."
   ]
  },
  {
   "cell_type": "code",
   "execution_count": null,
   "metadata": {},
   "outputs": [],
   "source": [
    "def func1():\n",
    "    i = 0\n",
    "    while i < 5:\n",
    "        i += 1\n",
    "    return i\n",
    "\n",
    "def func2(word):\n",
    "    step = 1\n",
    "    for letter in word:\n",
    "        print(step)\n",
    "        step += 1"
   ]
  },
  {
   "cell_type": "markdown",
   "metadata": {},
   "source": [
    "## O(n) Space Complexity\n",
    "\n",
    "O(n) indicates that our algorithm takes a linear amount of space, in relation to length of list."
   ]
  },
  {
   "cell_type": "code",
   "execution_count": null,
   "metadata": {},
   "outputs": [],
   "source": [
    "def difference(salaries):\n",
    "    avg = 55_000\n",
    "    variations = []\n",
    "    for salary in salaries:\n",
    "        variations.append(salary - avg)\n",
    "    return variations\n"
   ]
  },
  {
   "cell_type": "markdown",
   "metadata": {},
   "source": [
    "## Priorities\n",
    "\n",
    "The truth of the matter is that space complexity is often just an auxiliary measure (supportive)\n",
    "\n",
    "What we really care about is TIME\n",
    "\n",
    "The utility of space complexity is when we use data-structures to make time-efficient solutions and we want to describe the tradeoffs.\n",
    "\n",
    "We will reveal the often inverse relationship between the two.\n"
   ]
  },
  {
   "cell_type": "markdown",
   "metadata": {},
   "source": [
    "## Dictionaries for Speed\n",
    "\n",
    "Checking membership in a list is O(n). This is because we have to check every element.\n",
    "\n",
    "Alternatively, checking membership in a dictionary takes O(1) time because of some clever “under-the-hood” processes of a dictionary.\n"
   ]
  },
  {
   "cell_type": "code",
   "execution_count": null,
   "metadata": {},
   "outputs": [],
   "source": [
    "# O(n)\n",
    "numbers = [64, 13, 43, 29, 28, 69, 10, 40]\n",
    "10 in numbers\n",
    "\n",
    "# O(1)\n",
    "numbers_dict = {64: 0, 13: 1, 43: 2, 29: 3, 28: 4, 69: 5, 10: 6, 40: 7}\n",
    "10 in numbers_dict"
   ]
  },
  {
   "cell_type": "markdown",
   "metadata": {},
   "source": [
    "Let’s say I have a list of numbers. [64, 13, 43, 29, 28, 69, 10, 40]\n",
    "\n",
    "I have a “target” number target_sum = 79\n",
    "\n",
    "I want to check if any two numbers in this list could potentially sum up to this “target”\n",
    "\n",
    "Let’s take a minute to solve this computationally.\n",
    "\n",
    "First solve the problem on paper.\n",
    "\n",
    "Think about how you can calculate ALL possible sums of this list.\n",
    "\n",
    "Think about how you can use a for-loop to do this\n"
   ]
  },
  {
   "cell_type": "code",
   "execution_count": 5,
   "metadata": {},
   "outputs": [
    {
     "name": "stdout",
     "output_type": "stream",
     "text": [
      "True\n",
      "True\n"
     ]
    }
   ],
   "source": [
    "# \"brute\" force solution\n",
    "numbers = [64, 13, 43, 29, 28, 69, 10, 40]\n",
    "target_sum = 79\n",
    "\n",
    "def find_sum(nums, target):\n",
    "    for i in range(len(nums)):\n",
    "        for j in range(len(nums)):\n",
    "            if nums[i] + nums[j] == target:\n",
    "                return True\n",
    "    return False \n",
    "print(find_sum(numbers, target_sum))\n",
    "\n"
   ]
  },
  {
   "cell_type": "markdown",
   "metadata": {},
   "source": [
    "What we could do is utilize a very important concept: the search time of a dictionary is O(1).\n",
    "\n",
    "This is super helpful when we want to compare one number in the list of numbers to every other number and avoid O(n^2).\n",
    "\n",
    "This means we could potentially loop through the list once and save the difference between the target and the number itself:\n"
   ]
  },
  {
   "cell_type": "code",
   "execution_count": null,
   "metadata": {},
   "outputs": [],
   "source": [
    "# difference = {64: 15, 13: 66, 43: 36, 29: 50, 28: 51, 69: 10, 10: 69, 40: 39}\n",
    "# optimal algorithm\n",
    "def twoSum(nums, target):\n",
    "    diff_dict = {}\n",
    "    \n",
    "    for n in nums:\n",
    "        diff = target - n\n",
    "        diff_dict[n] = diff\n",
    "    \n",
    "    for numb in diff_dict:\n",
    "        if diff_dict[numb] in diff_dict:\n",
    "            return True\n",
    "    return False\n",
    "print(twoSum(numbers, target_sum))"
   ]
  },
  {
   "cell_type": "markdown",
   "metadata": {},
   "source": [
    "\n",
    "We care more about time-complexity than space-complexity.\n",
    "\n",
    "However, we still need to be able to talk about space-complexity.\n",
    "\n",
    "This shows us that when we come up with an algorithm to solve a problem, we can use the fast search time of a dictionary to improve our algorithm.\n",
    "Mostly in interviews\n",
    "\n",
    "Anytime our algorithm searches twice through a list, consider, how can a dictionary make this faster?\n",
    "\n",
    "We will go over more of these examples, as well as more strategies to improve our algorithms."
   ]
  },
  {
   "cell_type": "markdown",
   "metadata": {},
   "source": [
    "## APIs\n",
    "\n",
    "An application programming interface is a piece of software that allows us to request information from a database using a URL.\n",
    "\n",
    "REST: A set of rules that dictate how an API is built (not in our domain at the moment, we’re interested in using)\n",
    "\n",
    "REpresenational\n",
    "Stateless\n",
    "Transfer\n",
    "\n",
    "In summary: An API should only interact with resources and not remember the state or “history” of our calls.\n",
    "\n",
    "https://www.codecademy.com/article/what-is-rest"
   ]
  },
  {
   "cell_type": "code",
   "execution_count": 6,
   "metadata": {},
   "outputs": [],
   "source": [
    "import requests\n",
    "\n",
    "r = requests.get('https://swapi.dev/api/people/1/')\n",
    "data = r.json()"
   ]
  },
  {
   "cell_type": "markdown",
   "metadata": {},
   "source": [
    "Then, we interact with this data just like we would with a dictionary."
   ]
  },
  {
   "cell_type": "code",
   "execution_count": 7,
   "metadata": {},
   "outputs": [
    {
     "name": "stdout",
     "output_type": "stream",
     "text": [
      "Tatooine\n"
     ]
    }
   ],
   "source": [
    "print(data[\"name\"])"
   ]
  },
  {
   "cell_type": "markdown",
   "metadata": {},
   "source": [
    "## APIs Expanded\n",
    "\n",
    "Let’s say we want to get the name of 10 star wars characters.\n",
    "\n",
    "How can we programmatically construct 10 URL’s using to record these names?\n"
   ]
  },
  {
   "cell_type": "code",
   "execution_count": 11,
   "metadata": {},
   "outputs": [
    {
     "data": {
      "text/plain": [
       "['Luke Skywalker',\n",
       " 'C-3PO',\n",
       " 'R2-D2',\n",
       " 'Darth Vader',\n",
       " 'Leia Organa',\n",
       " 'Owen Lars',\n",
       " 'Beru Whitesun lars',\n",
       " 'R5-D4',\n",
       " 'Biggs Darklighter']"
      ]
     },
     "execution_count": 11,
     "metadata": {},
     "output_type": "execute_result"
    }
   ],
   "source": [
    "import requests\n",
    "\n",
    "names = []\n",
    "\n",
    "for i in range(1, 10):\n",
    "    r = requests.get('https://swapi.dev/api/people/' + str(i))\n",
    "    data = r.json()\n",
    "    names.append(data[\"name\"])\n",
    "\n",
    "names"
   ]
  }
 ],
 "metadata": {
  "kernelspec": {
   "display_name": "Python 3.10.7 64-bit",
   "language": "python",
   "name": "python3"
  },
  "language_info": {
   "codemirror_mode": {
    "name": "ipython",
    "version": 3
   },
   "file_extension": ".py",
   "mimetype": "text/x-python",
   "name": "python",
   "nbconvert_exporter": "python",
   "pygments_lexer": "ipython3",
   "version": "3.10.7"
  },
  "orig_nbformat": 4,
  "vscode": {
   "interpreter": {
    "hash": "369f2c481f4da34e4445cda3fffd2e751bd1c4d706f27375911949ba6bb62e1c"
   }
  }
 },
 "nbformat": 4,
 "nbformat_minor": 2
}
