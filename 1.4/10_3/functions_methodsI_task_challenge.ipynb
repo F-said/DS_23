{
 "cells": [
  {
   "cell_type": "markdown",
   "metadata": {},
   "source": [
    "## Evaluate a Quadratic\n",
    "\n",
    "Write a Python function `evalQuadratic(a, b, c, x)` that returns the value of the quadratic `a*x^2 + b*x + c` \n",
    "\n",
    "This function takes in four numbers and returns a single number.\n",
    "\n",
    "Expected Output\n",
    "```\n",
    "76.3888\n",
    "```"
   ]
  },
  {
   "cell_type": "code",
   "execution_count": 2,
   "metadata": {},
   "outputs": [
    {
     "name": "stdout",
     "output_type": "stream",
     "text": [
      "hello world\n"
     ]
    },
    {
     "data": {
      "text/plain": [
       "76.38882099999998"
      ]
     },
     "execution_count": 2,
     "metadata": {},
     "output_type": "execute_result"
    }
   ],
   "source": [
    "def evalQuadratic(a, b, c, x):\n",
    "    return\n",
    "\n",
    "result = evalQuadratic(4.81, -7.37, 1.33, 4.79)\n",
    "result"
   ]
  },
  {
   "cell_type": "markdown",
   "metadata": {},
   "source": [
    "## Inner Functions\n",
    "\n",
    "Below is the function `foo`, which contains an \"inner\" function called `bar`.\n",
    "\n",
    "Without running your code, predict what the code will output given the listed function calls.\n",
    "\n",
    "Consult the following documentation for insight:\n",
    "* https://docs.python.org/3/tutorial/classes.html#python-scopes-and-namespaces \n",
    "* https://docs.python.org/3/tutorial/classes.html#python-scopes-and-namespaces "
   ]
  },
  {
   "cell_type": "code",
   "execution_count": 8,
   "metadata": {},
   "outputs": [
    {
     "data": {
      "text/plain": [
       "7"
      ]
     },
     "execution_count": 8,
     "metadata": {},
     "output_type": "execute_result"
    }
   ],
   "source": [
    "def foo(x, y = 5):\n",
    "   def bar(x):\n",
    "      return x + 1\n",
    "   return bar(y * 2)"
   ]
  },
  {
   "cell_type": "markdown",
   "metadata": {},
   "source": [
    "foo(3)\n",
    "\n",
    "`write output here`"
   ]
  },
  {
   "cell_type": "markdown",
   "metadata": {},
   "source": [
    "foo(3, 0)\n",
    "\n",
    "`write output here`"
   ]
  },
  {
   "cell_type": "markdown",
   "metadata": {},
   "source": [
    "foo(2)\n",
    "\n",
    "`write output here`"
   ]
  },
  {
   "cell_type": "markdown",
   "metadata": {},
   "source": [
    "## Greatest Common Divisor\n",
    "\n",
    "The greatest common divisor of two positive integers is the largest integer that divides each of them without remainder. \n",
    "\n",
    "Write a function, gcd(a, b), that implements this idea. \n",
    "\n",
    "Expected Output\n",
    "```\n",
    "4\n",
    "```"
   ]
  },
  {
   "cell_type": "code",
   "execution_count": null,
   "metadata": {},
   "outputs": [],
   "source": [
    "def gcd(a, b):\n",
    "    return\n",
    "\n",
    "result = gcd(12, 4)\n",
    "result"
   ]
  }
 ],
 "metadata": {
  "kernelspec": {
   "display_name": "Python 3.10.7 64-bit",
   "language": "python",
   "name": "python3"
  },
  "language_info": {
   "codemirror_mode": {
    "name": "ipython",
    "version": 3
   },
   "file_extension": ".py",
   "mimetype": "text/x-python",
   "name": "python",
   "nbconvert_exporter": "python",
   "pygments_lexer": "ipython3",
   "version": "3.10.7 (tags/v3.10.7:6cc6b13, Sep  5 2022, 14:08:36) [MSC v.1933 64 bit (AMD64)]"
  },
  "orig_nbformat": 4,
  "vscode": {
   "interpreter": {
    "hash": "369f2c481f4da34e4445cda3fffd2e751bd1c4d706f27375911949ba6bb62e1c"
   }
  }
 },
 "nbformat": 4,
 "nbformat_minor": 2
}
