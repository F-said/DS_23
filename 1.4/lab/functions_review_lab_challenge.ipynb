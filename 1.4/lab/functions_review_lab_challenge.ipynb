{
 "cells": [
  {
   "cell_type": "markdown",
   "metadata": {},
   "source": [
    "## Triangle Definition\n",
    "\n",
    "Create a function called `is_triangle(side1, side2, side3)` that takes in 3 sides of a triangle as integers or floats, and returns True if this is a valid triangle, or False if it is not.\n",
    "\n",
    "For reference, \"The sides of a triangle rule asserts that the sum of the lengths of any two sides of a triangle has to be greater than the length of the third side.\"\n",
    "\n",
    "For example `(1, 2, 3)` are not valid sides of the triangle since `1 + 2` is not greater than 3.\n",
    "\n",
    "`(2, 2, 3)` are valid sides of a triangle since `2 + 3 > 3`, `2 + 2 > 3` and `3 + 2 > 2`"
   ]
  },
  {
   "cell_type": "code",
   "execution_count": null,
   "metadata": {},
   "outputs": [],
   "source": [
    "def is_triangle(side1, side2, side3):\n",
    "    \"\"\"[put description here]\n",
    "\n",
    "    Parameters\n",
    "    ----------\n",
    "    [put parameter here]\n",
    "\n",
    "    Returns\n",
    "    -------\n",
    "    [put return value here]\n",
    "    \"\"\"\n",
    "    #YOUR CODE HERE"
   ]
  },
  {
   "cell_type": "markdown",
   "metadata": {},
   "source": [
    "## Dot Product\n",
    "\n",
    "Write a function called `dot_product(list1, list2)` that calculates the \"dot-product\" of your two lists.\n",
    "\n",
    "For reference, a dot-product is the scalar value of two vectors. In this case, we compute the scalar value of two lists by doing the following:\n",
    "\n",
    "Example\n",
    "```\n",
    "x = [1, 2, 3]\n",
    "y = [4, 5, 6]\n",
    "\n",
    "x * y = 1*4 + 2*5 + 3*6\n",
    "```\n",
    "\n",
    "Notice that we simply multiply each value by the parallel value in the other list, and sum all these multiplications together.\n",
    "\n",
    "As a bonus, return a \"None\" when it is impossible to compute a dot-product."
   ]
  },
  {
   "cell_type": "code",
   "execution_count": null,
   "metadata": {},
   "outputs": [],
   "source": [
    "def dot_product(list1, list2):\n",
    "    \"\"\"[put description here]\n",
    "\n",
    "    Parameters\n",
    "    ----------\n",
    "    [put parameter here]\n",
    "\n",
    "    Returns\n",
    "    -------\n",
    "    [put return value here]\n",
    "    \"\"\"\n",
    "    #YOUR CODE HERE"
   ]
  }
 ],
 "metadata": {
  "kernelspec": {
   "display_name": "Python 3.10.7 64-bit",
   "language": "python",
   "name": "python3"
  },
  "language_info": {
   "name": "python",
   "version": "3.10.7"
  },
  "orig_nbformat": 4,
  "vscode": {
   "interpreter": {
    "hash": "369f2c481f4da34e4445cda3fffd2e751bd1c4d706f27375911949ba6bb62e1c"
   }
  }
 },
 "nbformat": 4,
 "nbformat_minor": 2
}
