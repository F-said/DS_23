{
 "cells": [
  {
   "cell_type": "markdown",
   "metadata": {},
   "source": [
    "## Getting a file extension\n",
    "\n",
    "Let’s create a function that takes in a string that represents a filename, and returns the extension of this filename.\n",
    "\n",
    "It will be called get_extension(file)\n",
    "\n",
    "Write the DocString first and then write the function itself.\n",
    "\n",
    "Documentation is your friend"
   ]
  },
  {
   "cell_type": "code",
   "execution_count": 8,
   "metadata": {},
   "outputs": [
    {
     "name": "stdout",
     "output_type": "stream",
     "text": [
      "csv\n"
     ]
    }
   ],
   "source": [
    "def get_extension(x): \n",
    "    \"\"\"A function that returns the file extension.\n",
    "\n",
    "    Parameters\n",
    "    ----------\n",
    "    x:  str\n",
    "        A file name that contains an extension.\n",
    "\n",
    "    Returns\n",
    "    -------\n",
    "    str\n",
    "        The file extension\n",
    "    \"\"\"\n",
    "    lst = x.split(\".\")\n",
    "    return lst[1]\n",
    "\n",
    "result = get_extension(\"test.csv\")\n",
    "print(result)\n"
   ]
  },
  {
   "cell_type": "code",
   "execution_count": 11,
   "metadata": {},
   "outputs": [
    {
     "name": "stdout",
     "output_type": "stream",
     "text": [
      "['This', 'product', 'was', 'great!', 'It', 'came', 'quickly', 'and', 'worked', 'as', 'expected']\n"
     ]
    }
   ],
   "source": [
    "review = \"This product was great! It came quickly and worked as expected\"\n",
    "lst = review.split()\n",
    "print(lst)\n",
    "\n",
    "positive = 0\n",
    "negative = 0\n",
    "if \"great\" in lst:\n",
    "    positive += 1"
   ]
  },
  {
   "cell_type": "code",
   "execution_count": 9,
   "metadata": {},
   "outputs": [
    {
     "name": "stdout",
     "output_type": "stream",
     "text": [
      "csv\n"
     ]
    }
   ],
   "source": [
    "def get_extension(x): \n",
    "    \"\"\"A function that returns the file extension.\n",
    "\n",
    "    Parameters\n",
    "    ----------\n",
    "    x:  str\n",
    "        A file name that contains an extension.\n",
    "\n",
    "    Returns\n",
    "    -------\n",
    "    str\n",
    "        The file extension\n",
    "    \"\"\"\n",
    "    dot_index = x.find(\".\")\n",
    "    return x[dot_index + 1:]\n",
    "\n",
    "result = get_extension(\"test.csv\")\n",
    "print(result)"
   ]
  },
  {
   "cell_type": "code",
   "execution_count": null,
   "metadata": {},
   "outputs": [],
   "source": [
    "# this tests out your code \n",
    "files = [\"test.csv\", \"data.csv\", \"data.txt\", \"functions.py\"]\n",
    "\n",
    "# print out extension of each file\n",
    "for f in files:\n",
    "    result = get_extension(f)\n",
    "    print(result)\n",
    "\n",
    "\"\"\"\n",
    "Your output should be:\n",
    "csv\n",
    "csv\n",
    "txt\n",
    "py\n",
    "\"\"\""
   ]
  },
  {
   "cell_type": "markdown",
   "metadata": {},
   "source": [
    "## Completing DocString\n",
    "\n",
    "Below is a list of functions that do not include docstrings that another programmer wrote up.\n",
    "\n",
    "Fill in the missing information. Some of these functions might require you to run them to figure out what data-types they can possibly return."
   ]
  },
  {
   "cell_type": "code",
   "execution_count": null,
   "metadata": {},
   "outputs": [],
   "source": [
    "def odd(n):\n",
    "    \"\"\"[put description here]\n",
    "\n",
    "    Parameters\n",
    "    ----------\n",
    "    [put parameter here]\n",
    "\n",
    "    Returns\n",
    "    -------\n",
    "    [put return value here]\n",
    "    \"\"\"\n",
    "    return n % 2 != 0\n",
    "odd(10)"
   ]
  },
  {
   "cell_type": "code",
   "execution_count": null,
   "metadata": {},
   "outputs": [],
   "source": [
    "def length_compare(str1, str2):\n",
    "    \"\"\"[put description here]\n",
    "\n",
    "    Parameters\n",
    "    ----------\n",
    "    [put parameter here]\n",
    "\n",
    "    Returns\n",
    "    -------\n",
    "    [put return value here]\n",
    "    \"\"\"\n",
    "    length1 = len(str1)\n",
    "    length2 = len(str2)\n",
    "    if length1 > length2:\n",
    "        return length1\n",
    "    else:\n",
    "        return length2\n"
   ]
  },
  {
   "cell_type": "code",
   "execution_count": null,
   "metadata": {},
   "outputs": [],
   "source": [
    "def hash_print(n):\n",
    "    \"\"\"[put description here]\n",
    "\n",
    "    Parameters\n",
    "    ----------\n",
    "    [put parameter here]\n",
    "\n",
    "    Returns\n",
    "    -------\n",
    "    [put return value here]\n",
    "    \"\"\"\n",
    "    hash_str = \"#\" * n\n",
    "    return hash_str\n"
   ]
  },
  {
   "cell_type": "markdown",
   "metadata": {},
   "source": [
    "## List Printer\n",
    "\n",
    "Create a function called `print_list(lst)` that takes in a list as an argument, and prints out all the values of this list.\n",
    "\n",
    "This function does not have to return anything"
   ]
  },
  {
   "cell_type": "code",
   "execution_count": null,
   "metadata": {},
   "outputs": [],
   "source": [
    "def print_list(lst):\n",
    "    \"\"\"[put description here]\n",
    "\n",
    "    Parameters\n",
    "    ----------\n",
    "    [put parameter here]\n",
    "\n",
    "    Returns\n",
    "    -------\n",
    "    [put return value here]\n",
    "    \"\"\"\n",
    "\n",
    "# This should print out\n",
    "\"\"\"\n",
    "1\n",
    "2\n",
    "3\n",
    "4\n",
    "5\n",
    "\"\"\"\n",
    "print_list([1,2,3,4,5])\n",
    "\n",
    "# This should print out\n",
    "\"\"\"\n",
    "a\n",
    "b\n",
    "c\n",
    "\"\"\"\n",
    "test = [\"a\", \"b\", \"c\"]\n",
    "print_list(test)"
   ]
  },
  {
   "cell_type": "markdown",
   "metadata": {},
   "source": [
    "## Clean FileName\n",
    "\n",
    "A virus on a system went through every single filename on a computer and inserted random digits.\n",
    "\n",
    "So for example, \"data.csv\", became \"d357a53ta.csv\".\n",
    "\n",
    "Unfortunately there were no backups made of this system, so you need to write a function called `remove_nums(filename)` that that takes in a string filename and returns the \"original\" filename that contains no digits.\n",
    "\n",
    "For example, running `remove_nums(\"d357a53ta.csv\")` should give us `data.csv`.\n",
    "\n",
    "Assume that each filename orignally only contained letters. A list that contains all possible digits has been created for us. Be sure to utilize this.\n",
    "\n",
    "This documentation will help us greatly:\n",
    "\n",
    "https://docs.python.org/3/library/stdtypes.html#str.replace\n"
   ]
  },
  {
   "cell_type": "code",
   "execution_count": 7,
   "metadata": {},
   "outputs": [
    {
     "data": {
      "text/plain": [
       "'data.csv'"
      ]
     },
     "execution_count": 7,
     "metadata": {},
     "output_type": "execute_result"
    }
   ],
   "source": [
    "def remove_nums(filename):\n",
    "    \"\"\"[put description here]\n",
    "\n",
    "    Parameters\n",
    "    ----------\n",
    "    [put parameter here]\n",
    "\n",
    "    Returns\n",
    "    -------\n",
    "    [put return value here]\n",
    "    \"\"\"\n",
    "    digits = (\"1\", \"2\", \"3\", \"4\", \"5\", \"6\", \"7\", \"8\", \"9\")\n",
    "    temp = filename\n",
    "    for d in digits:\n",
    "        if d in filename:\n",
    "            temp = temp.replace(d, \"\")\n",
    "    return temp\n",
    "\n",
    "remove_nums(\"d357a@@ta.csv\")"
   ]
  }
 ],
 "metadata": {
  "kernelspec": {
   "display_name": "Python 3.10.7 64-bit",
   "language": "python",
   "name": "python3"
  },
  "language_info": {
   "codemirror_mode": {
    "name": "ipython",
    "version": 3
   },
   "file_extension": ".py",
   "mimetype": "text/x-python",
   "name": "python",
   "nbconvert_exporter": "python",
   "pygments_lexer": "ipython3",
   "version": "3.10.7"
  },
  "orig_nbformat": 4,
  "vscode": {
   "interpreter": {
    "hash": "369f2c481f4da34e4445cda3fffd2e751bd1c4d706f27375911949ba6bb62e1c"
   }
  }
 },
 "nbformat": 4,
 "nbformat_minor": 2
}
