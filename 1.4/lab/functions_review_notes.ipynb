{
 "cells": [
  {
   "cell_type": "markdown",
   "metadata": {},
   "source": [
    "## Function Practice\n",
    "\n",
    "Let’s create a function that takes in a string that represents a filename, and removes all whitespaces in your string.\n",
    "\n",
    "It will be called `fix_file(file)`\n",
    "\n",
    "We will firstly write the docstring, and then write the function itself. In general this is a good idea because you get to start the process of planning even before you write any real Python code.\n",
    "\n",
    "Documentation is your friend, and you can actually find a function that already exists that does this in the following documentation:\n",
    "\n",
    "https://docs.python.org/3/library/stdtypes.html#str.replace"
   ]
  },
  {
   "cell_type": "code",
   "execution_count": null,
   "metadata": {},
   "outputs": [],
   "source": [
    "def fix_file(file):\n",
    "    \"\"\"A function that removes whitespaces from a string.\n",
    "\n",
    "    Parameters\n",
    "    ----------\n",
    "    file:   str\n",
    "        A string that represents a filename\n",
    "\n",
    "    Returns\n",
    "    -------\n",
    "    str\n",
    "        A string of the filename with all whitespaces removed\n",
    "    \"\"\"\n",
    "    return file.replace(\" \", \"\")\n"
   ]
  },
  {
   "cell_type": "code",
   "execution_count": 7,
   "metadata": {},
   "outputs": [
    {
     "name": "stdout",
     "output_type": "stream",
     "text": [
      "pythonfile.py\n",
      "abaddatafile.csv\n"
     ]
    }
   ],
   "source": [
    "# testing our code out\n",
    "\n",
    "# this should output \"pythonfile.py\"\n",
    "print(fix_file(\"python file.py\"))\n",
    "\n",
    "# this should be \"pythonfile.py\"\n",
    "print(fix_file(\"a bad data file.csv\"))"
   ]
  },
  {
   "cell_type": "markdown",
   "metadata": {},
   "source": [
    "## Function Review\n",
    "\n",
    "Functions are everywhere and present in every Python project. This is the standard of making functionality and creating code.\n",
    "\n",
    "For example, here is an often used Python package called \"mne\":\n",
    "\n",
    "https://github.com/mne-tools/mne-python/blob/main/mne/preprocessing/bads.py\n",
    "\n",
    "Notice the docstring, and how this is just a function we can write ourselves."
   ]
  },
  {
   "cell_type": "markdown",
   "metadata": {},
   "source": [
    "to review, we define a function using the \"def\" keyword, and specify a docstring using the 3 quotation marks below our function definition."
   ]
  },
  {
   "cell_type": "code",
   "execution_count": null,
   "metadata": {},
   "outputs": [],
   "source": [
    "def add(x):\n",
    "    \"\"\"A function that adds 10\n",
    "\n",
    "    Parameters\n",
    "    ----------\n",
    "    x: int\n",
    "        A integer representing our original value\n",
    "\n",
    "    Returns\n",
    "    -------\n",
    "    int\n",
    "        The value of x plus 5.\n",
    "    \"\"\"\n",
    "    return x + 5\n",
    "\n",
    "\n",
    "# invoke or “call” functions\n",
    "result = add(10)"
   ]
  },
  {
   "cell_type": "markdown",
   "metadata": {},
   "source": [
    "## Typing\n",
    "\n",
    "This is a fairly new feature of Python and should not be done. But in case you see code that looks like this, it shouldn't come as a surprise.\n",
    "\n",
    "https://docs.python.org/3/library/typing.html"
   ]
  },
  {
   "cell_type": "code",
   "execution_count": null,
   "metadata": {},
   "outputs": [],
   "source": [
    "def add(x: int) -> int:\n",
    "    \"\"\"A function that adds 10\n",
    "\n",
    "    Parameters\n",
    "    ----------\n",
    "    x: int\n",
    "        A integer representing our original value\n",
    "\n",
    "    Returns\n",
    "    -------\n",
    "    int\n",
    "        The value of x plus 5.\n",
    "    \"\"\"\n",
    "    return x + 5\n",
    "\n",
    "\n",
    "# invoke or “call” functions\n",
    "result = add(10)"
   ]
  },
  {
   "cell_type": "markdown",
   "metadata": {},
   "source": [
    "## Recursion\n",
    "\n",
    "This is something that we do not need to worry about within this course, but something you should all know about.\n",
    "\n",
    "Notice how we have our function inside of ourselves. This involves a lot of overhead so we often don't do this, but it's useful to know for the sake of theory if it piques your interest.\n",
    "\n",
    "Jupyter doesn't like recursion, so I don't recommend you running this. \n",
    "\n",
    "https://realpython.com/python-recursion/"
   ]
  },
  {
   "cell_type": "code",
   "execution_count": 1,
   "metadata": {},
   "outputs": [
    {
     "data": {
      "text/plain": [
       "1"
      ]
     },
     "execution_count": 1,
     "metadata": {},
     "output_type": "execute_result"
    }
   ],
   "source": [
    "def fibonacci(n):\n",
    "    if n == 0:\n",
    "        return 0\n",
    "    elif n == 2:\n",
    "        return 1\n",
    "    return fibonacci(n - 1) + fibonacci(n - 2)\n"
   ]
  },
  {
   "cell_type": "markdown",
   "metadata": {},
   "source": [
    "## DocString Review\n",
    "\n",
    "We use the numpy standard\n",
    "\n",
    "https://sphinxcontrib-napoleon.readthedocs.io/en/latest/example_numpy.html\n",
    "\n",
    "```\n",
    "    \"\"\"A function that adds 10\n",
    "\n",
    "    Parameters\n",
    "    ----------\n",
    "    x: int\n",
    "        A integer representing our original value\n",
    "\n",
    "    Returns\n",
    "    -------\n",
    "    int\n",
    "        The value of x plus 5.\n",
    "    \"\"\"\n",
    "```\n",
    "\n",
    "Other standards exist, but this is ours.\n",
    "\n",
    "Let's see what the docstring of the `fix_file(file)` function will look like."
   ]
  },
  {
   "cell_type": "code",
   "execution_count": null,
   "metadata": {},
   "outputs": [],
   "source": [
    "\"\"\"A function to remove whitespaces in your file.\n",
    "\n",
    "Parameters\n",
    "----------\n",
    "file:   str\n",
    "    A string representing your filename.\n",
    "\n",
    "Returns\n",
    "-------\n",
    "string\n",
    "    A string with the corrected filename.\n",
    "\"\"\""
   ]
  },
  {
   "cell_type": "markdown",
   "metadata": {},
   "source": [
    "## Why we Document \n",
    "\n",
    "Let's consider what happens when wrong input accidentally gets passed to our function."
   ]
  },
  {
   "cell_type": "code",
   "execution_count": 1,
   "metadata": {},
   "outputs": [
    {
     "ename": "AttributeError",
     "evalue": "'int' object has no attribute 'replace'",
     "output_type": "error",
     "traceback": [
      "\u001b[1;31m---------------------------------------------------------------------------\u001b[0m",
      "\u001b[1;31mAttributeError\u001b[0m                            Traceback (most recent call last)",
      "\u001b[1;32mc:\\Users\\saidmf\\Desktop\\TKH\\DS_22\\phase_1\\week_4\\lab\\functions_review_notes.ipynb Cell 14\u001b[0m in \u001b[0;36m<cell line: 23>\u001b[1;34m()\u001b[0m\n\u001b[0;32m     <a href='vscode-notebook-cell:/c%3A/Users/saidmf/Desktop/TKH/DS_22/phase_1/week_4/lab/functions_review_notes.ipynb#X42sZmlsZQ%3D%3D?line=19'>20</a>\u001b[0m fix_file(\u001b[39m\"\u001b[39m\u001b[39m\"\u001b[39m)\n\u001b[0;32m     <a href='vscode-notebook-cell:/c%3A/Users/saidmf/Desktop/TKH/DS_22/phase_1/week_4/lab/functions_review_notes.ipynb#X42sZmlsZQ%3D%3D?line=21'>22</a>\u001b[0m \u001b[39m# problem\u001b[39;00m\n\u001b[1;32m---> <a href='vscode-notebook-cell:/c%3A/Users/saidmf/Desktop/TKH/DS_22/phase_1/week_4/lab/functions_review_notes.ipynb#X42sZmlsZQ%3D%3D?line=22'>23</a>\u001b[0m fix_file(\u001b[39m10\u001b[39;49m)\n",
      "\u001b[1;32mc:\\Users\\saidmf\\Desktop\\TKH\\DS_22\\phase_1\\week_4\\lab\\functions_review_notes.ipynb Cell 14\u001b[0m in \u001b[0;36mfix_file\u001b[1;34m(file)\u001b[0m\n\u001b[0;32m      <a href='vscode-notebook-cell:/c%3A/Users/saidmf/Desktop/TKH/DS_22/phase_1/week_4/lab/functions_review_notes.ipynb#X42sZmlsZQ%3D%3D?line=0'>1</a>\u001b[0m \u001b[39mdef\u001b[39;00m \u001b[39mfix_file\u001b[39m(file):\n\u001b[0;32m      <a href='vscode-notebook-cell:/c%3A/Users/saidmf/Desktop/TKH/DS_22/phase_1/week_4/lab/functions_review_notes.ipynb#X42sZmlsZQ%3D%3D?line=1'>2</a>\u001b[0m     \u001b[39m\"\"\"A function to remove whitespaces in your file.\u001b[39;00m\n\u001b[0;32m      <a href='vscode-notebook-cell:/c%3A/Users/saidmf/Desktop/TKH/DS_22/phase_1/week_4/lab/functions_review_notes.ipynb#X42sZmlsZQ%3D%3D?line=2'>3</a>\u001b[0m \n\u001b[0;32m      <a href='vscode-notebook-cell:/c%3A/Users/saidmf/Desktop/TKH/DS_22/phase_1/week_4/lab/functions_review_notes.ipynb#X42sZmlsZQ%3D%3D?line=3'>4</a>\u001b[0m \u001b[39m    Parameters\u001b[39;00m\n\u001b[1;32m   (...)\u001b[0m\n\u001b[0;32m     <a href='vscode-notebook-cell:/c%3A/Users/saidmf/Desktop/TKH/DS_22/phase_1/week_4/lab/functions_review_notes.ipynb#X42sZmlsZQ%3D%3D?line=11'>12</a>\u001b[0m \u001b[39m        A string with the corrected filename.\u001b[39;00m\n\u001b[0;32m     <a href='vscode-notebook-cell:/c%3A/Users/saidmf/Desktop/TKH/DS_22/phase_1/week_4/lab/functions_review_notes.ipynb#X42sZmlsZQ%3D%3D?line=12'>13</a>\u001b[0m \u001b[39m    \"\"\"\u001b[39;00m\n\u001b[1;32m---> <a href='vscode-notebook-cell:/c%3A/Users/saidmf/Desktop/TKH/DS_22/phase_1/week_4/lab/functions_review_notes.ipynb#X42sZmlsZQ%3D%3D?line=13'>14</a>\u001b[0m     \u001b[39mreturn\u001b[39;00m file\u001b[39m.\u001b[39;49mreplace(\u001b[39m\"\u001b[39m\u001b[39m \u001b[39m\u001b[39m\"\u001b[39m, \u001b[39m\"\u001b[39m\u001b[39m\"\u001b[39m)\n",
      "\u001b[1;31mAttributeError\u001b[0m: 'int' object has no attribute 'replace'"
     ]
    }
   ],
   "source": [
    "def fix_file(file):\n",
    "    \"\"\"A function to remove whitespaces in your file.\n",
    "\n",
    "    Parameters\n",
    "    ----------\n",
    "    file:   str\n",
    "        A string representing your filename.\n",
    "\n",
    "    Returns\n",
    "    -------\n",
    "    string\n",
    "        A string with the corrected filename.\n",
    "    \"\"\"\n",
    "    return file.replace(\" \", \"\")\n",
    "\n",
    "# no problem\n",
    "fix_file(\".\")\n",
    "\n",
    "# no problem\n",
    "fix_file(\"\")\n",
    "\n",
    "# problem\n",
    "fix_file(10)"
   ]
  },
  {
   "cell_type": "markdown",
   "metadata": {},
   "source": [
    "It looks like passing in an integer results in an error. If we want to be super-considerate, then we can check for type before we start mutating input.\n",
    "\n",
    "However that is not necessary, in fact, it would be waste of time to do this because your docstring stipulates that the programmer must use strings with this function.\n",
    "\n",
    "This is your contract between your function and any programmer."
   ]
  },
  {
   "cell_type": "markdown",
   "metadata": {},
   "source": [
    "## Preconditons vs. Postconditions\n",
    "\n",
    "\"A precondition is something that must be true at the start of a function in order for it to work correctly. A postcondition is something that the function guarantees is true when it finishes.\"\n",
    "\n",
    "Which function would you rather use? A function that asks you for more, or guarantees more?\n",
    "\n",
    "We will say guarantees more in this case.\n",
    "\n",
    "By guarantees more, I mean it will:\n",
    "* always have a return value\n",
    "* errors out when appropriate\n",
    "\n",
    "And by asking for less, I mean it will:\n",
    "* not require input to be super specific\n",
    "* not require programmers to self-regulate\n",
    "\n",
    "We achieve this by throwing *exceptions* and checking input at the very beginning of our program."
   ]
  },
  {
   "cell_type": "markdown",
   "metadata": {},
   "source": [
    "## Lab Question I\n",
    "\n",
    "Let’s create a function that takes in a string that represents a filename, and returns the extension of this filename.\n",
    "\n",
    "It will be called get_extension(file)\n",
    "\n",
    "Write the DocString first and then write the function itself.\n",
    "\n",
    "Documentation is your friend again.\n",
    "\n",
    "https://docs.python.org/3/library/stdtypes.html#str.find"
   ]
  },
  {
   "cell_type": "code",
   "execution_count": null,
   "metadata": {},
   "outputs": [],
   "source": [
    "def get_extension(file):\n",
    "    \"\"\"[description]\n",
    "\n",
    "    Parameters\n",
    "    ----------\n",
    "    \n",
    "\n",
    "    Returns\n",
    "    -------\n",
    "\n",
    "    \"\"\"\n",
    "    return"
   ]
  },
  {
   "cell_type": "markdown",
   "metadata": {},
   "source": [
    "## Thinking about this problem\n",
    "\n",
    "Break this problem down. Try to draw it out to really visualize what we need to do.\n",
    "\n",
    "Let's start off with a string: file = \"hello.txt\"\n",
    "\n",
    "If we want to get the extension of this file, we need to get the last 3 letters. How do we get the last 3 letters? Slicing.\n",
    "\n",
    "So we could do something like this:\n",
    "\n",
    "`file[-3:]`\n",
    "\n",
    "But what about the filenames with extensions that have 2 letters, or 5 letters, or any other amount of letters?\n",
    "\n",
    "How do we find a possible solution? How do we ground ourselves?\n",
    "\n",
    "Let's make some observations about this data, where is the extension always located?\n",
    "\n",
    "Always after the \".\"! \"hello.txt\", \"goodbye.py\", \"data.csv\".\n",
    "\n",
    "So if we can get the index of where our dot is, and then slice all the way to the end, we can get our extension!!!\n",
    "\n",
    "`file[index of dot:]`\n",
    "\n",
    "Well, we can use some functions that have been created for us already. The string `find()` function gives us the index of some character, so we can simply call this function using the \".\" character as the argument. and easily get an answer.\n",
    "\n",
    "```\n",
    "index = file.find(\".\")\n",
    "file[index:]\n",
    "```\n",
    "\n",
    "A possible solution is below:"
   ]
  },
  {
   "cell_type": "code",
   "execution_count": null,
   "metadata": {},
   "outputs": [],
   "source": [
    "def get_extension(file):\n",
    "    \"\"\"A function to get the extension of any file\n",
    "\n",
    "    Parameters\n",
    "    ----------\n",
    "    file:   str\n",
    "        String representing only a file-name\n",
    "\n",
    "    Returns\n",
    "    -------\n",
    "    str\n",
    "        A string that represents the file-type\n",
    "    \"\"\"\n",
    "    dot_ind = file.find(\".\")\n",
    "    extension = file[dot_ind + 1:]\n",
    "    return extension"
   ]
  },
  {
   "cell_type": "markdown",
   "metadata": {},
   "source": [
    "## Coding Defensively\n",
    "\n",
    "Let's say you have a function where it makes sense to check input before you start the rest of your code. \n",
    "\n",
    "In this example, there remains a possibility that we do not find the dot. What does that mean? Well we should perhaps account for that possibility by adding in a conditional.\n",
    "\n",
    "This is the practice of eliminating assumptions when coding (where appropriate).\n",
    "\n",
    "Defensive driving: the practice of eliminating assumptions about the intent of other drivers.\n",
    "\n",
    "Perhaps a more 'defensive' solution is the following:\n",
    "\n",
    "Notice how we add more options for return values."
   ]
  },
  {
   "cell_type": "code",
   "execution_count": null,
   "metadata": {},
   "outputs": [],
   "source": [
    "def get_extension(file):\n",
    "    \"\"\"A function to get the extension of any file\n",
    "\n",
    "    Parameters\n",
    "    ----------\n",
    "    file:   str\n",
    "        String representing only a file-name\n",
    "\n",
    "    Returns\n",
    "    -------\n",
    "    str | -1\n",
    "        A string that represents the file-type. -1 if \n",
    "        the string is not a valid file.\n",
    "    \"\"\"\n",
    "    dot_ind = file.find(\".\")\n",
    "    if dot_ind == -1:\n",
    "        print(\"your file name was not good\")\n",
    "        return -1\n",
    "    extension = file[dot_ind + 1:]\n",
    "    return extension\n",
    "\n",
    "files = [\"test.csv\", \"data.csv\", \"data.txt\", \"functions.py\"]\n",
    "\n",
    "# print out extension of each file\n",
    "for f in files:\n",
    "    result = get_extension(f)\n",
    "    print(result)"
   ]
  },
  {
   "cell_type": "markdown",
   "metadata": {},
   "source": [
    "## Don't Reinvent the Wheel\n",
    "\n",
    "If a builtin or package exists already and it comes from a commonly-used or credible source, just go ahead and use that.\n",
    "\n",
    "In this case its `pathLib.Path`."
   ]
  },
  {
   "cell_type": "code",
   "execution_count": 6,
   "metadata": {},
   "outputs": [
    {
     "name": "stdout",
     "output_type": "stream",
     "text": [
      ".csv\n"
     ]
    }
   ],
   "source": [
    "import pathlib\n",
    "\n",
    "result = pathlib.Path(\"test.csv\")\n",
    "print(result.suffix)"
   ]
  },
  {
   "cell_type": "code",
   "execution_count": 5,
   "metadata": {},
   "outputs": [
    {
     "name": "stdout",
     "output_type": "stream",
     "text": [
      ".csv\n",
      "test.csv\n",
      ".csv\n",
      "data.csv\n",
      ".txt\n",
      "data.txt\n",
      ".py\n",
      "functions.py\n"
     ]
    }
   ],
   "source": [
    "import pathlib\n",
    "\n",
    "files = [\"test.csv\", \"data.csv\", \"data.txt\", \"functions.py\"]\n",
    "\n",
    "for foo in files:\n",
    "    result = pathlib.Path(foo)\n",
    "    print(result.suffix)\n",
    "    print(result)"
   ]
  }
 ],
 "metadata": {
  "kernelspec": {
   "display_name": "Python 3.10.7 64-bit",
   "language": "python",
   "name": "python3"
  },
  "language_info": {
   "codemirror_mode": {
    "name": "ipython",
    "version": 3
   },
   "file_extension": ".py",
   "mimetype": "text/x-python",
   "name": "python",
   "nbconvert_exporter": "python",
   "pygments_lexer": "ipython3",
   "version": "3.10.7"
  },
  "orig_nbformat": 4,
  "vscode": {
   "interpreter": {
    "hash": "369f2c481f4da34e4445cda3fffd2e751bd1c4d706f27375911949ba6bb62e1c"
   }
  }
 },
 "nbformat": 4,
 "nbformat_minor": 2
}
