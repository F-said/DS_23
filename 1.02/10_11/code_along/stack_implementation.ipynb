{
 "cells": [
  {
   "cell_type": "markdown",
   "id": "eb712134",
   "metadata": {},
   "source": [
    "The stack abstract data type is defined by the following structure and operations. A stack is structured, as described above, as an ordered collection of items where items are added to and removed from the end called the top. Stacks are ordered LIFO. The stack operations are given below.\n",
    "\n",
    "Stack() creates a new stack that is empty. It needs no parameters and returns an empty stack.\n",
    "\n",
    "push(item) adds a new item to the top of the stack. It needs the item and returns nothing.\n",
    "\n",
    "pop() removes the top item from the stack. It needs no parameters and returns the item. The stack is modified.\n",
    "\n",
    "peek() returns the top item from the stack but does not remove it. It needs no parameters. The stack is not modified.\n",
    "\n",
    "is_empty() tests to see whether the stack is empty. It needs no parameters and returns a boolean value.\n",
    "\n",
    "size() returns the number of items on the stack. It needs no parameters and returns an integer.\n",
    "\n",
    "For example, if s is a stack that has been created and starts out empty, then Table 1 shows the results of a sequence of stack operations. Under Stack Contents, the top item is listed at the far right."
   ]
  },
  {
   "cell_type": "code",
   "execution_count": 4,
   "id": "080683ab",
   "metadata": {},
   "outputs": [],
   "source": [
    "# Lets go through Runestone 3.5, type out each part of the stack and talk about what it means\n"
   ]
  },
  {
   "cell_type": "code",
   "execution_count": 2,
   "id": "d1a72380",
   "metadata": {},
   "outputs": [
    {
     "name": "stdout",
     "output_type": "stream",
     "text": [
      "True\n",
      "dog\n",
      "3\n",
      "False\n",
      "8.4\n",
      "True\n",
      "2\n"
     ]
    }
   ],
   "source": [
    "# s = Stack()\n",
    "\n",
    "# print(s.is_empty())\n",
    "# s.push(4)\n",
    "# s.push(\"dog\")\n",
    "# print(s.peek())\n",
    "# s.push(True)\n",
    "# print(s.size())\n",
    "# print(s.is_empty())\n",
    "# s.push(8.4)\n",
    "# print(s.pop())\n",
    "# print(s.pop())\n",
    "# print(s.size())"
   ]
  },
  {
   "cell_type": "markdown",
   "id": "4411e407",
   "metadata": {},
   "source": [
    "The queue abstract data type is defined by the following structure and operations. A queue is structured, as described above, as an ordered collection of items which are added at one end, called the rear, and removed from the other end, called the front. Queues maintain a FIFO ordering property. The queue operations are given below.\n",
    "\n",
    "Queue() creates a new queue that is empty. It needs no parameters and returns an empty queue.\n",
    "\n",
    "enqueue(item) adds a new item to the rear of the queue. It needs the item and returns nothing.\n",
    "\n",
    "dequeue() removes the front item from the queue. It needs no parameters and returns the item. The queue is modified.\n",
    "\n",
    "is_empty() tests to see whether the queue is empty. It needs no parameters and returns a boolean value.\n",
    "\n",
    "size() returns the number of items in the queue. It needs no parameters and returns an integer.\n",
    "\n",
    "As an example, if we assume that q is a queue that has been created and is currently empty, then Table 5 shows the results of a sequence of queue operations. The queue contents are shown such that the front is on the right. The first item enqueued was 4 so it is the first item returned by dequeue."
   ]
  },
  {
   "cell_type": "code",
   "execution_count": null,
   "id": "9325c201",
   "metadata": {},
   "outputs": [],
   "source": [
    "class Queue:\n",
    "    \"\"\"Queue implementation as a list\"\"\"\n",
    "\n",
    "    def __init__(self):\n",
    "        \"\"\"Create new queue\"\"\"\n",
    "        self._items = []\n",
    "\n",
    "    def is_empty(self):\n",
    "        \"\"\"Check if the queue is empty\"\"\"\n",
    "        return not bool(self._items)\n",
    "\n",
    "    def enqueue(self, item):\n",
    "        \"\"\"Add an item to the queue\"\"\"\n",
    "        self._items.insert(0, item)\n",
    "\n",
    "    def dequeue(self):\n",
    "        \"\"\"Remove an item from the queue\"\"\"\n",
    "        return self._items.pop()\n",
    "\n",
    "    def size(self):\n",
    "        \"\"\"Get the number of items in the queue\"\"\"\n",
    "        return len(self._items)"
   ]
  },
  {
   "cell_type": "code",
   "execution_count": null,
   "id": "12011e8a",
   "metadata": {},
   "outputs": [],
   "source": []
  }
 ],
 "metadata": {
  "kernelspec": {
   "display_name": "Python (nycdot)",
   "language": "python",
   "name": "nycdot"
  },
  "language_info": {
   "codemirror_mode": {
    "name": "ipython",
    "version": 3
   },
   "file_extension": ".py",
   "mimetype": "text/x-python",
   "name": "python",
   "nbconvert_exporter": "python",
   "pygments_lexer": "ipython3",
   "version": "3.11.5"
  }
 },
 "nbformat": 4,
 "nbformat_minor": 5
}
