{
 "cells": [
  {
   "cell_type": "markdown",
   "id": "ad929a10",
   "metadata": {},
   "source": [
    "## Recursion Lab\n",
    "\n",
    "These questions come from Think Python, 2nd Edition Ch. 5.\n",
    "\n",
    "I have adapted the questions slightly to better fit the needs of the class."
   ]
  },
  {
   "cell_type": "markdown",
   "id": "0b10e4d2",
   "metadata": {},
   "source": [
    "**Exercise 5.2.** Fermat’s Last Theorem says that there are no positive integers a, b, and c such that\n",
    "\n",
    "a^n + b^n = c^n\n",
    "\n",
    "for any values of n greater than 2.\n",
    "\n",
    "1. Write a function named check_fermat that takes four parameters—a, b, c and n—and\n",
    "checks to see if Fermat’s theorem holds. If n is greater than 2 and\n",
    "\n",
    "a^n + b^n = c^n\n",
    "\n",
    "the program should print, “Holy smokes, Fermat was wrong!” Otherwise the program should print, “No, that doesn’t work.”"
   ]
  },
  {
   "cell_type": "code",
   "execution_count": null,
   "id": "cbf9f3aa",
   "metadata": {},
   "outputs": [],
   "source": [
    "##  Here is the general format of a function\n",
    "\n",
    "def function(parameter1, parameter2, parameter3, parameter4): #start with def, name of function, the number of parameters and :\n",
    "    # Write what you want your function to do, make sure to indent!\n",
    "    sum_of_params = parameter1 + parameter2 + parameter3 + parameter4\n",
    "    print(sum_of_params) # this will show us the result in the code\n",
    "    return sum_of_params #return is what will give us an answer to use elsewhere"
   ]
  },
  {
   "cell_type": "code",
   "execution_count": null,
   "id": "f6812c5b",
   "metadata": {},
   "outputs": [],
   "source": [
    "## Write your function here"
   ]
  },
  {
   "cell_type": "code",
   "execution_count": null,
   "id": "cbe121d9",
   "metadata": {},
   "outputs": [],
   "source": [
    "check_fermat(1, 3, 4, 4)"
   ]
  },
  {
   "cell_type": "code",
   "execution_count": null,
   "id": "8be447fc",
   "metadata": {},
   "outputs": [],
   "source": [
    "check_fermat(1, 2, 3, 2)"
   ]
  },
  {
   "cell_type": "markdown",
   "id": "92f33b47",
   "metadata": {},
   "source": [
    "2. Write a function that prompts the user to input values for a, b, c and n, converts them to\n",
    "integers, and uses check_fermat to check whether they violate Fermat’s theorem."
   ]
  },
  {
   "cell_type": "code",
   "execution_count": null,
   "id": "9edfb0cc",
   "metadata": {},
   "outputs": [],
   "source": [
    "## Write your function here"
   ]
  },
  {
   "cell_type": "code",
   "execution_count": null,
   "id": "621120fb",
   "metadata": {},
   "outputs": [],
   "source": []
  }
 ],
 "metadata": {
  "kernelspec": {
   "display_name": "Python (nycdot)",
   "language": "python",
   "name": "nycdot"
  },
  "language_info": {
   "codemirror_mode": {
    "name": "ipython",
    "version": 3
   },
   "file_extension": ".py",
   "mimetype": "text/x-python",
   "name": "python",
   "nbconvert_exporter": "python",
   "pygments_lexer": "ipython3",
   "version": "3.11.5"
  }
 },
 "nbformat": 4,
 "nbformat_minor": 5
}
