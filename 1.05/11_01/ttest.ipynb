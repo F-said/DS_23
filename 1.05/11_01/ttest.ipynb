{
 "cells": [
  {
   "cell_type": "markdown",
   "metadata": {},
   "source": [
    "# Z-Test Lab\n",
    "Because we've already done a manual calculation of the t-test, lets try doing the z-test.\n",
    "\n",
    "Spend some time reading through this geek-for-geeks article. https://www.geeksforgeeks.org/z-test/#\n",
    "\n",
    "Then take the code examples that are given in the article and recreate a one-tailed one-sample z-test and a two-tailed two-sampled z-test."
   ]
  },
  {
   "cell_type": "code",
   "execution_count": null,
   "metadata": {},
   "outputs": [],
   "source": [
    "## Write the imports you'll need here"
   ]
  },
  {
   "cell_type": "markdown",
   "metadata": {},
   "source": [
    "## One-Sample Z-Test"
   ]
  },
  {
   "cell_type": "code",
   "execution_count": null,
   "metadata": {},
   "outputs": [],
   "source": [
    "\n",
    "# Given information for one-tailed one-sample Z-test\n",
    "sample_mean = 110\n",
    "population_mean = 100\n",
    "population_std = 15\n",
    "sample_size = 50\n",
    "alpha = 0.05"
   ]
  },
  {
   "cell_type": "code",
   "execution_count": null,
   "metadata": {},
   "outputs": [],
   "source": [
    "# Use the cell for calculating and using z-score as a measure of critical value"
   ]
  },
  {
   "cell_type": "code",
   "execution_count": null,
   "metadata": {},
   "outputs": [],
   "source": [
    "# Use this cell for calculating and using the z-score for calculating the appropriate p-value"
   ]
  },
  {
   "cell_type": "markdown",
   "metadata": {},
   "source": [
    "### Two-Sample Z-Test\n"
   ]
  },
  {
   "cell_type": "code",
   "execution_count": 1,
   "metadata": {},
   "outputs": [
    {
     "name": "stdout",
     "output_type": "stream",
     "text": [
      "Z-Score: 2.3836564731139807\n",
      "Critical Z-Score: 1.959963984540054\n",
      "Reject the null hypothesis.\n",
      "There is a significant difference between the online and offline classes.\n",
      "P-Value : 0.01714159544079563\n",
      "Reject the null hypothesis.\n",
      "There is a significant difference between the online and offline classes.\n"
     ]
    }
   ],
   "source": [
    "import numpy as np\n",
    "import scipy.stats as stats\n",
    " \n",
    " \n",
    "# Group A (Offline Classes)\n",
    "n1 = 50\n",
    "x1 = 75\n",
    "s1 = 10\n",
    " \n",
    "# Group B (Online Classes)\n",
    "n2 = 60\n",
    "x2 = 80\n",
    "s2 = 12\n",
    " "
   ]
  },
  {
   "cell_type": "code",
   "execution_count": null,
   "metadata": {},
   "outputs": [],
   "source": [
    "# Use this cell for calculating the z-score and comparing against the critical"
   ]
  },
  {
   "cell_type": "code",
   "execution_count": null,
   "metadata": {},
   "outputs": [],
   "source": [
    "# Use this cell for calculating the p-value"
   ]
  },
  {
   "cell_type": "markdown",
   "metadata": {},
   "source": [
    "### Debrief\n",
    "\n",
    "You might not know exactly what is going on in the code right now.\n",
    "\n",
    "In your groups, do some research on the individual functions and what they mean. Share your thoughts on what these functions are using and what concepts are new.\n",
    "\n",
    "How is the idea of what you did using the code related to what we discussed in class?\n",
    "\n",
    "To help with this idea, read: https://stackoverflow.com/questions/65468026/norm-ppf-vs-norm-cdf-in-pythons-scipy-stats "
   ]
  }
 ],
 "metadata": {
  "kernelspec": {
   "display_name": "base",
   "language": "python",
   "name": "python3"
  },
  "language_info": {
   "codemirror_mode": {
    "name": "ipython",
    "version": 3
   },
   "file_extension": ".py",
   "mimetype": "text/x-python",
   "name": "python",
   "nbconvert_exporter": "python",
   "pygments_lexer": "ipython3",
   "version": "3.11.3"
  },
  "orig_nbformat": 4
 },
 "nbformat": 4,
 "nbformat_minor": 2
}
