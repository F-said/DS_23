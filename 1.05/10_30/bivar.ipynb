{
 "cells": [
  {
   "cell_type": "code",
   "execution_count": 1,
   "metadata": {},
   "outputs": [],
   "source": [
    "import numpy as np\n",
    "import statsmodels as stats\n",
    "import matplotlib.pyplot as plt\n",
    "import pandas as pd\n",
    "\n"
   ]
  },
  {
   "cell_type": "code",
   "execution_count": 2,
   "metadata": {},
   "outputs": [],
   "source": [
    "# Generate 2 pairs of 20 datapoints\n",
    "# np.random.normal generates on the following parameters (mean, scale, size of array)\n",
    "# We are making (2, 20) array of data which is 2 columns of 20 datapoints\n",
    "\n",
    "data = np.random.normal(0, 1, (2,20))\n",
    "\n"
   ]
  },
  {
   "cell_type": "code",
   "execution_count": 3,
   "metadata": {},
   "outputs": [
    {
     "data": {
      "text/plain": [
       "array([[ 0.01889312,  1.15722602,  0.75238867, -0.41362651, -0.83683432,\n",
       "         0.58912137, -0.56901458,  0.23364239,  0.03432566,  0.81731327,\n",
       "        -0.24008011,  2.33405122, -0.27101096, -0.11273882,  0.04685174,\n",
       "        -0.8572288 , -1.4049792 ,  0.14701243,  0.36473269,  1.11459689],\n",
       "       [-0.10295414,  0.46058707,  0.30994356, -0.00761907,  1.50424336,\n",
       "        -0.75380554, -0.21973762, -0.74201022, -0.30602577,  0.15811031,\n",
       "        -0.07130518, -0.52931869,  0.87121757, -0.85207737,  0.87062831,\n",
       "         0.49161263, -0.125752  ,  0.89626376, -0.12762968, -0.38582467]])"
      ]
     },
     "execution_count": 3,
     "metadata": {},
     "output_type": "execute_result"
    }
   ],
   "source": [
    "# see what the arrays look like\n",
    "# it should be an array that is a list of lists\n",
    "\n",
    "data"
   ]
  },
  {
   "cell_type": "code",
   "execution_count": 4,
   "metadata": {},
   "outputs": [
    {
     "data": {
      "image/png": "[encoded data removed]",
      "text/plain": [
       "<Figure size 640x480 with 1 Axes>"
      ]
     },
     "metadata": {},
     "output_type": "display_data"
    }
   ],
   "source": [
    "# Plot the data using plt.scatter()\n",
    "# Hint: you may need to index the data array!\n",
    "\n",
    "plt.scatter(data[0], data[1])\n",
    "plt.show()"
   ]
  },
  {
   "cell_type": "code",
   "execution_count": 5,
   "metadata": {},
   "outputs": [
    {
     "data": {
      "text/plain": [
       "array([-0.10295414,  0.46058707,  0.30994356, -0.00761907,  1.50424336,\n",
       "       -0.75380554, -0.21973762, -0.74201022, -0.30602577,  0.15811031,\n",
       "       -0.07130518, -0.52931869,  0.87121757, -0.85207737,  0.87062831,\n",
       "        0.49161263, -0.125752  ,  0.89626376, -0.12762968, -0.38582467])"
      ]
     },
     "execution_count": 5,
     "metadata": {},
     "output_type": "execute_result"
    }
   ],
   "source": [
    "# define our x and y using the 2 columns of data \n",
    "x = data[0]\n",
    "y = data[1]\n",
    "y"
   ]
  },
  {
   "cell_type": "code",
   "execution_count": 6,
   "metadata": {},
   "outputs": [
    {
     "data": {
      "text/plain": [
       "(0.145232108272029, 0.06692733153410087)"
      ]
     },
     "execution_count": 6,
     "metadata": {},
     "output_type": "execute_result"
    }
   ],
   "source": [
    "# do all the necessary calculations to get the correlation coefficient\n",
    "# use either numpy or statistics package\n",
    "\n",
    "\n",
    "## When you are doing the multipication in step 4, you may need to use tuple unpacking\n",
    "## this is in one of the first week's slides\n",
    "x_mean = np.mean(x)\n",
    "y_mean = np.mean(y)\n",
    "\n",
    "x_mean, y_mean"
   ]
  },
  {
   "cell_type": "code",
   "execution_count": 7,
   "metadata": {},
   "outputs": [
    {
     "data": {
      "text/plain": [
       "[-0.12633898558945073,\n",
       " 1.0119939136143283,\n",
       " 0.6071565591254641,\n",
       " -0.5588586199367339,\n",
       " -0.982066427018627,\n",
       " 0.44388925740143015,\n",
       " -0.7142466870463308,\n",
       " 0.0884102790016448,\n",
       " -0.11090644453593529,\n",
       " 0.6720811580503369,\n",
       " -0.3853122157982293,\n",
       " 2.1888191146464013,\n",
       " -0.41624306340900175,\n",
       " -0.2579709268994106,\n",
       " -0.09838037235155653,\n",
       " -1.002460911133466,\n",
       " -1.5502113053773,\n",
       " 0.001780317187779823,\n",
       " 0.21950057945117665,\n",
       " 0.9693647806174793]"
      ]
     },
     "execution_count": 7,
     "metadata": {},
     "output_type": "execute_result"
    }
   ],
   "source": [
    "dev_x = [i - x_mean for i in x]\n",
    "dev_x"
   ]
  },
  {
   "cell_type": "code",
   "execution_count": 8,
   "metadata": {},
   "outputs": [
    {
     "data": {
      "text/plain": [
       "[-0.16988147483008645,\n",
       " 0.39365974330502457,\n",
       " 0.2430162332994094,\n",
       " -0.07454639746781039,\n",
       " 1.437316030737921,\n",
       " -0.8207328762632552,\n",
       " -0.2866649524112793,\n",
       " -0.8089375552602501,\n",
       " -0.3729530970095296,\n",
       " 0.09118297881043551,\n",
       " -0.13823251603815656,\n",
       " -0.5962460173953861,\n",
       " 0.8042902434099619,\n",
       " -0.9190046994643595,\n",
       " 0.803700981596567,\n",
       " 0.4246852986797007,\n",
       " -0.19267933282571187,\n",
       " 0.829336426064482,\n",
       " -0.19455701555160038,\n",
       " -0.45275200138607685]"
      ]
     },
     "execution_count": 8,
     "metadata": {},
     "output_type": "execute_result"
    }
   ],
   "source": [
    "dev_y = [y_i - y_mean for y_i in y]\n",
    "dev_y"
   ]
  },
  {
   "cell_type": "code",
   "execution_count": 31,
   "metadata": {},
   "outputs": [
    {
     "data": {
      "text/plain": [
       "([0.021462653200472928,\n",
       "  0.3983812642596637,\n",
       "  0.14754890002170043,\n",
       "  0.04166089681011575,\n",
       "  -1.411539818803385,\n",
       "  -0.3643145069694362,\n",
       "  0.20474949255205033,\n",
       "  -0.07151839495546718,\n",
       "  0.04136290196799269,\n",
       "  0.061282361993396824,\n",
       "  0.05326267705002637,\n",
       "  -1.3050746799068118,\n",
       "  -0.33478023478693425,\n",
       "  0.2370764941457351,\n",
       "  -0.07906840182878175,\n",
       "  -0.42573041145944085,\n",
       "  0.298693680058974,\n",
       "  0.0014764818937744876,\n",
       "  -0.04270537764986787,\n",
       "  -0.4388818444977391],\n",
       " -2.9666558669039613)"
      ]
     },
     "execution_count": 31,
     "metadata": {},
     "output_type": "execute_result"
    }
   ],
   "source": [
    "mult_dev = []\n",
    "for i in range(20):\n",
    "    mult_dev.append(dev_x[i] * dev_y[i])\n",
    "    \n",
    "mult_dev, sum(mult_dev)"
   ]
  },
  {
   "cell_type": "code",
   "execution_count": 32,
   "metadata": {},
   "outputs": [
    {
     "data": {
      "text/plain": [
       "(0.01596153927977144, 0.028859715490445297)"
      ]
     },
     "execution_count": 32,
     "metadata": {},
     "output_type": "execute_result"
    }
   ],
   "source": [
    "dev_x_sq = [i**2 for i in dev_x]\n",
    "dev_y_sq = [i**2 for i in dev_y]\n",
    "dev_x_sq[0], dev_y_sq[0]"
   ]
  },
  {
   "cell_type": "code",
   "execution_count": 40,
   "metadata": {},
   "outputs": [
    {
     "data": {
      "text/plain": [
       "101.3004263673667"
      ]
     },
     "execution_count": 40,
     "metadata": {},
     "output_type": "execute_result"
    }
   ],
   "source": [
    "sum(dev_x_sq) * sum(dev_y_sq)"
   ]
  },
  {
   "cell_type": "code",
   "execution_count": 42,
   "metadata": {},
   "outputs": [
    {
     "data": {
      "text/plain": [
       "10.064811293182137"
      ]
     },
     "execution_count": 42,
     "metadata": {},
     "output_type": "execute_result"
    }
   ],
   "source": [
    "np.sqrt(sum(dev_x_sq) * sum(dev_y_sq))"
   ]
  },
  {
   "cell_type": "code",
   "execution_count": null,
   "metadata": {},
   "outputs": [],
   "source": []
  },
  {
   "cell_type": "code",
   "execution_count": 33,
   "metadata": {},
   "outputs": [
    {
     "data": {
      "text/plain": [
       "([0.0004606454824037709,\n",
       "  0.158707631713128,\n",
       "  0.021770677897613753,\n",
       "  0.0017356303230231125,\n",
       "  1.9924446600674932,\n",
       "  0.13272505998838338,\n",
       "  0.04192235470032211,\n",
       "  0.005114880817006192,\n",
       "  0.0017108896592137736,\n",
       "  0.0037555278914897278,\n",
       "  0.002836912766535406,\n",
       "  1.703219920133867,\n",
       "  0.11207780560399482,\n",
       "  0.056205264076432754,\n",
       "  0.0062518121677576964,\n",
       "  0.1812463832414248,\n",
       "  0.08921791450717274,\n",
       "  2.1799987826438974e-06,\n",
       "  0.0018237492802178341,\n",
       "  0.19261727342973764],\n",
       " 4.705847173746001)"
      ]
     },
     "execution_count": 33,
     "metadata": {},
     "output_type": "execute_result"
    }
   ],
   "source": [
    "dev_sq_mult = []\n",
    "for i in range(20):\n",
    "    dev_sq_mult.append(dev_x_sq[i] * dev_y_sq[i])\n",
    "\n",
    "dev_sq_mult, sum(dev_sq_mult)"
   ]
  },
  {
   "cell_type": "code",
   "execution_count": 34,
   "metadata": {},
   "outputs": [
    {
     "data": {
      "text/plain": [
       "2.1692964697675605"
      ]
     },
     "execution_count": 34,
     "metadata": {},
     "output_type": "execute_result"
    }
   ],
   "source": [
    "dev_sqrt = np.sqrt(sum(dev_sq_mult))\n",
    "dev_sqrt"
   ]
  },
  {
   "cell_type": "code",
   "execution_count": 35,
   "metadata": {},
   "outputs": [
    {
     "data": {
      "text/plain": [
       "-2.9666558669039613"
      ]
     },
     "execution_count": 35,
     "metadata": {},
     "output_type": "execute_result"
    }
   ],
   "source": [
    "sum_mult = sum(mult_dev)\n",
    "\n",
    "sum_mult"
   ]
  },
  {
   "cell_type": "code",
   "execution_count": 36,
   "metadata": {},
   "outputs": [
    {
     "data": {
      "text/plain": [
       "-1.3675658944034688"
      ]
     },
     "execution_count": 36,
     "metadata": {},
     "output_type": "execute_result"
    }
   ],
   "source": [
    "sum_mult/dev_sqrt"
   ]
  },
  {
   "cell_type": "code",
   "execution_count": 37,
   "metadata": {},
   "outputs": [
    {
     "data": {
      "text/html": [
       "<div>\n",
       "<style scoped>\n",
       "    .dataframe tbody tr th:only-of-type {\n",
       "        vertical-align: middle;\n",
       "    }\n",
       "\n",
       "    .dataframe tbody tr th {\n",
       "        vertical-align: top;\n",
       "    }\n",
       "\n",
       "    .dataframe thead th {\n",
       "        text-align: right;\n",
       "    }\n",
       "</style>\n",
       "<table border=\"1\" class=\"dataframe\">\n",
       "  <thead>\n",
       "    <tr style=\"text-align: right;\">\n",
       "      <th></th>\n",
       "      <th>col_1</th>\n",
       "      <th>col_2</th>\n",
       "    </tr>\n",
       "  </thead>\n",
       "  <tbody>\n",
       "    <tr>\n",
       "      <th>0</th>\n",
       "      <td>-0.102954</td>\n",
       "      <td>0.018893</td>\n",
       "    </tr>\n",
       "    <tr>\n",
       "      <th>1</th>\n",
       "      <td>0.460587</td>\n",
       "      <td>1.157226</td>\n",
       "    </tr>\n",
       "    <tr>\n",
       "      <th>2</th>\n",
       "      <td>0.309944</td>\n",
       "      <td>0.752389</td>\n",
       "    </tr>\n",
       "    <tr>\n",
       "      <th>3</th>\n",
       "      <td>-0.007619</td>\n",
       "      <td>-0.413627</td>\n",
       "    </tr>\n",
       "    <tr>\n",
       "      <th>4</th>\n",
       "      <td>1.504243</td>\n",
       "      <td>-0.836834</td>\n",
       "    </tr>\n",
       "  </tbody>\n",
       "</table>\n",
       "</div>"
      ],
      "text/plain": [
       "      col_1     col_2\n",
       "0 -0.102954  0.018893\n",
       "1  0.460587  1.157226\n",
       "2  0.309944  0.752389\n",
       "3 -0.007619 -0.413627\n",
       "4  1.504243 -0.836834"
      ]
     },
     "execution_count": 37,
     "metadata": {},
     "output_type": "execute_result"
    }
   ],
   "source": [
    "### Now do it in pandas\n",
    "\n",
    "df = pd.DataFrame({'col_1': data[1], 'col_2': data[0]})\n",
    "df.head()"
   ]
  },
  {
   "cell_type": "code",
   "execution_count": 38,
   "metadata": {},
   "outputs": [
    {
     "data": {
      "image/png": "[encoded data removed]",
      "text/plain": [
       "<Figure size 640x480 with 1 Axes>"
      ]
     },
     "metadata": {},
     "output_type": "display_data"
    }
   ],
   "source": [
    "df.plot('col_1', 'col_2', kind='scatter');"
   ]
  },
  {
   "cell_type": "code",
   "execution_count": 39,
   "metadata": {},
   "outputs": [
    {
     "data": {
      "text/html": [
       "<div>\n",
       "<style scoped>\n",
       "    .dataframe tbody tr th:only-of-type {\n",
       "        vertical-align: middle;\n",
       "    }\n",
       "\n",
       "    .dataframe tbody tr th {\n",
       "        vertical-align: top;\n",
       "    }\n",
       "\n",
       "    .dataframe thead th {\n",
       "        text-align: right;\n",
       "    }\n",
       "</style>\n",
       "<table border=\"1\" class=\"dataframe\">\n",
       "  <thead>\n",
       "    <tr style=\"text-align: right;\">\n",
       "      <th></th>\n",
       "      <th>col_1</th>\n",
       "      <th>col_2</th>\n",
       "    </tr>\n",
       "  </thead>\n",
       "  <tbody>\n",
       "    <tr>\n",
       "      <th>col_1</th>\n",
       "      <td>1.000000</td>\n",
       "      <td>-0.294755</td>\n",
       "    </tr>\n",
       "    <tr>\n",
       "      <th>col_2</th>\n",
       "      <td>-0.294755</td>\n",
       "      <td>1.000000</td>\n",
       "    </tr>\n",
       "  </tbody>\n",
       "</table>\n",
       "</div>"
      ],
      "text/plain": [
       "          col_1     col_2\n",
       "col_1  1.000000 -0.294755\n",
       "col_2 -0.294755  1.000000"
      ]
     },
     "execution_count": 39,
     "metadata": {},
     "output_type": "execute_result"
    }
   ],
   "source": [
    "df.corr()"
   ]
  },
  {
   "cell_type": "code",
   "execution_count": null,
   "metadata": {},
   "outputs": [],
   "source": []
  }
 ],
 "metadata": {
  "kernelspec": {
   "display_name": "base",
   "language": "python",
   "name": "python3"
  },
  "language_info": {
   "codemirror_mode": {
    "name": "ipython",
    "version": 3
   },
   "file_extension": ".py",
   "mimetype": "text/x-python",
   "name": "python",
   "nbconvert_exporter": "python",
   "pygments_lexer": "ipython3",
   "version": "3.11.3"
  },
  "orig_nbformat": 4
 },
 "nbformat": 4,
 "nbformat_minor": 2
}
