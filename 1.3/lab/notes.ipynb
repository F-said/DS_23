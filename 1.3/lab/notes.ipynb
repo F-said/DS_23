{
 "cells": [
  {
   "cell_type": "markdown",
   "metadata": {},
   "source": [
    "## Lists Review\n",
    "\n",
    "Lists are:\n",
    "* Mutable\n",
    "* Organized, use indices \n",
    "* Indicated using the square brackets []\n",
    "\n",
    "[Lists documentation](https://docs.python.org/3/tutorial/datastructures.html#more-on-lists)"
   ]
  },
  {
   "cell_type": "code",
   "execution_count": 17,
   "metadata": {},
   "outputs": [
    {
     "name": "stdout",
     "output_type": "stream",
     "text": [
      "['a', 'b', 'c', 'd', 1, 'hello', True] \n",
      "\n",
      "length is:  7\n",
      "first element is:  a\n",
      "last element is:  True\n",
      "\n",
      "## sublisting ##\n",
      "['a', 'b', 'c', 'd']\n",
      "['a', 'b', 'c', 'd']\n",
      "[1, 'hello', True]\n",
      "[1, 'hello', True]\n",
      "['a', 'c', 1, True]\n",
      "['a', 'c', 1, True]\n",
      "f b c d 1 hello True ['f', 'b', 'c', 'd', 1, 'hello', True, 'b']\n",
      "['f', 'c', 'd', 1, 'hello', True, 'b']\n",
      "['f', 'd', 1, 'hello', True, 'b']\n"
     ]
    }
   ],
   "source": [
    "# create a list named \"l\"\n",
    "l = [\"a\", \"b\", \"c\", \"d\", 1, \"hello\", True]\n",
    "print(l, \"\\n\")\n",
    "# print the length of this list\n",
    "print(\"length is: \", len(l))\n",
    "\n",
    "# get first value using index\n",
    "print(\"first element is: \", l[0])\n",
    "# get the last value using the negative indices\n",
    "print(\"last element is: \", l[-1])\n",
    "\n",
    "# get everything from the first element to the 3rd using list slicing\n",
    "print(\"\\n## sublisting ##\")\n",
    "print(l[0:4])\n",
    "# alternatively...\n",
    "print(l[:4])\n",
    "\n",
    "# get everything from the fourth element to the last using list slicing\n",
    "print(l[4:7])\n",
    "# alternatively...\n",
    "print(l[4:])\n",
    "\n",
    "# get every other number of a list using list slicing \n",
    "print(l[0:7:2])\n",
    "# alternatively...\n",
    "print(l[::2])\n",
    "\n",
    "# Mutability: Change first value using index\n",
    "l[0] = \"f\"\n",
    "\n",
    "# print each value using a for-loop\n",
    "for a in l:\n",
    " print(a, end=\" \")\n",
    "\n",
    "# Mutability: append values\n",
    "l.append(\"b\")\n",
    "print(l)\n",
    "# Mutability: remove values\n",
    "l.remove(\"b\")\n",
    "print(l)\n",
    "# Mutability: remove values, but this time with \"pop\"\n",
    "l.pop(1)\n",
    "print(l)"
   ]
  },
  {
   "cell_type": "markdown",
   "metadata": {},
   "source": [
    "## String Review\n",
    "\n",
    "While we think of strings as data-types that represent text, we can also treat them like immutable \"list\" data-structures.\n",
    "\n",
    "Strings are:\n",
    "* Immutable\n",
    "* Organized, therefore use indices \n",
    "* Indicated using quotes \"\"\n",
    "\n",
    "[String documentation](https://docs.python.org/3/library/stdtypes.html#string-methods)"
   ]
  },
  {
   "cell_type": "code",
   "execution_count": 13,
   "metadata": {},
   "outputs": [
    {
     "name": "stdout",
     "output_type": "stream",
     "text": [
      "abcd \n",
      "\n",
      "length is:  4\n",
      "first element is:  a\n",
      "last element is:  d\n",
      "\n",
      "## substringing ##\n",
      "abc\n",
      "abc\n",
      "ac\n",
      "ac\n",
      "\n",
      "results of concatenation:  abcdef\n"
     ]
    }
   ],
   "source": [
    "# create a string named \"st\"\n",
    "st = \"abcd\"\n",
    "print(st, \"\\n\")\n",
    "\n",
    "# Similarity with lists\n",
    "# get length of string\n",
    "print(\"length is: \", len(st))\n",
    "# get first value using index\n",
    "print(\"first element is: \", st[0])\n",
    "# get the last value using the negative indices\n",
    "print(\"last element is: \", st[-1])\n",
    "\n",
    "# we can also do string slicing or \"substringing\"\n",
    "# get everything from the first element to the 2nd \n",
    "print(\"\\n## substringing ##\")\n",
    "print(st[0:3])\n",
    "# alternatively ...\n",
    "print(st[:3])\n",
    "# skip every other character\n",
    "print(st[0:4:2])\n",
    "# alternatively ...\n",
    "print(st[::2])\n",
    "\n",
    "# Immutability: we cannot change the characters of a string!\n",
    "# st[0] = \"f\"\n",
    "\n",
    "# Immutabiity: we can still concatenate with other strings\n",
    "st += \"ef\"\n",
    "print(\"\\nresults of concatenation: \", st)\n"
   ]
  },
  {
   "cell_type": "markdown",
   "metadata": {},
   "source": [
    "## Sets Review\n",
    "\n",
    "Sets are:\n",
    "* Mutable\n",
    "* Unorganized, therefore do not use indices \n",
    "* Indicated using the curly brackets {}\n",
    "\n",
    "[Sets documentation](https://docs.python.org/3/library/stdtypes.html#set)"
   ]
  },
  {
   "cell_type": "code",
   "execution_count": 14,
   "metadata": {},
   "outputs": [
    {
     "name": "stdout",
     "output_type": "stream",
     "text": [
      "4\n",
      "b\n",
      "c\n",
      "d\n",
      "a\n",
      "{'b', 'd', 'c', 'a'}\n",
      "{'e', ' ', ',', 'r', 'o', 'w', 'd', 'h', 'l'}\n",
      "{'world', 'hello'}\n"
     ]
    }
   ],
   "source": [
    "# create a set named \"s\"\n",
    "s = {\"a\", \"b\", \"c\", \"d\", \"d\"}\n",
    "\n",
    "# print the length of this set\n",
    "print(len(s))\n",
    "# TRY to print an index element (this will fail!)\n",
    "# print(s[0])\n",
    "# looping still works\n",
    "for x in s:\n",
    "  print(x)\n",
    "# creating an empty set\n",
    "eSet = set()\n",
    "\n",
    "# Mutability: append values\n",
    "s.add(\"d\")\n",
    "# Mutability: remove values\n",
    "s.remove(\"d\")\n",
    "\n",
    "# sets type-casting\n",
    "st = \"abcdabcd\"\n",
    "sentence = \"hello world, hello world\"\n",
    "slist = [\"hello\", \"world\", \"hello\", \"world\"]\n",
    "\n",
    "# notice the effects of type-casting on each data-type\n",
    "strSet = set(st)\n",
    "# get unique letters of string\n",
    "print(strSet)\n",
    "\n",
    "sentSet = set(sentence)\n",
    "# get unique letters of string\n",
    "print(sentSet)\n",
    "\n",
    "lstSet = set(slist)\n",
    "# get unique elements of list\n",
    "print(lstSet)"
   ]
  },
  {
   "cell_type": "markdown",
   "metadata": {},
   "source": [
    "## Dictionaries Review\n",
    "\n",
    "Dictionaries are:\n",
    "* Mutable\n",
    "* Unorganized, therefore do not use indices \n",
    "* Indicated using the curly brackets {}\n",
    "* Indicated with key-value pairs seperated by a colon! (ex: \"a\": 1)\n",
    "\n",
    "[Dictionaries documentation](https://docs.python.org/3/tutorial/datastructures.html#dictionaries)"
   ]
  },
  {
   "cell_type": "code",
   "execution_count": 16,
   "metadata": {},
   "outputs": [
    {
     "name": "stdout",
     "output_type": "stream",
     "text": [
      "{'a': 1, 'b': 2, 'c': 3, 'd': 4}\n",
      "4\n",
      "1\n",
      "2\n",
      "a\n",
      "b\n",
      "c\n",
      "d\n",
      "True\n",
      "5 is the val of e\n"
     ]
    }
   ],
   "source": [
    "# create a dictionary named \"d\"\n",
    "d = {\"a\": 1, \"b\": 2, \"c\": 3, \"d\": 4}\n",
    "\n",
    "print(d)\n",
    "# print the length of this dictionary\n",
    "print(len(d))\n",
    "\n",
    "# access value of key \"a\"\n",
    "print(d[\"a\"])\n",
    "# access value of key \"b\"\n",
    "print(d[\"b\"])\n",
    "\n",
    "# loop through dictionary\n",
    "for key in d:\n",
    "  print(key)\n",
    "\n",
    "\n",
    "# Mutability: overwrite values\n",
    "d[\"a\"] = 26\n",
    "# Mutability: append values\n",
    "d[\"e\"] = 5\n",
    "# Mutability: remove values\n",
    "d.pop(\"a\")\n",
    "\n",
    "# d['e'] is the same thing as 5\n",
    "print(d['e'] == 5)\n",
    "\n",
    "# reused in a conditional\n",
    "if d['e'] == 5:\n",
    "  print(\"5 is the val of e\")\n"
   ]
  },
  {
   "cell_type": "markdown",
   "metadata": {},
   "source": [
    "## Tuples\n",
    "\n",
    "Tuples are:\n",
    "* Immutable\n",
    "* Organized, therefore use indices \n",
    "* Indicated using parentheses ()\n",
    "\n",
    "[Tuples documentation](https://docs.python.org/3/tutorial/datastructures.html#tuples-and-sequences)"
   ]
  },
  {
   "cell_type": "code",
   "execution_count": null,
   "metadata": {},
   "outputs": [],
   "source": [
    "# create a set named \"t\"\n",
    "t = (\"a\", \"b\", 3, 4)\n",
    "\n",
    "print(t)\n",
    "# print the length of this tuple\n",
    "print(len(t))\n",
    "\n",
    "# get first value using index\n",
    "print(t[0])\n",
    "# get the last value using the negative indices\n",
    "print(t[-1])\n",
    "\n",
    "# Immutability: we cannot change the elements of a tuple!\n",
    "# t[0] = \"f\"\n",
    "\n",
    "# Immutabiity: we can still concatenate with other tuples\n",
    "t = t + (\"e\", \"f\")\n",
    "print(t)"
   ]
  },
  {
   "cell_type": "markdown",
   "metadata": {},
   "source": [
    "## Membership\n",
    "\n",
    "While we can always make an algorithm that checks for the existence of an item, we can always just use the `in` keyword."
   ]
  },
  {
   "cell_type": "code",
   "execution_count": 10,
   "metadata": {},
   "outputs": [
    {
     "ename": "NameError",
     "evalue": "name 'l' is not defined",
     "output_type": "error",
     "traceback": [
      "\u001b[1;31m---------------------------------------------------------------------------\u001b[0m",
      "\u001b[1;31mNameError\u001b[0m                                 Traceback (most recent call last)",
      "\u001b[1;32mc:\\Users\\saidmf\\Desktop\\TKH\\DS_22\\phase_1\\week_3\\lab\\notes.ipynb Cell 12\u001b[0m in \u001b[0;36m<cell line: 2>\u001b[1;34m()\u001b[0m\n\u001b[0;32m      <a href='vscode-notebook-cell:/c%3A/Users/saidmf/Desktop/TKH/DS_22/phase_1/week_3/lab/notes.ipynb#X33sZmlsZQ%3D%3D?line=0'>1</a>\u001b[0m \u001b[39m# membership in lists\u001b[39;00m\n\u001b[1;32m----> <a href='vscode-notebook-cell:/c%3A/Users/saidmf/Desktop/TKH/DS_22/phase_1/week_3/lab/notes.ipynb#X33sZmlsZQ%3D%3D?line=1'>2</a>\u001b[0m \u001b[39mprint\u001b[39m(l)\n\u001b[0;32m      <a href='vscode-notebook-cell:/c%3A/Users/saidmf/Desktop/TKH/DS_22/phase_1/week_3/lab/notes.ipynb#X33sZmlsZQ%3D%3D?line=2'>3</a>\u001b[0m \u001b[39mprint\u001b[39m(\u001b[39m\"\u001b[39m\u001b[39ma\u001b[39m\u001b[39m\"\u001b[39m \u001b[39min\u001b[39;00m l)\n\u001b[0;32m      <a href='vscode-notebook-cell:/c%3A/Users/saidmf/Desktop/TKH/DS_22/phase_1/week_3/lab/notes.ipynb#X33sZmlsZQ%3D%3D?line=3'>4</a>\u001b[0m \u001b[39mprint\u001b[39m(\u001b[39m\"\u001b[39m\u001b[39mf\u001b[39m\u001b[39m\"\u001b[39m \u001b[39min\u001b[39;00m l)\n",
      "\u001b[1;31mNameError\u001b[0m: name 'l' is not defined"
     ]
    }
   ],
   "source": [
    "# membership in lists\n",
    "print(l)\n",
    "print(\"a\" in l)\n",
    "print(\"f\" in l)\n",
    "\n",
    "# membership in sets\n",
    "print(s)\n",
    "print(\"a\" in s)\n",
    "print(4 in s)\n",
    "\n",
    "# membership in strings\n",
    "print(st)\n",
    "print(\"a\" in st)\n",
    "print(\"f\" in st)\n",
    "\n",
    "\n",
    "# membership in dictionaries (only checks keys!!)\n",
    "print(d)\n",
    "print(1 in d)\n",
    "print(\"f\" in d)"
   ]
  }
 ],
 "metadata": {
  "kernelspec": {
   "display_name": "Python 3.10.7 64-bit",
   "language": "python",
   "name": "python3"
  },
  "language_info": {
   "codemirror_mode": {
    "name": "ipython",
    "version": 3
   },
   "file_extension": ".py",
   "mimetype": "text/x-python",
   "name": "python",
   "nbconvert_exporter": "python",
   "pygments_lexer": "ipython3",
   "version": "3.10.7"
  },
  "orig_nbformat": 4,
  "vscode": {
   "interpreter": {
    "hash": "369f2c481f4da34e4445cda3fffd2e751bd1c4d706f27375911949ba6bb62e1c"
   }
  }
 },
 "nbformat": 4,
 "nbformat_minor": 2
}
