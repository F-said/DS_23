{
 "cells": [
  {
   "cell_type": "markdown",
   "metadata": {},
   "source": [
    "## Review - Azure Databases & Management\n",
    "\n",
    "As we've discussed in our [week 3](https://github.com/The-Knowledge-House/DS_22/blob/main/phase_4/azure/week_3/content.ipynb) content, there are a variety of database solutions designed to help us store a variety of data.\n",
    "\n",
    "However, we've skipped over a vital question: how are these database solutions set up?\n",
    "\n",
    "Let's take a shallow look at how Azure is accessed. If we access the [Azure home portal](https://portal.azure.com/#home) and if we are signed into a Microsoft account, we will be greeted with varying options to purchase subscriptions.\n",
    "\n",
    "A subscription is simply a digital key that enables you to access various services of Azure. This is usually doled out by your organization, which could support multiple Azure subscriptions across the company via a management group.\n",
    "\n",
    "After acquiring a subscription, we then create \"[resource groups](https://learn.microsoft.com/en-us/azure/azure-resource-manager/management/manage-resource-groups-portal)\" which are groupings of various Azure solutions. For example, if you are interested in hosting relational data, you might create a resource group that **only** has **Azure SQL** set up. \n",
    "\n",
    "Next, you might also create a separate resource group that contains **Azure Data Factory** which will allow you to transform data across the transactional resource group into a **data warehouse**. \n",
    "\n",
    "Throughout this course, we will skip over the actual steps needed to create these services and simply talk about use-cases. To get an introduction to creating resource groups & subsequent services, tackle the following [lab](https://microsoftlearning.github.io/DP-900T00A-Azure-Data-Fundamentals/Instructions/Labs/dp900-02-storage-lab.html). "
   ]
  },
  {
   "cell_type": "markdown",
   "metadata": {},
   "source": [
    "Now that we understood the very basics of management, let's take a retrospective and consider the solutions we've gone over so far...\n",
    "\n",
    "* Azure SQL\n",
    "* Azure DB for Open-Source RDBMS\n",
    "* Azure Cosmos DB\n",
    "* Azure Storage\n",
    "\n",
    "Last week we covered how to work with relational data in Azure using `T-SQL`. Consider which database solution this involves. (Remember! Azure DB for Open-Source RDBMS is not guaranteed to be T-SQL).\n",
    "\n",
    "We will now jump ahead to *Azure Storage* to explore how we can store unstructured & semi-structured data."
   ]
  },
  {
   "cell_type": "markdown",
   "metadata": {},
   "source": [
    "## Review - Azure Blob Storage\n",
    "\n",
    "*Blob* (binary large object) files represent a large variety of binary data that could entail:\n",
    "\n",
    "* Images\n",
    "* Videos\n",
    "* Audio\n",
    "* Git History Objects\n",
    "* etc\n",
    "\n",
    "This \"etc\" really encapsulates any and all other forms of data, even `sql`, `json`, and `xml` files. Although keep in mind that these files will be underutilized in a blob storage (unless that is your intent).\n",
    "\n",
    "To host blob data in Azure, we must set up simple Azure Blob Storage using the **Azure Storage** solution.\n",
    "\n",
    "To host blobs, we create **blob containers** that allow us to group related objects together. We can even control who can read & write blobs in our containers.\n",
    "\n",
    "We then **virtual folders** within blob containers which allow us to maintain a *hierarchy* of namespaces. This is similar (but not quite exact!) to the file system on our computer. Keep in mind that these *folders* are *virtual*, as in they are not available for manipulation like common folders (control-access/bulk-operations). They solely exist for organizational purposes.\n",
    "\n",
    "We have 3 types of blobs within this mode of storage:\n",
    "\n",
    "**Block blobs**\n",
    "\n",
    "Used to store discrete, large binary objects that do not change often. Is composed of a set of blocks (each 100 MB large) and has a maximum size of 4.7 TB. Used for large images, videos, etc.\n",
    "\n",
    "**Page blobs**\n",
    "\n",
    "Used for disk storage for virtual machines.\n",
    "\n",
    "**Append blobs**\n",
    "\n",
    "Used for log files.\n"
   ]
  }
 ],
 "metadata": {
  "language_info": {
   "name": "python"
  },
  "orig_nbformat": 4
 },
 "nbformat": 4,
 "nbformat_minor": 2
}
