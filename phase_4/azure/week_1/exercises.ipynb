{
 "cells": [
  {
   "attachments": {},
   "cell_type": "markdown",
   "metadata": {},
   "source": [
    "## Exercises\n",
    "\n",
    "https://classroom.google.com/c/NjEzNjM5NTI4NDky/a/NjE1NDYwNTgxNDEz/details\n",
    "\n",
    "https://classroom.google.com/c/NjEzNjM5NTI4NDky/a/NjE1NDYxNzQxMzA2/details"
   ]
  }
 ],
 "metadata": {
  "language_info": {
   "name": "python"
  },
  "orig_nbformat": 4
 },
 "nbformat": 4,
 "nbformat_minor": 2
}
