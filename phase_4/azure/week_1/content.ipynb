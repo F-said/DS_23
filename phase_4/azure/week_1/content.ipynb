{
 "cells": [
  {
   "attachments": {},
   "cell_type": "markdown",
   "metadata": {},
   "source": [
    "## Intro\n",
    "\n",
    "Welcome to the Summer Azure DP-900 Certification course, and congratulations on taking the next steps in sharpening your skills to become a well-rounded data professional.\n",
    "\n",
    "Throughout the IF fellowship, we've discussed various computational and statistical techniques we can use to analyze, clean, and model data. Throughout this process, however, we've skipped over a crucial question: *how do we get & keep our data*?\n",
    "\n",
    "We've had the luxury of pulling structured open-source datasets, but what do we do when these datasets are not easily available for our enterprise needs?\n",
    "\n",
    "This course aims to address these crucial questions that will allow us to satisfy the most 2 basic levels of our [data science hierarchy of needs](https://hackernoon.imgix.net/hn-images/1*7IMev5xslc9FLxr9hHhpFw.png).\n",
    "\n",
    "This will be an 11-week program that will entail weekly 2-hour meetings on Tuesday's 5 PM - 7 PM EST where we will go through:\n",
    "* Exam question banks\n",
    "* Article discussions\n",
    "* SQL interview problems\n",
    "\n",
    "Asynchronous assignments & material will be given out each week which will contain:\n",
    "* Brief Articles\n",
    "* Modules w/ pertinent exercises\n",
    "* SQL Leetcode questions\n",
    "* Assessment questions\n",
    "\n",
    "All material will be posted to the following [Google Classroom](https://classroom.google.com/w/NjEzNjM5NTI4NDky/t/all) and will be due the following Tuesday.\n",
    "\n",
    "It is recommended that we spend at least 5 hours (at minimum) on asynchronous review material to successfully prepare for the DP-900 exam.\n",
    "\n",
    "**Too Long, Didn't Read**: Think of this course as a weekly book club, specifically a book club where we ingest technical documentation and practice SQL questions. All assignments are due a week after announced. "
   ]
  },
  {
   "attachments": {},
   "cell_type": "markdown",
   "metadata": {},
   "source": [
    "## Goals\n",
    "\n",
    "The goals of this course are the following:\n",
    "\n",
    "* Pass the DP-900 Azure Certification Exam\n",
    "* Understand core data concepts in the context of Azure data services\n",
    "* Optimize and apply relational databases for specific business use-cases\n",
    "* Optimize and apply non-relational databases for specific business use-cases\n",
    "* Confidently utilize enterprise vocabulary to describe Azure solutions\n",
    "* Understand & utilize Microsoft Power BI for data visualization & modeling\n",
    "* Understand & utilize modern Azure ETL/ELT frameworks for data engineering tasks\n",
    "* Confidently implement basic SQL queries  \n",
    "* Understand the essential suite of tools used in the Azure Cloud Computing service \n",
    "\n",
    "**Too Long, Didn't Read**: The goal of this course is to become an authority on data-intensive hosting & applications in the context of Azure Cloud Computing, and most importantly, pass the DP-900 Exam."
   ]
  },
  {
   "attachments": {},
   "cell_type": "markdown",
   "metadata": {},
   "source": [
    "## Syllabus\n",
    "\n",
    "To view the course syllabus, click on the following [link](https://docs.google.com/document/d/1IflkpWw5_rqRzinOI97STEo0eeTdsp4diNRRMTSQjk0/edit?usp=sharing)\n",
    "\n",
    "**Too Long, Didn't Read**: [Click here](https://docs.google.com/document/d/1IflkpWw5_rqRzinOI97STEo0eeTdsp4diNRRMTSQjk0/edit?usp=sharing)"
   ]
  },
  {
   "attachments": {},
   "cell_type": "markdown",
   "metadata": {},
   "source": [
    "## Schedule\n",
    "\n",
    "| Week | Date | Topic                          |\n",
    "|------|------|--------------------------------|\n",
    "| 4.1  | 6/27 | Azure Cert Course Introduction |\n",
    "| 4.2  | 7/4  | Core Data Concepts             |\n",
    "| 4.3  | 7/11 | Core Data Concepts             |\n",
    "| 4.4  | 7/18 | Relational Databases           |\n",
    "| 4.5  | 7/25 | Relational Databases           |\n",
    "| 4.6  | 8/8  | Non-Relational Databases       |\n",
    "| 4.7  | 8/15 | Non-Relational Databases       |\n",
    "| 4.8  | 8/22 | Analytics Workload             |\n",
    "| 4.9  | 9/5  | Analytics Workload             |\n",
    "| 4.10 | 9/12 | Review                         |\n",
    "| 4.11 | 9/19 | Review                         |\n",
    "\n",
    "Above is a simplified view of this Azure course, view the [syllabus](https://docs.google.com/document/d/1IflkpWw5_rqRzinOI97STEo0eeTdsp4diNRRMTSQjk0/edit?usp=sharing) for a more comprehensive picture.\n",
    "\n",
    "**Too Long, Didn't Read**: 11 weeks of core data concepts, relational databases, non-relational databases, analytic workloads, and finally a practice exam before the real deal."
   ]
  },
  {
   "attachments": {},
   "cell_type": "markdown",
   "metadata": {},
   "source": [
    "## Background\n",
    "\n",
    "All organizations at some point in their growth hit a wall of complexity. Allow me to explain anecdotally.\n",
    "\n",
    "In my previous data-intensive employment, I was tasked with designing a file-based data infrastructure containing HIPAA-protected data. \n",
    "\n",
    "This \"database\" had to:\n",
    "* support consistent backups\n",
    "* support security permissions\n",
    "* support automatic workflows\n",
    "* support automatic compliance checks\n",
    "* exist in a file system shared by multiple external projects\n",
    "\n",
    "The tools that I used to accomplish this were:\n",
    "* Python\n",
    "* Bash\n",
    "\n",
    "While this **is theoretically possible** and the project saw some degree of success, I think we can all begin to appreciate the scope and complexity of such a feat when considering how these database features rely on a careful balance of:\n",
    "* isolation\n",
    "* consistency\n",
    "* reliability\n",
    "* and memory constraints\n",
    "\n",
    "Using basic Python just won't cut it. So what is the alternative? Do we:\n",
    "\n",
    "* Keep hacking away at complexity with our working knowledge of Python\n",
    "* Purchase our own server racks, along with a dedicated database administration team\n",
    "* Give up and just go back to file cabinets\n",
    "\n",
    "While I will say that storing data in file cabinets probably provides some degree of security not known since the 1970s, another alternative answer is to get integrated into the *cloud*.\n",
    "\n",
    "Purchasing a cloud computing platform subscription allows us to relegate the complexities of data storage & retrieval to a hypothetically secure platform maintained by a 3rd party. This, in theory, would allow us to focus on what is important to our organization, which might include:\n",
    "\n",
    "* figuring out customer behavior\n",
    "* utilize algorithmic predictors that detect fraud\n",
    "\n",
    "While allowing us to ignore the constraints of:\n",
    "\n",
    "* storing granular customer data\n",
    "* having machines powerful enough to train this algorithmic predictor\n",
    "\n",
    "This course will be our introduction to setting up these cloud solutions in an Azure environment.\n",
    "\n",
    "**Too Long, Didn't Read**: Organizations need simple & cheap solutions for their data needs. Azure is relatively cheaper than buying servers & an entire team to maintain those servers."
   ]
  },
  {
   "attachments": {},
   "cell_type": "markdown",
   "metadata": {},
   "source": [
    "## Next Actions\n",
    "\n",
    "To start this course, view the content posted in the `discussion.ipynb` and the `exercises.ipynb` jupyter notebooks."
   ]
  }
 ],
 "metadata": {
  "language_info": {
   "name": "python"
  },
  "orig_nbformat": 4
 },
 "nbformat": 4,
 "nbformat_minor": 2
}
