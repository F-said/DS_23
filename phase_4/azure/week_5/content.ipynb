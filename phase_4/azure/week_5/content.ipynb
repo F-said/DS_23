{
 "cells": [
  {
   "cell_type": "markdown",
   "metadata": {},
   "source": [
    "## Review - DB Objects\n",
    "\n",
    "In addition to database tables, relational database management systems also often contain auxiliary objects designed to improve the speed of access, encapsulate logic, and even create \"virtual tables.\"\n",
    "\n",
    "We will focus on only 3 objects for the DP-900 Exam:\n",
    "\n",
    "* Views\n",
    "* Index\n",
    "* Stored Procedure"
   ]
  },
  {
   "cell_type": "markdown",
   "metadata": {},
   "source": [
    "## Review - DB Objects - Views\n",
    "\n",
    "By using the \"SELECT\" query in Microsoft SQL Server, we can encapsulate a query into an alias that can be treated as a table.\n",
    "\n",
    "That is, we can create a table that simply pulls rows from existing tables. If you find yourself \"recreating\" a specific query constantly, a good idea would probably be to create a view.\n",
    "\n",
    "These tables are never saved into memory, so any modification to the table will show up in the view & vice-versa!"
   ]
  },
  {
   "cell_type": "code",
   "execution_count": null,
   "metadata": {
    "vscode": {
     "languageId": "sql"
    }
   },
   "outputs": [],
   "source": [
    "CREATE VIEW coffee_orders\n",
    "AS \n",
    "SELECT c.coffee, p.prices\n",
    "FROM coffee c JOIN orders o\n",
    "    ON c.coffee_id = o.coffee_id\n",
    "WHERE c.coffee_type = 'Arabica';"
   ]
  },
  {
   "cell_type": "markdown",
   "metadata": {},
   "source": [
    "## Review - DB Objects - Index\n",
    "\n",
    "When creating a table with a primary key, by default the key is treated as the index.\n",
    "\n",
    "However, what is the index? And how can we create one ourselves?\n",
    "\n",
    "Simply put, an index is an object that orders selected columns of a table into a b-tree which supports `O(logn)` access. Each column value points to other data in the subsequent row, which allows for *speedy* access.\n",
    "\n",
    "Note, it's a bit overkill to create a complex index on a simple table. However, when your table gets fairly large, you would be doing yourself a disservice by not creating an index.\n",
    "\n",
    "We often create indexes on columns we often filter by (`WHERE`)."
   ]
  },
  {
   "cell_type": "code",
   "execution_count": null,
   "metadata": {
    "vscode": {
     "languageId": "sql"
    }
   },
   "outputs": [],
   "source": [
    "CREATE INDEX idx_coffee_type\n",
    "ON coffee(type);"
   ]
  },
  {
   "cell_type": "markdown",
   "metadata": {},
   "source": [
    "## Review - DB Objects - Procedure\n",
    "\n",
    "Think back to Python, when you're creating a piece of code that is reused often you should probably...\n",
    "\n",
    "Create a function.\n",
    "\n",
    "The same applies here, in Microsoft SQL Server, we can create a \"stored procedure.\""
   ]
  },
  {
   "cell_type": "code",
   "execution_count": null,
   "metadata": {
    "vscode": {
     "languageId": "sql"
    }
   },
   "outputs": [],
   "source": [
    "CREATE PROCEDURE ChangePrice\n",
    "    @Type VARCHAR(256)\n",
    "    @Price FLOAT\n",
    "AS \n",
    "UPDATE coffee\n",
    "SET price = @Price\n",
    "WHERE type = @Type"
   ]
  },
  {
   "cell_type": "markdown",
   "metadata": {},
   "source": [
    "## Review - SQL\n",
    "\n",
    "So Edgar F. Codd found fame after writing his seminal paper. Now it was up to computer scientists to accomplish his vision. He laid the groundwork, they implemented it.\n",
    "\n",
    "While all dialects of SQL use ANSI-SQL as a base, they differ slightly in functionality. This includes:\n",
    "\n",
    "* T-SQL - Transact-SQL\n",
    "* pgSQL - PostgreSQL\n",
    "* PL/SQL - Procedural Langauge / SQL (Oracle)\n",
    "\n",
    "Microsoft SQL Server uses T-SQL.\n",
    "\n",
    "The 3 main logical groups of SQL include:\n",
    "\n",
    "1. Data Definition Language\n",
    "2. Data Control Language\n",
    "3. Data Modification Language\n"
   ]
  },
  {
   "cell_type": "markdown",
   "metadata": {},
   "source": [
    "## Review - SQL - DDL\n",
    "\n",
    "DDL is used to create, modify, and remove tables & objects. This includes common statements such as:\n",
    "\n",
    "* CREATE\n",
    "* ALTER\n",
    "* DROP\n",
    "* RENAME\n",
    "\n",
    "While most of these statements are \"one-liners\""
   ]
  },
  {
   "cell_type": "code",
   "execution_count": null,
   "metadata": {
    "vscode": {
     "languageId": "sql"
    }
   },
   "outputs": [],
   "source": [
    "ALTER TABLE name ACTION\n",
    "\n",
    "DROP TABLE name\n",
    "\n",
    "RENAME TABLE name"
   ]
  },
  {
   "cell_type": "markdown",
   "metadata": {},
   "source": [
    "The `CREATE` command however could be more complex depending on what you are creating."
   ]
  },
  {
   "cell_type": "code",
   "execution_count": null,
   "metadata": {
    "vscode": {
     "languageId": "sql"
    }
   },
   "outputs": [],
   "source": [
    "CREATE TABLE coffee(\n",
    "    coffee_id INT PRIMARY KEY,\n",
    "    name VARCHAR(256) NOT NULL,\n",
    "    price DECIMAL NOT NULL\n",
    ")"
   ]
  },
  {
   "cell_type": "markdown",
   "metadata": {},
   "source": [
    "## Review - SQL - DCL\n",
    "\n",
    "DCL is used to manage access to database objects by granting/revoking permissions from users & groups. Can you guess who would use these statements when setting up a database?\n",
    "\n",
    "* GRANT\n",
    "* DENY\n",
    "* REVOKE\n"
   ]
  },
  {
   "cell_type": "code",
   "execution_count": null,
   "metadata": {
    "vscode": {
     "languageId": "sql"
    }
   },
   "outputs": [],
   "source": [
    "GRANT SELECT, INSERT, UPDATE\n",
    "\tON Coffee\n",
    "TO fsaid"
   ]
  },
  {
   "cell_type": "markdown",
   "metadata": {},
   "source": [
    "## Review - SQL - DML\n",
    "\n",
    "DML is used to query, insert, modify, or delete existing rows. This includes:\n",
    "\n",
    "* SELECT\n",
    "* INSERT\n",
    "* UPDATE\n",
    "* DELETE\n",
    "\n",
    "We specify our modification on specific rows by including the `WHERE` clause. This is the classic SQL query."
   ]
  },
  {
   "cell_type": "code",
   "execution_count": null,
   "metadata": {
    "vscode": {
     "languageId": "sql"
    }
   },
   "outputs": [],
   "source": [
    "SELECT *\n",
    "FROM Coffee\n",
    "WHERE name='Robusta';"
   ]
  },
  {
   "cell_type": "markdown",
   "metadata": {},
   "source": [
    "## Review - SQL - DML Extended\n",
    "\n",
    "Furthermore, we can use:\n",
    "\n",
    "* `ORDER BY` to specify the order in which rows should be returned. \n",
    "* `GROUP BY` to group rows of data \n",
    "* `JOIN ... ON ... ` to join multiple tables together"
   ]
  },
  {
   "cell_type": "markdown",
   "metadata": {},
   "source": [
    "## Review - Normalization\n",
    "\n",
    "In addition to the relational model of data, Edgar F. Codd also proposed the concept of `data normalization`. Codd, being a mathematician, proposed a mathematical notation to describe this concept.\n",
    "\n",
    "However, we will work off of first principles.\n",
    "\n",
    "1. Separate each entity into its own table\n",
    "\n",
    "2. Separate each discrete attribute into its own column.\n",
    "\n",
    "3. Uniquely identify each entity instance (row) using a primary key.\n",
    "\n",
    "4. Use foreign key columns to link related entities.\n",
    "\n",
    "### Pros\n",
    "\n",
    "Reduces data redundancy \n",
    "\n",
    "Reduces storage requirements\n",
    "\n",
    "Better security by isolating tables\n",
    "\n",
    "Improves data integrity! Less rows to update, less chance data will be incorrectly updated/lost.\n",
    "\n",
    "### Cons \n",
    "\n",
    "Reduces speed, data needs be joined \n",
    "\n",
    "Increases complexity, more maintenance \n",
    "\n",
    "Does not satisfy analytical/aggregation structures as data structures are inflexible and slow to access"
   ]
  }
 ],
 "metadata": {
  "language_info": {
   "name": "python"
  },
  "orig_nbformat": 4
 },
 "nbformat": 4,
 "nbformat_minor": 2
}
