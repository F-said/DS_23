{
 "cells": [
  {
   "cell_type": "markdown",
   "metadata": {},
   "source": [
    "## Average Volume\n",
    "\n",
    "Utilize the file-reader code from lecture today to calculate the average volume of Amazon stock from 2016-2022."
   ]
  },
  {
   "cell_type": "code",
   "execution_count": null,
   "metadata": {},
   "outputs": [],
   "source": [
    "import csv\n",
    "\n",
    "volume_total = 0\n",
    "\n",
    "with open('data/AMZN.csv', 'r') as file:\n",
    "    # read into CSV\n",
    "    reader = csv.DictReader(file)\n",
    "    for row in reader:\n",
    "        # TODO: write solution here\n",
    "        # delete pass\n",
    "        pass"
   ]
  },
  {
   "cell_type": "markdown",
   "metadata": {},
   "source": [
    "## Bank Class\n",
    "\n",
    "Now that you have your bank account class from the beginning of this class, we will complete this class by writing out your methods. You will keep the balance, interest, age, and transactions attributes as before. We will be able to modify a balance, apply an interest rate, and record account age.\n",
    "\n",
    "### DocString\n",
    "\n",
    "Below your `Attributes` section, you will create a `Methods` section to describe the following new functions:\n",
    "\n",
    "* increase_balance(amount)\n",
    "* decrease_balance(amount)\n",
    "* apply_interest()\n",
    "* get_avg_transactions()\n",
    "\n",
    "## Methods\n",
    "\n",
    "Your methods will do the following:\n",
    "\n",
    "* increase_balance(amount)\n",
    "    * Increase `self.balance` by this amount. Record this positive amount in `self.transactions`.\n",
    "* decrease_balance(amount)\n",
    "    * Decrease `self.balance` by this amount. Record this negative amount in `self.transactions`.\n",
    "* apply_interest()\n",
    "    * Appreciate your balance by the interest rate.\n",
    "* get_avg_transactions()\n",
    "    * Get the average transaction amount of your `self.transactions` list."
   ]
  },
  {
   "cell_type": "code",
   "execution_count": null,
   "metadata": {},
   "outputs": [],
   "source": [
    "class Account:\n",
    "    \"\"\"A class to describe a savings account with interest\n",
    "\n",
    "    Attributes\n",
    "    ----------\n",
    "    balance : float\n",
    "        A float amount representing available funds.\n",
    "    interest : float\n",
    "        A float amount representing percent interest\n",
    "    acc_age : int\n",
    "        An int counting account age in years\n",
    "    transactions : list\n",
    "        A list recording transaction history. Empty by default.\n",
    "\n",
    "    Methods\n",
    "    -------\n",
    "    [write methods here]\n",
    "    \"\"\"\n",
    "    def __init__(self, balance, interest, acc_age, transactions=[]):\n",
    "        self.balance = balance\n",
    "        self.interest = interest\n",
    "        self.acc_age = acc_age\n",
    "        self.transactions = transactions\n",
    "    \n",
    "    def increase_balance(self, amount):\n",
    "        # write solution here\n",
    "        return\n",
    "\n",
    "    def decrease_balance(self, amount):\n",
    "        # write solution here\n",
    "        return\n",
    "    \n",
    "    def apply_interest(self):\n",
    "        # write solution here\n",
    "        return\n",
    "    \n",
    "    def get_avg_transactions(self):\n",
    "        # write solution here\n",
    "        return"
   ]
  },
  {
   "cell_type": "markdown",
   "metadata": {},
   "source": [
    "## Using Bank Account\n",
    "\n",
    "Using the class you've created above, implement the following account activity described by the comments below. After 12 months, apply interest to the account, and calculate the average transactions of the account."
   ]
  },
  {
   "cell_type": "code",
   "execution_count": null,
   "metadata": {},
   "outputs": [],
   "source": [
    "savings = Account(500, 0.025, 1)\n",
    "\n",
    "# Month 1: Added 100 \n",
    "savings.increase_balance(100)\n",
    "\n",
    "# Month 2: Added 150, withdrew 50\n",
    "\n",
    "# Month 3: Added 100\n",
    "\n",
    "# Month 4: No Activity\n",
    "\n",
    "# Month 5: No Activity\n",
    "\n",
    "# Month 6: No Activity\n",
    "\n",
    "# Month 7: Added 200\n",
    "\n",
    "# Month 8: Added 100\n",
    "\n",
    "# Month 9: Added 100\n",
    "\n",
    "# Month 10: Withdrew 500\n",
    "\n",
    "# Month 11: Added 100\n",
    "\n",
    "# Month 12: Added 100\n",
    "\n",
    "# apply interest on current amount\n",
    "\n",
    "# calculate average transactions"
   ]
  }
 ],
 "metadata": {
  "kernelspec": {
   "display_name": "Python 3.10.7 64-bit",
   "language": "python",
   "name": "python3"
  },
  "language_info": {
   "codemirror_mode": {
    "name": "ipython",
    "version": 3
   },
   "file_extension": ".py",
   "mimetype": "text/x-python",
   "name": "python",
   "nbconvert_exporter": "python",
   "pygments_lexer": "ipython3",
   "version": "3.10.7"
  },
  "orig_nbformat": 4,
  "vscode": {
   "interpreter": {
    "hash": "369f2c481f4da34e4445cda3fffd2e751bd1c4d706f27375911949ba6bb62e1c"
   }
  }
 },
 "nbformat": 4,
 "nbformat_minor": 2
}
